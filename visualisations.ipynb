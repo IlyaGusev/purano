{
 "cells": [
  {
   "cell_type": "code",
   "execution_count": 1,
   "metadata": {},
   "outputs": [],
   "source": [
    "%matplotlib inline\n",
    "import matplotlib.pyplot as plt"
   ]
  },
  {
   "cell_type": "code",
   "execution_count": 2,
   "metadata": {},
   "outputs": [],
   "source": [
    "from sqlalchemy import create_engine\n",
    "engine = create_engine(\"sqlite:///news.db\")"
   ]
  },
  {
   "cell_type": "code",
   "execution_count": 3,
   "metadata": {},
   "outputs": [
    {
     "data": {
      "text/html": [
       "<div>\n",
       "<style scoped>\n",
       "    .dataframe tbody tr th:only-of-type {\n",
       "        vertical-align: middle;\n",
       "    }\n",
       "\n",
       "    .dataframe tbody tr th {\n",
       "        vertical-align: top;\n",
       "    }\n",
       "\n",
       "    .dataframe thead th {\n",
       "        text-align: right;\n",
       "    }\n",
       "</style>\n",
       "<table border=\"1\" class=\"dataframe\">\n",
       "  <thead>\n",
       "    <tr style=\"text-align: right;\">\n",
       "      <th></th>\n",
       "      <th>id</th>\n",
       "      <th>url</th>\n",
       "      <th>date</th>\n",
       "      <th>edition</th>\n",
       "      <th>text</th>\n",
       "      <th>title</th>\n",
       "      <th>topics</th>\n",
       "      <th>authors</th>\n",
       "      <th>agency_id</th>\n",
       "    </tr>\n",
       "  </thead>\n",
       "  <tbody>\n",
       "    <tr>\n",
       "      <th>0</th>\n",
       "      <td>1</td>\n",
       "      <td>https://www.sport-interfax.ru/645122</td>\n",
       "      <td>2019-01-05 02:29:00</td>\n",
       "      <td>www.sport-interfax.ru</td>\n",
       "      <td>В финале американская команда встретится с поб...</td>\n",
       "      <td>Сборная России по хоккею проиграла США в полуф...</td>\n",
       "      <td>Спорт</td>\n",
       "      <td>None</td>\n",
       "      <td>1</td>\n",
       "    </tr>\n",
       "    <tr>\n",
       "      <th>1</th>\n",
       "      <td>2</td>\n",
       "      <td>https://www.sport-interfax.ru/645124</td>\n",
       "      <td>2019-01-05 06:34:00</td>\n",
       "      <td>www.sport-interfax.ru</td>\n",
       "      <td>В полуфинале она крупно победила Швейцарию и в...</td>\n",
       "      <td>Сборная Финляндии стала вторым финалистом моло...</td>\n",
       "      <td>Спорт</td>\n",
       "      <td>None</td>\n",
       "      <td>1</td>\n",
       "    </tr>\n",
       "    <tr>\n",
       "      <th>2</th>\n",
       "      <td>3</td>\n",
       "      <td>https://www.interfax.ru/moscow/644812</td>\n",
       "      <td>2019-01-01 04:29:00</td>\n",
       "      <td>None</td>\n",
       "      <td>Ранее источник \"Интерфакса\" сообщил об обрушен...</td>\n",
       "      <td>Собянин пообещал разобраться с причинами инцид...</td>\n",
       "      <td>Москва</td>\n",
       "      <td>None</td>\n",
       "      <td>1</td>\n",
       "    </tr>\n",
       "    <tr>\n",
       "      <th>3</th>\n",
       "      <td>4</td>\n",
       "      <td>https://www.interfax.ru/russia/644813</td>\n",
       "      <td>2019-01-01 05:35:00</td>\n",
       "      <td>None</td>\n",
       "      <td>Москва. 1 января. INTERFAX.RU - Тела пяти чело...</td>\n",
       "      <td>Спасатели извлекли из-под завалов в Магнитогор...</td>\n",
       "      <td>В России</td>\n",
       "      <td>None</td>\n",
       "      <td>1</td>\n",
       "    </tr>\n",
       "    <tr>\n",
       "      <th>4</th>\n",
       "      <td>5</td>\n",
       "      <td>https://www.interfax.ru/russia/644892</td>\n",
       "      <td>2019-01-02 08:47:00</td>\n",
       "      <td>None</td>\n",
       "      <td>Москва. 2 января. INTERFAX.RU - Президент Турк...</td>\n",
       "      <td>Президент Туркменистана выразил соболезнования...</td>\n",
       "      <td>В России</td>\n",
       "      <td>None</td>\n",
       "      <td>1</td>\n",
       "    </tr>\n",
       "  </tbody>\n",
       "</table>\n",
       "</div>"
      ],
      "text/plain": [
       "   id                                    url                 date  \\\n",
       "0   1   https://www.sport-interfax.ru/645122  2019-01-05 02:29:00   \n",
       "1   2   https://www.sport-interfax.ru/645124  2019-01-05 06:34:00   \n",
       "2   3  https://www.interfax.ru/moscow/644812  2019-01-01 04:29:00   \n",
       "3   4  https://www.interfax.ru/russia/644813  2019-01-01 05:35:00   \n",
       "4   5  https://www.interfax.ru/russia/644892  2019-01-02 08:47:00   \n",
       "\n",
       "                 edition                                               text  \\\n",
       "0  www.sport-interfax.ru  В финале американская команда встретится с поб...   \n",
       "1  www.sport-interfax.ru  В полуфинале она крупно победила Швейцарию и в...   \n",
       "2                   None  Ранее источник \"Интерфакса\" сообщил об обрушен...   \n",
       "3                   None  Москва. 1 января. INTERFAX.RU - Тела пяти чело...   \n",
       "4                   None  Москва. 2 января. INTERFAX.RU - Президент Турк...   \n",
       "\n",
       "                                               title    topics authors  \\\n",
       "0  Сборная России по хоккею проиграла США в полуф...     Спорт    None   \n",
       "1  Сборная Финляндии стала вторым финалистом моло...     Спорт    None   \n",
       "2  Собянин пообещал разобраться с причинами инцид...    Москва    None   \n",
       "3  Спасатели извлекли из-под завалов в Магнитогор...  В России    None   \n",
       "4  Президент Туркменистана выразил соболезнования...  В России    None   \n",
       "\n",
       "   agency_id  \n",
       "0          1  \n",
       "1          1  \n",
       "2          1  \n",
       "3          1  \n",
       "4          1  "
      ]
     },
     "execution_count": 3,
     "metadata": {},
     "output_type": "execute_result"
    }
   ],
   "source": [
    "import pandas as pd\n",
    "\n",
    "df = pd.read_sql(\"SELECT * FROM document WHERE date > '2016-01-01 00:00:00'\", engine.raw_connection())\n",
    "df.head()"
   ]
  },
  {
   "cell_type": "code",
   "execution_count": 3,
   "metadata": {},
   "outputs": [
    {
     "data": {
      "text/html": [
       "<div>\n",
       "<style scoped>\n",
       "    .dataframe tbody tr th:only-of-type {\n",
       "        vertical-align: middle;\n",
       "    }\n",
       "\n",
       "    .dataframe tbody tr th {\n",
       "        vertical-align: top;\n",
       "    }\n",
       "\n",
       "    .dataframe thead th {\n",
       "        text-align: right;\n",
       "    }\n",
       "</style>\n",
       "<table border=\"1\" class=\"dataframe\">\n",
       "  <thead>\n",
       "    <tr style=\"text-align: right;\">\n",
       "      <th></th>\n",
       "      <th>date_only</th>\n",
       "      <th>agency_id</th>\n",
       "      <th>count</th>\n",
       "    </tr>\n",
       "  </thead>\n",
       "  <tbody>\n",
       "    <tr>\n",
       "      <td>0</td>\n",
       "      <td>2016-01</td>\n",
       "      <td>1</td>\n",
       "      <td>3697</td>\n",
       "    </tr>\n",
       "    <tr>\n",
       "      <td>1</td>\n",
       "      <td>2016-02</td>\n",
       "      <td>1</td>\n",
       "      <td>3917</td>\n",
       "    </tr>\n",
       "    <tr>\n",
       "      <td>2</td>\n",
       "      <td>2016-03</td>\n",
       "      <td>1</td>\n",
       "      <td>4473</td>\n",
       "    </tr>\n",
       "    <tr>\n",
       "      <td>3</td>\n",
       "      <td>2016-04</td>\n",
       "      <td>1</td>\n",
       "      <td>4861</td>\n",
       "    </tr>\n",
       "    <tr>\n",
       "      <td>4</td>\n",
       "      <td>2016-05</td>\n",
       "      <td>1</td>\n",
       "      <td>4423</td>\n",
       "    </tr>\n",
       "  </tbody>\n",
       "</table>\n",
       "</div>"
      ],
      "text/plain": [
       "  date_only  agency_id  count\n",
       "0   2016-01          1   3697\n",
       "1   2016-02          1   3917\n",
       "2   2016-03          1   4473\n",
       "3   2016-04          1   4861\n",
       "4   2016-05          1   4423"
      ]
     },
     "execution_count": 3,
     "metadata": {},
     "output_type": "execute_result"
    }
   ],
   "source": [
    "df[\"date_only\"] = pd.to_datetime(df[\"date\"]).dt.strftime(\"%Y-%m\")\n",
    "counts = df.groupby([\"date_only\", \"agency_id\"]).count()[\"id\"]\n",
    "counts = pd.DataFrame(counts)\n",
    "counts.reset_index(inplace=True)\n",
    "counts[\"count\"] = counts[\"id\"] \n",
    "counts.drop([\"id\"], inplace=True, axis=1)\n",
    "counts.head()"
   ]
  },
  {
   "cell_type": "code",
   "execution_count": 23,
   "metadata": {
    "scrolled": true
   },
   "outputs": [
    {
     "data": {
      "image/svg+xml": [
       "<?xml version=\"1.0\" encoding=\"utf-8\" standalone=\"no\"?>\n",
       "<!DOCTYPE svg PUBLIC \"-//W3C//DTD SVG 1.1//EN\"\n",
       "  \"http://www.w3.org/Graphics/SVG/1.1/DTD/svg11.dtd\">\n",
       "<!-- Created with matplotlib (http://matplotlib.org/) -->\n",
       "<svg height=\"523.706797pt\" version=\"1.1\" viewBox=\"0 0 689.648216 523.706797\" width=\"689.648216pt\" xmlns=\"http://www.w3.org/2000/svg\" xmlns:xlink=\"http://www.w3.org/1999/xlink\">\n",
       " <defs>\n",
       "  <style type=\"text/css\">\n",
       "*{stroke-linecap:butt;stroke-linejoin:round;}\n",
       "  </style>\n",
       " </defs>\n",
       " <g id=\"figure_1\">\n",
       "  <g id=\"patch_1\">\n",
       "   <path d=\"M 0 523.706797 \n",
       "L 689.648216 523.706797 \n",
       "L 689.648216 0 \n",
       "L 0 0 \n",
       "z\n",
       "\" style=\"fill:#ffffff;\"/>\n",
       "  </g>\n",
       "  <g id=\"axes_1\">\n",
       "   <g id=\"patch_2\">\n",
       "    <path d=\"M 40.504375 474.0525 \n",
       "L 648.068466 474.0525 \n",
       "L 648.068466 13.2 \n",
       "L 40.504375 13.2 \n",
       "z\n",
       "\" style=\"fill:#eaeaf2;\"/>\n",
       "   </g>\n",
       "   <g id=\"matplotlib.axis_1\">\n",
       "    <g id=\"xtick_1\">\n",
       "     <g id=\"text_1\">\n",
       "      <!-- 2016-01 -->\n",
       "      <defs>\n",
       "       <path d=\"M 19.1875 8.296875 \n",
       "L 53.609375 8.296875 \n",
       "L 53.609375 0 \n",
       "L 7.328125 0 \n",
       "L 7.328125 8.296875 \n",
       "Q 12.9375 14.109375 22.625 23.890625 \n",
       "Q 32.328125 33.6875 34.8125 36.53125 \n",
       "Q 39.546875 41.84375 41.421875 45.53125 \n",
       "Q 43.3125 49.21875 43.3125 52.78125 \n",
       "Q 43.3125 58.59375 39.234375 62.25 \n",
       "Q 35.15625 65.921875 28.609375 65.921875 \n",
       "Q 23.96875 65.921875 18.8125 64.3125 \n",
       "Q 13.671875 62.703125 7.8125 59.421875 \n",
       "L 7.8125 69.390625 \n",
       "Q 13.765625 71.78125 18.9375 73 \n",
       "Q 24.125 74.21875 28.421875 74.21875 \n",
       "Q 39.75 74.21875 46.484375 68.546875 \n",
       "Q 53.21875 62.890625 53.21875 53.421875 \n",
       "Q 53.21875 48.921875 51.53125 44.890625 \n",
       "Q 49.859375 40.875 45.40625 35.40625 \n",
       "Q 44.1875 33.984375 37.640625 27.21875 \n",
       "Q 31.109375 20.453125 19.1875 8.296875 \n",
       "z\n",
       "\" id=\"DejaVuSans-32\"/>\n",
       "       <path d=\"M 31.78125 66.40625 \n",
       "Q 24.171875 66.40625 20.328125 58.90625 \n",
       "Q 16.5 51.421875 16.5 36.375 \n",
       "Q 16.5 21.390625 20.328125 13.890625 \n",
       "Q 24.171875 6.390625 31.78125 6.390625 \n",
       "Q 39.453125 6.390625 43.28125 13.890625 \n",
       "Q 47.125 21.390625 47.125 36.375 \n",
       "Q 47.125 51.421875 43.28125 58.90625 \n",
       "Q 39.453125 66.40625 31.78125 66.40625 \n",
       "z\n",
       "M 31.78125 74.21875 \n",
       "Q 44.046875 74.21875 50.515625 64.515625 \n",
       "Q 56.984375 54.828125 56.984375 36.375 \n",
       "Q 56.984375 17.96875 50.515625 8.265625 \n",
       "Q 44.046875 -1.421875 31.78125 -1.421875 \n",
       "Q 19.53125 -1.421875 13.0625 8.265625 \n",
       "Q 6.59375 17.96875 6.59375 36.375 \n",
       "Q 6.59375 54.828125 13.0625 64.515625 \n",
       "Q 19.53125 74.21875 31.78125 74.21875 \n",
       "z\n",
       "\" id=\"DejaVuSans-30\"/>\n",
       "       <path d=\"M 12.40625 8.296875 \n",
       "L 28.515625 8.296875 \n",
       "L 28.515625 63.921875 \n",
       "L 10.984375 60.40625 \n",
       "L 10.984375 69.390625 \n",
       "L 28.421875 72.90625 \n",
       "L 38.28125 72.90625 \n",
       "L 38.28125 8.296875 \n",
       "L 54.390625 8.296875 \n",
       "L 54.390625 0 \n",
       "L 12.40625 0 \n",
       "z\n",
       "\" id=\"DejaVuSans-31\"/>\n",
       "       <path d=\"M 33.015625 40.375 \n",
       "Q 26.375 40.375 22.484375 35.828125 \n",
       "Q 18.609375 31.296875 18.609375 23.390625 \n",
       "Q 18.609375 15.53125 22.484375 10.953125 \n",
       "Q 26.375 6.390625 33.015625 6.390625 \n",
       "Q 39.65625 6.390625 43.53125 10.953125 \n",
       "Q 47.40625 15.53125 47.40625 23.390625 \n",
       "Q 47.40625 31.296875 43.53125 35.828125 \n",
       "Q 39.65625 40.375 33.015625 40.375 \n",
       "z\n",
       "M 52.59375 71.296875 \n",
       "L 52.59375 62.3125 \n",
       "Q 48.875 64.0625 45.09375 64.984375 \n",
       "Q 41.3125 65.921875 37.59375 65.921875 \n",
       "Q 27.828125 65.921875 22.671875 59.328125 \n",
       "Q 17.53125 52.734375 16.796875 39.40625 \n",
       "Q 19.671875 43.65625 24.015625 45.921875 \n",
       "Q 28.375 48.1875 33.59375 48.1875 \n",
       "Q 44.578125 48.1875 50.953125 41.515625 \n",
       "Q 57.328125 34.859375 57.328125 23.390625 \n",
       "Q 57.328125 12.15625 50.6875 5.359375 \n",
       "Q 44.046875 -1.421875 33.015625 -1.421875 \n",
       "Q 20.359375 -1.421875 13.671875 8.265625 \n",
       "Q 6.984375 17.96875 6.984375 36.375 \n",
       "Q 6.984375 53.65625 15.1875 63.9375 \n",
       "Q 23.390625 74.21875 37.203125 74.21875 \n",
       "Q 40.921875 74.21875 44.703125 73.484375 \n",
       "Q 48.484375 72.75 52.59375 71.296875 \n",
       "z\n",
       "\" id=\"DejaVuSans-36\"/>\n",
       "       <path d=\"M 4.890625 31.390625 \n",
       "L 31.203125 31.390625 \n",
       "L 31.203125 23.390625 \n",
       "L 4.890625 23.390625 \n",
       "z\n",
       "\" id=\"DejaVuSans-2d\"/>\n",
       "      </defs>\n",
       "      <g style=\"fill:#262626;\" transform=\"translate(48.625989 506.533047)rotate(-90)scale(0.055 -0.055)\">\n",
       "       <use xlink:href=\"#DejaVuSans-32\"/>\n",
       "       <use x=\"63.623047\" xlink:href=\"#DejaVuSans-30\"/>\n",
       "       <use x=\"127.246094\" xlink:href=\"#DejaVuSans-31\"/>\n",
       "       <use x=\"190.869141\" xlink:href=\"#DejaVuSans-36\"/>\n",
       "       <use x=\"254.492188\" xlink:href=\"#DejaVuSans-2d\"/>\n",
       "       <use x=\"290.576172\" xlink:href=\"#DejaVuSans-30\"/>\n",
       "       <use x=\"354.199219\" xlink:href=\"#DejaVuSans-31\"/>\n",
       "      </g>\n",
       "     </g>\n",
       "    </g>\n",
       "    <g id=\"xtick_2\">\n",
       "     <g id=\"text_2\">\n",
       "      <!-- 2016-02 -->\n",
       "      <g style=\"fill:#262626;\" transform=\"translate(61.833904 506.533047)rotate(-90)scale(0.055 -0.055)\">\n",
       "       <use xlink:href=\"#DejaVuSans-32\"/>\n",
       "       <use x=\"63.623047\" xlink:href=\"#DejaVuSans-30\"/>\n",
       "       <use x=\"127.246094\" xlink:href=\"#DejaVuSans-31\"/>\n",
       "       <use x=\"190.869141\" xlink:href=\"#DejaVuSans-36\"/>\n",
       "       <use x=\"254.492188\" xlink:href=\"#DejaVuSans-2d\"/>\n",
       "       <use x=\"290.576172\" xlink:href=\"#DejaVuSans-30\"/>\n",
       "       <use x=\"354.199219\" xlink:href=\"#DejaVuSans-32\"/>\n",
       "      </g>\n",
       "     </g>\n",
       "    </g>\n",
       "    <g id=\"xtick_3\">\n",
       "     <g id=\"text_3\">\n",
       "      <!-- 2016-03 -->\n",
       "      <defs>\n",
       "       <path d=\"M 40.578125 39.3125 \n",
       "Q 47.65625 37.796875 51.625 33 \n",
       "Q 55.609375 28.21875 55.609375 21.1875 \n",
       "Q 55.609375 10.40625 48.1875 4.484375 \n",
       "Q 40.765625 -1.421875 27.09375 -1.421875 \n",
       "Q 22.515625 -1.421875 17.65625 -0.515625 \n",
       "Q 12.796875 0.390625 7.625 2.203125 \n",
       "L 7.625 11.71875 \n",
       "Q 11.71875 9.328125 16.59375 8.109375 \n",
       "Q 21.484375 6.890625 26.8125 6.890625 \n",
       "Q 36.078125 6.890625 40.9375 10.546875 \n",
       "Q 45.796875 14.203125 45.796875 21.1875 \n",
       "Q 45.796875 27.640625 41.28125 31.265625 \n",
       "Q 36.765625 34.90625 28.71875 34.90625 \n",
       "L 20.21875 34.90625 \n",
       "L 20.21875 43.015625 \n",
       "L 29.109375 43.015625 \n",
       "Q 36.375 43.015625 40.234375 45.921875 \n",
       "Q 44.09375 48.828125 44.09375 54.296875 \n",
       "Q 44.09375 59.90625 40.109375 62.90625 \n",
       "Q 36.140625 65.921875 28.71875 65.921875 \n",
       "Q 24.65625 65.921875 20.015625 65.03125 \n",
       "Q 15.375 64.15625 9.8125 62.3125 \n",
       "L 9.8125 71.09375 \n",
       "Q 15.4375 72.65625 20.34375 73.4375 \n",
       "Q 25.25 74.21875 29.59375 74.21875 \n",
       "Q 40.828125 74.21875 47.359375 69.109375 \n",
       "Q 53.90625 64.015625 53.90625 55.328125 \n",
       "Q 53.90625 49.265625 50.4375 45.09375 \n",
       "Q 46.96875 40.921875 40.578125 39.3125 \n",
       "z\n",
       "\" id=\"DejaVuSans-33\"/>\n",
       "      </defs>\n",
       "      <g style=\"fill:#262626;\" transform=\"translate(75.041819 506.533047)rotate(-90)scale(0.055 -0.055)\">\n",
       "       <use xlink:href=\"#DejaVuSans-32\"/>\n",
       "       <use x=\"63.623047\" xlink:href=\"#DejaVuSans-30\"/>\n",
       "       <use x=\"127.246094\" xlink:href=\"#DejaVuSans-31\"/>\n",
       "       <use x=\"190.869141\" xlink:href=\"#DejaVuSans-36\"/>\n",
       "       <use x=\"254.492188\" xlink:href=\"#DejaVuSans-2d\"/>\n",
       "       <use x=\"290.576172\" xlink:href=\"#DejaVuSans-30\"/>\n",
       "       <use x=\"354.199219\" xlink:href=\"#DejaVuSans-33\"/>\n",
       "      </g>\n",
       "     </g>\n",
       "    </g>\n",
       "    <g id=\"xtick_4\">\n",
       "     <g id=\"text_4\">\n",
       "      <!-- 2016-04 -->\n",
       "      <defs>\n",
       "       <path d=\"M 37.796875 64.3125 \n",
       "L 12.890625 25.390625 \n",
       "L 37.796875 25.390625 \n",
       "z\n",
       "M 35.203125 72.90625 \n",
       "L 47.609375 72.90625 \n",
       "L 47.609375 25.390625 \n",
       "L 58.015625 25.390625 \n",
       "L 58.015625 17.1875 \n",
       "L 47.609375 17.1875 \n",
       "L 47.609375 0 \n",
       "L 37.796875 0 \n",
       "L 37.796875 17.1875 \n",
       "L 4.890625 17.1875 \n",
       "L 4.890625 26.703125 \n",
       "z\n",
       "\" id=\"DejaVuSans-34\"/>\n",
       "      </defs>\n",
       "      <g style=\"fill:#262626;\" transform=\"translate(88.249734 506.533047)rotate(-90)scale(0.055 -0.055)\">\n",
       "       <use xlink:href=\"#DejaVuSans-32\"/>\n",
       "       <use x=\"63.623047\" xlink:href=\"#DejaVuSans-30\"/>\n",
       "       <use x=\"127.246094\" xlink:href=\"#DejaVuSans-31\"/>\n",
       "       <use x=\"190.869141\" xlink:href=\"#DejaVuSans-36\"/>\n",
       "       <use x=\"254.492188\" xlink:href=\"#DejaVuSans-2d\"/>\n",
       "       <use x=\"290.576172\" xlink:href=\"#DejaVuSans-30\"/>\n",
       "       <use x=\"354.199219\" xlink:href=\"#DejaVuSans-34\"/>\n",
       "      </g>\n",
       "     </g>\n",
       "    </g>\n",
       "    <g id=\"xtick_5\">\n",
       "     <g id=\"text_5\">\n",
       "      <!-- 2016-05 -->\n",
       "      <defs>\n",
       "       <path d=\"M 10.796875 72.90625 \n",
       "L 49.515625 72.90625 \n",
       "L 49.515625 64.59375 \n",
       "L 19.828125 64.59375 \n",
       "L 19.828125 46.734375 \n",
       "Q 21.96875 47.46875 24.109375 47.828125 \n",
       "Q 26.265625 48.1875 28.421875 48.1875 \n",
       "Q 40.625 48.1875 47.75 41.5 \n",
       "Q 54.890625 34.8125 54.890625 23.390625 \n",
       "Q 54.890625 11.625 47.5625 5.09375 \n",
       "Q 40.234375 -1.421875 26.90625 -1.421875 \n",
       "Q 22.3125 -1.421875 17.546875 -0.640625 \n",
       "Q 12.796875 0.140625 7.71875 1.703125 \n",
       "L 7.71875 11.625 \n",
       "Q 12.109375 9.234375 16.796875 8.0625 \n",
       "Q 21.484375 6.890625 26.703125 6.890625 \n",
       "Q 35.15625 6.890625 40.078125 11.328125 \n",
       "Q 45.015625 15.765625 45.015625 23.390625 \n",
       "Q 45.015625 31 40.078125 35.4375 \n",
       "Q 35.15625 39.890625 26.703125 39.890625 \n",
       "Q 22.75 39.890625 18.8125 39.015625 \n",
       "Q 14.890625 38.140625 10.796875 36.28125 \n",
       "z\n",
       "\" id=\"DejaVuSans-35\"/>\n",
       "      </defs>\n",
       "      <g style=\"fill:#262626;\" transform=\"translate(101.457649 506.533047)rotate(-90)scale(0.055 -0.055)\">\n",
       "       <use xlink:href=\"#DejaVuSans-32\"/>\n",
       "       <use x=\"63.623047\" xlink:href=\"#DejaVuSans-30\"/>\n",
       "       <use x=\"127.246094\" xlink:href=\"#DejaVuSans-31\"/>\n",
       "       <use x=\"190.869141\" xlink:href=\"#DejaVuSans-36\"/>\n",
       "       <use x=\"254.492188\" xlink:href=\"#DejaVuSans-2d\"/>\n",
       "       <use x=\"290.576172\" xlink:href=\"#DejaVuSans-30\"/>\n",
       "       <use x=\"354.199219\" xlink:href=\"#DejaVuSans-35\"/>\n",
       "      </g>\n",
       "     </g>\n",
       "    </g>\n",
       "    <g id=\"xtick_6\">\n",
       "     <g id=\"text_6\">\n",
       "      <!-- 2016-06 -->\n",
       "      <g style=\"fill:#262626;\" transform=\"translate(114.665564 506.533047)rotate(-90)scale(0.055 -0.055)\">\n",
       "       <use xlink:href=\"#DejaVuSans-32\"/>\n",
       "       <use x=\"63.623047\" xlink:href=\"#DejaVuSans-30\"/>\n",
       "       <use x=\"127.246094\" xlink:href=\"#DejaVuSans-31\"/>\n",
       "       <use x=\"190.869141\" xlink:href=\"#DejaVuSans-36\"/>\n",
       "       <use x=\"254.492188\" xlink:href=\"#DejaVuSans-2d\"/>\n",
       "       <use x=\"290.576172\" xlink:href=\"#DejaVuSans-30\"/>\n",
       "       <use x=\"354.199219\" xlink:href=\"#DejaVuSans-36\"/>\n",
       "      </g>\n",
       "     </g>\n",
       "    </g>\n",
       "    <g id=\"xtick_7\">\n",
       "     <g id=\"text_7\">\n",
       "      <!-- 2016-07 -->\n",
       "      <defs>\n",
       "       <path d=\"M 8.203125 72.90625 \n",
       "L 55.078125 72.90625 \n",
       "L 55.078125 68.703125 \n",
       "L 28.609375 0 \n",
       "L 18.3125 0 \n",
       "L 43.21875 64.59375 \n",
       "L 8.203125 64.59375 \n",
       "z\n",
       "\" id=\"DejaVuSans-37\"/>\n",
       "      </defs>\n",
       "      <g style=\"fill:#262626;\" transform=\"translate(127.873479 506.533047)rotate(-90)scale(0.055 -0.055)\">\n",
       "       <use xlink:href=\"#DejaVuSans-32\"/>\n",
       "       <use x=\"63.623047\" xlink:href=\"#DejaVuSans-30\"/>\n",
       "       <use x=\"127.246094\" xlink:href=\"#DejaVuSans-31\"/>\n",
       "       <use x=\"190.869141\" xlink:href=\"#DejaVuSans-36\"/>\n",
       "       <use x=\"254.492188\" xlink:href=\"#DejaVuSans-2d\"/>\n",
       "       <use x=\"290.576172\" xlink:href=\"#DejaVuSans-30\"/>\n",
       "       <use x=\"354.199219\" xlink:href=\"#DejaVuSans-37\"/>\n",
       "      </g>\n",
       "     </g>\n",
       "    </g>\n",
       "    <g id=\"xtick_8\">\n",
       "     <g id=\"text_8\">\n",
       "      <!-- 2016-08 -->\n",
       "      <defs>\n",
       "       <path d=\"M 31.78125 34.625 \n",
       "Q 24.75 34.625 20.71875 30.859375 \n",
       "Q 16.703125 27.09375 16.703125 20.515625 \n",
       "Q 16.703125 13.921875 20.71875 10.15625 \n",
       "Q 24.75 6.390625 31.78125 6.390625 \n",
       "Q 38.8125 6.390625 42.859375 10.171875 \n",
       "Q 46.921875 13.96875 46.921875 20.515625 \n",
       "Q 46.921875 27.09375 42.890625 30.859375 \n",
       "Q 38.875 34.625 31.78125 34.625 \n",
       "z\n",
       "M 21.921875 38.8125 \n",
       "Q 15.578125 40.375 12.03125 44.71875 \n",
       "Q 8.5 49.078125 8.5 55.328125 \n",
       "Q 8.5 64.0625 14.71875 69.140625 \n",
       "Q 20.953125 74.21875 31.78125 74.21875 \n",
       "Q 42.671875 74.21875 48.875 69.140625 \n",
       "Q 55.078125 64.0625 55.078125 55.328125 \n",
       "Q 55.078125 49.078125 51.53125 44.71875 \n",
       "Q 48 40.375 41.703125 38.8125 \n",
       "Q 48.828125 37.15625 52.796875 32.3125 \n",
       "Q 56.78125 27.484375 56.78125 20.515625 \n",
       "Q 56.78125 9.90625 50.3125 4.234375 \n",
       "Q 43.84375 -1.421875 31.78125 -1.421875 \n",
       "Q 19.734375 -1.421875 13.25 4.234375 \n",
       "Q 6.78125 9.90625 6.78125 20.515625 \n",
       "Q 6.78125 27.484375 10.78125 32.3125 \n",
       "Q 14.796875 37.15625 21.921875 38.8125 \n",
       "z\n",
       "M 18.3125 54.390625 \n",
       "Q 18.3125 48.734375 21.84375 45.5625 \n",
       "Q 25.390625 42.390625 31.78125 42.390625 \n",
       "Q 38.140625 42.390625 41.71875 45.5625 \n",
       "Q 45.3125 48.734375 45.3125 54.390625 \n",
       "Q 45.3125 60.0625 41.71875 63.234375 \n",
       "Q 38.140625 66.40625 31.78125 66.40625 \n",
       "Q 25.390625 66.40625 21.84375 63.234375 \n",
       "Q 18.3125 60.0625 18.3125 54.390625 \n",
       "z\n",
       "\" id=\"DejaVuSans-38\"/>\n",
       "      </defs>\n",
       "      <g style=\"fill:#262626;\" transform=\"translate(141.081394 506.533047)rotate(-90)scale(0.055 -0.055)\">\n",
       "       <use xlink:href=\"#DejaVuSans-32\"/>\n",
       "       <use x=\"63.623047\" xlink:href=\"#DejaVuSans-30\"/>\n",
       "       <use x=\"127.246094\" xlink:href=\"#DejaVuSans-31\"/>\n",
       "       <use x=\"190.869141\" xlink:href=\"#DejaVuSans-36\"/>\n",
       "       <use x=\"254.492188\" xlink:href=\"#DejaVuSans-2d\"/>\n",
       "       <use x=\"290.576172\" xlink:href=\"#DejaVuSans-30\"/>\n",
       "       <use x=\"354.199219\" xlink:href=\"#DejaVuSans-38\"/>\n",
       "      </g>\n",
       "     </g>\n",
       "    </g>\n",
       "    <g id=\"xtick_9\">\n",
       "     <g id=\"text_9\">\n",
       "      <!-- 2016-09 -->\n",
       "      <defs>\n",
       "       <path d=\"M 10.984375 1.515625 \n",
       "L 10.984375 10.5 \n",
       "Q 14.703125 8.734375 18.5 7.8125 \n",
       "Q 22.3125 6.890625 25.984375 6.890625 \n",
       "Q 35.75 6.890625 40.890625 13.453125 \n",
       "Q 46.046875 20.015625 46.78125 33.40625 \n",
       "Q 43.953125 29.203125 39.59375 26.953125 \n",
       "Q 35.25 24.703125 29.984375 24.703125 \n",
       "Q 19.046875 24.703125 12.671875 31.3125 \n",
       "Q 6.296875 37.9375 6.296875 49.421875 \n",
       "Q 6.296875 60.640625 12.9375 67.421875 \n",
       "Q 19.578125 74.21875 30.609375 74.21875 \n",
       "Q 43.265625 74.21875 49.921875 64.515625 \n",
       "Q 56.59375 54.828125 56.59375 36.375 \n",
       "Q 56.59375 19.140625 48.40625 8.859375 \n",
       "Q 40.234375 -1.421875 26.421875 -1.421875 \n",
       "Q 22.703125 -1.421875 18.890625 -0.6875 \n",
       "Q 15.09375 0.046875 10.984375 1.515625 \n",
       "z\n",
       "M 30.609375 32.421875 \n",
       "Q 37.25 32.421875 41.125 36.953125 \n",
       "Q 45.015625 41.5 45.015625 49.421875 \n",
       "Q 45.015625 57.28125 41.125 61.84375 \n",
       "Q 37.25 66.40625 30.609375 66.40625 \n",
       "Q 23.96875 66.40625 20.09375 61.84375 \n",
       "Q 16.21875 57.28125 16.21875 49.421875 \n",
       "Q 16.21875 41.5 20.09375 36.953125 \n",
       "Q 23.96875 32.421875 30.609375 32.421875 \n",
       "z\n",
       "\" id=\"DejaVuSans-39\"/>\n",
       "      </defs>\n",
       "      <g style=\"fill:#262626;\" transform=\"translate(154.289309 506.533047)rotate(-90)scale(0.055 -0.055)\">\n",
       "       <use xlink:href=\"#DejaVuSans-32\"/>\n",
       "       <use x=\"63.623047\" xlink:href=\"#DejaVuSans-30\"/>\n",
       "       <use x=\"127.246094\" xlink:href=\"#DejaVuSans-31\"/>\n",
       "       <use x=\"190.869141\" xlink:href=\"#DejaVuSans-36\"/>\n",
       "       <use x=\"254.492188\" xlink:href=\"#DejaVuSans-2d\"/>\n",
       "       <use x=\"290.576172\" xlink:href=\"#DejaVuSans-30\"/>\n",
       "       <use x=\"354.199219\" xlink:href=\"#DejaVuSans-39\"/>\n",
       "      </g>\n",
       "     </g>\n",
       "    </g>\n",
       "    <g id=\"xtick_10\">\n",
       "     <g id=\"text_10\">\n",
       "      <!-- 2016-10 -->\n",
       "      <g style=\"fill:#262626;\" transform=\"translate(167.497224 506.533047)rotate(-90)scale(0.055 -0.055)\">\n",
       "       <use xlink:href=\"#DejaVuSans-32\"/>\n",
       "       <use x=\"63.623047\" xlink:href=\"#DejaVuSans-30\"/>\n",
       "       <use x=\"127.246094\" xlink:href=\"#DejaVuSans-31\"/>\n",
       "       <use x=\"190.869141\" xlink:href=\"#DejaVuSans-36\"/>\n",
       "       <use x=\"254.492188\" xlink:href=\"#DejaVuSans-2d\"/>\n",
       "       <use x=\"290.576172\" xlink:href=\"#DejaVuSans-31\"/>\n",
       "       <use x=\"354.199219\" xlink:href=\"#DejaVuSans-30\"/>\n",
       "      </g>\n",
       "     </g>\n",
       "    </g>\n",
       "    <g id=\"xtick_11\">\n",
       "     <g id=\"text_11\">\n",
       "      <!-- 2016-11 -->\n",
       "      <g style=\"fill:#262626;\" transform=\"translate(180.705139 506.533047)rotate(-90)scale(0.055 -0.055)\">\n",
       "       <use xlink:href=\"#DejaVuSans-32\"/>\n",
       "       <use x=\"63.623047\" xlink:href=\"#DejaVuSans-30\"/>\n",
       "       <use x=\"127.246094\" xlink:href=\"#DejaVuSans-31\"/>\n",
       "       <use x=\"190.869141\" xlink:href=\"#DejaVuSans-36\"/>\n",
       "       <use x=\"254.492188\" xlink:href=\"#DejaVuSans-2d\"/>\n",
       "       <use x=\"290.576172\" xlink:href=\"#DejaVuSans-31\"/>\n",
       "       <use x=\"354.199219\" xlink:href=\"#DejaVuSans-31\"/>\n",
       "      </g>\n",
       "     </g>\n",
       "    </g>\n",
       "    <g id=\"xtick_12\">\n",
       "     <g id=\"text_12\">\n",
       "      <!-- 2016-12 -->\n",
       "      <g style=\"fill:#262626;\" transform=\"translate(193.913054 506.533047)rotate(-90)scale(0.055 -0.055)\">\n",
       "       <use xlink:href=\"#DejaVuSans-32\"/>\n",
       "       <use x=\"63.623047\" xlink:href=\"#DejaVuSans-30\"/>\n",
       "       <use x=\"127.246094\" xlink:href=\"#DejaVuSans-31\"/>\n",
       "       <use x=\"190.869141\" xlink:href=\"#DejaVuSans-36\"/>\n",
       "       <use x=\"254.492188\" xlink:href=\"#DejaVuSans-2d\"/>\n",
       "       <use x=\"290.576172\" xlink:href=\"#DejaVuSans-31\"/>\n",
       "       <use x=\"354.199219\" xlink:href=\"#DejaVuSans-32\"/>\n",
       "      </g>\n",
       "     </g>\n",
       "    </g>\n",
       "    <g id=\"xtick_13\">\n",
       "     <g id=\"text_13\">\n",
       "      <!-- 2017-01 -->\n",
       "      <g style=\"fill:#262626;\" transform=\"translate(207.120969 506.533047)rotate(-90)scale(0.055 -0.055)\">\n",
       "       <use xlink:href=\"#DejaVuSans-32\"/>\n",
       "       <use x=\"63.623047\" xlink:href=\"#DejaVuSans-30\"/>\n",
       "       <use x=\"127.246094\" xlink:href=\"#DejaVuSans-31\"/>\n",
       "       <use x=\"190.869141\" xlink:href=\"#DejaVuSans-37\"/>\n",
       "       <use x=\"254.492188\" xlink:href=\"#DejaVuSans-2d\"/>\n",
       "       <use x=\"290.576172\" xlink:href=\"#DejaVuSans-30\"/>\n",
       "       <use x=\"354.199219\" xlink:href=\"#DejaVuSans-31\"/>\n",
       "      </g>\n",
       "     </g>\n",
       "    </g>\n",
       "    <g id=\"xtick_14\">\n",
       "     <g id=\"text_14\">\n",
       "      <!-- 2017-02 -->\n",
       "      <g style=\"fill:#262626;\" transform=\"translate(220.328884 506.533047)rotate(-90)scale(0.055 -0.055)\">\n",
       "       <use xlink:href=\"#DejaVuSans-32\"/>\n",
       "       <use x=\"63.623047\" xlink:href=\"#DejaVuSans-30\"/>\n",
       "       <use x=\"127.246094\" xlink:href=\"#DejaVuSans-31\"/>\n",
       "       <use x=\"190.869141\" xlink:href=\"#DejaVuSans-37\"/>\n",
       "       <use x=\"254.492188\" xlink:href=\"#DejaVuSans-2d\"/>\n",
       "       <use x=\"290.576172\" xlink:href=\"#DejaVuSans-30\"/>\n",
       "       <use x=\"354.199219\" xlink:href=\"#DejaVuSans-32\"/>\n",
       "      </g>\n",
       "     </g>\n",
       "    </g>\n",
       "    <g id=\"xtick_15\">\n",
       "     <g id=\"text_15\">\n",
       "      <!-- 2017-03 -->\n",
       "      <g style=\"fill:#262626;\" transform=\"translate(233.536799 506.533047)rotate(-90)scale(0.055 -0.055)\">\n",
       "       <use xlink:href=\"#DejaVuSans-32\"/>\n",
       "       <use x=\"63.623047\" xlink:href=\"#DejaVuSans-30\"/>\n",
       "       <use x=\"127.246094\" xlink:href=\"#DejaVuSans-31\"/>\n",
       "       <use x=\"190.869141\" xlink:href=\"#DejaVuSans-37\"/>\n",
       "       <use x=\"254.492188\" xlink:href=\"#DejaVuSans-2d\"/>\n",
       "       <use x=\"290.576172\" xlink:href=\"#DejaVuSans-30\"/>\n",
       "       <use x=\"354.199219\" xlink:href=\"#DejaVuSans-33\"/>\n",
       "      </g>\n",
       "     </g>\n",
       "    </g>\n",
       "    <g id=\"xtick_16\">\n",
       "     <g id=\"text_16\">\n",
       "      <!-- 2017-04 -->\n",
       "      <g style=\"fill:#262626;\" transform=\"translate(246.744714 506.533047)rotate(-90)scale(0.055 -0.055)\">\n",
       "       <use xlink:href=\"#DejaVuSans-32\"/>\n",
       "       <use x=\"63.623047\" xlink:href=\"#DejaVuSans-30\"/>\n",
       "       <use x=\"127.246094\" xlink:href=\"#DejaVuSans-31\"/>\n",
       "       <use x=\"190.869141\" xlink:href=\"#DejaVuSans-37\"/>\n",
       "       <use x=\"254.492188\" xlink:href=\"#DejaVuSans-2d\"/>\n",
       "       <use x=\"290.576172\" xlink:href=\"#DejaVuSans-30\"/>\n",
       "       <use x=\"354.199219\" xlink:href=\"#DejaVuSans-34\"/>\n",
       "      </g>\n",
       "     </g>\n",
       "    </g>\n",
       "    <g id=\"xtick_17\">\n",
       "     <g id=\"text_17\">\n",
       "      <!-- 2017-05 -->\n",
       "      <g style=\"fill:#262626;\" transform=\"translate(259.952629 506.533047)rotate(-90)scale(0.055 -0.055)\">\n",
       "       <use xlink:href=\"#DejaVuSans-32\"/>\n",
       "       <use x=\"63.623047\" xlink:href=\"#DejaVuSans-30\"/>\n",
       "       <use x=\"127.246094\" xlink:href=\"#DejaVuSans-31\"/>\n",
       "       <use x=\"190.869141\" xlink:href=\"#DejaVuSans-37\"/>\n",
       "       <use x=\"254.492188\" xlink:href=\"#DejaVuSans-2d\"/>\n",
       "       <use x=\"290.576172\" xlink:href=\"#DejaVuSans-30\"/>\n",
       "       <use x=\"354.199219\" xlink:href=\"#DejaVuSans-35\"/>\n",
       "      </g>\n",
       "     </g>\n",
       "    </g>\n",
       "    <g id=\"xtick_18\">\n",
       "     <g id=\"text_18\">\n",
       "      <!-- 2017-06 -->\n",
       "      <g style=\"fill:#262626;\" transform=\"translate(273.160544 506.533047)rotate(-90)scale(0.055 -0.055)\">\n",
       "       <use xlink:href=\"#DejaVuSans-32\"/>\n",
       "       <use x=\"63.623047\" xlink:href=\"#DejaVuSans-30\"/>\n",
       "       <use x=\"127.246094\" xlink:href=\"#DejaVuSans-31\"/>\n",
       "       <use x=\"190.869141\" xlink:href=\"#DejaVuSans-37\"/>\n",
       "       <use x=\"254.492188\" xlink:href=\"#DejaVuSans-2d\"/>\n",
       "       <use x=\"290.576172\" xlink:href=\"#DejaVuSans-30\"/>\n",
       "       <use x=\"354.199219\" xlink:href=\"#DejaVuSans-36\"/>\n",
       "      </g>\n",
       "     </g>\n",
       "    </g>\n",
       "    <g id=\"xtick_19\">\n",
       "     <g id=\"text_19\">\n",
       "      <!-- 2017-07 -->\n",
       "      <g style=\"fill:#262626;\" transform=\"translate(286.368459 506.533047)rotate(-90)scale(0.055 -0.055)\">\n",
       "       <use xlink:href=\"#DejaVuSans-32\"/>\n",
       "       <use x=\"63.623047\" xlink:href=\"#DejaVuSans-30\"/>\n",
       "       <use x=\"127.246094\" xlink:href=\"#DejaVuSans-31\"/>\n",
       "       <use x=\"190.869141\" xlink:href=\"#DejaVuSans-37\"/>\n",
       "       <use x=\"254.492188\" xlink:href=\"#DejaVuSans-2d\"/>\n",
       "       <use x=\"290.576172\" xlink:href=\"#DejaVuSans-30\"/>\n",
       "       <use x=\"354.199219\" xlink:href=\"#DejaVuSans-37\"/>\n",
       "      </g>\n",
       "     </g>\n",
       "    </g>\n",
       "    <g id=\"xtick_20\">\n",
       "     <g id=\"text_20\">\n",
       "      <!-- 2017-08 -->\n",
       "      <g style=\"fill:#262626;\" transform=\"translate(299.576374 506.533047)rotate(-90)scale(0.055 -0.055)\">\n",
       "       <use xlink:href=\"#DejaVuSans-32\"/>\n",
       "       <use x=\"63.623047\" xlink:href=\"#DejaVuSans-30\"/>\n",
       "       <use x=\"127.246094\" xlink:href=\"#DejaVuSans-31\"/>\n",
       "       <use x=\"190.869141\" xlink:href=\"#DejaVuSans-37\"/>\n",
       "       <use x=\"254.492188\" xlink:href=\"#DejaVuSans-2d\"/>\n",
       "       <use x=\"290.576172\" xlink:href=\"#DejaVuSans-30\"/>\n",
       "       <use x=\"354.199219\" xlink:href=\"#DejaVuSans-38\"/>\n",
       "      </g>\n",
       "     </g>\n",
       "    </g>\n",
       "    <g id=\"xtick_21\">\n",
       "     <g id=\"text_21\">\n",
       "      <!-- 2017-09 -->\n",
       "      <g style=\"fill:#262626;\" transform=\"translate(312.784289 506.533047)rotate(-90)scale(0.055 -0.055)\">\n",
       "       <use xlink:href=\"#DejaVuSans-32\"/>\n",
       "       <use x=\"63.623047\" xlink:href=\"#DejaVuSans-30\"/>\n",
       "       <use x=\"127.246094\" xlink:href=\"#DejaVuSans-31\"/>\n",
       "       <use x=\"190.869141\" xlink:href=\"#DejaVuSans-37\"/>\n",
       "       <use x=\"254.492188\" xlink:href=\"#DejaVuSans-2d\"/>\n",
       "       <use x=\"290.576172\" xlink:href=\"#DejaVuSans-30\"/>\n",
       "       <use x=\"354.199219\" xlink:href=\"#DejaVuSans-39\"/>\n",
       "      </g>\n",
       "     </g>\n",
       "    </g>\n",
       "    <g id=\"xtick_22\">\n",
       "     <g id=\"text_22\">\n",
       "      <!-- 2017-10 -->\n",
       "      <g style=\"fill:#262626;\" transform=\"translate(325.992204 506.533047)rotate(-90)scale(0.055 -0.055)\">\n",
       "       <use xlink:href=\"#DejaVuSans-32\"/>\n",
       "       <use x=\"63.623047\" xlink:href=\"#DejaVuSans-30\"/>\n",
       "       <use x=\"127.246094\" xlink:href=\"#DejaVuSans-31\"/>\n",
       "       <use x=\"190.869141\" xlink:href=\"#DejaVuSans-37\"/>\n",
       "       <use x=\"254.492188\" xlink:href=\"#DejaVuSans-2d\"/>\n",
       "       <use x=\"290.576172\" xlink:href=\"#DejaVuSans-31\"/>\n",
       "       <use x=\"354.199219\" xlink:href=\"#DejaVuSans-30\"/>\n",
       "      </g>\n",
       "     </g>\n",
       "    </g>\n",
       "    <g id=\"xtick_23\">\n",
       "     <g id=\"text_23\">\n",
       "      <!-- 2017-11 -->\n",
       "      <g style=\"fill:#262626;\" transform=\"translate(339.200119 506.533047)rotate(-90)scale(0.055 -0.055)\">\n",
       "       <use xlink:href=\"#DejaVuSans-32\"/>\n",
       "       <use x=\"63.623047\" xlink:href=\"#DejaVuSans-30\"/>\n",
       "       <use x=\"127.246094\" xlink:href=\"#DejaVuSans-31\"/>\n",
       "       <use x=\"190.869141\" xlink:href=\"#DejaVuSans-37\"/>\n",
       "       <use x=\"254.492188\" xlink:href=\"#DejaVuSans-2d\"/>\n",
       "       <use x=\"290.576172\" xlink:href=\"#DejaVuSans-31\"/>\n",
       "       <use x=\"354.199219\" xlink:href=\"#DejaVuSans-31\"/>\n",
       "      </g>\n",
       "     </g>\n",
       "    </g>\n",
       "    <g id=\"xtick_24\">\n",
       "     <g id=\"text_24\">\n",
       "      <!-- 2017-12 -->\n",
       "      <g style=\"fill:#262626;\" transform=\"translate(352.408034 506.533047)rotate(-90)scale(0.055 -0.055)\">\n",
       "       <use xlink:href=\"#DejaVuSans-32\"/>\n",
       "       <use x=\"63.623047\" xlink:href=\"#DejaVuSans-30\"/>\n",
       "       <use x=\"127.246094\" xlink:href=\"#DejaVuSans-31\"/>\n",
       "       <use x=\"190.869141\" xlink:href=\"#DejaVuSans-37\"/>\n",
       "       <use x=\"254.492188\" xlink:href=\"#DejaVuSans-2d\"/>\n",
       "       <use x=\"290.576172\" xlink:href=\"#DejaVuSans-31\"/>\n",
       "       <use x=\"354.199219\" xlink:href=\"#DejaVuSans-32\"/>\n",
       "      </g>\n",
       "     </g>\n",
       "    </g>\n",
       "    <g id=\"xtick_25\">\n",
       "     <g id=\"text_25\">\n",
       "      <!-- 2018-01 -->\n",
       "      <g style=\"fill:#262626;\" transform=\"translate(365.615949 506.533047)rotate(-90)scale(0.055 -0.055)\">\n",
       "       <use xlink:href=\"#DejaVuSans-32\"/>\n",
       "       <use x=\"63.623047\" xlink:href=\"#DejaVuSans-30\"/>\n",
       "       <use x=\"127.246094\" xlink:href=\"#DejaVuSans-31\"/>\n",
       "       <use x=\"190.869141\" xlink:href=\"#DejaVuSans-38\"/>\n",
       "       <use x=\"254.492188\" xlink:href=\"#DejaVuSans-2d\"/>\n",
       "       <use x=\"290.576172\" xlink:href=\"#DejaVuSans-30\"/>\n",
       "       <use x=\"354.199219\" xlink:href=\"#DejaVuSans-31\"/>\n",
       "      </g>\n",
       "     </g>\n",
       "    </g>\n",
       "    <g id=\"xtick_26\">\n",
       "     <g id=\"text_26\">\n",
       "      <!-- 2018-02 -->\n",
       "      <g style=\"fill:#262626;\" transform=\"translate(378.823864 506.533047)rotate(-90)scale(0.055 -0.055)\">\n",
       "       <use xlink:href=\"#DejaVuSans-32\"/>\n",
       "       <use x=\"63.623047\" xlink:href=\"#DejaVuSans-30\"/>\n",
       "       <use x=\"127.246094\" xlink:href=\"#DejaVuSans-31\"/>\n",
       "       <use x=\"190.869141\" xlink:href=\"#DejaVuSans-38\"/>\n",
       "       <use x=\"254.492188\" xlink:href=\"#DejaVuSans-2d\"/>\n",
       "       <use x=\"290.576172\" xlink:href=\"#DejaVuSans-30\"/>\n",
       "       <use x=\"354.199219\" xlink:href=\"#DejaVuSans-32\"/>\n",
       "      </g>\n",
       "     </g>\n",
       "    </g>\n",
       "    <g id=\"xtick_27\">\n",
       "     <g id=\"text_27\">\n",
       "      <!-- 2018-03 -->\n",
       "      <g style=\"fill:#262626;\" transform=\"translate(392.031779 506.533047)rotate(-90)scale(0.055 -0.055)\">\n",
       "       <use xlink:href=\"#DejaVuSans-32\"/>\n",
       "       <use x=\"63.623047\" xlink:href=\"#DejaVuSans-30\"/>\n",
       "       <use x=\"127.246094\" xlink:href=\"#DejaVuSans-31\"/>\n",
       "       <use x=\"190.869141\" xlink:href=\"#DejaVuSans-38\"/>\n",
       "       <use x=\"254.492188\" xlink:href=\"#DejaVuSans-2d\"/>\n",
       "       <use x=\"290.576172\" xlink:href=\"#DejaVuSans-30\"/>\n",
       "       <use x=\"354.199219\" xlink:href=\"#DejaVuSans-33\"/>\n",
       "      </g>\n",
       "     </g>\n",
       "    </g>\n",
       "    <g id=\"xtick_28\">\n",
       "     <g id=\"text_28\">\n",
       "      <!-- 2018-04 -->\n",
       "      <g style=\"fill:#262626;\" transform=\"translate(405.239694 506.533047)rotate(-90)scale(0.055 -0.055)\">\n",
       "       <use xlink:href=\"#DejaVuSans-32\"/>\n",
       "       <use x=\"63.623047\" xlink:href=\"#DejaVuSans-30\"/>\n",
       "       <use x=\"127.246094\" xlink:href=\"#DejaVuSans-31\"/>\n",
       "       <use x=\"190.869141\" xlink:href=\"#DejaVuSans-38\"/>\n",
       "       <use x=\"254.492188\" xlink:href=\"#DejaVuSans-2d\"/>\n",
       "       <use x=\"290.576172\" xlink:href=\"#DejaVuSans-30\"/>\n",
       "       <use x=\"354.199219\" xlink:href=\"#DejaVuSans-34\"/>\n",
       "      </g>\n",
       "     </g>\n",
       "    </g>\n",
       "    <g id=\"xtick_29\">\n",
       "     <g id=\"text_29\">\n",
       "      <!-- 2018-05 -->\n",
       "      <g style=\"fill:#262626;\" transform=\"translate(418.447609 506.533047)rotate(-90)scale(0.055 -0.055)\">\n",
       "       <use xlink:href=\"#DejaVuSans-32\"/>\n",
       "       <use x=\"63.623047\" xlink:href=\"#DejaVuSans-30\"/>\n",
       "       <use x=\"127.246094\" xlink:href=\"#DejaVuSans-31\"/>\n",
       "       <use x=\"190.869141\" xlink:href=\"#DejaVuSans-38\"/>\n",
       "       <use x=\"254.492188\" xlink:href=\"#DejaVuSans-2d\"/>\n",
       "       <use x=\"290.576172\" xlink:href=\"#DejaVuSans-30\"/>\n",
       "       <use x=\"354.199219\" xlink:href=\"#DejaVuSans-35\"/>\n",
       "      </g>\n",
       "     </g>\n",
       "    </g>\n",
       "    <g id=\"xtick_30\">\n",
       "     <g id=\"text_30\">\n",
       "      <!-- 2018-06 -->\n",
       "      <g style=\"fill:#262626;\" transform=\"translate(431.655524 506.533047)rotate(-90)scale(0.055 -0.055)\">\n",
       "       <use xlink:href=\"#DejaVuSans-32\"/>\n",
       "       <use x=\"63.623047\" xlink:href=\"#DejaVuSans-30\"/>\n",
       "       <use x=\"127.246094\" xlink:href=\"#DejaVuSans-31\"/>\n",
       "       <use x=\"190.869141\" xlink:href=\"#DejaVuSans-38\"/>\n",
       "       <use x=\"254.492188\" xlink:href=\"#DejaVuSans-2d\"/>\n",
       "       <use x=\"290.576172\" xlink:href=\"#DejaVuSans-30\"/>\n",
       "       <use x=\"354.199219\" xlink:href=\"#DejaVuSans-36\"/>\n",
       "      </g>\n",
       "     </g>\n",
       "    </g>\n",
       "    <g id=\"xtick_31\">\n",
       "     <g id=\"text_31\">\n",
       "      <!-- 2018-07 -->\n",
       "      <g style=\"fill:#262626;\" transform=\"translate(444.863439 506.533047)rotate(-90)scale(0.055 -0.055)\">\n",
       "       <use xlink:href=\"#DejaVuSans-32\"/>\n",
       "       <use x=\"63.623047\" xlink:href=\"#DejaVuSans-30\"/>\n",
       "       <use x=\"127.246094\" xlink:href=\"#DejaVuSans-31\"/>\n",
       "       <use x=\"190.869141\" xlink:href=\"#DejaVuSans-38\"/>\n",
       "       <use x=\"254.492188\" xlink:href=\"#DejaVuSans-2d\"/>\n",
       "       <use x=\"290.576172\" xlink:href=\"#DejaVuSans-30\"/>\n",
       "       <use x=\"354.199219\" xlink:href=\"#DejaVuSans-37\"/>\n",
       "      </g>\n",
       "     </g>\n",
       "    </g>\n",
       "    <g id=\"xtick_32\">\n",
       "     <g id=\"text_32\">\n",
       "      <!-- 2018-08 -->\n",
       "      <g style=\"fill:#262626;\" transform=\"translate(458.071354 506.533047)rotate(-90)scale(0.055 -0.055)\">\n",
       "       <use xlink:href=\"#DejaVuSans-32\"/>\n",
       "       <use x=\"63.623047\" xlink:href=\"#DejaVuSans-30\"/>\n",
       "       <use x=\"127.246094\" xlink:href=\"#DejaVuSans-31\"/>\n",
       "       <use x=\"190.869141\" xlink:href=\"#DejaVuSans-38\"/>\n",
       "       <use x=\"254.492188\" xlink:href=\"#DejaVuSans-2d\"/>\n",
       "       <use x=\"290.576172\" xlink:href=\"#DejaVuSans-30\"/>\n",
       "       <use x=\"354.199219\" xlink:href=\"#DejaVuSans-38\"/>\n",
       "      </g>\n",
       "     </g>\n",
       "    </g>\n",
       "    <g id=\"xtick_33\">\n",
       "     <g id=\"text_33\">\n",
       "      <!-- 2018-09 -->\n",
       "      <g style=\"fill:#262626;\" transform=\"translate(471.279269 506.533047)rotate(-90)scale(0.055 -0.055)\">\n",
       "       <use xlink:href=\"#DejaVuSans-32\"/>\n",
       "       <use x=\"63.623047\" xlink:href=\"#DejaVuSans-30\"/>\n",
       "       <use x=\"127.246094\" xlink:href=\"#DejaVuSans-31\"/>\n",
       "       <use x=\"190.869141\" xlink:href=\"#DejaVuSans-38\"/>\n",
       "       <use x=\"254.492188\" xlink:href=\"#DejaVuSans-2d\"/>\n",
       "       <use x=\"290.576172\" xlink:href=\"#DejaVuSans-30\"/>\n",
       "       <use x=\"354.199219\" xlink:href=\"#DejaVuSans-39\"/>\n",
       "      </g>\n",
       "     </g>\n",
       "    </g>\n",
       "    <g id=\"xtick_34\">\n",
       "     <g id=\"text_34\">\n",
       "      <!-- 2018-10 -->\n",
       "      <g style=\"fill:#262626;\" transform=\"translate(484.487184 506.533047)rotate(-90)scale(0.055 -0.055)\">\n",
       "       <use xlink:href=\"#DejaVuSans-32\"/>\n",
       "       <use x=\"63.623047\" xlink:href=\"#DejaVuSans-30\"/>\n",
       "       <use x=\"127.246094\" xlink:href=\"#DejaVuSans-31\"/>\n",
       "       <use x=\"190.869141\" xlink:href=\"#DejaVuSans-38\"/>\n",
       "       <use x=\"254.492188\" xlink:href=\"#DejaVuSans-2d\"/>\n",
       "       <use x=\"290.576172\" xlink:href=\"#DejaVuSans-31\"/>\n",
       "       <use x=\"354.199219\" xlink:href=\"#DejaVuSans-30\"/>\n",
       "      </g>\n",
       "     </g>\n",
       "    </g>\n",
       "    <g id=\"xtick_35\">\n",
       "     <g id=\"text_35\">\n",
       "      <!-- 2018-11 -->\n",
       "      <g style=\"fill:#262626;\" transform=\"translate(497.695099 506.533047)rotate(-90)scale(0.055 -0.055)\">\n",
       "       <use xlink:href=\"#DejaVuSans-32\"/>\n",
       "       <use x=\"63.623047\" xlink:href=\"#DejaVuSans-30\"/>\n",
       "       <use x=\"127.246094\" xlink:href=\"#DejaVuSans-31\"/>\n",
       "       <use x=\"190.869141\" xlink:href=\"#DejaVuSans-38\"/>\n",
       "       <use x=\"254.492188\" xlink:href=\"#DejaVuSans-2d\"/>\n",
       "       <use x=\"290.576172\" xlink:href=\"#DejaVuSans-31\"/>\n",
       "       <use x=\"354.199219\" xlink:href=\"#DejaVuSans-31\"/>\n",
       "      </g>\n",
       "     </g>\n",
       "    </g>\n",
       "    <g id=\"xtick_36\">\n",
       "     <g id=\"text_36\">\n",
       "      <!-- 2018-12 -->\n",
       "      <g style=\"fill:#262626;\" transform=\"translate(510.903014 506.533047)rotate(-90)scale(0.055 -0.055)\">\n",
       "       <use xlink:href=\"#DejaVuSans-32\"/>\n",
       "       <use x=\"63.623047\" xlink:href=\"#DejaVuSans-30\"/>\n",
       "       <use x=\"127.246094\" xlink:href=\"#DejaVuSans-31\"/>\n",
       "       <use x=\"190.869141\" xlink:href=\"#DejaVuSans-38\"/>\n",
       "       <use x=\"254.492188\" xlink:href=\"#DejaVuSans-2d\"/>\n",
       "       <use x=\"290.576172\" xlink:href=\"#DejaVuSans-31\"/>\n",
       "       <use x=\"354.199219\" xlink:href=\"#DejaVuSans-32\"/>\n",
       "      </g>\n",
       "     </g>\n",
       "    </g>\n",
       "    <g id=\"xtick_37\">\n",
       "     <g id=\"text_37\">\n",
       "      <!-- 2019-01 -->\n",
       "      <g style=\"fill:#262626;\" transform=\"translate(524.110929 506.533047)rotate(-90)scale(0.055 -0.055)\">\n",
       "       <use xlink:href=\"#DejaVuSans-32\"/>\n",
       "       <use x=\"63.623047\" xlink:href=\"#DejaVuSans-30\"/>\n",
       "       <use x=\"127.246094\" xlink:href=\"#DejaVuSans-31\"/>\n",
       "       <use x=\"190.869141\" xlink:href=\"#DejaVuSans-39\"/>\n",
       "       <use x=\"254.492188\" xlink:href=\"#DejaVuSans-2d\"/>\n",
       "       <use x=\"290.576172\" xlink:href=\"#DejaVuSans-30\"/>\n",
       "       <use x=\"354.199219\" xlink:href=\"#DejaVuSans-31\"/>\n",
       "      </g>\n",
       "     </g>\n",
       "    </g>\n",
       "    <g id=\"xtick_38\">\n",
       "     <g id=\"text_38\">\n",
       "      <!-- 2019-02 -->\n",
       "      <g style=\"fill:#262626;\" transform=\"translate(537.318844 506.533047)rotate(-90)scale(0.055 -0.055)\">\n",
       "       <use xlink:href=\"#DejaVuSans-32\"/>\n",
       "       <use x=\"63.623047\" xlink:href=\"#DejaVuSans-30\"/>\n",
       "       <use x=\"127.246094\" xlink:href=\"#DejaVuSans-31\"/>\n",
       "       <use x=\"190.869141\" xlink:href=\"#DejaVuSans-39\"/>\n",
       "       <use x=\"254.492188\" xlink:href=\"#DejaVuSans-2d\"/>\n",
       "       <use x=\"290.576172\" xlink:href=\"#DejaVuSans-30\"/>\n",
       "       <use x=\"354.199219\" xlink:href=\"#DejaVuSans-32\"/>\n",
       "      </g>\n",
       "     </g>\n",
       "    </g>\n",
       "    <g id=\"xtick_39\">\n",
       "     <g id=\"text_39\">\n",
       "      <!-- 2019-03 -->\n",
       "      <g style=\"fill:#262626;\" transform=\"translate(550.526759 506.533047)rotate(-90)scale(0.055 -0.055)\">\n",
       "       <use xlink:href=\"#DejaVuSans-32\"/>\n",
       "       <use x=\"63.623047\" xlink:href=\"#DejaVuSans-30\"/>\n",
       "       <use x=\"127.246094\" xlink:href=\"#DejaVuSans-31\"/>\n",
       "       <use x=\"190.869141\" xlink:href=\"#DejaVuSans-39\"/>\n",
       "       <use x=\"254.492188\" xlink:href=\"#DejaVuSans-2d\"/>\n",
       "       <use x=\"290.576172\" xlink:href=\"#DejaVuSans-30\"/>\n",
       "       <use x=\"354.199219\" xlink:href=\"#DejaVuSans-33\"/>\n",
       "      </g>\n",
       "     </g>\n",
       "    </g>\n",
       "    <g id=\"xtick_40\">\n",
       "     <g id=\"text_40\">\n",
       "      <!-- 2019-04 -->\n",
       "      <g style=\"fill:#262626;\" transform=\"translate(563.734674 506.533047)rotate(-90)scale(0.055 -0.055)\">\n",
       "       <use xlink:href=\"#DejaVuSans-32\"/>\n",
       "       <use x=\"63.623047\" xlink:href=\"#DejaVuSans-30\"/>\n",
       "       <use x=\"127.246094\" xlink:href=\"#DejaVuSans-31\"/>\n",
       "       <use x=\"190.869141\" xlink:href=\"#DejaVuSans-39\"/>\n",
       "       <use x=\"254.492188\" xlink:href=\"#DejaVuSans-2d\"/>\n",
       "       <use x=\"290.576172\" xlink:href=\"#DejaVuSans-30\"/>\n",
       "       <use x=\"354.199219\" xlink:href=\"#DejaVuSans-34\"/>\n",
       "      </g>\n",
       "     </g>\n",
       "    </g>\n",
       "    <g id=\"xtick_41\">\n",
       "     <g id=\"text_41\">\n",
       "      <!-- 2019-05 -->\n",
       "      <g style=\"fill:#262626;\" transform=\"translate(576.942589 506.533047)rotate(-90)scale(0.055 -0.055)\">\n",
       "       <use xlink:href=\"#DejaVuSans-32\"/>\n",
       "       <use x=\"63.623047\" xlink:href=\"#DejaVuSans-30\"/>\n",
       "       <use x=\"127.246094\" xlink:href=\"#DejaVuSans-31\"/>\n",
       "       <use x=\"190.869141\" xlink:href=\"#DejaVuSans-39\"/>\n",
       "       <use x=\"254.492188\" xlink:href=\"#DejaVuSans-2d\"/>\n",
       "       <use x=\"290.576172\" xlink:href=\"#DejaVuSans-30\"/>\n",
       "       <use x=\"354.199219\" xlink:href=\"#DejaVuSans-35\"/>\n",
       "      </g>\n",
       "     </g>\n",
       "    </g>\n",
       "    <g id=\"xtick_42\">\n",
       "     <g id=\"text_42\">\n",
       "      <!-- 2019-06 -->\n",
       "      <g style=\"fill:#262626;\" transform=\"translate(590.150504 506.533047)rotate(-90)scale(0.055 -0.055)\">\n",
       "       <use xlink:href=\"#DejaVuSans-32\"/>\n",
       "       <use x=\"63.623047\" xlink:href=\"#DejaVuSans-30\"/>\n",
       "       <use x=\"127.246094\" xlink:href=\"#DejaVuSans-31\"/>\n",
       "       <use x=\"190.869141\" xlink:href=\"#DejaVuSans-39\"/>\n",
       "       <use x=\"254.492188\" xlink:href=\"#DejaVuSans-2d\"/>\n",
       "       <use x=\"290.576172\" xlink:href=\"#DejaVuSans-30\"/>\n",
       "       <use x=\"354.199219\" xlink:href=\"#DejaVuSans-36\"/>\n",
       "      </g>\n",
       "     </g>\n",
       "    </g>\n",
       "    <g id=\"xtick_43\">\n",
       "     <g id=\"text_43\">\n",
       "      <!-- 2019-07 -->\n",
       "      <g style=\"fill:#262626;\" transform=\"translate(603.35842 506.533047)rotate(-90)scale(0.055 -0.055)\">\n",
       "       <use xlink:href=\"#DejaVuSans-32\"/>\n",
       "       <use x=\"63.623047\" xlink:href=\"#DejaVuSans-30\"/>\n",
       "       <use x=\"127.246094\" xlink:href=\"#DejaVuSans-31\"/>\n",
       "       <use x=\"190.869141\" xlink:href=\"#DejaVuSans-39\"/>\n",
       "       <use x=\"254.492188\" xlink:href=\"#DejaVuSans-2d\"/>\n",
       "       <use x=\"290.576172\" xlink:href=\"#DejaVuSans-30\"/>\n",
       "       <use x=\"354.199219\" xlink:href=\"#DejaVuSans-37\"/>\n",
       "      </g>\n",
       "     </g>\n",
       "    </g>\n",
       "    <g id=\"xtick_44\">\n",
       "     <g id=\"text_44\">\n",
       "      <!-- 2019-08 -->\n",
       "      <g style=\"fill:#262626;\" transform=\"translate(616.566335 506.533047)rotate(-90)scale(0.055 -0.055)\">\n",
       "       <use xlink:href=\"#DejaVuSans-32\"/>\n",
       "       <use x=\"63.623047\" xlink:href=\"#DejaVuSans-30\"/>\n",
       "       <use x=\"127.246094\" xlink:href=\"#DejaVuSans-31\"/>\n",
       "       <use x=\"190.869141\" xlink:href=\"#DejaVuSans-39\"/>\n",
       "       <use x=\"254.492188\" xlink:href=\"#DejaVuSans-2d\"/>\n",
       "       <use x=\"290.576172\" xlink:href=\"#DejaVuSans-30\"/>\n",
       "       <use x=\"354.199219\" xlink:href=\"#DejaVuSans-38\"/>\n",
       "      </g>\n",
       "     </g>\n",
       "    </g>\n",
       "    <g id=\"xtick_45\">\n",
       "     <g id=\"text_45\">\n",
       "      <!-- 2019-09 -->\n",
       "      <g style=\"fill:#262626;\" transform=\"translate(629.77425 506.533047)rotate(-90)scale(0.055 -0.055)\">\n",
       "       <use xlink:href=\"#DejaVuSans-32\"/>\n",
       "       <use x=\"63.623047\" xlink:href=\"#DejaVuSans-30\"/>\n",
       "       <use x=\"127.246094\" xlink:href=\"#DejaVuSans-31\"/>\n",
       "       <use x=\"190.869141\" xlink:href=\"#DejaVuSans-39\"/>\n",
       "       <use x=\"254.492188\" xlink:href=\"#DejaVuSans-2d\"/>\n",
       "       <use x=\"290.576172\" xlink:href=\"#DejaVuSans-30\"/>\n",
       "       <use x=\"354.199219\" xlink:href=\"#DejaVuSans-39\"/>\n",
       "      </g>\n",
       "     </g>\n",
       "    </g>\n",
       "    <g id=\"xtick_46\">\n",
       "     <g id=\"text_46\">\n",
       "      <!-- 2019-10 -->\n",
       "      <g style=\"fill:#262626;\" transform=\"translate(642.982165 506.533047)rotate(-90)scale(0.055 -0.055)\">\n",
       "       <use xlink:href=\"#DejaVuSans-32\"/>\n",
       "       <use x=\"63.623047\" xlink:href=\"#DejaVuSans-30\"/>\n",
       "       <use x=\"127.246094\" xlink:href=\"#DejaVuSans-31\"/>\n",
       "       <use x=\"190.869141\" xlink:href=\"#DejaVuSans-39\"/>\n",
       "       <use x=\"254.492188\" xlink:href=\"#DejaVuSans-2d\"/>\n",
       "       <use x=\"290.576172\" xlink:href=\"#DejaVuSans-31\"/>\n",
       "       <use x=\"354.199219\" xlink:href=\"#DejaVuSans-30\"/>\n",
       "      </g>\n",
       "     </g>\n",
       "    </g>\n",
       "    <g id=\"text_47\">\n",
       "     <!-- date_only -->\n",
       "     <defs>\n",
       "      <path d=\"M 45.40625 46.390625 \n",
       "L 45.40625 75.984375 \n",
       "L 54.390625 75.984375 \n",
       "L 54.390625 0 \n",
       "L 45.40625 0 \n",
       "L 45.40625 8.203125 \n",
       "Q 42.578125 3.328125 38.25 0.953125 \n",
       "Q 33.9375 -1.421875 27.875 -1.421875 \n",
       "Q 17.96875 -1.421875 11.734375 6.484375 \n",
       "Q 5.515625 14.40625 5.515625 27.296875 \n",
       "Q 5.515625 40.1875 11.734375 48.09375 \n",
       "Q 17.96875 56 27.875 56 \n",
       "Q 33.9375 56 38.25 53.625 \n",
       "Q 42.578125 51.265625 45.40625 46.390625 \n",
       "z\n",
       "M 14.796875 27.296875 \n",
       "Q 14.796875 17.390625 18.875 11.75 \n",
       "Q 22.953125 6.109375 30.078125 6.109375 \n",
       "Q 37.203125 6.109375 41.296875 11.75 \n",
       "Q 45.40625 17.390625 45.40625 27.296875 \n",
       "Q 45.40625 37.203125 41.296875 42.84375 \n",
       "Q 37.203125 48.484375 30.078125 48.484375 \n",
       "Q 22.953125 48.484375 18.875 42.84375 \n",
       "Q 14.796875 37.203125 14.796875 27.296875 \n",
       "z\n",
       "\" id=\"DejaVuSans-64\"/>\n",
       "      <path d=\"M 34.28125 27.484375 \n",
       "Q 23.390625 27.484375 19.1875 25 \n",
       "Q 14.984375 22.515625 14.984375 16.5 \n",
       "Q 14.984375 11.71875 18.140625 8.90625 \n",
       "Q 21.296875 6.109375 26.703125 6.109375 \n",
       "Q 34.1875 6.109375 38.703125 11.40625 \n",
       "Q 43.21875 16.703125 43.21875 25.484375 \n",
       "L 43.21875 27.484375 \n",
       "z\n",
       "M 52.203125 31.203125 \n",
       "L 52.203125 0 \n",
       "L 43.21875 0 \n",
       "L 43.21875 8.296875 \n",
       "Q 40.140625 3.328125 35.546875 0.953125 \n",
       "Q 30.953125 -1.421875 24.3125 -1.421875 \n",
       "Q 15.921875 -1.421875 10.953125 3.296875 \n",
       "Q 6 8.015625 6 15.921875 \n",
       "Q 6 25.140625 12.171875 29.828125 \n",
       "Q 18.359375 34.515625 30.609375 34.515625 \n",
       "L 43.21875 34.515625 \n",
       "L 43.21875 35.40625 \n",
       "Q 43.21875 41.609375 39.140625 45 \n",
       "Q 35.0625 48.390625 27.6875 48.390625 \n",
       "Q 23 48.390625 18.546875 47.265625 \n",
       "Q 14.109375 46.140625 10.015625 43.890625 \n",
       "L 10.015625 52.203125 \n",
       "Q 14.9375 54.109375 19.578125 55.046875 \n",
       "Q 24.21875 56 28.609375 56 \n",
       "Q 40.484375 56 46.34375 49.84375 \n",
       "Q 52.203125 43.703125 52.203125 31.203125 \n",
       "z\n",
       "\" id=\"DejaVuSans-61\"/>\n",
       "      <path d=\"M 18.3125 70.21875 \n",
       "L 18.3125 54.6875 \n",
       "L 36.8125 54.6875 \n",
       "L 36.8125 47.703125 \n",
       "L 18.3125 47.703125 \n",
       "L 18.3125 18.015625 \n",
       "Q 18.3125 11.328125 20.140625 9.421875 \n",
       "Q 21.96875 7.515625 27.59375 7.515625 \n",
       "L 36.8125 7.515625 \n",
       "L 36.8125 0 \n",
       "L 27.59375 0 \n",
       "Q 17.1875 0 13.234375 3.875 \n",
       "Q 9.28125 7.765625 9.28125 18.015625 \n",
       "L 9.28125 47.703125 \n",
       "L 2.6875 47.703125 \n",
       "L 2.6875 54.6875 \n",
       "L 9.28125 54.6875 \n",
       "L 9.28125 70.21875 \n",
       "z\n",
       "\" id=\"DejaVuSans-74\"/>\n",
       "      <path d=\"M 56.203125 29.59375 \n",
       "L 56.203125 25.203125 \n",
       "L 14.890625 25.203125 \n",
       "Q 15.484375 15.921875 20.484375 11.0625 \n",
       "Q 25.484375 6.203125 34.421875 6.203125 \n",
       "Q 39.59375 6.203125 44.453125 7.46875 \n",
       "Q 49.3125 8.734375 54.109375 11.28125 \n",
       "L 54.109375 2.78125 \n",
       "Q 49.265625 0.734375 44.1875 -0.34375 \n",
       "Q 39.109375 -1.421875 33.890625 -1.421875 \n",
       "Q 20.796875 -1.421875 13.15625 6.1875 \n",
       "Q 5.515625 13.8125 5.515625 26.8125 \n",
       "Q 5.515625 40.234375 12.765625 48.109375 \n",
       "Q 20.015625 56 32.328125 56 \n",
       "Q 43.359375 56 49.78125 48.890625 \n",
       "Q 56.203125 41.796875 56.203125 29.59375 \n",
       "z\n",
       "M 47.21875 32.234375 \n",
       "Q 47.125 39.59375 43.09375 43.984375 \n",
       "Q 39.0625 48.390625 32.421875 48.390625 \n",
       "Q 24.90625 48.390625 20.390625 44.140625 \n",
       "Q 15.875 39.890625 15.1875 32.171875 \n",
       "z\n",
       "\" id=\"DejaVuSans-65\"/>\n",
       "      <path d=\"M 50.984375 -16.609375 \n",
       "L 50.984375 -23.578125 \n",
       "L -0.984375 -23.578125 \n",
       "L -0.984375 -16.609375 \n",
       "z\n",
       "\" id=\"DejaVuSans-5f\"/>\n",
       "      <path d=\"M 30.609375 48.390625 \n",
       "Q 23.390625 48.390625 19.1875 42.75 \n",
       "Q 14.984375 37.109375 14.984375 27.296875 \n",
       "Q 14.984375 17.484375 19.15625 11.84375 \n",
       "Q 23.34375 6.203125 30.609375 6.203125 \n",
       "Q 37.796875 6.203125 41.984375 11.859375 \n",
       "Q 46.1875 17.53125 46.1875 27.296875 \n",
       "Q 46.1875 37.015625 41.984375 42.703125 \n",
       "Q 37.796875 48.390625 30.609375 48.390625 \n",
       "z\n",
       "M 30.609375 56 \n",
       "Q 42.328125 56 49.015625 48.375 \n",
       "Q 55.71875 40.765625 55.71875 27.296875 \n",
       "Q 55.71875 13.875 49.015625 6.21875 \n",
       "Q 42.328125 -1.421875 30.609375 -1.421875 \n",
       "Q 18.84375 -1.421875 12.171875 6.21875 \n",
       "Q 5.515625 13.875 5.515625 27.296875 \n",
       "Q 5.515625 40.765625 12.171875 48.375 \n",
       "Q 18.84375 56 30.609375 56 \n",
       "z\n",
       "\" id=\"DejaVuSans-6f\"/>\n",
       "      <path d=\"M 54.890625 33.015625 \n",
       "L 54.890625 0 \n",
       "L 45.90625 0 \n",
       "L 45.90625 32.71875 \n",
       "Q 45.90625 40.484375 42.875 44.328125 \n",
       "Q 39.84375 48.1875 33.796875 48.1875 \n",
       "Q 26.515625 48.1875 22.3125 43.546875 \n",
       "Q 18.109375 38.921875 18.109375 30.90625 \n",
       "L 18.109375 0 \n",
       "L 9.078125 0 \n",
       "L 9.078125 54.6875 \n",
       "L 18.109375 54.6875 \n",
       "L 18.109375 46.1875 \n",
       "Q 21.34375 51.125 25.703125 53.5625 \n",
       "Q 30.078125 56 35.796875 56 \n",
       "Q 45.21875 56 50.046875 50.171875 \n",
       "Q 54.890625 44.34375 54.890625 33.015625 \n",
       "z\n",
       "\" id=\"DejaVuSans-6e\"/>\n",
       "      <path d=\"M 9.421875 75.984375 \n",
       "L 18.40625 75.984375 \n",
       "L 18.40625 0 \n",
       "L 9.421875 0 \n",
       "z\n",
       "\" id=\"DejaVuSans-6c\"/>\n",
       "      <path d=\"M 32.171875 -5.078125 \n",
       "Q 28.375 -14.84375 24.75 -17.8125 \n",
       "Q 21.140625 -20.796875 15.09375 -20.796875 \n",
       "L 7.90625 -20.796875 \n",
       "L 7.90625 -13.28125 \n",
       "L 13.1875 -13.28125 \n",
       "Q 16.890625 -13.28125 18.9375 -11.515625 \n",
       "Q 21 -9.765625 23.484375 -3.21875 \n",
       "L 25.09375 0.875 \n",
       "L 2.984375 54.6875 \n",
       "L 12.5 54.6875 \n",
       "L 29.59375 11.921875 \n",
       "L 46.6875 54.6875 \n",
       "L 56.203125 54.6875 \n",
       "z\n",
       "\" id=\"DejaVuSans-79\"/>\n",
       "     </defs>\n",
       "     <g style=\"fill:#262626;\" transform=\"translate(329.675483 515.092109)scale(0.06 -0.06)\">\n",
       "      <use xlink:href=\"#DejaVuSans-64\"/>\n",
       "      <use x=\"63.476562\" xlink:href=\"#DejaVuSans-61\"/>\n",
       "      <use x=\"124.755859\" xlink:href=\"#DejaVuSans-74\"/>\n",
       "      <use x=\"163.964844\" xlink:href=\"#DejaVuSans-65\"/>\n",
       "      <use x=\"225.488281\" xlink:href=\"#DejaVuSans-5f\"/>\n",
       "      <use x=\"275.488281\" xlink:href=\"#DejaVuSans-6f\"/>\n",
       "      <use x=\"336.669922\" xlink:href=\"#DejaVuSans-6e\"/>\n",
       "      <use x=\"400.048828\" xlink:href=\"#DejaVuSans-6c\"/>\n",
       "      <use x=\"427.832031\" xlink:href=\"#DejaVuSans-79\"/>\n",
       "     </g>\n",
       "    </g>\n",
       "   </g>\n",
       "   <g id=\"matplotlib.axis_2\">\n",
       "    <g id=\"ytick_1\">\n",
       "     <g id=\"line2d_1\">\n",
       "      <path clip-path=\"url(#pcf2451c0dd)\" d=\"M 40.504375 474.0525 \n",
       "L 648.068466 474.0525 \n",
       "\" style=\"fill:none;stroke:#ffffff;stroke-linecap:round;\"/>\n",
       "     </g>\n",
       "     <g id=\"text_48\">\n",
       "      <!-- 0 -->\n",
       "      <g style=\"fill:#262626;\" transform=\"translate(27.505 476.14207)scale(0.055 -0.055)\">\n",
       "       <use xlink:href=\"#DejaVuSans-30\"/>\n",
       "      </g>\n",
       "     </g>\n",
       "    </g>\n",
       "    <g id=\"ytick_2\">\n",
       "     <g id=\"line2d_2\">\n",
       "      <path clip-path=\"url(#pcf2451c0dd)\" d=\"M 40.504375 386.725174 \n",
       "L 648.068466 386.725174 \n",
       "\" style=\"fill:none;stroke:#ffffff;stroke-linecap:round;\"/>\n",
       "     </g>\n",
       "     <g id=\"text_49\">\n",
       "      <!-- 1000 -->\n",
       "      <g style=\"fill:#262626;\" transform=\"translate(17.006875 388.814744)scale(0.055 -0.055)\">\n",
       "       <use xlink:href=\"#DejaVuSans-31\"/>\n",
       "       <use x=\"63.623047\" xlink:href=\"#DejaVuSans-30\"/>\n",
       "       <use x=\"127.246094\" xlink:href=\"#DejaVuSans-30\"/>\n",
       "       <use x=\"190.869141\" xlink:href=\"#DejaVuSans-30\"/>\n",
       "      </g>\n",
       "     </g>\n",
       "    </g>\n",
       "    <g id=\"ytick_3\">\n",
       "     <g id=\"line2d_3\">\n",
       "      <path clip-path=\"url(#pcf2451c0dd)\" d=\"M 40.504375 299.397847 \n",
       "L 648.068466 299.397847 \n",
       "\" style=\"fill:none;stroke:#ffffff;stroke-linecap:round;\"/>\n",
       "     </g>\n",
       "     <g id=\"text_50\">\n",
       "      <!-- 2000 -->\n",
       "      <g style=\"fill:#262626;\" transform=\"translate(17.006875 301.487417)scale(0.055 -0.055)\">\n",
       "       <use xlink:href=\"#DejaVuSans-32\"/>\n",
       "       <use x=\"63.623047\" xlink:href=\"#DejaVuSans-30\"/>\n",
       "       <use x=\"127.246094\" xlink:href=\"#DejaVuSans-30\"/>\n",
       "       <use x=\"190.869141\" xlink:href=\"#DejaVuSans-30\"/>\n",
       "      </g>\n",
       "     </g>\n",
       "    </g>\n",
       "    <g id=\"ytick_4\">\n",
       "     <g id=\"line2d_4\">\n",
       "      <path clip-path=\"url(#pcf2451c0dd)\" d=\"M 40.504375 212.070521 \n",
       "L 648.068466 212.070521 \n",
       "\" style=\"fill:none;stroke:#ffffff;stroke-linecap:round;\"/>\n",
       "     </g>\n",
       "     <g id=\"text_51\">\n",
       "      <!-- 3000 -->\n",
       "      <g style=\"fill:#262626;\" transform=\"translate(17.006875 214.160091)scale(0.055 -0.055)\">\n",
       "       <use xlink:href=\"#DejaVuSans-33\"/>\n",
       "       <use x=\"63.623047\" xlink:href=\"#DejaVuSans-30\"/>\n",
       "       <use x=\"127.246094\" xlink:href=\"#DejaVuSans-30\"/>\n",
       "       <use x=\"190.869141\" xlink:href=\"#DejaVuSans-30\"/>\n",
       "      </g>\n",
       "     </g>\n",
       "    </g>\n",
       "    <g id=\"ytick_5\">\n",
       "     <g id=\"line2d_5\">\n",
       "      <path clip-path=\"url(#pcf2451c0dd)\" d=\"M 40.504375 124.743194 \n",
       "L 648.068466 124.743194 \n",
       "\" style=\"fill:none;stroke:#ffffff;stroke-linecap:round;\"/>\n",
       "     </g>\n",
       "     <g id=\"text_52\">\n",
       "      <!-- 4000 -->\n",
       "      <g style=\"fill:#262626;\" transform=\"translate(17.006875 126.832764)scale(0.055 -0.055)\">\n",
       "       <use xlink:href=\"#DejaVuSans-34\"/>\n",
       "       <use x=\"63.623047\" xlink:href=\"#DejaVuSans-30\"/>\n",
       "       <use x=\"127.246094\" xlink:href=\"#DejaVuSans-30\"/>\n",
       "       <use x=\"190.869141\" xlink:href=\"#DejaVuSans-30\"/>\n",
       "      </g>\n",
       "     </g>\n",
       "    </g>\n",
       "    <g id=\"ytick_6\">\n",
       "     <g id=\"line2d_6\">\n",
       "      <path clip-path=\"url(#pcf2451c0dd)\" d=\"M 40.504375 37.415868 \n",
       "L 648.068466 37.415868 \n",
       "\" style=\"fill:none;stroke:#ffffff;stroke-linecap:round;\"/>\n",
       "     </g>\n",
       "     <g id=\"text_53\">\n",
       "      <!-- 5000 -->\n",
       "      <g style=\"fill:#262626;\" transform=\"translate(17.006875 39.505438)scale(0.055 -0.055)\">\n",
       "       <use xlink:href=\"#DejaVuSans-35\"/>\n",
       "       <use x=\"63.623047\" xlink:href=\"#DejaVuSans-30\"/>\n",
       "       <use x=\"127.246094\" xlink:href=\"#DejaVuSans-30\"/>\n",
       "       <use x=\"190.869141\" xlink:href=\"#DejaVuSans-30\"/>\n",
       "      </g>\n",
       "     </g>\n",
       "    </g>\n",
       "    <g id=\"text_54\">\n",
       "     <!-- count -->\n",
       "     <defs>\n",
       "      <path d=\"M 48.78125 52.59375 \n",
       "L 48.78125 44.1875 \n",
       "Q 44.96875 46.296875 41.140625 47.34375 \n",
       "Q 37.3125 48.390625 33.40625 48.390625 \n",
       "Q 24.65625 48.390625 19.8125 42.84375 \n",
       "Q 14.984375 37.3125 14.984375 27.296875 \n",
       "Q 14.984375 17.28125 19.8125 11.734375 \n",
       "Q 24.65625 6.203125 33.40625 6.203125 \n",
       "Q 37.3125 6.203125 41.140625 7.25 \n",
       "Q 44.96875 8.296875 48.78125 10.40625 \n",
       "L 48.78125 2.09375 \n",
       "Q 45.015625 0.34375 40.984375 -0.53125 \n",
       "Q 36.96875 -1.421875 32.421875 -1.421875 \n",
       "Q 20.0625 -1.421875 12.78125 6.34375 \n",
       "Q 5.515625 14.109375 5.515625 27.296875 \n",
       "Q 5.515625 40.671875 12.859375 48.328125 \n",
       "Q 20.21875 56 33.015625 56 \n",
       "Q 37.15625 56 41.109375 55.140625 \n",
       "Q 45.0625 54.296875 48.78125 52.59375 \n",
       "z\n",
       "\" id=\"DejaVuSans-63\"/>\n",
       "      <path d=\"M 8.5 21.578125 \n",
       "L 8.5 54.6875 \n",
       "L 17.484375 54.6875 \n",
       "L 17.484375 21.921875 \n",
       "Q 17.484375 14.15625 20.5 10.265625 \n",
       "Q 23.53125 6.390625 29.59375 6.390625 \n",
       "Q 36.859375 6.390625 41.078125 11.03125 \n",
       "Q 45.3125 15.671875 45.3125 23.6875 \n",
       "L 45.3125 54.6875 \n",
       "L 54.296875 54.6875 \n",
       "L 54.296875 0 \n",
       "L 45.3125 0 \n",
       "L 45.3125 8.40625 \n",
       "Q 42.046875 3.421875 37.71875 1 \n",
       "Q 33.40625 -1.421875 27.6875 -1.421875 \n",
       "Q 18.265625 -1.421875 13.375 4.4375 \n",
       "Q 8.5 10.296875 8.5 21.578125 \n",
       "z\n",
       "M 31.109375 56 \n",
       "z\n",
       "\" id=\"DejaVuSans-75\"/>\n",
       "     </defs>\n",
       "     <g style=\"fill:#262626;\" transform=\"translate(11.759062 252.09)rotate(-90)scale(0.06 -0.06)\">\n",
       "      <use xlink:href=\"#DejaVuSans-63\"/>\n",
       "      <use x=\"54.980469\" xlink:href=\"#DejaVuSans-6f\"/>\n",
       "      <use x=\"116.162109\" xlink:href=\"#DejaVuSans-75\"/>\n",
       "      <use x=\"179.541016\" xlink:href=\"#DejaVuSans-6e\"/>\n",
       "      <use x=\"242.919922\" xlink:href=\"#DejaVuSans-74\"/>\n",
       "     </g>\n",
       "    </g>\n",
       "   </g>\n",
       "   <g id=\"patch_3\">\n",
       "    <path clip-path=\"url(#pcf2451c0dd)\" d=\"M 41.825167 474.0525 \n",
       "L 52.391499 474.0525 \n",
       "L 52.391499 151.203374 \n",
       "L 41.825167 151.203374 \n",
       "z\n",
       "\" style=\"fill:#5875a4;stroke:#ffffff;stroke-linejoin:miter;\"/>\n",
       "   </g>\n",
       "   <g id=\"patch_4\">\n",
       "    <path clip-path=\"url(#pcf2451c0dd)\" d=\"M 55.033082 474.0525 \n",
       "L 65.599414 474.0525 \n",
       "L 65.599414 131.991362 \n",
       "L 55.033082 131.991362 \n",
       "z\n",
       "\" style=\"fill:#5875a4;stroke:#ffffff;stroke-linejoin:miter;\"/>\n",
       "   </g>\n",
       "   <g id=\"patch_5\">\n",
       "    <path clip-path=\"url(#pcf2451c0dd)\" d=\"M 68.240997 474.0525 \n",
       "L 78.807329 474.0525 \n",
       "L 78.807329 83.350041 \n",
       "L 68.240997 83.350041 \n",
       "z\n",
       "\" style=\"fill:#5875a4;stroke:#ffffff;stroke-linejoin:miter;\"/>\n",
       "   </g>\n",
       "   <g id=\"patch_6\">\n",
       "    <path clip-path=\"url(#pcf2451c0dd)\" d=\"M 81.448912 474.0525 \n",
       "L 92.015244 474.0525 \n",
       "L 92.015244 49.467039 \n",
       "L 81.448912 49.467039 \n",
       "z\n",
       "\" style=\"fill:#5875a4;stroke:#ffffff;stroke-linejoin:miter;\"/>\n",
       "   </g>\n",
       "   <g id=\"patch_7\">\n",
       "    <path clip-path=\"url(#pcf2451c0dd)\" d=\"M 94.656827 474.0525 \n",
       "L 105.223159 474.0525 \n",
       "L 105.223159 87.803735 \n",
       "L 94.656827 87.803735 \n",
       "z\n",
       "\" style=\"fill:#5875a4;stroke:#ffffff;stroke-linejoin:miter;\"/>\n",
       "   </g>\n",
       "   <g id=\"patch_8\">\n",
       "    <path clip-path=\"url(#pcf2451c0dd)\" d=\"M 107.864742 474.0525 \n",
       "L 118.431074 474.0525 \n",
       "L 118.431074 35.145357 \n",
       "L 107.864742 35.145357 \n",
       "z\n",
       "\" style=\"fill:#5875a4;stroke:#ffffff;stroke-linejoin:miter;\"/>\n",
       "   </g>\n",
       "   <g id=\"patch_9\">\n",
       "    <path clip-path=\"url(#pcf2451c0dd)\" d=\"M 121.072657 474.0525 \n",
       "L 131.638989 474.0525 \n",
       "L 131.638989 49.030402 \n",
       "L 121.072657 49.030402 \n",
       "z\n",
       "\" style=\"fill:#5875a4;stroke:#ffffff;stroke-linejoin:miter;\"/>\n",
       "   </g>\n",
       "   <g id=\"patch_10\">\n",
       "    <path clip-path=\"url(#pcf2451c0dd)\" d=\"M 134.280572 474.0525 \n",
       "L 144.846904 474.0525 \n",
       "L 144.846904 76.53851 \n",
       "L 134.280572 76.53851 \n",
       "z\n",
       "\" style=\"fill:#5875a4;stroke:#ffffff;stroke-linejoin:miter;\"/>\n",
       "   </g>\n",
       "   <g id=\"patch_11\">\n",
       "    <path clip-path=\"url(#pcf2451c0dd)\" d=\"M 147.488487 474.0525 \n",
       "L 158.054819 474.0525 \n",
       "L 158.054819 95.750522 \n",
       "L 147.488487 95.750522 \n",
       "z\n",
       "\" style=\"fill:#5875a4;stroke:#ffffff;stroke-linejoin:miter;\"/>\n",
       "   </g>\n",
       "   <g id=\"patch_12\">\n",
       "    <path clip-path=\"url(#pcf2451c0dd)\" d=\"M 160.696402 474.0525 \n",
       "L 171.262734 474.0525 \n",
       "L 171.262734 110.945477 \n",
       "L 160.696402 110.945477 \n",
       "z\n",
       "\" style=\"fill:#5875a4;stroke:#ffffff;stroke-linejoin:miter;\"/>\n",
       "   </g>\n",
       "   <g id=\"patch_13\">\n",
       "    <path clip-path=\"url(#pcf2451c0dd)\" d=\"M 173.904317 474.0525 \n",
       "L 184.470649 474.0525 \n",
       "L 184.470649 119.066918 \n",
       "L 173.904317 119.066918 \n",
       "z\n",
       "\" style=\"fill:#5875a4;stroke:#ffffff;stroke-linejoin:miter;\"/>\n",
       "   </g>\n",
       "   <g id=\"patch_14\">\n",
       "    <path clip-path=\"url(#pcf2451c0dd)\" d=\"M 187.112232 474.0525 \n",
       "L 197.678564 474.0525 \n",
       "L 197.678564 94.527939 \n",
       "L 187.112232 94.527939 \n",
       "z\n",
       "\" style=\"fill:#5875a4;stroke:#ffffff;stroke-linejoin:miter;\"/>\n",
       "   </g>\n",
       "   <g id=\"patch_15\">\n",
       "    <path clip-path=\"url(#pcf2451c0dd)\" d=\"M 200.320147 474.0525 \n",
       "L 210.886479 474.0525 \n",
       "L 210.886479 139.58884 \n",
       "L 200.320147 139.58884 \n",
       "z\n",
       "\" style=\"fill:#5875a4;stroke:#ffffff;stroke-linejoin:miter;\"/>\n",
       "   </g>\n",
       "   <g id=\"patch_16\">\n",
       "    <path clip-path=\"url(#pcf2451c0dd)\" d=\"M 213.528062 474.0525 \n",
       "L 224.094394 474.0525 \n",
       "L 224.094394 145.527098 \n",
       "L 213.528062 145.527098 \n",
       "z\n",
       "\" style=\"fill:#5875a4;stroke:#ffffff;stroke-linejoin:miter;\"/>\n",
       "   </g>\n",
       "   <g id=\"patch_17\">\n",
       "    <path clip-path=\"url(#pcf2451c0dd)\" d=\"M 226.735977 474.0525 \n",
       "L 237.302309 474.0525 \n",
       "L 237.302309 98.632323 \n",
       "L 226.735977 98.632323 \n",
       "z\n",
       "\" style=\"fill:#5875a4;stroke:#ffffff;stroke-linejoin:miter;\"/>\n",
       "   </g>\n",
       "   <g id=\"patch_18\">\n",
       "    <path clip-path=\"url(#pcf2451c0dd)\" d=\"M 239.943892 474.0525 \n",
       "L 250.510224 474.0525 \n",
       "L 250.510224 111.120131 \n",
       "L 239.943892 111.120131 \n",
       "z\n",
       "\" style=\"fill:#5875a4;stroke:#ffffff;stroke-linejoin:miter;\"/>\n",
       "   </g>\n",
       "   <g id=\"patch_19\">\n",
       "    <path clip-path=\"url(#pcf2451c0dd)\" d=\"M 253.151807 474.0525 \n",
       "L 263.718139 474.0525 \n",
       "L 263.718139 134.960491 \n",
       "L 253.151807 134.960491 \n",
       "z\n",
       "\" style=\"fill:#5875a4;stroke:#ffffff;stroke-linejoin:miter;\"/>\n",
       "   </g>\n",
       "   <g id=\"patch_20\">\n",
       "    <path clip-path=\"url(#pcf2451c0dd)\" d=\"M 266.359722 474.0525 \n",
       "L 276.926054 474.0525 \n",
       "L 276.926054 137.143674 \n",
       "L 266.359722 137.143674 \n",
       "z\n",
       "\" style=\"fill:#5875a4;stroke:#ffffff;stroke-linejoin:miter;\"/>\n",
       "   </g>\n",
       "   <g id=\"patch_21\">\n",
       "    <path clip-path=\"url(#pcf2451c0dd)\" d=\"M 279.567637 474.0525 \n",
       "L 290.133969 474.0525 \n",
       "L 290.133969 122.996648 \n",
       "L 279.567637 122.996648 \n",
       "z\n",
       "\" style=\"fill:#5875a4;stroke:#ffffff;stroke-linejoin:miter;\"/>\n",
       "   </g>\n",
       "   <g id=\"patch_22\">\n",
       "    <path clip-path=\"url(#pcf2451c0dd)\" d=\"M 292.775552 474.0525 \n",
       "L 303.341884 474.0525 \n",
       "L 303.341884 117.931663 \n",
       "L 292.775552 117.931663 \n",
       "z\n",
       "\" style=\"fill:#5875a4;stroke:#ffffff;stroke-linejoin:miter;\"/>\n",
       "   </g>\n",
       "   <g id=\"patch_23\">\n",
       "    <path clip-path=\"url(#pcf2451c0dd)\" d=\"M 305.983467 474.0525 \n",
       "L 316.549799 474.0525 \n",
       "L 316.549799 141.772023 \n",
       "L 305.983467 141.772023 \n",
       "z\n",
       "\" style=\"fill:#5875a4;stroke:#ffffff;stroke-linejoin:miter;\"/>\n",
       "   </g>\n",
       "   <g id=\"patch_24\">\n",
       "    <path clip-path=\"url(#pcf2451c0dd)\" d=\"M 319.191382 474.0525 \n",
       "L 329.757714 474.0525 \n",
       "L 329.757714 121.424756 \n",
       "L 319.191382 121.424756 \n",
       "z\n",
       "\" style=\"fill:#5875a4;stroke:#ffffff;stroke-linejoin:miter;\"/>\n",
       "   </g>\n",
       "   <g id=\"patch_25\">\n",
       "    <path clip-path=\"url(#pcf2451c0dd)\" d=\"M 332.399297 474.0525 \n",
       "L 342.965629 474.0525 \n",
       "L 342.965629 126.402413 \n",
       "L 332.399297 126.402413 \n",
       "z\n",
       "\" style=\"fill:#5875a4;stroke:#ffffff;stroke-linejoin:miter;\"/>\n",
       "   </g>\n",
       "   <g id=\"patch_26\">\n",
       "    <path clip-path=\"url(#pcf2451c0dd)\" d=\"M 345.607212 474.0525 \n",
       "L 356.173544 474.0525 \n",
       "L 356.173544 122.90932 \n",
       "L 345.607212 122.90932 \n",
       "z\n",
       "\" style=\"fill:#5875a4;stroke:#ffffff;stroke-linejoin:miter;\"/>\n",
       "   </g>\n",
       "   <g id=\"patch_27\">\n",
       "    <path clip-path=\"url(#pcf2451c0dd)\" d=\"M 358.815127 474.0525 \n",
       "L 369.381459 474.0525 \n",
       "L 369.381459 158.538869 \n",
       "L 358.815127 158.538869 \n",
       "z\n",
       "\" style=\"fill:#5875a4;stroke:#ffffff;stroke-linejoin:miter;\"/>\n",
       "   </g>\n",
       "   <g id=\"patch_28\">\n",
       "    <path clip-path=\"url(#pcf2451c0dd)\" d=\"M 372.023042 474.0525 \n",
       "L 382.589374 474.0525 \n",
       "L 382.589374 148.845536 \n",
       "L 372.023042 148.845536 \n",
       "z\n",
       "\" style=\"fill:#5875a4;stroke:#ffffff;stroke-linejoin:miter;\"/>\n",
       "   </g>\n",
       "   <g id=\"patch_29\">\n",
       "    <path clip-path=\"url(#pcf2451c0dd)\" d=\"M 385.230957 474.0525 \n",
       "L 395.797289 474.0525 \n",
       "L 395.797289 106.142474 \n",
       "L 385.230957 106.142474 \n",
       "z\n",
       "\" style=\"fill:#5875a4;stroke:#ffffff;stroke-linejoin:miter;\"/>\n",
       "   </g>\n",
       "   <g id=\"patch_30\">\n",
       "    <path clip-path=\"url(#pcf2451c0dd)\" d=\"M 398.438872 474.0525 \n",
       "L 409.005204 474.0525 \n",
       "L 409.005204 93.218029 \n",
       "L 398.438872 93.218029 \n",
       "z\n",
       "\" style=\"fill:#5875a4;stroke:#ffffff;stroke-linejoin:miter;\"/>\n",
       "   </g>\n",
       "   <g id=\"patch_31\">\n",
       "    <path clip-path=\"url(#pcf2451c0dd)\" d=\"M 411.646787 474.0525 \n",
       "L 422.213119 474.0525 \n",
       "L 422.213119 118.368299 \n",
       "L 411.646787 118.368299 \n",
       "z\n",
       "\" style=\"fill:#5875a4;stroke:#ffffff;stroke-linejoin:miter;\"/>\n",
       "   </g>\n",
       "   <g id=\"patch_32\">\n",
       "    <path clip-path=\"url(#pcf2451c0dd)\" d=\"M 424.854702 474.0525 \n",
       "L 435.421034 474.0525 \n",
       "L 435.421034 142.645296 \n",
       "L 424.854702 142.645296 \n",
       "z\n",
       "\" style=\"fill:#5875a4;stroke:#ffffff;stroke-linejoin:miter;\"/>\n",
       "   </g>\n",
       "   <g id=\"patch_33\">\n",
       "    <path clip-path=\"url(#pcf2451c0dd)\" d=\"M 438.062617 474.0525 \n",
       "L 448.628949 474.0525 \n",
       "L 448.628949 131.72938 \n",
       "L 438.062617 131.72938 \n",
       "z\n",
       "\" style=\"fill:#5875a4;stroke:#ffffff;stroke-linejoin:miter;\"/>\n",
       "   </g>\n",
       "   <g id=\"patch_34\">\n",
       "    <path clip-path=\"url(#pcf2451c0dd)\" d=\"M 451.270532 474.0525 \n",
       "L 461.836864 474.0525 \n",
       "L 461.836864 135.746437 \n",
       "L 451.270532 135.746437 \n",
       "z\n",
       "\" style=\"fill:#5875a4;stroke:#ffffff;stroke-linejoin:miter;\"/>\n",
       "   </g>\n",
       "   <g id=\"patch_35\">\n",
       "    <path clip-path=\"url(#pcf2451c0dd)\" d=\"M 464.478447 474.0525 \n",
       "L 475.044779 474.0525 \n",
       "L 475.044779 163.691182 \n",
       "L 464.478447 163.691182 \n",
       "z\n",
       "\" style=\"fill:#5875a4;stroke:#ffffff;stroke-linejoin:miter;\"/>\n",
       "   </g>\n",
       "   <g id=\"patch_36\">\n",
       "    <path clip-path=\"url(#pcf2451c0dd)\" d=\"M 477.686362 474.0525 \n",
       "L 488.252694 474.0525 \n",
       "L 488.252694 76.887819 \n",
       "L 477.686362 76.887819 \n",
       "z\n",
       "\" style=\"fill:#5875a4;stroke:#ffffff;stroke-linejoin:miter;\"/>\n",
       "   </g>\n",
       "   <g id=\"patch_37\">\n",
       "    <path clip-path=\"url(#pcf2451c0dd)\" d=\"M 490.894277 474.0525 \n",
       "L 501.460609 474.0525 \n",
       "L 501.460609 117.320371 \n",
       "L 490.894277 117.320371 \n",
       "z\n",
       "\" style=\"fill:#5875a4;stroke:#ffffff;stroke-linejoin:miter;\"/>\n",
       "   </g>\n",
       "   <g id=\"patch_38\">\n",
       "    <path clip-path=\"url(#pcf2451c0dd)\" d=\"M 504.102192 474.0525 \n",
       "L 514.668524 474.0525 \n",
       "L 514.668524 100.029561 \n",
       "L 504.102192 100.029561 \n",
       "z\n",
       "\" style=\"fill:#5875a4;stroke:#ffffff;stroke-linejoin:miter;\"/>\n",
       "   </g>\n",
       "   <g id=\"patch_39\">\n",
       "    <path clip-path=\"url(#pcf2451c0dd)\" d=\"M 517.310107 474.0525 \n",
       "L 527.876439 474.0525 \n",
       "L 527.876439 144.915807 \n",
       "L 517.310107 144.915807 \n",
       "z\n",
       "\" style=\"fill:#5875a4;stroke:#ffffff;stroke-linejoin:miter;\"/>\n",
       "   </g>\n",
       "   <g id=\"patch_40\">\n",
       "    <path clip-path=\"url(#pcf2451c0dd)\" d=\"M 530.518022 474.0525 \n",
       "L 541.084354 474.0525 \n",
       "L 541.084354 150.854065 \n",
       "L 530.518022 150.854065 \n",
       "z\n",
       "\" style=\"fill:#5875a4;stroke:#ffffff;stroke-linejoin:miter;\"/>\n",
       "   </g>\n",
       "   <g id=\"patch_41\">\n",
       "    <path clip-path=\"url(#pcf2451c0dd)\" d=\"M 543.725937 474.0525 \n",
       "L 554.292269 474.0525 \n",
       "L 554.292269 144.391843 \n",
       "L 543.725937 144.391843 \n",
       "z\n",
       "\" style=\"fill:#5875a4;stroke:#ffffff;stroke-linejoin:miter;\"/>\n",
       "   </g>\n",
       "   <g id=\"patch_42\">\n",
       "    <path clip-path=\"url(#pcf2451c0dd)\" d=\"M 556.933852 474.0525 \n",
       "L 567.500184 474.0525 \n",
       "L 567.500184 190.064034 \n",
       "L 556.933852 190.064034 \n",
       "z\n",
       "\" style=\"fill:#5875a4;stroke:#ffffff;stroke-linejoin:miter;\"/>\n",
       "   </g>\n",
       "   <g id=\"patch_43\">\n",
       "    <path clip-path=\"url(#pcf2451c0dd)\" d=\"M 570.141767 474.0525 \n",
       "L 580.708099 474.0525 \n",
       "L 580.708099 193.295145 \n",
       "L 570.141767 193.295145 \n",
       "z\n",
       "\" style=\"fill:#5875a4;stroke:#ffffff;stroke-linejoin:miter;\"/>\n",
       "   </g>\n",
       "   <g id=\"patch_44\">\n",
       "    <path clip-path=\"url(#pcf2451c0dd)\" d=\"M 583.349682 474.0525 \n",
       "L 593.916014 474.0525 \n",
       "L 593.916014 149.631482 \n",
       "L 583.349682 149.631482 \n",
       "z\n",
       "\" style=\"fill:#5875a4;stroke:#ffffff;stroke-linejoin:miter;\"/>\n",
       "   </g>\n",
       "   <g id=\"patch_45\">\n",
       "    <path clip-path=\"url(#pcf2451c0dd)\" d=\"M 596.557597 474.0525 \n",
       "L 607.123929 474.0525 \n",
       "L 607.123929 148.321572 \n",
       "L 596.557597 148.321572 \n",
       "z\n",
       "\" style=\"fill:#5875a4;stroke:#ffffff;stroke-linejoin:miter;\"/>\n",
       "   </g>\n",
       "   <g id=\"patch_46\">\n",
       "    <path clip-path=\"url(#pcf2451c0dd)\" d=\"M 609.765512 474.0525 \n",
       "L 620.331844 474.0525 \n",
       "L 620.331844 179.584755 \n",
       "L 609.765512 179.584755 \n",
       "z\n",
       "\" style=\"fill:#5875a4;stroke:#ffffff;stroke-linejoin:miter;\"/>\n",
       "   </g>\n",
       "   <g id=\"patch_47\">\n",
       "    <path clip-path=\"url(#pcf2451c0dd)\" d=\"M 622.973427 474.0525 \n",
       "L 633.539759 474.0525 \n",
       "L 633.539759 145.78908 \n",
       "L 622.973427 145.78908 \n",
       "z\n",
       "\" style=\"fill:#5875a4;stroke:#ffffff;stroke-linejoin:miter;\"/>\n",
       "   </g>\n",
       "   <g id=\"patch_48\">\n",
       "    <path clip-path=\"url(#pcf2451c0dd)\" d=\"M 636.181342 474.0525 \n",
       "L 646.747674 474.0525 \n",
       "L 646.747674 343.585474 \n",
       "L 636.181342 343.585474 \n",
       "z\n",
       "\" style=\"fill:#5875a4;stroke:#ffffff;stroke-linejoin:miter;\"/>\n",
       "   </g>\n",
       "   <g id=\"line2d_7\">\n",
       "    <path clip-path=\"url(#pcf2451c0dd)\" d=\"M 0 0 \n",
       "\" style=\"fill:none;stroke:#424242;stroke-linecap:round;stroke-width:2.7;\"/>\n",
       "   </g>\n",
       "   <g id=\"line2d_8\">\n",
       "    <path clip-path=\"url(#pcf2451c0dd)\" d=\"M 0 0 \n",
       "\" style=\"fill:none;stroke:#424242;stroke-linecap:round;stroke-width:2.7;\"/>\n",
       "   </g>\n",
       "   <g id=\"line2d_9\">\n",
       "    <path clip-path=\"url(#pcf2451c0dd)\" d=\"M 0 0 \n",
       "\" style=\"fill:none;stroke:#424242;stroke-linecap:round;stroke-width:2.7;\"/>\n",
       "   </g>\n",
       "   <g id=\"line2d_10\">\n",
       "    <path clip-path=\"url(#pcf2451c0dd)\" d=\"M 0 0 \n",
       "\" style=\"fill:none;stroke:#424242;stroke-linecap:round;stroke-width:2.7;\"/>\n",
       "   </g>\n",
       "   <g id=\"line2d_11\">\n",
       "    <path clip-path=\"url(#pcf2451c0dd)\" d=\"M 0 0 \n",
       "\" style=\"fill:none;stroke:#424242;stroke-linecap:round;stroke-width:2.7;\"/>\n",
       "   </g>\n",
       "   <g id=\"line2d_12\">\n",
       "    <path clip-path=\"url(#pcf2451c0dd)\" d=\"M 0 0 \n",
       "\" style=\"fill:none;stroke:#424242;stroke-linecap:round;stroke-width:2.7;\"/>\n",
       "   </g>\n",
       "   <g id=\"line2d_13\">\n",
       "    <path clip-path=\"url(#pcf2451c0dd)\" d=\"M 0 0 \n",
       "\" style=\"fill:none;stroke:#424242;stroke-linecap:round;stroke-width:2.7;\"/>\n",
       "   </g>\n",
       "   <g id=\"line2d_14\">\n",
       "    <path clip-path=\"url(#pcf2451c0dd)\" d=\"M 0 0 \n",
       "\" style=\"fill:none;stroke:#424242;stroke-linecap:round;stroke-width:2.7;\"/>\n",
       "   </g>\n",
       "   <g id=\"line2d_15\">\n",
       "    <path clip-path=\"url(#pcf2451c0dd)\" d=\"M 0 0 \n",
       "\" style=\"fill:none;stroke:#424242;stroke-linecap:round;stroke-width:2.7;\"/>\n",
       "   </g>\n",
       "   <g id=\"line2d_16\">\n",
       "    <path clip-path=\"url(#pcf2451c0dd)\" d=\"M 0 0 \n",
       "\" style=\"fill:none;stroke:#424242;stroke-linecap:round;stroke-width:2.7;\"/>\n",
       "   </g>\n",
       "   <g id=\"line2d_17\">\n",
       "    <path clip-path=\"url(#pcf2451c0dd)\" d=\"M 0 0 \n",
       "\" style=\"fill:none;stroke:#424242;stroke-linecap:round;stroke-width:2.7;\"/>\n",
       "   </g>\n",
       "   <g id=\"line2d_18\">\n",
       "    <path clip-path=\"url(#pcf2451c0dd)\" d=\"M 0 0 \n",
       "\" style=\"fill:none;stroke:#424242;stroke-linecap:round;stroke-width:2.7;\"/>\n",
       "   </g>\n",
       "   <g id=\"line2d_19\">\n",
       "    <path clip-path=\"url(#pcf2451c0dd)\" d=\"M 0 0 \n",
       "\" style=\"fill:none;stroke:#424242;stroke-linecap:round;stroke-width:2.7;\"/>\n",
       "   </g>\n",
       "   <g id=\"line2d_20\">\n",
       "    <path clip-path=\"url(#pcf2451c0dd)\" d=\"M 0 0 \n",
       "\" style=\"fill:none;stroke:#424242;stroke-linecap:round;stroke-width:2.7;\"/>\n",
       "   </g>\n",
       "   <g id=\"line2d_21\">\n",
       "    <path clip-path=\"url(#pcf2451c0dd)\" d=\"M 0 0 \n",
       "\" style=\"fill:none;stroke:#424242;stroke-linecap:round;stroke-width:2.7;\"/>\n",
       "   </g>\n",
       "   <g id=\"line2d_22\">\n",
       "    <path clip-path=\"url(#pcf2451c0dd)\" d=\"M 0 0 \n",
       "\" style=\"fill:none;stroke:#424242;stroke-linecap:round;stroke-width:2.7;\"/>\n",
       "   </g>\n",
       "   <g id=\"line2d_23\">\n",
       "    <path clip-path=\"url(#pcf2451c0dd)\" d=\"M 0 0 \n",
       "\" style=\"fill:none;stroke:#424242;stroke-linecap:round;stroke-width:2.7;\"/>\n",
       "   </g>\n",
       "   <g id=\"line2d_24\">\n",
       "    <path clip-path=\"url(#pcf2451c0dd)\" d=\"M 0 0 \n",
       "\" style=\"fill:none;stroke:#424242;stroke-linecap:round;stroke-width:2.7;\"/>\n",
       "   </g>\n",
       "   <g id=\"line2d_25\">\n",
       "    <path clip-path=\"url(#pcf2451c0dd)\" d=\"M 0 0 \n",
       "\" style=\"fill:none;stroke:#424242;stroke-linecap:round;stroke-width:2.7;\"/>\n",
       "   </g>\n",
       "   <g id=\"line2d_26\">\n",
       "    <path clip-path=\"url(#pcf2451c0dd)\" d=\"M 0 0 \n",
       "\" style=\"fill:none;stroke:#424242;stroke-linecap:round;stroke-width:2.7;\"/>\n",
       "   </g>\n",
       "   <g id=\"line2d_27\">\n",
       "    <path clip-path=\"url(#pcf2451c0dd)\" d=\"M 0 0 \n",
       "\" style=\"fill:none;stroke:#424242;stroke-linecap:round;stroke-width:2.7;\"/>\n",
       "   </g>\n",
       "   <g id=\"line2d_28\">\n",
       "    <path clip-path=\"url(#pcf2451c0dd)\" d=\"M 0 0 \n",
       "\" style=\"fill:none;stroke:#424242;stroke-linecap:round;stroke-width:2.7;\"/>\n",
       "   </g>\n",
       "   <g id=\"line2d_29\">\n",
       "    <path clip-path=\"url(#pcf2451c0dd)\" d=\"M 0 0 \n",
       "\" style=\"fill:none;stroke:#424242;stroke-linecap:round;stroke-width:2.7;\"/>\n",
       "   </g>\n",
       "   <g id=\"line2d_30\">\n",
       "    <path clip-path=\"url(#pcf2451c0dd)\" d=\"M 0 0 \n",
       "\" style=\"fill:none;stroke:#424242;stroke-linecap:round;stroke-width:2.7;\"/>\n",
       "   </g>\n",
       "   <g id=\"line2d_31\">\n",
       "    <path clip-path=\"url(#pcf2451c0dd)\" d=\"M 0 0 \n",
       "\" style=\"fill:none;stroke:#424242;stroke-linecap:round;stroke-width:2.7;\"/>\n",
       "   </g>\n",
       "   <g id=\"line2d_32\">\n",
       "    <path clip-path=\"url(#pcf2451c0dd)\" d=\"M 0 0 \n",
       "\" style=\"fill:none;stroke:#424242;stroke-linecap:round;stroke-width:2.7;\"/>\n",
       "   </g>\n",
       "   <g id=\"line2d_33\">\n",
       "    <path clip-path=\"url(#pcf2451c0dd)\" d=\"M 0 0 \n",
       "\" style=\"fill:none;stroke:#424242;stroke-linecap:round;stroke-width:2.7;\"/>\n",
       "   </g>\n",
       "   <g id=\"line2d_34\">\n",
       "    <path clip-path=\"url(#pcf2451c0dd)\" d=\"M 0 0 \n",
       "\" style=\"fill:none;stroke:#424242;stroke-linecap:round;stroke-width:2.7;\"/>\n",
       "   </g>\n",
       "   <g id=\"line2d_35\">\n",
       "    <path clip-path=\"url(#pcf2451c0dd)\" d=\"M 0 0 \n",
       "\" style=\"fill:none;stroke:#424242;stroke-linecap:round;stroke-width:2.7;\"/>\n",
       "   </g>\n",
       "   <g id=\"line2d_36\">\n",
       "    <path clip-path=\"url(#pcf2451c0dd)\" d=\"M 0 0 \n",
       "\" style=\"fill:none;stroke:#424242;stroke-linecap:round;stroke-width:2.7;\"/>\n",
       "   </g>\n",
       "   <g id=\"line2d_37\">\n",
       "    <path clip-path=\"url(#pcf2451c0dd)\" d=\"M 0 0 \n",
       "\" style=\"fill:none;stroke:#424242;stroke-linecap:round;stroke-width:2.7;\"/>\n",
       "   </g>\n",
       "   <g id=\"line2d_38\">\n",
       "    <path clip-path=\"url(#pcf2451c0dd)\" d=\"M 0 0 \n",
       "\" style=\"fill:none;stroke:#424242;stroke-linecap:round;stroke-width:2.7;\"/>\n",
       "   </g>\n",
       "   <g id=\"line2d_39\">\n",
       "    <path clip-path=\"url(#pcf2451c0dd)\" d=\"M 0 0 \n",
       "\" style=\"fill:none;stroke:#424242;stroke-linecap:round;stroke-width:2.7;\"/>\n",
       "   </g>\n",
       "   <g id=\"line2d_40\">\n",
       "    <path clip-path=\"url(#pcf2451c0dd)\" d=\"M 0 0 \n",
       "\" style=\"fill:none;stroke:#424242;stroke-linecap:round;stroke-width:2.7;\"/>\n",
       "   </g>\n",
       "   <g id=\"line2d_41\">\n",
       "    <path clip-path=\"url(#pcf2451c0dd)\" d=\"M 0 0 \n",
       "\" style=\"fill:none;stroke:#424242;stroke-linecap:round;stroke-width:2.7;\"/>\n",
       "   </g>\n",
       "   <g id=\"line2d_42\">\n",
       "    <path clip-path=\"url(#pcf2451c0dd)\" d=\"M 0 0 \n",
       "\" style=\"fill:none;stroke:#424242;stroke-linecap:round;stroke-width:2.7;\"/>\n",
       "   </g>\n",
       "   <g id=\"line2d_43\">\n",
       "    <path clip-path=\"url(#pcf2451c0dd)\" d=\"M 0 0 \n",
       "\" style=\"fill:none;stroke:#424242;stroke-linecap:round;stroke-width:2.7;\"/>\n",
       "   </g>\n",
       "   <g id=\"line2d_44\">\n",
       "    <path clip-path=\"url(#pcf2451c0dd)\" d=\"M 0 0 \n",
       "\" style=\"fill:none;stroke:#424242;stroke-linecap:round;stroke-width:2.7;\"/>\n",
       "   </g>\n",
       "   <g id=\"line2d_45\">\n",
       "    <path clip-path=\"url(#pcf2451c0dd)\" d=\"M 0 0 \n",
       "\" style=\"fill:none;stroke:#424242;stroke-linecap:round;stroke-width:2.7;\"/>\n",
       "   </g>\n",
       "   <g id=\"line2d_46\">\n",
       "    <path clip-path=\"url(#pcf2451c0dd)\" d=\"M 0 0 \n",
       "\" style=\"fill:none;stroke:#424242;stroke-linecap:round;stroke-width:2.7;\"/>\n",
       "   </g>\n",
       "   <g id=\"line2d_47\">\n",
       "    <path clip-path=\"url(#pcf2451c0dd)\" d=\"M 0 0 \n",
       "\" style=\"fill:none;stroke:#424242;stroke-linecap:round;stroke-width:2.7;\"/>\n",
       "   </g>\n",
       "   <g id=\"line2d_48\">\n",
       "    <path clip-path=\"url(#pcf2451c0dd)\" d=\"M 0 0 \n",
       "\" style=\"fill:none;stroke:#424242;stroke-linecap:round;stroke-width:2.7;\"/>\n",
       "   </g>\n",
       "   <g id=\"line2d_49\">\n",
       "    <path clip-path=\"url(#pcf2451c0dd)\" d=\"M 0 0 \n",
       "\" style=\"fill:none;stroke:#424242;stroke-linecap:round;stroke-width:2.7;\"/>\n",
       "   </g>\n",
       "   <g id=\"line2d_50\">\n",
       "    <path clip-path=\"url(#pcf2451c0dd)\" d=\"M 0 0 \n",
       "\" style=\"fill:none;stroke:#424242;stroke-linecap:round;stroke-width:2.7;\"/>\n",
       "   </g>\n",
       "   <g id=\"line2d_51\">\n",
       "    <path clip-path=\"url(#pcf2451c0dd)\" d=\"M 0 0 \n",
       "\" style=\"fill:none;stroke:#424242;stroke-linecap:round;stroke-width:2.7;\"/>\n",
       "   </g>\n",
       "   <g id=\"line2d_52\">\n",
       "    <path clip-path=\"url(#pcf2451c0dd)\" d=\"M 0 0 \n",
       "\" style=\"fill:none;stroke:#424242;stroke-linecap:round;stroke-width:2.7;\"/>\n",
       "   </g>\n",
       "   <g id=\"patch_49\">\n",
       "    <path d=\"M 40.504375 474.0525 \n",
       "L 40.504375 13.2 \n",
       "\" style=\"fill:none;stroke:#ffffff;stroke-linecap:square;stroke-linejoin:miter;stroke-width:1.25;\"/>\n",
       "   </g>\n",
       "   <g id=\"patch_50\">\n",
       "    <path d=\"M 40.504375 474.0525 \n",
       "L 648.068466 474.0525 \n",
       "\" style=\"fill:none;stroke:#ffffff;stroke-linecap:square;stroke-linejoin:miter;stroke-width:1.25;\"/>\n",
       "   </g>\n",
       "  </g>\n",
       "  <g id=\"legend_1\">\n",
       "   <g id=\"text_55\">\n",
       "    <!-- agency_id -->\n",
       "    <defs>\n",
       "     <path d=\"M 45.40625 27.984375 \n",
       "Q 45.40625 37.75 41.375 43.109375 \n",
       "Q 37.359375 48.484375 30.078125 48.484375 \n",
       "Q 22.859375 48.484375 18.828125 43.109375 \n",
       "Q 14.796875 37.75 14.796875 27.984375 \n",
       "Q 14.796875 18.265625 18.828125 12.890625 \n",
       "Q 22.859375 7.515625 30.078125 7.515625 \n",
       "Q 37.359375 7.515625 41.375 12.890625 \n",
       "Q 45.40625 18.265625 45.40625 27.984375 \n",
       "z\n",
       "M 54.390625 6.78125 \n",
       "Q 54.390625 -7.171875 48.1875 -13.984375 \n",
       "Q 42 -20.796875 29.203125 -20.796875 \n",
       "Q 24.46875 -20.796875 20.265625 -20.09375 \n",
       "Q 16.0625 -19.390625 12.109375 -17.921875 \n",
       "L 12.109375 -9.1875 \n",
       "Q 16.0625 -11.328125 19.921875 -12.34375 \n",
       "Q 23.78125 -13.375 27.78125 -13.375 \n",
       "Q 36.625 -13.375 41.015625 -8.765625 \n",
       "Q 45.40625 -4.15625 45.40625 5.171875 \n",
       "L 45.40625 9.625 \n",
       "Q 42.625 4.78125 38.28125 2.390625 \n",
       "Q 33.9375 0 27.875 0 \n",
       "Q 17.828125 0 11.671875 7.65625 \n",
       "Q 5.515625 15.328125 5.515625 27.984375 \n",
       "Q 5.515625 40.671875 11.671875 48.328125 \n",
       "Q 17.828125 56 27.875 56 \n",
       "Q 33.9375 56 38.28125 53.609375 \n",
       "Q 42.625 51.21875 45.40625 46.390625 \n",
       "L 45.40625 54.6875 \n",
       "L 54.390625 54.6875 \n",
       "z\n",
       "\" id=\"DejaVuSans-67\"/>\n",
       "     <path d=\"M 9.421875 54.6875 \n",
       "L 18.40625 54.6875 \n",
       "L 18.40625 0 \n",
       "L 9.421875 0 \n",
       "z\n",
       "M 9.421875 75.984375 \n",
       "L 18.40625 75.984375 \n",
       "L 18.40625 64.59375 \n",
       "L 9.421875 64.59375 \n",
       "z\n",
       "\" id=\"DejaVuSans-69\"/>\n",
       "    </defs>\n",
       "    <g style=\"fill:#262626;\" transform=\"translate(658.937638 259.153273)scale(0.051 -0.051)\">\n",
       "     <use xlink:href=\"#DejaVuSans-61\"/>\n",
       "     <use x=\"61.279297\" xlink:href=\"#DejaVuSans-67\"/>\n",
       "     <use x=\"124.755859\" xlink:href=\"#DejaVuSans-65\"/>\n",
       "     <use x=\"186.279297\" xlink:href=\"#DejaVuSans-6e\"/>\n",
       "     <use x=\"249.658203\" xlink:href=\"#DejaVuSans-63\"/>\n",
       "     <use x=\"304.638672\" xlink:href=\"#DejaVuSans-79\"/>\n",
       "     <use x=\"363.818359\" xlink:href=\"#DejaVuSans-5f\"/>\n",
       "     <use x=\"413.818359\" xlink:href=\"#DejaVuSans-69\"/>\n",
       "     <use x=\"441.601562\" xlink:href=\"#DejaVuSans-64\"/>\n",
       "    </g>\n",
       "   </g>\n",
       "   <g id=\"patch_51\">\n",
       "    <path d=\"M 662.368239 267.284898 \n",
       "L 673.368239 267.284898 \n",
       "L 673.368239 263.434898 \n",
       "L 662.368239 263.434898 \n",
       "z\n",
       "\" style=\"fill:#5875a4;stroke:#ffffff;stroke-linejoin:miter;\"/>\n",
       "   </g>\n",
       "   <g id=\"text_56\">\n",
       "    <!-- 1 -->\n",
       "    <g style=\"fill:#262626;\" transform=\"translate(677.768239 267.284898)scale(0.055 -0.055)\">\n",
       "     <use xlink:href=\"#DejaVuSans-31\"/>\n",
       "    </g>\n",
       "   </g>\n",
       "  </g>\n",
       " </g>\n",
       " <defs>\n",
       "  <clipPath id=\"pcf2451c0dd\">\n",
       "   <rect height=\"460.8525\" width=\"607.564091\" x=\"40.504375\" y=\"13.2\"/>\n",
       "  </clipPath>\n",
       " </defs>\n",
       "</svg>\n"
      ],
      "text/plain": [
       "<Figure size 685.475x504 with 1 Axes>"
      ]
     },
     "metadata": {},
     "output_type": "display_data"
    }
   ],
   "source": [
    "%matplotlib inline\n",
    "%config InlineBackend.figure_format = 'svg' \n",
    "import seaborn as sns\n",
    "\n",
    "sns.set(font_scale=0.5)\n",
    "graph = sns.catplot(x=\"date_only\", y=\"count\", hue=\"agency_id\", data=counts, kind=\"bar\", height=7, aspect=1.3)\n",
    "for ax in graph.axes.ravel():\n",
    "    ax.set_xticklabels(ax.get_xticklabels(), rotation=90)\n",
    "plt.show()"
   ]
  },
  {
   "cell_type": "code",
   "execution_count": 46,
   "metadata": {},
   "outputs": [
    {
     "data": {
      "text/html": [
       "<div>\n",
       "<style scoped>\n",
       "    .dataframe tbody tr th:only-of-type {\n",
       "        vertical-align: middle;\n",
       "    }\n",
       "\n",
       "    .dataframe tbody tr th {\n",
       "        vertical-align: top;\n",
       "    }\n",
       "\n",
       "    .dataframe thead th {\n",
       "        text-align: right;\n",
       "    }\n",
       "</style>\n",
       "<table border=\"1\" class=\"dataframe\">\n",
       "  <thead>\n",
       "    <tr style=\"text-align: right;\">\n",
       "      <th></th>\n",
       "      <th>id</th>\n",
       "      <th>url</th>\n",
       "      <th>date</th>\n",
       "      <th>edition</th>\n",
       "      <th>text</th>\n",
       "      <th>title</th>\n",
       "      <th>topics</th>\n",
       "      <th>authors</th>\n",
       "      <th>agency_id</th>\n",
       "    </tr>\n",
       "  </thead>\n",
       "  <tbody>\n",
       "    <tr>\n",
       "      <td>0</td>\n",
       "      <td>1</td>\n",
       "      <td>https://www.interfax.ru/russia/488154</td>\n",
       "      <td>2016-01-01 00:22:00</td>\n",
       "      <td>None</td>\n",
       "      <td>Москва. 1 января. INTERFAX.RU - Президент РФ В...</td>\n",
       "      <td>Путин встретил Новый год в кругу родных и близких</td>\n",
       "      <td>В России</td>\n",
       "      <td>None</td>\n",
       "      <td>1</td>\n",
       "    </tr>\n",
       "    <tr>\n",
       "      <td>1</td>\n",
       "      <td>2</td>\n",
       "      <td>https://www.interfax.ru/russia/488155</td>\n",
       "      <td>2016-01-01 01:44:00</td>\n",
       "      <td>None</td>\n",
       "      <td>Москва. 1 января. INTERFAX.RU - Действие догов...</td>\n",
       "      <td>Приостановлено действие договора о зоне свобод...</td>\n",
       "      <td>В России</td>\n",
       "      <td>None</td>\n",
       "      <td>1</td>\n",
       "    </tr>\n",
       "    <tr>\n",
       "      <td>2</td>\n",
       "      <td>3</td>\n",
       "      <td>https://www.interfax.ru/russia/488156</td>\n",
       "      <td>2016-01-01 02:04:00</td>\n",
       "      <td>None</td>\n",
       "      <td>Москва. 1 января. INTERFAX.RU - Писатель Дании...</td>\n",
       "      <td>Даниил Гранин отметит 97-летие</td>\n",
       "      <td>В России</td>\n",
       "      <td>None</td>\n",
       "      <td>1</td>\n",
       "    </tr>\n",
       "    <tr>\n",
       "      <td>3</td>\n",
       "      <td>4</td>\n",
       "      <td>https://www.interfax.ru/world/488157</td>\n",
       "      <td>2016-01-01 02:15:00</td>\n",
       "      <td>None</td>\n",
       "      <td>Москва. 1 января. INTERFAX.RU - Президент Укра...</td>\n",
       "      <td>Порошенко заявил о широко открытой Украиной дв...</td>\n",
       "      <td>В мире</td>\n",
       "      <td>None</td>\n",
       "      <td>1</td>\n",
       "    </tr>\n",
       "    <tr>\n",
       "      <td>4</td>\n",
       "      <td>5</td>\n",
       "      <td>https://www.interfax.ru/world/488158</td>\n",
       "      <td>2016-01-01 02:20:00</td>\n",
       "      <td>None</td>\n",
       "      <td>Москва. 1 января. INTERFAX.RU - Президент Эсто...</td>\n",
       "      <td>Президент Эстонии заявил об изменении привычно...</td>\n",
       "      <td>В мире</td>\n",
       "      <td>None</td>\n",
       "      <td>1</td>\n",
       "    </tr>\n",
       "    <tr>\n",
       "      <td>...</td>\n",
       "      <td>...</td>\n",
       "      <td>...</td>\n",
       "      <td>...</td>\n",
       "      <td>...</td>\n",
       "      <td>...</td>\n",
       "      <td>...</td>\n",
       "      <td>...</td>\n",
       "      <td>...</td>\n",
       "      <td>...</td>\n",
       "    </tr>\n",
       "    <tr>\n",
       "      <td>182256</td>\n",
       "      <td>182257</td>\n",
       "      <td>https://www.interfax.ru/russia/680146</td>\n",
       "      <td>2019-10-12 21:41:00</td>\n",
       "      <td>None</td>\n",
       "      <td>Москва. 12 октября. INTERFAX.RU - Четверо пост...</td>\n",
       "      <td>Четверо пострадавших в результате ДТП в Подмос...</td>\n",
       "      <td>В России</td>\n",
       "      <td>None</td>\n",
       "      <td>1</td>\n",
       "    </tr>\n",
       "    <tr>\n",
       "      <td>182257</td>\n",
       "      <td>182258</td>\n",
       "      <td>https://www.interfax.ru/world/680147</td>\n",
       "      <td>2019-10-12 22:08:00</td>\n",
       "      <td>None</td>\n",
       "      <td>Как Saudi Aramco восстанавливается после атаки...</td>\n",
       "      <td>Несущие колонны Саудовской Аравии</td>\n",
       "      <td>В мире</td>\n",
       "      <td>None</td>\n",
       "      <td>1</td>\n",
       "    </tr>\n",
       "    <tr>\n",
       "      <td>182258</td>\n",
       "      <td>182259</td>\n",
       "      <td>https://www.interfax.ru/world/680148</td>\n",
       "      <td>2019-10-12 22:52:00</td>\n",
       "      <td>None</td>\n",
       "      <td>Москва. 12 октября. INTERFAX.RU - Полиция Брюс...</td>\n",
       "      <td>Сотни экоактивистов задержаны в Брюсселе</td>\n",
       "      <td>В мире</td>\n",
       "      <td>None</td>\n",
       "      <td>1</td>\n",
       "    </tr>\n",
       "    <tr>\n",
       "      <td>182259</td>\n",
       "      <td>182260</td>\n",
       "      <td>https://www.interfax.ru/world/680149</td>\n",
       "      <td>2019-10-12 23:18:00</td>\n",
       "      <td>None</td>\n",
       "      <td>Москва. 12 октября. INTERFAX.RU - В МИД Франци...</td>\n",
       "      <td>Франция приостанавливает продажу оружия Турции</td>\n",
       "      <td>В мире</td>\n",
       "      <td>None</td>\n",
       "      <td>1</td>\n",
       "    </tr>\n",
       "    <tr>\n",
       "      <td>182260</td>\n",
       "      <td>182261</td>\n",
       "      <td>https://www.interfax.ru/russia/680150</td>\n",
       "      <td>2019-10-12 23:53:00</td>\n",
       "      <td>None</td>\n",
       "      <td>Москва. 12 октября. INTERFAX.RU - Девять челов...</td>\n",
       "      <td>Десять человек пострадали в ДТП с автобусом в Уфе</td>\n",
       "      <td>В России</td>\n",
       "      <td>None</td>\n",
       "      <td>1</td>\n",
       "    </tr>\n",
       "  </tbody>\n",
       "</table>\n",
       "<p>182261 rows × 9 columns</p>\n",
       "</div>"
      ],
      "text/plain": [
       "            id                                    url                 date  \\\n",
       "0            1  https://www.interfax.ru/russia/488154  2016-01-01 00:22:00   \n",
       "1            2  https://www.interfax.ru/russia/488155  2016-01-01 01:44:00   \n",
       "2            3  https://www.interfax.ru/russia/488156  2016-01-01 02:04:00   \n",
       "3            4   https://www.interfax.ru/world/488157  2016-01-01 02:15:00   \n",
       "4            5   https://www.interfax.ru/world/488158  2016-01-01 02:20:00   \n",
       "...        ...                                    ...                  ...   \n",
       "182256  182257  https://www.interfax.ru/russia/680146  2019-10-12 21:41:00   \n",
       "182257  182258   https://www.interfax.ru/world/680147  2019-10-12 22:08:00   \n",
       "182258  182259   https://www.interfax.ru/world/680148  2019-10-12 22:52:00   \n",
       "182259  182260   https://www.interfax.ru/world/680149  2019-10-12 23:18:00   \n",
       "182260  182261  https://www.interfax.ru/russia/680150  2019-10-12 23:53:00   \n",
       "\n",
       "       edition                                               text  \\\n",
       "0         None  Москва. 1 января. INTERFAX.RU - Президент РФ В...   \n",
       "1         None  Москва. 1 января. INTERFAX.RU - Действие догов...   \n",
       "2         None  Москва. 1 января. INTERFAX.RU - Писатель Дании...   \n",
       "3         None  Москва. 1 января. INTERFAX.RU - Президент Укра...   \n",
       "4         None  Москва. 1 января. INTERFAX.RU - Президент Эсто...   \n",
       "...        ...                                                ...   \n",
       "182256    None  Москва. 12 октября. INTERFAX.RU - Четверо пост...   \n",
       "182257    None  Как Saudi Aramco восстанавливается после атаки...   \n",
       "182258    None  Москва. 12 октября. INTERFAX.RU - Полиция Брюс...   \n",
       "182259    None  Москва. 12 октября. INTERFAX.RU - В МИД Франци...   \n",
       "182260    None  Москва. 12 октября. INTERFAX.RU - Девять челов...   \n",
       "\n",
       "                                                    title    topics authors  \\\n",
       "0       Путин встретил Новый год в кругу родных и близких  В России    None   \n",
       "1       Приостановлено действие договора о зоне свобод...  В России    None   \n",
       "2                          Даниил Гранин отметит 97-летие  В России    None   \n",
       "3       Порошенко заявил о широко открытой Украиной дв...    В мире    None   \n",
       "4       Президент Эстонии заявил об изменении привычно...    В мире    None   \n",
       "...                                                   ...       ...     ...   \n",
       "182256  Четверо пострадавших в результате ДТП в Подмос...  В России    None   \n",
       "182257                  Несущие колонны Саудовской Аравии    В мире    None   \n",
       "182258           Сотни экоактивистов задержаны в Брюсселе    В мире    None   \n",
       "182259     Франция приостанавливает продажу оружия Турции    В мире    None   \n",
       "182260  Десять человек пострадали в ДТП с автобусом в Уфе  В России    None   \n",
       "\n",
       "        agency_id  \n",
       "0               1  \n",
       "1               1  \n",
       "2               1  \n",
       "3               1  \n",
       "4               1  \n",
       "...           ...  \n",
       "182256          1  \n",
       "182257          1  \n",
       "182258          1  \n",
       "182259          1  \n",
       "182260          1  \n",
       "\n",
       "[182261 rows x 9 columns]"
      ]
     },
     "execution_count": 46,
     "metadata": {},
     "output_type": "execute_result"
    }
   ],
   "source": [
    "df"
   ]
  },
  {
   "cell_type": "code",
   "execution_count": 43,
   "metadata": {},
   "outputs": [
    {
     "data": {
      "text/html": [
       "<div>\n",
       "<style scoped>\n",
       "    .dataframe tbody tr th:only-of-type {\n",
       "        vertical-align: middle;\n",
       "    }\n",
       "\n",
       "    .dataframe tbody tr th {\n",
       "        vertical-align: top;\n",
       "    }\n",
       "\n",
       "    .dataframe thead th {\n",
       "        text-align: right;\n",
       "    }\n",
       "</style>\n",
       "<table border=\"1\" class=\"dataframe\">\n",
       "  <thead>\n",
       "    <tr style=\"text-align: right;\">\n",
       "      <th></th>\n",
       "      <th>id</th>\n",
       "      <th>url</th>\n",
       "      <th>date</th>\n",
       "      <th>edition</th>\n",
       "      <th>text</th>\n",
       "      <th>title</th>\n",
       "      <th>topics</th>\n",
       "      <th>authors</th>\n",
       "      <th>agency_id</th>\n",
       "      <th>date_only</th>\n",
       "    </tr>\n",
       "  </thead>\n",
       "  <tbody>\n",
       "    <tr>\n",
       "      <td>105</td>\n",
       "      <td>106</td>\n",
       "      <td>https://www.interfax.ru/russia/488154</td>\n",
       "      <td>2016-01-01 00:22:00</td>\n",
       "      <td>None</td>\n",
       "      <td>Москва. 1 января. INTERFAX.RU - Президент РФ В...</td>\n",
       "      <td>Путин встретил Новый год в кругу родных и близких</td>\n",
       "      <td>В России</td>\n",
       "      <td>None</td>\n",
       "      <td>1</td>\n",
       "      <td>2016-01</td>\n",
       "    </tr>\n",
       "    <tr>\n",
       "      <td>106</td>\n",
       "      <td>107</td>\n",
       "      <td>https://www.interfax.ru/russia/488155</td>\n",
       "      <td>2016-01-01 01:44:00</td>\n",
       "      <td>None</td>\n",
       "      <td>Москва. 1 января. INTERFAX.RU - Действие догов...</td>\n",
       "      <td>Приостановлено действие договора о зоне свобод...</td>\n",
       "      <td>В России</td>\n",
       "      <td>None</td>\n",
       "      <td>1</td>\n",
       "      <td>2016-01</td>\n",
       "    </tr>\n",
       "    <tr>\n",
       "      <td>107</td>\n",
       "      <td>108</td>\n",
       "      <td>https://www.interfax.ru/russia/488156</td>\n",
       "      <td>2016-01-01 02:04:00</td>\n",
       "      <td>None</td>\n",
       "      <td>Москва. 1 января. INTERFAX.RU - Писатель Дании...</td>\n",
       "      <td>Даниил Гранин отметит 97-летие</td>\n",
       "      <td>В России</td>\n",
       "      <td>None</td>\n",
       "      <td>1</td>\n",
       "      <td>2016-01</td>\n",
       "    </tr>\n",
       "    <tr>\n",
       "      <td>108</td>\n",
       "      <td>109</td>\n",
       "      <td>https://www.interfax.ru/world/488157</td>\n",
       "      <td>2016-01-01 02:15:00</td>\n",
       "      <td>None</td>\n",
       "      <td>Москва. 1 января. INTERFAX.RU - Президент Укра...</td>\n",
       "      <td>Порошенко заявил о широко открытой Украиной дв...</td>\n",
       "      <td>В мире</td>\n",
       "      <td>None</td>\n",
       "      <td>1</td>\n",
       "      <td>2016-01</td>\n",
       "    </tr>\n",
       "    <tr>\n",
       "      <td>110</td>\n",
       "      <td>111</td>\n",
       "      <td>https://www.interfax.ru/world/488158</td>\n",
       "      <td>2016-01-01 02:20:00</td>\n",
       "      <td>None</td>\n",
       "      <td>Москва. 1 января. INTERFAX.RU - Президент Эсто...</td>\n",
       "      <td>Президент Эстонии заявил об изменении привычно...</td>\n",
       "      <td>В мире</td>\n",
       "      <td>None</td>\n",
       "      <td>1</td>\n",
       "      <td>2016-01</td>\n",
       "    </tr>\n",
       "    <tr>\n",
       "      <td>...</td>\n",
       "      <td>...</td>\n",
       "      <td>...</td>\n",
       "      <td>...</td>\n",
       "      <td>...</td>\n",
       "      <td>...</td>\n",
       "      <td>...</td>\n",
       "      <td>...</td>\n",
       "      <td>...</td>\n",
       "      <td>...</td>\n",
       "      <td>...</td>\n",
       "    </tr>\n",
       "    <tr>\n",
       "      <td>180423</td>\n",
       "      <td>180424</td>\n",
       "      <td>https://www.interfax.ru/russia/680146</td>\n",
       "      <td>2019-10-12 21:41:00</td>\n",
       "      <td>None</td>\n",
       "      <td>Москва. 12 октября. INTERFAX.RU - Четверо пост...</td>\n",
       "      <td>Четверо пострадавших в результате ДТП в Подмос...</td>\n",
       "      <td>В России</td>\n",
       "      <td>None</td>\n",
       "      <td>1</td>\n",
       "      <td>2019-10</td>\n",
       "    </tr>\n",
       "    <tr>\n",
       "      <td>180424</td>\n",
       "      <td>180425</td>\n",
       "      <td>https://www.interfax.ru/world/680147</td>\n",
       "      <td>2019-10-12 22:08:00</td>\n",
       "      <td>None</td>\n",
       "      <td>Как Saudi Aramco восстанавливается после атаки...</td>\n",
       "      <td>Несущие колонны Саудовской Аравии</td>\n",
       "      <td>В мире</td>\n",
       "      <td>None</td>\n",
       "      <td>1</td>\n",
       "      <td>2019-10</td>\n",
       "    </tr>\n",
       "    <tr>\n",
       "      <td>180425</td>\n",
       "      <td>180426</td>\n",
       "      <td>https://www.interfax.ru/world/680148</td>\n",
       "      <td>2019-10-12 22:52:00</td>\n",
       "      <td>None</td>\n",
       "      <td>Москва. 12 октября. INTERFAX.RU - Полиция Брюс...</td>\n",
       "      <td>Сотни экоактивистов задержаны в Брюсселе</td>\n",
       "      <td>В мире</td>\n",
       "      <td>None</td>\n",
       "      <td>1</td>\n",
       "      <td>2019-10</td>\n",
       "    </tr>\n",
       "    <tr>\n",
       "      <td>180426</td>\n",
       "      <td>180427</td>\n",
       "      <td>https://www.interfax.ru/world/680149</td>\n",
       "      <td>2019-10-12 23:18:00</td>\n",
       "      <td>None</td>\n",
       "      <td>Москва. 12 октября. INTERFAX.RU - В МИД Франци...</td>\n",
       "      <td>Франция приостанавливает продажу оружия Турции</td>\n",
       "      <td>В мире</td>\n",
       "      <td>None</td>\n",
       "      <td>1</td>\n",
       "      <td>2019-10</td>\n",
       "    </tr>\n",
       "    <tr>\n",
       "      <td>180427</td>\n",
       "      <td>180428</td>\n",
       "      <td>https://www.interfax.ru/russia/680150</td>\n",
       "      <td>2019-10-12 23:53:00</td>\n",
       "      <td>None</td>\n",
       "      <td>Москва. 12 октября. INTERFAX.RU - Девять челов...</td>\n",
       "      <td>Десять человек пострадали в ДТП с автобусом в Уфе</td>\n",
       "      <td>В России</td>\n",
       "      <td>None</td>\n",
       "      <td>1</td>\n",
       "      <td>2019-10</td>\n",
       "    </tr>\n",
       "  </tbody>\n",
       "</table>\n",
       "<p>182275 rows × 10 columns</p>\n",
       "</div>"
      ],
      "text/plain": [
       "            id                                    url                 date  \\\n",
       "105        106  https://www.interfax.ru/russia/488154  2016-01-01 00:22:00   \n",
       "106        107  https://www.interfax.ru/russia/488155  2016-01-01 01:44:00   \n",
       "107        108  https://www.interfax.ru/russia/488156  2016-01-01 02:04:00   \n",
       "108        109   https://www.interfax.ru/world/488157  2016-01-01 02:15:00   \n",
       "110        111   https://www.interfax.ru/world/488158  2016-01-01 02:20:00   \n",
       "...        ...                                    ...                  ...   \n",
       "180423  180424  https://www.interfax.ru/russia/680146  2019-10-12 21:41:00   \n",
       "180424  180425   https://www.interfax.ru/world/680147  2019-10-12 22:08:00   \n",
       "180425  180426   https://www.interfax.ru/world/680148  2019-10-12 22:52:00   \n",
       "180426  180427   https://www.interfax.ru/world/680149  2019-10-12 23:18:00   \n",
       "180427  180428  https://www.interfax.ru/russia/680150  2019-10-12 23:53:00   \n",
       "\n",
       "       edition                                               text  \\\n",
       "105       None  Москва. 1 января. INTERFAX.RU - Президент РФ В...   \n",
       "106       None  Москва. 1 января. INTERFAX.RU - Действие догов...   \n",
       "107       None  Москва. 1 января. INTERFAX.RU - Писатель Дании...   \n",
       "108       None  Москва. 1 января. INTERFAX.RU - Президент Укра...   \n",
       "110       None  Москва. 1 января. INTERFAX.RU - Президент Эсто...   \n",
       "...        ...                                                ...   \n",
       "180423    None  Москва. 12 октября. INTERFAX.RU - Четверо пост...   \n",
       "180424    None  Как Saudi Aramco восстанавливается после атаки...   \n",
       "180425    None  Москва. 12 октября. INTERFAX.RU - Полиция Брюс...   \n",
       "180426    None  Москва. 12 октября. INTERFAX.RU - В МИД Франци...   \n",
       "180427    None  Москва. 12 октября. INTERFAX.RU - Девять челов...   \n",
       "\n",
       "                                                    title    topics authors  \\\n",
       "105     Путин встретил Новый год в кругу родных и близких  В России    None   \n",
       "106     Приостановлено действие договора о зоне свобод...  В России    None   \n",
       "107                        Даниил Гранин отметит 97-летие  В России    None   \n",
       "108     Порошенко заявил о широко открытой Украиной дв...    В мире    None   \n",
       "110     Президент Эстонии заявил об изменении привычно...    В мире    None   \n",
       "...                                                   ...       ...     ...   \n",
       "180423  Четверо пострадавших в результате ДТП в Подмос...  В России    None   \n",
       "180424                  Несущие колонны Саудовской Аравии    В мире    None   \n",
       "180425           Сотни экоактивистов задержаны в Брюсселе    В мире    None   \n",
       "180426     Франция приостанавливает продажу оружия Турции    В мире    None   \n",
       "180427  Десять человек пострадали в ДТП с автобусом в Уфе  В России    None   \n",
       "\n",
       "        agency_id date_only  \n",
       "105             1   2016-01  \n",
       "106             1   2016-01  \n",
       "107             1   2016-01  \n",
       "108             1   2016-01  \n",
       "110             1   2016-01  \n",
       "...           ...       ...  \n",
       "180423          1   2019-10  \n",
       "180424          1   2019-10  \n",
       "180425          1   2019-10  \n",
       "180426          1   2019-10  \n",
       "180427          1   2019-10  \n",
       "\n",
       "[182275 rows x 10 columns]"
      ]
     },
     "execution_count": 43,
     "metadata": {},
     "output_type": "execute_result"
    }
   ],
   "source": [
    "df.sort_values(\"date\")"
   ]
  },
  {
   "cell_type": "code",
   "execution_count": 3,
   "metadata": {},
   "outputs": [],
   "source": [
    "from sqlalchemy.orm import sessionmaker\n",
    "\n",
    "from purano.models import Document, Info\n",
    "\n",
    "Session = sessionmaker(bind=engine)                                                             \n",
    "session = Session()                                                                             \n",
    "query = session.query(Document)                                                                     \n",
    "query = query.join(Document.info) "
   ]
  },
  {
   "cell_type": "code",
   "execution_count": 4,
   "metadata": {},
   "outputs": [
    {
     "name": "stdout",
     "output_type": "stream",
     "text": [
      "[(0, 6, 'LOC'), (18, 29, 'ORG'), (54, 88, 'LOC'), (171, 174, 'LOC'), (175, 188, 'PER'), (647, 655, 'LOC'), (697, 700, 'LOC'), (701, 722, 'PER'), (813, 820, 'PER'), (844, 847, 'ORG'), (912, 924, 'LOC'), (926, 933, 'LOC'), (955, 985, 'LOC'), (1033, 1054, 'LOC'), (1139, 1146, 'PER'), (1193, 1214, 'LOC')]\n"
     ]
    },
    {
     "data": {
      "text/html": [
       "<div class=\"tex2jax_ignore\" style=\"white-space: pre-wrap\"><span style=\"padding: 2px; border-radius: 4px; border: 1px solid #c8e6c9; background: #e8f5e9\">Москва<span style=\"vertical-align: middle; margin-left: 2px; font-size: 0.7em; color: #66bb6a;\">LOC</span></span>. 1 января. <span style=\"padding: 2px; border-radius: 4px; border: 1px solid #ffcdd2; background: #ffebee\">INTERFAX.RU<span style=\"vertical-align: middle; margin-left: 2px; font-size: 0.7em; color: #e57373;\">ORG</span></span> - В самопровозглашенной <span style=\"padding: 2px; border-radius: 4px; border: 1px solid #c8e6c9; background: #e8f5e9\">Донецкой народной республике (ДНР)<span style=\"vertical-align: middle; margin-left: 2px; font-size: 0.7em; color: #66bb6a;\">LOC</span></span> в 2019 году предстоит осуществить масштабный перезапуск предприятий, заявил глава <span style=\"padding: 2px; border-radius: 4px; border: 1px solid #c8e6c9; background: #e8f5e9\">ДНР<span style=\"vertical-align: middle; margin-left: 2px; font-size: 0.7em; color: #66bb6a;\">LOC</span></span> <span style=\"padding: 2px; border-radius: 4px; border: 1px solid #bbdefb; background: #e3f2fd\">Денис Пушилин<span style=\"vertical-align: middle; margin-left: 2px; font-size: 0.7em; color: #64b5f6;\">PER</span></span> в своем новогоднем поздравлении. \"В 2019 году в приоритете экономическое развитие республики и повышение благосостояния наших граждан (...) Нам предстоит масштабный перезапуск промышленности - разработана дорожная карта развития металлургических, коксохимических, машиностроительных и горнодобывающих предприятий. У нас много работы в финансово-экономическом секторе, в сфере развития банковской системы\", - сказал он. По его словам 2018 год вошел в историю <span style=\"padding: 2px; border-radius: 4px; border: 1px solid #c8e6c9; background: #e8f5e9\">Донбасса<span style=\"vertical-align: middle; margin-left: 2px; font-size: 0.7em; color: #66bb6a;\">LOC</span></span> как год трагической гибели первого главы <span style=\"padding: 2px; border-radius: 4px; border: 1px solid #c8e6c9; background: #e8f5e9\">ДНР<span style=\"vertical-align: middle; margin-left: 2px; font-size: 0.7em; color: #66bb6a;\">LOC</span></span> <span style=\"padding: 2px; border-radius: 4px; border: 1px solid #bbdefb; background: #e3f2fd\">Александра Захарченко<span style=\"vertical-align: middle; margin-left: 2px; font-size: 0.7em; color: #64b5f6;\">PER</span></span>. \"Это всенародное горе, но оно объединило нас, мы выстояли, мы стали сильнее!\", - отметил <span style=\"padding: 2px; border-radius: 4px; border: 1px solid #bbdefb; background: #e3f2fd\">Пушилин<span style=\"vertical-align: middle; margin-left: 2px; font-size: 0.7em; color: #64b5f6;\">PER</span></span>. Также он добавил, что <span style=\"padding: 2px; border-radius: 4px; border: 1px solid #ffcdd2; background: #ffebee\">ДНР<span style=\"vertical-align: middle; margin-left: 2px; font-size: 0.7em; color: #e57373;\">ORG</span></span> активно сотрудничает с дружественными государствами, такими как <span style=\"padding: 2px; border-radius: 4px; border: 1px solid #c8e6c9; background: #e8f5e9\">Южная Осетия<span style=\"vertical-align: middle; margin-left: 2px; font-size: 0.7em; color: #66bb6a;\">LOC</span></span>, <span style=\"padding: 2px; border-radius: 4px; border: 1px solid #c8e6c9; background: #e8f5e9\">Абхазия<span style=\"vertical-align: middle; margin-left: 2px; font-size: 0.7em; color: #66bb6a;\">LOC</span></span>, самопровозглашенной <span style=\"padding: 2px; border-radius: 4px; border: 1px solid #c8e6c9; background: #e8f5e9\">Луганской народной республикой<span style=\"vertical-align: middle; margin-left: 2px; font-size: 0.7em; color: #66bb6a;\">LOC</span></span>, и продолжает курс на интеграцию и сближение с <span style=\"padding: 2px; border-radius: 4px; border: 1px solid #c8e6c9; background: #e8f5e9\">Российской Федерацией<span style=\"vertical-align: middle; margin-left: 2px; font-size: 0.7em; color: #66bb6a;\">LOC</span></span>. \"И я убежден: в новом году появятся новые перспективы сотрудничества, - подчеркнул <span style=\"padding: 2px; border-radius: 4px; border: 1px solid #bbdefb; background: #e3f2fd\">Пушилин<span style=\"vertical-align: middle; margin-left: 2px; font-size: 0.7em; color: #64b5f6;\">PER</span></span>. - Наше единство, наши разносторонние связи с <span style=\"padding: 2px; border-radius: 4px; border: 1px solid #c8e6c9; background: #e8f5e9\">Российской Федерацией<span style=\"vertical-align: middle; margin-left: 2px; font-size: 0.7em; color: #66bb6a;\">LOC</span></span> будут крепнуть день ото дня\".</div>"
      ],
      "text/plain": [
       "BoxMarkup('Москва. 1 января. INTERFAX.RU - В самопровозглашенной Донецкой народной республике (ДНР) в 2019 году предстоит осуществить масштабный перезапуск предприятий, заявил глава ДНР Денис Пушилин в своем новогоднем поздравлении. \"В 2019 году в приоритете экономическое развитие республики и повышение благосостояния наших граждан (...) Нам предстоит масштабный перезапуск промышленности - разработана дорожная карта развития металлургических, коксохимических, машиностроительных и горнодобывающих предприятий. У нас много работы в финансово-экономическом секторе, в сфере развития банковской системы\", - сказал он. По его словам 2018 год вошел в историю Донбасса как год трагической гибели первого главы ДНР Александра Захарченко. \"Это всенародное горе, но оно объединило нас, мы выстояли, мы стали сильнее!\", - отметил Пушилин. Также он добавил, что ДНР активно сотрудничает с дружественными государствами, такими как Южная Осетия, Абхазия, самопровозглашенной Луганской народной республикой, и продолжает курс на интеграцию и сближение с Российской Федерацией. \"И я убежден: в новом году появятся новые перспективы сотрудничества, - подчеркнул Пушилин. - Наше единство, наши разносторонние связи с Российской Федерацией будут крепнуть день ото дня\".',\n",
       "          [Span(0, 6, 'LOC'),\n",
       "           Span(18, 29, 'ORG'),\n",
       "           Span(54, 88, 'LOC'),\n",
       "           Span(171, 174, 'LOC'),\n",
       "           Span(175, 188, 'PER'),\n",
       "           Span(647, 655, 'LOC'),\n",
       "           Span(697, 700, 'LOC'),\n",
       "           Span(701, 722, 'PER'),\n",
       "           Span(813, 820, 'PER'),\n",
       "           Span(844, 847, 'ORG'),\n",
       "           Span(912, 924, 'LOC'),\n",
       "           Span(926, 933, 'LOC'),\n",
       "           Span(955, 985, 'LOC'),\n",
       "           Span(1033, 1054, 'LOC'),\n",
       "           Span(1139, 1146, 'PER'),\n",
       "           Span(1193, 1214, 'LOC')])"
      ]
     },
     "metadata": {},
     "output_type": "display_data"
    },
    {
     "name": "stdout",
     "output_type": "stream",
     "text": [
      "[(0, 6, 'LOC'), (18, 29, 'ORG'), (120, 134, 'LOC'), (137, 143, 'LOC'), (155, 165, 'ORG'), (597, 607, 'ORG'), (769, 772, 'ORG'), (774, 784, 'ORG')]\n"
     ]
    },
    {
     "data": {
      "text/html": [
       "<div class=\"tex2jax_ignore\" style=\"white-space: pre-wrap\"><span style=\"padding: 2px; border-radius: 4px; border: 1px solid #c8e6c9; background: #e8f5e9\">Москва<span style=\"vertical-align: middle; margin-left: 2px; font-size: 0.7em; color: #66bb6a;\">LOC</span></span>. 1 января. <span style=\"padding: 2px; border-radius: 4px; border: 1px solid #ffcdd2; background: #ffebee\">INTERFAX.RU<span style=\"vertical-align: middle; margin-left: 2px; font-size: 0.7em; color: #e57373;\">ORG</span></span> - Не менее трех человек пострадали в результате обрушения конструкции деревянного моста в <span style=\"padding: 2px; border-radius: 4px; border: 1px solid #c8e6c9; background: #e8f5e9\">Парке Горького<span style=\"vertical-align: middle; margin-left: 2px; font-size: 0.7em; color: #66bb6a;\">LOC</span></span> в <span style=\"padding: 2px; border-radius: 4px; border: 1px solid #c8e6c9; background: #e8f5e9\">Москве<span style=\"vertical-align: middle; margin-left: 2px; font-size: 0.7em; color: #66bb6a;\">LOC</span></span>, сообщили \"<span style=\"padding: 2px; border-radius: 4px; border: 1px solid #ffcdd2; background: #ffebee\">Интерфаксу<span style=\"vertical-align: middle; margin-left: 2px; font-size: 0.7em; color: #e57373;\">ORG</span></span>\" во вторник информированные источники. \"Во время запуска фейерверков и новогодних поздравлений рухнула конструкция деревянного моста. Три человека получили травмы средней степени тяжести\", - сказал один из собеседников агентства. По его словам, медиками будет принято решение о необходимости госпитализации пострадавших. \"Еще несколько находившихся на мосту человек отделались легким испугом\", - добавил источник. Другой источник \"<span style=\"padding: 2px; border-radius: 4px; border: 1px solid #ffcdd2; background: #ffebee\">Интерфакса<span style=\"vertical-align: middle; margin-left: 2px; font-size: 0.7em; color: #e57373;\">ORG</span></span>\" пояснил, что в результате падения с моста высотой 5 метров пострадали пять человек. Они были госпитализированы. В свою очередь в пресс-службе столичного главка <span style=\"padding: 2px; border-radius: 4px; border: 1px solid #ffcdd2; background: #ffebee\">МЧС<span style=\"vertical-align: middle; margin-left: 2px; font-size: 0.7em; color: #e57373;\">ORG</span></span> \"<span style=\"padding: 2px; border-radius: 4px; border: 1px solid #ffcdd2; background: #ffebee\">Интерфаксу<span style=\"vertical-align: middle; margin-left: 2px; font-size: 0.7em; color: #e57373;\">ORG</span></span>\" сообщили, что подобная заявка поступала в дежурную часть, но прибывшие на место спасатели не привлекались ни к каким работам.</div>"
      ],
      "text/plain": [
       "BoxMarkup('Москва. 1 января. INTERFAX.RU - Не менее трех человек пострадали в результате обрушения конструкции деревянного моста в Парке Горького в Москве, сообщили \"Интерфаксу\" во вторник информированные источники. \"Во время запуска фейерверков и новогодних поздравлений рухнула конструкция деревянного моста. Три человека получили травмы средней степени тяжести\", - сказал один из собеседников агентства. По его словам, медиками будет принято решение о необходимости госпитализации пострадавших. \"Еще несколько находившихся на мосту человек отделались легким испугом\", - добавил источник. Другой источник \"Интерфакса\" пояснил, что в результате падения с моста высотой 5 метров пострадали пять человек. Они были госпитализированы. В свою очередь в пресс-службе столичного главка МЧС \"Интерфаксу\" сообщили, что подобная заявка поступала в дежурную часть, но прибывшие на место спасатели не привлекались ни к каким работам.',\n",
       "          [Span(0, 6, 'LOC'),\n",
       "           Span(18, 29, 'ORG'),\n",
       "           Span(120, 134, 'LOC'),\n",
       "           Span(137, 143, 'LOC'),\n",
       "           Span(155, 165, 'ORG'),\n",
       "           Span(597, 607, 'ORG'),\n",
       "           Span(769, 772, 'ORG'),\n",
       "           Span(774, 784, 'ORG')])"
      ]
     },
     "metadata": {},
     "output_type": "display_data"
    },
    {
     "name": "stdout",
     "output_type": "stream",
     "text": [
      "[(0, 6, 'LOC'), (18, 29, 'ORG'), (120, 134, 'LOC'), (137, 143, 'LOC'), (154, 164, 'ORG'), (311, 317, 'LOC'), (348, 362, 'LOC'), (437, 451, 'LOC'), (908, 914, 'LOC')]\n"
     ]
    },
    {
     "data": {
      "text/html": [
       "<div class=\"tex2jax_ignore\" style=\"white-space: pre-wrap\"><span style=\"padding: 2px; border-radius: 4px; border: 1px solid #c8e6c9; background: #e8f5e9\">Москва<span style=\"vertical-align: middle; margin-left: 2px; font-size: 0.7em; color: #66bb6a;\">LOC</span></span>. 1 января. <span style=\"padding: 2px; border-radius: 4px; border: 1px solid #ffcdd2; background: #ffebee\">INTERFAX.RU<span style=\"vertical-align: middle; margin-left: 2px; font-size: 0.7em; color: #e57373;\">ORG</span></span> - Десять человек госпитализированы в результате обрушения конструкции деревянного моста в <span style=\"padding: 2px; border-radius: 4px; border: 1px solid #c8e6c9; background: #e8f5e9\">Парке Горького<span style=\"vertical-align: middle; margin-left: 2px; font-size: 0.7em; color: #66bb6a;\">LOC</span></span> в <span style=\"padding: 2px; border-radius: 4px; border: 1px solid #c8e6c9; background: #e8f5e9\">Москве<span style=\"vertical-align: middle; margin-left: 2px; font-size: 0.7em; color: #66bb6a;\">LOC</span></span>, сообщил \"<span style=\"padding: 2px; border-radius: 4px; border: 1px solid #ffcdd2; background: #ffebee\">Интерфаксу<span style=\"vertical-align: middle; margin-left: 2px; font-size: 0.7em; color: #e57373;\">ORG</span></span>\" осведомленный источник. \"Десять человек госпитализированы, состояние уточняется\", - сказал собеседник агентства. Между тем официальный сайт мэра <span style=\"padding: 2px; border-radius: 4px; border: 1px solid #c8e6c9; background: #e8f5e9\">Москвы<span style=\"vertical-align: middle; margin-left: 2px; font-size: 0.7em; color: #66bb6a;\">LOC</span></span> сообщает о поломке на катке в <span style=\"padding: 2px; border-radius: 4px; border: 1px solid #c8e6c9; background: #e8f5e9\">Парке Горького<span style=\"vertical-align: middle; margin-left: 2px; font-size: 0.7em; color: #66bb6a;\">LOC</span></span>. \"В результате технической неисправности конструктивных элементов катка в <span style=\"padding: 2px; border-radius: 4px; border: 1px solid #c8e6c9; background: #e8f5e9\">Парке Горького<span style=\"vertical-align: middle; margin-left: 2px; font-size: 0.7em; color: #66bb6a;\">LOC</span></span> произошла поломка оборудования. Уже через несколько минут после происшествия пострадавшим начали оказывать медицинскую помощь\", - говорится в сообщении. В нем отмечается, что поломка затронула всего несколько квадратных метров ледовой площадки. По информации пресс-службы парка, участок катка огорожен, на остальной территории продолжают кататься посетители. \"За помощью обратилось 13 человек, им оказывается необходимая помощь, - сообщается на сайте мэра <span style=\"padding: 2px; border-radius: 4px; border: 1px solid #c8e6c9; background: #e8f5e9\">Москвы<span style=\"vertical-align: middle; margin-left: 2px; font-size: 0.7em; color: #66bb6a;\">LOC</span></span>. - Тяжелых пострадавших нет\".</div>"
      ],
      "text/plain": [
       "BoxMarkup('Москва. 1 января. INTERFAX.RU - Десять человек госпитализированы в результате обрушения конструкции деревянного моста в Парке Горького в Москве, сообщил \"Интерфаксу\" осведомленный источник. \"Десять человек госпитализированы, состояние уточняется\", - сказал собеседник агентства. Между тем официальный сайт мэра Москвы сообщает о поломке на катке в Парке Горького. \"В результате технической неисправности конструктивных элементов катка в Парке Горького произошла поломка оборудования. Уже через несколько минут после происшествия пострадавшим начали оказывать медицинскую помощь\", - говорится в сообщении. В нем отмечается, что поломка затронула всего несколько квадратных метров ледовой площадки. По информации пресс-службы парка, участок катка огорожен, на остальной территории продолжают кататься посетители. \"За помощью обратилось 13 человек, им оказывается необходимая помощь, - сообщается на сайте мэра Москвы. - Тяжелых пострадавших нет\".',\n",
       "          [Span(0, 6, 'LOC'),\n",
       "           Span(18, 29, 'ORG'),\n",
       "           Span(120, 134, 'LOC'),\n",
       "           Span(137, 143, 'LOC'),\n",
       "           Span(154, 164, 'ORG'),\n",
       "           Span(311, 317, 'LOC'),\n",
       "           Span(348, 362, 'LOC'),\n",
       "           Span(437, 451, 'LOC'),\n",
       "           Span(908, 914, 'LOC')])"
      ]
     },
     "metadata": {},
     "output_type": "display_data"
    },
    {
     "name": "stdout",
     "output_type": "stream",
     "text": [
      "[(0, 6, 'LOC'), (18, 29, 'ORG'), (48, 66, 'PER'), (128, 135, 'LOC'), (173, 183, 'PER'), (233, 236, 'ORG'), (300, 307, 'LOC'), (308, 323, 'PER'), (450, 457, 'LOC')]\n"
     ]
    },
    {
     "data": {
      "text/html": [
       "<div class=\"tex2jax_ignore\" style=\"white-space: pre-wrap\"><span style=\"padding: 2px; border-radius: 4px; border: 1px solid #c8e6c9; background: #e8f5e9\">Москва<span style=\"vertical-align: middle; margin-left: 2px; font-size: 0.7em; color: #66bb6a;\">LOC</span></span>. 1 января. <span style=\"padding: 2px; border-radius: 4px; border: 1px solid #ffcdd2; background: #ffebee\">INTERFAX.RU<span style=\"vertical-align: middle; margin-left: 2px; font-size: 0.7em; color: #e57373;\">ORG</span></span> - Шоумен и артист <span style=\"padding: 2px; border-radius: 4px; border: 1px solid #bbdefb; background: #e3f2fd\">Владимир Зеленский<span style=\"vertical-align: middle; margin-left: 2px; font-size: 0.7em; color: #64b5f6;\">PER</span></span> заявил, что выдвигает свою кандидатуру на выборах президента <span style=\"padding: 2px; border-radius: 4px; border: 1px solid #c8e6c9; background: #e8f5e9\">Украины<span style=\"vertical-align: middle; margin-left: 2px; font-size: 0.7em; color: #66bb6a;\">LOC</span></span>, которые пройдут 31 марта. Заявление <span style=\"padding: 2px; border-radius: 4px; border: 1px solid #bbdefb; background: #e3f2fd\">Зеленского<span style=\"vertical-align: middle; margin-left: 2px; font-size: 0.7em; color: #64b5f6;\">PER</span></span> прозвучало в рамках его обращения на телеканале \"<span style=\"padding: 2px; border-radius: 4px; border: 1px solid #ffcdd2; background: #ffebee\">1+1<span style=\"vertical-align: middle; margin-left: 2px; font-size: 0.7em; color: #e57373;\">ORG</span></span>\", которое было показано перед новогодним обращением президента <span style=\"padding: 2px; border-radius: 4px; border: 1px solid #c8e6c9; background: #e8f5e9\">Украины<span style=\"vertical-align: middle; margin-left: 2px; font-size: 0.7em; color: #66bb6a;\">LOC</span></span> <span style=\"padding: 2px; border-radius: 4px; border: 1px solid #bbdefb; background: #e3f2fd\">Петра Порошенко<span style=\"vertical-align: middle; margin-left: 2px; font-size: 0.7em; color: #64b5f6;\">PER</span></span>. Поздравление главы украинского государства было показано в эфире телеканала уже после наступления нового года. 31 декабря на <span style=\"padding: 2px; border-radius: 4px; border: 1px solid #c8e6c9; background: #e8f5e9\">Украине<span style=\"vertical-align: middle; margin-left: 2px; font-size: 0.7em; color: #66bb6a;\">LOC</span></span> стартовала президентская избирательная кампания.</div>"
      ],
      "text/plain": [
       "BoxMarkup('Москва. 1 января. INTERFAX.RU - Шоумен и артист Владимир Зеленский заявил, что выдвигает свою кандидатуру на выборах президента Украины, которые пройдут 31 марта. Заявление Зеленского прозвучало в рамках его обращения на телеканале \"1+1\", которое было показано перед новогодним обращением президента Украины Петра Порошенко. Поздравление главы украинского государства было показано в эфире телеканала уже после наступления нового года. 31 декабря на Украине стартовала президентская избирательная кампания.',\n",
       "          [Span(0, 6, 'LOC'),\n",
       "           Span(18, 29, 'ORG'),\n",
       "           Span(48, 66, 'PER'),\n",
       "           Span(128, 135, 'LOC'),\n",
       "           Span(173, 183, 'PER'),\n",
       "           Span(233, 236, 'ORG'),\n",
       "           Span(300, 307, 'LOC'),\n",
       "           Span(308, 323, 'PER'),\n",
       "           Span(450, 457, 'LOC')])"
      ]
     },
     "metadata": {},
     "output_type": "display_data"
    },
    {
     "name": "stdout",
     "output_type": "stream",
     "text": [
      "[]\n"
     ]
    },
    {
     "data": {
      "text/html": [
       "<div class=\"tex2jax_ignore\" style=\"white-space: pre-wrap\">В третьем периоде матча чемпионата мира по хоккею среди молодежных команд россияне повели в счете В матче определится победитель группы А, обе команды обеспечили себе выход в плей-офф</div>"
      ],
      "text/plain": [
       "BoxMarkup('В третьем периоде матча чемпионата мира по хоккею среди молодежных команд россияне повели в счете В матче определится победитель группы А, обе команды обеспечили себе выход в плей-офф',\n",
       "          [])"
      ]
     },
     "metadata": {},
     "output_type": "display_data"
    },
    {
     "name": "stdout",
     "output_type": "stream",
     "text": [
      "[(0, 6, 'LOC'), (18, 29, 'ORG'), (66, 73, 'LOC'), (77, 85, 'LOC'), (154, 156, 'ORG'), (157, 160, 'ORG'), (164, 180, 'LOC'), (364, 367, 'ORG'), (406, 429, 'LOC'), (452, 460, 'PER')]\n"
     ]
    },
    {
     "data": {
      "text/html": [
       "<div class=\"tex2jax_ignore\" style=\"white-space: pre-wrap\"><span style=\"padding: 2px; border-radius: 4px; border: 1px solid #c8e6c9; background: #e8f5e9\">Москва<span style=\"vertical-align: middle; margin-left: 2px; font-size: 0.7em; color: #66bb6a;\">LOC</span></span>. 1 января. <span style=\"padding: 2px; border-radius: 4px; border: 1px solid #ffcdd2; background: #ffebee\">INTERFAX.RU<span style=\"vertical-align: middle; margin-left: 2px; font-size: 0.7em; color: #e57373;\">ORG</span></span> - Столб пепла, выброшенный вулканом <span style=\"padding: 2px; border-radius: 4px; border: 1px solid #c8e6c9; background: #e8f5e9\">Шивелуч<span style=\"vertical-align: middle; margin-left: 2px; font-size: 0.7em; color: #66bb6a;\">LOC</span></span> на <span style=\"padding: 2px; border-radius: 4px; border: 1px solid #c8e6c9; background: #e8f5e9\">Камчатке<span style=\"vertical-align: middle; margin-left: 2px; font-size: 0.7em; color: #66bb6a;\">LOC</span></span>, поднялся на высоту до 4,5 км над уровнем моря, сообщается на сайте <span style=\"padding: 2px; border-radius: 4px; border: 1px solid #ffcdd2; background: #ffebee\">ГУ<span style=\"vertical-align: middle; margin-left: 2px; font-size: 0.7em; color: #e57373;\">ORG</span></span> <span style=\"padding: 2px; border-radius: 4px; border: 1px solid #ffcdd2; background: #ffebee\">МЧС<span style=\"vertical-align: middle; margin-left: 2px; font-size: 0.7em; color: #e57373;\">ORG</span></span> по <span style=\"padding: 2px; border-radius: 4px; border: 1px solid #c8e6c9; background: #e8f5e9\">Камчатскому краю<span style=\"vertical-align: middle; margin-left: 2px; font-size: 0.7em; color: #66bb6a;\">LOC</span></span> в понедельник. \"Пепловый шлейф распространился в юго-западном направлении. На пути распространения пеплового шлейфа населённые пункты отсутствуют\", - говорится в сообщении. По данным <span style=\"padding: 2px; border-radius: 4px; border: 1px solid #ffcdd2; background: #ffebee\">МЧС<span style=\"vertical-align: middle; margin-left: 2px; font-size: 0.7em; color: #e57373;\">ORG</span></span>, выпадение пепла в населенных пунктах <span style=\"padding: 2px; border-radius: 4px; border: 1px solid #c8e6c9; background: #e8f5e9\">Усть-Камчатского района<span style=\"vertical-align: middle; margin-left: 2px; font-size: 0.7em; color: #66bb6a;\">LOC</span></span> не зафиксировано. Для <span style=\"padding: 2px; border-radius: 4px; border: 1px solid #bbdefb; background: #e3f2fd\">Шивелуча<span style=\"vertical-align: middle; margin-left: 2px; font-size: 0.7em; color: #64b5f6;\">PER</span></span> установлен один из наиболее угрожающих - оранжевый цветовой код опасности для авиации.</div>"
      ],
      "text/plain": [
       "BoxMarkup('Москва. 1 января. INTERFAX.RU - Столб пепла, выброшенный вулканом Шивелуч на Камчатке, поднялся на высоту до 4,5 км над уровнем моря, сообщается на сайте ГУ МЧС по Камчатскому краю в понедельник. \"Пепловый шлейф распространился в юго-западном направлении. На пути распространения пеплового шлейфа населённые пункты отсутствуют\", - говорится в сообщении. По данным МЧС, выпадение пепла в населенных пунктах Усть-Камчатского района не зафиксировано. Для Шивелуча установлен один из наиболее угрожающих - оранжевый цветовой код опасности для авиации.',\n",
       "          [Span(0, 6, 'LOC'),\n",
       "           Span(18, 29, 'ORG'),\n",
       "           Span(66, 73, 'LOC'),\n",
       "           Span(77, 85, 'LOC'),\n",
       "           Span(154, 156, 'ORG'),\n",
       "           Span(157, 160, 'ORG'),\n",
       "           Span(164, 180, 'LOC'),\n",
       "           Span(364, 367, 'ORG'),\n",
       "           Span(406, 429, 'LOC'),\n",
       "           Span(452, 460, 'PER')])"
      ]
     },
     "metadata": {},
     "output_type": "display_data"
    },
    {
     "name": "stdout",
     "output_type": "stream",
     "text": [
      "[(16, 26, 'ORG'), (106, 112, 'LOC'), (124, 135, 'ORG'), (142, 148, 'LOC'), (149, 163, 'PER'), (225, 239, 'LOC'), (532, 542, 'ORG'), (604, 618, 'LOC')]\n"
     ]
    },
    {
     "data": {
      "text/html": [
       "<div class=\"tex2jax_ignore\" style=\"white-space: pre-wrap\">Ранее источник \"<span style=\"padding: 2px; border-radius: 4px; border: 1px solid #ffcdd2; background: #ffebee\">Интерфакса<span style=\"vertical-align: middle; margin-left: 2px; font-size: 0.7em; color: #e57373;\">ORG</span></span>\" сообщил об обрушении конструкции деревянного моста в парке, есть пострадавшие <span style=\"padding: 2px; border-radius: 4px; border: 1px solid #c8e6c9; background: #e8f5e9\">Москва<span style=\"vertical-align: middle; margin-left: 2px; font-size: 0.7em; color: #66bb6a;\">LOC</span></span>. 1 января. <span style=\"padding: 2px; border-radius: 4px; border: 1px solid #ffcdd2; background: #ffebee\">INTERFAX.RU<span style=\"vertical-align: middle; margin-left: 2px; font-size: 0.7em; color: #e57373;\">ORG</span></span> - Мэр <span style=\"padding: 2px; border-radius: 4px; border: 1px solid #c8e6c9; background: #e8f5e9\">Москвы<span style=\"vertical-align: middle; margin-left: 2px; font-size: 0.7em; color: #66bb6a;\">LOC</span></span> <span style=\"padding: 2px; border-radius: 4px; border: 1px solid #bbdefb; background: #e3f2fd\">Сергей Собянин<span style=\"vertical-align: middle; margin-left: 2px; font-size: 0.7em; color: #64b5f6;\">PER</span></span> пообещал разобрать в причинах поломки пешеходного перехода в <span style=\"padding: 2px; border-radius: 4px; border: 1px solid #c8e6c9; background: #e8f5e9\">Парке Горького<span style=\"vertical-align: middle; margin-left: 2px; font-size: 0.7em; color: #66bb6a;\">LOC</span></span> в новогоднюю ночь, в результате чего пострадали несколько человек. \"Пострадали несколько человек. Искренне им сочувствую. Всем оказана медицинская помощь. С причинами происшествия разберемся\", - написал он на своей странице в твиттере в ночь на вторник. Ранее осведомленный источник сообщил \"<span style=\"padding: 2px; border-radius: 4px; border: 1px solid #ffcdd2; background: #ffebee\">Интерфаксу<span style=\"vertical-align: middle; margin-left: 2px; font-size: 0.7em; color: #e57373;\">ORG</span></span>\", что в результате обрушения конструкции деревянного моста в <span style=\"padding: 2px; border-radius: 4px; border: 1px solid #c8e6c9; background: #e8f5e9\">Парке Горького<span style=\"vertical-align: middle; margin-left: 2px; font-size: 0.7em; color: #66bb6a;\">LOC</span></span> были госпитализированы десять человек . По сообщению пресс-службы парка, за медпомощью в результате инцидента обратилось 13 человек, тяжелых пострадавших нет.</div>"
      ],
      "text/plain": [
       "BoxMarkup('Ранее источник \"Интерфакса\" сообщил об обрушении конструкции деревянного моста в парке, есть пострадавшие Москва. 1 января. INTERFAX.RU - Мэр Москвы Сергей Собянин пообещал разобрать в причинах поломки пешеходного перехода в Парке Горького в новогоднюю ночь, в результате чего пострадали несколько человек. \"Пострадали несколько человек. Искренне им сочувствую. Всем оказана медицинская помощь. С причинами происшествия разберемся\", - написал он на своей странице в твиттере в ночь на вторник. Ранее осведомленный источник сообщил \"Интерфаксу\", что в результате обрушения конструкции деревянного моста в Парке Горького были госпитализированы десять человек . По сообщению пресс-службы парка, за медпомощью в результате инцидента обратилось 13 человек, тяжелых пострадавших нет.',\n",
       "          [Span(16, 26, 'ORG'),\n",
       "           Span(106, 112, 'LOC'),\n",
       "           Span(124, 135, 'ORG'),\n",
       "           Span(142, 148, 'LOC'),\n",
       "           Span(149, 163, 'PER'),\n",
       "           Span(225, 239, 'LOC'),\n",
       "           Span(532, 542, 'ORG'),\n",
       "           Span(604, 618, 'LOC')])"
      ]
     },
     "metadata": {},
     "output_type": "display_data"
    },
    {
     "name": "stdout",
     "output_type": "stream",
     "text": [
      "[(0, 6, 'LOC'), (18, 29, 'ORG'), (117, 130, 'LOC'), (152, 166, 'ORG'), (183, 185, 'ORG'), (186, 189, 'ORG'), (193, 212, 'LOC'), (494, 507, 'LOC'), (676, 688, 'LOC'), (908, 910, 'LOC')]\n"
     ]
    },
    {
     "data": {
      "text/html": [
       "<div class=\"tex2jax_ignore\" style=\"white-space: pre-wrap\"><span style=\"padding: 2px; border-radius: 4px; border: 1px solid #c8e6c9; background: #e8f5e9\">Москва<span style=\"vertical-align: middle; margin-left: 2px; font-size: 0.7em; color: #66bb6a;\">LOC</span></span>. 1 января. <span style=\"padding: 2px; border-radius: 4px; border: 1px solid #ffcdd2; background: #ffebee\">INTERFAX.RU<span style=\"vertical-align: middle; margin-left: 2px; font-size: 0.7em; color: #e57373;\">ORG</span></span> - Тела пяти человек извлечены из-под завалов на месте обрушения подъезда жилого дома в <span style=\"padding: 2px; border-radius: 4px; border: 1px solid #c8e6c9; background: #e8f5e9\">Магнитогорске<span style=\"vertical-align: middle; margin-left: 2px; font-size: 0.7em; color: #66bb6a;\">LOC</span></span>, сообщили агентству \"<span style=\"padding: 2px; border-radius: 4px; border: 1px solid #ffcdd2; background: #ffebee\">Интерфакс-Урал<span style=\"vertical-align: middle; margin-left: 2px; font-size: 0.7em; color: #e57373;\">ORG</span></span>\" в пресс-службе <span style=\"padding: 2px; border-radius: 4px; border: 1px solid #ffcdd2; background: #ffebee\">ГУ<span style=\"vertical-align: middle; margin-left: 2px; font-size: 0.7em; color: #e57373;\">ORG</span></span> <span style=\"padding: 2px; border-radius: 4px; border: 1px solid #ffcdd2; background: #ffebee\">МЧС<span style=\"vertical-align: middle; margin-left: 2px; font-size: 0.7em; color: #e57373;\">ORG</span></span> по <span style=\"padding: 2px; border-radius: 4px; border: 1px solid #c8e6c9; background: #e8f5e9\">Челябинской области<span style=\"vertical-align: middle; margin-left: 2px; font-size: 0.7em; color: #66bb6a;\">LOC</span></span>. \"Извлечены тела пяти человек, детей среди них нет\", - отметил представитель пресс-службы. По его словам, на месте происшествия работы ведутся круглосуточно без перерыва. \"Работают в четыре смены по два часа. На улице мороз за 20 градусов\", - добавил представитель пресс-службы. В <span style=\"padding: 2px; border-radius: 4px; border: 1px solid #c8e6c9; background: #e8f5e9\">Магнитогорске<span style=\"vertical-align: middle; margin-left: 2px; font-size: 0.7em; color: #66bb6a;\">LOC</span></span> в понедельник утром произошло обрушение одного из подъездов газифицированного панельного 10-этажного 12-подъездного жилого дома (1973 год постройки) по адресу проспект <span style=\"padding: 2px; border-radius: 4px; border: 1px solid #c8e6c9; background: #e8f5e9\">Карла Маркса<span style=\"vertical-align: middle; margin-left: 2px; font-size: 0.7em; color: #66bb6a;\">LOC</span></span>, 164. Ранее сообщалось о четырех погибших. Неизвестной остается судьба нескольких десятков человек. По данному факту возбуждено уголовное дело \"о причинении смерти по неосторожности двум и более лицам\" (ч. 3 ст. 109 УК <span style=\"padding: 2px; border-radius: 4px; border: 1px solid #c8e6c9; background: #e8f5e9\">РФ<span style=\"vertical-align: middle; margin-left: 2px; font-size: 0.7em; color: #66bb6a;\">LOC</span></span>).</div>"
      ],
      "text/plain": [
       "BoxMarkup('Москва. 1 января. INTERFAX.RU - Тела пяти человек извлечены из-под завалов на месте обрушения подъезда жилого дома в Магнитогорске, сообщили агентству \"Интерфакс-Урал\" в пресс-службе ГУ МЧС по Челябинской области. \"Извлечены тела пяти человек, детей среди них нет\", - отметил представитель пресс-службы. По его словам, на месте происшествия работы ведутся круглосуточно без перерыва. \"Работают в четыре смены по два часа. На улице мороз за 20 градусов\", - добавил представитель пресс-службы. В Магнитогорске в понедельник утром произошло обрушение одного из подъездов газифицированного панельного 10-этажного 12-подъездного жилого дома (1973 год постройки) по адресу проспект Карла Маркса, 164. Ранее сообщалось о четырех погибших. Неизвестной остается судьба нескольких десятков человек. По данному факту возбуждено уголовное дело \"о причинении смерти по неосторожности двум и более лицам\" (ч. 3 ст. 109 УК РФ).',\n",
       "          [Span(0, 6, 'LOC'),\n",
       "           Span(18, 29, 'ORG'),\n",
       "           Span(117, 130, 'LOC'),\n",
       "           Span(152, 166, 'ORG'),\n",
       "           Span(183, 185, 'ORG'),\n",
       "           Span(186, 189, 'ORG'),\n",
       "           Span(193, 212, 'LOC'),\n",
       "           Span(494, 507, 'LOC'),\n",
       "           Span(676, 688, 'LOC'),\n",
       "           Span(908, 910, 'LOC')])"
      ]
     },
     "metadata": {},
     "output_type": "display_data"
    },
    {
     "name": "stdout",
     "output_type": "stream",
     "text": [
      "[(0, 6, 'LOC'), (18, 29, 'ORG'), (42, 45, 'LOC'), (46, 59, 'PER'), (104, 109, 'LOC'), (171, 185, 'ORG'), (296, 301, 'LOC'), (383, 394, 'PER'), (420, 425, 'PER'), (464, 469, 'LOC'), (565, 575, 'LOC'), (691, 698, 'PER'), (709, 714, 'LOC'), (829, 862, 'ORG'), (878, 880, 'LOC'), (937, 940, 'LOC'), (1043, 1048, 'LOC'), (1100, 1113, 'PER'), (1124, 1129, 'LOC'), (1162, 1166, 'ORG'), (1235, 1239, 'ORG'), (1393, 1398, 'PER'), (1468, 1473, 'LOC')]\n"
     ]
    },
    {
     "data": {
      "text/html": [
       "<div class=\"tex2jax_ignore\" style=\"white-space: pre-wrap\"><span style=\"padding: 2px; border-radius: 4px; border: 1px solid #c8e6c9; background: #e8f5e9\">Москва<span style=\"vertical-align: middle; margin-left: 2px; font-size: 0.7em; color: #66bb6a;\">LOC</span></span>. 1 января. <span style=\"padding: 2px; border-radius: 4px; border: 1px solid #ffcdd2; background: #ffebee\">INTERFAX.RU<span style=\"vertical-align: middle; margin-left: 2px; font-size: 0.7em; color: #e57373;\">ORG</span></span> - Президент <span style=\"padding: 2px; border-radius: 4px; border: 1px solid #c8e6c9; background: #e8f5e9\">США<span style=\"vertical-align: middle; margin-left: 2px; font-size: 0.7em; color: #66bb6a;\">LOC</span></span> <span style=\"padding: 2px; border-radius: 4px; border: 1px solid #bbdefb; background: #e3f2fd\">Дональд Трамп<span style=\"vertical-align: middle; margin-left: 2px; font-size: 0.7em; color: #64b5f6;\">PER</span></span> согласился продлить процесс вывода войск из <span style=\"padding: 2px; border-radius: 4px; border: 1px solid #c8e6c9; background: #e8f5e9\">Сирии<span style=\"vertical-align: middle; margin-left: 2px; font-size: 0.7em; color: #66bb6a;\">LOC</span></span> и осуществить его в течение четырех месяцев, сообщила газета <span style=\"padding: 2px; border-radius: 4px; border: 1px solid #ffcdd2; background: #ffebee\">New York Times<span style=\"vertical-align: middle; margin-left: 2px; font-size: 0.7em; color: #e57373;\">ORG</span></span>, ссылаясь на собственные источники и числа сотрудников администрации. Ранее он говорил, что вывод находящих в <span style=\"padding: 2px; border-radius: 4px; border: 1px solid #c8e6c9; background: #e8f5e9\">Сирии<span style=\"vertical-align: middle; margin-left: 2px; font-size: 0.7em; color: #66bb6a;\">LOC</span></span> 2 тыс. американских военных займет около 30 дней. Накануне сенатор-республиканец <span style=\"padding: 2px; border-radius: 4px; border: 1px solid #bbdefb; background: #e3f2fd\">Линдси Грэм<span style=\"vertical-align: middle; margin-left: 2px; font-size: 0.7em; color: #64b5f6;\">PER</span></span> сообщил журналистам, что <span style=\"padding: 2px; border-radius: 4px; border: 1px solid #bbdefb; background: #e3f2fd\">Трамп<span style=\"vertical-align: middle; margin-left: 2px; font-size: 0.7em; color: #64b5f6;\">PER</span></span> распорядился замедлить вывод войск из <span style=\"padding: 2px; border-radius: 4px; border: 1px solid #c8e6c9; background: #e8f5e9\">Сирии<span style=\"vertical-align: middle; margin-left: 2px; font-size: 0.7em; color: #66bb6a;\">LOC</span></span>. \"Думаю, в этом вопросе будет сделана пауза\", - заявил он по окончании встречи с президентом в <span style=\"padding: 2px; border-radius: 4px; border: 1px solid #c8e6c9; background: #e8f5e9\">Белом доме<span style=\"vertical-align: middle; margin-left: 2px; font-size: 0.7em; color: #66bb6a;\">LOC</span></span>. Он добавил, что, по его мнению, \"мы притормаживаем процесс по-умному\". Ранее сенатор выступал против объявленного <span style=\"padding: 2px; border-radius: 4px; border: 1px solid #bbdefb; background: #e3f2fd\">Трампом<span style=\"vertical-align: middle; margin-left: 2px; font-size: 0.7em; color: #64b5f6;\">PER</span></span> вывода из <span style=\"padding: 2px; border-radius: 4px; border: 1px solid #c8e6c9; background: #e8f5e9\">Сирии<span style=\"vertical-align: middle; margin-left: 2px; font-size: 0.7em; color: #66bb6a;\">LOC</span></span> американского воинского контингента, который, по его словам, уже выполнил свою миссию по уничтожению группировки \"<span style=\"padding: 2px; border-radius: 4px; border: 1px solid #ffcdd2; background: #ffebee\">Исламское государство\" ( ИГИЛ, ИГ<span style=\"vertical-align: middle; margin-left: 2px; font-size: 0.7em; color: #e57373;\">ORG</span></span>, запрещенная в <span style=\"padding: 2px; border-radius: 4px; border: 1px solid #c8e6c9; background: #e8f5e9\">РФ<span style=\"vertical-align: middle; margin-left: 2px; font-size: 0.7em; color: #66bb6a;\">LOC</span></span> террористическая организация ). Тем не менее, президент <span style=\"padding: 2px; border-radius: 4px; border: 1px solid #c8e6c9; background: #e8f5e9\">США<span style=\"vertical-align: middle; margin-left: 2px; font-size: 0.7em; color: #66bb6a;\">LOC</span></span> заверил, что не намерен отказываться от своих намерений вывести войска, и считает, что его действия в <span style=\"padding: 2px; border-radius: 4px; border: 1px solid #c8e6c9; background: #e8f5e9\">Сирии<span style=\"vertical-align: middle; margin-left: 2px; font-size: 0.7em; color: #66bb6a;\">LOC</span></span> можно считать героизмом. \"Если бы кто-нибудь, а не <span style=\"padding: 2px; border-radius: 4px; border: 1px solid #bbdefb; background: #e3f2fd\">Дональд Трамп<span style=\"vertical-align: middle; margin-left: 2px; font-size: 0.7em; color: #64b5f6;\">PER</span></span>, сделал в <span style=\"padding: 2px; border-radius: 4px; border: 1px solid #c8e6c9; background: #e8f5e9\">Сирии<span style=\"vertical-align: middle; margin-left: 2px; font-size: 0.7em; color: #66bb6a;\">LOC</span></span>, погруженной в беспорядки из-за <span style=\"padding: 2px; border-radius: 4px; border: 1px solid #ffcdd2; background: #ffebee\">ИГИЛ<span style=\"vertical-align: middle; margin-left: 2px; font-size: 0.7em; color: #e57373;\">ORG</span></span>, то, что сделал я, став президентом, он был бы национальным героем. <span style=\"padding: 2px; border-radius: 4px; border: 1px solid #ffcdd2; background: #ffebee\">ИГИЛ<span style=\"vertical-align: middle; margin-left: 2px; font-size: 0.7em; color: #e57373;\">ORG</span></span> в основном ушла, мы постепенно возвращаем наши войска домой к семьям, продолжая бороться с остатками группировки\", - написал президент в своем твиттере. <span style=\"padding: 2px; border-radius: 4px; border: 1px solid #bbdefb; background: #e3f2fd\">Трамп<span style=\"vertical-align: middle; margin-left: 2px; font-size: 0.7em; color: #64b5f6;\">PER</span></span> продолжил: \"В ходе ( избирательной - ИФ ) кампании я обещал выйти из <span style=\"padding: 2px; border-radius: 4px; border: 1px solid #c8e6c9; background: #e8f5e9\">Сирии<span style=\"vertical-align: middle; margin-left: 2px; font-size: 0.7em; color: #66bb6a;\">LOC</span></span> и других районов. Сейчас, когда я начинаю вывод, фейковые новости или некоторые генералы-неудачники, которые были неспособны выполнять свои обязанности до того, как я пришел, жалуются на меня и мою тактику, которые работают. Я делаю просто то, что я сказал, и что собираюсь продолжать\".</div>"
      ],
      "text/plain": [
       "BoxMarkup('Москва. 1 января. INTERFAX.RU - Президент США Дональд Трамп согласился продлить процесс вывода войск из Сирии и осуществить его в течение четырех месяцев, сообщила газета New York Times, ссылаясь на собственные источники и числа сотрудников администрации. Ранее он говорил, что вывод находящих в Сирии 2 тыс. американских военных займет около 30 дней. Накануне сенатор-республиканец Линдси Грэм сообщил журналистам, что Трамп распорядился замедлить вывод войск из Сирии. \"Думаю, в этом вопросе будет сделана пауза\", - заявил он по окончании встречи с президентом в Белом доме. Он добавил, что, по его мнению, \"мы притормаживаем процесс по-умному\". Ранее сенатор выступал против объявленного Трампом вывода из Сирии американского воинского контингента, который, по его словам, уже выполнил свою миссию по уничтожению группировки \"Исламское государство\" ( ИГИЛ, ИГ, запрещенная в РФ террористическая организация ). Тем не менее, президент США заверил, что не намерен отказываться от своих намерений вывести войска, и считает, что его действия в Сирии можно считать героизмом. \"Если бы кто-нибудь, а не Дональд Трамп, сделал в Сирии, погруженной в беспорядки из-за ИГИЛ, то, что сделал я, став президентом, он был бы национальным героем. ИГИЛ в основном ушла, мы постепенно возвращаем наши войска домой к семьям, продолжая бороться с остатками группировки\", - написал президент в своем твиттере. Трамп продолжил: \"В ходе ( избирательной - ИФ ) кампании я обещал выйти из Сирии и других районов. Сейчас, когда я начинаю вывод, фейковые новости или некоторые генералы-неудачники, которые были неспособны выполнять свои обязанности до того, как я пришел, жалуются на меня и мою тактику, которые работают. Я делаю просто то, что я сказал, и что собираюсь продолжать\".',\n",
       "          [Span(0, 6, 'LOC'),\n",
       "           Span(18, 29, 'ORG'),\n",
       "           Span(42, 45, 'LOC'),\n",
       "           Span(46, 59, 'PER'),\n",
       "           Span(104, 109, 'LOC'),\n",
       "           Span(171, 185, 'ORG'),\n",
       "           Span(296, 301, 'LOC'),\n",
       "           Span(383, 394, 'PER'),\n",
       "           Span(420, 425, 'PER'),\n",
       "           Span(464, 469, 'LOC'),\n",
       "           Span(565, 575, 'LOC'),\n",
       "           Span(691, 698, 'PER'),\n",
       "           Span(709, 714, 'LOC'),\n",
       "           Span(829, 862, 'ORG'),\n",
       "           Span(878, 880, 'LOC'),\n",
       "           Span(937, 940, 'LOC'),\n",
       "           Span(1043, 1048, 'LOC'),\n",
       "           Span(1100, 1113, 'PER'),\n",
       "           Span(1124, 1129, 'LOC'),\n",
       "           Span(1162, 1166, 'ORG'),\n",
       "           Span(1235, 1239, 'ORG'),\n",
       "           Span(1393, 1398, 'PER'),\n",
       "           Span(1468, 1473, 'LOC')])"
      ]
     },
     "metadata": {},
     "output_type": "display_data"
    },
    {
     "name": "stdout",
     "output_type": "stream",
     "text": [
      "[(37, 46, 'LOC'), (47, 53, 'LOC'), (65, 76, 'ORG'), (108, 114, 'LOC'), (159, 165, 'LOC'), (276, 285, 'LOC'), (405, 415, 'PER'), (430, 436, 'LOC'), (479, 485, 'LOC'), (511, 529, 'PER'), (554, 569, 'PER'), (615, 624, 'PER'), (651, 657, 'LOC'), (747, 753, 'LOC'), (774, 779, 'LOC'), (797, 806, 'LOC'), (820, 825, 'LOC'), (895, 901, 'LOC'), (916, 924, 'LOC')]\n"
     ]
    },
    {
     "data": {
      "text/html": [
       "<div class=\"tex2jax_ignore\" style=\"white-space: pre-wrap\">В четвертьфинале россияне сыграют со <span style=\"padding: 2px; border-radius: 4px; border: 1px solid #c8e6c9; background: #e8f5e9\">Словакией<span style=\"vertical-align: middle; margin-left: 2px; font-size: 0.7em; color: #66bb6a;\">LOC</span></span> <span style=\"padding: 2px; border-radius: 4px; border: 1px solid #c8e6c9; background: #e8f5e9\">Москва<span style=\"vertical-align: middle; margin-left: 2px; font-size: 0.7em; color: #66bb6a;\">LOC</span></span>. 1 января. <span style=\"padding: 2px; border-radius: 4px; border: 1px solid #ffcdd2; background: #ffebee\">INTERFAX.RU<span style=\"vertical-align: middle; margin-left: 2px; font-size: 0.7em; color: #e57373;\">ORG</span></span> - Хоккеисты молодежной сборной <span style=\"padding: 2px; border-radius: 4px; border: 1px solid #c8e6c9; background: #e8f5e9\">России<span style=\"vertical-align: middle; margin-left: 2px; font-size: 0.7em; color: #66bb6a;\">LOC</span></span> добились победы над сверстниками из команды <span style=\"padding: 2px; border-radius: 4px; border: 1px solid #c8e6c9; background: #e8f5e9\">Канады<span style=\"vertical-align: middle; margin-left: 2px; font-size: 0.7em; color: #66bb6a;\">LOC</span></span> в своем четвертом матче группового этапа чемпионата мира среди игроков не старше 20 лет. Встреча, прошедшая в <span style=\"padding: 2px; border-radius: 4px; border: 1px solid #c8e6c9; background: #e8f5e9\">Ванкувере<span style=\"vertical-align: middle; margin-left: 2px; font-size: 0.7em; color: #66bb6a;\">LOC</span></span> в ночь на вторник по московскому времени, завершилась со счетом 2:1 (1:1, 0:0, 1:0) в пользу россиян. В первом периоде <span style=\"padding: 2px; border-radius: 4px; border: 1px solid #bbdefb; background: #e3f2fd\">Коди Гласс<span style=\"vertical-align: middle; margin-left: 2px; font-size: 0.7em; color: #64b5f6;\">PER</span></span> вывел сборную <span style=\"padding: 2px; border-radius: 4px; border: 1px solid #c8e6c9; background: #e8f5e9\">Канады<span style=\"vertical-align: middle; margin-left: 2px; font-size: 0.7em; color: #66bb6a;\">LOC</span></span> вперед. В этой же двадцатиминутке сборная <span style=\"padding: 2px; border-radius: 4px; border: 1px solid #c8e6c9; background: #e8f5e9\">России<span style=\"vertical-align: middle; margin-left: 2px; font-size: 0.7em; color: #66bb6a;\">LOC</span></span> отыгралась: гол на счету <span style=\"padding: 2px; border-radius: 4px; border: 1px solid #bbdefb; background: #e3f2fd\">Григория Денисенко<span style=\"vertical-align: middle; margin-left: 2px; font-size: 0.7em; color: #64b5f6;\">PER</span></span>. Победную шайбу команда <span style=\"padding: 2px; border-radius: 4px; border: 1px solid #bbdefb; background: #e3f2fd\">Валерия Брагина<span style=\"vertical-align: middle; margin-left: 2px; font-size: 0.7em; color: #64b5f6;\">PER</span></span> провела в третьем периоде, автором гола стал <span style=\"padding: 2px; border-radius: 4px; border: 1px solid #bbdefb; background: #e3f2fd\">Павел Шэн<span style=\"vertical-align: middle; margin-left: 2px; font-size: 0.7em; color: #64b5f6;\">PER</span></span>. Победа позволила сборной <span style=\"padding: 2px; border-radius: 4px; border: 1px solid #c8e6c9; background: #e8f5e9\">России<span style=\"vertical-align: middle; margin-left: 2px; font-size: 0.7em; color: #66bb6a;\">LOC</span></span> набрать 12 очков и завершить первый этап на первом месте в группе A. Второе место заняла <span style=\"padding: 2px; border-radius: 4px; border: 1px solid #c8e6c9; background: #e8f5e9\">Канада<span style=\"vertical-align: middle; margin-left: 2px; font-size: 0.7em; color: #66bb6a;\">LOC</span></span> (9 очков), третье – <span style=\"padding: 2px; border-radius: 4px; border: 1px solid #c8e6c9; background: #e8f5e9\">Чехия<span style=\"vertical-align: middle; margin-left: 2px; font-size: 0.7em; color: #66bb6a;\">LOC</span></span> (5), четвертое - <span style=\"padding: 2px; border-radius: 4px; border: 1px solid #c8e6c9; background: #e8f5e9\">Швейцария<span style=\"vertical-align: middle; margin-left: 2px; font-size: 0.7em; color: #66bb6a;\">LOC</span></span> (4), пятое – <span style=\"padding: 2px; border-radius: 4px; border: 1px solid #c8e6c9; background: #e8f5e9\">Дания<span style=\"vertical-align: middle; margin-left: 2px; font-size: 0.7em; color: #66bb6a;\">LOC</span></span> (0). В группе B прошли еще не все матчи, но известно, что на сборную <span style=\"padding: 2px; border-radius: 4px; border: 1px solid #c8e6c9; background: #e8f5e9\">России<span style=\"vertical-align: middle; margin-left: 2px; font-size: 0.7em; color: #66bb6a;\">LOC</span></span> от нее попала <span style=\"padding: 2px; border-radius: 4px; border: 1px solid #c8e6c9; background: #e8f5e9\">Словакия<span style=\"vertical-align: middle; margin-left: 2px; font-size: 0.7em; color: #66bb6a;\">LOC</span></span>, ставшая четвертой. По регламенту турнира, в плей-офф выходят по четыре из пяти команд каждой из двух групп.</div>"
      ],
      "text/plain": [
       "BoxMarkup('В четвертьфинале россияне сыграют со Словакией Москва. 1 января. INTERFAX.RU - Хоккеисты молодежной сборной России добились победы над сверстниками из команды Канады в своем четвертом матче группового этапа чемпионата мира среди игроков не старше 20 лет. Встреча, прошедшая в Ванкувере в ночь на вторник по московскому времени, завершилась со счетом 2:1 (1:1, 0:0, 1:0) в пользу россиян. В первом периоде Коди Гласс вывел сборную Канады вперед. В этой же двадцатиминутке сборная России отыгралась: гол на счету Григория Денисенко. Победную шайбу команда Валерия Брагина провела в третьем периоде, автором гола стал Павел Шэн. Победа позволила сборной России набрать 12 очков и завершить первый этап на первом месте в группе A. Второе место заняла Канада (9 очков), третье – Чехия (5), четвертое - Швейцария (4), пятое – Дания (0). В группе B прошли еще не все матчи, но известно, что на сборную России от нее попала Словакия, ставшая четвертой. По регламенту турнира, в плей-офф выходят по четыре из пяти команд каждой из двух групп.',\n",
       "          [Span(37, 46, 'LOC'),\n",
       "           Span(47, 53, 'LOC'),\n",
       "           Span(65, 76, 'ORG'),\n",
       "           Span(108, 114, 'LOC'),\n",
       "           Span(159, 165, 'LOC'),\n",
       "           Span(276, 285, 'LOC'),\n",
       "           Span(405, 415, 'PER'),\n",
       "           Span(430, 436, 'LOC'),\n",
       "           Span(479, 485, 'LOC'),\n",
       "           Span(511, 529, 'PER'),\n",
       "           Span(554, 569, 'PER'),\n",
       "           Span(615, 624, 'PER'),\n",
       "           Span(651, 657, 'LOC'),\n",
       "           Span(747, 753, 'LOC'),\n",
       "           Span(774, 779, 'LOC'),\n",
       "           Span(797, 806, 'LOC'),\n",
       "           Span(820, 825, 'LOC'),\n",
       "           Span(895, 901, 'LOC'),\n",
       "           Span(916, 924, 'LOC')])"
      ]
     },
     "metadata": {},
     "output_type": "display_data"
    },
    {
     "name": "stdout",
     "output_type": "stream",
     "text": [
      "[(0, 6, 'LOC'), (18, 29, 'ORG'), (100, 113, 'LOC'), (260, 273, 'LOC'), (442, 454, 'LOC'), (678, 680, 'LOC')]\n"
     ]
    },
    {
     "data": {
      "text/html": [
       "<div class=\"tex2jax_ignore\" style=\"white-space: pre-wrap\"><span style=\"padding: 2px; border-radius: 4px; border: 1px solid #c8e6c9; background: #e8f5e9\">Москва<span style=\"vertical-align: middle; margin-left: 2px; font-size: 0.7em; color: #66bb6a;\">LOC</span></span>. 1 января. <span style=\"padding: 2px; border-radius: 4px; border: 1px solid #ffcdd2; background: #ffebee\">INTERFAX.RU<span style=\"vertical-align: middle; margin-left: 2px; font-size: 0.7em; color: #e57373;\">ORG</span></span> - Пятеро погибших в результате взрыве газа и обрушения в жилом доме в <span style=\"padding: 2px; border-radius: 4px; border: 1px solid #c8e6c9; background: #e8f5e9\">Магнитогорске<span style=\"vertical-align: middle; margin-left: 2px; font-size: 0.7em; color: #66bb6a;\">LOC</span></span> опознаны, сообщил представитель оперативного штаба на заседании комиссии по чрезвычайным ситуациям. \"Семь погибло, пять опознаны\", - сказал он. В <span style=\"padding: 2px; border-radius: 4px; border: 1px solid #c8e6c9; background: #e8f5e9\">Магнитогорске<span style=\"vertical-align: middle; margin-left: 2px; font-size: 0.7em; color: #66bb6a;\">LOC</span></span> в понедельник утром произошло обрушение одного из подъездов газифицированного панельного 10-этажного 12-подъездного жилого дома (1973 год постройки) по адресу проспект <span style=\"padding: 2px; border-radius: 4px; border: 1px solid #c8e6c9; background: #e8f5e9\">Карла Маркса<span style=\"vertical-align: middle; margin-left: 2px; font-size: 0.7em; color: #66bb6a;\">LOC</span></span>, 164. По последним данным, погибли семь человек. Неизвестной остается судьба нескольких десятков человек. По данному факту возбуждено уголовное дело о причинении смерти по неосторожности двум и более лицам (ч. 3 ст. 109 УК <span style=\"padding: 2px; border-radius: 4px; border: 1px solid #c8e6c9; background: #e8f5e9\">РФ<span style=\"vertical-align: middle; margin-left: 2px; font-size: 0.7em; color: #66bb6a;\">LOC</span></span>).</div>"
      ],
      "text/plain": [
       "BoxMarkup('Москва. 1 января. INTERFAX.RU - Пятеро погибших в результате взрыве газа и обрушения в жилом доме в Магнитогорске опознаны, сообщил представитель оперативного штаба на заседании комиссии по чрезвычайным ситуациям. \"Семь погибло, пять опознаны\", - сказал он. В Магнитогорске в понедельник утром произошло обрушение одного из подъездов газифицированного панельного 10-этажного 12-подъездного жилого дома (1973 год постройки) по адресу проспект Карла Маркса, 164. По последним данным, погибли семь человек. Неизвестной остается судьба нескольких десятков человек. По данному факту возбуждено уголовное дело о причинении смерти по неосторожности двум и более лицам (ч. 3 ст. 109 УК РФ).',\n",
       "          [Span(0, 6, 'LOC'),\n",
       "           Span(18, 29, 'ORG'),\n",
       "           Span(100, 113, 'LOC'),\n",
       "           Span(260, 273, 'LOC'),\n",
       "           Span(442, 454, 'LOC'),\n",
       "           Span(678, 680, 'LOC')])"
      ]
     },
     "metadata": {},
     "output_type": "display_data"
    },
    {
     "name": "stdout",
     "output_type": "stream",
     "text": [
      "[(66, 72, 'LOC'), (84, 95, 'ORG'), (170, 183, 'LOC'), (195, 205, 'ORG'), (222, 225, 'ORG'), (229, 248, 'LOC'), (325, 338, 'LOC'), (509, 521, 'LOC'), (652, 654, 'LOC'), (668, 671, 'ORG'), (696, 709, 'LOC'), (804, 807, 'ORG'), (808, 823, 'PER'), (934, 947, 'LOC'), (985, 988, 'ORG'), (1063, 1076, 'LOC'), (1101, 1119, 'ORG'), (1120, 1123, 'ORG'), (1124, 1130, 'LOC'), (1134, 1153, 'LOC')]\n"
     ]
    },
    {
     "data": {
      "text/html": [
       "<div class=\"tex2jax_ignore\" style=\"white-space: pre-wrap\">В настоящее время речь идет о семи погибших в результате трагедии <span style=\"padding: 2px; border-radius: 4px; border: 1px solid #c8e6c9; background: #e8f5e9\">Москва<span style=\"vertical-align: middle; margin-left: 2px; font-size: 0.7em; color: #66bb6a;\">LOC</span></span>. 1 января. <span style=\"padding: 2px; border-radius: 4px; border: 1px solid #ffcdd2; background: #ffebee\">INTERFAX.RU<span style=\"vertical-align: middle; margin-left: 2px; font-size: 0.7em; color: #e57373;\">ORG</span></span> - Судьба 37 человек остается неизвестной после взрыва газа в жилом доме в <span style=\"padding: 2px; border-radius: 4px; border: 1px solid #c8e6c9; background: #e8f5e9\">Магнитогорске<span style=\"vertical-align: middle; margin-left: 2px; font-size: 0.7em; color: #66bb6a;\">LOC</span></span>, сообщили \"<span style=\"padding: 2px; border-radius: 4px; border: 1px solid #ffcdd2; background: #ffebee\">Интерфаксу<span style=\"vertical-align: middle; margin-left: 2px; font-size: 0.7em; color: #e57373;\">ORG</span></span>\" в пресс-службе <span style=\"padding: 2px; border-radius: 4px; border: 1px solid #ffcdd2; background: #ffebee\">МЧС<span style=\"vertical-align: middle; margin-left: 2px; font-size: 0.7em; color: #e57373;\">ORG</span></span> по <span style=\"padding: 2px; border-radius: 4px; border: 1px solid #c8e6c9; background: #e8f5e9\">Челябинской области<span style=\"vertical-align: middle; margin-left: 2px; font-size: 0.7em; color: #66bb6a;\">LOC</span></span>. \"Остается неизвестной судьба 37 человек\", - сказал собеседник агентства. В <span style=\"padding: 2px; border-radius: 4px; border: 1px solid #c8e6c9; background: #e8f5e9\">Магнитогорске<span style=\"vertical-align: middle; margin-left: 2px; font-size: 0.7em; color: #66bb6a;\">LOC</span></span> в понедельник утром произошло обрушение одного из подъездов газифицированного панельного 10-этажного 12-подъездного жилого дома ( 1973 год постройки ) по адресу проспект <span style=\"padding: 2px; border-radius: 4px; border: 1px solid #c8e6c9; background: #e8f5e9\">Карла Маркса<span style=\"vertical-align: middle; margin-left: 2px; font-size: 0.7em; color: #66bb6a;\">LOC</span></span>, 164. По данному факту возбуждено уголовное дело о причинении смерти по неосторожности двум и более лицам ( часть 3 статьи 109 УК <span style=\"padding: 2px; border-radius: 4px; border: 1px solid #c8e6c9; background: #e8f5e9\">РФ<span style=\"vertical-align: middle; margin-left: 2px; font-size: 0.7em; color: #66bb6a;\">LOC</span></span> ). По данным <span style=\"padding: 2px; border-radius: 4px; border: 1px solid #ffcdd2; background: #ffebee\">МЧС<span style=\"vertical-align: middle; margin-left: 2px; font-size: 0.7em; color: #e57373;\">ORG</span></span>, всего из-под завалов в <span style=\"padding: 2px; border-radius: 4px; border: 1px solid #c8e6c9; background: #e8f5e9\">Магнитогорске<span style=\"vertical-align: middle; margin-left: 2px; font-size: 0.7em; color: #66bb6a;\">LOC</span></span> извлечено семеро погибших. Ранее сообщалось об обнаружении тел пяти погибших . Накануне глава <span style=\"padding: 2px; border-radius: 4px; border: 1px solid #ffcdd2; background: #ffebee\">МЧС<span style=\"vertical-align: middle; margin-left: 2px; font-size: 0.7em; color: #e57373;\">ORG</span></span> <span style=\"padding: 2px; border-radius: 4px; border: 1px solid #bbdefb; background: #e3f2fd\">Евгений Зиничев<span style=\"vertical-align: middle; margin-left: 2px; font-size: 0.7em; color: #64b5f6;\">PER</span></span> сообщил журналистам, что операция по разбору завалов обрушившегося из-за взрыва бытового газа подъезда дома в <span style=\"padding: 2px; border-radius: 4px; border: 1px solid #c8e6c9; background: #e8f5e9\">Магнитогорске<span style=\"vertical-align: middle; margin-left: 2px; font-size: 0.7em; color: #66bb6a;\">LOC</span></span> продлится не менее двух суток. Ранее <span style=\"padding: 2px; border-radius: 4px; border: 1px solid #ffcdd2; background: #ffebee\">МЧС<span style=\"vertical-align: middle; margin-left: 2px; font-size: 0.7em; color: #e57373;\">ORG</span></span> также распространило список разыскиваемых жильцов дома после обрушения. В <span style=\"padding: 2px; border-radius: 4px; border: 1px solid #c8e6c9; background: #e8f5e9\">Магнитогорске<span style=\"vertical-align: middle; margin-left: 2px; font-size: 0.7em; color: #66bb6a;\">LOC</span></span> был введен режим ЧС . В <span style=\"padding: 2px; border-radius: 4px; border: 1px solid #ffcdd2; background: #ffebee\">Главном управлении<span style=\"vertical-align: middle; margin-left: 2px; font-size: 0.7em; color: #e57373;\">ORG</span></span> <span style=\"padding: 2px; border-radius: 4px; border: 1px solid #ffcdd2; background: #ffebee\">МЧС<span style=\"vertical-align: middle; margin-left: 2px; font-size: 0.7em; color: #e57373;\">ORG</span></span> <span style=\"padding: 2px; border-radius: 4px; border: 1px solid #c8e6c9; background: #e8f5e9\">России<span style=\"vertical-align: middle; margin-left: 2px; font-size: 0.7em; color: #66bb6a;\">LOC</span></span> по <span style=\"padding: 2px; border-radius: 4px; border: 1px solid #c8e6c9; background: #e8f5e9\">Челябинской области<span style=\"vertical-align: middle; margin-left: 2px; font-size: 0.7em; color: #66bb6a;\">LOC</span></span> продолжает действовать телефон \"горячей линии\" (8-351-239-99-99) .</div>"
      ],
      "text/plain": [
       "BoxMarkup('В настоящее время речь идет о семи погибших в результате трагедии Москва. 1 января. INTERFAX.RU - Судьба 37 человек остается неизвестной после взрыва газа в жилом доме в Магнитогорске, сообщили \"Интерфаксу\" в пресс-службе МЧС по Челябинской области. \"Остается неизвестной судьба 37 человек\", - сказал собеседник агентства. В Магнитогорске в понедельник утром произошло обрушение одного из подъездов газифицированного панельного 10-этажного 12-подъездного жилого дома ( 1973 год постройки ) по адресу проспект Карла Маркса, 164. По данному факту возбуждено уголовное дело о причинении смерти по неосторожности двум и более лицам ( часть 3 статьи 109 УК РФ ). По данным МЧС, всего из-под завалов в Магнитогорске извлечено семеро погибших. Ранее сообщалось об обнаружении тел пяти погибших . Накануне глава МЧС Евгений Зиничев сообщил журналистам, что операция по разбору завалов обрушившегося из-за взрыва бытового газа подъезда дома в Магнитогорске продлится не менее двух суток. Ранее МЧС также распространило список разыскиваемых жильцов дома после обрушения. В Магнитогорске был введен режим ЧС . В Главном управлении МЧС России по Челябинской области продолжает действовать телефон \"горячей линии\" (8-351-239-99-99) .',\n",
       "          [Span(66, 72, 'LOC'),\n",
       "           Span(84, 95, 'ORG'),\n",
       "           Span(170, 183, 'LOC'),\n",
       "           Span(195, 205, 'ORG'),\n",
       "           Span(222, 225, 'ORG'),\n",
       "           Span(229, 248, 'LOC'),\n",
       "           Span(325, 338, 'LOC'),\n",
       "           Span(509, 521, 'LOC'),\n",
       "           Span(652, 654, 'LOC'),\n",
       "           Span(668, 671, 'ORG'),\n",
       "           Span(696, 709, 'LOC'),\n",
       "           Span(804, 807, 'ORG'),\n",
       "           Span(808, 823, 'PER'),\n",
       "           Span(934, 947, 'LOC'),\n",
       "           Span(985, 988, 'ORG'),\n",
       "           Span(1063, 1076, 'LOC'),\n",
       "           Span(1101, 1119, 'ORG'),\n",
       "           Span(1120, 1123, 'ORG'),\n",
       "           Span(1124, 1130, 'LOC'),\n",
       "           Span(1134, 1153, 'LOC')])"
      ]
     },
     "metadata": {},
     "output_type": "display_data"
    },
    {
     "name": "stdout",
     "output_type": "stream",
     "text": [
      "[(0, 6, 'LOC'), (18, 29, 'ORG'), (89, 94, 'LOC'), (95, 115, 'LOC'), (139, 141, 'ORG'), (142, 145, 'ORG'), (183, 189, 'LOC'), (236, 241, 'LOC'), (251, 268, 'LOC'), (465, 467, 'ORG'), (468, 471, 'ORG'), (472, 478, 'LOC'), (482, 502, 'LOC'), (503, 518, 'PER'), (541, 543, 'ORG'), (544, 547, 'ORG'), (569, 579, 'ORG'), (689, 694, 'LOC')]\n"
     ]
    },
    {
     "data": {
      "text/html": [
       "<div class=\"tex2jax_ignore\" style=\"white-space: pre-wrap\"><span style=\"padding: 2px; border-radius: 4px; border: 1px solid #c8e6c9; background: #e8f5e9\">Москва<span style=\"vertical-align: middle; margin-left: 2px; font-size: 0.7em; color: #66bb6a;\">LOC</span></span>. 1 января. <span style=\"padding: 2px; border-radius: 4px; border: 1px solid #ffcdd2; background: #ffebee\">INTERFAX.RU<span style=\"vertical-align: middle; margin-left: 2px; font-size: 0.7em; color: #e57373;\">ORG</span></span> - Семь человек стали жертвами пожара в жилом доме в городе <span style=\"padding: 2px; border-radius: 4px; border: 1px solid #c8e6c9; background: #e8f5e9\">Орске<span style=\"vertical-align: middle; margin-left: 2px; font-size: 0.7em; color: #66bb6a;\">LOC</span></span> <span style=\"padding: 2px; border-radius: 4px; border: 1px solid #c8e6c9; background: #e8f5e9\">Оренбургской области<span style=\"vertical-align: middle; margin-left: 2px; font-size: 0.7em; color: #66bb6a;\">LOC</span></span>, сообщила пресс-служба <span style=\"padding: 2px; border-radius: 4px; border: 1px solid #ffcdd2; background: #ffebee\">ГУ<span style=\"vertical-align: middle; margin-left: 2px; font-size: 0.7em; color: #e57373;\">ORG</span></span> <span style=\"padding: 2px; border-radius: 4px; border: 1px solid #ffcdd2; background: #ffebee\">МЧС<span style=\"vertical-align: middle; margin-left: 2px; font-size: 0.7em; color: #e57373;\">ORG</span></span> по региону во вторник. \"В 05:57 ( по <span style=\"padding: 2px; border-radius: 4px; border: 1px solid #c8e6c9; background: #e8f5e9\">Москве<span style=\"vertical-align: middle; margin-left: 2px; font-size: 0.7em; color: #66bb6a;\">LOC</span></span> ) поступило сообщение о пожаре в жилом доме в <span style=\"padding: 2px; border-radius: 4px; border: 1px solid #c8e6c9; background: #e8f5e9\">Орске<span style=\"vertical-align: middle; margin-left: 2px; font-size: 0.7em; color: #66bb6a;\">LOC</span></span> по улице <span style=\"padding: 2px; border-radius: 4px; border: 1px solid #c8e6c9; background: #e8f5e9\">Салтыкова-Щедрина<span style=\"vertical-align: middle; margin-left: 2px; font-size: 0.7em; color: #66bb6a;\">LOC</span></span>. Обнаружены тела семи погибших, среди них предположительно есть дети\", - говорится в сообщении. В 06:34 по московскому времени пожар полностью ликвидирован. На место происшествия выехал начальник <span style=\"padding: 2px; border-radius: 4px; border: 1px solid #ffcdd2; background: #ffebee\">ГУ<span style=\"vertical-align: middle; margin-left: 2px; font-size: 0.7em; color: #e57373;\">ORG</span></span> <span style=\"padding: 2px; border-radius: 4px; border: 1px solid #ffcdd2; background: #ffebee\">МЧС<span style=\"vertical-align: middle; margin-left: 2px; font-size: 0.7em; color: #e57373;\">ORG</span></span> <span style=\"padding: 2px; border-radius: 4px; border: 1px solid #c8e6c9; background: #e8f5e9\">России<span style=\"vertical-align: middle; margin-left: 2px; font-size: 0.7em; color: #66bb6a;\">LOC</span></span> по <span style=\"padding: 2px; border-radius: 4px; border: 1px solid #c8e6c9; background: #e8f5e9\">Оренбургской области<span style=\"vertical-align: middle; margin-left: 2px; font-size: 0.7em; color: #66bb6a;\">LOC</span></span> <span style=\"padding: 2px; border-radius: 4px; border: 1px solid #bbdefb; background: #e3f2fd\">Александр Зенов<span style=\"vertical-align: middle; margin-left: 2px; font-size: 0.7em; color: #64b5f6;\">PER</span></span>. Позже в пресс-службе <span style=\"padding: 2px; border-radius: 4px; border: 1px solid #ffcdd2; background: #ffebee\">ГУ<span style=\"vertical-align: middle; margin-left: 2px; font-size: 0.7em; color: #e57373;\">ORG</span></span> <span style=\"padding: 2px; border-radius: 4px; border: 1px solid #ffcdd2; background: #ffebee\">МЧС<span style=\"vertical-align: middle; margin-left: 2px; font-size: 0.7em; color: #e57373;\">ORG</span></span> по региону сообщили \"<span style=\"padding: 2px; border-radius: 4px; border: 1px solid #ffcdd2; background: #ffebee\">Интерфаксу<span style=\"vertical-align: middle; margin-left: 2px; font-size: 0.7em; color: #e57373;\">ORG</span></span>\", что, по предварительным данным, четверо взрослых и трое детей стали жертвами пожара в частном жилом доме в <span style=\"padding: 2px; border-radius: 4px; border: 1px solid #c8e6c9; background: #e8f5e9\">Орске<span style=\"vertical-align: middle; margin-left: 2px; font-size: 0.7em; color: #66bb6a;\">LOC</span></span>. \"Предположительно, четверо взрослых и трое детей. Личности устанавливаются\", - сказал сотрудник пресс-службы. В настоящее время на месте работает дознаватель, причина возгорания устанавливается. Площадь пожара уточняется.</div>"
      ],
      "text/plain": [
       "BoxMarkup('Москва. 1 января. INTERFAX.RU - Семь человек стали жертвами пожара в жилом доме в городе Орске Оренбургской области, сообщила пресс-служба ГУ МЧС по региону во вторник. \"В 05:57 ( по Москве ) поступило сообщение о пожаре в жилом доме в Орске по улице Салтыкова-Щедрина. Обнаружены тела семи погибших, среди них предположительно есть дети\", - говорится в сообщении. В 06:34 по московскому времени пожар полностью ликвидирован. На место происшествия выехал начальник ГУ МЧС России по Оренбургской области Александр Зенов. Позже в пресс-службе ГУ МЧС по региону сообщили \"Интерфаксу\", что, по предварительным данным, четверо взрослых и трое детей стали жертвами пожара в частном жилом доме в Орске. \"Предположительно, четверо взрослых и трое детей. Личности устанавливаются\", - сказал сотрудник пресс-службы. В настоящее время на месте работает дознаватель, причина возгорания устанавливается. Площадь пожара уточняется.',\n",
       "          [Span(0, 6, 'LOC'),\n",
       "           Span(18, 29, 'ORG'),\n",
       "           Span(89, 94, 'LOC'),\n",
       "           Span(95, 115, 'LOC'),\n",
       "           Span(139, 141, 'ORG'),\n",
       "           Span(142, 145, 'ORG'),\n",
       "           Span(183, 189, 'LOC'),\n",
       "           Span(236, 241, 'LOC'),\n",
       "           Span(251, 268, 'LOC'),\n",
       "           Span(465, 467, 'ORG'),\n",
       "           Span(468, 471, 'ORG'),\n",
       "           Span(472, 478, 'LOC'),\n",
       "           Span(482, 502, 'LOC'),\n",
       "           Span(503, 518, 'PER'),\n",
       "           Span(541, 543, 'ORG'),\n",
       "           Span(544, 547, 'ORG'),\n",
       "           Span(569, 579, 'ORG'),\n",
       "           Span(689, 694, 'LOC')])"
      ]
     },
     "metadata": {},
     "output_type": "display_data"
    },
    {
     "name": "stdout",
     "output_type": "stream",
     "text": [
      "[(0, 6, 'LOC'), (18, 29, 'ORG'), (86, 99, 'LOC'), (176, 178, 'ORG'), (179, 182, 'ORG'), (186, 205, 'LOC'), (734, 740, 'LOC'), (1125, 1143, 'ORG'), (1144, 1147, 'ORG'), (1148, 1154, 'LOC'), (1158, 1177, 'LOC')]\n"
     ]
    },
    {
     "data": {
      "text/html": [
       "<div class=\"tex2jax_ignore\" style=\"white-space: pre-wrap\"><span style=\"padding: 2px; border-radius: 4px; border: 1px solid #c8e6c9; background: #e8f5e9\">Москва<span style=\"vertical-align: middle; margin-left: 2px; font-size: 0.7em; color: #66bb6a;\">LOC</span></span>. 1 января. <span style=\"padding: 2px; border-radius: 4px; border: 1px solid #ffcdd2; background: #ffebee\">INTERFAX.RU<span style=\"vertical-align: middle; margin-left: 2px; font-size: 0.7em; color: #e57373;\">ORG</span></span> - Сохраняется угроза дальнейшего обрушения части дома в <span style=\"padding: 2px; border-radius: 4px; border: 1px solid #c8e6c9; background: #e8f5e9\">Магнитогорске<span style=\"vertical-align: middle; margin-left: 2px; font-size: 0.7em; color: #66bb6a;\">LOC</span></span>, пострадавшего в понедельник от взрыва бытового газа, сообщает пресс-служба <span style=\"padding: 2px; border-radius: 4px; border: 1px solid #ffcdd2; background: #ffebee\">ГУ<span style=\"vertical-align: middle; margin-left: 2px; font-size: 0.7em; color: #e57373;\">ORG</span></span> <span style=\"padding: 2px; border-radius: 4px; border: 1px solid #ffcdd2; background: #ffebee\">МЧС<span style=\"vertical-align: middle; margin-left: 2px; font-size: 0.7em; color: #e57373;\">ORG</span></span> по <span style=\"padding: 2px; border-radius: 4px; border: 1px solid #c8e6c9; background: #e8f5e9\">Челябинской области<span style=\"vertical-align: middle; margin-left: 2px; font-size: 0.7em; color: #66bb6a;\">LOC</span></span> во вторник. \"Угроза дальнейшего возможного обрушения рядом с обрушившимся подъездом сохраняется. Аварийно-спасательные работы идут круглосуточно, участники разбирают завалы в четыре смены, меняясь через каждые два часа\", - говорится в сообщении. За прошедшие сутки с места ЧП вывезено 37 самосвалов мусора общим объемом 370 кубических метров. При помощи мобильного диагностического комплекса \"Стрела-П\" проведено обследование строительных конструкций пяти подъездов, специалисты обрабатывают результаты. По данным на 07:00 ( по <span style=\"padding: 2px; border-radius: 4px; border: 1px solid #c8e6c9; background: #e8f5e9\">Москве<span style=\"vertical-align: middle; margin-left: 2px; font-size: 0.7em; color: #66bb6a;\">LOC</span></span> ) часов с момента начала поисково-спасательной операции из-под завалов извлечено 12 человек, из них семь человек погибли ( детей нет ), пять - спасены ( в том числе один ребенок ). Все пострадавшие госпитализированы. Проводится работа по установлению местонахождения еще 37 человек. На месте ЧС работают почти полторы тысячи человек и более 300 единиц техники, четыре беспилотника. В <span style=\"padding: 2px; border-radius: 4px; border: 1px solid #ffcdd2; background: #ffebee\">Главном управлении<span style=\"vertical-align: middle; margin-left: 2px; font-size: 0.7em; color: #e57373;\">ORG</span></span> <span style=\"padding: 2px; border-radius: 4px; border: 1px solid #ffcdd2; background: #ffebee\">МЧС<span style=\"vertical-align: middle; margin-left: 2px; font-size: 0.7em; color: #e57373;\">ORG</span></span> <span style=\"padding: 2px; border-radius: 4px; border: 1px solid #c8e6c9; background: #e8f5e9\">России<span style=\"vertical-align: middle; margin-left: 2px; font-size: 0.7em; color: #66bb6a;\">LOC</span></span> по <span style=\"padding: 2px; border-radius: 4px; border: 1px solid #c8e6c9; background: #e8f5e9\">Челябинской области<span style=\"vertical-align: middle; margin-left: 2px; font-size: 0.7em; color: #66bb6a;\">LOC</span></span> продолжает действовать телефон \"горячей линии\" (8-351-239-99-99) . Работают психологи.</div>"
      ],
      "text/plain": [
       "BoxMarkup('Москва. 1 января. INTERFAX.RU - Сохраняется угроза дальнейшего обрушения части дома в Магнитогорске, пострадавшего в понедельник от взрыва бытового газа, сообщает пресс-служба ГУ МЧС по Челябинской области во вторник. \"Угроза дальнейшего возможного обрушения рядом с обрушившимся подъездом сохраняется. Аварийно-спасательные работы идут круглосуточно, участники разбирают завалы в четыре смены, меняясь через каждые два часа\", - говорится в сообщении. За прошедшие сутки с места ЧП вывезено 37 самосвалов мусора общим объемом 370 кубических метров. При помощи мобильного диагностического комплекса \"Стрела-П\" проведено обследование строительных конструкций пяти подъездов, специалисты обрабатывают результаты. По данным на 07:00 ( по Москве ) часов с момента начала поисково-спасательной операции из-под завалов извлечено 12 человек, из них семь человек погибли ( детей нет ), пять - спасены ( в том числе один ребенок ). Все пострадавшие госпитализированы. Проводится работа по установлению местонахождения еще 37 человек. На месте ЧС работают почти полторы тысячи человек и более 300 единиц техники, четыре беспилотника. В Главном управлении МЧС России по Челябинской области продолжает действовать телефон \"горячей линии\" (8-351-239-99-99) . Работают психологи.',\n",
       "          [Span(0, 6, 'LOC'),\n",
       "           Span(18, 29, 'ORG'),\n",
       "           Span(86, 99, 'LOC'),\n",
       "           Span(176, 178, 'ORG'),\n",
       "           Span(179, 182, 'ORG'),\n",
       "           Span(186, 205, 'LOC'),\n",
       "           Span(734, 740, 'LOC'),\n",
       "           Span(1125, 1143, 'ORG'),\n",
       "           Span(1144, 1147, 'ORG'),\n",
       "           Span(1148, 1154, 'LOC'),\n",
       "           Span(1158, 1177, 'LOC')])"
      ]
     },
     "metadata": {},
     "output_type": "display_data"
    },
    {
     "name": "stdout",
     "output_type": "stream",
     "text": [
      "[(0, 6, 'LOC'), (18, 29, 'ORG'), (86, 103, 'LOC'), (106, 113, 'LOC'), (114, 149, 'ORG'), (222, 224, 'ORG'), (225, 228, 'ORG'), (326, 337, 'LOC'), (338, 347, 'LOC'), (377, 394, 'LOC'), (397, 404, 'LOC'), (405, 433, 'ORG'), (679, 683, 'ORG'), (719, 722, 'ORG'), (738, 742, 'ORG'), (788, 805, 'LOC'), (808, 820, 'LOC'), (875, 885, 'LOC'), (950, 967, 'LOC'), (970, 982, 'LOC'), (1057, 1067, 'LOC'), (1097, 1114, 'LOC'), (1117, 1129, 'LOC'), (1146, 1158, 'LOC'), (1161, 1178, 'LOC'), (1206, 1213, 'LOC'), (1216, 1225, 'LOC')]\n"
     ]
    },
    {
     "data": {
      "text/html": [
       "<div class=\"tex2jax_ignore\" style=\"white-space: pre-wrap\"><span style=\"padding: 2px; border-radius: 4px; border: 1px solid #c8e6c9; background: #e8f5e9\">Москва<span style=\"vertical-align: middle; margin-left: 2px; font-size: 0.7em; color: #66bb6a;\">LOC</span></span>. 1 января. <span style=\"padding: 2px; border-radius: 4px; border: 1px solid #ffcdd2; background: #ffebee\">INTERFAX.RU<span style=\"vertical-align: middle; margin-left: 2px; font-size: 0.7em; color: #e57373;\">ORG</span></span> - Сход 16 вагонов с углем произошел на перегоне участка <span style=\"padding: 2px; border-radius: 4px; border: 1px solid #c8e6c9; background: #e8f5e9\">Каменск-Уральский<span style=\"vertical-align: middle; margin-left: 2px; font-size: 0.7em; color: #66bb6a;\">LOC</span></span> - <span style=\"padding: 2px; border-radius: 4px; border: 1px solid #c8e6c9; background: #e8f5e9\">Арамиль<span style=\"vertical-align: middle; margin-left: 2px; font-size: 0.7em; color: #66bb6a;\">LOC</span></span> <span style=\"padding: 2px; border-radius: 4px; border: 1px solid #ffcdd2; background: #ffebee\">Свердловской железной дороги (СВЖД)<span style=\"vertical-align: middle; margin-left: 2px; font-size: 0.7em; color: #e57373;\">ORG</span></span> утром во вторник, пострадавших нет, сообщает пресс-служба регионального <span style=\"padding: 2px; border-radius: 4px; border: 1px solid #ffcdd2; background: #ffebee\">ГУ<span style=\"vertical-align: middle; margin-left: 2px; font-size: 0.7em; color: #e57373;\">ORG</span></span> <span style=\"padding: 2px; border-radius: 4px; border: 1px solid #ffcdd2; background: #ffebee\">МЧС<span style=\"vertical-align: middle; margin-left: 2px; font-size: 0.7em; color: #e57373;\">ORG</span></span>. \"1 января в 4:40 ( по местному времени ) произошел сход 16 вагонов грузового поезда на перегоне <span style=\"padding: 2px; border-radius: 4px; border: 1px solid #c8e6c9; background: #e8f5e9\">Храмцовская<span style=\"vertical-align: middle; margin-left: 2px; font-size: 0.7em; color: #66bb6a;\">LOC</span></span>-<span style=\"padding: 2px; border-radius: 4px; border: 1px solid #c8e6c9; background: #e8f5e9\">Марамзино<span style=\"vertical-align: middle; margin-left: 2px; font-size: 0.7em; color: #66bb6a;\">LOC</span></span> электрофицированного участка <span style=\"padding: 2px; border-radius: 4px; border: 1px solid #c8e6c9; background: #e8f5e9\">Каменск-Уральский<span style=\"vertical-align: middle; margin-left: 2px; font-size: 0.7em; color: #66bb6a;\">LOC</span></span> - <span style=\"padding: 2px; border-radius: 4px; border: 1px solid #c8e6c9; background: #e8f5e9\">Арамиль<span style=\"vertical-align: middle; margin-left: 2px; font-size: 0.7em; color: #66bb6a;\">LOC</span></span> <span style=\"padding: 2px; border-radius: 4px; border: 1px solid #ffcdd2; background: #ffebee\">Свердловской железной дороги<span style=\"vertical-align: middle; margin-left: 2px; font-size: 0.7em; color: #e57373;\">ORG</span></span>. Груз - уголь. Пострадавших и угрозы экологической безопасности нет\", - говорится в сообщении. Обстоятельства происшествия выясняются. В результате происшествия нарушен габарит соседнего пути. Аварийно-восстановительные работы ведут специалисты <span style=\"padding: 2px; border-radius: 4px; border: 1px solid #ffcdd2; background: #ffebee\">СВЖД<span style=\"vertical-align: middle; margin-left: 2px; font-size: 0.7em; color: #e57373;\">ORG</span></span>, также работает оперативная группа <span style=\"padding: 2px; border-radius: 4px; border: 1px solid #ffcdd2; background: #ffebee\">МЧС<span style=\"vertical-align: middle; margin-left: 2px; font-size: 0.7em; color: #e57373;\">ORG</span></span>. По информации <span style=\"padding: 2px; border-radius: 4px; border: 1px solid #ffcdd2; background: #ffebee\">СВЖД<span style=\"vertical-align: middle; margin-left: 2px; font-size: 0.7em; color: #e57373;\">ORG</span></span> движение пассажирских поездов на направлении <span style=\"padding: 2px; border-radius: 4px; border: 1px solid #c8e6c9; background: #e8f5e9\">Каменск-Уральский<span style=\"vertical-align: middle; margin-left: 2px; font-size: 0.7em; color: #66bb6a;\">LOC</span></span> - <span style=\"padding: 2px; border-radius: 4px; border: 1px solid #c8e6c9; background: #e8f5e9\">Екатеринбург<span style=\"vertical-align: middle; margin-left: 2px; font-size: 0.7em; color: #66bb6a;\">LOC</span></span> будет организовано измененным маршрутом через станцию <span style=\"padding: 2px; border-radius: 4px; border: 1px solid #c8e6c9; background: #e8f5e9\">Богданович<span style=\"vertical-align: middle; margin-left: 2px; font-size: 0.7em; color: #66bb6a;\">LOC</span></span> (возможны незначительные задержки в пути). Электропоезда № 6617 <span style=\"padding: 2px; border-radius: 4px; border: 1px solid #c8e6c9; background: #e8f5e9\">Каменск-Уральский<span style=\"vertical-align: middle; margin-left: 2px; font-size: 0.7em; color: #66bb6a;\">LOC</span></span> - <span style=\"padding: 2px; border-radius: 4px; border: 1px solid #c8e6c9; background: #e8f5e9\">Екатеринбург<span style=\"vertical-align: middle; margin-left: 2px; font-size: 0.7em; color: #66bb6a;\">LOC</span></span> и скоростной электропоезд \"Ласточка\" №7083 также направлены через станцию <span style=\"padding: 2px; border-radius: 4px; border: 1px solid #c8e6c9; background: #e8f5e9\">Богданович<span style=\"vertical-align: middle; margin-left: 2px; font-size: 0.7em; color: #66bb6a;\">LOC</span></span>. Электропоезда №№ 6601, 6603 <span style=\"padding: 2px; border-radius: 4px; border: 1px solid #c8e6c9; background: #e8f5e9\">Каменск-Уральский<span style=\"vertical-align: middle; margin-left: 2px; font-size: 0.7em; color: #66bb6a;\">LOC</span></span> - <span style=\"padding: 2px; border-radius: 4px; border: 1px solid #c8e6c9; background: #e8f5e9\">Екатеринбург<span style=\"vertical-align: middle; margin-left: 2px; font-size: 0.7em; color: #66bb6a;\">LOC</span></span> и №№ 6602, 6604 <span style=\"padding: 2px; border-radius: 4px; border: 1px solid #c8e6c9; background: #e8f5e9\">Екатеринбург<span style=\"vertical-align: middle; margin-left: 2px; font-size: 0.7em; color: #66bb6a;\">LOC</span></span> - <span style=\"padding: 2px; border-radius: 4px; border: 1px solid #c8e6c9; background: #e8f5e9\">Каменск-Уральский<span style=\"vertical-align: middle; margin-left: 2px; font-size: 0.7em; color: #66bb6a;\">LOC</span></span> будут следовать до станций <span style=\"padding: 2px; border-radius: 4px; border: 1px solid #c8e6c9; background: #e8f5e9\">Перебор<span style=\"vertical-align: middle; margin-left: 2px; font-size: 0.7em; color: #66bb6a;\">LOC</span></span> и <span style=\"padding: 2px; border-radius: 4px; border: 1px solid #c8e6c9; background: #e8f5e9\">Марамзино<span style=\"vertical-align: middle; margin-left: 2px; font-size: 0.7em; color: #66bb6a;\">LOC</span></span>, далее пассажиров доставят к месту назначения автобусами.</div>"
      ],
      "text/plain": [
       "BoxMarkup('Москва. 1 января. INTERFAX.RU - Сход 16 вагонов с углем произошел на перегоне участка Каменск-Уральский - Арамиль Свердловской железной дороги (СВЖД) утром во вторник, пострадавших нет, сообщает пресс-служба регионального ГУ МЧС. \"1 января в 4:40 ( по местному времени ) произошел сход 16 вагонов грузового поезда на перегоне Храмцовская-Марамзино электрофицированного участка Каменск-Уральский - Арамиль Свердловской железной дороги. Груз - уголь. Пострадавших и угрозы экологической безопасности нет\", - говорится в сообщении. Обстоятельства происшествия выясняются. В результате происшествия нарушен габарит соседнего пути. Аварийно-восстановительные работы ведут специалисты СВЖД, также работает оперативная группа МЧС. По информации СВЖД движение пассажирских поездов на направлении Каменск-Уральский - Екатеринбург будет организовано измененным маршрутом через станцию Богданович (возможны незначительные задержки в пути). Электропоезда № 6617 Каменск-Уральский - Екатеринбург и скоростной электропоезд \"Ласточка\" №7083 также направлены через станцию Богданович. Электропоезда №№ 6601, 6603 Каменск-Уральский - Екатеринбург и №№ 6602, 6604 Екатеринбург - Каменск-Уральский будут следовать до станций Перебор и Марамзино, далее пассажиров доставят к месту назначения автобусами.',\n",
       "          [Span(0, 6, 'LOC'),\n",
       "           Span(18, 29, 'ORG'),\n",
       "           Span(86, 103, 'LOC'),\n",
       "           Span(106, 113, 'LOC'),\n",
       "           Span(114, 149, 'ORG'),\n",
       "           Span(222, 224, 'ORG'),\n",
       "           Span(225, 228, 'ORG'),\n",
       "           Span(326, 337, 'LOC'),\n",
       "           Span(338, 347, 'LOC'),\n",
       "           Span(377, 394, 'LOC'),\n",
       "           Span(397, 404, 'LOC'),\n",
       "           Span(405, 433, 'ORG'),\n",
       "           Span(679, 683, 'ORG'),\n",
       "           Span(719, 722, 'ORG'),\n",
       "           Span(738, 742, 'ORG'),\n",
       "           Span(788, 805, 'LOC'),\n",
       "           Span(808, 820, 'LOC'),\n",
       "           Span(875, 885, 'LOC'),\n",
       "           Span(950, 967, 'LOC'),\n",
       "           Span(970, 982, 'LOC'),\n",
       "           Span(1057, 1067, 'LOC'),\n",
       "           Span(1097, 1114, 'LOC'),\n",
       "           Span(1117, 1129, 'LOC'),\n",
       "           Span(1146, 1158, 'LOC'),\n",
       "           Span(1161, 1178, 'LOC'),\n",
       "           Span(1206, 1213, 'LOC'),\n",
       "           Span(1216, 1225, 'LOC')])"
      ]
     },
     "metadata": {},
     "output_type": "display_data"
    },
    {
     "name": "stdout",
     "output_type": "stream",
     "text": [
      "[(0, 6, 'LOC'), (18, 29, 'ORG'), (67, 80, 'LOC'), (476, 495, 'LOC'), (824, 837, 'LOC'), (1008, 1020, 'LOC'), (1151, 1153, 'LOC'), (1167, 1170, 'ORG'), (1185, 1191, 'LOC')]\n"
     ]
    },
    {
     "data": {
      "text/html": [
       "<div class=\"tex2jax_ignore\" style=\"white-space: pre-wrap\"><span style=\"padding: 2px; border-radius: 4px; border: 1px solid #c8e6c9; background: #e8f5e9\">Москва<span style=\"vertical-align: middle; margin-left: 2px; font-size: 0.7em; color: #66bb6a;\">LOC</span></span>. 1 января. <span style=\"padding: 2px; border-radius: 4px; border: 1px solid #ffcdd2; background: #ffebee\">INTERFAX.RU<span style=\"vertical-align: middle; margin-left: 2px; font-size: 0.7em; color: #e57373;\">ORG</span></span> - Миграционное подразделение полиции <span style=\"padding: 2px; border-radius: 4px; border: 1px solid #c8e6c9; background: #e8f5e9\">Магнитогорска<span style=\"vertical-align: middle; margin-left: 2px; font-size: 0.7em; color: #66bb6a;\">LOC</span></span> организовало бесплатное восстановление документов, утраченных жителями дома, частично обрушившегося при взрыве бытового газа, сообщает пресс-служба администрации города во вторник. \"Гражданам необходимо обратиться в миграционный отдел. Восстановление утраченного паспорта осуществляется бесплатно и в максимально короткие сроки\", - говорится в сообщении. В свою очередь пресс-служба губернатора <span style=\"padding: 2px; border-radius: 4px; border: 1px solid #c8e6c9; background: #e8f5e9\">Челябинской области<span style=\"vertical-align: middle; margin-left: 2px; font-size: 0.7em; color: #66bb6a;\">LOC</span></span> уточняет, что паспорта восстановят в течение 2-3 часов. \"Паспортный стол работает сегодня с 9 часов. Граждане не будут оплачивать госпошлину\", - отмечает пресс-служба. Ранее сообщалось, что во вторник к 12:00 по местному времени будет готова памятка для горожан по поводу получения компенсации семьям погибших и пострадавших. В <span style=\"padding: 2px; border-radius: 4px; border: 1px solid #c8e6c9; background: #e8f5e9\">Магнитогорске<span style=\"vertical-align: middle; margin-left: 2px; font-size: 0.7em; color: #66bb6a;\">LOC</span></span> в понедельник утром произошло обрушение одного из подъездов газифицированного панельного 10-этажного 12-подъездного жилого дома ( 1973 год постройки ) по адресу проспект <span style=\"padding: 2px; border-radius: 4px; border: 1px solid #c8e6c9; background: #e8f5e9\">Карла Маркса<span style=\"vertical-align: middle; margin-left: 2px; font-size: 0.7em; color: #66bb6a;\">LOC</span></span>, 164. По данному факту возбуждено уголовное дело о причинении смерти по неосторожности двум и более лицам ( часть 3 статьи 109 УК <span style=\"padding: 2px; border-radius: 4px; border: 1px solid #c8e6c9; background: #e8f5e9\">РФ<span style=\"vertical-align: middle; margin-left: 2px; font-size: 0.7em; color: #66bb6a;\">LOC</span></span> ). По данным <span style=\"padding: 2px; border-radius: 4px; border: 1px solid #ffcdd2; background: #ffebee\">МЧС<span style=\"vertical-align: middle; margin-left: 2px; font-size: 0.7em; color: #e57373;\">ORG</span></span> на 07:00 ( по <span style=\"padding: 2px; border-radius: 4px; border: 1px solid #c8e6c9; background: #e8f5e9\">Москве<span style=\"vertical-align: middle; margin-left: 2px; font-size: 0.7em; color: #66bb6a;\">LOC</span></span> ) часов с момента начала поисково-спасательной операции из-под завалов извлечено 12 человек, из них семь человек погибли ( детей нет ), пять - спасены ( в том числе один ребенок ). Все пострадавшие госпитализированы. Проводится работа по установлению местонахождения еще 37 человек .</div>"
      ],
      "text/plain": [
       "BoxMarkup('Москва. 1 января. INTERFAX.RU - Миграционное подразделение полиции Магнитогорска организовало бесплатное восстановление документов, утраченных жителями дома, частично обрушившегося при взрыве бытового газа, сообщает пресс-служба администрации города во вторник. \"Гражданам необходимо обратиться в миграционный отдел. Восстановление утраченного паспорта осуществляется бесплатно и в максимально короткие сроки\", - говорится в сообщении. В свою очередь пресс-служба губернатора Челябинской области уточняет, что паспорта восстановят в течение 2-3 часов. \"Паспортный стол работает сегодня с 9 часов. Граждане не будут оплачивать госпошлину\", - отмечает пресс-служба. Ранее сообщалось, что во вторник к 12:00 по местному времени будет готова памятка для горожан по поводу получения компенсации семьям погибших и пострадавших. В Магнитогорске в понедельник утром произошло обрушение одного из подъездов газифицированного панельного 10-этажного 12-подъездного жилого дома ( 1973 год постройки ) по адресу проспект Карла Маркса, 164. По данному факту возбуждено уголовное дело о причинении смерти по неосторожности двум и более лицам ( часть 3 статьи 109 УК РФ ). По данным МЧС на 07:00 ( по Москве ) часов с момента начала поисково-спасательной операции из-под завалов извлечено 12 человек, из них семь человек погибли ( детей нет ), пять - спасены ( в том числе один ребенок ). Все пострадавшие госпитализированы. Проводится работа по установлению местонахождения еще 37 человек .',\n",
       "          [Span(0, 6, 'LOC'),\n",
       "           Span(18, 29, 'ORG'),\n",
       "           Span(67, 80, 'LOC'),\n",
       "           Span(476, 495, 'LOC'),\n",
       "           Span(824, 837, 'LOC'),\n",
       "           Span(1008, 1020, 'LOC'),\n",
       "           Span(1151, 1153, 'LOC'),\n",
       "           Span(1167, 1170, 'ORG'),\n",
       "           Span(1185, 1191, 'LOC')])"
      ]
     },
     "metadata": {},
     "output_type": "display_data"
    },
    {
     "name": "stdout",
     "output_type": "stream",
     "text": [
      "[(0, 6, 'LOC'), (18, 29, 'ORG'), (91, 97, 'LOC'), (127, 137, 'ORG'), (305, 322, 'LOC'), (325, 359, 'LOC')]\n"
     ]
    },
    {
     "data": {
      "text/html": [
       "<div class=\"tex2jax_ignore\" style=\"white-space: pre-wrap\"><span style=\"padding: 2px; border-radius: 4px; border: 1px solid #c8e6c9; background: #e8f5e9\">Москва<span style=\"vertical-align: middle; margin-left: 2px; font-size: 0.7em; color: #66bb6a;\">LOC</span></span>. 1 января. <span style=\"padding: 2px; border-radius: 4px; border: 1px solid #ffcdd2; background: #ffebee\">INTERFAX.RU<span style=\"vertical-align: middle; margin-left: 2px; font-size: 0.7em; color: #e57373;\">ORG</span></span> - Три человека пострадали в результате пьяной драки в центре <span style=\"padding: 2px; border-radius: 4px; border: 1px solid #c8e6c9; background: #e8f5e9\">Москвы<span style=\"vertical-align: middle; margin-left: 2px; font-size: 0.7em; color: #66bb6a;\">LOC</span></span> в новогоднюю ночь, сообщили \"<span style=\"padding: 2px; border-radius: 4px; border: 1px solid #ffcdd2; background: #ffebee\">Интерфаксу<span style=\"vertical-align: middle; margin-left: 2px; font-size: 0.7em; color: #e57373;\">ORG</span></span>\" в пресс-службе столичного главка полиции. По данным пресс-службы, в полицию около 23:30 понедельника поступило несколько сообщений о драке в районе пересечения улицы <span style=\"padding: 2px; border-radius: 4px; border: 1px solid #c8e6c9; background: #e8f5e9\">Антонова-Овсеенко<span style=\"vertical-align: middle; margin-left: 2px; font-size: 0.7em; color: #66bb6a;\">LOC</span></span> и <span style=\"padding: 2px; border-radius: 4px; border: 1px solid #c8e6c9; background: #e8f5e9\">Первого Красногвардейского проезда<span style=\"vertical-align: middle; margin-left: 2px; font-size: 0.7em; color: #66bb6a;\">LOC</span></span>. Прибывшими на место полицейскими установлено, что между неизвестными, находившимися в состоянии опьянения, произошел конфликт, переросший в драку. \"В ходе драки двое неизвестных получили ножевые ранения, один - телесные повреждения, нарядами скорой медпомощи доставлены в медицинские учреждения\", - добавил он. В пресс-службе отметили, что еще двое участников драки были доставлены в отдел полиции для дальнейшего разбирательства.</div>"
      ],
      "text/plain": [
       "BoxMarkup('Москва. 1 января. INTERFAX.RU - Три человека пострадали в результате пьяной драки в центре Москвы в новогоднюю ночь, сообщили \"Интерфаксу\" в пресс-службе столичного главка полиции. По данным пресс-службы, в полицию около 23:30 понедельника поступило несколько сообщений о драке в районе пересечения улицы Антонова-Овсеенко и Первого Красногвардейского проезда. Прибывшими на место полицейскими установлено, что между неизвестными, находившимися в состоянии опьянения, произошел конфликт, переросший в драку. \"В ходе драки двое неизвестных получили ножевые ранения, один - телесные повреждения, нарядами скорой медпомощи доставлены в медицинские учреждения\", - добавил он. В пресс-службе отметили, что еще двое участников драки были доставлены в отдел полиции для дальнейшего разбирательства.',\n",
       "          [Span(0, 6, 'LOC'),\n",
       "           Span(18, 29, 'ORG'),\n",
       "           Span(91, 97, 'LOC'),\n",
       "           Span(127, 137, 'ORG'),\n",
       "           Span(305, 322, 'LOC'),\n",
       "           Span(325, 359, 'LOC')])"
      ]
     },
     "metadata": {},
     "output_type": "display_data"
    },
    {
     "name": "stdout",
     "output_type": "stream",
     "text": [
      "[(0, 6, 'LOC'), (18, 29, 'ORG'), (81, 105, 'ORG'), (106, 112, 'LOC'), (170, 173, 'ORG'), (176, 192, 'LOC'), (246, 262, 'LOC'), (296, 299, 'ORG'), (345, 364, 'ORG'), (446, 448, 'ORG'), (493, 509, 'LOC'), (605, 624, 'ORG'), (638, 655, 'PER')]\n"
     ]
    },
    {
     "data": {
      "text/html": [
       "<div class=\"tex2jax_ignore\" style=\"white-space: pre-wrap\"><span style=\"padding: 2px; border-radius: 4px; border: 1px solid #c8e6c9; background: #e8f5e9\">Москва<span style=\"vertical-align: middle; margin-left: 2px; font-size: 0.7em; color: #66bb6a;\">LOC</span></span>. 1 января. <span style=\"padding: 2px; border-radius: 4px; border: 1px solid #ffcdd2; background: #ffebee\">INTERFAX.RU<span style=\"vertical-align: middle; margin-left: 2px; font-size: 0.7em; color: #e57373;\">ORG</span></span> - Около десяти боевых кораблей и судов обеспечения <span style=\"padding: 2px; border-radius: 4px; border: 1px solid #ffcdd2; background: #ffebee\">Черноморского флота (ЧФ)<span style=\"vertical-align: middle; margin-left: 2px; font-size: 0.7em; color: #e57373;\">ORG</span></span> <span style=\"padding: 2px; border-radius: 4px; border: 1px solid #c8e6c9; background: #e8f5e9\">России<span style=\"vertical-align: middle; margin-left: 2px; font-size: 0.7em; color: #66bb6a;\">LOC</span></span> в настоящее время входят в состав постоянной группировки <span style=\"padding: 2px; border-radius: 4px; border: 1px solid #ffcdd2; background: #ffebee\">ВМФ<span style=\"vertical-align: middle; margin-left: 2px; font-size: 0.7em; color: #e57373;\">ORG</span></span> в <span style=\"padding: 2px; border-radius: 4px; border: 1px solid #c8e6c9; background: #e8f5e9\">Средиземном море<span style=\"vertical-align: middle; margin-left: 2px; font-size: 0.7em; color: #66bb6a;\">LOC</span></span>, сообщили в пресс-службе флота. \"В настоящее время в <span style=\"padding: 2px; border-radius: 4px; border: 1px solid #c8e6c9; background: #e8f5e9\">Средиземном море<span style=\"vertical-align: middle; margin-left: 2px; font-size: 0.7em; color: #66bb6a;\">LOC</span></span> в составе постоянной группировки <span style=\"padding: 2px; border-radius: 4px; border: 1px solid #ffcdd2; background: #ffebee\">ВМФ<span style=\"vertical-align: middle; margin-left: 2px; font-size: 0.7em; color: #e57373;\">ORG</span></span> выполняют задачи порядка 10 кораблей и судов <span style=\"padding: 2px; border-radius: 4px; border: 1px solid #ffcdd2; background: #ffebee\">Черноморского флота<span style=\"vertical-align: middle; margin-left: 2px; font-size: 0.7em; color: #e57373;\">ORG</span></span>\", - говорится в сообщении. В нем отмечается, что экипажи боевых кораблей и судов <span style=\"padding: 2px; border-radius: 4px; border: 1px solid #ffcdd2; background: #ffebee\">ЧФ<span style=\"vertical-align: middle; margin-left: 2px; font-size: 0.7em; color: #e57373;\">ORG</span></span>, выполняющие задачи в составе группировки в <span style=\"padding: 2px; border-radius: 4px; border: 1px solid #c8e6c9; background: #e8f5e9\">Средиземном море<span style=\"vertical-align: middle; margin-left: 2px; font-size: 0.7em; color: #66bb6a;\">LOC</span></span>, встретили Новый год в дальней морской зоне. В пресс-службе сообщили, что накануне командующий <span style=\"padding: 2px; border-radius: 4px; border: 1px solid #ffcdd2; background: #ffebee\">Черноморским флотом<span style=\"vertical-align: middle; margin-left: 2px; font-size: 0.7em; color: #e57373;\">ORG</span></span> вице-адмирал <span style=\"padding: 2px; border-radius: 4px; border: 1px solid #bbdefb; background: #e3f2fd\">Александр Моисеев<span style=\"vertical-align: middle; margin-left: 2px; font-size: 0.7em; color: #64b5f6;\">PER</span></span> поздравил военнослужащих и их семьи с новогодними праздниками.</div>"
      ],
      "text/plain": [
       "BoxMarkup('Москва. 1 января. INTERFAX.RU - Около десяти боевых кораблей и судов обеспечения Черноморского флота (ЧФ) России в настоящее время входят в состав постоянной группировки ВМФ в Средиземном море, сообщили в пресс-службе флота. \"В настоящее время в Средиземном море в составе постоянной группировки ВМФ выполняют задачи порядка 10 кораблей и судов Черноморского флота\", - говорится в сообщении. В нем отмечается, что экипажи боевых кораблей и судов ЧФ, выполняющие задачи в составе группировки в Средиземном море, встретили Новый год в дальней морской зоне. В пресс-службе сообщили, что накануне командующий Черноморским флотом вице-адмирал Александр Моисеев поздравил военнослужащих и их семьи с новогодними праздниками.',\n",
       "          [Span(0, 6, 'LOC'),\n",
       "           Span(18, 29, 'ORG'),\n",
       "           Span(81, 105, 'ORG'),\n",
       "           Span(106, 112, 'LOC'),\n",
       "           Span(170, 173, 'ORG'),\n",
       "           Span(176, 192, 'LOC'),\n",
       "           Span(246, 262, 'LOC'),\n",
       "           Span(296, 299, 'ORG'),\n",
       "           Span(345, 364, 'ORG'),\n",
       "           Span(446, 448, 'ORG'),\n",
       "           Span(493, 509, 'LOC'),\n",
       "           Span(605, 624, 'ORG'),\n",
       "           Span(638, 655, 'PER')])"
      ]
     },
     "metadata": {},
     "output_type": "display_data"
    },
    {
     "name": "stdout",
     "output_type": "stream",
     "text": [
      "[(0, 6, 'LOC'), (18, 29, 'ORG'), (254, 288, 'ORG'), (289, 291, 'LOC'), (810, 819, 'ORG')]\n"
     ]
    },
    {
     "data": {
      "text/html": [
       "<div class=\"tex2jax_ignore\" style=\"white-space: pre-wrap\"><span style=\"padding: 2px; border-radius: 4px; border: 1px solid #c8e6c9; background: #e8f5e9\">Москва<span style=\"vertical-align: middle; margin-left: 2px; font-size: 0.7em; color: #66bb6a;\">LOC</span></span>. 1 января. <span style=\"padding: 2px; border-radius: 4px; border: 1px solid #ffcdd2; background: #ffebee\">INTERFAX.RU<span style=\"vertical-align: middle; margin-left: 2px; font-size: 0.7em; color: #e57373;\">ORG</span></span> - Тарифы на перевозки пассажиров в плацкартных и общих вагонах поездов дальнего следования ( так называемом \"регулируемом сегменте\" ) с 1 января 2019 г. выросли на 3,9%. Индексация ставок произошла в соответствии с приказом <span style=\"padding: 2px; border-radius: 4px; border: 1px solid #ffcdd2; background: #ffebee\">Федеральной антимонопольной службы<span style=\"vertical-align: middle; margin-left: 2px; font-size: 0.7em; color: #e57373;\">ORG</span></span> <span style=\"padding: 2px; border-radius: 4px; border: 1px solid #c8e6c9; background: #e8f5e9\">РФ<span style=\"vertical-align: middle; margin-left: 2px; font-size: 0.7em; color: #66bb6a;\">LOC</span></span> от 21 сентября 2018 года. В вагонах \"купе\", \"СВ\" и \"люкс\" ( в так называемом \"дерегулированном сегменте\" ) применяется система динамического ценообразования, при котором стоимость билетов формируется в зависимости от сезона, дня недели, спроса и количества проданных мест. Кроме того, с 1 января вступает в силу закон о введении невозвратных ж/д билетов в купе поездов дальнего следования. В продаже на некоторых маршрутах они появятся с 20 января, стоимость невозвратных ж/д билетов будет дешевле на 5-20%. По данным <span style=\"padding: 2px; border-radius: 4px; border: 1px solid #ffcdd2; background: #ffebee\">Минтранса<span style=\"vertical-align: middle; margin-left: 2px; font-size: 0.7em; color: #e57373;\">ORG</span></span>, такие билеты можно будет приобрести исключительно в вагоны типа \"СВ\", \"купе\" и вагоны с местами для сидения при наличии установленного перевозчиком соответствующего тарифа. В 2018 году тарифы в плацкарте не индексировались, базовые ставки в купе, СВ и люксе также не поднимались. В 2017 году тарифы на перевозки в плацкартных и общих вагонах выросли на 3,9%, в \"купе\", \"СВ\" и \"люксе\" - на 5% ( тогда это решение коснулось лишь примерно четверти составов, не входящих в систему динамического ценообразования ).</div>"
      ],
      "text/plain": [
       "BoxMarkup('Москва. 1 января. INTERFAX.RU - Тарифы на перевозки пассажиров в плацкартных и общих вагонах поездов дальнего следования ( так называемом \"регулируемом сегменте\" ) с 1 января 2019 г. выросли на 3,9%. Индексация ставок произошла в соответствии с приказом Федеральной антимонопольной службы РФ от 21 сентября 2018 года. В вагонах \"купе\", \"СВ\" и \"люкс\" ( в так называемом \"дерегулированном сегменте\" ) применяется система динамического ценообразования, при котором стоимость билетов формируется в зависимости от сезона, дня недели, спроса и количества проданных мест. Кроме того, с 1 января вступает в силу закон о введении невозвратных ж/д билетов в купе поездов дальнего следования. В продаже на некоторых маршрутах они появятся с 20 января, стоимость невозвратных ж/д билетов будет дешевле на 5-20%. По данным Минтранса, такие билеты можно будет приобрести исключительно в вагоны типа \"СВ\", \"купе\" и вагоны с местами для сидения при наличии установленного перевозчиком соответствующего тарифа. В 2018 году тарифы в плацкарте не индексировались, базовые ставки в купе, СВ и люксе также не поднимались. В 2017 году тарифы на перевозки в плацкартных и общих вагонах выросли на 3,9%, в \"купе\", \"СВ\" и \"люксе\" - на 5% ( тогда это решение коснулось лишь примерно четверти составов, не входящих в систему динамического ценообразования ).',\n",
       "          [Span(0, 6, 'LOC'),\n",
       "           Span(18, 29, 'ORG'),\n",
       "           Span(254, 288, 'ORG'),\n",
       "           Span(289, 291, 'LOC'),\n",
       "           Span(810, 819, 'ORG')])"
      ]
     },
     "metadata": {},
     "output_type": "display_data"
    },
    {
     "name": "stdout",
     "output_type": "stream",
     "text": [
      "[(0, 6, 'LOC'), (18, 29, 'ORG'), (86, 92, 'LOC'), (192, 202, 'ORG'), (344, 350, 'LOC'), (454, 465, 'LOC'), (698, 704, 'LOC')]\n"
     ]
    },
    {
     "data": {
      "text/html": [
       "<div class=\"tex2jax_ignore\" style=\"white-space: pre-wrap\"><span style=\"padding: 2px; border-radius: 4px; border: 1px solid #c8e6c9; background: #e8f5e9\">Москва<span style=\"vertical-align: middle; margin-left: 2px; font-size: 0.7em; color: #66bb6a;\">LOC</span></span>. 1 января. <span style=\"padding: 2px; border-radius: 4px; border: 1px solid #ffcdd2; background: #ffebee\">INTERFAX.RU<span style=\"vertical-align: middle; margin-left: 2px; font-size: 0.7em; color: #e57373;\">ORG</span></span> - Стоимость проезда в пригородных поездах по территории <span style=\"padding: 2px; border-radius: 4px; border: 1px solid #c8e6c9; background: #e8f5e9\">Москвы<span style=\"vertical-align: middle; margin-left: 2px; font-size: 0.7em; color: #66bb6a;\">LOC</span></span> и области с 1 января увеличилась и в течение 2019 года пересматриваться больше не будет, сообщили \"<span style=\"padding: 2px; border-radius: 4px; border: 1px solid #ffcdd2; background: #ffebee\">Интерфаксу<span style=\"vertical-align: middle; margin-left: 2px; font-size: 0.7em; color: #e57373;\">ORG</span></span>\" в департаменте экономической политики и развития столицы. \"С Нового года тариф на проезд в электропоездах пригородного сообщения в пределах <span style=\"padding: 2px; border-radius: 4px; border: 1px solid #c8e6c9; background: #e8f5e9\">Москвы<span style=\"vertical-align: middle; margin-left: 2px; font-size: 0.7em; color: #66bb6a;\">LOC</span></span> вырос на 2 рубля до 36, стоимость проезда одной зоны в межсубъектном сообщении по территории столицы и <span style=\"padding: 2px; border-radius: 4px; border: 1px solid #c8e6c9; background: #e8f5e9\">Подмосковья<span style=\"vertical-align: middle; margin-left: 2px; font-size: 0.7em; color: #66bb6a;\">LOC</span></span> - на 1 рубль до 23 рублей\", - сказал собеседник агентства. Он напомнил, что предыдущий раз тарифы на проезд в электричках столичного региона повышались полтора года назад. Между тем, рост тарифов на остальной общественный транспорт <span style=\"padding: 2px; border-radius: 4px; border: 1px solid #c8e6c9; background: #e8f5e9\">Москвы<span style=\"vertical-align: middle; margin-left: 2px; font-size: 0.7em; color: #66bb6a;\">LOC</span></span> - в среднем на 5% - произойдет только со 2 января, так как в новогоднюю ночь он работал без перерыва.</div>"
      ],
      "text/plain": [
       "BoxMarkup('Москва. 1 января. INTERFAX.RU - Стоимость проезда в пригородных поездах по территории Москвы и области с 1 января увеличилась и в течение 2019 года пересматриваться больше не будет, сообщили \"Интерфаксу\" в департаменте экономической политики и развития столицы. \"С Нового года тариф на проезд в электропоездах пригородного сообщения в пределах Москвы вырос на 2 рубля до 36, стоимость проезда одной зоны в межсубъектном сообщении по территории столицы и Подмосковья - на 1 рубль до 23 рублей\", - сказал собеседник агентства. Он напомнил, что предыдущий раз тарифы на проезд в электричках столичного региона повышались полтора года назад. Между тем, рост тарифов на остальной общественный транспорт Москвы - в среднем на 5% - произойдет только со 2 января, так как в новогоднюю ночь он работал без перерыва.',\n",
       "          [Span(0, 6, 'LOC'),\n",
       "           Span(18, 29, 'ORG'),\n",
       "           Span(86, 92, 'LOC'),\n",
       "           Span(192, 202, 'ORG'),\n",
       "           Span(344, 350, 'LOC'),\n",
       "           Span(454, 465, 'LOC'),\n",
       "           Span(698, 704, 'LOC')])"
      ]
     },
     "metadata": {},
     "output_type": "display_data"
    },
    {
     "name": "stdout",
     "output_type": "stream",
     "text": [
      "[(15, 18, 'ORG'), (80, 86, 'LOC'), (98, 109, 'ORG'), (164, 177, 'LOC'), (307, 317, 'ORG'), (334, 337, 'ORG'), (338, 344, 'LOC'), (920, 923, 'ORG'), (924, 940, 'PER'), (970, 978, 'ORG'), (979, 985, 'LOC'), (1101, 1104, 'ORG'), (1416, 1424, 'PER'), (1504, 1507, 'ORG'), (1533, 1539, 'LOC'), (1825, 1838, 'LOC'), (1991, 2003, 'LOC'), (2139, 2141, 'LOC'), (2147, 2165, 'ORG'), (2166, 2169, 'ORG'), (2170, 2176, 'LOC'), (2180, 2199, 'LOC')]\n"
     ]
    },
    {
     "data": {
      "text/html": [
       "<div class=\"tex2jax_ignore\" style=\"white-space: pre-wrap\">Как отметили в <span style=\"padding: 2px; border-radius: 4px; border: 1px solid #ffcdd2; background: #ffebee\">МЧС<span style=\"vertical-align: middle; margin-left: 2px; font-size: 0.7em; color: #e57373;\">ORG</span></span>, после этого будет продолжена поисково-спасательная операция <span style=\"padding: 2px; border-radius: 4px; border: 1px solid #c8e6c9; background: #e8f5e9\">Москва<span style=\"vertical-align: middle; margin-left: 2px; font-size: 0.7em; color: #66bb6a;\">LOC</span></span>. 1 января. <span style=\"padding: 2px; border-radius: 4px; border: 1px solid #ffcdd2; background: #ffebee\">INTERFAX.RU<span style=\"vertical-align: middle; margin-left: 2px; font-size: 0.7em; color: #e57373;\">ORG</span></span> - Спасатели демонтируют стену подъезда в жилом годе в <span style=\"padding: 2px; border-radius: 4px; border: 1px solid #c8e6c9; background: #e8f5e9\">Магнитогорске<span style=\"vertical-align: middle; margin-left: 2px; font-size: 0.7em; color: #66bb6a;\">LOC</span></span>, где взорвался газ, из-за угрозы ее обрушения, поисково-спасательные работы будут продолжены после снятия этой угрозы, сообщили \"<span style=\"padding: 2px; border-radius: 4px; border: 1px solid #ffcdd2; background: #ffebee\">Интерфаксу<span style=\"vertical-align: middle; margin-left: 2px; font-size: 0.7em; color: #e57373;\">ORG</span></span>\" в пресс-службе <span style=\"padding: 2px; border-radius: 4px; border: 1px solid #ffcdd2; background: #ffebee\">МЧС<span style=\"vertical-align: middle; margin-left: 2px; font-size: 0.7em; color: #e57373;\">ORG</span></span> <span style=\"padding: 2px; border-radius: 4px; border: 1px solid #c8e6c9; background: #e8f5e9\">России<span style=\"vertical-align: middle; margin-left: 2px; font-size: 0.7em; color: #66bb6a;\">LOC</span></span>. \"Только после того, как угроза обрушения будет устранена, продолжатся разборы завалов и поисковая операция\", - говорится в сообщении. Правкомиссией в ходе детального анализа состояния здания по его визуальному осмотру и по данным специальных приборов принято решение о демонтаже нависающих конструкций и стены седьмого подъезда, отметили в ведомстве. \"Продолжая разбор завалов, появилась реальная угроза обрушения части здания. Стена седьмого подъезда теряет устойчивость, продолжать работу в таких условиях не представляется возможным\", - цитирует пресс-служба слова главы <span style=\"padding: 2px; border-radius: 4px; border: 1px solid #ffcdd2; background: #ffebee\">МЧС<span style=\"vertical-align: middle; margin-left: 2px; font-size: 0.7em; color: #e57373;\">ORG</span></span> <span style=\"padding: 2px; border-radius: 4px; border: 1px solid #bbdefb; background: #e3f2fd\">Евгения Зиничева<span style=\"vertical-align: middle; margin-left: 2px; font-size: 0.7em; color: #64b5f6;\">PER</span></span>. По предложению специалистов <span style=\"padding: 2px; border-radius: 4px; border: 1px solid #ffcdd2; background: #ffebee\">Минстроя<span style=\"vertical-align: middle; margin-left: 2px; font-size: 0.7em; color: #e57373;\">ORG</span></span> <span style=\"padding: 2px; border-radius: 4px; border: 1px solid #c8e6c9; background: #e8f5e9\">России<span style=\"vertical-align: middle; margin-left: 2px; font-size: 0.7em; color: #66bb6a;\">LOC</span></span> предложено начать демонтаж с разбора верхних этажей, постепенно опускаясь вниз, отметили в пресс-службе. По данным <span style=\"padding: 2px; border-radius: 4px; border: 1px solid #ffcdd2; background: #ffebee\">МЧС<span style=\"vertical-align: middle; margin-left: 2px; font-size: 0.7em; color: #e57373;\">ORG</span></span>, во избежание последствий обрушения, принято решения на 40 м расширить территорию оцепления. \"Спасателей будут поднимать в люльке на кране с противоположной стороны дома. Таким образом, будут срезаться нависающие конструкции. Задача сложная, требует повышенного внимания и квалификации, - цитирует пресс-служба <span style=\"padding: 2px; border-radius: 4px; border: 1px solid #bbdefb; background: #e3f2fd\">Зиничева<span style=\"vertical-align: middle; margin-left: 2px; font-size: 0.7em; color: #64b5f6;\">PER</span></span>. По предварительной оценке, данная работа может занять почти сутки, пояснили в <span style=\"padding: 2px; border-radius: 4px; border: 1px solid #ffcdd2; background: #ffebee\">МЧС<span style=\"vertical-align: middle; margin-left: 2px; font-size: 0.7em; color: #e57373;\">ORG</span></span>. По данным на 07:00 ( по <span style=\"padding: 2px; border-radius: 4px; border: 1px solid #c8e6c9; background: #e8f5e9\">Москве<span style=\"vertical-align: middle; margin-left: 2px; font-size: 0.7em; color: #66bb6a;\">LOC</span></span> ) часов с момента начала поисково-спасательной операции из-под завалов извлечены 12 человек, из них семь человек погибли ( детей нет ), пять - спасены ( в том числе один ребенок ). Все пострадавшие госпитализированы. Проводится работа по установлению местонахождения еще 37 человек. В <span style=\"padding: 2px; border-radius: 4px; border: 1px solid #c8e6c9; background: #e8f5e9\">Магнитогорске<span style=\"vertical-align: middle; margin-left: 2px; font-size: 0.7em; color: #66bb6a;\">LOC</span></span> утром 31 декабря произошло обрушение одного из подъездов газифицированного панельного 10-этажного жилого дома ( 1973 год постройки ) по адресу проспект <span style=\"padding: 2px; border-radius: 4px; border: 1px solid #c8e6c9; background: #e8f5e9\">Карла Маркса<span style=\"vertical-align: middle; margin-left: 2px; font-size: 0.7em; color: #66bb6a;\">LOC</span></span>, 164. По данному факту было возбуждено уголовное дело о причинении смерти по неосторожности двум и более лицам ( часть 3 статьи 109 УК <span style=\"padding: 2px; border-radius: 4px; border: 1px solid #c8e6c9; background: #e8f5e9\">РФ<span style=\"vertical-align: middle; margin-left: 2px; font-size: 0.7em; color: #66bb6a;\">LOC</span></span> ). В <span style=\"padding: 2px; border-radius: 4px; border: 1px solid #ffcdd2; background: #ffebee\">Главном управлении<span style=\"vertical-align: middle; margin-left: 2px; font-size: 0.7em; color: #e57373;\">ORG</span></span> <span style=\"padding: 2px; border-radius: 4px; border: 1px solid #ffcdd2; background: #ffebee\">МЧС<span style=\"vertical-align: middle; margin-left: 2px; font-size: 0.7em; color: #e57373;\">ORG</span></span> <span style=\"padding: 2px; border-radius: 4px; border: 1px solid #c8e6c9; background: #e8f5e9\">России<span style=\"vertical-align: middle; margin-left: 2px; font-size: 0.7em; color: #66bb6a;\">LOC</span></span> по <span style=\"padding: 2px; border-radius: 4px; border: 1px solid #c8e6c9; background: #e8f5e9\">Челябинской области<span style=\"vertical-align: middle; margin-left: 2px; font-size: 0.7em; color: #66bb6a;\">LOC</span></span> продолжает действовать телефон \"горячей линии\" (8-351-239-99-99) .</div>"
      ],
      "text/plain": [
       "BoxMarkup('Как отметили в МЧС, после этого будет продолжена поисково-спасательная операция Москва. 1 января. INTERFAX.RU - Спасатели демонтируют стену подъезда в жилом годе в Магнитогорске, где взорвался газ, из-за угрозы ее обрушения, поисково-спасательные работы будут продолжены после снятия этой угрозы, сообщили \"Интерфаксу\" в пресс-службе МЧС России. \"Только после того, как угроза обрушения будет устранена, продолжатся разборы завалов и поисковая операция\", - говорится в сообщении. Правкомиссией в ходе детального анализа состояния здания по его визуальному осмотру и по данным специальных приборов принято решение о демонтаже нависающих конструкций и стены седьмого подъезда, отметили в ведомстве. \"Продолжая разбор завалов, появилась реальная угроза обрушения части здания. Стена седьмого подъезда теряет устойчивость, продолжать работу в таких условиях не представляется возможным\", - цитирует пресс-служба слова главы МЧС Евгения Зиничева. По предложению специалистов Минстроя России предложено начать демонтаж с разбора верхних этажей, постепенно опускаясь вниз, отметили в пресс-службе. По данным МЧС, во избежание последствий обрушения, принято решения на 40 м расширить территорию оцепления. \"Спасателей будут поднимать в люльке на кране с противоположной стороны дома. Таким образом, будут срезаться нависающие конструкции. Задача сложная, требует повышенного внимания и квалификации, - цитирует пресс-служба Зиничева. По предварительной оценке, данная работа может занять почти сутки, пояснили в МЧС. По данным на 07:00 ( по Москве ) часов с момента начала поисково-спасательной операции из-под завалов извлечены 12 человек, из них семь человек погибли ( детей нет ), пять - спасены ( в том числе один ребенок ). Все пострадавшие госпитализированы. Проводится работа по установлению местонахождения еще 37 человек. В Магнитогорске утром 31 декабря произошло обрушение одного из подъездов газифицированного панельного 10-этажного жилого дома ( 1973 год постройки ) по адресу проспект Карла Маркса, 164. По данному факту было возбуждено уголовное дело о причинении смерти по неосторожности двум и более лицам ( часть 3 статьи 109 УК РФ ). В Главном управлении МЧС России по Челябинской области продолжает действовать телефон \"горячей линии\" (8-351-239-99-99) .',\n",
       "          [Span(15, 18, 'ORG'),\n",
       "           Span(80, 86, 'LOC'),\n",
       "           Span(98, 109, 'ORG'),\n",
       "           Span(164, 177, 'LOC'),\n",
       "           Span(307, 317, 'ORG'),\n",
       "           Span(334, 337, 'ORG'),\n",
       "           Span(338, 344, 'LOC'),\n",
       "           Span(920, 923, 'ORG'),\n",
       "           Span(924, 940, 'PER'),\n",
       "           Span(970, 978, 'ORG'),\n",
       "           Span(979, 985, 'LOC'),\n",
       "           Span(1101, 1104, 'ORG'),\n",
       "           Span(1416, 1424, 'PER'),\n",
       "           Span(1504, 1507, 'ORG'),\n",
       "           Span(1533, 1539, 'LOC'),\n",
       "           Span(1825, 1838, 'LOC'),\n",
       "           Span(1991, 2003, 'LOC'),\n",
       "           Span(2139, 2141, 'LOC'),\n",
       "           Span(2147, 2165, 'ORG'),\n",
       "           Span(2166, 2169, 'ORG'),\n",
       "           Span(2170, 2176, 'LOC'),\n",
       "           Span(2180, 2199, 'LOC')])"
      ]
     },
     "metadata": {},
     "output_type": "display_data"
    },
    {
     "name": "stdout",
     "output_type": "stream",
     "text": [
      "[(30, 49, 'ORG'), (50, 61, 'ORG'), (112, 118, 'LOC'), (130, 141, 'ORG'), (181, 195, 'PER'), (198, 219, 'ORG'), (245, 264, 'ORG'), (341, 348, 'PER'), (622, 629, 'PER'), (995, 1002, 'PER'), (1063, 1074, 'PER'), (1162, 1168, 'LOC'), (1250, 1269, 'ORG'), (1450, 1457, 'PER'), (1834, 1841, 'PER'), (2032, 2039, 'PER'), (2391, 2397, 'LOC'), (2440, 2447, 'PER'), (2578, 2594, 'PER'), (2597, 2604, 'PER'), (2676, 2683, 'PER'), (3298, 3305, 'PER'), (3864, 3871, 'PER'), (4134, 4159, 'PER'), (4214, 4221, 'PER'), (4622, 4628, 'PER'), (5179, 5186, 'PER'), (5579, 5586, 'PER'), (5629, 5635, 'LOC'), (5647, 5660, 'LOC'), (5665, 5671, 'LOC'), (5680, 5697, 'LOC'), (5699, 5705, 'LOC'), (5978, 5985, 'PER'), (6016, 6023, 'PER'), (6026, 6044, 'ORG')]\n"
     ]
    },
    {
     "data": {
      "text/html": [
       "<div class=\"tex2jax_ignore\" style=\"white-space: pre-wrap\">Выставку, уже побившую рекорд <span style=\"padding: 2px; border-radius: 4px; border: 1px solid #ffcdd2; background: #ffebee\">Инженерного корпуса<span style=\"vertical-align: middle; margin-left: 2px; font-size: 0.7em; color: #e57373;\">ORG</span></span> <span style=\"padding: 2px; border-radius: 4px; border: 1px solid #ffcdd2; background: #ffebee\">Третьяковки<span style=\"vertical-align: middle; margin-left: 2px; font-size: 0.7em; color: #e57373;\">ORG</span></span> по числу посетителей, еще можно успеть посмотреть <span style=\"padding: 2px; border-radius: 4px; border: 1px solid #c8e6c9; background: #e8f5e9\">Москва<span style=\"vertical-align: middle; margin-left: 2px; font-size: 0.7em; color: #66bb6a;\">LOC</span></span>. 1 января. <span style=\"padding: 2px; border-radius: 4px; border: 1px solid #ffcdd2; background: #ffebee\">INTERFAX.RU<span style=\"vertical-align: middle; margin-left: 2px; font-size: 0.7em; color: #e57373;\">ORG</span></span> - Выставка к 175-летию со дня рождения <span style=\"padding: 2px; border-radius: 4px; border: 1px solid #bbdefb; background: #e3f2fd\">Архипа Куинджи<span style=\"vertical-align: middle; margin-left: 2px; font-size: 0.7em; color: #64b5f6;\">PER</span></span> в <span style=\"padding: 2px; border-radius: 4px; border: 1px solid #ffcdd2; background: #ffebee\">Третьяковской галерее<span style=\"vertical-align: middle; margin-left: 2px; font-size: 0.7em; color: #e57373;\">ORG</span></span> уже успела побить рекорд <span style=\"padding: 2px; border-radius: 4px; border: 1px solid #ffcdd2; background: #ffebee\">Инженерного корпуса<span style=\"vertical-align: middle; margin-left: 2px; font-size: 0.7em; color: #e57373;\">ORG</span></span> музея: с начала октября по конец ноября ее увидели более 135 тысяч человек. <span style=\"padding: 2px; border-radius: 4px; border: 1px solid #bbdefb; background: #e3f2fd\">Куинджи<span style=\"vertical-align: middle; margin-left: 2px; font-size: 0.7em; color: #64b5f6;\">PER</span></span> до сих пор остается одним из самых загадочных художников: его происхождение и год рождения точно не выяснены, да и разгадать секрет его знаменитых \"светящихся\" красок в полной мере не удалось, хоть известно, что ничего сверхъестественного в их составе не было. Более того, <span style=\"padding: 2px; border-radius: 4px; border: 1px solid #bbdefb; background: #e3f2fd\">Куинджи<span style=\"vertical-align: middle; margin-left: 2px; font-size: 0.7em; color: #64b5f6;\">PER</span></span> не оставил архива, по которому можно было бы из первых уст узнать о замыслах художника в той или иной картине. В период с 1882 года и до своей смерти в 1910 году он и вовсе вел затворнический образ жизни, писал \"в стол\" и на выставки свои работы не отдавал. Поэтому его пейзажи по-прежнему дают пищу для рассуждений об их символизме и зашифрованной в них философии <span style=\"padding: 2px; border-radius: 4px; border: 1px solid #bbdefb; background: #e3f2fd\">Куинджи<span style=\"vertical-align: middle; margin-left: 2px; font-size: 0.7em; color: #64b5f6;\">PER</span></span>. Несмотря на предсказуемый интерес к работам художника, для <span style=\"padding: 2px; border-radius: 4px; border: 1px solid #bbdefb; background: #e3f2fd\">Третьяковки<span style=\"vertical-align: middle; margin-left: 2px; font-size: 0.7em; color: #64b5f6;\">PER</span></span> это первая его персональная выставка с 1992 года. Кроме того, после смерти художника в <span style=\"padding: 2px; border-radius: 4px; border: 1px solid #c8e6c9; background: #e8f5e9\">России<span style=\"vertical-align: middle; margin-left: 2px; font-size: 0.7em; color: #66bb6a;\">LOC</span></span> проходили лишь три выставки в 1913, 1914 и 2007 годах. В этот раз на двух этажах <span style=\"padding: 2px; border-radius: 4px; border: 1px solid #ffcdd2; background: #ffebee\">Инженерного корпуса<span style=\"vertical-align: middle; margin-left: 2px; font-size: 0.7em; color: #e57373;\">ORG</span></span> были собраны около 200 работ из коллекций 24 музеев. Плоды экспериментов пейзажиста разнесены по четырем тематическим секциям без привязки к хронологии. Главными \"героями\" полотен <span style=\"padding: 2px; border-radius: 4px; border: 1px solid #bbdefb; background: #e3f2fd\">Куинджи<span style=\"vertical-align: middle; margin-left: 2px; font-size: 0.7em; color: #64b5f6;\">PER</span></span> были свет и пространство, и каждый последующий зал показывает отдельные ветви его поисков, попытки зафиксировать секундные состояния природы со своими особенностями освещения и настроения. Открывает выставку зал \"Притяжение земли\", в котором собраны полотна с видами природы с высоты человеческого роста. Многие работы, представленные в этой секции, были на слуху и при жизни <span style=\"padding: 2px; border-radius: 4px; border: 1px solid #bbdefb; background: #e3f2fd\">Куинджи<span style=\"vertical-align: middle; margin-left: 2px; font-size: 0.7em; color: #64b5f6;\">PER</span></span>: с ними он участвовал в выставках передвижников. Встречает зрителей знакомая каждому со школьной скамьи \"Березовая роща\" (1879 год), которая в свое время стала откровением для современников <span style=\"padding: 2px; border-radius: 4px; border: 1px solid #bbdefb; background: #e3f2fd\">Куинджи<span style=\"vertical-align: middle; margin-left: 2px; font-size: 0.7em; color: #64b5f6;\">PER</span></span>. Но на этот раз по соседству вывешены несколько этюдов, по которым видно, какая кропотливая работа отделяла художника от итогового полотна. Этюд \"Березы в лесу\", хоть и небольшой по формату, производит впечатление полноценной картины, столь он яркий и детализированный. Представлена здесь и знаменитая трилогия, написанная художником после поездки на <span style=\"padding: 2px; border-radius: 4px; border: 1px solid #c8e6c9; background: #e8f5e9\">Валаам<span style=\"vertical-align: middle; margin-left: 2px; font-size: 0.7em; color: #66bb6a;\">LOC</span></span>: \"Ладожское озеро\" (1871 год), на которой <span style=\"padding: 2px; border-radius: 4px; border: 1px solid #bbdefb; background: #e3f2fd\">Куинджи<span style=\"vertical-align: middle; margin-left: 2px; font-size: 0.7em; color: #64b5f6;\">PER</span></span> виртуозно передал прозрачность воды и проступающие на дне камни, картина \"На острове Валааме\" (1873 год), ставшая первой покупкой <span style=\"padding: 2px; border-radius: 4px; border: 1px solid #bbdefb; background: #e3f2fd\">Павла Третьякова<span style=\"vertical-align: middle; margin-left: 2px; font-size: 0.7em; color: #64b5f6;\">PER</span></span> у <span style=\"padding: 2px; border-radius: 4px; border: 1px solid #bbdefb; background: #e3f2fd\">Куинджи<span style=\"vertical-align: middle; margin-left: 2px; font-size: 0.7em; color: #64b5f6;\">PER</span></span>, и \"Север\" (1879 год). В зале \"Тайна ночи\" собраны полотна, на которых <span style=\"padding: 2px; border-radius: 4px; border: 1px solid #bbdefb; background: #e3f2fd\">Куинджи<span style=\"vertical-align: middle; margin-left: 2px; font-size: 0.7em; color: #64b5f6;\">PER</span></span> улавливал мгновения заката от первой вечерней дымки до почти полной тьмы, игру лунного света в ночное время. Если не считать легендарного полотна \"Лунная ночь на Днепре\" (1880 год), большинство картин в этой секции были написаны в период затворничества, и при жизни художник показывал только часть из них, да и то избранному кругу друзей и учеников. Многие картины специалисты не смогли точно датировать, даже используя архивы, - указан лишь временной промежуток, в который те или иные полотна могли появиться на свет. Пройдя по залу \"Тайна ночи\", можно прочувствовать силу, которую сама природа, а вслед за ней и <span style=\"padding: 2px; border-radius: 4px; border: 1px solid #bbdefb; background: #e3f2fd\">Куинджи<span style=\"vertical-align: middle; margin-left: 2px; font-size: 0.7em; color: #64b5f6;\">PER</span></span> заключали в свете. На полотне \"Вечер на Украине\" (1878 год) свет - это разлитое по полю и хатам розоватое тепло летнего дня, \"Закат в степи на берегу моря\" напоминает о моментах отдыха после дневной летней усталости. Картина \"Закат\" (1900-е годы) застает последние мгновения вечера, настолько мрачные, что возникают сомнения, взойдет ли солнце снова, а на полотне \"Закат над сосновым лесом\" (1990-е годы) светило предстает обжигающим, способным уничтожить все живое. \"Лунную ночь на Днепре\" в зале сопровождают несколько копий и вариаций на тему, написанных <span style=\"padding: 2px; border-radius: 4px; border: 1px solid #bbdefb; background: #e3f2fd\">Куинджи<span style=\"vertical-align: middle; margin-left: 2px; font-size: 0.7em; color: #64b5f6;\">PER</span></span> по заказу на волне популярности после выставки. Еще при жизни художника стало понятно, что со временем яркость лунного цвета меркнет из-за внешнего воздействия. А оригинал и вовсе прошел через испытание морским путешествием, поскольку ее владелец, великий князь <span style=\"padding: 2px; border-radius: 4px; border: 1px solid #bbdefb; background: #e3f2fd\">Константин Константинович<span style=\"vertical-align: middle; margin-left: 2px; font-size: 0.7em; color: #64b5f6;\">PER</span></span>, никак не хотел расставаться с шедевром. Тогда самому <span style=\"padding: 2px; border-radius: 4px; border: 1px solid #bbdefb; background: #e3f2fd\">Куинджи<span style=\"vertical-align: middle; margin-left: 2px; font-size: 0.7em; color: #64b5f6;\">PER</span></span> пришлось реставрировать полотно. Сейчас первый вариант \"Лунной ночи на Днепре\", по-прежнему поражающий воображение, не настолько яркий, каким его видели первые зрители на выставке одной картины. Жемчужина зала - полотно \"Христос в Гефсиманском саду\" (1901 год), на котором контраст света и тьмы, отточенный на пейзажах, приобретает символическое значение. Чистый лунный свет выхватывает вдали фигуру <span style=\"padding: 2px; border-radius: 4px; border: 1px solid #bbdefb; background: #e3f2fd\">Иисуса<span style=\"vertical-align: middle; margin-left: 2px; font-size: 0.7em; color: #64b5f6;\">PER</span></span>, смотрящего в темноту под сенью деревьев на первом плане, где скрываются его недоброжелатели. Третий зал выставки - \"В просторах вечности\" - объединяет работы, в которых главенствующие роли играют пространство, воздух, туман и облака. Эти картины отличаются ракурсом - многие из них написаны словно с высоты птичьего полета. Подобные виды привычны нам благодаря путешествиям на самолете, кино и фотографиям, но еще не очень были знакомы человеку рубежа XIX-XX веков. Изображены на картинах поля, море и реки, при этом особенно кропотливо проработаны <span style=\"padding: 2px; border-radius: 4px; border: 1px solid #bbdefb; background: #e3f2fd\">Куинджи<span style=\"vertical-align: middle; margin-left: 2px; font-size: 0.7em; color: #64b5f6;\">PER</span></span> репей и прочая сорная трава, растущая по берегу и выведенная художником на первый план. На контрасте с прозрачным воздухом на большинстве полотен в этом зале представлена картина \"В тумане\" (1905-1908 годы), на которой изображены силуэты гор, едва проступающие через молочную пелену. Завершает выставку небольшой зал \"Опережая время\", в котором выставлены, пожалуй, самые неожиданные полотна <span style=\"padding: 2px; border-radius: 4px; border: 1px solid #bbdefb; background: #e3f2fd\">Куинджи<span style=\"vertical-align: middle; margin-left: 2px; font-size: 0.7em; color: #64b5f6;\">PER</span></span> - городские пейзажи. Картины \"Москва. Вид <span style=\"padding: 2px; border-radius: 4px; border: 1px solid #c8e6c9; background: #e8f5e9\">Кремля<span style=\"vertical-align: middle; margin-left: 2px; font-size: 0.7em; color: #66bb6a;\">LOC</span></span> со стороны <span style=\"padding: 2px; border-radius: 4px; border: 1px solid #c8e6c9; background: #e8f5e9\">Замоскворечья<span style=\"vertical-align: middle; margin-left: 2px; font-size: 0.7em; color: #66bb6a;\">LOC</span></span>\" и \"<span style=\"padding: 2px; border-radius: 4px; border: 1px solid #c8e6c9; background: #e8f5e9\">Москва<span style=\"vertical-align: middle; margin-left: 2px; font-size: 0.7em; color: #66bb6a;\">LOC</span></span>. Вид на <span style=\"padding: 2px; border-radius: 4px; border: 1px solid #c8e6c9; background: #e8f5e9\">Москворецкий мост<span style=\"vertical-align: middle; margin-left: 2px; font-size: 0.7em; color: #66bb6a;\">LOC</span></span>, <span style=\"padding: 2px; border-radius: 4px; border: 1px solid #c8e6c9; background: #e8f5e9\">Кремль<span style=\"vertical-align: middle; margin-left: 2px; font-size: 0.7em; color: #66bb6a;\">LOC</span></span> и храм Василия Блаженного\" были написаны в 1882 году, всего спустя два года после \"Лунной ночи на Днепре\", но четкостью линий и теплыми цветами они напоминают оптимистичные городские пейзажи уже советских времен. Также в четвертом зале можно увидеть редкие для творчества <span style=\"padding: 2px; border-radius: 4px; border: 1px solid #bbdefb; background: #e3f2fd\">Куинджи<span style=\"vertical-align: middle; margin-left: 2px; font-size: 0.7em; color: #64b5f6;\">PER</span></span> виды зимней природы. Выставка <span style=\"padding: 2px; border-radius: 4px; border: 1px solid #bbdefb; background: #e3f2fd\">Куинджи<span style=\"vertical-align: middle; margin-left: 2px; font-size: 0.7em; color: #64b5f6;\">PER</span></span> в <span style=\"padding: 2px; border-radius: 4px; border: 1px solid #ffcdd2; background: #ffebee\">Инженерном корпусе<span style=\"vertical-align: middle; margin-left: 2px; font-size: 0.7em; color: #e57373;\">ORG</span></span> будет работать до 17 февраля. На время новогодних праздников режим работы музея меняется, поэтому перед посещением стоит уточнить информацию на сайте .</div>"
      ],
      "text/plain": [
       "BoxMarkup('Выставку, уже побившую рекорд Инженерного корпуса Третьяковки по числу посетителей, еще можно успеть посмотреть Москва. 1 января. INTERFAX.RU - Выставка к 175-летию со дня рождения Архипа Куинджи в Третьяковской галерее уже успела побить рекорд Инженерного корпуса музея: с начала октября по конец ноября ее увидели более 135 тысяч человек. Куинджи до сих пор остается одним из самых загадочных художников: его происхождение и год рождения точно не выяснены, да и разгадать секрет его знаменитых \"светящихся\" красок в полной мере не удалось, хоть известно, что ничего сверхъестественного в их составе не было. Более того, Куинджи не оставил архива, по которому можно было бы из первых уст узнать о замыслах художника в той или иной картине. В период с 1882 года и до своей смерти в 1910 году он и вовсе вел затворнический образ жизни, писал \"в стол\" и на выставки свои работы не отдавал. Поэтому его пейзажи по-прежнему дают пищу для рассуждений об их символизме и зашифрованной в них философии Куинджи. Несмотря на предсказуемый интерес к работам художника, для Третьяковки это первая его персональная выставка с 1992 года. Кроме того, после смерти художника в России проходили лишь три выставки в 1913, 1914 и 2007 годах. В этот раз на двух этажах Инженерного корпуса были собраны около 200 работ из коллекций 24 музеев. Плоды экспериментов пейзажиста разнесены по четырем тематическим секциям без привязки к хронологии. Главными \"героями\" полотен Куинджи были свет и пространство, и каждый последующий зал показывает отдельные ветви его поисков, попытки зафиксировать секундные состояния природы со своими особенностями освещения и настроения. Открывает выставку зал \"Притяжение земли\", в котором собраны полотна с видами природы с высоты человеческого роста. Многие работы, представленные в этой секции, были на слуху и при жизни Куинджи: с ними он участвовал в выставках передвижников. Встречает зрителей знакомая каждому со школьной скамьи \"Березовая роща\" (1879 год), которая в свое время стала откровением для современников Куинджи. Но на этот раз по соседству вывешены несколько этюдов, по которым видно, какая кропотливая работа отделяла художника от итогового полотна. Этюд \"Березы в лесу\", хоть и небольшой по формату, производит впечатление полноценной картины, столь он яркий и детализированный. Представлена здесь и знаменитая трилогия, написанная художником после поездки на Валаам: \"Ладожское озеро\" (1871 год), на которой Куинджи виртуозно передал прозрачность воды и проступающие на дне камни, картина \"На острове Валааме\" (1873 год), ставшая первой покупкой Павла Третьякова у Куинджи, и \"Север\" (1879 год). В зале \"Тайна ночи\" собраны полотна, на которых Куинджи улавливал мгновения заката от первой вечерней дымки до почти полной тьмы, игру лунного света в ночное время. Если не считать легендарного полотна \"Лунная ночь на Днепре\" (1880 год), большинство картин в этой секции были написаны в период затворничества, и при жизни художник показывал только часть из них, да и то избранному кругу друзей и учеников. Многие картины специалисты не смогли точно датировать, даже используя архивы, - указан лишь временной промежуток, в который те или иные полотна могли появиться на свет. Пройдя по залу \"Тайна ночи\", можно прочувствовать силу, которую сама природа, а вслед за ней и Куинджи заключали в свете. На полотне \"Вечер на Украине\" (1878 год) свет - это разлитое по полю и хатам розоватое тепло летнего дня, \"Закат в степи на берегу моря\" напоминает о моментах отдыха после дневной летней усталости. Картина \"Закат\" (1900-е годы) застает последние мгновения вечера, настолько мрачные, что возникают сомнения, взойдет ли солнце снова, а на полотне \"Закат над сосновым лесом\" (1990-е годы) светило предстает обжигающим, способным уничтожить все живое. \"Лунную ночь на Днепре\" в зале сопровождают несколько копий и вариаций на тему, написанных Куинджи по заказу на волне популярности после выставки. Еще при жизни художника стало понятно, что со временем яркость лунного цвета меркнет из-за внешнего воздействия. А оригинал и вовсе прошел через испытание морским путешествием, поскольку ее владелец, великий князь Константин Константинович, никак не хотел расставаться с шедевром. Тогда самому Куинджи пришлось реставрировать полотно. Сейчас первый вариант \"Лунной ночи на Днепре\", по-прежнему поражающий воображение, не настолько яркий, каким его видели первые зрители на выставке одной картины. Жемчужина зала - полотно \"Христос в Гефсиманском саду\" (1901 год), на котором контраст света и тьмы, отточенный на пейзажах, приобретает символическое значение. Чистый лунный свет выхватывает вдали фигуру Иисуса, смотрящего в темноту под сенью деревьев на первом плане, где скрываются его недоброжелатели. Третий зал выставки - \"В просторах вечности\" - объединяет работы, в которых главенствующие роли играют пространство, воздух, туман и облака. Эти картины отличаются ракурсом - многие из них написаны словно с высоты птичьего полета. Подобные виды привычны нам благодаря путешествиям на самолете, кино и фотографиям, но еще не очень были знакомы человеку рубежа XIX-XX веков. Изображены на картинах поля, море и реки, при этом особенно кропотливо проработаны Куинджи репей и прочая сорная трава, растущая по берегу и выведенная художником на первый план. На контрасте с прозрачным воздухом на большинстве полотен в этом зале представлена картина \"В тумане\" (1905-1908 годы), на которой изображены силуэты гор, едва проступающие через молочную пелену. Завершает выставку небольшой зал \"Опережая время\", в котором выставлены, пожалуй, самые неожиданные полотна Куинджи - городские пейзажи. Картины \"Москва. Вид Кремля со стороны Замоскворечья\" и \"Москва. Вид на Москворецкий мост, Кремль и храм Василия Блаженного\" были написаны в 1882 году, всего спустя два года после \"Лунной ночи на Днепре\", но четкостью линий и теплыми цветами они напоминают оптимистичные городские пейзажи уже советских времен. Также в четвертом зале можно увидеть редкие для творчества Куинджи виды зимней природы. Выставка Куинджи в Инженерном корпусе будет работать до 17 февраля. На время новогодних праздников режим работы музея меняется, поэтому перед посещением стоит уточнить информацию на сайте .',\n",
       "          [Span(30, 49, 'ORG'),\n",
       "           Span(50, 61, 'ORG'),\n",
       "           Span(112, 118, 'LOC'),\n",
       "           Span(130, 141, 'ORG'),\n",
       "           Span(181, 195, 'PER'),\n",
       "           Span(198, 219, 'ORG'),\n",
       "           Span(245, 264, 'ORG'),\n",
       "           Span(341, 348, 'PER'),\n",
       "           Span(622, 629, 'PER'),\n",
       "           Span(995, 1002, 'PER'),\n",
       "           Span(1063, 1074, 'PER'),\n",
       "           Span(1162, 1168, 'LOC'),\n",
       "           Span(1250, 1269, 'ORG'),\n",
       "           Span(1450, 1457, 'PER'),\n",
       "           Span(1834, 1841, 'PER'),\n",
       "           Span(2032, 2039, 'PER'),\n",
       "           Span(2391, 2397, 'LOC'),\n",
       "           Span(2440, 2447, 'PER'),\n",
       "           Span(2578, 2594, 'PER'),\n",
       "           Span(2597, 2604, 'PER'),\n",
       "           Span(2676, 2683, 'PER'),\n",
       "           Span(3298, 3305, 'PER'),\n",
       "           Span(3864, 3871, 'PER'),\n",
       "           Span(4134, 4159, 'PER'),\n",
       "           Span(4214, 4221, 'PER'),\n",
       "           Span(4622, 4628, 'PER'),\n",
       "           Span(5179, 5186, 'PER'),\n",
       "           Span(5579, 5586, 'PER'),\n",
       "           Span(5629, 5635, 'LOC'),\n",
       "           Span(5647, 5660, 'LOC'),\n",
       "           Span(5665, 5671, 'LOC'),\n",
       "           Span(5680, 5697, 'LOC'),\n",
       "           Span(5699, 5705, 'LOC'),\n",
       "           Span(5978, 5985, 'PER'),\n",
       "           Span(6016, 6023, 'PER'),\n",
       "           Span(6026, 6044, 'ORG')])"
      ]
     },
     "metadata": {},
     "output_type": "display_data"
    },
    {
     "name": "stdout",
     "output_type": "stream",
     "text": [
      "[(0, 6, 'LOC'), (18, 29, 'ORG'), (144, 157, 'LOC'), (193, 212, 'LOC'), (237, 253, 'PER'), (635, 648, 'LOC'), (810, 822, 'LOC'), (958, 960, 'LOC'), (1268, 1286, 'ORG'), (1287, 1290, 'ORG'), (1291, 1297, 'LOC'), (1301, 1320, 'LOC')]\n"
     ]
    },
    {
     "data": {
      "text/html": [
       "<div class=\"tex2jax_ignore\" style=\"white-space: pre-wrap\"><span style=\"padding: 2px; border-radius: 4px; border: 1px solid #c8e6c9; background: #e8f5e9\">Москва<span style=\"vertical-align: middle; margin-left: 2px; font-size: 0.7em; color: #66bb6a;\">LOC</span></span>. 1 января. <span style=\"padding: 2px; border-radius: 4px; border: 1px solid #ffcdd2; background: #ffebee\">INTERFAX.RU<span style=\"vertical-align: middle; margin-left: 2px; font-size: 0.7em; color: #e57373;\">ORG</span></span> - Власти выделят дополнительно по 25 тысяч рублей на организацию похорон погибших во время обрушения части дома в <span style=\"padding: 2px; border-radius: 4px; border: 1px solid #c8e6c9; background: #e8f5e9\">Магнитогорске<span style=\"vertical-align: middle; margin-left: 2px; font-size: 0.7em; color: #66bb6a;\">LOC</span></span>, сообщает пресс-служба губернатора <span style=\"padding: 2px; border-radius: 4px; border: 1px solid #c8e6c9; background: #e8f5e9\">Челябинской области<span style=\"vertical-align: middle; margin-left: 2px; font-size: 0.7em; color: #66bb6a;\">LOC</span></span> во вторник. \"Губернатор <span style=\"padding: 2px; border-radius: 4px; border: 1px solid #bbdefb; background: #e3f2fd\">Борис Дубровский<span style=\"vertical-align: middle; margin-left: 2px; font-size: 0.7em; color: #64b5f6;\">PER</span></span> распорядился системно организовать работу по захоронению. Вместе с гарантированным федеральным законодательством пособием выделяемая на похороны сумма составит чуть более 31,5 тысяч рублей на человека\", - отмечается в сообщении. Ранее сообщалось, что семьи погибших получат из областного бюджета материальную помощь в размере 100 тысяч рублей, пострадавшие - по 50 тысяч рублей. В <span style=\"padding: 2px; border-radius: 4px; border: 1px solid #c8e6c9; background: #e8f5e9\">Магнитогорске<span style=\"vertical-align: middle; margin-left: 2px; font-size: 0.7em; color: #66bb6a;\">LOC</span></span> утром 31 декабря из-за взрыва бытового газа произошло обрушение одного из подъездов панельного 10-этажного жилого дома ( 1973 год постройки ) по адресу проспект <span style=\"padding: 2px; border-radius: 4px; border: 1px solid #c8e6c9; background: #e8f5e9\">Карла Маркса<span style=\"vertical-align: middle; margin-left: 2px; font-size: 0.7em; color: #66bb6a;\">LOC</span></span>, 164. По данному факту было возбуждено уголовное дело о причинении смерти по неосторожности двум и более лицам ( часть 3 статьи 109 УК <span style=\"padding: 2px; border-radius: 4px; border: 1px solid #c8e6c9; background: #e8f5e9\">РФ<span style=\"vertical-align: middle; margin-left: 2px; font-size: 0.7em; color: #66bb6a;\">LOC</span></span> ). По данным на утро 1 января с момента начала поисково-спасательной операции из-под завалов извлечены 12 человек, из них семь человек погибли ( детей нет ), пять - спасены ( в том числе один ребенок ). Все пострадавшие госпитализированы. Проводится работа по установлению местонахождения еще 37 человек. В <span style=\"padding: 2px; border-radius: 4px; border: 1px solid #ffcdd2; background: #ffebee\">Главном управлении<span style=\"vertical-align: middle; margin-left: 2px; font-size: 0.7em; color: #e57373;\">ORG</span></span> <span style=\"padding: 2px; border-radius: 4px; border: 1px solid #ffcdd2; background: #ffebee\">МЧС<span style=\"vertical-align: middle; margin-left: 2px; font-size: 0.7em; color: #e57373;\">ORG</span></span> <span style=\"padding: 2px; border-radius: 4px; border: 1px solid #c8e6c9; background: #e8f5e9\">России<span style=\"vertical-align: middle; margin-left: 2px; font-size: 0.7em; color: #66bb6a;\">LOC</span></span> по <span style=\"padding: 2px; border-radius: 4px; border: 1px solid #c8e6c9; background: #e8f5e9\">Челябинской области<span style=\"vertical-align: middle; margin-left: 2px; font-size: 0.7em; color: #66bb6a;\">LOC</span></span> продолжает действовать телефон \"горячей линии\" (8-351-239-99-99) .</div>"
      ],
      "text/plain": [
       "BoxMarkup('Москва. 1 января. INTERFAX.RU - Власти выделят дополнительно по 25 тысяч рублей на организацию похорон погибших во время обрушения части дома в Магнитогорске, сообщает пресс-служба губернатора Челябинской области во вторник. \"Губернатор Борис Дубровский распорядился системно организовать работу по захоронению. Вместе с гарантированным федеральным законодательством пособием выделяемая на похороны сумма составит чуть более 31,5 тысяч рублей на человека\", - отмечается в сообщении. Ранее сообщалось, что семьи погибших получат из областного бюджета материальную помощь в размере 100 тысяч рублей, пострадавшие - по 50 тысяч рублей. В Магнитогорске утром 31 декабря из-за взрыва бытового газа произошло обрушение одного из подъездов панельного 10-этажного жилого дома ( 1973 год постройки ) по адресу проспект Карла Маркса, 164. По данному факту было возбуждено уголовное дело о причинении смерти по неосторожности двум и более лицам ( часть 3 статьи 109 УК РФ ). По данным на утро 1 января с момента начала поисково-спасательной операции из-под завалов извлечены 12 человек, из них семь человек погибли ( детей нет ), пять - спасены ( в том числе один ребенок ). Все пострадавшие госпитализированы. Проводится работа по установлению местонахождения еще 37 человек. В Главном управлении МЧС России по Челябинской области продолжает действовать телефон \"горячей линии\" (8-351-239-99-99) .',\n",
       "          [Span(0, 6, 'LOC'),\n",
       "           Span(18, 29, 'ORG'),\n",
       "           Span(144, 157, 'LOC'),\n",
       "           Span(193, 212, 'LOC'),\n",
       "           Span(237, 253, 'PER'),\n",
       "           Span(635, 648, 'LOC'),\n",
       "           Span(810, 822, 'LOC'),\n",
       "           Span(958, 960, 'LOC'),\n",
       "           Span(1268, 1286, 'ORG'),\n",
       "           Span(1287, 1290, 'ORG'),\n",
       "           Span(1291, 1297, 'LOC'),\n",
       "           Span(1301, 1320, 'LOC')])"
      ]
     },
     "metadata": {},
     "output_type": "display_data"
    },
    {
     "name": "stdout",
     "output_type": "stream",
     "text": [
      "[(110, 116, 'LOC'), (128, 139, 'ORG'), (142, 145, 'ORG'), (146, 152, 'LOC'), (209, 222, 'LOC'), (334, 344, 'ORG'), (361, 364, 'ORG'), (405, 411, 'LOC'), (854, 864, 'ORG'), (881, 884, 'ORG'), (914, 922, 'ORG'), (1106, 1109, 'ORG'), (1113, 1126, 'LOC'), (1283, 1295, 'LOC'), (1431, 1433, 'LOC'), (1439, 1457, 'ORG'), (1458, 1461, 'ORG'), (1462, 1468, 'LOC'), (1472, 1491, 'LOC')]\n"
     ]
    },
    {
     "data": {
      "text/html": [
       "<div class=\"tex2jax_ignore\" style=\"white-space: pre-wrap\">Ранее спасатели сообщили, что после взрыва бытового газа в многоэтажке остается неизвестной судьба 37 человек <span style=\"padding: 2px; border-radius: 4px; border: 1px solid #c8e6c9; background: #e8f5e9\">Москва<span style=\"vertical-align: middle; margin-left: 2px; font-size: 0.7em; color: #66bb6a;\">LOC</span></span>. 1 января. <span style=\"padding: 2px; border-radius: 4px; border: 1px solid #ffcdd2; background: #ffebee\">INTERFAX.RU<span style=\"vertical-align: middle; margin-left: 2px; font-size: 0.7em; color: #e57373;\">ORG</span></span> - <span style=\"padding: 2px; border-radius: 4px; border: 1px solid #ffcdd2; background: #ffebee\">МЧС<span style=\"vertical-align: middle; margin-left: 2px; font-size: 0.7em; color: #e57373;\">ORG</span></span> <span style=\"padding: 2px; border-radius: 4px; border: 1px solid #c8e6c9; background: #e8f5e9\">России<span style=\"vertical-align: middle; margin-left: 2px; font-size: 0.7em; color: #66bb6a;\">LOC</span></span> располагает данными о местонахождении 84 жителей дома в <span style=\"padding: 2px; border-radius: 4px; border: 1px solid #c8e6c9; background: #e8f5e9\">Магнитогорске<span style=\"vertical-align: middle; margin-left: 2px; font-size: 0.7em; color: #66bb6a;\">LOC</span></span>, где в минувший понедельник произошел взрыв газа. \"Удалось установить местонахождение 84 граждан\", - сообщили \"<span style=\"padding: 2px; border-radius: 4px; border: 1px solid #ffcdd2; background: #ffebee\">Интерфаксу<span style=\"vertical-align: middle; margin-left: 2px; font-size: 0.7em; color: #e57373;\">ORG</span></span>\" в пресс-службе <span style=\"padding: 2px; border-radius: 4px; border: 1px solid #ffcdd2; background: #ffebee\">МЧС<span style=\"vertical-align: middle; margin-left: 2px; font-size: 0.7em; color: #e57373;\">ORG</span></span> во вторник утром. По данным на 07:00 по <span style=\"padding: 2px; border-radius: 4px; border: 1px solid #c8e6c9; background: #e8f5e9\">Москве<span style=\"vertical-align: middle; margin-left: 2px; font-size: 0.7em; color: #66bb6a;\">LOC</span></span>, проводится работа по установлению местонахождения 37 человек. С момента начала поисково-спасательной операции из-под завалов извлечены 12 человек, из них семь человек погибли ( детей нет ), пять - спасены ( в том числе один ребенок ). Все пострадавшие госпитализированы. В настоящее время спасатели демонтируют стену подъезда из-за угрозы ее обрушения, поисково-спасательные работы будут продолжены после снятия этой угрозы, сообщили ранее \"<span style=\"padding: 2px; border-radius: 4px; border: 1px solid #ffcdd2; background: #ffebee\">Интерфаксу<span style=\"vertical-align: middle; margin-left: 2px; font-size: 0.7em; color: #e57373;\">ORG</span></span>\" в пресс-службе <span style=\"padding: 2px; border-radius: 4px; border: 1px solid #ffcdd2; background: #ffebee\">МЧС<span style=\"vertical-align: middle; margin-left: 2px; font-size: 0.7em; color: #e57373;\">ORG</span></span>. По предложению специалистов <span style=\"padding: 2px; border-radius: 4px; border: 1px solid #ffcdd2; background: #ffebee\">Минстроя<span style=\"vertical-align: middle; margin-left: 2px; font-size: 0.7em; color: #e57373;\">ORG</span></span> предложено начать демонтаж с разбора верхних этажей, постепенно опускаясь вниз, отметили в пресс-службе. По предварительной оценке, данная работа может занять почти сутки, пояснили в <span style=\"padding: 2px; border-radius: 4px; border: 1px solid #ffcdd2; background: #ffebee\">МЧС<span style=\"vertical-align: middle; margin-left: 2px; font-size: 0.7em; color: #e57373;\">ORG</span></span>. В <span style=\"padding: 2px; border-radius: 4px; border: 1px solid #c8e6c9; background: #e8f5e9\">Магнитогорске<span style=\"vertical-align: middle; margin-left: 2px; font-size: 0.7em; color: #66bb6a;\">LOC</span></span> утром 31 декабря из-за взрыва бытового газа произошло обрушение одного из подъездов газифицированного панельного 10-этажного жилого дома по адресу проспект <span style=\"padding: 2px; border-radius: 4px; border: 1px solid #c8e6c9; background: #e8f5e9\">Карла Маркса<span style=\"vertical-align: middle; margin-left: 2px; font-size: 0.7em; color: #66bb6a;\">LOC</span></span>, 164. По данному факту было возбуждено уголовное дело о причинении смерти по неосторожности двум и более лицам ( часть 3 статьи 109 УК <span style=\"padding: 2px; border-radius: 4px; border: 1px solid #c8e6c9; background: #e8f5e9\">РФ<span style=\"vertical-align: middle; margin-left: 2px; font-size: 0.7em; color: #66bb6a;\">LOC</span></span> ). В <span style=\"padding: 2px; border-radius: 4px; border: 1px solid #ffcdd2; background: #ffebee\">Главном управлении<span style=\"vertical-align: middle; margin-left: 2px; font-size: 0.7em; color: #e57373;\">ORG</span></span> <span style=\"padding: 2px; border-radius: 4px; border: 1px solid #ffcdd2; background: #ffebee\">МЧС<span style=\"vertical-align: middle; margin-left: 2px; font-size: 0.7em; color: #e57373;\">ORG</span></span> <span style=\"padding: 2px; border-radius: 4px; border: 1px solid #c8e6c9; background: #e8f5e9\">России<span style=\"vertical-align: middle; margin-left: 2px; font-size: 0.7em; color: #66bb6a;\">LOC</span></span> по <span style=\"padding: 2px; border-radius: 4px; border: 1px solid #c8e6c9; background: #e8f5e9\">Челябинской области<span style=\"vertical-align: middle; margin-left: 2px; font-size: 0.7em; color: #66bb6a;\">LOC</span></span> продолжает действовать телефон \"горячей линии\" (8-351-239-99-99) .</div>"
      ],
      "text/plain": [
       "BoxMarkup('Ранее спасатели сообщили, что после взрыва бытового газа в многоэтажке остается неизвестной судьба 37 человек Москва. 1 января. INTERFAX.RU - МЧС России располагает данными о местонахождении 84 жителей дома в Магнитогорске, где в минувший понедельник произошел взрыв газа. \"Удалось установить местонахождение 84 граждан\", - сообщили \"Интерфаксу\" в пресс-службе МЧС во вторник утром. По данным на 07:00 по Москве, проводится работа по установлению местонахождения 37 человек. С момента начала поисково-спасательной операции из-под завалов извлечены 12 человек, из них семь человек погибли ( детей нет ), пять - спасены ( в том числе один ребенок ). Все пострадавшие госпитализированы. В настоящее время спасатели демонтируют стену подъезда из-за угрозы ее обрушения, поисково-спасательные работы будут продолжены после снятия этой угрозы, сообщили ранее \"Интерфаксу\" в пресс-службе МЧС. По предложению специалистов Минстроя предложено начать демонтаж с разбора верхних этажей, постепенно опускаясь вниз, отметили в пресс-службе. По предварительной оценке, данная работа может занять почти сутки, пояснили в МЧС. В Магнитогорске утром 31 декабря из-за взрыва бытового газа произошло обрушение одного из подъездов газифицированного панельного 10-этажного жилого дома по адресу проспект Карла Маркса, 164. По данному факту было возбуждено уголовное дело о причинении смерти по неосторожности двум и более лицам ( часть 3 статьи 109 УК РФ ). В Главном управлении МЧС России по Челябинской области продолжает действовать телефон \"горячей линии\" (8-351-239-99-99) .',\n",
       "          [Span(110, 116, 'LOC'),\n",
       "           Span(128, 139, 'ORG'),\n",
       "           Span(142, 145, 'ORG'),\n",
       "           Span(146, 152, 'LOC'),\n",
       "           Span(209, 222, 'LOC'),\n",
       "           Span(334, 344, 'ORG'),\n",
       "           Span(361, 364, 'ORG'),\n",
       "           Span(405, 411, 'LOC'),\n",
       "           Span(854, 864, 'ORG'),\n",
       "           Span(881, 884, 'ORG'),\n",
       "           Span(914, 922, 'ORG'),\n",
       "           Span(1106, 1109, 'ORG'),\n",
       "           Span(1113, 1126, 'LOC'),\n",
       "           Span(1283, 1295, 'LOC'),\n",
       "           Span(1431, 1433, 'LOC'),\n",
       "           Span(1439, 1457, 'ORG'),\n",
       "           Span(1458, 1461, 'ORG'),\n",
       "           Span(1462, 1468, 'LOC'),\n",
       "           Span(1472, 1491, 'LOC')])"
      ]
     },
     "metadata": {},
     "output_type": "display_data"
    },
    {
     "name": "stdout",
     "output_type": "stream",
     "text": [
      "[(0, 6, 'LOC'), (18, 29, 'ORG'), (120, 125, 'LOC'), (126, 146, 'LOC'), (170, 172, 'ORG'), (173, 176, 'ORG'), (556, 558, 'LOC'), (740, 742, 'ORG'), (743, 746, 'ORG'), (805, 810, 'LOC'), (820, 837, 'LOC')]\n"
     ]
    },
    {
     "data": {
      "text/html": [
       "<div class=\"tex2jax_ignore\" style=\"white-space: pre-wrap\"><span style=\"padding: 2px; border-radius: 4px; border: 1px solid #c8e6c9; background: #e8f5e9\">Москва<span style=\"vertical-align: middle; margin-left: 2px; font-size: 0.7em; color: #66bb6a;\">LOC</span></span>. 1 января. <span style=\"padding: 2px; border-radius: 4px; border: 1px solid #ffcdd2; background: #ffebee\">INTERFAX.RU<span style=\"vertical-align: middle; margin-left: 2px; font-size: 0.7em; color: #e57373;\">ORG</span></span> - Установлены личности семерых погибших в результате пожара в частном жилом доме в городе <span style=\"padding: 2px; border-radius: 4px; border: 1px solid #c8e6c9; background: #e8f5e9\">Орске<span style=\"vertical-align: middle; margin-left: 2px; font-size: 0.7em; color: #66bb6a;\">LOC</span></span> <span style=\"padding: 2px; border-radius: 4px; border: 1px solid #c8e6c9; background: #e8f5e9\">Оренбургской области<span style=\"vertical-align: middle; margin-left: 2px; font-size: 0.7em; color: #66bb6a;\">LOC</span></span>, сообщила пресс-служба <span style=\"padding: 2px; border-radius: 4px; border: 1px solid #ffcdd2; background: #ffebee\">СУ<span style=\"vertical-align: middle; margin-left: 2px; font-size: 0.7em; color: #e57373;\">ORG</span></span> <span style=\"padding: 2px; border-radius: 4px; border: 1px solid #ffcdd2; background: #ffebee\">СКР<span style=\"vertical-align: middle; margin-left: 2px; font-size: 0.7em; color: #e57373;\">ORG</span></span> по региону во вторник. \"После тушения пожара обнаружены тела хозяина дома, его супруги и их троих сыновей в возрасте четырех, шести лет и пяти месяцев. На месте происшествия обнаружены также тела двоих гостей: мужчины и женщины, которые пришли отпраздновать новогодние праздники\", - говорится в сообщении. По факту гибели людей возбуждено уголовное дело по части 3 статьи 109 УК <span style=\"padding: 2px; border-radius: 4px; border: 1px solid #c8e6c9; background: #e8f5e9\">РФ<span style=\"vertical-align: middle; margin-left: 2px; font-size: 0.7em; color: #66bb6a;\">LOC</span></span> ( причинение смерти по неосторожности ). Причина возгорания и возраст погибших устанавливаются. В настоящее время следователи проводят осмотр места происшествия. Ранее пресс-служба <span style=\"padding: 2px; border-radius: 4px; border: 1px solid #ffcdd2; background: #ffebee\">ГУ<span style=\"vertical-align: middle; margin-left: 2px; font-size: 0.7em; color: #e57373;\">ORG</span></span> <span style=\"padding: 2px; border-radius: 4px; border: 1px solid #ffcdd2; background: #ffebee\">МЧС<span style=\"vertical-align: middle; margin-left: 2px; font-size: 0.7em; color: #e57373;\">ORG</span></span> по региону сообщила , что во вторник утром в жилом доме в <span style=\"padding: 2px; border-radius: 4px; border: 1px solid #c8e6c9; background: #e8f5e9\">Орске<span style=\"vertical-align: middle; margin-left: 2px; font-size: 0.7em; color: #66bb6a;\">LOC</span></span> по улице <span style=\"padding: 2px; border-radius: 4px; border: 1px solid #c8e6c9; background: #e8f5e9\">Салтыкова-Щедрина<span style=\"vertical-align: middle; margin-left: 2px; font-size: 0.7em; color: #66bb6a;\">LOC</span></span> произошел пожар, погибли семь человек.</div>"
      ],
      "text/plain": [
       "BoxMarkup('Москва. 1 января. INTERFAX.RU - Установлены личности семерых погибших в результате пожара в частном жилом доме в городе Орске Оренбургской области, сообщила пресс-служба СУ СКР по региону во вторник. \"После тушения пожара обнаружены тела хозяина дома, его супруги и их троих сыновей в возрасте четырех, шести лет и пяти месяцев. На месте происшествия обнаружены также тела двоих гостей: мужчины и женщины, которые пришли отпраздновать новогодние праздники\", - говорится в сообщении. По факту гибели людей возбуждено уголовное дело по части 3 статьи 109 УК РФ ( причинение смерти по неосторожности ). Причина возгорания и возраст погибших устанавливаются. В настоящее время следователи проводят осмотр места происшествия. Ранее пресс-служба ГУ МЧС по региону сообщила , что во вторник утром в жилом доме в Орске по улице Салтыкова-Щедрина произошел пожар, погибли семь человек.',\n",
       "          [Span(0, 6, 'LOC'),\n",
       "           Span(18, 29, 'ORG'),\n",
       "           Span(120, 125, 'LOC'),\n",
       "           Span(126, 146, 'LOC'),\n",
       "           Span(170, 172, 'ORG'),\n",
       "           Span(173, 176, 'ORG'),\n",
       "           Span(556, 558, 'LOC'),\n",
       "           Span(740, 742, 'ORG'),\n",
       "           Span(743, 746, 'ORG'),\n",
       "           Span(805, 810, 'LOC'),\n",
       "           Span(820, 837, 'LOC')])"
      ]
     },
     "metadata": {},
     "output_type": "display_data"
    },
    {
     "name": "stdout",
     "output_type": "stream",
     "text": [
      "[(25, 28, 'ORG'), (150, 156, 'LOC'), (168, 179, 'ORG'), (260, 273, 'LOC'), (285, 295, 'ORG'), (312, 314, 'ORG'), (315, 318, 'ORG'), (322, 341, 'LOC'), (752, 765, 'LOC'), (922, 934, 'LOC'), (1070, 1072, 'LOC'), (1078, 1096, 'ORG'), (1097, 1100, 'ORG'), (1101, 1107, 'LOC'), (1111, 1130, 'LOC'), (1206, 1209, 'ORG')]\n"
     ]
    },
    {
     "data": {
      "text/html": [
       "<div class=\"tex2jax_ignore\" style=\"white-space: pre-wrap\">Таким образом, по данным <span style=\"padding: 2px; border-radius: 4px; border: 1px solid #ffcdd2; background: #ffebee\">МЧС<span style=\"vertical-align: middle; margin-left: 2px; font-size: 0.7em; color: #e57373;\">ORG</span></span>, неизвестна судьба 36 граждан, которые в момент обрушения могли находиться в квартирах пострадавшего от взрыва газа дома <span style=\"padding: 2px; border-radius: 4px; border: 1px solid #c8e6c9; background: #e8f5e9\">Москва<span style=\"vertical-align: middle; margin-left: 2px; font-size: 0.7em; color: #66bb6a;\">LOC</span></span>. 1 января. <span style=\"padding: 2px; border-radius: 4px; border: 1px solid #ffcdd2; background: #ffebee\">INTERFAX.RU<span style=\"vertical-align: middle; margin-left: 2px; font-size: 0.7em; color: #e57373;\">ORG</span></span> - Спасатели извлекли тело восьмого погибшего в результате взрыва в жилом доме в <span style=\"padding: 2px; border-radius: 4px; border: 1px solid #c8e6c9; background: #e8f5e9\">Магнитогорске<span style=\"vertical-align: middle; margin-left: 2px; font-size: 0.7em; color: #66bb6a;\">LOC</span></span>, сообщили \"<span style=\"padding: 2px; border-radius: 4px; border: 1px solid #ffcdd2; background: #ffebee\">Интерфаксу<span style=\"vertical-align: middle; margin-left: 2px; font-size: 0.7em; color: #e57373;\">ORG</span></span>\" в пресс-службе <span style=\"padding: 2px; border-radius: 4px; border: 1px solid #ffcdd2; background: #ffebee\">ГУ<span style=\"vertical-align: middle; margin-left: 2px; font-size: 0.7em; color: #e57373;\">ORG</span></span> <span style=\"padding: 2px; border-radius: 4px; border: 1px solid #ffcdd2; background: #ffebee\">МЧС<span style=\"vertical-align: middle; margin-left: 2px; font-size: 0.7em; color: #e57373;\">ORG</span></span> по <span style=\"padding: 2px; border-radius: 4px; border: 1px solid #c8e6c9; background: #e8f5e9\">Челябинской области<span style=\"vertical-align: middle; margin-left: 2px; font-size: 0.7em; color: #66bb6a;\">LOC</span></span> во вторник. \"Нашли тело восьмого погибшего, извлекли из-под завалов. Это взрослый человек\", - сказали в пресс-службе. \"Судьба 36 граждан, которые в момент обрушения могли находиться в квартирах, неизвестна\", - говорится в сообщении на сайте ведомства. Ранее сообщалось, что с момента начала поисково-спасательной операции удалось спасти пять человек, в том числе ребенка, все пострадавшие госпитализированы. В <span style=\"padding: 2px; border-radius: 4px; border: 1px solid #c8e6c9; background: #e8f5e9\">Магнитогорске<span style=\"vertical-align: middle; margin-left: 2px; font-size: 0.7em; color: #66bb6a;\">LOC</span></span> утром 31 декабря из-за взрыва бытового газа произошло обрушение одного из подъездов газифицированного панельного 10-этажного жилого дома по адресу проспект <span style=\"padding: 2px; border-radius: 4px; border: 1px solid #c8e6c9; background: #e8f5e9\">Карла Маркса<span style=\"vertical-align: middle; margin-left: 2px; font-size: 0.7em; color: #66bb6a;\">LOC</span></span>, 164. По данному факту было возбуждено уголовное дело о причинении смерти по неосторожности двум и более лицам ( часть 3 статьи 109 УК <span style=\"padding: 2px; border-radius: 4px; border: 1px solid #c8e6c9; background: #e8f5e9\">РФ<span style=\"vertical-align: middle; margin-left: 2px; font-size: 0.7em; color: #66bb6a;\">LOC</span></span> ). В <span style=\"padding: 2px; border-radius: 4px; border: 1px solid #ffcdd2; background: #ffebee\">Главном управлении<span style=\"vertical-align: middle; margin-left: 2px; font-size: 0.7em; color: #e57373;\">ORG</span></span> <span style=\"padding: 2px; border-radius: 4px; border: 1px solid #ffcdd2; background: #ffebee\">МЧС<span style=\"vertical-align: middle; margin-left: 2px; font-size: 0.7em; color: #e57373;\">ORG</span></span> <span style=\"padding: 2px; border-radius: 4px; border: 1px solid #c8e6c9; background: #e8f5e9\">России<span style=\"vertical-align: middle; margin-left: 2px; font-size: 0.7em; color: #66bb6a;\">LOC</span></span> по <span style=\"padding: 2px; border-radius: 4px; border: 1px solid #c8e6c9; background: #e8f5e9\">Челябинской области<span style=\"vertical-align: middle; margin-left: 2px; font-size: 0.7em; color: #66bb6a;\">LOC</span></span> продолжает действовать телефон \"горячей линии\" (8-351-239-99-99) . Ранее в <span style=\"padding: 2px; border-radius: 4px; border: 1px solid #ffcdd2; background: #ffebee\">МЧС<span style=\"vertical-align: middle; margin-left: 2px; font-size: 0.7em; color: #e57373;\">ORG</span></span> сообщили, что спасатели начали демонтаж стены подъезда пострадавшего дома из-за угрозы ее обрушения.</div>"
      ],
      "text/plain": [
       "BoxMarkup('Таким образом, по данным МЧС, неизвестна судьба 36 граждан, которые в момент обрушения могли находиться в квартирах пострадавшего от взрыва газа дома Москва. 1 января. INTERFAX.RU - Спасатели извлекли тело восьмого погибшего в результате взрыва в жилом доме в Магнитогорске, сообщили \"Интерфаксу\" в пресс-службе ГУ МЧС по Челябинской области во вторник. \"Нашли тело восьмого погибшего, извлекли из-под завалов. Это взрослый человек\", - сказали в пресс-службе. \"Судьба 36 граждан, которые в момент обрушения могли находиться в квартирах, неизвестна\", - говорится в сообщении на сайте ведомства. Ранее сообщалось, что с момента начала поисково-спасательной операции удалось спасти пять человек, в том числе ребенка, все пострадавшие госпитализированы. В Магнитогорске утром 31 декабря из-за взрыва бытового газа произошло обрушение одного из подъездов газифицированного панельного 10-этажного жилого дома по адресу проспект Карла Маркса, 164. По данному факту было возбуждено уголовное дело о причинении смерти по неосторожности двум и более лицам ( часть 3 статьи 109 УК РФ ). В Главном управлении МЧС России по Челябинской области продолжает действовать телефон \"горячей линии\" (8-351-239-99-99) . Ранее в МЧС сообщили, что спасатели начали демонтаж стены подъезда пострадавшего дома из-за угрозы ее обрушения.',\n",
       "          [Span(25, 28, 'ORG'),\n",
       "           Span(150, 156, 'LOC'),\n",
       "           Span(168, 179, 'ORG'),\n",
       "           Span(260, 273, 'LOC'),\n",
       "           Span(285, 295, 'ORG'),\n",
       "           Span(312, 314, 'ORG'),\n",
       "           Span(315, 318, 'ORG'),\n",
       "           Span(322, 341, 'LOC'),\n",
       "           Span(752, 765, 'LOC'),\n",
       "           Span(922, 934, 'LOC'),\n",
       "           Span(1070, 1072, 'LOC'),\n",
       "           Span(1078, 1096, 'ORG'),\n",
       "           Span(1097, 1100, 'ORG'),\n",
       "           Span(1101, 1107, 'LOC'),\n",
       "           Span(1111, 1130, 'LOC'),\n",
       "           Span(1206, 1209, 'ORG')])"
      ]
     },
     "metadata": {},
     "output_type": "display_data"
    },
    {
     "name": "stdout",
     "output_type": "stream",
     "text": [
      "[(128, 134, 'LOC'), (146, 157, 'ORG'), (177, 196, 'LOC'), (228, 241, 'LOC'), (493, 506, 'LOC'), (812, 825, 'LOC'), (1020, 1032, 'LOC'), (1163, 1165, 'LOC'), (1205, 1224, 'LOC'), (1351, 1364, 'LOC'), (1518, 1536, 'ORG'), (1537, 1540, 'ORG'), (1541, 1547, 'LOC'), (1551, 1570, 'LOC')]\n"
     ]
    },
    {
     "data": {
      "text/html": [
       "<div class=\"tex2jax_ignore\" style=\"white-space: pre-wrap\">По последним данным, спасатели обнаружили восьмого погибшего из-за взрыва газа в многоэтажке, судьба 36 человек пока неизвестна <span style=\"padding: 2px; border-radius: 4px; border: 1px solid #c8e6c9; background: #e8f5e9\">Москва<span style=\"vertical-align: middle; margin-left: 2px; font-size: 0.7em; color: #66bb6a;\">LOC</span></span>. 1 января. <span style=\"padding: 2px; border-radius: 4px; border: 1px solid #ffcdd2; background: #ffebee\">INTERFAX.RU<span style=\"vertical-align: middle; margin-left: 2px; font-size: 0.7em; color: #e57373;\">ORG</span></span> - Траур объявлен в <span style=\"padding: 2px; border-radius: 4px; border: 1px solid #c8e6c9; background: #e8f5e9\">Челябинской области<span style=\"vertical-align: middle; margin-left: 2px; font-size: 0.7em; color: #66bb6a;\">LOC</span></span> 2 января в связи с трагедией в <span style=\"padding: 2px; border-radius: 4px; border: 1px solid #c8e6c9; background: #e8f5e9\">Магнитогорске<span style=\"vertical-align: middle; margin-left: 2px; font-size: 0.7em; color: #66bb6a;\">LOC</span></span>, сообщает пресс-служба губернатора области во вторник. В документе говорится, что траур действует на территории всего региона. В этот день рекомендовано отменить развлекательные передачи и мероприятия. По последним данным, количество жертв трагедии в <span style=\"padding: 2px; border-radius: 4px; border: 1px solid #c8e6c9; background: #e8f5e9\">Магнитогорске<span style=\"vertical-align: middle; margin-left: 2px; font-size: 0.7em; color: #66bb6a;\">LOC</span></span> составило восемь человек, детей среди них нет. Остается неизвестной судьба 36 человек. С момента начала поисково-спасательной операции удалось спасти пять человек, в том числе ребенка, все пострадавшие госпитализированы. В настоящее время спасатели демонтируют стену подъезда из-за угрозы ее обрушения. В <span style=\"padding: 2px; border-radius: 4px; border: 1px solid #c8e6c9; background: #e8f5e9\">Магнитогорске<span style=\"vertical-align: middle; margin-left: 2px; font-size: 0.7em; color: #66bb6a;\">LOC</span></span> утром 31 декабря из-за взрыва бытового газа произошло обрушение одного из подъездов газифицированного панельного 10-этажного 12-подъездного жилого дома ( 1973 год постройки ) по адресу проспект <span style=\"padding: 2px; border-radius: 4px; border: 1px solid #c8e6c9; background: #e8f5e9\">Карла Маркса<span style=\"vertical-align: middle; margin-left: 2px; font-size: 0.7em; color: #66bb6a;\">LOC</span></span>, 164. По данному факту возбуждено уголовное дело о причинении смерти по неосторожности двум и более лицам ( часть 3 статьи 109 УК <span style=\"padding: 2px; border-radius: 4px; border: 1px solid #c8e6c9; background: #e8f5e9\">РФ<span style=\"vertical-align: middle; margin-left: 2px; font-size: 0.7em; color: #66bb6a;\">LOC</span></span> ). Во вторник пресс-служба губернатора <span style=\"padding: 2px; border-radius: 4px; border: 1px solid #c8e6c9; background: #e8f5e9\">Челябинской области<span style=\"vertical-align: middle; margin-left: 2px; font-size: 0.7em; color: #66bb6a;\">LOC</span></span> сообщила, что власти выделят дополнительно по 25 тысяч рублей на организацию похорон погибших во время обрушения части дома в <span style=\"padding: 2px; border-radius: 4px; border: 1px solid #c8e6c9; background: #e8f5e9\">Магнитогорске<span style=\"vertical-align: middle; margin-left: 2px; font-size: 0.7em; color: #66bb6a;\">LOC</span></span>. Ранее сообщалось, что семьи погибших получат из областного бюджета материальную помощь в размере 100 тысяч рублей, пострадавшие - по 50 тысяч рублей. В <span style=\"padding: 2px; border-radius: 4px; border: 1px solid #ffcdd2; background: #ffebee\">Главном управлении<span style=\"vertical-align: middle; margin-left: 2px; font-size: 0.7em; color: #e57373;\">ORG</span></span> <span style=\"padding: 2px; border-radius: 4px; border: 1px solid #ffcdd2; background: #ffebee\">МЧС<span style=\"vertical-align: middle; margin-left: 2px; font-size: 0.7em; color: #e57373;\">ORG</span></span> <span style=\"padding: 2px; border-radius: 4px; border: 1px solid #c8e6c9; background: #e8f5e9\">России<span style=\"vertical-align: middle; margin-left: 2px; font-size: 0.7em; color: #66bb6a;\">LOC</span></span> по <span style=\"padding: 2px; border-radius: 4px; border: 1px solid #c8e6c9; background: #e8f5e9\">Челябинской области<span style=\"vertical-align: middle; margin-left: 2px; font-size: 0.7em; color: #66bb6a;\">LOC</span></span> продолжает действовать телефон \"горячей линии\" (8-351-239-99-99) .</div>"
      ],
      "text/plain": [
       "BoxMarkup('По последним данным, спасатели обнаружили восьмого погибшего из-за взрыва газа в многоэтажке, судьба 36 человек пока неизвестна Москва. 1 января. INTERFAX.RU - Траур объявлен в Челябинской области 2 января в связи с трагедией в Магнитогорске, сообщает пресс-служба губернатора области во вторник. В документе говорится, что траур действует на территории всего региона. В этот день рекомендовано отменить развлекательные передачи и мероприятия. По последним данным, количество жертв трагедии в Магнитогорске составило восемь человек, детей среди них нет. Остается неизвестной судьба 36 человек. С момента начала поисково-спасательной операции удалось спасти пять человек, в том числе ребенка, все пострадавшие госпитализированы. В настоящее время спасатели демонтируют стену подъезда из-за угрозы ее обрушения. В Магнитогорске утром 31 декабря из-за взрыва бытового газа произошло обрушение одного из подъездов газифицированного панельного 10-этажного 12-подъездного жилого дома ( 1973 год постройки ) по адресу проспект Карла Маркса, 164. По данному факту возбуждено уголовное дело о причинении смерти по неосторожности двум и более лицам ( часть 3 статьи 109 УК РФ ). Во вторник пресс-служба губернатора Челябинской области сообщила, что власти выделят дополнительно по 25 тысяч рублей на организацию похорон погибших во время обрушения части дома в Магнитогорске. Ранее сообщалось, что семьи погибших получат из областного бюджета материальную помощь в размере 100 тысяч рублей, пострадавшие - по 50 тысяч рублей. В Главном управлении МЧС России по Челябинской области продолжает действовать телефон \"горячей линии\" (8-351-239-99-99) .',\n",
       "          [Span(128, 134, 'LOC'),\n",
       "           Span(146, 157, 'ORG'),\n",
       "           Span(177, 196, 'LOC'),\n",
       "           Span(228, 241, 'LOC'),\n",
       "           Span(493, 506, 'LOC'),\n",
       "           Span(812, 825, 'LOC'),\n",
       "           Span(1020, 1032, 'LOC'),\n",
       "           Span(1163, 1165, 'LOC'),\n",
       "           Span(1205, 1224, 'LOC'),\n",
       "           Span(1351, 1364, 'LOC'),\n",
       "           Span(1518, 1536, 'ORG'),\n",
       "           Span(1537, 1540, 'ORG'),\n",
       "           Span(1541, 1547, 'LOC'),\n",
       "           Span(1551, 1570, 'LOC')])"
      ]
     },
     "metadata": {},
     "output_type": "display_data"
    },
    {
     "name": "stdout",
     "output_type": "stream",
     "text": [
      "[(0, 6, 'LOC'), (18, 29, 'ORG'), (68, 73, 'LOC'), (74, 94, 'LOC'), (167, 177, 'ORG'), (383, 392, 'PER'), (638, 643, 'LOC'), (653, 670, 'LOC')]\n"
     ]
    },
    {
     "data": {
      "text/html": [
       "<div class=\"tex2jax_ignore\" style=\"white-space: pre-wrap\"><span style=\"padding: 2px; border-radius: 4px; border: 1px solid #c8e6c9; background: #e8f5e9\">Москва<span style=\"vertical-align: middle; margin-left: 2px; font-size: 0.7em; color: #66bb6a;\">LOC</span></span>. 1 января. <span style=\"padding: 2px; border-radius: 4px; border: 1px solid #ffcdd2; background: #ffebee\">INTERFAX.RU<span style=\"vertical-align: middle; margin-left: 2px; font-size: 0.7em; color: #e57373;\">ORG</span></span> - Пожар в частном жилом доме в городе <span style=\"padding: 2px; border-radius: 4px; border: 1px solid #c8e6c9; background: #e8f5e9\">Орске<span style=\"vertical-align: middle; margin-left: 2px; font-size: 0.7em; color: #66bb6a;\">LOC</span></span> <span style=\"padding: 2px; border-radius: 4px; border: 1px solid #c8e6c9; background: #e8f5e9\">Оренбургской области<span style=\"vertical-align: middle; margin-left: 2px; font-size: 0.7em; color: #66bb6a;\">LOC</span></span>, предположительно, произошел из-за замыкания электропроводки, сообщили \"<span style=\"padding: 2px; border-radius: 4px; border: 1px solid #ffcdd2; background: #ffebee\">Интерфаксу<span style=\"vertical-align: middle; margin-left: 2px; font-size: 0.7em; color: #e57373;\">ORG</span></span>\" в пресс-службе губернатора области во вторник. \"Предположительная причина - короткое замыкание электропроводки\", - сказал сотрудник пресс-службы. По его словам, на месте происшествия находится губернатор <span style=\"padding: 2px; border-radius: 4px; border: 1px solid #bbdefb; background: #e3f2fd\">Юрий Берг<span style=\"vertical-align: middle; margin-left: 2px; font-size: 0.7em; color: #64b5f6;\">PER</span></span>. В настоящее время выясняются все обстоятельства случившегося. Представитель губернатора отметил, что региональные и местные власти окажут помощь в организации и проведении похорон погибших. Ранее сообщалось, что во вторник утром в жилом доме в <span style=\"padding: 2px; border-radius: 4px; border: 1px solid #c8e6c9; background: #e8f5e9\">Орске<span style=\"vertical-align: middle; margin-left: 2px; font-size: 0.7em; color: #66bb6a;\">LOC</span></span> по улице <span style=\"padding: 2px; border-radius: 4px; border: 1px solid #c8e6c9; background: #e8f5e9\">Салтыкова-Щедрина<span style=\"vertical-align: middle; margin-left: 2px; font-size: 0.7em; color: #66bb6a;\">LOC</span></span> произошел пожар. После тушения пожара обнаружены тела хозяина дома, его супруги, их троих сыновей в возрасте четырех, шести лет и пяти месяцев, также двоих гостей, мужчины и женщины, которые пришли отпраздновать новогодние праздники.</div>"
      ],
      "text/plain": [
       "BoxMarkup('Москва. 1 января. INTERFAX.RU - Пожар в частном жилом доме в городе Орске Оренбургской области, предположительно, произошел из-за замыкания электропроводки, сообщили \"Интерфаксу\" в пресс-службе губернатора области во вторник. \"Предположительная причина - короткое замыкание электропроводки\", - сказал сотрудник пресс-службы. По его словам, на месте происшествия находится губернатор Юрий Берг. В настоящее время выясняются все обстоятельства случившегося. Представитель губернатора отметил, что региональные и местные власти окажут помощь в организации и проведении похорон погибших. Ранее сообщалось, что во вторник утром в жилом доме в Орске по улице Салтыкова-Щедрина произошел пожар. После тушения пожара обнаружены тела хозяина дома, его супруги, их троих сыновей в возрасте четырех, шести лет и пяти месяцев, также двоих гостей, мужчины и женщины, которые пришли отпраздновать новогодние праздники.',\n",
       "          [Span(0, 6, 'LOC'),\n",
       "           Span(18, 29, 'ORG'),\n",
       "           Span(68, 73, 'LOC'),\n",
       "           Span(74, 94, 'LOC'),\n",
       "           Span(167, 177, 'ORG'),\n",
       "           Span(383, 392, 'PER'),\n",
       "           Span(638, 643, 'LOC'),\n",
       "           Span(653, 670, 'LOC')])"
      ]
     },
     "metadata": {},
     "output_type": "display_data"
    },
    {
     "name": "stdout",
     "output_type": "stream",
     "text": [
      "[(0, 6, 'LOC'), (18, 29, 'ORG'), (84, 92, 'LOC'), (140, 150, 'ORG'), (202, 206, 'LOC'), (209, 215, 'LOC'), (667, 674, 'LOC'), (839, 845, 'LOC')]\n"
     ]
    },
    {
     "data": {
      "text/html": [
       "<div class=\"tex2jax_ignore\" style=\"white-space: pre-wrap\"><span style=\"padding: 2px; border-radius: 4px; border: 1px solid #c8e6c9; background: #e8f5e9\">Москва<span style=\"vertical-align: middle; margin-left: 2px; font-size: 0.7em; color: #66bb6a;\">LOC</span></span>. 1 января. <span style=\"padding: 2px; border-radius: 4px; border: 1px solid #ffcdd2; background: #ffebee\">INTERFAX.RU<span style=\"vertical-align: middle; margin-left: 2px; font-size: 0.7em; color: #e57373;\">ORG</span></span> - Пассажирский лайнер прервал полет и экстренно сел в <span style=\"padding: 2px; border-radius: 4px; border: 1px solid #c8e6c9; background: #e8f5e9\">Воронеже<span style=\"vertical-align: middle; margin-left: 2px; font-size: 0.7em; color: #66bb6a;\">LOC</span></span> из-за дебоша пассажира бизнес-класса, сообщил \"<span style=\"padding: 2px; border-radius: 4px; border: 1px solid #ffcdd2; background: #ffebee\">Интерфаксу<span style=\"vertical-align: middle; margin-left: 2px; font-size: 0.7em; color: #e57373;\">ORG</span></span>\" источник в службах аэропорта. \"Во время полета из <span style=\"padding: 2px; border-radius: 4px; border: 1px solid #c8e6c9; background: #e8f5e9\">Сочи<span style=\"vertical-align: middle; margin-left: 2px; font-size: 0.7em; color: #66bb6a;\">LOC</span></span> в <span style=\"padding: 2px; border-radius: 4px; border: 1px solid #c8e6c9; background: #e8f5e9\">Москву<span style=\"vertical-align: middle; margin-left: 2px; font-size: 0.7em; color: #66bb6a;\">LOC</span></span> утром 1 января один из пассажиров бизнес-класса, не рассчитав возможности организма, злоупотребил виски. Мужчина стал кричать и материться. А после отказа налить еще устроил дебош\", - сказал он. Попытки бортпроводников успокоить дебошира не увенчались успехом. \"Мужчина ударил бортпроводницу с такой силой, что она упала на пол и получила ушибы. Тогда командир принял решение прервать полет и экстренно приземлиться в ближайшем аэропорту. Им оказался <span style=\"padding: 2px; border-radius: 4px; border: 1px solid #c8e6c9; background: #e8f5e9\">Воронеж<span style=\"vertical-align: middle; margin-left: 2px; font-size: 0.7em; color: #66bb6a;\">LOC</span></span>\", - сообщил источник агентства. У трапа самолет встречала полиция. После посадки дебошира задержал поднявшийся на борт наряд полицейских. Самолет продолжил полет в <span style=\"padding: 2px; border-radius: 4px; border: 1px solid #c8e6c9; background: #e8f5e9\">Москву<span style=\"vertical-align: middle; margin-left: 2px; font-size: 0.7em; color: #66bb6a;\">LOC</span></span>.</div>"
      ],
      "text/plain": [
       "BoxMarkup('Москва. 1 января. INTERFAX.RU - Пассажирский лайнер прервал полет и экстренно сел в Воронеже из-за дебоша пассажира бизнес-класса, сообщил \"Интерфаксу\" источник в службах аэропорта. \"Во время полета из Сочи в Москву утром 1 января один из пассажиров бизнес-класса, не рассчитав возможности организма, злоупотребил виски. Мужчина стал кричать и материться. А после отказа налить еще устроил дебош\", - сказал он. Попытки бортпроводников успокоить дебошира не увенчались успехом. \"Мужчина ударил бортпроводницу с такой силой, что она упала на пол и получила ушибы. Тогда командир принял решение прервать полет и экстренно приземлиться в ближайшем аэропорту. Им оказался Воронеж\", - сообщил источник агентства. У трапа самолет встречала полиция. После посадки дебошира задержал поднявшийся на борт наряд полицейских. Самолет продолжил полет в Москву.',\n",
       "          [Span(0, 6, 'LOC'),\n",
       "           Span(18, 29, 'ORG'),\n",
       "           Span(84, 92, 'LOC'),\n",
       "           Span(140, 150, 'ORG'),\n",
       "           Span(202, 206, 'LOC'),\n",
       "           Span(209, 215, 'LOC'),\n",
       "           Span(667, 674, 'LOC'),\n",
       "           Span(839, 845, 'LOC')])"
      ]
     },
     "metadata": {},
     "output_type": "display_data"
    },
    {
     "name": "stdout",
     "output_type": "stream",
     "text": [
      "[(0, 6, 'LOC'), (18, 29, 'ORG'), (53, 64, 'LOC'), (67, 76, 'LOC'), (77, 105, 'ORG'), (210, 214, 'ORG'), (246, 257, 'LOC'), (260, 269, 'LOC'), (270, 298, 'ORG'), (309, 315, 'LOC'), (494, 543, 'ORG'), (544, 547, 'ORG'), (1042, 1053, 'LOC'), (1056, 1065, 'LOC'), (1107, 1124, 'LOC'), (1127, 1134, 'LOC'), (1294, 1304, 'LOC')]\n"
     ]
    },
    {
     "data": {
      "text/html": [
       "<div class=\"tex2jax_ignore\" style=\"white-space: pre-wrap\"><span style=\"padding: 2px; border-radius: 4px; border: 1px solid #c8e6c9; background: #e8f5e9\">Москва<span style=\"vertical-align: middle; margin-left: 2px; font-size: 0.7em; color: #66bb6a;\">LOC</span></span>. 1 января. <span style=\"padding: 2px; border-radius: 4px; border: 1px solid #ffcdd2; background: #ffebee\">INTERFAX.RU<span style=\"vertical-align: middle; margin-left: 2px; font-size: 0.7em; color: #e57373;\">ORG</span></span> - Движение на перегоне <span style=\"padding: 2px; border-radius: 4px; border: 1px solid #c8e6c9; background: #e8f5e9\">Храмцовская<span style=\"vertical-align: middle; margin-left: 2px; font-size: 0.7em; color: #66bb6a;\">LOC</span></span> - <span style=\"padding: 2px; border-radius: 4px; border: 1px solid #c8e6c9; background: #e8f5e9\">Марамзино<span style=\"vertical-align: middle; margin-left: 2px; font-size: 0.7em; color: #66bb6a;\">LOC</span></span> <span style=\"padding: 2px; border-radius: 4px; border: 1px solid #ffcdd2; background: #ffebee\">Свердловской железной дороги<span style=\"vertical-align: middle; margin-left: 2px; font-size: 0.7em; color: #e57373;\">ORG</span></span>, нарушенное утром во вторник после схода вагонов с углем, открыто по одному пути, сообщает пресс-служба <span style=\"padding: 2px; border-radius: 4px; border: 1px solid #ffcdd2; background: #ffebee\">СВЖД<span style=\"vertical-align: middle; margin-left: 2px; font-size: 0.7em; color: #e57373;\">ORG</span></span>. \"Движение поездов на перегоне <span style=\"padding: 2px; border-radius: 4px; border: 1px solid #c8e6c9; background: #e8f5e9\">Храмцовская<span style=\"vertical-align: middle; margin-left: 2px; font-size: 0.7em; color: #66bb6a;\">LOC</span></span> - <span style=\"padding: 2px; border-radius: 4px; border: 1px solid #c8e6c9; background: #e8f5e9\">Марамзино<span style=\"vertical-align: middle; margin-left: 2px; font-size: 0.7em; color: #66bb6a;\">LOC</span></span> <span style=\"padding: 2px; border-radius: 4px; border: 1px solid #ffcdd2; background: #ffebee\">Свердловской железной дороги<span style=\"vertical-align: middle; margin-left: 2px; font-size: 0.7em; color: #e57373;\">ORG</span></span> в 8:22 по <span style=\"padding: 2px; border-radius: 4px; border: 1px solid #c8e6c9; background: #e8f5e9\">Москве<span style=\"vertical-align: middle; margin-left: 2px; font-size: 0.7em; color: #66bb6a;\">LOC</span></span> открыто по одному пути и осуществляется в обоих направлениях. Пассажирские и пригородные поезда пропускаются по расписанию\", - говорится в сообщении. В свою очередь пресс-служба <span style=\"padding: 2px; border-radius: 4px; border: 1px solid #ffcdd2; background: #ffebee\">Уральского следственного управления на транспорте<span style=\"vertical-align: middle; margin-left: 2px; font-size: 0.7em; color: #e57373;\">ORG</span></span> <span style=\"padding: 2px; border-radius: 4px; border: 1px solid #ffcdd2; background: #ffebee\">СКР<span style=\"vertical-align: middle; margin-left: 2px; font-size: 0.7em; color: #e57373;\">ORG</span></span> отмечает, что по факту схода с рельсов нескольких грузовых вагонов проводится доследственная проверка. \"По предварительным данным повреждено около 300 метров железнодорожного полотна. На место происшествия выехала следственно-оперативная группа в составе следователей и сотрудников отдела криминалистики, - уточняет пресс-служба. - Осуществляется осмотр места происшествия, опрашиваются очевидцы. По результатам проверки будет принято процессуальное решение\". Ранее сообщалось, что на перегоне <span style=\"padding: 2px; border-radius: 4px; border: 1px solid #c8e6c9; background: #e8f5e9\">Храмцовская<span style=\"vertical-align: middle; margin-left: 2px; font-size: 0.7em; color: #66bb6a;\">LOC</span></span> - <span style=\"padding: 2px; border-radius: 4px; border: 1px solid #c8e6c9; background: #e8f5e9\">Марамзино<span style=\"vertical-align: middle; margin-left: 2px; font-size: 0.7em; color: #66bb6a;\">LOC</span></span> двухпутного электрифицированного участка <span style=\"padding: 2px; border-radius: 4px; border: 1px solid #c8e6c9; background: #e8f5e9\">Каменск-Уральский<span style=\"vertical-align: middle; margin-left: 2px; font-size: 0.7em; color: #66bb6a;\">LOC</span></span> - <span style=\"padding: 2px; border-radius: 4px; border: 1px solid #c8e6c9; background: #e8f5e9\">Арамиль<span style=\"vertical-align: middle; margin-left: 2px; font-size: 0.7em; color: #66bb6a;\">LOC</span></span> сошли 16 вагонов с углем, пострадавших и экологической угрозы нет. Пассажирские поезда и электрически направлялись в обход поврежденного участка через станцию <span style=\"padding: 2px; border-radius: 4px; border: 1px solid #c8e6c9; background: #e8f5e9\">Богданович<span style=\"vertical-align: middle; margin-left: 2px; font-size: 0.7em; color: #66bb6a;\">LOC</span></span>.</div>"
      ],
      "text/plain": [
       "BoxMarkup('Москва. 1 января. INTERFAX.RU - Движение на перегоне Храмцовская - Марамзино Свердловской железной дороги, нарушенное утром во вторник после схода вагонов с углем, открыто по одному пути, сообщает пресс-служба СВЖД. \"Движение поездов на перегоне Храмцовская - Марамзино Свердловской железной дороги в 8:22 по Москве открыто по одному пути и осуществляется в обоих направлениях. Пассажирские и пригородные поезда пропускаются по расписанию\", - говорится в сообщении. В свою очередь пресс-служба Уральского следственного управления на транспорте СКР отмечает, что по факту схода с рельсов нескольких грузовых вагонов проводится доследственная проверка. \"По предварительным данным повреждено около 300 метров железнодорожного полотна. На место происшествия выехала следственно-оперативная группа в составе следователей и сотрудников отдела криминалистики, - уточняет пресс-служба. - Осуществляется осмотр места происшествия, опрашиваются очевидцы. По результатам проверки будет принято процессуальное решение\". Ранее сообщалось, что на перегоне Храмцовская - Марамзино двухпутного электрифицированного участка Каменск-Уральский - Арамиль сошли 16 вагонов с углем, пострадавших и экологической угрозы нет. Пассажирские поезда и электрически направлялись в обход поврежденного участка через станцию Богданович.',\n",
       "          [Span(0, 6, 'LOC'),\n",
       "           Span(18, 29, 'ORG'),\n",
       "           Span(53, 64, 'LOC'),\n",
       "           Span(67, 76, 'LOC'),\n",
       "           Span(77, 105, 'ORG'),\n",
       "           Span(210, 214, 'ORG'),\n",
       "           Span(246, 257, 'LOC'),\n",
       "           Span(260, 269, 'LOC'),\n",
       "           Span(270, 298, 'ORG'),\n",
       "           Span(309, 315, 'LOC'),\n",
       "           Span(494, 543, 'ORG'),\n",
       "           Span(544, 547, 'ORG'),\n",
       "           Span(1042, 1053, 'LOC'),\n",
       "           Span(1056, 1065, 'LOC'),\n",
       "           Span(1107, 1124, 'LOC'),\n",
       "           Span(1127, 1134, 'LOC'),\n",
       "           Span(1294, 1304, 'LOC')])"
      ]
     },
     "metadata": {},
     "output_type": "display_data"
    },
    {
     "name": "stdout",
     "output_type": "stream",
     "text": [
      "[(0, 6, 'LOC'), (18, 29, 'ORG'), (90, 94, 'LOC'), (184, 187, 'ORG'), (528, 530, 'LOC')]\n"
     ]
    },
    {
     "data": {
      "text/html": [
       "<div class=\"tex2jax_ignore\" style=\"white-space: pre-wrap\"><span style=\"padding: 2px; border-radius: 4px; border: 1px solid #c8e6c9; background: #e8f5e9\">Москва<span style=\"vertical-align: middle; margin-left: 2px; font-size: 0.7em; color: #66bb6a;\">LOC</span></span>. 1 января. <span style=\"padding: 2px; border-radius: 4px; border: 1px solid #ffcdd2; background: #ffebee\">INTERFAX.RU<span style=\"vertical-align: middle; margin-left: 2px; font-size: 0.7em; color: #e57373;\">ORG</span></span> - 17-летний юноша напал на полицейского в новогоднюю ночь в <span style=\"padding: 2px; border-radius: 4px; border: 1px solid #c8e6c9; background: #e8f5e9\">Туле<span style=\"vertical-align: middle; margin-left: 2px; font-size: 0.7em; color: #66bb6a;\">LOC</span></span>, возбуждено уголовное дело, сообщила пресс-служба регионального следственного управления <span style=\"padding: 2px; border-radius: 4px; border: 1px solid #ffcdd2; background: #ffebee\">СКР<span style=\"vertical-align: middle; margin-left: 2px; font-size: 0.7em; color: #e57373;\">ORG</span></span>. Молодой человек был пьян и агрессивен. К нему подошел полицейский, чтобы привлечь к административной ответственности за нарушение порядка. \"Подозреваемый ударил сотрудника полиции осколком разбитой бутылки по кисти правой руки\", - говорится в сообщении пресс-службы. Подростка задержали. Уголовное дело возбуждено по части 1 статьи 318 УК <span style=\"padding: 2px; border-radius: 4px; border: 1px solid #c8e6c9; background: #e8f5e9\">РФ<span style=\"vertical-align: middle; margin-left: 2px; font-size: 0.7em; color: #66bb6a;\">LOC</span></span> ( применение насилия, не опасного для жизни и здоровья, в отношении представителя власти ).</div>"
      ],
      "text/plain": [
       "BoxMarkup('Москва. 1 января. INTERFAX.RU - 17-летний юноша напал на полицейского в новогоднюю ночь в Туле, возбуждено уголовное дело, сообщила пресс-служба регионального следственного управления СКР. Молодой человек был пьян и агрессивен. К нему подошел полицейский, чтобы привлечь к административной ответственности за нарушение порядка. \"Подозреваемый ударил сотрудника полиции осколком разбитой бутылки по кисти правой руки\", - говорится в сообщении пресс-службы. Подростка задержали. Уголовное дело возбуждено по части 1 статьи 318 УК РФ ( применение насилия, не опасного для жизни и здоровья, в отношении представителя власти ).',\n",
       "          [Span(0, 6, 'LOC'),\n",
       "           Span(18, 29, 'ORG'),\n",
       "           Span(90, 94, 'LOC'),\n",
       "           Span(184, 187, 'ORG'),\n",
       "           Span(528, 530, 'LOC')])"
      ]
     },
     "metadata": {},
     "output_type": "display_data"
    },
    {
     "name": "stdout",
     "output_type": "stream",
     "text": [
      "[(0, 6, 'LOC'), (18, 29, 'ORG'), (39, 45, 'LOC'), (331, 348, 'PER'), (404, 410, 'LOC'), (1372, 1378, 'LOC'), (1379, 1397, 'PER')]\n"
     ]
    },
    {
     "data": {
      "text/html": [
       "<div class=\"tex2jax_ignore\" style=\"white-space: pre-wrap\"><span style=\"padding: 2px; border-radius: 4px; border: 1px solid #c8e6c9; background: #e8f5e9\">Москва<span style=\"vertical-align: middle; margin-left: 2px; font-size: 0.7em; color: #66bb6a;\">LOC</span></span>. 1 января. <span style=\"padding: 2px; border-radius: 4px; border: 1px solid #ffcdd2; background: #ffebee\">INTERFAX.RU<span style=\"vertical-align: middle; margin-left: 2px; font-size: 0.7em; color: #e57373;\">ORG</span></span> - Жители <span style=\"padding: 2px; border-radius: 4px; border: 1px solid #c8e6c9; background: #e8f5e9\">Москвы<span style=\"vertical-align: middle; margin-left: 2px; font-size: 0.7em; color: #66bb6a;\">LOC</span></span> по достижении 55 лет у женщин и 60 лет у мужчин сохранят, начиная с 2019 года, льготы, положенные городским пенсионерам. Столичный закон о дополнительных мерах поддержки москвичей в связи с изменениями федерального законодательства в области пенсионного обеспечения был подписан мэром <span style=\"padding: 2px; border-radius: 4px; border: 1px solid #bbdefb; background: #e3f2fd\">Сергеем Собяниным<span style=\"vertical-align: middle; margin-left: 2px; font-size: 0.7em; color: #64b5f6;\">PER</span></span> в сентябре 2018 года и вступил в силу 1 января. Жители <span style=\"padding: 2px; border-radius: 4px; border: 1px solid #c8e6c9; background: #e8f5e9\">Москвы<span style=\"vertical-align: middle; margin-left: 2px; font-size: 0.7em; color: #66bb6a;\">LOC</span></span> по достижении предпенсионного возраста по-прежнему смогут бесплатно пользоваться общественным транспортом и пригородными электричками, изготавливать и ремонтировать зубные протезы ( за исключением стоимости материалов ). Предпенсионеры, удостоенные звания \"Ветеран труда\" и \"Ветеран военной службы\", смогут оплачивать лишь 50% коммунальных услуг и стоимости проживания в квартире, получать ежемесячную компенсацию затрат на телефонную связь и ежемесячную денежную доплату, если их доход не превышает 1,8 млн рублей в год. Кроме того, по закону, москвичи в возрасте от 50 лет получат возможность пройти профессиональное обучение и повысить квалификацию. Москвичи старше 50, находящиеся в трудной жизненной ситуации, смогут получить от города адресную социальную помощь, уточняется в законе. Пакет законов о пенсионной реформе, предусматривающий поэтапное повышение пенсионного возраста на пять лет - до 65 для мужчин и до 60 для женщин, был подписан президентом <span style=\"padding: 2px; border-radius: 4px; border: 1px solid #c8e6c9; background: #e8f5e9\">России<span style=\"vertical-align: middle; margin-left: 2px; font-size: 0.7em; color: #66bb6a;\">LOC</span></span> <span style=\"padding: 2px; border-radius: 4px; border: 1px solid #bbdefb; background: #e3f2fd\">Владимиром Путиным<span style=\"vertical-align: middle; margin-left: 2px; font-size: 0.7em; color: #64b5f6;\">PER</span></span> 3 октября 2018 года.</div>"
      ],
      "text/plain": [
       "BoxMarkup('Москва. 1 января. INTERFAX.RU - Жители Москвы по достижении 55 лет у женщин и 60 лет у мужчин сохранят, начиная с 2019 года, льготы, положенные городским пенсионерам. Столичный закон о дополнительных мерах поддержки москвичей в связи с изменениями федерального законодательства в области пенсионного обеспечения был подписан мэром Сергеем Собяниным в сентябре 2018 года и вступил в силу 1 января. Жители Москвы по достижении предпенсионного возраста по-прежнему смогут бесплатно пользоваться общественным транспортом и пригородными электричками, изготавливать и ремонтировать зубные протезы ( за исключением стоимости материалов ). Предпенсионеры, удостоенные звания \"Ветеран труда\" и \"Ветеран военной службы\", смогут оплачивать лишь 50% коммунальных услуг и стоимости проживания в квартире, получать ежемесячную компенсацию затрат на телефонную связь и ежемесячную денежную доплату, если их доход не превышает 1,8 млн рублей в год. Кроме того, по закону, москвичи в возрасте от 50 лет получат возможность пройти профессиональное обучение и повысить квалификацию. Москвичи старше 50, находящиеся в трудной жизненной ситуации, смогут получить от города адресную социальную помощь, уточняется в законе. Пакет законов о пенсионной реформе, предусматривающий поэтапное повышение пенсионного возраста на пять лет - до 65 для мужчин и до 60 для женщин, был подписан президентом России Владимиром Путиным 3 октября 2018 года.',\n",
       "          [Span(0, 6, 'LOC'),\n",
       "           Span(18, 29, 'ORG'),\n",
       "           Span(39, 45, 'LOC'),\n",
       "           Span(331, 348, 'PER'),\n",
       "           Span(404, 410, 'LOC'),\n",
       "           Span(1372, 1378, 'LOC'),\n",
       "           Span(1379, 1397, 'PER')])"
      ]
     },
     "metadata": {},
     "output_type": "display_data"
    },
    {
     "name": "stdout",
     "output_type": "stream",
     "text": [
      "[(0, 6, 'LOC'), (18, 29, 'ORG'), (167, 180, 'LOC'), (206, 216, 'ORG'), (703, 722, 'LOC'), (723, 739, 'PER'), (1083, 1096, 'LOC'), (1215, 1227, 'LOC'), (1283, 1296, 'LOC'), (1603, 1621, 'ORG'), (1622, 1625, 'ORG'), (1626, 1632, 'LOC'), (1636, 1655, 'LOC'), (1745, 1764, 'LOC')]\n"
     ]
    },
    {
     "data": {
      "text/html": [
       "<div class=\"tex2jax_ignore\" style=\"white-space: pre-wrap\"><span style=\"padding: 2px; border-radius: 4px; border: 1px solid #c8e6c9; background: #e8f5e9\">Москва<span style=\"vertical-align: middle; margin-left: 2px; font-size: 0.7em; color: #66bb6a;\">LOC</span></span>. 1 января. <span style=\"padding: 2px; border-radius: 4px; border: 1px solid #ffcdd2; background: #ffebee\">INTERFAX.RU<span style=\"vertical-align: middle; margin-left: 2px; font-size: 0.7em; color: #e57373;\">ORG</span></span> - Десятки людей с утра вторника приходят в штаб по работе с населением, организованный в школе №14 рядом с частично обрушившимся домом в <span style=\"padding: 2px; border-radius: 4px; border: 1px solid #c8e6c9; background: #e8f5e9\">Магнитогорске<span style=\"vertical-align: middle; margin-left: 2px; font-size: 0.7em; color: #66bb6a;\">LOC</span></span>, передает корреспондент \"<span style=\"padding: 2px; border-radius: 4px; border: 1px solid #ffcdd2; background: #ffebee\">Интерфакса<span style=\"vertical-align: middle; margin-left: 2px; font-size: 0.7em; color: #e57373;\">ORG</span></span>\". В школе организован пункт выдачи гуманитарной помощи для жителей дома №164 по проспекту Карла Маркса, пострадавшего при взрыве бытового газа. С утра люди спрашивают о получении выплат, просят одежду. Здесь также работает столовая, где люди могут бесплатно пообедать. Вместе с волонтерами работают священники, к ним за утешением подходят люди, многие не сдерживают слезы. Волонтеры будут принимать пострадавших жителей дома до конца дня. В штабе в настоящее время находится губернатор <span style=\"padding: 2px; border-radius: 4px; border: 1px solid #c8e6c9; background: #e8f5e9\">Челябинской области<span style=\"vertical-align: middle; margin-left: 2px; font-size: 0.7em; color: #66bb6a;\">LOC</span></span> <span style=\"padding: 2px; border-radius: 4px; border: 1px solid #bbdefb; background: #e3f2fd\">Борис Дубровский<span style=\"vertical-align: middle; margin-left: 2px; font-size: 0.7em; color: #64b5f6;\">PER</span></span>, он общается с пострадавшими, отвечает на вопросы. Часть жителей уцелевших подъездов остаются в своих квартирах, вечером 31 декабря его подключили к электричеству, газа пока нет. Вокруг места спасательной операции выставлено плотное оцепление в зоне 40 метров, чтобы избежать прохода людей к месту, где возможны новые обрушения конструкций. В <span style=\"padding: 2px; border-radius: 4px; border: 1px solid #c8e6c9; background: #e8f5e9\">Магнитогорске<span style=\"vertical-align: middle; margin-left: 2px; font-size: 0.7em; color: #66bb6a;\">LOC</span></span> утром 31 декабря из-за взрыва бытового газа произошло обрушение одного из подъездов десятиэтажного по адресу проспект <span style=\"padding: 2px; border-radius: 4px; border: 1px solid #c8e6c9; background: #e8f5e9\">Карла Маркса<span style=\"vertical-align: middle; margin-left: 2px; font-size: 0.7em; color: #66bb6a;\">LOC</span></span>, 164. По последним данным, количество жертв трагедии в <span style=\"padding: 2px; border-radius: 4px; border: 1px solid #c8e6c9; background: #e8f5e9\">Магнитогорске<span style=\"vertical-align: middle; margin-left: 2px; font-size: 0.7em; color: #66bb6a;\">LOC</span></span> составило восемь человек , детей среди них нет. Остается неизвестной судьба 36 человек. С момента начала поисково-спасательной операции удалось спасти пять человек, в том числе ребенка, все пострадавшие госпитализированы. В настоящее время спасатели демонтируют стену подъезда из-за угрозы ее обрушения. В <span style=\"padding: 2px; border-radius: 4px; border: 1px solid #ffcdd2; background: #ffebee\">Главном управлении<span style=\"vertical-align: middle; margin-left: 2px; font-size: 0.7em; color: #e57373;\">ORG</span></span> <span style=\"padding: 2px; border-radius: 4px; border: 1px solid #ffcdd2; background: #ffebee\">МЧС<span style=\"vertical-align: middle; margin-left: 2px; font-size: 0.7em; color: #e57373;\">ORG</span></span> <span style=\"padding: 2px; border-radius: 4px; border: 1px solid #c8e6c9; background: #e8f5e9\">России<span style=\"vertical-align: middle; margin-left: 2px; font-size: 0.7em; color: #66bb6a;\">LOC</span></span> по <span style=\"padding: 2px; border-radius: 4px; border: 1px solid #c8e6c9; background: #e8f5e9\">Челябинской области<span style=\"vertical-align: middle; margin-left: 2px; font-size: 0.7em; color: #66bb6a;\">LOC</span></span> продолжает действовать телефон \"горячей линии\" (8-351-239-99-99) . В связи с трагедией в <span style=\"padding: 2px; border-radius: 4px; border: 1px solid #c8e6c9; background: #e8f5e9\">Челябинской области<span style=\"vertical-align: middle; margin-left: 2px; font-size: 0.7em; color: #66bb6a;\">LOC</span></span> 2 января объявлен траур.</div>"
      ],
      "text/plain": [
       "BoxMarkup('Москва. 1 января. INTERFAX.RU - Десятки людей с утра вторника приходят в штаб по работе с населением, организованный в школе №14 рядом с частично обрушившимся домом в Магнитогорске, передает корреспондент \"Интерфакса\". В школе организован пункт выдачи гуманитарной помощи для жителей дома №164 по проспекту Карла Маркса, пострадавшего при взрыве бытового газа. С утра люди спрашивают о получении выплат, просят одежду. Здесь также работает столовая, где люди могут бесплатно пообедать. Вместе с волонтерами работают священники, к ним за утешением подходят люди, многие не сдерживают слезы. Волонтеры будут принимать пострадавших жителей дома до конца дня. В штабе в настоящее время находится губернатор Челябинской области Борис Дубровский, он общается с пострадавшими, отвечает на вопросы. Часть жителей уцелевших подъездов остаются в своих квартирах, вечером 31 декабря его подключили к электричеству, газа пока нет. Вокруг места спасательной операции выставлено плотное оцепление в зоне 40 метров, чтобы избежать прохода людей к месту, где возможны новые обрушения конструкций. В Магнитогорске утром 31 декабря из-за взрыва бытового газа произошло обрушение одного из подъездов десятиэтажного по адресу проспект Карла Маркса, 164. По последним данным, количество жертв трагедии в Магнитогорске составило восемь человек , детей среди них нет. Остается неизвестной судьба 36 человек. С момента начала поисково-спасательной операции удалось спасти пять человек, в том числе ребенка, все пострадавшие госпитализированы. В настоящее время спасатели демонтируют стену подъезда из-за угрозы ее обрушения. В Главном управлении МЧС России по Челябинской области продолжает действовать телефон \"горячей линии\" (8-351-239-99-99) . В связи с трагедией в Челябинской области 2 января объявлен траур.',\n",
       "          [Span(0, 6, 'LOC'),\n",
       "           Span(18, 29, 'ORG'),\n",
       "           Span(167, 180, 'LOC'),\n",
       "           Span(206, 216, 'ORG'),\n",
       "           Span(703, 722, 'LOC'),\n",
       "           Span(723, 739, 'PER'),\n",
       "           Span(1083, 1096, 'LOC'),\n",
       "           Span(1215, 1227, 'LOC'),\n",
       "           Span(1283, 1296, 'LOC'),\n",
       "           Span(1603, 1621, 'ORG'),\n",
       "           Span(1622, 1625, 'ORG'),\n",
       "           Span(1626, 1632, 'LOC'),\n",
       "           Span(1636, 1655, 'LOC'),\n",
       "           Span(1745, 1764, 'LOC')])"
      ]
     },
     "metadata": {},
     "output_type": "display_data"
    },
    {
     "name": "stdout",
     "output_type": "stream",
     "text": [
      "[(162, 168, 'LOC'), (169, 175, 'LOC'), (187, 198, 'ORG'), (304, 309, 'LOC'), (329, 332, 'ORG'), (586, 591, 'LOC'), (815, 821, 'LOC')]\n"
     ]
    },
    {
     "data": {
      "text/html": [
       "<div class=\"tex2jax_ignore\" style=\"white-space: pre-wrap\">В результате инцидента девять человек получили травмы, полиция задержала виновника происшествия, который объяснил свой поступок протестом против смертной казни в <span style=\"padding: 2px; border-radius: 4px; border: 1px solid #c8e6c9; background: #e8f5e9\">Японии<span style=\"vertical-align: middle; margin-left: 2px; font-size: 0.7em; color: #66bb6a;\">LOC</span></span> <span style=\"padding: 2px; border-radius: 4px; border: 1px solid #c8e6c9; background: #e8f5e9\">Москва<span style=\"vertical-align: middle; margin-left: 2px; font-size: 0.7em; color: #66bb6a;\">LOC</span></span>. 1 января. <span style=\"padding: 2px; border-radius: 4px; border: 1px solid #ffcdd2; background: #ffebee\">INTERFAX.RU<span style=\"vertical-align: middle; margin-left: 2px; font-size: 0.7em; color: #e57373;\">ORG</span></span> - Сотрудники японской полиции задержали в ночь на вторник водителя, врезавшегося на автомобиле в толпу в <span style=\"padding: 2px; border-radius: 4px; border: 1px solid #c8e6c9; background: #e8f5e9\">Токио<span style=\"vertical-align: middle; margin-left: 2px; font-size: 0.7em; color: #66bb6a;\">LOC</span></span>, сообщают японские <span style=\"padding: 2px; border-radius: 4px; border: 1px solid #ffcdd2; background: #ffebee\">СМИ<span style=\"vertical-align: middle; margin-left: 2px; font-size: 0.7em; color: #e57373;\">ORG</span></span>. В результате инцидента девять человек получили травмы - восьмерых сбила машина, а еще одного побил водитель, когда вышел из машины. Один из пострадавших находится в тяжелом состоянии. Инцидент произошел вскоре после полуночи в пешеходной зоне в районе <span style=\"padding: 2px; border-radius: 4px; border: 1px solid #c8e6c9; background: #e8f5e9\">Сибуя<span style=\"vertical-align: middle; margin-left: 2px; font-size: 0.7em; color: #66bb6a;\">LOC</span></span>. Там собрались тысячи человек, чтобы отметить Новый год. Задержанный 21-летний японец пояснил, что преднамеренно направил машину на пешеходов. По его словам, таким образом, он хотел выразить протест против смертной казни в <span style=\"padding: 2px; border-radius: 4px; border: 1px solid #c8e6c9; background: #e8f5e9\">Японии<span style=\"vertical-align: middle; margin-left: 2px; font-size: 0.7em; color: #66bb6a;\">LOC</span></span>.</div>"
      ],
      "text/plain": [
       "BoxMarkup('В результате инцидента девять человек получили травмы, полиция задержала виновника происшествия, который объяснил свой поступок протестом против смертной казни в Японии Москва. 1 января. INTERFAX.RU - Сотрудники японской полиции задержали в ночь на вторник водителя, врезавшегося на автомобиле в толпу в Токио, сообщают японские СМИ. В результате инцидента девять человек получили травмы - восьмерых сбила машина, а еще одного побил водитель, когда вышел из машины. Один из пострадавших находится в тяжелом состоянии. Инцидент произошел вскоре после полуночи в пешеходной зоне в районе Сибуя. Там собрались тысячи человек, чтобы отметить Новый год. Задержанный 21-летний японец пояснил, что преднамеренно направил машину на пешеходов. По его словам, таким образом, он хотел выразить протест против смертной казни в Японии.',\n",
       "          [Span(162, 168, 'LOC'),\n",
       "           Span(169, 175, 'LOC'),\n",
       "           Span(187, 198, 'ORG'),\n",
       "           Span(304, 309, 'LOC'),\n",
       "           Span(329, 332, 'ORG'),\n",
       "           Span(586, 591, 'LOC'),\n",
       "           Span(815, 821, 'LOC')])"
      ]
     },
     "metadata": {},
     "output_type": "display_data"
    },
    {
     "name": "stdout",
     "output_type": "stream",
     "text": [
      "[(27, 33, 'LOC'), (45, 56, 'ORG'), (140, 146, 'LOC'), (202, 208, 'LOC'), (367, 374, 'ORG'), (465, 472, 'ORG'), (495, 510, 'PER'), (560, 563, 'ORG'), (612, 618, 'ORG'), (720, 735, 'ORG'), (743, 752, 'ORG'), (756, 767, 'ORG'), (771, 779, 'ORG'), (787, 795, 'PER'), (821, 828, 'ORG'), (1189, 1192, 'ORG'), (1257, 1266, 'PER'), (1399, 1402, 'ORG'), (1792, 1799, 'ORG'), (1872, 1880, 'PER'), (1936, 1939, 'ORG'), (1981, 1988, 'ORG'), (2033, 2040, 'ORG'), (2300, 2305, 'ORG'), (2634, 2640, 'ORG'), (2933, 2936, 'ORG'), (2937, 2950, 'PER'), (2980, 2988, 'PER'), (3039, 3045, 'ORG'), (3359, 3367, 'PER'), (3416, 3423, 'ORG'), (3602, 3604, 'ORG'), (4251, 4258, 'ORG'), (4354, 4360, 'ORG'), (4617, 4623, 'ORG'), (4674, 4676, 'ORG'), (5131, 5133, 'ORG'), (5134, 5153, 'PER'), (5192, 5198, 'ORG'), (5474, 5476, 'ORG'), (5552, 5558, 'ORG'), (5604, 5611, 'ORG'), (5725, 5733, 'PER'), (5748, 5751, 'ORG'), (5828, 5835, 'ORG'), (5837, 5852, 'PER'), (5931, 5946, 'ORG'), (5989, 5996, 'ORG'), (6000, 6014, 'ORG'), (6079, 6088, 'ORG'), (6149, 6157, 'ORG'), (6159, 6161, 'ORG'), (6212, 6219, 'ORG'), (6311, 6313, 'ORG'), (6327, 6335, 'PER'), (6359, 6374, 'PER'), (6398, 6414, 'PER'), (6455, 6461, 'ORG'), (6463, 6481, 'PER'), (6534, 6536, 'ORG'), (6557, 6568, 'ORG'), (6574, 6581, 'ORG'), (6734, 6741, 'ORG'), (6774, 6788, 'PER'), (6844, 6853, 'ORG'), (6919, 6926, 'ORG'), (6951, 6960, 'ORG'), (7077, 7079, 'ORG'), (7090, 7096, 'ORG'), (7125, 7132, 'PER'), (7141, 7143, 'ORG'), (7157, 7167, 'ORG'), (7315, 7317, 'ORG'), (7575, 7577, 'ORG'), (7590, 7599, 'ORG'), (7612, 7618, 'ORG'), (7714, 7727, 'PER'), (7771, 7788, 'PER'), (7804, 7810, 'ORG'), (7828, 7837, 'PER'), (7928, 7941, 'PER'), (7965, 7972, 'ORG'), (8055, 8061, 'LOC'), (8072, 8079, 'PER'), (8092, 8099, 'ORG'), (8372, 8375, 'ORG'), (8457, 8463, 'ORG'), (8468, 8470, 'ORG'), (8507, 8522, 'PER'), (8543, 8557, 'PER'), (8597, 8606, 'ORG'), (8711, 8720, 'ORG'), (8899, 8908, 'PER'), (8910, 8912, 'ORG'), (8943, 8951, 'PER'), (9044, 9053, 'ORG'), (9075, 9090, 'PER'), (9188, 9195, 'ORG'), (9237, 9252, 'ORG'), (9328, 9330, 'ORG'), (9518, 9520, 'ORG'), (9699, 9712, 'PER'), (9798, 9804, 'ORG'), (10301, 10308, 'PER'), (10334, 10341, 'ORG'), (10384, 10393, 'ORG'), (10660, 10669, 'ORG'), (10829, 10844, 'PER'), (11094, 11100, 'LOC'), (11163, 11172, 'ORG'), (11411, 11413, 'ORG'), (11441, 11450, 'ORG'), (11655, 11664, 'ORG'), (12133, 12135, 'ORG'), (12168, 12177, 'ORG'), (12408, 12415, 'ORG'), (12535, 12548, 'PER'), (12774, 12783, 'ORG'), (12839, 12841, 'ORG'), (12954, 12960, 'ORG'), (13095, 13102, 'PER'), (13212, 13214, 'ORG'), (13303, 13312, 'ORG'), (13460, 13467, 'ORG'), (13648, 13654, 'LOC'), (13815, 13823, 'ORG'), (13993, 14000, 'ORG'), (14175, 14181, 'ORG'), (14334, 14340, 'ORG'), (14477, 14485, 'ORG'), (14490, 14503, 'ORG'), (14654, 14660, 'ORG'), (14704, 14719, 'ORG'), (15008, 15021, 'ORG'), (15086, 15095, 'PER'), (15098, 15101, 'ORG'), (15116, 15122, 'ORG'), (15127, 15132, 'ORG'), (15313, 15318, 'ORG'), (15410, 15412, 'ORG'), (16198, 16200, 'ORG'), (16201, 16216, 'PER'), (16586, 16599, 'PER'), (16877, 16884, 'ORG'), (16958, 16967, 'ORG'), (16981, 16984, 'ORG'), (16990, 17004, 'ORG'), (17005, 17026, 'PER'), (17056, 17063, 'ORG'), (17141, 17144, 'ORG'), (17147, 17154, 'ORG'), (17329, 17332, 'ORG'), (17454, 17461, 'ORG'), (17463, 17492, 'ORG'), (17871, 17877, 'ORG'), (17991, 17997, 'ORG'), (18014, 18017, 'ORG'), (18074, 18090, 'ORG'), (18194, 18201, 'ORG'), (18338, 18346, 'ORG'), (18347, 18359, 'PER'), (18426, 18433, 'ORG'), (18493, 18500, 'ORG'), (18842, 18848, 'ORG'), (18920, 18922, 'ORG'), (18942, 18949, 'ORG'), (19117, 19124, 'ORG'), (19464, 19471, 'ORG'), (19558, 19564, 'ORG')]\n"
     ]
    },
    {
     "data": {
      "text/html": [
       "<div class=\"tex2jax_ignore\" style=\"white-space: pre-wrap\">Итоги года в сфере ритейла <span style=\"padding: 2px; border-radius: 4px; border: 1px solid #c8e6c9; background: #e8f5e9\">Москва<span style=\"vertical-align: middle; margin-left: 2px; font-size: 0.7em; color: #66bb6a;\">LOC</span></span>. 1 января. <span style=\"padding: 2px; border-radius: 4px; border: 1px solid #ffcdd2; background: #ffebee\">INTERFAX.RU<span style=\"vertical-align: middle; margin-left: 2px; font-size: 0.7em; color: #e57373;\">ORG</span></span> - Небольшой частный бизнес родом из 90-х, со штаб-квартирой в тысяче километров от <span style=\"padding: 2px; border-radius: 4px; border: 1px solid #c8e6c9; background: #e8f5e9\">Москвы<span style=\"vertical-align: middle; margin-left: 2px; font-size: 0.7em; color: #66bb6a;\">LOC</span></span>, который сумел вырасти в одну из крупнейших компаний в <span style=\"padding: 2px; border-radius: 4px; border: 1px solid #c8e6c9; background: #e8f5e9\">России<span style=\"vertical-align: middle; margin-left: 2px; font-size: 0.7em; color: #66bb6a;\">LOC</span></span> и стать образцово-показательной историей в глазах инвесторов, в том числе иностранных. И все это время компанией управлял ее основатель. Эта глава в истории \"<span style=\"padding: 2px; border-radius: 4px; border: 1px solid #ffcdd2; background: #ffebee\">Магнита<span style=\"vertical-align: middle; margin-left: 2px; font-size: 0.7em; color: #e57373;\">ORG</span></span>\" закончилась в 2018 году, главным событием которого стала смена акционеров ритейлера. Из \"<span style=\"padding: 2px; border-radius: 4px; border: 1px solid #ffcdd2; background: #ffebee\">Магнита<span style=\"vertical-align: middle; margin-left: 2px; font-size: 0.7em; color: #e57373;\">ORG</span></span>\" ушел его основатель: <span style=\"padding: 2px; border-radius: 4px; border: 1px solid #bbdefb; background: #e3f2fd\">Сергей Галицкий<span style=\"vertical-align: middle; margin-left: 2px; font-size: 0.7em; color: #64b5f6;\">PER</span></span> продал 29,1% акций (большую часть пакета) группе <span style=\"padding: 2px; border-radius: 4px; border: 1px solid #ffcdd2; background: #ffebee\">ВТБ<span style=\"vertical-align: middle; margin-left: 2px; font-size: 0.7em; color: #e57373;\">ORG</span></span> за 138,2 млрд рублей. Несколькими годами ранее \"<span style=\"padding: 2px; border-radius: 4px; border: 1px solid #ffcdd2; background: #ffebee\">Магнит<span style=\"vertical-align: middle; margin-left: 2px; font-size: 0.7em; color: #e57373;\">ORG</span></span>\" ушел с пьедестала в российском ритейле, уступив первое место по выручке своему заклятому конкуренту <span style=\"padding: 2px; border-radius: 4px; border: 1px solid #ffcdd2; background: #ffebee\">X5 Retail Group<span style=\"vertical-align: middle; margin-left: 2px; font-size: 0.7em; color: #e57373;\">ORG</span></span> (сети \"<span style=\"padding: 2px; border-radius: 4px; border: 1px solid #ffcdd2; background: #ffebee\">Пятерочка<span style=\"vertical-align: middle; margin-left: 2px; font-size: 0.7em; color: #e57373;\">ORG</span></span>\", \"<span style=\"padding: 2px; border-radius: 4px; border: 1px solid #ffcdd2; background: #ffebee\">Перекресток<span style=\"vertical-align: middle; margin-left: 2px; font-size: 0.7em; color: #e57373;\">ORG</span></span>\", \"<span style=\"padding: 2px; border-radius: 4px; border: 1px solid #ffcdd2; background: #ffebee\">Карусель<span style=\"vertical-align: middle; margin-left: 2px; font-size: 0.7em; color: #e57373;\">ORG</span></span>\"). Сам <span style=\"padding: 2px; border-radius: 4px; border: 1px solid #bbdefb; background: #e3f2fd\">Галицкий<span style=\"vertical-align: middle; margin-left: 2px; font-size: 0.7em; color: #64b5f6;\">PER</span></span> назвал причиной продажи \"<span style=\"padding: 2px; border-radius: 4px; border: 1px solid #ffcdd2; background: #ffebee\">Магнита<span style=\"vertical-align: middle; margin-left: 2px; font-size: 0.7em; color: #e57373;\">ORG</span></span>\" разные подходы к его развитию у него и инвесторов. Основателя сети критиковали за излишний консерватизм (который, например, выражался в его скептическом отношении к интернет-продажам продуктов питания, которые теперь вот уже второй год успешно развивает Х5), за то, что слишком поздно начал обновлять магазины, пропустив вперед ту же Х5. \"Государство (в лице <span style=\"padding: 2px; border-radius: 4px; border: 1px solid #ffcdd2; background: #ffebee\">ВТБ<span style=\"vertical-align: middle; margin-left: 2px; font-size: 0.7em; color: #e57373;\">ORG</span></span>) дотянулось до чуть ли не единственного независимого бизнеса\", \"<span style=\"padding: 2px; border-radius: 4px; border: 1px solid #bbdefb; background: #e3f2fd\">Галицкого<span style=\"vertical-align: middle; margin-left: 2px; font-size: 0.7em; color: #64b5f6;\">PER</span></span> заставили\" - среди комментариев были и такие. Однозначной стала реакция рынка: акции ритейлера рухнули в день объявления о сделке с <span style=\"padding: 2px; border-radius: 4px; border: 1px solid #ffcdd2; background: #ffebee\">ВТБ<span style=\"vertical-align: middle; margin-left: 2px; font-size: 0.7em; color: #e57373;\">ORG</span></span>. \"Я 25 лет возглавлял компанию. Это достаточно большой срок. Я думаю, пришло время, наверно, что-то изменить в своей жизни. Мне кажется, что это было хорошее время, но... Это непростое решение для меня было по причине того, что это слишком долгий процесс для меня был. Все-таки я основал эту компанию, но время идет, и ничего не вечно. На самом деле, послужило толчком то, что инвесторы (\"<span style=\"padding: 2px; border-radius: 4px; border: 1px solid #ffcdd2; background: #ffebee\">Магнита<span style=\"vertical-align: middle; margin-left: 2px; font-size: 0.7em; color: #e57373;\">ORG</span></span>\" - ИФ) не совсем так видят ситуацию, как акционеры компании\", - говорил <span style=\"padding: 2px; border-radius: 4px; border: 1px solid #bbdefb; background: #e3f2fd\">Галицкий<span style=\"vertical-align: middle; margin-left: 2px; font-size: 0.7em; color: #64b5f6;\">PER</span></span> в феврале, комментируя еще только объявленную сделку с <span style=\"padding: 2px; border-radius: 4px; border: 1px solid #ffcdd2; background: #ffebee\">ВТБ<span style=\"vertical-align: middle; margin-left: 2px; font-size: 0.7em; color: #e57373;\">ORG</span></span>. Продажа состоялась в начале весны, и в \"<span style=\"padding: 2px; border-radius: 4px; border: 1px solid #ffcdd2; background: #ffebee\">Магните<span style=\"vertical-align: middle; margin-left: 2px; font-size: 0.7em; color: #e57373;\">ORG</span></span>\" стартовали изменения. \"Великий перелом\" в \"<span style=\"padding: 2px; border-radius: 4px; border: 1px solid #ffcdd2; background: #ffebee\">Магните<span style=\"vertical-align: middle; margin-left: 2px; font-size: 0.7em; color: #e57373;\">ORG</span></span>\" можно было бы назвать отражением процессов \"взросления\" российского ритейла: уходят последние энтузиасты-одиночки, приходят собственники с мощными и многопрофильными балансами. Вот только пока вовсе нет уверенности, что это путь в светлое будущее - примеры \"<span style=\"padding: 2px; border-radius: 4px; border: 1px solid #ffcdd2; background: #ffebee\">Дикси<span style=\"vertical-align: middle; margin-left: 2px; font-size: 0.7em; color: #e57373;\">ORG</span></span>\" и других сетей показывают, что такие изменения вовсе не гарантируют скорого процветания. Тем более что макроэкономические условия бурного роста отрасли пока явно не сулят, и то, что когда-то было для ритейла \"болезнями роста\", рискует стать проблемами хронической стагнации. Из компании, подчиненной харизматичному владельцу, \"<span style=\"padding: 2px; border-radius: 4px; border: 1px solid #ffcdd2; background: #ffebee\">Магнит<span style=\"vertical-align: middle; margin-left: 2px; font-size: 0.7em; color: #e57373;\">ORG</span></span>\" превратился в компанию под управлением команды топ-менеджеров (и в этом он теперь похож на главного конкурента). Так и было задумано - нужно провести \"некую переориентацию с предпринимательского подхода на более современную, четко мотивированную систему менеджмента\", говорил первый зампред <span style=\"padding: 2px; border-radius: 4px; border: 1px solid #ffcdd2; background: #ffebee\">ВТБ<span style=\"vertical-align: middle; margin-left: 2px; font-size: 0.7em; color: #e57373;\">ORG</span></span> <span style=\"padding: 2px; border-radius: 4px; border: 1px solid #bbdefb; background: #e3f2fd\">Юрий Соловьев<span style=\"vertical-align: middle; margin-left: 2px; font-size: 0.7em; color: #64b5f6;\">PER</span></span>. Стало возможным то, что при <span style=\"padding: 2px; border-radius: 4px; border: 1px solid #bbdefb; background: #e3f2fd\">Галицком<span style=\"vertical-align: middle; margin-left: 2px; font-size: 0.7em; color: #64b5f6;\">PER</span></span> было немыслимым - или ненужным. В конце сентября \"<span style=\"padding: 2px; border-radius: 4px; border: 1px solid #ffcdd2; background: #ffebee\">Магнит<span style=\"vertical-align: middle; margin-left: 2px; font-size: 0.7em; color: #e57373;\">ORG</span></span>\" представил инвесторам новую стратегию развития на ближайшие пять лет. \"Если хочешь насмешить Бога, то дай ему свой трехлетний план, тем более в такой быстро меняющейся стране, как наша. Мне легче было бы дать вам какие-то непонятные прогнозы, которые бы через полгода все забыли, но зачем это делать?\" - говорил <span style=\"padding: 2px; border-radius: 4px; border: 1px solid #bbdefb; background: #e3f2fd\">Галицкий<span style=\"vertical-align: middle; margin-left: 2px; font-size: 0.7em; color: #64b5f6;\">PER</span></span> в октябре 2015 года. Именно в тот год проблемы \"<span style=\"padding: 2px; border-radius: 4px; border: 1px solid #ffcdd2; background: #ffebee\">Магнита<span style=\"vertical-align: middle; margin-left: 2px; font-size: 0.7em; color: #e57373;\">ORG</span></span>\" стали очевидны: рост выручки начал замедляться, а продажи сопоставимых магазинов (LfL) в конце года прекратили рост на фоне падения покупательского трафика. Тот же 2015 год для <span style=\"padding: 2px; border-radius: 4px; border: 1px solid #ffcdd2; background: #ffebee\">Х5<span style=\"vertical-align: middle; margin-left: 2px; font-size: 0.7em; color: #e57373;\">ORG</span></span> стал переломным: компания завершила трехлетнюю трансформацию бизнеса, в рамках которой были определены ценностные предложения сетей, разделена их логистика, началось обновление магазинов, механизм операционного управления был децентрализован. В результате рост продаж Х5 начал ускоряться. В этом году обновленную стратегию представила и Х5. Работа с ассортиментом, быть лучшими для покупателей, операционная эффективность, повышение рентабельности инвестированного капитала, \"большие данные\", дополнительные сервисы - общие места в презентациях обеих компаний, можно сказать, \"новая реальность\" ритейла в целом. Кардинальное отличие в стратегии \"<span style=\"padding: 2px; border-radius: 4px; border: 1px solid #ffcdd2; background: #ffebee\">Магнита<span style=\"vertical-align: middle; margin-left: 2px; font-size: 0.7em; color: #e57373;\">ORG</span></span>\" - компания идет в новые сектора бизнеса, за что ее довольно сильно критикуют инвесторы. Пока \"<span style=\"padding: 2px; border-radius: 4px; border: 1px solid #ffcdd2; background: #ffebee\">Магнит<span style=\"vertical-align: middle; margin-left: 2px; font-size: 0.7em; color: #e57373;\">ORG</span></span>\" двигается в фарватере конкурента: многое из того, что он собирается сделать в рамках своей новой стратегии, уже есть у Х5 (например, децентрализация операционного управления и логистики, омниканальная модель продаж). Даже цель по доле рынка та же - 15%. \"<span style=\"padding: 2px; border-radius: 4px; border: 1px solid #ffcdd2; background: #ffebee\">Магнит<span style=\"vertical-align: middle; margin-left: 2px; font-size: 0.7em; color: #e57373;\">ORG</span></span>\" собирается достичь этого показателя к 2023 году. <span style=\"padding: 2px; border-radius: 4px; border: 1px solid #ffcdd2; background: #ffebee\">Х5<span style=\"vertical-align: middle; margin-left: 2px; font-size: 0.7em; color: #e57373;\">ORG</span></span> же поставила перед собой такую задачу два года назад (15% на рынке продовольственного ритейла к 2020 году). Но компания уже отказалась от этого ориентира. \"Мы в какой-то момент поняли, что это, наверное, ложная цель. Она про цифры, а не про клиентов и не про качество магазинов, потому что цель 15% рынка означает, что нужно открываться максимально везде, где можно. Нам кажется, она не совсем конструктивная\", - говорила журналистам финансовый директор <span style=\"padding: 2px; border-radius: 4px; border: 1px solid #ffcdd2; background: #ffebee\">Х5<span style=\"vertical-align: middle; margin-left: 2px; font-size: 0.7em; color: #e57373;\">ORG</span></span> <span style=\"padding: 2px; border-radius: 4px; border: 1px solid #bbdefb; background: #e3f2fd\">Светлана Демяшкевич<span style=\"vertical-align: middle; margin-left: 2px; font-size: 0.7em; color: #64b5f6;\">PER</span></span>. В продолжающейся гонке за лидерство \"<span style=\"padding: 2px; border-radius: 4px; border: 1px solid #ffcdd2; background: #ffebee\">Магнит<span style=\"vertical-align: middle; margin-left: 2px; font-size: 0.7em; color: #e57373;\">ORG</span></span>\", похоже, как раз и собирается \"максимально\" открывать магазины: согласно своей стратегии ритейлер в течение пяти лет планирует прибавить почти 24 тыс. магазинов всех форматов (как существующих, так и новых для него). В любом случае, на первое место претендуют обе компании. <span style=\"padding: 2px; border-radius: 4px; border: 1px solid #ffcdd2; background: #ffebee\">Х5<span style=\"vertical-align: middle; margin-left: 2px; font-size: 0.7em; color: #e57373;\">ORG</span></span>, чья доля рынка сейчас составляет около 10%, постарается его сохранить, а \"<span style=\"padding: 2px; border-radius: 4px; border: 1px solid #ffcdd2; background: #ffebee\">Магнит<span style=\"vertical-align: middle; margin-left: 2px; font-size: 0.7em; color: #e57373;\">ORG</span></span>\" (9%) - сместить конкурента. Над стратегией \"<span style=\"padding: 2px; border-radius: 4px; border: 1px solid #ffcdd2; background: #ffebee\">Магнита<span style=\"vertical-align: middle; margin-left: 2px; font-size: 0.7em; color: #e57373;\">ORG</span></span>\" работала новая команда топ-менеджеров. О том, что кадровые изменения последуют, было объявлено в феврале, когда <span style=\"padding: 2px; border-radius: 4px; border: 1px solid #bbdefb; background: #e3f2fd\">Галицкий<span style=\"vertical-align: middle; margin-left: 2px; font-size: 0.7em; color: #64b5f6;\">PER</span></span> договорился с <span style=\"padding: 2px; border-radius: 4px; border: 1px solid #ffcdd2; background: #ffebee\">ВТБ<span style=\"vertical-align: middle; margin-left: 2px; font-size: 0.7em; color: #e57373;\">ORG</span></span> о продаже своей доли. Первой громкой новостью стало назначение на пост CFO \"<span style=\"padding: 2px; border-radius: 4px; border: 1px solid #ffcdd2; background: #ffebee\">Магнита<span style=\"vertical-align: middle; margin-left: 2px; font-size: 0.7em; color: #e57373;\">ORG</span></span>\" <span style=\"padding: 2px; border-radius: 4px; border: 1px solid #bbdefb; background: #e3f2fd\">Елены Милиновой<span style=\"vertical-align: middle; margin-left: 2px; font-size: 0.7em; color: #64b5f6;\">PER</span></span>, которая с 2014 по 2016 год занимала должность главного финансового директора <span style=\"padding: 2px; border-radius: 4px; border: 1px solid #ffcdd2; background: #ffebee\">Х5 Retail Group<span style=\"vertical-align: middle; margin-left: 2px; font-size: 0.7em; color: #e57373;\">ORG</span></span>. После она работала у будущего акционера \"<span style=\"padding: 2px; border-radius: 4px; border: 1px solid #ffcdd2; background: #ffebee\">Магнита<span style=\"vertical-align: middle; margin-left: 2px; font-size: 0.7em; color: #e57373;\">ORG</span></span>\" - <span style=\"padding: 2px; border-radius: 4px; border: 1px solid #ffcdd2; background: #ffebee\">Marathon Group<span style=\"vertical-align: middle; margin-left: 2px; font-size: 0.7em; color: #e57373;\">ORG</span></span>: в августе 2017 года стала финансовым директором аптечной сети \"<span style=\"padding: 2px; border-radius: 4px; border: 1px solid #ffcdd2; background: #ffebee\">Мега Фарм<span style=\"vertical-align: middle; margin-left: 2px; font-size: 0.7em; color: #e57373;\">ORG</span></span>\", затем - директором по экономике и финансам инвестиционной <span style=\"padding: 2px; border-radius: 4px; border: 1px solid #ffcdd2; background: #ffebee\">Marathon<span style=\"vertical-align: middle; margin-left: 2px; font-size: 0.7em; color: #e57373;\">ORG</span></span>. <span style=\"padding: 2px; border-radius: 4px; border: 1px solid #ffcdd2; background: #ffebee\">Х5<span style=\"vertical-align: middle; margin-left: 2px; font-size: 0.7em; color: #e57373;\">ORG</span></span> оказалась главным поставщиком топ-менеджеров для \"<span style=\"padding: 2px; border-radius: 4px; border: 1px solid #ffcdd2; background: #ffebee\">Магнита<span style=\"vertical-align: middle; margin-left: 2px; font-size: 0.7em; color: #e57373;\">ORG</span></span>\": в июне в компании было сформировано правление, большинство в котором получили выходцы из <span style=\"padding: 2px; border-radius: 4px; border: 1px solid #ffcdd2; background: #ffebee\">Х5<span style=\"vertical-align: middle; margin-left: 2px; font-size: 0.7em; color: #e57373;\">ORG</span></span>, в том числе <span style=\"padding: 2px; border-radius: 4px; border: 1px solid #bbdefb; background: #e3f2fd\">Милинова<span style=\"vertical-align: middle; margin-left: 2px; font-size: 0.7em; color: #64b5f6;\">PER</span></span>, директор по персоналу <span style=\"padding: 2px; border-radius: 4px; border: 1px solid #bbdefb; background: #e3f2fd\">Татьяна Князева<span style=\"vertical-align: middle; margin-left: 2px; font-size: 0.7em; color: #64b5f6;\">PER</span></span>, операционный директор <span style=\"padding: 2px; border-radius: 4px; border: 1px solid #bbdefb; background: #e3f2fd\">Артем Смоленский<span style=\"vertical-align: middle; margin-left: 2px; font-size: 0.7em; color: #64b5f6;\">PER</span></span>. В декабре было объявлено о переходе в \"<span style=\"padding: 2px; border-radius: 4px; border: 1px solid #ffcdd2; background: #ffebee\">Магнит<span style=\"vertical-align: middle; margin-left: 2px; font-size: 0.7em; color: #e57373;\">ORG</span></span>\" <span style=\"padding: 2px; border-radius: 4px; border: 1px solid #bbdefb; background: #e3f2fd\">Владимира Сорокина<span style=\"vertical-align: middle; margin-left: 2px; font-size: 0.7em; color: #64b5f6;\">PER</span></span>, который с 2014 года по июнь 2018 года возглавлял в <span style=\"padding: 2px; border-radius: 4px; border: 1px solid #ffcdd2; background: #ffebee\">Х5<span style=\"vertical-align: middle; margin-left: 2px; font-size: 0.7em; color: #e57373;\">ORG</span></span> сеть супермаркетов \"<span style=\"padding: 2px; border-radius: 4px; border: 1px solid #ffcdd2; background: #ffebee\">Перекресток<span style=\"vertical-align: middle; margin-left: 2px; font-size: 0.7em; color: #e57373;\">ORG</span></span>\". В \"<span style=\"padding: 2px; border-radius: 4px; border: 1px solid #ffcdd2; background: #ffebee\">Магните<span style=\"vertical-align: middle; margin-left: 2px; font-size: 0.7em; color: #e57373;\">ORG</span></span>\" он с 15 января займет вакантную должность заместителя генерального директора - коммерческого директора. Но главным кадровым решением нового акционера \"<span style=\"padding: 2px; border-radius: 4px; border: 1px solid #ffcdd2; background: #ffebee\">Магнита<span style=\"vertical-align: middle; margin-left: 2px; font-size: 0.7em; color: #e57373;\">ORG</span></span>\" стало назначение СЕО ритейлера <span style=\"padding: 2px; border-radius: 4px; border: 1px solid #bbdefb; background: #e3f2fd\">Ольги Наумовой<span style=\"vertical-align: middle; margin-left: 2px; font-size: 0.7em; color: #64b5f6;\">PER</span></span>, которая пять лет возглавляла сеть магазинов \"у дома\" \"<span style=\"padding: 2px; border-radius: 4px; border: 1px solid #ffcdd2; background: #ffebee\">Пятерочка<span style=\"vertical-align: middle; margin-left: 2px; font-size: 0.7em; color: #e57373;\">ORG</span></span>\" (магазины шаговой доступности - главный формат и для Х5, и для \"<span style=\"padding: 2px; border-radius: 4px; border: 1px solid #ffcdd2; background: #ffebee\">Магнита<span style=\"vertical-align: middle; margin-left: 2px; font-size: 0.7em; color: #e57373;\">ORG</span></span>\"). Под ее руководством \"<span style=\"padding: 2px; border-radius: 4px; border: 1px solid #ffcdd2; background: #ffebee\">Пятерочка<span style=\"vertical-align: middle; margin-left: 2px; font-size: 0.7em; color: #e57373;\">ORG</span></span>\" провела обновление магазинов, значительно ускорила темпы экспансии и роста выручки, что, в конце концов, позволило <span style=\"padding: 2px; border-radius: 4px; border: 1px solid #ffcdd2; background: #ffebee\">Х5<span style=\"vertical-align: middle; margin-left: 2px; font-size: 0.7em; color: #e57373;\">ORG</span></span> обогнать \"<span style=\"padding: 2px; border-radius: 4px; border: 1px solid #ffcdd2; background: #ffebee\">Магнит<span style=\"vertical-align: middle; margin-left: 2px; font-size: 0.7em; color: #e57373;\">ORG</span></span>\" по объему продаж. В апреле <span style=\"padding: 2px; border-radius: 4px; border: 1px solid #bbdefb; background: #e3f2fd\">Наумова<span style=\"vertical-align: middle; margin-left: 2px; font-size: 0.7em; color: #64b5f6;\">PER</span></span> ушла из <span style=\"padding: 2px; border-radius: 4px; border: 1px solid #ffcdd2; background: #ffebee\">Х5<span style=\"vertical-align: middle; margin-left: 2px; font-size: 0.7em; color: #e57373;\">ORG</span></span>. В интервью \"<span style=\"padding: 2px; border-radius: 4px; border: 1px solid #ffcdd2; background: #ffebee\">Ведомостям<span style=\"vertical-align: middle; margin-left: 2px; font-size: 0.7em; color: #e57373;\">ORG</span></span>\" она говорила, что сама приняла решение уйти из компании - \"из-за расхождений во взглядах на принципы и систему управления с нынешним менеджментом <span style=\"padding: 2px; border-radius: 4px; border: 1px solid #ffcdd2; background: #ffebee\">X5<span style=\"vertical-align: middle; margin-left: 2px; font-size: 0.7em; color: #e57373;\">ORG</span></span>, а также из-за отсутствия у него как стратегического видения, так и поддержки реальных проектов развития бизнес-единицы и новых проектов\". Уже в мае, несмотря на шестимесячное ограничение на работу у конкурентов, предусмотренное в контрактах топ-менеджеров <span style=\"padding: 2px; border-radius: 4px; border: 1px solid #ffcdd2; background: #ffebee\">Х5<span style=\"vertical-align: middle; margin-left: 2px; font-size: 0.7em; color: #e57373;\">ORG</span></span>, экс-глава \"<span style=\"padding: 2px; border-radius: 4px; border: 1px solid #ffcdd2; background: #ffebee\">Пятерочки<span style=\"vertical-align: middle; margin-left: 2px; font-size: 0.7em; color: #e57373;\">ORG</span></span>\" перешла в \"<span style=\"padding: 2px; border-radius: 4px; border: 1px solid #ffcdd2; background: #ffebee\">Магнит<span style=\"vertical-align: middle; margin-left: 2px; font-size: 0.7em; color: #e57373;\">ORG</span></span>\" и была назначена на должность исполнительного директора, созданную специально для нее. В июне <span style=\"padding: 2px; border-radius: 4px; border: 1px solid #bbdefb; background: #e3f2fd\">Ольга Наумова<span style=\"vertical-align: middle; margin-left: 2px; font-size: 0.7em; color: #64b5f6;\">PER</span></span> стала главным исполнительным директором, а <span style=\"padding: 2px; border-radius: 4px; border: 1px solid #bbdefb; background: #e3f2fd\">Хачатур Помбухчан<span style=\"vertical-align: middle; margin-left: 2px; font-size: 0.7em; color: #64b5f6;\">PER</span></span>, возглавивший \"<span style=\"padding: 2px; border-radius: 4px; border: 1px solid #ffcdd2; background: #ffebee\">Магнит<span style=\"vertical-align: middle; margin-left: 2px; font-size: 0.7em; color: #e57373;\">ORG</span></span>\" в феврале после <span style=\"padding: 2px; border-radius: 4px; border: 1px solid #bbdefb; background: #e3f2fd\">Галицкого<span style=\"vertical-align: middle; margin-left: 2px; font-size: 0.7em; color: #64b5f6;\">PER</span></span>, ушел из компании. В октябре компанию покинул последний заметный соратник ее основателя - <span style=\"padding: 2px; border-radius: 4px; border: 1px solid #bbdefb; background: #e3f2fd\">Илья Саттаров<span style=\"vertical-align: middle; margin-left: 2px; font-size: 0.7em; color: #64b5f6;\">PER</span></span>. Задача новой команды \"<span style=\"padding: 2px; border-radius: 4px; border: 1px solid #ffcdd2; background: #ffebee\">Магнита<span style=\"vertical-align: middle; margin-left: 2px; font-size: 0.7em; color: #e57373;\">ORG</span></span>\" - быть лучшими в каждом формате, благодаря чему стать самым сильным ритейлером в <span style=\"padding: 2px; border-radius: 4px; border: 1px solid #c8e6c9; background: #e8f5e9\">России<span style=\"vertical-align: middle; margin-left: 2px; font-size: 0.7em; color: #66bb6a;\">LOC</span></span>, говорила <span style=\"padding: 2px; border-radius: 4px; border: 1px solid #bbdefb; background: #e3f2fd\">Наумова<span style=\"vertical-align: middle; margin-left: 2px; font-size: 0.7em; color: #64b5f6;\">PER</span></span>. Для этого \"<span style=\"padding: 2px; border-radius: 4px; border: 1px solid #ffcdd2; background: #ffebee\">Магниту<span style=\"vertical-align: middle; margin-left: 2px; font-size: 0.7em; color: #e57373;\">ORG</span></span>\" нужно новое и лучшее на рынке ценностное предложение (CVP, customer value proposition: преимущества - в цене, выборе товаров, сервисах - которые потребитель получает в магазине в обмен на свои деньги). В условиях, когда экстенсивный рост уже не дает прежних результатов, <span style=\"padding: 2px; border-radius: 4px; border: 1px solid #ffcdd2; background: #ffebee\">CVP<span style=\"vertical-align: middle; margin-left: 2px; font-size: 0.7em; color: #e57373;\">ORG</span></span> стало словом года в российском ритейле - пожалуй, о нем больше всего говорили и \"<span style=\"padding: 2px; border-radius: 4px; border: 1px solid #ffcdd2; background: #ffebee\">Магнит<span style=\"vertical-align: middle; margin-left: 2px; font-size: 0.7em; color: #e57373;\">ORG</span></span>\", и <span style=\"padding: 2px; border-radius: 4px; border: 1px solid #ffcdd2; background: #ffebee\">Х5<span style=\"vertical-align: middle; margin-left: 2px; font-size: 0.7em; color: #e57373;\">ORG</span></span>. Главный исполнительный директор Х5 <span style=\"padding: 2px; border-radius: 4px; border: 1px solid #bbdefb; background: #e3f2fd\">Игорь Шехтерман<span style=\"vertical-align: middle; margin-left: 2px; font-size: 0.7em; color: #64b5f6;\">PER</span></span> объяснял увольнение <span style=\"padding: 2px; border-radius: 4px; border: 1px solid #bbdefb; background: #e3f2fd\">Ольги Наумовой<span style=\"vertical-align: middle; margin-left: 2px; font-size: 0.7em; color: #64b5f6;\">PER</span></span> разногласиями во взглядах на развитие \"<span style=\"padding: 2px; border-radius: 4px; border: 1px solid #ffcdd2; background: #ffebee\">Пятерочки<span style=\"vertical-align: middle; margin-left: 2px; font-size: 0.7em; color: #e57373;\">ORG</span></span>\" в условиях изменившегося рынка. Замедление сети доказало, что ей нужны перемены, и если ранее команда \"<span style=\"padding: 2px; border-radius: 4px; border: 1px solid #ffcdd2; background: #ffebee\">Пятерочки<span style=\"vertical-align: middle; margin-left: 2px; font-size: 0.7em; color: #e57373;\">ORG</span></span>\" была сфокусирована на росте, новому руководителю предстоит внедрить новый подход, который предполагает больший фокус на эффективность для поддержания прибыльного роста, говорил <span style=\"padding: 2px; border-radius: 4px; border: 1px solid #bbdefb; background: #e3f2fd\">Шехтерман<span style=\"vertical-align: middle; margin-left: 2px; font-size: 0.7em; color: #64b5f6;\">PER</span></span>. <span style=\"padding: 2px; border-radius: 4px; border: 1px solid #ffcdd2; background: #ffebee\">Х5<span style=\"vertical-align: middle; margin-left: 2px; font-size: 0.7em; color: #e57373;\">ORG</span></span> планировала выбрать преемника <span style=\"padding: 2px; border-radius: 4px; border: 1px solid #bbdefb; background: #e3f2fd\">Наумовой<span style=\"vertical-align: middle; margin-left: 2px; font-size: 0.7em; color: #64b5f6;\">PER</span></span> из пула внутренних кандидатов. Формально это условие соблюдено - на должность гендиректора \"<span style=\"padding: 2px; border-radius: 4px; border: 1px solid #ffcdd2; background: #ffebee\">Пятерочки<span style=\"vertical-align: middle; margin-left: 2px; font-size: 0.7em; color: #e57373;\">ORG</span></span>\" в июне был назначен <span style=\"padding: 2px; border-radius: 4px; border: 1px solid #bbdefb; background: #e3f2fd\">Сергей Гончаров<span style=\"vertical-align: middle; margin-left: 2px; font-size: 0.7em; color: #64b5f6;\">PER</span></span>, который с марта занимал пост директора по стратегии Х5. Но до этого, с 2013 года, он работал в \"<span style=\"padding: 2px; border-radius: 4px; border: 1px solid #ffcdd2; background: #ffebee\">Магните<span style=\"vertical-align: middle; margin-left: 2px; font-size: 0.7em; color: #e57373;\">ORG</span></span>\", где возглавлял сеть магазинов дрогери \"<span style=\"padding: 2px; border-radius: 4px; border: 1px solid #ffcdd2; background: #ffebee\">Магнит Косметик<span style=\"vertical-align: middle; margin-left: 2px; font-size: 0.7em; color: #e57373;\">ORG</span></span>\" и аптечный проект. Обновленную стратегию и ценностное предложение команда <span style=\"padding: 2px; border-radius: 4px; border: 1px solid #ffcdd2; background: #ffebee\">Х5<span style=\"vertical-align: middle; margin-left: 2px; font-size: 0.7em; color: #e57373;\">ORG</span></span> представила на capital markets day в октябре. Потребитель меняется: при сохраняющемся стремлении экономить, растут его требования к качеству продуктов и уровню сервиса, говорил тогда CEO <span style=\"padding: 2px; border-radius: 4px; border: 1px solid #ffcdd2; background: #ffebee\">X5<span style=\"vertical-align: middle; margin-left: 2px; font-size: 0.7em; color: #e57373;\">ORG</span></span>. Но в компании понимали это и раньше: в 2013 году ритейлер начал обновлять сеть магазинов \"у дома\", ориентируясь на новый тип потребителей - \"бедных гедонистов\", как называла их <span style=\"padding: 2px; border-radius: 4px; border: 1px solid #bbdefb; background: #e3f2fd\">Ольга Наумова<span style=\"vertical-align: middle; margin-left: 2px; font-size: 0.7em; color: #64b5f6;\">PER</span></span> еще во времена работы в Х5. Судя по всему, на них же теперь будет ориентироваться и \"<span style=\"padding: 2px; border-radius: 4px; border: 1px solid #ffcdd2; background: #ffebee\">Магнит<span style=\"vertical-align: middle; margin-left: 2px; font-size: 0.7em; color: #e57373;\">ORG</span></span>\": \"Наши клиенты по-прежнему в массовом сегменте с минимальным доходом, но при этом это, конечно, люди, которые сегодня, в 2018 году, и завтра, в 2023 году, будут хотеть не просто магазин, который предлагает низкие цены, но и все больше и больше впечатлений, продуктов, ассортимента, позиций, миссии за те же деньги. Имея тот же самый кошелек, наш покупатель все более и более становится требовательным ко всему, что его окружает. Мы должны создавать для него дополнительные ценности\", - говорила <span style=\"padding: 2px; border-radius: 4px; border: 1px solid #bbdefb; background: #e3f2fd\">Наумова<span style=\"vertical-align: middle; margin-left: 2px; font-size: 0.7em; color: #64b5f6;\">PER</span></span> уже в роли гендиректора \"<span style=\"padding: 2px; border-radius: 4px; border: 1px solid #ffcdd2; background: #ffebee\">Магнита<span style=\"vertical-align: middle; margin-left: 2px; font-size: 0.7em; color: #e57373;\">ORG</span></span>\" на capital markets day в сентябре. Но у \"<span style=\"padding: 2px; border-radius: 4px; border: 1px solid #ffcdd2; background: #ffebee\">Пятерочки<span style=\"vertical-align: middle; margin-left: 2px; font-size: 0.7em; color: #e57373;\">ORG</span></span>\" есть фора: она давно перестала позиционировать себя магазином-дискаунтером и обновила всю сеть к концу 2017 года (изменения коснулись как внешнего вида магазинов, организации торгового пространства, так и ассортимента, промо-политики). \"Нам уже удалось превратить \"<span style=\"padding: 2px; border-radius: 4px; border: 1px solid #ffcdd2; background: #ffebee\">Пятерочку<span style=\"vertical-align: middle; margin-left: 2px; font-size: 0.7em; color: #e57373;\">ORG</span></span>\" из дискаунтера в магазин \"у дома\" с более привлекательным предложением для наших покупателей. Теперь мы занимаемся тем, что обновляем текущее CVP\", - говорил <span style=\"padding: 2px; border-radius: 4px; border: 1px solid #bbdefb; background: #e3f2fd\">Игорь Шехтерман<span style=\"vertical-align: middle; margin-left: 2px; font-size: 0.7em; color: #64b5f6;\">PER</span></span> на \"дне инвестора\". По его словам, в последние два года предпочтения потребителя смещаются в сторону \"уникального и локального ассортимента\": высокой популярностью пользуются продукты для здорового питания, категории ready to eat и ready to cook. В <span style=\"padding: 2px; border-radius: 4px; border: 1px solid #c8e6c9; background: #e8f5e9\">Москве<span style=\"vertical-align: middle; margin-left: 2px; font-size: 0.7em; color: #66bb6a;\">LOC</span></span> этот тренд заметнее всего. \"Мы реагируем на эти тенденции. В \"<span style=\"padding: 2px; border-radius: 4px; border: 1px solid #ffcdd2; background: #ffebee\">Пятерочке<span style=\"vertical-align: middle; margin-left: 2px; font-size: 0.7em; color: #e57373;\">ORG</span></span>\" был запущен пилотный проект по адаптации ассортимента с учетом кластерных особенностей магазинов, в соответствии с их расположением, особенностей поведения потребителей, их доходов и с использованием аналитики big data\", - сообщил глава <span style=\"padding: 2px; border-radius: 4px; border: 1px solid #ffcdd2; background: #ffebee\">Х5<span style=\"vertical-align: middle; margin-left: 2px; font-size: 0.7em; color: #e57373;\">ORG</span></span>. \"Последние несколько лет \"<span style=\"padding: 2px; border-radius: 4px; border: 1px solid #ffcdd2; background: #ffebee\">Пятерочка<span style=\"vertical-align: middle; margin-left: 2px; font-size: 0.7em; color: #e57373;\">ORG</span></span>\" стремительно росла. Мы признаем, что такой рост повлек за собой ряд проблем, прежде всего, связанных с эффективностью, работе с которой в предыдущие годы не уделялось достаточно внимания. Фокус команды \"<span style=\"padding: 2px; border-radius: 4px; border: 1px solid #ffcdd2; background: #ffebee\">Пятерочки<span style=\"vertical-align: middle; margin-left: 2px; font-size: 0.7em; color: #e57373;\">ORG</span></span>\" сегодня - это именно работа с эффективностью. Особое внимание уделяется работе с потерями и бизнес-процессами магазинов. Вместе с тем, сохраняется фокус на постоянную адаптацию CVP, в частности, ассортимента под локальные нужны клиента. Еще одно направление повышения эффективности - это, безусловно, промо: мы намерены нарастить отдачу от персонализированного промо, которое было запущено на базе нашей программы лояльности в этом году\", - рассказывал он в октябре. <span style=\"padding: 2px; border-radius: 4px; border: 1px solid #ffcdd2; background: #ffebee\">Х5<span style=\"vertical-align: middle; margin-left: 2px; font-size: 0.7em; color: #e57373;\">ORG</span></span> будет продолжать развитие сети \"<span style=\"padding: 2px; border-radius: 4px; border: 1px solid #ffcdd2; background: #ffebee\">Пятерочка<span style=\"vertical-align: middle; margin-left: 2px; font-size: 0.7em; color: #e57373;\">ORG</span></span>\", придерживаясь принципов сбалансированного роста и снизит темпы открытия магазинов, чтобы повысить их качество: \"Это означает - (открывать) с большей эффективностью и без ущерба для показателя возврата инвестиций на капитал\". У \"<span style=\"padding: 2px; border-radius: 4px; border: 1px solid #ffcdd2; background: #ffebee\">Магнита<span style=\"vertical-align: middle; margin-left: 2px; font-size: 0.7em; color: #e57373;\">ORG</span></span>\" нет задачи наращивать темпы открытия магазинов в 2019 году - он сосредоточится на программе обновления сети, отмечала <span style=\"padding: 2px; border-radius: 4px; border: 1px solid #bbdefb; background: #e3f2fd\">Ольга Наумова<span style=\"vertical-align: middle; margin-left: 2px; font-size: 0.7em; color: #64b5f6;\">PER</span></span>. В 2018 году ритейлер планирует открыть 1,5 тыс. магазинов \"у дома\". К III кварталу около 48% магазинов сети работали в новом концепте. Ритейлер начал обновлять свои магазины \"у дома\" спустя примерно три года после рестарта \"<span style=\"padding: 2px; border-radius: 4px; border: 1px solid #ffcdd2; background: #ffebee\">Пятерочки<span style=\"vertical-align: middle; margin-left: 2px; font-size: 0.7em; color: #e57373;\">ORG</span></span>\", но в итоге теперь может оказаться в выигрыше: если у <span style=\"padding: 2px; border-radius: 4px; border: 1px solid #ffcdd2; background: #ffebee\">Х5<span style=\"vertical-align: middle; margin-left: 2px; font-size: 0.7em; color: #e57373;\">ORG</span></span> рост выручки замедлялся по мере исчерпания эффекта от роста продаж обновленных магазинов к концу 2017 года, то \"<span style=\"padding: 2px; border-radius: 4px; border: 1px solid #ffcdd2; background: #ffebee\">Магнит<span style=\"vertical-align: middle; margin-left: 2px; font-size: 0.7em; color: #e57373;\">ORG</span></span>\" может существенно ускориться на фоне низкой базы. Обновленные магазины \"у дома\" показывают \"достаточно хорошие\" результаты, говорила <span style=\"padding: 2px; border-radius: 4px; border: 1px solid #bbdefb; background: #e3f2fd\">Наумова<span style=\"vertical-align: middle; margin-left: 2px; font-size: 0.7em; color: #64b5f6;\">PER</span></span>: сопоставимые продажи растут в среднем на 30% по сравнению с показателями тех же магазинов до реконструкции. <span style=\"padding: 2px; border-radius: 4px; border: 1px solid #ffcdd2; background: #ffebee\">Х5<span style=\"vertical-align: middle; margin-left: 2px; font-size: 0.7em; color: #e57373;\">ORG</span></span> в следующем году планирует открыть около 2 тыс. новых магазинов, из них около 1,8 тыс. \"<span style=\"padding: 2px; border-radius: 4px; border: 1px solid #ffcdd2; background: #ffebee\">Пятерочек<span style=\"vertical-align: middle; margin-left: 2px; font-size: 0.7em; color: #e57373;\">ORG</span></span>\" (планы на 2018 год - 2,5 тыс. магазинов, что также предполагает замедление по сравнению с темпами 2017 года). Магазины \"у дома\" - главный формат \"<span style=\"padding: 2px; border-radius: 4px; border: 1px solid #ffcdd2; background: #ffebee\">Магнита<span style=\"vertical-align: middle; margin-left: 2px; font-size: 0.7em; color: #e57373;\">ORG</span></span>\" и Х5 (по итогам девяти месяцев на его долю в структуре выручки компаний приходилось соответственно 74,4% и 78,5%). Это самый крупный сегмент на рынке продовольственного ритейла в <span style=\"padding: 2px; border-radius: 4px; border: 1px solid #c8e6c9; background: #e8f5e9\">России<span style=\"vertical-align: middle; margin-left: 2px; font-size: 0.7em; color: #66bb6a;\">LOC</span></span> (4,5 трлн рублей по итогам 2017 года) и самый перспективный с точки зрения темпов роста (ожидаемые объем в 2021 году - 6,7 трлн рублей), свидетельствуют данные <span style=\"padding: 2px; border-radius: 4px; border: 1px solid #ffcdd2; background: #ffebee\">InfoLine<span style=\"vertical-align: middle; margin-left: 2px; font-size: 0.7em; color: #e57373;\">ORG</span></span>, которые привела озвучила Х5 на capital markets day. Рост давления в сегменте Х5 ожидает, прежде всего, со стороны ближайшего конкурента, говорил глава компании. Планы \"<span style=\"padding: 2px; border-radius: 4px; border: 1px solid #ffcdd2; background: #ffebee\">Магнита<span style=\"vertical-align: middle; margin-left: 2px; font-size: 0.7em; color: #e57373;\">ORG</span></span>\" на ближайшие пять лет весьма амбициозны: ритейлер планирует открыть около 9,4 тыс. магазинов \"у дома\", увеличив их сеть до 22,8 тыс. точек с 13,4 тыс. по итогам 2018 года. \"<span style=\"padding: 2px; border-radius: 4px; border: 1px solid #ffcdd2; background: #ffebee\">Магнит<span style=\"vertical-align: middle; margin-left: 2px; font-size: 0.7em; color: #e57373;\">ORG</span></span>\", как и Х5, будет по-прежнему фокусироваться на развитии своего главного формата. Кроме того, обе компании видят перспективы в развитии супермаркетов. \"<span style=\"padding: 2px; border-radius: 4px; border: 1px solid #ffcdd2; background: #ffebee\">Магнит<span style=\"vertical-align: middle; margin-left: 2px; font-size: 0.7em; color: #e57373;\">ORG</span></span>\" решил отказаться от гипермаркетов, падение выручки которых он так и не смог остановить, и переформатировать их в супермаркеты (бренды \"<span style=\"padding: 2px; border-radius: 4px; border: 1px solid #ffcdd2; background: #ffebee\">Семейный<span style=\"vertical-align: middle; margin-left: 2px; font-size: 0.7em; color: #e57373;\">ORG</span></span>\" и \"<span style=\"padding: 2px; border-radius: 4px; border: 1px solid #ffcdd2; background: #ffebee\">Семейный плюс<span style=\"vertical-align: middle; margin-left: 2px; font-size: 0.7em; color: #e57373;\">ORG</span></span>\"). В следующие пять лет ритейлер планирует открыть 0,4 тыс. таких магазинов, увеличив их число с 0,5 тыс. до 0,9 тыс. В непродовольственном сегменте \"<span style=\"padding: 2px; border-radius: 4px; border: 1px solid #ffcdd2; background: #ffebee\">Магнит<span style=\"vertical-align: middle; margin-left: 2px; font-size: 0.7em; color: #e57373;\">ORG</span></span>\" хочет открыть 4,9 тыс. магазинов дрогери \"<span style=\"padding: 2px; border-radius: 4px; border: 1px solid #ffcdd2; background: #ffebee\">Магнит Косметик<span style=\"vertical-align: middle; margin-left: 2px; font-size: 0.7em; color: #e57373;\">ORG</span></span>\" (сеть в результате вырастет с 4,4 тыс. магазинов в 2018 году до 9,3 тыс. в 2023). Кроме того, компания планирует открыть около 9 тыс. новых форматов: аптек, \"ультрамалых\" магазинов и магазинов cash &amp; carry. Сейчас это пилотные проекты. Причем эти планы не учитывают совместный проект с \"<span style=\"padding: 2px; border-radius: 4px; border: 1px solid #ffcdd2; background: #ffebee\">Почтой России<span style=\"vertical-align: middle; margin-left: 2px; font-size: 0.7em; color: #e57373;\">ORG</span></span>\". О сотрудничестве было объявлено в тот же день, что и о сделке <span style=\"padding: 2px; border-radius: 4px; border: 1px solid #bbdefb; background: #e3f2fd\">Галицкого<span style=\"vertical-align: middle; margin-left: 2px; font-size: 0.7em; color: #64b5f6;\">PER</span></span> с <span style=\"padding: 2px; border-radius: 4px; border: 1px solid #ffcdd2; background: #ffebee\">ВТБ<span style=\"vertical-align: middle; margin-left: 2px; font-size: 0.7em; color: #e57373;\">ORG</span></span>. В этом году \"<span style=\"padding: 2px; border-radius: 4px; border: 1px solid #ffcdd2; background: #ffebee\">Магнит<span style=\"vertical-align: middle; margin-left: 2px; font-size: 0.7em; color: #e57373;\">ORG</span></span>\" и \"<span style=\"padding: 2px; border-radius: 4px; border: 1px solid #ffcdd2; background: #ffebee\">Почта<span style=\"vertical-align: middle; margin-left: 2px; font-size: 0.7em; color: #e57373;\">ORG</span></span>\" открыли тестовые магазины в почтовых отделениях, пилот признан успешным, и в следующем году компании планируют открыть минимум 2 тыс. розничных точек. В целом для такого формата \"<span style=\"padding: 2px; border-radius: 4px; border: 1px solid #ffcdd2; background: #ffebee\">Почта<span style=\"vertical-align: middle; margin-left: 2px; font-size: 0.7em; color: #e57373;\">ORG</span></span>\" считает подходящими минимум 30 тыс. своих отделений (там, где уже есть розничные услуги). <span style=\"padding: 2px; border-radius: 4px; border: 1px solid #ffcdd2; background: #ffebee\">Х5<span style=\"vertical-align: middle; margin-left: 2px; font-size: 0.7em; color: #e57373;\">ORG</span></span> же, в отличие от конкурента, сосредоточится на существующих форматах, в первую очередь, на магазинах \"у дома\" и супермаркетах, в развитии гипермаркетов компания будет придерживаться \"консервативного\" подхода. \"На разных этапах нашего развития в последние годы мы рассматривали возможности входа в другие форматы продуктовые и непродуктовые, но пришли к выводу, что прочие сегменты продуктового ритейла не являются привлекательными для нас с точки зрения дальнейшего роста, рентабельности и возврата на инвестиции. Чтобы лучше сосредоточить наши ресурсы, мы решили не развивать проект \"Перекресток Экспресс\" (это наш маленький формат), аптеки мы не рассматриваем как отдельное направление бизнеса, здесь мы работаем с партнерами и будем продолжать работать с партнерами\", - говорил CEO <span style=\"padding: 2px; border-radius: 4px; border: 1px solid #ffcdd2; background: #ffebee\">X5<span style=\"vertical-align: middle; margin-left: 2px; font-size: 0.7em; color: #e57373;\">ORG</span></span> <span style=\"padding: 2px; border-radius: 4px; border: 1px solid #bbdefb; background: #e3f2fd\">Игорь Шехтерман<span style=\"vertical-align: middle; margin-left: 2px; font-size: 0.7em; color: #64b5f6;\">PER</span></span>. \"Мы считаем специализацию важным конкурентным преимуществом. Но мы не статичны: новые инновационные направления и сервисы, такие как онлайн, почтаматы, мы развиваем, уже их запустили\", - добавил он. Такое стремление к диверсификации вызвало опасения у инвесторов. Вопрос о том, не помешает ли это фокусироваться на операционных изменениях, прозвучал на Дне инвестора. <span style=\"padding: 2px; border-radius: 4px; border: 1px solid #bbdefb; background: #e3f2fd\">Ольга Наумова<span style=\"vertical-align: middle; margin-left: 2px; font-size: 0.7em; color: #64b5f6;\">PER</span></span> заверила, что \"безусловным фокусом\" останется формат магазинов \"у дома\". \"Развитие остальных форматов будет осуществляться по определенному плану. Для каждого формата свой, хорошо продуманный с ресурсной точки зрения график\", - заявила она. Это не первая подобная претензия к \"<span style=\"padding: 2px; border-radius: 4px; border: 1px solid #ffcdd2; background: #ffebee\">Магниту<span style=\"vertical-align: middle; margin-left: 2px; font-size: 0.7em; color: #e57373;\">ORG</span></span>\" - куда большей критике подверглась сделка по покупке фармдистрибьютора \"<span style=\"padding: 2px; border-radius: 4px; border: 1px solid #ffcdd2; background: #ffebee\">СИА Групп<span style=\"vertical-align: middle; margin-left: 2px; font-size: 0.7em; color: #e57373;\">ORG</span></span>\". Владельцем <span style=\"padding: 2px; border-radius: 4px; border: 1px solid #ffcdd2; background: #ffebee\">СИА<span style=\"vertical-align: middle; margin-left: 2px; font-size: 0.7em; color: #e57373;\">ORG</span></span> была <span style=\"padding: 2px; border-radius: 4px; border: 1px solid #ffcdd2; background: #ffebee\">Marathon Group<span style=\"vertical-align: middle; margin-left: 2px; font-size: 0.7em; color: #e57373;\">ORG</span></span> <span style=\"padding: 2px; border-radius: 4px; border: 1px solid #bbdefb; background: #e3f2fd\">Александра Винокурова<span style=\"vertical-align: middle; margin-left: 2px; font-size: 0.7em; color: #64b5f6;\">PER</span></span>, которая купила 11,8% акций \"<span style=\"padding: 2px; border-radius: 4px; border: 1px solid #ffcdd2; background: #ffebee\">Магнита<span style=\"vertical-align: middle; margin-left: 2px; font-size: 0.7em; color: #e57373;\">ORG</span></span>\" в конце мая. В начале июня ритейлер объявил, что начал переговоры о покупке <span style=\"padding: 2px; border-radius: 4px; border: 1px solid #ffcdd2; background: #ffebee\">СИА<span style=\"vertical-align: middle; margin-left: 2px; font-size: 0.7em; color: #e57373;\">ORG</span></span>. \"<span style=\"padding: 2px; border-radius: 4px; border: 1px solid #ffcdd2; background: #ffebee\">Магниту<span style=\"vertical-align: middle; margin-left: 2px; font-size: 0.7em; color: #e57373;\">ORG</span></span>\" необходимо искать возможности для роста, но в то же время приоритетами должны быть негативная динамика в ключевых форматах и формирование управленческой структуры. Сделка с <span style=\"padding: 2px; border-radius: 4px; border: 1px solid #ffcdd2; background: #ffebee\">СИА<span style=\"vertical-align: middle; margin-left: 2px; font-size: 0.7em; color: #e57373;\">ORG</span></span> в момент трансформации компании может стать серьезным отвлекающим фактором для топ-менеджмента, беспокоился миноритарий \"<span style=\"padding: 2px; border-radius: 4px; border: 1px solid #ffcdd2; background: #ffebee\">Магнита<span style=\"vertical-align: middle; margin-left: 2px; font-size: 0.7em; color: #e57373;\">ORG</span></span>\" <span style=\"padding: 2px; border-radius: 4px; border: 1px solid #ffcdd2; background: #ffebee\">Prosperity Capital Management<span style=\"vertical-align: middle; margin-left: 2px; font-size: 0.7em; color: #e57373;\">ORG</span></span>. И это совсем не тот случай, когда вопросы возникли только у главного \"активиста\": после объявления о сделке с новым акционером гул недовольства, местами переходящего в возмущение, охватил весь рынок. Покупка фармдистрибьютора нужна ради его логистических возможностей, а собственная логистика позволит иметь хорошую рентабельность, но строить самим долго и затратно, объяснял \"<span style=\"padding: 2px; border-radius: 4px; border: 1px solid #ffcdd2; background: #ffebee\">Магнит<span style=\"vertical-align: middle; margin-left: 2px; font-size: 0.7em; color: #e57373;\">ORG</span></span>\". В итоге совет директоров ритейлера не с первой попытки, но одобрил сделку, и она была закрыта в конце ноября. \"<span style=\"padding: 2px; border-radius: 4px; border: 1px solid #ffcdd2; background: #ffebee\">Магнит<span style=\"vertical-align: middle; margin-left: 2px; font-size: 0.7em; color: #e57373;\">ORG</span></span>\" расплатился за <span style=\"padding: 2px; border-radius: 4px; border: 1px solid #ffcdd2; background: #ffebee\">СИА<span style=\"vertical-align: middle; margin-left: 2px; font-size: 0.7em; color: #e57373;\">ORG</span></span> собственными акциями (около 1,5%), которые он выкупил с <span style=\"padding: 2px; border-radius: 4px; border: 1px solid #ffcdd2; background: #ffebee\">Московской биржи<span style=\"vertical-align: middle; margin-left: 2px; font-size: 0.7em; color: #e57373;\">ORG</span></span>. Сумма сделки была ограничена 5,7 млрд рублей. Продавец взял на себя обязательство не продавать акции \"<span style=\"padding: 2px; border-radius: 4px; border: 1px solid #ffcdd2; background: #ffebee\">Магнита<span style=\"vertical-align: middle; margin-left: 2px; font-size: 0.7em; color: #e57373;\">ORG</span></span>\", полученные за актив, в течение минимум трех лет после завершения сделки. Решение развивать аптеки было ошибочным, считает гендиректор <span style=\"padding: 2px; border-radius: 4px; border: 1px solid #ffcdd2; background: #ffebee\">InfoLine<span style=\"vertical-align: middle; margin-left: 2px; font-size: 0.7em; color: #e57373;\">ORG</span></span> <span style=\"padding: 2px; border-radius: 4px; border: 1px solid #bbdefb; background: #e3f2fd\">Иван Федяков<span style=\"vertical-align: middle; margin-left: 2px; font-size: 0.7em; color: #64b5f6;\">PER</span></span>. Но если такое решение принято, покупка дистрибьютора - это шанс \"<span style=\"padding: 2px; border-radius: 4px; border: 1px solid #ffcdd2; background: #ffebee\">Магнита<span style=\"vertical-align: middle; margin-left: 2px; font-size: 0.7em; color: #e57373;\">ORG</span></span>\" перекроить фармрынок, считает эксперт. В целом стратегию \"<span style=\"padding: 2px; border-radius: 4px; border: 1px solid #ffcdd2; background: #ffebee\">Магнита<span style=\"vertical-align: middle; margin-left: 2px; font-size: 0.7em; color: #e57373;\">ORG</span></span>\" он называл крайне слабой: ритейлер собирается тратить силы на непрофильные форматы вместо того, чтобы сосредоточиться на развитии своих продовольственных магазинов и, прежде всего, улучшении их качества. Но он, по собственному признанию, сначала не верил и в стратегию Х5, когда компания только объявила о планируемом преобразовании. Пока \"<span style=\"padding: 2px; border-radius: 4px; border: 1px solid #ffcdd2; background: #ffebee\">Магнит<span style=\"vertical-align: middle; margin-left: 2px; font-size: 0.7em; color: #e57373;\">ORG</span></span>\" только увеличивает отставание от Х5. Если по итогам 2017 года выручка <span style=\"padding: 2px; border-radius: 4px; border: 1px solid #ffcdd2; background: #ffebee\">Х5<span style=\"vertical-align: middle; margin-left: 2px; font-size: 0.7em; color: #e57373;\">ORG</span></span> превышала выручку \"<span style=\"padding: 2px; border-radius: 4px; border: 1px solid #ffcdd2; background: #ffebee\">Магнита<span style=\"vertical-align: middle; margin-left: 2px; font-size: 0.7em; color: #e57373;\">ORG</span></span>\" на 13,2% (1, 295 трлн рублей против 1,143 трлн рублей), то по итогам девяти месяцев 2018 года - уже на 22,6% (1,109 трлн рублей против 905,374 млрд рублей). Выручка \"<span style=\"padding: 2px; border-radius: 4px; border: 1px solid #ffcdd2; background: #ffebee\">Магнита<span style=\"vertical-align: middle; margin-left: 2px; font-size: 0.7em; color: #e57373;\">ORG</span></span>\" растет значительно медленнее, чем у конкурента: в III квартале - на 8,4% по сравнению с 17,6%. При этом с IV квартала 2016 года выручка показывает рост ниже 10%. Динамика сопоставимых продаж находится в отрицательной зоне (минус 2% в III квартале на фоне снижения среднего чека на 0,2% и покупательского трафика на 1,8%). Чистая прибыль \"<span style=\"padding: 2px; border-radius: 4px; border: 1px solid #ffcdd2; background: #ffebee\">Магнита<span style=\"vertical-align: middle; margin-left: 2px; font-size: 0.7em; color: #e57373;\">ORG</span></span>\" снижается семь кварталов подряд. Первые результаты начавшейся трансформации бизнеса \"<span style=\"padding: 2px; border-radius: 4px; border: 1px solid #ffcdd2; background: #ffebee\">Магнит<span style=\"vertical-align: middle; margin-left: 2px; font-size: 0.7em; color: #e57373;\">ORG</span></span>\" рассчитывает получить в четвертом квартале, а следующий год вполне может стать решающим в долгоиграющей истории дележа первого места в российском ритейле.</div>"
      ],
      "text/plain": [
       "BoxMarkup('Итоги года в сфере ритейла Москва. 1 января. INTERFAX.RU - Небольшой частный бизнес родом из 90-х, со штаб-квартирой в тысяче километров от Москвы, который сумел вырасти в одну из крупнейших компаний в России и стать образцово-показательной историей в глазах инвесторов, в том числе иностранных. И все это время компанией управлял ее основатель. Эта глава в истории \"Магнита\" закончилась в 2018 году, главным событием которого стала смена акционеров ритейлера. Из \"Магнита\" ушел его основатель: Сергей Галицкий продал 29,1% акций (большую часть пакета) группе ВТБ за 138,2 млрд рублей. Несколькими годами ранее \"Магнит\" ушел с пьедестала в российском ритейле, уступив первое место по выручке своему заклятому конкуренту X5 Retail Group (сети \"Пятерочка\", \"Перекресток\", \"Карусель\"). Сам Галицкий назвал причиной продажи \"Магнита\" разные подходы к его развитию у него и инвесторов. Основателя сети критиковали за излишний консерватизм (который, например, выражался в его скептическом отношении к интернет-продажам продуктов питания, которые теперь вот уже второй год успешно развивает Х5), за то, что слишком поздно начал обновлять магазины, пропустив вперед ту же Х5. \"Государство (в лице ВТБ) дотянулось до чуть ли не единственного независимого бизнеса\", \"Галицкого заставили\" - среди комментариев были и такие. Однозначной стала реакция рынка: акции ритейлера рухнули в день объявления о сделке с ВТБ. \"Я 25 лет возглавлял компанию. Это достаточно большой срок. Я думаю, пришло время, наверно, что-то изменить в своей жизни. Мне кажется, что это было хорошее время, но... Это непростое решение для меня было по причине того, что это слишком долгий процесс для меня был. Все-таки я основал эту компанию, но время идет, и ничего не вечно. На самом деле, послужило толчком то, что инвесторы (\"Магнита\" - ИФ) не совсем так видят ситуацию, как акционеры компании\", - говорил Галицкий в феврале, комментируя еще только объявленную сделку с ВТБ. Продажа состоялась в начале весны, и в \"Магните\" стартовали изменения. \"Великий перелом\" в \"Магните\" можно было бы назвать отражением процессов \"взросления\" российского ритейла: уходят последние энтузиасты-одиночки, приходят собственники с мощными и многопрофильными балансами. Вот только пока вовсе нет уверенности, что это путь в светлое будущее - примеры \"Дикси\" и других сетей показывают, что такие изменения вовсе не гарантируют скорого процветания. Тем более что макроэкономические условия бурного роста отрасли пока явно не сулят, и то, что когда-то было для ритейла \"болезнями роста\", рискует стать проблемами хронической стагнации. Из компании, подчиненной харизматичному владельцу, \"Магнит\" превратился в компанию под управлением команды топ-менеджеров (и в этом он теперь похож на главного конкурента). Так и было задумано - нужно провести \"некую переориентацию с предпринимательского подхода на более современную, четко мотивированную систему менеджмента\", говорил первый зампред ВТБ Юрий Соловьев. Стало возможным то, что при Галицком было немыслимым - или ненужным. В конце сентября \"Магнит\" представил инвесторам новую стратегию развития на ближайшие пять лет. \"Если хочешь насмешить Бога, то дай ему свой трехлетний план, тем более в такой быстро меняющейся стране, как наша. Мне легче было бы дать вам какие-то непонятные прогнозы, которые бы через полгода все забыли, но зачем это делать?\" - говорил Галицкий в октябре 2015 года. Именно в тот год проблемы \"Магнита\" стали очевидны: рост выручки начал замедляться, а продажи сопоставимых магазинов (LfL) в конце года прекратили рост на фоне падения покупательского трафика. Тот же 2015 год для Х5 стал переломным: компания завершила трехлетнюю трансформацию бизнеса, в рамках которой были определены ценностные предложения сетей, разделена их логистика, началось обновление магазинов, механизм операционного управления был децентрализован. В результате рост продаж Х5 начал ускоряться. В этом году обновленную стратегию представила и Х5. Работа с ассортиментом, быть лучшими для покупателей, операционная эффективность, повышение рентабельности инвестированного капитала, \"большие данные\", дополнительные сервисы - общие места в презентациях обеих компаний, можно сказать, \"новая реальность\" ритейла в целом. Кардинальное отличие в стратегии \"Магнита\" - компания идет в новые сектора бизнеса, за что ее довольно сильно критикуют инвесторы. Пока \"Магнит\" двигается в фарватере конкурента: многое из того, что он собирается сделать в рамках своей новой стратегии, уже есть у Х5 (например, децентрализация операционного управления и логистики, омниканальная модель продаж). Даже цель по доле рынка та же - 15%. \"Магнит\" собирается достичь этого показателя к 2023 году. Х5 же поставила перед собой такую задачу два года назад (15% на рынке продовольственного ритейла к 2020 году). Но компания уже отказалась от этого ориентира. \"Мы в какой-то момент поняли, что это, наверное, ложная цель. Она про цифры, а не про клиентов и не про качество магазинов, потому что цель 15% рынка означает, что нужно открываться максимально везде, где можно. Нам кажется, она не совсем конструктивная\", - говорила журналистам финансовый директор Х5 Светлана Демяшкевич. В продолжающейся гонке за лидерство \"Магнит\", похоже, как раз и собирается \"максимально\" открывать магазины: согласно своей стратегии ритейлер в течение пяти лет планирует прибавить почти 24 тыс. магазинов всех форматов (как существующих, так и новых для него). В любом случае, на первое место претендуют обе компании. Х5, чья доля рынка сейчас составляет около 10%, постарается его сохранить, а \"Магнит\" (9%) - сместить конкурента. Над стратегией \"Магнита\" работала новая команда топ-менеджеров. О том, что кадровые изменения последуют, было объявлено в феврале, когда Галицкий договорился с ВТБ о продаже своей доли. Первой громкой новостью стало назначение на пост CFO \"Магнита\" Елены Милиновой, которая с 2014 по 2016 год занимала должность главного финансового директора Х5 Retail Group. После она работала у будущего акционера \"Магнита\" - Marathon Group: в августе 2017 года стала финансовым директором аптечной сети \"Мега Фарм\", затем - директором по экономике и финансам инвестиционной Marathon. Х5 оказалась главным поставщиком топ-менеджеров для \"Магнита\": в июне в компании было сформировано правление, большинство в котором получили выходцы из Х5, в том числе Милинова, директор по персоналу Татьяна Князева, операционный директор Артем Смоленский. В декабре было объявлено о переходе в \"Магнит\" Владимира Сорокина, который с 2014 года по июнь 2018 года возглавлял в Х5 сеть супермаркетов \"Перекресток\". В \"Магните\" он с 15 января займет вакантную должность заместителя генерального директора - коммерческого директора. Но главным кадровым решением нового акционера \"Магнита\" стало назначение СЕО ритейлера Ольги Наумовой, которая пять лет возглавляла сеть магазинов \"у дома\" \"Пятерочка\" (магазины шаговой доступности - главный формат и для Х5, и для \"Магнита\"). Под ее руководством \"Пятерочка\" провела обновление магазинов, значительно ускорила темпы экспансии и роста выручки, что, в конце концов, позволило Х5 обогнать \"Магнит\" по объему продаж. В апреле Наумова ушла из Х5. В интервью \"Ведомостям\" она говорила, что сама приняла решение уйти из компании - \"из-за расхождений во взглядах на принципы и систему управления с нынешним менеджментом X5, а также из-за отсутствия у него как стратегического видения, так и поддержки реальных проектов развития бизнес-единицы и новых проектов\". Уже в мае, несмотря на шестимесячное ограничение на работу у конкурентов, предусмотренное в контрактах топ-менеджеров Х5, экс-глава \"Пятерочки\" перешла в \"Магнит\" и была назначена на должность исполнительного директора, созданную специально для нее. В июне Ольга Наумова стала главным исполнительным директором, а Хачатур Помбухчан, возглавивший \"Магнит\" в феврале после Галицкого, ушел из компании. В октябре компанию покинул последний заметный соратник ее основателя - Илья Саттаров. Задача новой команды \"Магнита\" - быть лучшими в каждом формате, благодаря чему стать самым сильным ритейлером в России, говорила Наумова. Для этого \"Магниту\" нужно новое и лучшее на рынке ценностное предложение (CVP, customer value proposition: преимущества - в цене, выборе товаров, сервисах - которые потребитель получает в магазине в обмен на свои деньги). В условиях, когда экстенсивный рост уже не дает прежних результатов, CVP стало словом года в российском ритейле - пожалуй, о нем больше всего говорили и \"Магнит\", и Х5. Главный исполнительный директор Х5 Игорь Шехтерман объяснял увольнение Ольги Наумовой разногласиями во взглядах на развитие \"Пятерочки\" в условиях изменившегося рынка. Замедление сети доказало, что ей нужны перемены, и если ранее команда \"Пятерочки\" была сфокусирована на росте, новому руководителю предстоит внедрить новый подход, который предполагает больший фокус на эффективность для поддержания прибыльного роста, говорил Шехтерман. Х5 планировала выбрать преемника Наумовой из пула внутренних кандидатов. Формально это условие соблюдено - на должность гендиректора \"Пятерочки\" в июне был назначен Сергей Гончаров, который с марта занимал пост директора по стратегии Х5. Но до этого, с 2013 года, он работал в \"Магните\", где возглавлял сеть магазинов дрогери \"Магнит Косметик\" и аптечный проект. Обновленную стратегию и ценностное предложение команда Х5 представила на capital markets day в октябре. Потребитель меняется: при сохраняющемся стремлении экономить, растут его требования к качеству продуктов и уровню сервиса, говорил тогда CEO X5. Но в компании понимали это и раньше: в 2013 году ритейлер начал обновлять сеть магазинов \"у дома\", ориентируясь на новый тип потребителей - \"бедных гедонистов\", как называла их Ольга Наумова еще во времена работы в Х5. Судя по всему, на них же теперь будет ориентироваться и \"Магнит\": \"Наши клиенты по-прежнему в массовом сегменте с минимальным доходом, но при этом это, конечно, люди, которые сегодня, в 2018 году, и завтра, в 2023 году, будут хотеть не просто магазин, который предлагает низкие цены, но и все больше и больше впечатлений, продуктов, ассортимента, позиций, миссии за те же деньги. Имея тот же самый кошелек, наш покупатель все более и более становится требовательным ко всему, что его окружает. Мы должны создавать для него дополнительные ценности\", - говорила Наумова уже в роли гендиректора \"Магнита\" на capital markets day в сентябре. Но у \"Пятерочки\" есть фора: она давно перестала позиционировать себя магазином-дискаунтером и обновила всю сеть к концу 2017 года (изменения коснулись как внешнего вида магазинов, организации торгового пространства, так и ассортимента, промо-политики). \"Нам уже удалось превратить \"Пятерочку\" из дискаунтера в магазин \"у дома\" с более привлекательным предложением для наших покупателей. Теперь мы занимаемся тем, что обновляем текущее CVP\", - говорил Игорь Шехтерман на \"дне инвестора\". По его словам, в последние два года предпочтения потребителя смещаются в сторону \"уникального и локального ассортимента\": высокой популярностью пользуются продукты для здорового питания, категории ready to eat и ready to cook. В Москве этот тренд заметнее всего. \"Мы реагируем на эти тенденции. В \"Пятерочке\" был запущен пилотный проект по адаптации ассортимента с учетом кластерных особенностей магазинов, в соответствии с их расположением, особенностей поведения потребителей, их доходов и с использованием аналитики big data\", - сообщил глава Х5. \"Последние несколько лет \"Пятерочка\" стремительно росла. Мы признаем, что такой рост повлек за собой ряд проблем, прежде всего, связанных с эффективностью, работе с которой в предыдущие годы не уделялось достаточно внимания. Фокус команды \"Пятерочки\" сегодня - это именно работа с эффективностью. Особое внимание уделяется работе с потерями и бизнес-процессами магазинов. Вместе с тем, сохраняется фокус на постоянную адаптацию CVP, в частности, ассортимента под локальные нужны клиента. Еще одно направление повышения эффективности - это, безусловно, промо: мы намерены нарастить отдачу от персонализированного промо, которое было запущено на базе нашей программы лояльности в этом году\", - рассказывал он в октябре. Х5 будет продолжать развитие сети \"Пятерочка\", придерживаясь принципов сбалансированного роста и снизит темпы открытия магазинов, чтобы повысить их качество: \"Это означает - (открывать) с большей эффективностью и без ущерба для показателя возврата инвестиций на капитал\". У \"Магнита\" нет задачи наращивать темпы открытия магазинов в 2019 году - он сосредоточится на программе обновления сети, отмечала Ольга Наумова. В 2018 году ритейлер планирует открыть 1,5 тыс. магазинов \"у дома\". К III кварталу около 48% магазинов сети работали в новом концепте. Ритейлер начал обновлять свои магазины \"у дома\" спустя примерно три года после рестарта \"Пятерочки\", но в итоге теперь может оказаться в выигрыше: если у Х5 рост выручки замедлялся по мере исчерпания эффекта от роста продаж обновленных магазинов к концу 2017 года, то \"Магнит\" может существенно ускориться на фоне низкой базы. Обновленные магазины \"у дома\" показывают \"достаточно хорошие\" результаты, говорила Наумова: сопоставимые продажи растут в среднем на 30% по сравнению с показателями тех же магазинов до реконструкции. Х5 в следующем году планирует открыть около 2 тыс. новых магазинов, из них около 1,8 тыс. \"Пятерочек\" (планы на 2018 год - 2,5 тыс. магазинов, что также предполагает замедление по сравнению с темпами 2017 года). Магазины \"у дома\" - главный формат \"Магнита\" и Х5 (по итогам девяти месяцев на его долю в структуре выручки компаний приходилось соответственно 74,4% и 78,5%). Это самый крупный сегмент на рынке продовольственного ритейла в России (4,5 трлн рублей по итогам 2017 года) и самый перспективный с точки зрения темпов роста (ожидаемые объем в 2021 году - 6,7 трлн рублей), свидетельствуют данные InfoLine, которые привела озвучила Х5 на capital markets day. Рост давления в сегменте Х5 ожидает, прежде всего, со стороны ближайшего конкурента, говорил глава компании. Планы \"Магнита\" на ближайшие пять лет весьма амбициозны: ритейлер планирует открыть около 9,4 тыс. магазинов \"у дома\", увеличив их сеть до 22,8 тыс. точек с 13,4 тыс. по итогам 2018 года. \"Магнит\", как и Х5, будет по-прежнему фокусироваться на развитии своего главного формата. Кроме того, обе компании видят перспективы в развитии супермаркетов. \"Магнит\" решил отказаться от гипермаркетов, падение выручки которых он так и не смог остановить, и переформатировать их в супермаркеты (бренды \"Семейный\" и \"Семейный плюс\"). В следующие пять лет ритейлер планирует открыть 0,4 тыс. таких магазинов, увеличив их число с 0,5 тыс. до 0,9 тыс. В непродовольственном сегменте \"Магнит\" хочет открыть 4,9 тыс. магазинов дрогери \"Магнит Косметик\" (сеть в результате вырастет с 4,4 тыс. магазинов в 2018 году до 9,3 тыс. в 2023). Кроме того, компания планирует открыть около 9 тыс. новых форматов: аптек, \"ультрамалых\" магазинов и магазинов cash & carry. Сейчас это пилотные проекты. Причем эти планы не учитывают совместный проект с \"Почтой России\". О сотрудничестве было объявлено в тот же день, что и о сделке Галицкого с ВТБ. В этом году \"Магнит\" и \"Почта\" открыли тестовые магазины в почтовых отделениях, пилот признан успешным, и в следующем году компании планируют открыть минимум 2 тыс. розничных точек. В целом для такого формата \"Почта\" считает подходящими минимум 30 тыс. своих отделений (там, где уже есть розничные услуги). Х5 же, в отличие от конкурента, сосредоточится на существующих форматах, в первую очередь, на магазинах \"у дома\" и супермаркетах, в развитии гипермаркетов компания будет придерживаться \"консервативного\" подхода. \"На разных этапах нашего развития в последние годы мы рассматривали возможности входа в другие форматы продуктовые и непродуктовые, но пришли к выводу, что прочие сегменты продуктового ритейла не являются привлекательными для нас с точки зрения дальнейшего роста, рентабельности и возврата на инвестиции. Чтобы лучше сосредоточить наши ресурсы, мы решили не развивать проект \"Перекресток Экспресс\" (это наш маленький формат), аптеки мы не рассматриваем как отдельное направление бизнеса, здесь мы работаем с партнерами и будем продолжать работать с партнерами\", - говорил CEO X5 Игорь Шехтерман. \"Мы считаем специализацию важным конкурентным преимуществом. Но мы не статичны: новые инновационные направления и сервисы, такие как онлайн, почтаматы, мы развиваем, уже их запустили\", - добавил он. Такое стремление к диверсификации вызвало опасения у инвесторов. Вопрос о том, не помешает ли это фокусироваться на операционных изменениях, прозвучал на Дне инвестора. Ольга Наумова заверила, что \"безусловным фокусом\" останется формат магазинов \"у дома\". \"Развитие остальных форматов будет осуществляться по определенному плану. Для каждого формата свой, хорошо продуманный с ресурсной точки зрения график\", - заявила она. Это не первая подобная претензия к \"Магниту\" - куда большей критике подверглась сделка по покупке фармдистрибьютора \"СИА Групп\". Владельцем СИА была Marathon Group Александра Винокурова, которая купила 11,8% акций \"Магнита\" в конце мая. В начале июня ритейлер объявил, что начал переговоры о покупке СИА. \"Магниту\" необходимо искать возможности для роста, но в то же время приоритетами должны быть негативная динамика в ключевых форматах и формирование управленческой структуры. Сделка с СИА в момент трансформации компании может стать серьезным отвлекающим фактором для топ-менеджмента, беспокоился миноритарий \"Магнита\" Prosperity Capital Management. И это совсем не тот случай, когда вопросы возникли только у главного \"активиста\": после объявления о сделке с новым акционером гул недовольства, местами переходящего в возмущение, охватил весь рынок. Покупка фармдистрибьютора нужна ради его логистических возможностей, а собственная логистика позволит иметь хорошую рентабельность, но строить самим долго и затратно, объяснял \"Магнит\". В итоге совет директоров ритейлера не с первой попытки, но одобрил сделку, и она была закрыта в конце ноября. \"Магнит\" расплатился за СИА собственными акциями (около 1,5%), которые он выкупил с Московской биржи. Сумма сделки была ограничена 5,7 млрд рублей. Продавец взял на себя обязательство не продавать акции \"Магнита\", полученные за актив, в течение минимум трех лет после завершения сделки. Решение развивать аптеки было ошибочным, считает гендиректор InfoLine Иван Федяков. Но если такое решение принято, покупка дистрибьютора - это шанс \"Магнита\" перекроить фармрынок, считает эксперт. В целом стратегию \"Магнита\" он называл крайне слабой: ритейлер собирается тратить силы на непрофильные форматы вместо того, чтобы сосредоточиться на развитии своих продовольственных магазинов и, прежде всего, улучшении их качества. Но он, по собственному признанию, сначала не верил и в стратегию Х5, когда компания только объявила о планируемом преобразовании. Пока \"Магнит\" только увеличивает отставание от Х5. Если по итогам 2017 года выручка Х5 превышала выручку \"Магнита\" на 13,2% (1, 295 трлн рублей против 1,143 трлн рублей), то по итогам девяти месяцев 2018 года - уже на 22,6% (1,109 трлн рублей против 905,374 млрд рублей). Выручка \"Магнита\" растет значительно медленнее, чем у конкурента: в III квартале - на 8,4% по сравнению с 17,6%. При этом с IV квартала 2016 года выручка показывает рост ниже 10%. Динамика сопоставимых продаж находится в отрицательной зоне (минус 2% в III квартале на фоне снижения среднего чека на 0,2% и покупательского трафика на 1,8%). Чистая прибыль \"Магнита\" снижается семь кварталов подряд. Первые результаты начавшейся трансформации бизнеса \"Магнит\" рассчитывает получить в четвертом квартале, а следующий год вполне может стать решающим в долгоиграющей истории дележа первого места в российском ритейле.',\n",
       "          [Span(27, 33, 'LOC'),\n",
       "           Span(45, 56, 'ORG'),\n",
       "           Span(140, 146, 'LOC'),\n",
       "           Span(202, 208, 'LOC'),\n",
       "           Span(367, 374, 'ORG'),\n",
       "           Span(465, 472, 'ORG'),\n",
       "           Span(495, 510, 'PER'),\n",
       "           Span(560, 563, 'ORG'),\n",
       "           Span(612, 618, 'ORG'),\n",
       "           Span(720, 735, 'ORG'),\n",
       "           Span(743, 752, 'ORG'),\n",
       "           Span(756, 767, 'ORG'),\n",
       "           Span(771, 779, 'ORG'),\n",
       "           Span(787, 795, 'PER'),\n",
       "           Span(821, 828, 'ORG'),\n",
       "           Span(1189, 1192, 'ORG'),\n",
       "           Span(1257, 1266, 'PER'),\n",
       "           Span(1399, 1402, 'ORG'),\n",
       "           Span(1792, 1799, 'ORG'),\n",
       "           Span(1872, 1880, 'PER'),\n",
       "           Span(1936, 1939, 'ORG'),\n",
       "           Span(1981, 1988, 'ORG'),\n",
       "           Span(2033, 2040, 'ORG'),\n",
       "           Span(2300, 2305, 'ORG'),\n",
       "           Span(2634, 2640, 'ORG'),\n",
       "           Span(2933, 2936, 'ORG'),\n",
       "           Span(2937, 2950, 'PER'),\n",
       "           Span(2980, 2988, 'PER'),\n",
       "           Span(3039, 3045, 'ORG'),\n",
       "           Span(3359, 3367, 'PER'),\n",
       "           Span(3416, 3423, 'ORG'),\n",
       "           Span(3602, 3604, 'ORG'),\n",
       "           Span(4251, 4258, 'ORG'),\n",
       "           Span(4354, 4360, 'ORG'),\n",
       "           Span(4617, 4623, 'ORG'),\n",
       "           Span(4674, 4676, 'ORG'),\n",
       "           Span(5131, 5133, 'ORG'),\n",
       "           Span(5134, 5153, 'PER'),\n",
       "           Span(5192, 5198, 'ORG'),\n",
       "           Span(5474, 5476, 'ORG'),\n",
       "           Span(5552, 5558, 'ORG'),\n",
       "           Span(5604, 5611, 'ORG'),\n",
       "           Span(5725, 5733, 'PER'),\n",
       "           Span(5748, 5751, 'ORG'),\n",
       "           Span(5828, 5835, 'ORG'),\n",
       "           Span(5837, 5852, 'PER'),\n",
       "           Span(5931, 5946, 'ORG'),\n",
       "           Span(5989, 5996, 'ORG'),\n",
       "           Span(6000, 6014, 'ORG'),\n",
       "           Span(6079, 6088, 'ORG'),\n",
       "           Span(6149, 6157, 'ORG'),\n",
       "           Span(6159, 6161, 'ORG'),\n",
       "           Span(6212, 6219, 'ORG'),\n",
       "           Span(6311, 6313, 'ORG'),\n",
       "           Span(6327, 6335, 'PER'),\n",
       "           Span(6359, 6374, 'PER'),\n",
       "           Span(6398, 6414, 'PER'),\n",
       "           Span(6455, 6461, 'ORG'),\n",
       "           Span(6463, 6481, 'PER'),\n",
       "           Span(6534, 6536, 'ORG'),\n",
       "           Span(6557, 6568, 'ORG'),\n",
       "           Span(6574, 6581, 'ORG'),\n",
       "           Span(6734, 6741, 'ORG'),\n",
       "           Span(6774, 6788, 'PER'),\n",
       "           Span(6844, 6853, 'ORG'),\n",
       "           Span(6919, 6926, 'ORG'),\n",
       "           Span(6951, 6960, 'ORG'),\n",
       "           Span(7077, 7079, 'ORG'),\n",
       "           Span(7090, 7096, 'ORG'),\n",
       "           Span(7125, 7132, 'PER'),\n",
       "           Span(7141, 7143, 'ORG'),\n",
       "           Span(7157, 7167, 'ORG'),\n",
       "           Span(7315, 7317, 'ORG'),\n",
       "           Span(7575, 7577, 'ORG'),\n",
       "           Span(7590, 7599, 'ORG'),\n",
       "           Span(7612, 7618, 'ORG'),\n",
       "           Span(7714, 7727, 'PER'),\n",
       "           Span(7771, 7788, 'PER'),\n",
       "           Span(7804, 7810, 'ORG'),\n",
       "           Span(7828, 7837, 'PER'),\n",
       "           Span(7928, 7941, 'PER'),\n",
       "           Span(7965, 7972, 'ORG'),\n",
       "           Span(8055, 8061, 'LOC'),\n",
       "           Span(8072, 8079, 'PER'),\n",
       "           Span(8092, 8099, 'ORG'),\n",
       "           Span(8372, 8375, 'ORG'),\n",
       "           Span(8457, 8463, 'ORG'),\n",
       "           Span(8468, 8470, 'ORG'),\n",
       "           Span(8507, 8522, 'PER'),\n",
       "           Span(8543, 8557, 'PER'),\n",
       "           Span(8597, 8606, 'ORG'),\n",
       "           Span(8711, 8720, 'ORG'),\n",
       "           Span(8899, 8908, 'PER'),\n",
       "           Span(8910, 8912, 'ORG'),\n",
       "           Span(8943, 8951, 'PER'),\n",
       "           Span(9044, 9053, 'ORG'),\n",
       "           Span(9075, 9090, 'PER'),\n",
       "           Span(9188, 9195, 'ORG'),\n",
       "           Span(9237, 9252, 'ORG'),\n",
       "           Span(9328, 9330, 'ORG'),\n",
       "           Span(9518, 9520, 'ORG'),\n",
       "           Span(9699, 9712, 'PER'),\n",
       "           Span(9798, 9804, 'ORG'),\n",
       "           Span(10301, 10308, 'PER'),\n",
       "           Span(10334, 10341, 'ORG'),\n",
       "           Span(10384, 10393, 'ORG'),\n",
       "           Span(10660, 10669, 'ORG'),\n",
       "           Span(10829, 10844, 'PER'),\n",
       "           Span(11094, 11100, 'LOC'),\n",
       "           Span(11163, 11172, 'ORG'),\n",
       "           Span(11411, 11413, 'ORG'),\n",
       "           Span(11441, 11450, 'ORG'),\n",
       "           Span(11655, 11664, 'ORG'),\n",
       "           Span(12133, 12135, 'ORG'),\n",
       "           Span(12168, 12177, 'ORG'),\n",
       "           Span(12408, 12415, 'ORG'),\n",
       "           Span(12535, 12548, 'PER'),\n",
       "           Span(12774, 12783, 'ORG'),\n",
       "           Span(12839, 12841, 'ORG'),\n",
       "           Span(12954, 12960, 'ORG'),\n",
       "           Span(13095, 13102, 'PER'),\n",
       "           Span(13212, 13214, 'ORG'),\n",
       "           Span(13303, 13312, 'ORG'),\n",
       "           Span(13460, 13467, 'ORG'),\n",
       "           Span(13648, 13654, 'LOC'),\n",
       "           Span(13815, 13823, 'ORG'),\n",
       "           Span(13993, 14000, 'ORG'),\n",
       "           Span(14175, 14181, 'ORG'),\n",
       "           Span(14334, 14340, 'ORG'),\n",
       "           Span(14477, 14485, 'ORG'),\n",
       "           Span(14490, 14503, 'ORG'),\n",
       "           Span(14654, 14660, 'ORG'),\n",
       "           Span(14704, 14719, 'ORG'),\n",
       "           Span(15008, 15021, 'ORG'),\n",
       "           Span(15086, 15095, 'PER'),\n",
       "           Span(15098, 15101, 'ORG'),\n",
       "           Span(15116, 15122, 'ORG'),\n",
       "           Span(15127, 15132, 'ORG'),\n",
       "           Span(15313, 15318, 'ORG'),\n",
       "           Span(15410, 15412, 'ORG'),\n",
       "           Span(16198, 16200, 'ORG'),\n",
       "           Span(16201, 16216, 'PER'),\n",
       "           Span(16586, 16599, 'PER'),\n",
       "           Span(16877, 16884, 'ORG'),\n",
       "           Span(16958, 16967, 'ORG'),\n",
       "           Span(16981, 16984, 'ORG'),\n",
       "           Span(16990, 17004, 'ORG'),\n",
       "           Span(17005, 17026, 'PER'),\n",
       "           Span(17056, 17063, 'ORG'),\n",
       "           Span(17141, 17144, 'ORG'),\n",
       "           Span(17147, 17154, 'ORG'),\n",
       "           Span(17329, 17332, 'ORG'),\n",
       "           Span(17454, 17461, 'ORG'),\n",
       "           Span(17463, 17492, 'ORG'),\n",
       "           Span(17871, 17877, 'ORG'),\n",
       "           Span(17991, 17997, 'ORG'),\n",
       "           Span(18014, 18017, 'ORG'),\n",
       "           Span(18074, 18090, 'ORG'),\n",
       "           Span(18194, 18201, 'ORG'),\n",
       "           Span(18338, 18346, 'ORG'),\n",
       "           Span(18347, 18359, 'PER'),\n",
       "           Span(18426, 18433, 'ORG'),\n",
       "           Span(18493, 18500, 'ORG'),\n",
       "           Span(18842, 18848, 'ORG'),\n",
       "           Span(18920, 18922, 'ORG'),\n",
       "           Span(18942, 18949, 'ORG'),\n",
       "           Span(19117, 19124, 'ORG'),\n",
       "           Span(19464, 19471, 'ORG'),\n",
       "           Span(19558, 19564, 'ORG')])"
      ]
     },
     "metadata": {},
     "output_type": "display_data"
    },
    {
     "name": "stdout",
     "output_type": "stream",
     "text": [
      "[(0, 6, 'LOC'), (18, 29, 'ORG'), (81, 94, 'LOC'), (216, 233, 'PER'), (625, 644, 'LOC'), (645, 661, 'PER'), (864, 876, 'LOC'), (943, 956, 'LOC'), (1075, 1087, 'LOC'), (1143, 1156, 'LOC'), (1463, 1481, 'ORG'), (1482, 1485, 'ORG'), (1486, 1492, 'LOC'), (1496, 1515, 'LOC'), (1605, 1624, 'LOC')]\n"
     ]
    },
    {
     "data": {
      "text/html": [
       "<div class=\"tex2jax_ignore\" style=\"white-space: pre-wrap\"><span style=\"padding: 2px; border-radius: 4px; border: 1px solid #c8e6c9; background: #e8f5e9\">Москва<span style=\"vertical-align: middle; margin-left: 2px; font-size: 0.7em; color: #66bb6a;\">LOC</span></span>. 1 января. <span style=\"padding: 2px; border-radius: 4px; border: 1px solid #ffcdd2; background: #ffebee\">INTERFAX.RU<span style=\"vertical-align: middle; margin-left: 2px; font-size: 0.7em; color: #e57373;\">ORG</span></span> - Госпитализированный после взрыва бытового газа в <span style=\"padding: 2px; border-radius: 4px; border: 1px solid #c8e6c9; background: #e8f5e9\">Магнитогорске<span style=\"vertical-align: middle; margin-left: 2px; font-size: 0.7em; color: #66bb6a;\">LOC</span></span> 13-летний мальчик может быть выписан через неделю, сообщил журналистам врач-реаниматолог магнитогорской детской больницы <span style=\"padding: 2px; border-radius: 4px; border: 1px solid #bbdefb; background: #e3f2fd\">Максим Курятников<span style=\"vertical-align: middle; margin-left: 2px; font-size: 0.7em; color: #64b5f6;\">PER</span></span> во вторник. \"Пострадавший чувствует себя хорошо, состояние средней тяжести, отмечается положительная динамика в лечении. Уже через неделю он может быть выписан\", - сказал врач. Он уточнил, что ребенок поступил в больницу с ушибом головного мозга, мягких тканей и обморожением стоп. Он достаточно быстро был извлечен из поврежденной взрывом конструкции. Во вторник ребенка посетил губернатор <span style=\"padding: 2px; border-radius: 4px; border: 1px solid #c8e6c9; background: #e8f5e9\">Челябинской области<span style=\"vertical-align: middle; margin-left: 2px; font-size: 0.7em; color: #66bb6a;\">LOC</span></span> <span style=\"padding: 2px; border-radius: 4px; border: 1px solid #bbdefb; background: #e3f2fd\">Борис Дубровский<span style=\"vertical-align: middle; margin-left: 2px; font-size: 0.7em; color: #64b5f6;\">PER</span></span>. Ранее сообщалось, что 65-летняя бабушка подростка также госпитализирована в состоянии средней тяжести. Всего госпитализированы пять человек, из них четверо взрослые. Самый тяжелый, 36-летний гражданин <span style=\"padding: 2px; border-radius: 4px; border: 1px solid #c8e6c9; background: #e8f5e9\">Таджикистана<span style=\"vertical-align: middle; margin-left: 2px; font-size: 0.7em; color: #66bb6a;\">LOC</span></span>, прооперирован и находится в реанимации, прогноз благоприятный. В <span style=\"padding: 2px; border-radius: 4px; border: 1px solid #c8e6c9; background: #e8f5e9\">Магнитогорске<span style=\"vertical-align: middle; margin-left: 2px; font-size: 0.7em; color: #66bb6a;\">LOC</span></span> утром 31 декабря из-за взрыва бытового газа произошло обрушение одного из подъездов десятиэтажного по адресу проспект <span style=\"padding: 2px; border-radius: 4px; border: 1px solid #c8e6c9; background: #e8f5e9\">Карла Маркса<span style=\"vertical-align: middle; margin-left: 2px; font-size: 0.7em; color: #66bb6a;\">LOC</span></span>, 164. По последним данным, количество жертв трагедии в <span style=\"padding: 2px; border-radius: 4px; border: 1px solid #c8e6c9; background: #e8f5e9\">Магнитогорске<span style=\"vertical-align: middle; margin-left: 2px; font-size: 0.7em; color: #66bb6a;\">LOC</span></span> составило восемь человек , детей среди них нет. Остается неизвестной судьба 36 человек. С момента начала поисково-спасательной операции удалось спасти пять человек, в том числе ребенка, все пострадавшие госпитализированы. В настоящее время спасатели демонтируют стену подъезда из-за угрозы ее обрушения. В <span style=\"padding: 2px; border-radius: 4px; border: 1px solid #ffcdd2; background: #ffebee\">Главном управлении<span style=\"vertical-align: middle; margin-left: 2px; font-size: 0.7em; color: #e57373;\">ORG</span></span> <span style=\"padding: 2px; border-radius: 4px; border: 1px solid #ffcdd2; background: #ffebee\">МЧС<span style=\"vertical-align: middle; margin-left: 2px; font-size: 0.7em; color: #e57373;\">ORG</span></span> <span style=\"padding: 2px; border-radius: 4px; border: 1px solid #c8e6c9; background: #e8f5e9\">России<span style=\"vertical-align: middle; margin-left: 2px; font-size: 0.7em; color: #66bb6a;\">LOC</span></span> по <span style=\"padding: 2px; border-radius: 4px; border: 1px solid #c8e6c9; background: #e8f5e9\">Челябинской области<span style=\"vertical-align: middle; margin-left: 2px; font-size: 0.7em; color: #66bb6a;\">LOC</span></span> продолжает действовать телефон \"горячей линии\" (8-351-239-99-99) . В связи с трагедией в <span style=\"padding: 2px; border-radius: 4px; border: 1px solid #c8e6c9; background: #e8f5e9\">Челябинской области<span style=\"vertical-align: middle; margin-left: 2px; font-size: 0.7em; color: #66bb6a;\">LOC</span></span> 2 января объявлен траур.</div>"
      ],
      "text/plain": [
       "BoxMarkup('Москва. 1 января. INTERFAX.RU - Госпитализированный после взрыва бытового газа в Магнитогорске 13-летний мальчик может быть выписан через неделю, сообщил журналистам врач-реаниматолог магнитогорской детской больницы Максим Курятников во вторник. \"Пострадавший чувствует себя хорошо, состояние средней тяжести, отмечается положительная динамика в лечении. Уже через неделю он может быть выписан\", - сказал врач. Он уточнил, что ребенок поступил в больницу с ушибом головного мозга, мягких тканей и обморожением стоп. Он достаточно быстро был извлечен из поврежденной взрывом конструкции. Во вторник ребенка посетил губернатор Челябинской области Борис Дубровский. Ранее сообщалось, что 65-летняя бабушка подростка также госпитализирована в состоянии средней тяжести. Всего госпитализированы пять человек, из них четверо взрослые. Самый тяжелый, 36-летний гражданин Таджикистана, прооперирован и находится в реанимации, прогноз благоприятный. В Магнитогорске утром 31 декабря из-за взрыва бытового газа произошло обрушение одного из подъездов десятиэтажного по адресу проспект Карла Маркса, 164. По последним данным, количество жертв трагедии в Магнитогорске составило восемь человек , детей среди них нет. Остается неизвестной судьба 36 человек. С момента начала поисково-спасательной операции удалось спасти пять человек, в том числе ребенка, все пострадавшие госпитализированы. В настоящее время спасатели демонтируют стену подъезда из-за угрозы ее обрушения. В Главном управлении МЧС России по Челябинской области продолжает действовать телефон \"горячей линии\" (8-351-239-99-99) . В связи с трагедией в Челябинской области 2 января объявлен траур.',\n",
       "          [Span(0, 6, 'LOC'),\n",
       "           Span(18, 29, 'ORG'),\n",
       "           Span(81, 94, 'LOC'),\n",
       "           Span(216, 233, 'PER'),\n",
       "           Span(625, 644, 'LOC'),\n",
       "           Span(645, 661, 'PER'),\n",
       "           Span(864, 876, 'LOC'),\n",
       "           Span(943, 956, 'LOC'),\n",
       "           Span(1075, 1087, 'LOC'),\n",
       "           Span(1143, 1156, 'LOC'),\n",
       "           Span(1463, 1481, 'ORG'),\n",
       "           Span(1482, 1485, 'ORG'),\n",
       "           Span(1486, 1492, 'LOC'),\n",
       "           Span(1496, 1515, 'LOC'),\n",
       "           Span(1605, 1624, 'LOC')])"
      ]
     },
     "metadata": {},
     "output_type": "display_data"
    },
    {
     "name": "stdout",
     "output_type": "stream",
     "text": [
      "[(0, 6, 'LOC'), (18, 29, 'ORG'), (62, 66, 'LOC'), (69, 75, 'LOC'), (103, 113, 'ORG'), (144, 152, 'LOC'), (268, 274, 'LOC'), (593, 601, 'LOC')]\n"
     ]
    },
    {
     "data": {
      "text/html": [
       "<div class=\"tex2jax_ignore\" style=\"white-space: pre-wrap\"><span style=\"padding: 2px; border-radius: 4px; border: 1px solid #c8e6c9; background: #e8f5e9\">Москва<span style=\"vertical-align: middle; margin-left: 2px; font-size: 0.7em; color: #66bb6a;\">LOC</span></span>. 1 января. <span style=\"padding: 2px; border-radius: 4px; border: 1px solid #ffcdd2; background: #ffebee\">INTERFAX.RU<span style=\"vertical-align: middle; margin-left: 2px; font-size: 0.7em; color: #e57373;\">ORG</span></span> - Дебош в бизнес-классе лайнера <span style=\"padding: 2px; border-radius: 4px; border: 1px solid #c8e6c9; background: #e8f5e9\">Сочи<span style=\"vertical-align: middle; margin-left: 2px; font-size: 0.7em; color: #66bb6a;\">LOC</span></span> - <span style=\"padding: 2px; border-radius: 4px; border: 1px solid #c8e6c9; background: #e8f5e9\">Москва<span style=\"vertical-align: middle; margin-left: 2px; font-size: 0.7em; color: #66bb6a;\">LOC</span></span> устроил хоккеист, сообщил \"<span style=\"padding: 2px; border-radius: 4px; border: 1px solid #ffcdd2; background: #ffebee\">Интерфаксу<span style=\"vertical-align: middle; margin-left: 2px; font-size: 0.7em; color: #e57373;\">ORG</span></span>\" источник в службах аэропорта <span style=\"padding: 2px; border-radius: 4px; border: 1px solid #c8e6c9; background: #e8f5e9\">Воронежа<span style=\"vertical-align: middle; margin-left: 2px; font-size: 0.7em; color: #66bb6a;\">LOC</span></span>. \"Удалось установить личность задержанного за дебош мужчины. Им оказался известный российский хоккеист, играющий в <span style=\"padding: 2px; border-radius: 4px; border: 1px solid #c8e6c9; background: #e8f5e9\">России<span style=\"vertical-align: middle; margin-left: 2px; font-size: 0.7em; color: #66bb6a;\">LOC</span></span> и за рубежом\", - сказал он. Во время полета мужчина злоупотребил алкоголем и ударил бортпроводницу, когда та отказала ему в очередной порции виски. \"Кроме того, мужчина подрался с соседом по креслу\", - сказал источник. Ранее сообщалось, что из-за дебоша полет лайнера пришлось экстренно прервать и совершить посадку в <span style=\"padding: 2px; border-radius: 4px; border: 1px solid #c8e6c9; background: #e8f5e9\">Воронеже<span style=\"vertical-align: middle; margin-left: 2px; font-size: 0.7em; color: #66bb6a;\">LOC</span></span>.</div>"
      ],
      "text/plain": [
       "BoxMarkup('Москва. 1 января. INTERFAX.RU - Дебош в бизнес-классе лайнера Сочи - Москва устроил хоккеист, сообщил \"Интерфаксу\" источник в службах аэропорта Воронежа. \"Удалось установить личность задержанного за дебош мужчины. Им оказался известный российский хоккеист, играющий в России и за рубежом\", - сказал он. Во время полета мужчина злоупотребил алкоголем и ударил бортпроводницу, когда та отказала ему в очередной порции виски. \"Кроме того, мужчина подрался с соседом по креслу\", - сказал источник. Ранее сообщалось, что из-за дебоша полет лайнера пришлось экстренно прервать и совершить посадку в Воронеже.',\n",
       "          [Span(0, 6, 'LOC'),\n",
       "           Span(18, 29, 'ORG'),\n",
       "           Span(62, 66, 'LOC'),\n",
       "           Span(69, 75, 'LOC'),\n",
       "           Span(103, 113, 'ORG'),\n",
       "           Span(144, 152, 'LOC'),\n",
       "           Span(268, 274, 'LOC'),\n",
       "           Span(593, 601, 'LOC')])"
      ]
     },
     "metadata": {},
     "output_type": "display_data"
    },
    {
     "name": "stdout",
     "output_type": "stream",
     "text": [
      "[(0, 6, 'LOC'), (18, 29, 'ORG'), (45, 51, 'LOC'), (141, 151, 'ORG'), (292, 298, 'LOC')]\n"
     ]
    },
    {
     "data": {
      "text/html": [
       "<div class=\"tex2jax_ignore\" style=\"white-space: pre-wrap\"><span style=\"padding: 2px; border-radius: 4px; border: 1px solid #c8e6c9; background: #e8f5e9\">Москва<span style=\"vertical-align: middle; margin-left: 2px; font-size: 0.7em; color: #66bb6a;\">LOC</span></span>. 1 января. <span style=\"padding: 2px; border-radius: 4px; border: 1px solid #ffcdd2; background: #ffebee\">INTERFAX.RU<span style=\"vertical-align: middle; margin-left: 2px; font-size: 0.7em; color: #e57373;\">ORG</span></span> - Проходящий в <span style=\"padding: 2px; border-radius: 4px; border: 1px solid #c8e6c9; background: #e8f5e9\">Москве<span style=\"vertical-align: middle; margin-left: 2px; font-size: 0.7em; color: #66bb6a;\">LOC</span></span> с 14 декабря фестиваль \"Путешествие в Рождество\" уже посетили 8,3 млн человек, сообщили \"<span style=\"padding: 2px; border-radius: 4px; border: 1px solid #ffcdd2; background: #ffebee\">Интерфаксу<span style=\"vertical-align: middle; margin-left: 2px; font-size: 0.7em; color: #e57373;\">ORG</span></span>\" в оргкомитете цикла городских уличных мероприятий \"Московские сезоны\" во вторник. \"Фестиваль проходит на 78 площадках в центре и в округах <span style=\"padding: 2px; border-radius: 4px; border: 1px solid #c8e6c9; background: #e8f5e9\">Москвы<span style=\"vertical-align: middle; margin-left: 2px; font-size: 0.7em; color: #66bb6a;\">LOC</span></span>. Новый год также можно было встретить на площадках фестиваля \"Путешествие в Рождество\". Масштабная новогодняя программа продолжится 1 и 2 января\", - сказал собеседник агентства. Он отметил, что с 14 декабря в рамках фестиваля было организовано 3 тыс. 850 мастер-классов, в которых приняли участие более 37 тыс. человек, а также проведено 510 показов уличных театральных представлений, которые посмотрели более 99 тыс. человек. Кроме того, в спортивных активностях - таких, как мастер-классы по керлингу и сноубордингу, а также в подвижных играх - поучаствовали более 59,5 тыс. человек. Фестиваль \"Путешествие в Рождество\" завершится 13 января.</div>"
      ],
      "text/plain": [
       "BoxMarkup('Москва. 1 января. INTERFAX.RU - Проходящий в Москве с 14 декабря фестиваль \"Путешествие в Рождество\" уже посетили 8,3 млн человек, сообщили \"Интерфаксу\" в оргкомитете цикла городских уличных мероприятий \"Московские сезоны\" во вторник. \"Фестиваль проходит на 78 площадках в центре и в округах Москвы. Новый год также можно было встретить на площадках фестиваля \"Путешествие в Рождество\". Масштабная новогодняя программа продолжится 1 и 2 января\", - сказал собеседник агентства. Он отметил, что с 14 декабря в рамках фестиваля было организовано 3 тыс. 850 мастер-классов, в которых приняли участие более 37 тыс. человек, а также проведено 510 показов уличных театральных представлений, которые посмотрели более 99 тыс. человек. Кроме того, в спортивных активностях - таких, как мастер-классы по керлингу и сноубордингу, а также в подвижных играх - поучаствовали более 59,5 тыс. человек. Фестиваль \"Путешествие в Рождество\" завершится 13 января.',\n",
       "          [Span(0, 6, 'LOC'),\n",
       "           Span(18, 29, 'ORG'),\n",
       "           Span(45, 51, 'LOC'),\n",
       "           Span(141, 151, 'ORG'),\n",
       "           Span(292, 298, 'LOC')])"
      ]
     },
     "metadata": {},
     "output_type": "display_data"
    },
    {
     "name": "stdout",
     "output_type": "stream",
     "text": [
      "[(0, 6, 'LOC'), (18, 29, 'ORG'), (40, 65, 'LOC'), (188, 198, 'ORG'), (337, 344, 'LOC'), (349, 359, 'LOC'), (404, 416, 'LOC'), (421, 431, 'LOC'), (524, 534, 'ORG'), (538, 554, 'ORG'), (558, 569, 'ORG'), (573, 585, 'ORG'), (589, 601, 'ORG'), (605, 617, 'ORG'), (622, 632, 'ORG'), (707, 709, 'ORG'), (737, 747, 'ORG'), (751, 767, 'ORG'), (771, 782, 'ORG'), (787, 799, 'ORG'), (896, 906, 'ORG'), (1175, 1185, 'ORG'), (1203, 1289, 'ORG'), (1352, 1361, 'LOC'), (1363, 1381, 'LOC'), (1383, 1392, 'LOC'), (1394, 1403, 'LOC'), (1406, 1420, 'LOC')]\n"
     ]
    },
    {
     "data": {
      "text/html": [
       "<div class=\"tex2jax_ignore\" style=\"white-space: pre-wrap\"><span style=\"padding: 2px; border-radius: 4px; border: 1px solid #c8e6c9; background: #e8f5e9\">Москва<span style=\"vertical-align: middle; margin-left: 2px; font-size: 0.7em; color: #66bb6a;\">LOC</span></span>. 1 января. <span style=\"padding: 2px; border-radius: 4px; border: 1px solid #ffcdd2; background: #ffebee\">INTERFAX.RU<span style=\"vertical-align: middle; margin-left: 2px; font-size: 0.7em; color: #e57373;\">ORG</span></span> - Участок <span style=\"padding: 2px; border-radius: 4px; border: 1px solid #c8e6c9; background: #e8f5e9\">Арбатско-Покровской линии<span style=\"vertical-align: middle; margin-left: 2px; font-size: 0.7em; color: #66bb6a;\">LOC</span></span> от станции \"Курская\" до станции \"Щелковская\" в новогодние каникулы закрывается для модернизации инфраструктуры, сообщили \"<span style=\"padding: 2px; border-radius: 4px; border: 1px solid #ffcdd2; background: #ffebee\">Интерфаксу<span style=\"vertical-align: middle; margin-left: 2px; font-size: 0.7em; color: #e57373;\">ORG</span></span>\" в пресс-службе столичного метро. \"Плановые работы будут проходить круглосуточно. Для этого со 2 по 5 января включительно закрыт участок \"<span style=\"padding: 2px; border-radius: 4px; border: 1px solid #c8e6c9; background: #e8f5e9\">Курская<span style=\"vertical-align: middle; margin-left: 2px; font-size: 0.7em; color: #66bb6a;\">LOC</span></span>\" - \"<span style=\"padding: 2px; border-radius: 4px; border: 1px solid #c8e6c9; background: #e8f5e9\">Щелковская<span style=\"vertical-align: middle; margin-left: 2px; font-size: 0.7em; color: #66bb6a;\">LOC</span></span>\", а с 6 по 8 января включительно - участок \"<span style=\"padding: 2px; border-radius: 4px; border: 1px solid #c8e6c9; background: #e8f5e9\">Партизанская<span style=\"vertical-align: middle; margin-left: 2px; font-size: 0.7em; color: #66bb6a;\">LOC</span></span>\" - \"<span style=\"padding: 2px; border-radius: 4px; border: 1px solid #c8e6c9; background: #e8f5e9\">Щелковская<span style=\"vertical-align: middle; margin-left: 2px; font-size: 0.7em; color: #66bb6a;\">LOC</span></span>\", - сказал представитель пресс-службы. Он уточнил, что с 5:30 2 января закрываются станции \"<span style=\"padding: 2px; border-radius: 4px; border: 1px solid #ffcdd2; background: #ffebee\">Бауманская<span style=\"vertical-align: middle; margin-left: 2px; font-size: 0.7em; color: #e57373;\">ORG</span></span>\", \"<span style=\"padding: 2px; border-radius: 4px; border: 1px solid #ffcdd2; background: #ffebee\">Электрозаводская<span style=\"vertical-align: middle; margin-left: 2px; font-size: 0.7em; color: #e57373;\">ORG</span></span>\", \"<span style=\"padding: 2px; border-radius: 4px; border: 1px solid #ffcdd2; background: #ffebee\">Семеновская<span style=\"vertical-align: middle; margin-left: 2px; font-size: 0.7em; color: #e57373;\">ORG</span></span>\", \"<span style=\"padding: 2px; border-radius: 4px; border: 1px solid #ffcdd2; background: #ffebee\">Партизанская<span style=\"vertical-align: middle; margin-left: 2px; font-size: 0.7em; color: #e57373;\">ORG</span></span>\", \"<span style=\"padding: 2px; border-radius: 4px; border: 1px solid #ffcdd2; background: #ffebee\">Измайловская<span style=\"vertical-align: middle; margin-left: 2px; font-size: 0.7em; color: #e57373;\">ORG</span></span>\", \"<span style=\"padding: 2px; border-radius: 4px; border: 1px solid #ffcdd2; background: #ffebee\">Первомайская<span style=\"vertical-align: middle; margin-left: 2px; font-size: 0.7em; color: #e57373;\">ORG</span></span>\" и \"<span style=\"padding: 2px; border-radius: 4px; border: 1px solid #ffcdd2; background: #ffebee\">Щелковская<span style=\"vertical-align: middle; margin-left: 2px; font-size: 0.7em; color: #e57373;\">ORG</span></span>\". Пассажиры смогут доехать до них на бесплатных компенсационных автобусах <span style=\"padding: 2px; border-radius: 4px; border: 1px solid #ffcdd2; background: #ffebee\">КМ<span style=\"vertical-align: middle; margin-left: 2px; font-size: 0.7em; color: #e57373;\">ORG</span></span>. В обычном режиме станции \"<span style=\"padding: 2px; border-radius: 4px; border: 1px solid #ffcdd2; background: #ffebee\">Бауманская<span style=\"vertical-align: middle; margin-left: 2px; font-size: 0.7em; color: #e57373;\">ORG</span></span>\", \"<span style=\"padding: 2px; border-radius: 4px; border: 1px solid #ffcdd2; background: #ffebee\">Электрозаводская<span style=\"vertical-align: middle; margin-left: 2px; font-size: 0.7em; color: #e57373;\">ORG</span></span>\", \"<span style=\"padding: 2px; border-radius: 4px; border: 1px solid #ffcdd2; background: #ffebee\">Семеновская<span style=\"vertical-align: middle; margin-left: 2px; font-size: 0.7em; color: #e57373;\">ORG</span></span>\" и \"<span style=\"padding: 2px; border-radius: 4px; border: 1px solid #ffcdd2; background: #ffebee\">Партизанская<span style=\"vertical-align: middle; margin-left: 2px; font-size: 0.7em; color: #e57373;\">ORG</span></span>\" возобновят работу с открытия метрополитена 6 января. Станции \"Измайловская\", \"Первомайская\" и \"<span style=\"padding: 2px; border-radius: 4px; border: 1px solid #ffcdd2; background: #ffebee\">Щелковская<span style=\"vertical-align: middle; margin-left: 2px; font-size: 0.7em; color: #e57373;\">ORG</span></span>\" вновь откроются для пассажиров в 5:30 9 января, пояснили в пресс-службе. \"Модернизация необходима для обеспечения безопасности движения поездов и повышения стабильности работы инфраструктуры на одной из старейших линий столичного метрополитена\", - заявил собеседник \"<span style=\"padding: 2px; border-radius: 4px; border: 1px solid #ffcdd2; background: #ffebee\">Интерфакса<span style=\"vertical-align: middle; margin-left: 2px; font-size: 0.7em; color: #e57373;\">ORG</span></span>\". В пресс-службе <span style=\"padding: 2px; border-radius: 4px; border: 1px solid #ffcdd2; background: #ffebee\">ЦОДД агентству уточнили, что в связи с временным закрытием участка Арбатско-Покровской<span style=\"vertical-align: middle; margin-left: 2px; font-size: 0.7em; color: #e57373;\">ORG</span></span> линии метро изменится схема движения автотранспорта в районах <span style=\"padding: 2px; border-radius: 4px; border: 1px solid #c8e6c9; background: #e8f5e9\">Басманный<span style=\"vertical-align: middle; margin-left: 2px; font-size: 0.7em; color: #66bb6a;\">LOC</span></span>, <span style=\"padding: 2px; border-radius: 4px; border: 1px solid #c8e6c9; background: #e8f5e9\">Северное Измайлово<span style=\"vertical-align: middle; margin-left: 2px; font-size: 0.7em; color: #66bb6a;\">LOC</span></span>, <span style=\"padding: 2px; border-radius: 4px; border: 1px solid #c8e6c9; background: #e8f5e9\">Измайлово<span style=\"vertical-align: middle; margin-left: 2px; font-size: 0.7em; color: #66bb6a;\">LOC</span></span>, <span style=\"padding: 2px; border-radius: 4px; border: 1px solid #c8e6c9; background: #e8f5e9\">Гольяново<span style=\"vertical-align: middle; margin-left: 2px; font-size: 0.7em; color: #66bb6a;\">LOC</span></span> и <span style=\"padding: 2px; border-radius: 4px; border: 1px solid #c8e6c9; background: #e8f5e9\">Соколиная Гора<span style=\"vertical-align: middle; margin-left: 2px; font-size: 0.7em; color: #66bb6a;\">LOC</span></span>. Приоритет будет отдан общественному транспорту, который обеспечит перевозку пассажиров между неработающими станциями.</div>"
      ],
      "text/plain": [
       "BoxMarkup('Москва. 1 января. INTERFAX.RU - Участок Арбатско-Покровской линии от станции \"Курская\" до станции \"Щелковская\" в новогодние каникулы закрывается для модернизации инфраструктуры, сообщили \"Интерфаксу\" в пресс-службе столичного метро. \"Плановые работы будут проходить круглосуточно. Для этого со 2 по 5 января включительно закрыт участок \"Курская\" - \"Щелковская\", а с 6 по 8 января включительно - участок \"Партизанская\" - \"Щелковская\", - сказал представитель пресс-службы. Он уточнил, что с 5:30 2 января закрываются станции \"Бауманская\", \"Электрозаводская\", \"Семеновская\", \"Партизанская\", \"Измайловская\", \"Первомайская\" и \"Щелковская\". Пассажиры смогут доехать до них на бесплатных компенсационных автобусах КМ. В обычном режиме станции \"Бауманская\", \"Электрозаводская\", \"Семеновская\" и \"Партизанская\" возобновят работу с открытия метрополитена 6 января. Станции \"Измайловская\", \"Первомайская\" и \"Щелковская\" вновь откроются для пассажиров в 5:30 9 января, пояснили в пресс-службе. \"Модернизация необходима для обеспечения безопасности движения поездов и повышения стабильности работы инфраструктуры на одной из старейших линий столичного метрополитена\", - заявил собеседник \"Интерфакса\". В пресс-службе ЦОДД агентству уточнили, что в связи с временным закрытием участка Арбатско-Покровской линии метро изменится схема движения автотранспорта в районах Басманный, Северное Измайлово, Измайлово, Гольяново и Соколиная Гора. Приоритет будет отдан общественному транспорту, который обеспечит перевозку пассажиров между неработающими станциями.',\n",
       "          [Span(0, 6, 'LOC'),\n",
       "           Span(18, 29, 'ORG'),\n",
       "           Span(40, 65, 'LOC'),\n",
       "           Span(188, 198, 'ORG'),\n",
       "           Span(337, 344, 'LOC'),\n",
       "           Span(349, 359, 'LOC'),\n",
       "           Span(404, 416, 'LOC'),\n",
       "           Span(421, 431, 'LOC'),\n",
       "           Span(524, 534, 'ORG'),\n",
       "           Span(538, 554, 'ORG'),\n",
       "           Span(558, 569, 'ORG'),\n",
       "           Span(573, 585, 'ORG'),\n",
       "           Span(589, 601, 'ORG'),\n",
       "           Span(605, 617, 'ORG'),\n",
       "           Span(622, 632, 'ORG'),\n",
       "           Span(707, 709, 'ORG'),\n",
       "           Span(737, 747, 'ORG'),\n",
       "           Span(751, 767, 'ORG'),\n",
       "           Span(771, 782, 'ORG'),\n",
       "           Span(787, 799, 'ORG'),\n",
       "           Span(896, 906, 'ORG'),\n",
       "           Span(1175, 1185, 'ORG'),\n",
       "           Span(1203, 1289, 'ORG'),\n",
       "           Span(1352, 1361, 'LOC'),\n",
       "           Span(1363, 1381, 'LOC'),\n",
       "           Span(1383, 1392, 'LOC'),\n",
       "           Span(1394, 1403, 'LOC'),\n",
       "           Span(1406, 1420, 'LOC')])"
      ]
     },
     "metadata": {},
     "output_type": "display_data"
    },
    {
     "name": "stdout",
     "output_type": "stream",
     "text": [
      "[(0, 6, 'LOC'), (18, 29, 'ORG'), (47, 49, 'ORG'), (50, 52, 'LOC'), (83, 94, 'ORG'), (98, 105, 'ORG'), (210, 218, 'ORG'), (220, 235, 'PER'), (431, 439, 'PER'), (499, 501, 'ORG'), (502, 504, 'LOC'), (557, 565, 'ORG'), (573, 610, 'ORG'), (661, 669, 'ORG')]\n"
     ]
    },
    {
     "data": {
      "text/html": [
       "<div class=\"tex2jax_ignore\" style=\"white-space: pre-wrap\"><span style=\"padding: 2px; border-radius: 4px; border: 1px solid #c8e6c9; background: #e8f5e9\">Москва<span style=\"vertical-align: middle; margin-left: 2px; font-size: 0.7em; color: #66bb6a;\">LOC</span></span>. 1 января. <span style=\"padding: 2px; border-radius: 4px; border: 1px solid #ffcdd2; background: #ffebee\">INTERFAX.RU<span style=\"vertical-align: middle; margin-left: 2px; font-size: 0.7em; color: #e57373;\">ORG</span></span> - Две санируемых <span style=\"padding: 2px; border-radius: 4px; border: 1px solid #ffcdd2; background: #ffebee\">ЦБ<span style=\"vertical-align: middle; margin-left: 2px; font-size: 0.7em; color: #e57373;\">ORG</span></span> <span style=\"padding: 2px; border-radius: 4px; border: 1px solid #c8e6c9; background: #e8f5e9\">РФ<span style=\"vertical-align: middle; margin-left: 2px; font-size: 0.7em; color: #66bb6a;\">LOC</span></span> кредитных организации - банк \"<span style=\"padding: 2px; border-radius: 4px; border: 1px solid #ffcdd2; background: #ffebee\">ФК Открытие<span style=\"vertical-align: middle; margin-left: 2px; font-size: 0.7em; color: #e57373;\">ORG</span></span>\" и <span style=\"padding: 2px; border-radius: 4px; border: 1px solid #ffcdd2; background: #ffebee\">Бинбанк<span style=\"vertical-align: middle; margin-left: 2px; font-size: 0.7em; color: #e57373;\">ORG</span></span> - завершили процесс объединения, начавшийся еще в начале 2018 года. Президент - председатель правления \"<span style=\"padding: 2px; border-radius: 4px; border: 1px solid #ffcdd2; background: #ffebee\">Открытия<span style=\"vertical-align: middle; margin-left: 2px; font-size: 0.7em; color: #e57373;\">ORG</span></span>\" <span style=\"padding: 2px; border-radius: 4px; border: 1px solid #bbdefb; background: #e3f2fd\">Михаил Задорнов<span style=\"vertical-align: middle; margin-left: 2px; font-size: 0.7em; color: #64b5f6;\">PER</span></span> в середине декабря 2018 года отмечал, что банки уже технологически готовы к слиянию. Трансформация сетей отделений двух кредитных организаций должна завершиться в апреле 2019 года, сообщил ранее <span style=\"padding: 2px; border-radius: 4px; border: 1px solid #bbdefb; background: #e3f2fd\">Задорнов<span style=\"vertical-align: middle; margin-left: 2px; font-size: 0.7em; color: #64b5f6;\">PER</span></span>. Затраты на это оцениваются в 500 млн рублей, добавлял он. <span style=\"padding: 2px; border-radius: 4px; border: 1px solid #ffcdd2; background: #ffebee\">ЦБ<span style=\"vertical-align: middle; margin-left: 2px; font-size: 0.7em; color: #e57373;\">ORG</span></span> <span style=\"padding: 2px; border-radius: 4px; border: 1px solid #c8e6c9; background: #e8f5e9\">РФ<span style=\"vertical-align: middle; margin-left: 2px; font-size: 0.7em; color: #66bb6a;\">LOC</span></span> в августе 2017 года объявил о санации группы банка \"<span style=\"padding: 2px; border-radius: 4px; border: 1px solid #ffcdd2; background: #ffebee\">Открытие<span style=\"vertical-align: middle; margin-left: 2px; font-size: 0.7em; color: #e57373;\">ORG</span></span>\" через <span style=\"padding: 2px; border-radius: 4px; border: 1px solid #ffcdd2; background: #ffebee\">Фонд консолидации банковского сектора<span style=\"vertical-align: middle; margin-left: 2px; font-size: 0.7em; color: #e57373;\">ORG</span></span>, в сентябре того же года - об оздоровлении группы <span style=\"padding: 2px; border-radius: 4px; border: 1px solid #ffcdd2; background: #ffebee\">Бинбанка<span style=\"vertical-align: middle; margin-left: 2px; font-size: 0.7em; color: #e57373;\">ORG</span></span>.</div>"
      ],
      "text/plain": [
       "BoxMarkup('Москва. 1 января. INTERFAX.RU - Две санируемых ЦБ РФ кредитных организации - банк \"ФК Открытие\" и Бинбанк - завершили процесс объединения, начавшийся еще в начале 2018 года. Президент - председатель правления \"Открытия\" Михаил Задорнов в середине декабря 2018 года отмечал, что банки уже технологически готовы к слиянию. Трансформация сетей отделений двух кредитных организаций должна завершиться в апреле 2019 года, сообщил ранее Задорнов. Затраты на это оцениваются в 500 млн рублей, добавлял он. ЦБ РФ в августе 2017 года объявил о санации группы банка \"Открытие\" через Фонд консолидации банковского сектора, в сентябре того же года - об оздоровлении группы Бинбанка.',\n",
       "          [Span(0, 6, 'LOC'),\n",
       "           Span(18, 29, 'ORG'),\n",
       "           Span(47, 49, 'ORG'),\n",
       "           Span(50, 52, 'LOC'),\n",
       "           Span(83, 94, 'ORG'),\n",
       "           Span(98, 105, 'ORG'),\n",
       "           Span(210, 218, 'ORG'),\n",
       "           Span(220, 235, 'PER'),\n",
       "           Span(431, 439, 'PER'),\n",
       "           Span(499, 501, 'ORG'),\n",
       "           Span(502, 504, 'LOC'),\n",
       "           Span(557, 565, 'ORG'),\n",
       "           Span(573, 610, 'ORG'),\n",
       "           Span(661, 669, 'ORG')])"
      ]
     },
     "metadata": {},
     "output_type": "display_data"
    },
    {
     "name": "stdout",
     "output_type": "stream",
     "text": [
      "[(148, 154, 'LOC'), (166, 177, 'ORG'), (189, 209, 'ORG'), (307, 313, 'LOC'), (314, 328, 'PER'), (497, 506, 'ORG'), (595, 609, 'PER'), (681, 688, 'PER'), (750, 764, 'LOC'), (1099, 1106, 'PER'), (1159, 1169, 'ORG'), (1271, 1285, 'LOC'), (1308, 1314, 'LOC')]\n"
     ]
    },
    {
     "data": {
      "text/html": [
       "<div class=\"tex2jax_ignore\" style=\"white-space: pre-wrap\">По его данным, в больницах находятся 12 человек после обрушения моста в парке, всем пострадавшим выплатят компенсацию в размере до 500 тысяч рублей <span style=\"padding: 2px; border-radius: 4px; border: 1px solid #c8e6c9; background: #e8f5e9\">Москва<span style=\"vertical-align: middle; margin-left: 2px; font-size: 0.7em; color: #66bb6a;\">LOC</span></span>. 1 января. <span style=\"padding: 2px; border-radius: 4px; border: 1px solid #ffcdd2; background: #ffebee\">INTERFAX.RU<span style=\"vertical-align: middle; margin-left: 2px; font-size: 0.7em; color: #e57373;\">ORG</span></span> - Директор <span style=\"padding: 2px; border-radius: 4px; border: 1px solid #ffcdd2; background: #ffebee\">Парка имени Горького<span style=\"vertical-align: middle; margin-left: 2px; font-size: 0.7em; color: #e57373;\">ORG</span></span> будет уволена после чрезвычайного происшествия, которое произошло в новогоднюю ночь, сообщил мэр <span style=\"padding: 2px; border-radius: 4px; border: 1px solid #c8e6c9; background: #e8f5e9\">Москвы<span style=\"vertical-align: middle; margin-left: 2px; font-size: 0.7em; color: #66bb6a;\">LOC</span></span> <span style=\"padding: 2px; border-radius: 4px; border: 1px solid #bbdefb; background: #e3f2fd\">Сергей Собянин<span style=\"vertical-align: middle; margin-left: 2px; font-size: 0.7em; color: #64b5f6;\">PER</span></span>. \"Происшествие тщательно расследуем, виновные будут наказаны. Но уже очевидно, что администрация парка допустила серьезную недоработку\", - написал он на своей странице <span style=\"padding: 2px; border-radius: 4px; border: 1px solid #ffcdd2; background: #ffebee\">ВКонтакте<span style=\"vertical-align: middle; margin-left: 2px; font-size: 0.7em; color: #e57373;\">ORG</span></span> во вторник. Мэр заявил, что дал поручение департаменту культуры уволить директора парка <span style=\"padding: 2px; border-radius: 4px; border: 1px solid #bbdefb; background: #e3f2fd\">Марину Люльчук<span style=\"vertical-align: middle; margin-left: 2px; font-size: 0.7em; color: #64b5f6;\">PER</span></span>. \"Хотя, должен сказать, что это решение для меня непростое\", - пояснил <span style=\"padding: 2px; border-radius: 4px; border: 1px solid #bbdefb; background: #e3f2fd\">Собянин<span style=\"vertical-align: middle; margin-left: 2px; font-size: 0.7em; color: #64b5f6;\">PER</span></span>. Он уточнил, что проведал пострадавших при обрушении моста в <span style=\"padding: 2px; border-radius: 4px; border: 1px solid #c8e6c9; background: #e8f5e9\">Парке Горького<span style=\"vertical-align: middle; margin-left: 2px; font-size: 0.7em; color: #66bb6a;\">LOC</span></span>. \"Слава богу, тяжелых травм нет, но людям праздник испортили основательно\", - написал мэр. По его информации, в больницах находятся 12 пострадавших, врачи сделают все для их скорейшего выздоровления. \"Всем пострадавшим, несмотря на то, что большинство - не москвичи, будет выплачена компенсация в сумме до 500 тыс. рублей\", - добавил <span style=\"padding: 2px; border-radius: 4px; border: 1px solid #bbdefb; background: #e3f2fd\">Собянин<span style=\"vertical-align: middle; margin-left: 2px; font-size: 0.7em; color: #64b5f6;\">PER</span></span>. Ночью 1 января информированные источники сообщали \"<span style=\"padding: 2px; border-radius: 4px; border: 1px solid #ffcdd2; background: #ffebee\">Интерфаксу<span style=\"vertical-align: middle; margin-left: 2px; font-size: 0.7em; color: #e57373;\">ORG</span></span>\", что во время запуска фейерверков и новогодних поздравлений рухнула конструкция деревянного моста в <span style=\"padding: 2px; border-radius: 4px; border: 1px solid #c8e6c9; background: #e8f5e9\">Парке Горького<span style=\"vertical-align: middle; margin-left: 2px; font-size: 0.7em; color: #66bb6a;\">LOC</span></span>, пострадали люди. Мэр <span style=\"padding: 2px; border-radius: 4px; border: 1px solid #c8e6c9; background: #e8f5e9\">Москвы<span style=\"vertical-align: middle; margin-left: 2px; font-size: 0.7em; color: #66bb6a;\">LOC</span></span> пообещал разобраться в причинах инцидента.</div>"
      ],
      "text/plain": [
       "BoxMarkup('По его данным, в больницах находятся 12 человек после обрушения моста в парке, всем пострадавшим выплатят компенсацию в размере до 500 тысяч рублей Москва. 1 января. INTERFAX.RU - Директор Парка имени Горького будет уволена после чрезвычайного происшествия, которое произошло в новогоднюю ночь, сообщил мэр Москвы Сергей Собянин. \"Происшествие тщательно расследуем, виновные будут наказаны. Но уже очевидно, что администрация парка допустила серьезную недоработку\", - написал он на своей странице ВКонтакте во вторник. Мэр заявил, что дал поручение департаменту культуры уволить директора парка Марину Люльчук. \"Хотя, должен сказать, что это решение для меня непростое\", - пояснил Собянин. Он уточнил, что проведал пострадавших при обрушении моста в Парке Горького. \"Слава богу, тяжелых травм нет, но людям праздник испортили основательно\", - написал мэр. По его информации, в больницах находятся 12 пострадавших, врачи сделают все для их скорейшего выздоровления. \"Всем пострадавшим, несмотря на то, что большинство - не москвичи, будет выплачена компенсация в сумме до 500 тыс. рублей\", - добавил Собянин. Ночью 1 января информированные источники сообщали \"Интерфаксу\", что во время запуска фейерверков и новогодних поздравлений рухнула конструкция деревянного моста в Парке Горького, пострадали люди. Мэр Москвы пообещал разобраться в причинах инцидента.',\n",
       "          [Span(148, 154, 'LOC'),\n",
       "           Span(166, 177, 'ORG'),\n",
       "           Span(189, 209, 'ORG'),\n",
       "           Span(307, 313, 'LOC'),\n",
       "           Span(314, 328, 'PER'),\n",
       "           Span(497, 506, 'ORG'),\n",
       "           Span(595, 609, 'PER'),\n",
       "           Span(681, 688, 'PER'),\n",
       "           Span(750, 764, 'LOC'),\n",
       "           Span(1099, 1106, 'PER'),\n",
       "           Span(1159, 1169, 'ORG'),\n",
       "           Span(1271, 1285, 'LOC'),\n",
       "           Span(1308, 1314, 'LOC')])"
      ]
     },
     "metadata": {},
     "output_type": "display_data"
    },
    {
     "name": "stdout",
     "output_type": "stream",
     "text": [
      "[(25, 44, 'LOC'), (115, 121, 'LOC'), (133, 144, 'ORG'), (218, 231, 'LOC'), (279, 298, 'LOC'), (299, 315, 'PER'), (375, 385, 'PER'), (636, 649, 'LOC'), (789, 799, 'ORG'), (816, 819, 'ORG'), (820, 826, 'LOC'), (884, 889, 'ORG'), (1189, 1192, 'ORG'), (1286, 1295, 'ORG'), (1296, 1302, 'LOC'), (1401, 1411, 'ORG'), (1431, 1440, 'ORG'), (1530, 1543, 'LOC'), (1667, 1679, 'LOC'), (1770, 1783, 'LOC'), (2017, 2035, 'ORG'), (2036, 2039, 'ORG'), (2040, 2046, 'LOC'), (2050, 2069, 'LOC'), (2159, 2178, 'LOC'), (2334, 2336, 'LOC')]\n"
     ]
    },
    {
     "data": {
      "text/html": [
       "<div class=\"tex2jax_ignore\" style=\"white-space: pre-wrap\">Как рассказал губернатор <span style=\"padding: 2px; border-radius: 4px; border: 1px solid #c8e6c9; background: #e8f5e9\">Челябинской области<span style=\"vertical-align: middle; margin-left: 2px; font-size: 0.7em; color: #66bb6a;\">LOC</span></span>, 11-месячного ребенка спасло то, что он был в кроватке и тепло укутан <span style=\"padding: 2px; border-radius: 4px; border: 1px solid #c8e6c9; background: #e8f5e9\">Москва<span style=\"vertical-align: middle; margin-left: 2px; font-size: 0.7em; color: #66bb6a;\">LOC</span></span>. 1 января. <span style=\"padding: 2px; border-radius: 4px; border: 1px solid #ffcdd2; background: #ffebee\">INTERFAX.RU<span style=\"vertical-align: middle; margin-left: 2px; font-size: 0.7em; color: #e57373;\">ORG</span></span> - Спасатели, осуществляющие разбор завалов частично обрушившегося дома в <span style=\"padding: 2px; border-radius: 4px; border: 1px solid #c8e6c9; background: #e8f5e9\">Магнитогорске<span style=\"vertical-align: middle; margin-left: 2px; font-size: 0.7em; color: #66bb6a;\">LOC</span></span>, обнаружили живым младенца, сообщил губернатор <span style=\"padding: 2px; border-radius: 4px; border: 1px solid #c8e6c9; background: #e8f5e9\">Челябинской области<span style=\"vertical-align: middle; margin-left: 2px; font-size: 0.7em; color: #66bb6a;\">LOC</span></span> <span style=\"padding: 2px; border-radius: 4px; border: 1px solid #bbdefb; background: #e3f2fd\">Борис Дубровский<span style=\"vertical-align: middle; margin-left: 2px; font-size: 0.7em; color: #64b5f6;\">PER</span></span>. \"11-месячный ребенок найден живым под завалами\", - сказал <span style=\"padding: 2px; border-radius: 4px; border: 1px solid #bbdefb; background: #e3f2fd\">Дубровский<span style=\"vertical-align: middle; margin-left: 2px; font-size: 0.7em; color: #64b5f6;\">PER</span></span>, слова которого приводят в его пресс-службе. По словам губернатора, в настоящее время готовится реанимация ребенка. \"Спасатели услышали плач. Ребенка спасло то, что он был в кроватке и тепло укутан\", - добавил он. Таким образом, число пострадавших в <span style=\"padding: 2px; border-radius: 4px; border: 1px solid #c8e6c9; background: #e8f5e9\">Магнитогорске<span style=\"vertical-align: middle; margin-left: 2px; font-size: 0.7em; color: #66bb6a;\">LOC</span></span> достигло шести. В настоящее время врачи скорой помощи осматривают грудного ребенка. \"Ребенок извлечен живым. Передан медикам\", - сообщили \"<span style=\"padding: 2px; border-radius: 4px; border: 1px solid #ffcdd2; background: #ffebee\">Интерфаксу<span style=\"vertical-align: middle; margin-left: 2px; font-size: 0.7em; color: #e57373;\">ORG</span></span>\" в пресс-службе <span style=\"padding: 2px; border-radius: 4px; border: 1px solid #ffcdd2; background: #ffebee\">МЧС<span style=\"vertical-align: middle; margin-left: 2px; font-size: 0.7em; color: #e57373;\">ORG</span></span> <span style=\"padding: 2px; border-radius: 4px; border: 1px solid #c8e6c9; background: #e8f5e9\">России<span style=\"vertical-align: middle; margin-left: 2px; font-size: 0.7em; color: #66bb6a;\">LOC</span></span>. Младенца нашли спасатели центра операций особого риска \"<span style=\"padding: 2px; border-radius: 4px; border: 1px solid #ffcdd2; background: #ffebee\">Лидер<span style=\"vertical-align: middle; margin-left: 2px; font-size: 0.7em; color: #e57373;\">ORG</span></span>\". \"Спасатели раздвинули плиты и услышали писк, похожий на плач ребенка. Затем ребенка аккуратно достали и передали медикам\", - рассказали в пресс-службе. В ведомстве рассказали, что ребенок - девочка возрастом до одного года. \"Она направлена в лечебное учреждение, диагноз неизвестен\", - добавили в <span style=\"padding: 2px; border-radius: 4px; border: 1px solid #ffcdd2; background: #ffebee\">МЧС<span style=\"vertical-align: middle; margin-left: 2px; font-size: 0.7em; color: #e57373;\">ORG</span></span>. Спасенного ребенка доставят в больницу на реанимобиле, сообщает в свою очередь пресс-служба <span style=\"padding: 2px; border-radius: 4px; border: 1px solid #ffcdd2; background: #ffebee\">Минздрава<span style=\"vertical-align: middle; margin-left: 2px; font-size: 0.7em; color: #e57373;\">ORG</span></span> <span style=\"padding: 2px; border-radius: 4px; border: 1px solid #c8e6c9; background: #e8f5e9\">России<span style=\"vertical-align: middle; margin-left: 2px; font-size: 0.7em; color: #66bb6a;\">LOC</span></span>. \"Ребенка, извлеченного из-под завалов, прямо сейчас везут на реанимобиле в больницу\", - сказали \"<span style=\"padding: 2px; border-radius: 4px; border: 1px solid #ffcdd2; background: #ffebee\">Интерфаксу<span style=\"vertical-align: middle; margin-left: 2px; font-size: 0.7em; color: #e57373;\">ORG</span></span>\" в пресс-службе. В <span style=\"padding: 2px; border-radius: 4px; border: 1px solid #ffcdd2; background: #ffebee\">Минздраве<span style=\"vertical-align: middle; margin-left: 2px; font-size: 0.7em; color: #e57373;\">ORG</span></span> не привели подробностей состояния младенца, однако отметили, что \"надеются на лучшее\". В <span style=\"padding: 2px; border-radius: 4px; border: 1px solid #c8e6c9; background: #e8f5e9\">Магнитогорске<span style=\"vertical-align: middle; margin-left: 2px; font-size: 0.7em; color: #66bb6a;\">LOC</span></span> утром 31 декабря из-за взрыва бытового газа произошло обрушение одного из подъездов десятиэтажного дома по адресу проспект <span style=\"padding: 2px; border-radius: 4px; border: 1px solid #c8e6c9; background: #e8f5e9\">Карла Маркса<span style=\"vertical-align: middle; margin-left: 2px; font-size: 0.7em; color: #66bb6a;\">LOC</span></span>, 164. Здание было построено в 1973 году. По последним данным, количество жертв трагедии в <span style=\"padding: 2px; border-radius: 4px; border: 1px solid #c8e6c9; background: #e8f5e9\">Магнитогорске<span style=\"vertical-align: middle; margin-left: 2px; font-size: 0.7em; color: #66bb6a;\">LOC</span></span> составило восемь человек , детей среди них нет. Спасатели извлекли из-под завалов семь тел. Остается неизвестной судьба нескольких десятков человек. В настоящее время спасатели демонтируют стену подъезда из-за угрозы ее обрушения. В <span style=\"padding: 2px; border-radius: 4px; border: 1px solid #ffcdd2; background: #ffebee\">Главном управлении<span style=\"vertical-align: middle; margin-left: 2px; font-size: 0.7em; color: #e57373;\">ORG</span></span> <span style=\"padding: 2px; border-radius: 4px; border: 1px solid #ffcdd2; background: #ffebee\">МЧС<span style=\"vertical-align: middle; margin-left: 2px; font-size: 0.7em; color: #e57373;\">ORG</span></span> <span style=\"padding: 2px; border-radius: 4px; border: 1px solid #c8e6c9; background: #e8f5e9\">России<span style=\"vertical-align: middle; margin-left: 2px; font-size: 0.7em; color: #66bb6a;\">LOC</span></span> по <span style=\"padding: 2px; border-radius: 4px; border: 1px solid #c8e6c9; background: #e8f5e9\">Челябинской области<span style=\"vertical-align: middle; margin-left: 2px; font-size: 0.7em; color: #66bb6a;\">LOC</span></span> продолжает действовать телефон \"горячей линии\" (8-351-239-99-99) . В связи с трагедией в <span style=\"padding: 2px; border-radius: 4px; border: 1px solid #c8e6c9; background: #e8f5e9\">Челябинской области<span style=\"vertical-align: middle; margin-left: 2px; font-size: 0.7em; color: #66bb6a;\">LOC</span></span> 2 января объявлен траур . По данному факту было возбуждено уголовное дело о причинении смерти по неосторожности двум и более лицам ( часть 3 статьи 109 УК <span style=\"padding: 2px; border-radius: 4px; border: 1px solid #c8e6c9; background: #e8f5e9\">РФ<span style=\"vertical-align: middle; margin-left: 2px; font-size: 0.7em; color: #66bb6a;\">LOC</span></span> ).</div>"
      ],
      "text/plain": [
       "BoxMarkup('Как рассказал губернатор Челябинской области, 11-месячного ребенка спасло то, что он был в кроватке и тепло укутан Москва. 1 января. INTERFAX.RU - Спасатели, осуществляющие разбор завалов частично обрушившегося дома в Магнитогорске, обнаружили живым младенца, сообщил губернатор Челябинской области Борис Дубровский. \"11-месячный ребенок найден живым под завалами\", - сказал Дубровский, слова которого приводят в его пресс-службе. По словам губернатора, в настоящее время готовится реанимация ребенка. \"Спасатели услышали плач. Ребенка спасло то, что он был в кроватке и тепло укутан\", - добавил он. Таким образом, число пострадавших в Магнитогорске достигло шести. В настоящее время врачи скорой помощи осматривают грудного ребенка. \"Ребенок извлечен живым. Передан медикам\", - сообщили \"Интерфаксу\" в пресс-службе МЧС России. Младенца нашли спасатели центра операций особого риска \"Лидер\". \"Спасатели раздвинули плиты и услышали писк, похожий на плач ребенка. Затем ребенка аккуратно достали и передали медикам\", - рассказали в пресс-службе. В ведомстве рассказали, что ребенок - девочка возрастом до одного года. \"Она направлена в лечебное учреждение, диагноз неизвестен\", - добавили в МЧС. Спасенного ребенка доставят в больницу на реанимобиле, сообщает в свою очередь пресс-служба Минздрава России. \"Ребенка, извлеченного из-под завалов, прямо сейчас везут на реанимобиле в больницу\", - сказали \"Интерфаксу\" в пресс-службе. В Минздраве не привели подробностей состояния младенца, однако отметили, что \"надеются на лучшее\". В Магнитогорске утром 31 декабря из-за взрыва бытового газа произошло обрушение одного из подъездов десятиэтажного дома по адресу проспект Карла Маркса, 164. Здание было построено в 1973 году. По последним данным, количество жертв трагедии в Магнитогорске составило восемь человек , детей среди них нет. Спасатели извлекли из-под завалов семь тел. Остается неизвестной судьба нескольких десятков человек. В настоящее время спасатели демонтируют стену подъезда из-за угрозы ее обрушения. В Главном управлении МЧС России по Челябинской области продолжает действовать телефон \"горячей линии\" (8-351-239-99-99) . В связи с трагедией в Челябинской области 2 января объявлен траур . По данному факту было возбуждено уголовное дело о причинении смерти по неосторожности двум и более лицам ( часть 3 статьи 109 УК РФ ).',\n",
       "          [Span(25, 44, 'LOC'),\n",
       "           Span(115, 121, 'LOC'),\n",
       "           Span(133, 144, 'ORG'),\n",
       "           Span(218, 231, 'LOC'),\n",
       "           Span(279, 298, 'LOC'),\n",
       "           Span(299, 315, 'PER'),\n",
       "           Span(375, 385, 'PER'),\n",
       "           Span(636, 649, 'LOC'),\n",
       "           Span(789, 799, 'ORG'),\n",
       "           Span(816, 819, 'ORG'),\n",
       "           Span(820, 826, 'LOC'),\n",
       "           Span(884, 889, 'ORG'),\n",
       "           Span(1189, 1192, 'ORG'),\n",
       "           Span(1286, 1295, 'ORG'),\n",
       "           Span(1296, 1302, 'LOC'),\n",
       "           Span(1401, 1411, 'ORG'),\n",
       "           Span(1431, 1440, 'ORG'),\n",
       "           Span(1530, 1543, 'LOC'),\n",
       "           Span(1667, 1679, 'LOC'),\n",
       "           Span(1770, 1783, 'LOC'),\n",
       "           Span(2017, 2035, 'ORG'),\n",
       "           Span(2036, 2039, 'ORG'),\n",
       "           Span(2040, 2046, 'LOC'),\n",
       "           Span(2050, 2069, 'LOC'),\n",
       "           Span(2159, 2178, 'LOC'),\n",
       "           Span(2334, 2336, 'LOC')])"
      ]
     },
     "metadata": {},
     "output_type": "display_data"
    },
    {
     "name": "stdout",
     "output_type": "stream",
     "text": [
      "[(0, 6, 'LOC'), (18, 29, 'ORG'), (64, 68, 'LOC'), (71, 77, 'LOC'), (91, 99, 'LOC'), (158, 161, 'ORG'), (162, 168, 'LOC'), (240, 256, 'ORG'), (257, 260, 'ORG'), (261, 267, 'LOC'), (479, 482, 'ORG'), (483, 493, 'PER'), (594, 602, 'LOC'), (633, 641, 'LOC'), (827, 831, 'LOC'), (832, 838, 'LOC')]\n"
     ]
    },
    {
     "data": {
      "text/html": [
       "<div class=\"tex2jax_ignore\" style=\"white-space: pre-wrap\"><span style=\"padding: 2px; border-radius: 4px; border: 1px solid #c8e6c9; background: #e8f5e9\">Москва<span style=\"vertical-align: middle; margin-left: 2px; font-size: 0.7em; color: #66bb6a;\">LOC</span></span>. 1 января. <span style=\"padding: 2px; border-radius: 4px; border: 1px solid #ffcdd2; background: #ffebee\">INTERFAX.RU<span style=\"vertical-align: middle; margin-left: 2px; font-size: 0.7em; color: #e57373;\">ORG</span></span> - Авиадебошир, летевший рейсом из <span style=\"padding: 2px; border-radius: 4px; border: 1px solid #c8e6c9; background: #e8f5e9\">Сочи<span style=\"vertical-align: middle; margin-left: 2px; font-size: 0.7em; color: #66bb6a;\">LOC</span></span> в <span style=\"padding: 2px; border-radius: 4px; border: 1px solid #c8e6c9; background: #e8f5e9\">Москву<span style=\"vertical-align: middle; margin-left: 2px; font-size: 0.7em; color: #66bb6a;\">LOC</span></span>, привлечен в <span style=\"padding: 2px; border-radius: 4px; border: 1px solid #c8e6c9; background: #e8f5e9\">Воронеже<span style=\"vertical-align: middle; margin-left: 2px; font-size: 0.7em; color: #66bb6a;\">LOC</span></span> к административной ответственности, сообщает пресс-служба <span style=\"padding: 2px; border-radius: 4px; border: 1px solid #ffcdd2; background: #ffebee\">МВД<span style=\"vertical-align: middle; margin-left: 2px; font-size: 0.7em; color: #e57373;\">ORG</span></span> <span style=\"padding: 2px; border-radius: 4px; border: 1px solid #c8e6c9; background: #e8f5e9\">России<span style=\"vertical-align: middle; margin-left: 2px; font-size: 0.7em; color: #66bb6a;\">LOC</span></span>. \"Сотрудники транспортной полиции доставили пассажира в дежурную часть <span style=\"padding: 2px; border-radius: 4px; border: 1px solid #ffcdd2; background: #ffebee\">Юго-Восточной ЛУ<span style=\"vertical-align: middle; margin-left: 2px; font-size: 0.7em; color: #e57373;\">ORG</span></span> <span style=\"padding: 2px; border-radius: 4px; border: 1px solid #ffcdd2; background: #ffebee\">МВД<span style=\"vertical-align: middle; margin-left: 2px; font-size: 0.7em; color: #e57373;\">ORG</span></span> <span style=\"padding: 2px; border-radius: 4px; border: 1px solid #c8e6c9; background: #e8f5e9\">России<span style=\"vertical-align: middle; margin-left: 2px; font-size: 0.7em; color: #66bb6a;\">LOC</span></span> на транспорте. Им оказался 37-летний гражданин. В отношении него составлен административный протокол по статье 20.1 КоАП ( мелкое хулиганство )\", - говорится в сообщении со ссылкой на официального представителя <span style=\"padding: 2px; border-radius: 4px; border: 1px solid #ffcdd2; background: #ffebee\">МВД<span style=\"vertical-align: middle; margin-left: 2px; font-size: 0.7em; color: #e57373;\">ORG</span></span> <span style=\"padding: 2px; border-radius: 4px; border: 1px solid #bbdefb; background: #e3f2fd\">Ирины Волк<span style=\"vertical-align: middle; margin-left: 2px; font-size: 0.7em; color: #64b5f6;\">PER</span></span>. Ранее сообщалось, что из-за дебоша полет лайнера пришлось экстренно прервать и совершить посадку в <span style=\"padding: 2px; border-radius: 4px; border: 1px solid #c8e6c9; background: #e8f5e9\">Воронеже<span style=\"vertical-align: middle; margin-left: 2px; font-size: 0.7em; color: #66bb6a;\">LOC</span></span>. Источник в службах аэропорта <span style=\"padding: 2px; border-radius: 4px; border: 1px solid #c8e6c9; background: #e8f5e9\">Воронежа<span style=\"vertical-align: middle; margin-left: 2px; font-size: 0.7em; color: #66bb6a;\">LOC</span></span> сообщал, что во время полета мужчина злоупотребил алкоголем и ударил бортпроводницу, когда та отказала ему в очередной порции виски. Сообщалось, что дебош в бизнес-классе лайнера рейса <span style=\"padding: 2px; border-radius: 4px; border: 1px solid #c8e6c9; background: #e8f5e9\">Сочи<span style=\"vertical-align: middle; margin-left: 2px; font-size: 0.7em; color: #66bb6a;\">LOC</span></span>-<span style=\"padding: 2px; border-radius: 4px; border: 1px solid #c8e6c9; background: #e8f5e9\">Москва<span style=\"vertical-align: middle; margin-left: 2px; font-size: 0.7em; color: #66bb6a;\">LOC</span></span> устроил хоккеист .</div>"
      ],
      "text/plain": [
       "BoxMarkup('Москва. 1 января. INTERFAX.RU - Авиадебошир, летевший рейсом из Сочи в Москву, привлечен в Воронеже к административной ответственности, сообщает пресс-служба МВД России. \"Сотрудники транспортной полиции доставили пассажира в дежурную часть Юго-Восточной ЛУ МВД России на транспорте. Им оказался 37-летний гражданин. В отношении него составлен административный протокол по статье 20.1 КоАП ( мелкое хулиганство )\", - говорится в сообщении со ссылкой на официального представителя МВД Ирины Волк. Ранее сообщалось, что из-за дебоша полет лайнера пришлось экстренно прервать и совершить посадку в Воронеже. Источник в службах аэропорта Воронежа сообщал, что во время полета мужчина злоупотребил алкоголем и ударил бортпроводницу, когда та отказала ему в очередной порции виски. Сообщалось, что дебош в бизнес-классе лайнера рейса Сочи-Москва устроил хоккеист .',\n",
       "          [Span(0, 6, 'LOC'),\n",
       "           Span(18, 29, 'ORG'),\n",
       "           Span(64, 68, 'LOC'),\n",
       "           Span(71, 77, 'LOC'),\n",
       "           Span(91, 99, 'LOC'),\n",
       "           Span(158, 161, 'ORG'),\n",
       "           Span(162, 168, 'LOC'),\n",
       "           Span(240, 256, 'ORG'),\n",
       "           Span(257, 260, 'ORG'),\n",
       "           Span(261, 267, 'LOC'),\n",
       "           Span(479, 482, 'ORG'),\n",
       "           Span(483, 493, 'PER'),\n",
       "           Span(594, 602, 'LOC'),\n",
       "           Span(633, 641, 'LOC'),\n",
       "           Span(827, 831, 'LOC'),\n",
       "           Span(832, 838, 'LOC')])"
      ]
     },
     "metadata": {},
     "output_type": "display_data"
    },
    {
     "name": "stdout",
     "output_type": "stream",
     "text": [
      "[(0, 6, 'LOC'), (18, 29, 'ORG'), (80, 86, 'LOC'), (131, 134, 'ORG'), (161, 173, 'ORG'), (224, 230, 'LOC')]\n"
     ]
    },
    {
     "data": {
      "text/html": [
       "<div class=\"tex2jax_ignore\" style=\"white-space: pre-wrap\"><span style=\"padding: 2px; border-radius: 4px; border: 1px solid #c8e6c9; background: #e8f5e9\">Москва<span style=\"vertical-align: middle; margin-left: 2px; font-size: 0.7em; color: #66bb6a;\">LOC</span></span>. 1 января. <span style=\"padding: 2px; border-radius: 4px; border: 1px solid #ffcdd2; background: #ffebee\">INTERFAX.RU<span style=\"vertical-align: middle; margin-left: 2px; font-size: 0.7em; color: #e57373;\">ORG</span></span> - Усиление ветра, гололедица и метель ожидаются в <span style=\"padding: 2px; border-radius: 4px; border: 1px solid #c8e6c9; background: #e8f5e9\">Москве<span style=\"vertical-align: middle; margin-left: 2px; font-size: 0.7em; color: #66bb6a;\">LOC</span></span> во вторник, сообщает сайт столичного главка <span style=\"padding: 2px; border-radius: 4px; border: 1px solid #ffcdd2; background: #ffebee\">МЧС<span style=\"vertical-align: middle; margin-left: 2px; font-size: 0.7em; color: #e57373;\">ORG</span></span>. \"По прогнозам синоптиков <span style=\"padding: 2px; border-radius: 4px; border: 1px solid #ffcdd2; background: #ffebee\">Росгидромета<span style=\"vertical-align: middle; margin-left: 2px; font-size: 0.7em; color: #e57373;\">ORG</span></span> в ближайший час с сохранением до 15:00 2 января в <span style=\"padding: 2px; border-radius: 4px; border: 1px solid #c8e6c9; background: #e8f5e9\">Москве<span style=\"vertical-align: middle; margin-left: 2px; font-size: 0.7em; color: #66bb6a;\">LOC</span></span> ожидается усиление южного ветра порывами 12-17 м/с, снег, местами метель, гололедица\", - говорится в сообщении. В ведомстве рекомендуют автомобилистам снизить скорость движения на дорогах и увеличить дистанцию от впереди идущих транспортных средств, а пешеходам надеть светоотражающие вещи, чтобы быть замеченными в тумане.</div>"
      ],
      "text/plain": [
       "BoxMarkup('Москва. 1 января. INTERFAX.RU - Усиление ветра, гололедица и метель ожидаются в Москве во вторник, сообщает сайт столичного главка МЧС. \"По прогнозам синоптиков Росгидромета в ближайший час с сохранением до 15:00 2 января в Москве ожидается усиление южного ветра порывами 12-17 м/с, снег, местами метель, гололедица\", - говорится в сообщении. В ведомстве рекомендуют автомобилистам снизить скорость движения на дорогах и увеличить дистанцию от впереди идущих транспортных средств, а пешеходам надеть светоотражающие вещи, чтобы быть замеченными в тумане.',\n",
       "          [Span(0, 6, 'LOC'),\n",
       "           Span(18, 29, 'ORG'),\n",
       "           Span(80, 86, 'LOC'),\n",
       "           Span(131, 134, 'ORG'),\n",
       "           Span(161, 173, 'ORG'),\n",
       "           Span(224, 230, 'LOC')])"
      ]
     },
     "metadata": {},
     "output_type": "display_data"
    },
    {
     "name": "stdout",
     "output_type": "stream",
     "text": [
      "[(0, 6, 'LOC'), (18, 29, 'ORG'), (43, 46, 'ORG'), (145, 158, 'LOC'), (352, 354, 'ORG'), (355, 358, 'ORG'), (362, 381, 'LOC'), (383, 393, 'ORG'), (605, 614, 'ORG'), (615, 634, 'LOC'), (845, 847, 'LOC'), (848, 867, 'PER'), (871, 881, 'LOC'), (884, 896, 'LOC'), (1161, 1167, 'LOC'), (1303, 1308, 'ORG'), (1501, 1514, 'LOC')]\n"
     ]
    },
    {
     "data": {
      "text/html": [
       "<div class=\"tex2jax_ignore\" style=\"white-space: pre-wrap\"><span style=\"padding: 2px; border-radius: 4px; border: 1px solid #c8e6c9; background: #e8f5e9\">Москва<span style=\"vertical-align: middle; margin-left: 2px; font-size: 0.7em; color: #66bb6a;\">LOC</span></span>. 1 января. <span style=\"padding: 2px; border-radius: 4px; border: 1px solid #ffcdd2; background: #ffebee\">INTERFAX.RU<span style=\"vertical-align: middle; margin-left: 2px; font-size: 0.7em; color: #e57373;\">ORG</span></span> - Сотрудники <span style=\"padding: 2px; border-radius: 4px; border: 1px solid #ffcdd2; background: #ffebee\">МЧС<span style=\"vertical-align: middle; margin-left: 2px; font-size: 0.7em; color: #e57373;\">ORG</span></span> оповестили родственников 11-месячного ребенка, найденного живым под завалами обрушившегося дома в <span style=\"padding: 2px; border-radius: 4px; border: 1px solid #c8e6c9; background: #e8f5e9\">Магнитогорске<span style=\"vertical-align: middle; margin-left: 2px; font-size: 0.7em; color: #66bb6a;\">LOC</span></span>, они едут в больницу, сообщает пресс-служба администрации города во вторник. \"Родственников оповестили, сейчас они едут в медучреждение\", - говорится в сообщении. В свою очередь в пресс-службе <span style=\"padding: 2px; border-radius: 4px; border: 1px solid #ffcdd2; background: #ffebee\">ГУ<span style=\"vertical-align: middle; margin-left: 2px; font-size: 0.7em; color: #e57373;\">ORG</span></span> <span style=\"padding: 2px; border-radius: 4px; border: 1px solid #ffcdd2; background: #ffebee\">МЧС<span style=\"vertical-align: middle; margin-left: 2px; font-size: 0.7em; color: #e57373;\">ORG</span></span> по <span style=\"padding: 2px; border-radius: 4px; border: 1px solid #c8e6c9; background: #e8f5e9\">Челябинской области<span style=\"vertical-align: middle; margin-left: 2px; font-size: 0.7em; color: #66bb6a;\">LOC</span></span> \"<span style=\"padding: 2px; border-radius: 4px; border: 1px solid #ffcdd2; background: #ffebee\">Интерфаксу<span style=\"vertical-align: middle; margin-left: 2px; font-size: 0.7em; color: #e57373;\">ORG</span></span>\" сообщили, что с начала спасательной операции возле завалов работают тепловые пушки. \"Специальными тепловыми пушками на место завалов постоянно подают тепло\", - сказал сотрудник пресс-службы. Позже пресс-служба <span style=\"padding: 2px; border-radius: 4px; border: 1px solid #ffcdd2; background: #ffebee\">Минздрава<span style=\"vertical-align: middle; margin-left: 2px; font-size: 0.7em; color: #e57373;\">ORG</span></span> <span style=\"padding: 2px; border-radius: 4px; border: 1px solid #c8e6c9; background: #e8f5e9\">Челябинской области<span style=\"vertical-align: middle; margin-left: 2px; font-size: 0.7em; color: #66bb6a;\">LOC</span></span> сообщила, что найденного ребенка доставили в больницу. \"Состояние ребенка оценивается врачами как тяжелое: серьезные обморожения, а также закрытая черепно-мозговая травма. По поручению министра здравоохранения <span style=\"padding: 2px; border-radius: 4px; border: 1px solid #c8e6c9; background: #e8f5e9\">РФ<span style=\"vertical-align: middle; margin-left: 2px; font-size: 0.7em; color: #66bb6a;\">LOC</span></span> <span style=\"padding: 2px; border-radius: 4px; border: 1px solid #bbdefb; background: #e3f2fd\">Вероники Скворцовой<span style=\"vertical-align: middle; margin-left: 2px; font-size: 0.7em; color: #64b5f6;\">PER</span></span> из <span style=\"padding: 2px; border-radius: 4px; border: 1px solid #c8e6c9; background: #e8f5e9\">Челябинска<span style=\"vertical-align: middle; margin-left: 2px; font-size: 0.7em; color: #66bb6a;\">LOC</span></span> в <span style=\"padding: 2px; border-radius: 4px; border: 1px solid #c8e6c9; background: #e8f5e9\">Магнитогорск<span style=\"vertical-align: middle; margin-left: 2px; font-size: 0.7em; color: #66bb6a;\">LOC</span></span> выехала бригада лучших врачей-реаниматологов, главный неонатолог области\", - говорится в сообщении. Готовы подключиться к телемедицинским консультациям специалисты из федеральных медцентров. \"При необходимости, после оценки состояния ребенка смогут эвакуировать в <span style=\"padding: 2px; border-radius: 4px; border: 1px solid #c8e6c9; background: #e8f5e9\">Москву<span style=\"vertical-align: middle; margin-left: 2px; font-size: 0.7em; color: #66bb6a;\">LOC</span></span> для оказания дальнейшей помощи\", - отмечает пресс-служба. Ранее сообщалось, что ребенка нашли спасатели центра операций особого риска \"<span style=\"padding: 2px; border-radius: 4px; border: 1px solid #ffcdd2; background: #ffebee\">Лидер<span style=\"vertical-align: middle; margin-left: 2px; font-size: 0.7em; color: #e57373;\">ORG</span></span>\". Спасатели раздвинули плиты и услышали плач младенца. Затем ребенка аккуратно достали и передали медикам. Его направили на реанимобиле в детскую больницу. Таким образом, число пострадавших в <span style=\"padding: 2px; border-radius: 4px; border: 1px solid #c8e6c9; background: #e8f5e9\">Магнитогорске<span style=\"vertical-align: middle; margin-left: 2px; font-size: 0.7em; color: #66bb6a;\">LOC</span></span> при взрыве бытового газа в жилой многоэтажке достигло шести.</div>"
      ],
      "text/plain": [
       "BoxMarkup('Москва. 1 января. INTERFAX.RU - Сотрудники МЧС оповестили родственников 11-месячного ребенка, найденного живым под завалами обрушившегося дома в Магнитогорске, они едут в больницу, сообщает пресс-служба администрации города во вторник. \"Родственников оповестили, сейчас они едут в медучреждение\", - говорится в сообщении. В свою очередь в пресс-службе ГУ МЧС по Челябинской области \"Интерфаксу\" сообщили, что с начала спасательной операции возле завалов работают тепловые пушки. \"Специальными тепловыми пушками на место завалов постоянно подают тепло\", - сказал сотрудник пресс-службы. Позже пресс-служба Минздрава Челябинской области сообщила, что найденного ребенка доставили в больницу. \"Состояние ребенка оценивается врачами как тяжелое: серьезные обморожения, а также закрытая черепно-мозговая травма. По поручению министра здравоохранения РФ Вероники Скворцовой из Челябинска в Магнитогорск выехала бригада лучших врачей-реаниматологов, главный неонатолог области\", - говорится в сообщении. Готовы подключиться к телемедицинским консультациям специалисты из федеральных медцентров. \"При необходимости, после оценки состояния ребенка смогут эвакуировать в Москву для оказания дальнейшей помощи\", - отмечает пресс-служба. Ранее сообщалось, что ребенка нашли спасатели центра операций особого риска \"Лидер\". Спасатели раздвинули плиты и услышали плач младенца. Затем ребенка аккуратно достали и передали медикам. Его направили на реанимобиле в детскую больницу. Таким образом, число пострадавших в Магнитогорске при взрыве бытового газа в жилой многоэтажке достигло шести.',\n",
       "          [Span(0, 6, 'LOC'),\n",
       "           Span(18, 29, 'ORG'),\n",
       "           Span(43, 46, 'ORG'),\n",
       "           Span(145, 158, 'LOC'),\n",
       "           Span(352, 354, 'ORG'),\n",
       "           Span(355, 358, 'ORG'),\n",
       "           Span(362, 381, 'LOC'),\n",
       "           Span(383, 393, 'ORG'),\n",
       "           Span(605, 614, 'ORG'),\n",
       "           Span(615, 634, 'LOC'),\n",
       "           Span(845, 847, 'LOC'),\n",
       "           Span(848, 867, 'PER'),\n",
       "           Span(871, 881, 'LOC'),\n",
       "           Span(884, 896, 'LOC'),\n",
       "           Span(1161, 1167, 'LOC'),\n",
       "           Span(1303, 1308, 'ORG'),\n",
       "           Span(1501, 1514, 'LOC')])"
      ]
     },
     "metadata": {},
     "output_type": "display_data"
    },
    {
     "name": "stdout",
     "output_type": "stream",
     "text": [
      "[(0, 6, 'LOC'), (18, 29, 'ORG'), (142, 152, 'ORG'), (256, 262, 'LOC'), (272, 286, 'LOC'), (438, 444, 'LOC'), (540, 554, 'LOC'), (828, 834, 'ORG'), (838, 845, 'PER'), (865, 874, 'LOC'), (1002, 1013, 'LOC'), (1015, 1025, 'LOC'), (1027, 1039, 'LOC'), (1041, 1050, 'LOC'), (1052, 1061, 'LOC'), (1064, 1074, 'LOC'), (1079, 1090, 'LOC'), (1093, 1111, 'LOC'), (1122, 1138, 'LOC'), (1168, 1179, 'LOC'), (1182, 1189, 'LOC')]\n"
     ]
    },
    {
     "data": {
      "text/html": [
       "<div class=\"tex2jax_ignore\" style=\"white-space: pre-wrap\"><span style=\"padding: 2px; border-radius: 4px; border: 1px solid #c8e6c9; background: #e8f5e9\">Москва<span style=\"vertical-align: middle; margin-left: 2px; font-size: 0.7em; color: #66bb6a;\">LOC</span></span>. 1 января. <span style=\"padding: 2px; border-radius: 4px; border: 1px solid #ffcdd2; background: #ffebee\">INTERFAX.RU<span style=\"vertical-align: middle; margin-left: 2px; font-size: 0.7em; color: #e57373;\">ORG</span></span> - В новогодних гуляньях на московских праздничных площадках участвовали 2,6 млн москвичей и туристов, сообщили \"<span style=\"padding: 2px; border-radius: 4px; border: 1px solid #ffcdd2; background: #ffebee\">Интерфаксу<span style=\"vertical-align: middle; margin-left: 2px; font-size: 0.7em; color: #e57373;\">ORG</span></span>\" в оргкомитете цикла городских уличных мероприятий \"Московские сезоны\" во вторник. \"Новый год в центре <span style=\"padding: 2px; border-radius: 4px; border: 1px solid #c8e6c9; background: #e8f5e9\">Москвы<span style=\"vertical-align: middle; margin-left: 2px; font-size: 0.7em; color: #66bb6a;\">LOC</span></span>, включая <span style=\"padding: 2px; border-radius: 4px; border: 1px solid #c8e6c9; background: #e8f5e9\">Тверскую улицу<span style=\"vertical-align: middle; margin-left: 2px; font-size: 0.7em; color: #66bb6a;\">LOC</span></span>, которая в эти дни стала полностью пешеходной, отметили 930 тыс. человек\", - сказал собеседник агентства. Он напомнил, что масштабные гуляния в центре <span style=\"padding: 2px; border-radius: 4px; border: 1px solid #c8e6c9; background: #e8f5e9\">Москвы<span style=\"vertical-align: middle; margin-left: 2px; font-size: 0.7em; color: #66bb6a;\">LOC</span></span> и на праздничных площадках фестиваля \"Путешествие в Рождество\" продлятся 1 и 2 января. Так, на <span style=\"padding: 2px; border-radius: 4px; border: 1px solid #c8e6c9; background: #e8f5e9\">Тверской улице<span style=\"vertical-align: middle; margin-left: 2px; font-size: 0.7em; color: #66bb6a;\">LOC</span></span> до конца дня вторника продолжается праздник под названием \"Новый год моего детства\", на котором можно посмотреть спектакли российских и уличных театров, послушать выступления известных музыкантов и поучаствовать в мастер-классах и спортивных играх. Концерт acappella band \"<span style=\"padding: 2px; border-radius: 4px; border: 1px solid #ffcdd2; background: #ffebee\">Разные<span style=\"vertical-align: middle; margin-left: 2px; font-size: 0.7em; color: #e57373;\">ORG</span></span>\" и <span style=\"padding: 2px; border-radius: 4px; border: 1px solid #bbdefb; background: #e3f2fd\">Валерии<span style=\"vertical-align: middle; margin-left: 2px; font-size: 0.7em; color: #64b5f6;\">PER</span></span> пройдет на площади <span style=\"padding: 2px; border-radius: 4px; border: 1px solid #c8e6c9; background: #e8f5e9\">Революции<span style=\"vertical-align: middle; margin-left: 2px; font-size: 0.7em; color: #66bb6a;\">LOC</span></span>. До 22:00 1 января спектакли и концерты в режиме нон-стоп будут идти на окружных площадках \"Путешествия в Рождество\" на улицах <span style=\"padding: 2px; border-radius: 4px; border: 1px solid #c8e6c9; background: #e8f5e9\">Профсоюзная<span style=\"vertical-align: middle; margin-left: 2px; font-size: 0.7em; color: #66bb6a;\">LOC</span></span>, <span style=\"padding: 2px; border-radius: 4px; border: 1px solid #c8e6c9; background: #e8f5e9\">Городецкая<span style=\"vertical-align: middle; margin-left: 2px; font-size: 0.7em; color: #66bb6a;\">LOC</span></span>, <span style=\"padding: 2px; border-radius: 4px; border: 1px solid #c8e6c9; background: #e8f5e9\">Новопесчаная<span style=\"vertical-align: middle; margin-left: 2px; font-size: 0.7em; color: #66bb6a;\">LOC</span></span>, <span style=\"padding: 2px; border-radius: 4px; border: 1px solid #c8e6c9; background: #e8f5e9\">Митинская<span style=\"vertical-align: middle; margin-left: 2px; font-size: 0.7em; color: #66bb6a;\">LOC</span></span>, <span style=\"padding: 2px; border-radius: 4px; border: 1px solid #c8e6c9; background: #e8f5e9\">Ярцевская<span style=\"vertical-align: middle; margin-left: 2px; font-size: 0.7em; color: #66bb6a;\">LOC</span></span> и <span style=\"padding: 2px; border-radius: 4px; border: 1px solid #c8e6c9; background: #e8f5e9\">Хачатуряна<span style=\"vertical-align: middle; margin-left: 2px; font-size: 0.7em; color: #66bb6a;\">LOC</span></span>, на <span style=\"padding: 2px; border-radius: 4px; border: 1px solid #c8e6c9; background: #e8f5e9\">Строгинском<span style=\"vertical-align: middle; margin-left: 2px; font-size: 0.7em; color: #66bb6a;\">LOC</span></span> и <span style=\"padding: 2px; border-radius: 4px; border: 1px solid #c8e6c9; background: #e8f5e9\">Ореховом бульварах<span style=\"vertical-align: middle; margin-left: 2px; font-size: 0.7em; color: #66bb6a;\">LOC</span></span>, бульваре <span style=\"padding: 2px; border-radius: 4px; border: 1px solid #c8e6c9; background: #e8f5e9\">Дмитрия Донского<span style=\"vertical-align: middle; margin-left: 2px; font-size: 0.7em; color: #66bb6a;\">LOC</span></span>, на площади Славы, а также в <span style=\"padding: 2px; border-radius: 4px; border: 1px solid #c8e6c9; background: #e8f5e9\">Зеленограде<span style=\"vertical-align: middle; margin-left: 2px; font-size: 0.7em; color: #66bb6a;\">LOC</span></span> и <span style=\"padding: 2px; border-radius: 4px; border: 1px solid #c8e6c9; background: #e8f5e9\">Троицке<span style=\"vertical-align: middle; margin-left: 2px; font-size: 0.7em; color: #66bb6a;\">LOC</span></span>.</div>"
      ],
      "text/plain": [
       "BoxMarkup('Москва. 1 января. INTERFAX.RU - В новогодних гуляньях на московских праздничных площадках участвовали 2,6 млн москвичей и туристов, сообщили \"Интерфаксу\" в оргкомитете цикла городских уличных мероприятий \"Московские сезоны\" во вторник. \"Новый год в центре Москвы, включая Тверскую улицу, которая в эти дни стала полностью пешеходной, отметили 930 тыс. человек\", - сказал собеседник агентства. Он напомнил, что масштабные гуляния в центре Москвы и на праздничных площадках фестиваля \"Путешествие в Рождество\" продлятся 1 и 2 января. Так, на Тверской улице до конца дня вторника продолжается праздник под названием \"Новый год моего детства\", на котором можно посмотреть спектакли российских и уличных театров, послушать выступления известных музыкантов и поучаствовать в мастер-классах и спортивных играх. Концерт acappella band \"Разные\" и Валерии пройдет на площади Революции. До 22:00 1 января спектакли и концерты в режиме нон-стоп будут идти на окружных площадках \"Путешествия в Рождество\" на улицах Профсоюзная, Городецкая, Новопесчаная, Митинская, Ярцевская и Хачатуряна, на Строгинском и Ореховом бульварах, бульваре Дмитрия Донского, на площади Славы, а также в Зеленограде и Троицке.',\n",
       "          [Span(0, 6, 'LOC'),\n",
       "           Span(18, 29, 'ORG'),\n",
       "           Span(142, 152, 'ORG'),\n",
       "           Span(256, 262, 'LOC'),\n",
       "           Span(272, 286, 'LOC'),\n",
       "           Span(438, 444, 'LOC'),\n",
       "           Span(540, 554, 'LOC'),\n",
       "           Span(828, 834, 'ORG'),\n",
       "           Span(838, 845, 'PER'),\n",
       "           Span(865, 874, 'LOC'),\n",
       "           Span(1002, 1013, 'LOC'),\n",
       "           Span(1015, 1025, 'LOC'),\n",
       "           Span(1027, 1039, 'LOC'),\n",
       "           Span(1041, 1050, 'LOC'),\n",
       "           Span(1052, 1061, 'LOC'),\n",
       "           Span(1064, 1074, 'LOC'),\n",
       "           Span(1079, 1090, 'LOC'),\n",
       "           Span(1093, 1111, 'LOC'),\n",
       "           Span(1122, 1138, 'LOC'),\n",
       "           Span(1168, 1179, 'LOC'),\n",
       "           Span(1182, 1189, 'LOC')])"
      ]
     },
     "metadata": {},
     "output_type": "display_data"
    },
    {
     "name": "stdout",
     "output_type": "stream",
     "text": [
      "[(0, 6, 'LOC'), (18, 29, 'ORG'), (86, 99, 'LOC'), (147, 150, 'ORG'), (151, 157, 'LOC'), (281, 284, 'ORG'), (449, 454, 'ORG'), (680, 689, 'ORG'), (690, 709, 'LOC'), (877, 890, 'LOC')]\n"
     ]
    },
    {
     "data": {
      "text/html": [
       "<div class=\"tex2jax_ignore\" style=\"white-space: pre-wrap\"><span style=\"padding: 2px; border-radius: 4px; border: 1px solid #c8e6c9; background: #e8f5e9\">Москва<span style=\"vertical-align: middle; margin-left: 2px; font-size: 0.7em; color: #66bb6a;\">LOC</span></span>. 1 января. <span style=\"padding: 2px; border-radius: 4px; border: 1px solid #ffcdd2; background: #ffebee\">INTERFAX.RU<span style=\"vertical-align: middle; margin-left: 2px; font-size: 0.7em; color: #e57373;\">ORG</span></span> - Личность спасенного при разборе завалов жилого дома в <span style=\"padding: 2px; border-radius: 4px; border: 1px solid #c8e6c9; background: #e8f5e9\">Магнитогорске<span style=\"vertical-align: middle; margin-left: 2px; font-size: 0.7em; color: #66bb6a;\">LOC</span></span> ребенка установила его выжившая мать, сообщает <span style=\"padding: 2px; border-radius: 4px; border: 1px solid #ffcdd2; background: #ffebee\">МЧС<span style=\"vertical-align: middle; margin-left: 2px; font-size: 0.7em; color: #e57373;\">ORG</span></span> <span style=\"padding: 2px; border-radius: 4px; border: 1px solid #c8e6c9; background: #e8f5e9\">России<span style=\"vertical-align: middle; margin-left: 2px; font-size: 0.7em; color: #66bb6a;\">LOC</span></span>. \"Мама мальчика жива. Она приехала в больницу и узнала своего сына\", - сказали в пресс-службе. В настоящее время спасатели <span style=\"padding: 2px; border-radius: 4px; border: 1px solid #ffcdd2; background: #ffebee\">МЧС<span style=\"vertical-align: middle; margin-left: 2px; font-size: 0.7em; color: #e57373;\">ORG</span></span> продолжают сложную операцию по демонтажу нависающих конструкций, добавили в ведомстве. Ранее сообщалось, что ребенка нашли спасатели центра операций особого риска \"<span style=\"padding: 2px; border-radius: 4px; border: 1px solid #ffcdd2; background: #ffebee\">Лидер<span style=\"vertical-align: middle; margin-left: 2px; font-size: 0.7em; color: #e57373;\">ORG</span></span>\". Спасатели раздвинули плиты и услышали плач ребенка. Ребенка спасло то, что он был в кроватке и тепло укутан. Затем ребенка аккуратно достали и передали медикам. Его направили на реанимобиле в детскую больницу. Пресс-служба <span style=\"padding: 2px; border-radius: 4px; border: 1px solid #ffcdd2; background: #ffebee\">Минздрава<span style=\"vertical-align: middle; margin-left: 2px; font-size: 0.7em; color: #e57373;\">ORG</span></span> <span style=\"padding: 2px; border-radius: 4px; border: 1px solid #c8e6c9; background: #e8f5e9\">Челябинской области<span style=\"vertical-align: middle; margin-left: 2px; font-size: 0.7em; color: #66bb6a;\">LOC</span></span> сообщила, что состояние ребенка оценивается врачами как тяжелое : серьезные обморожения, а также закрытая черепно-мозговая травма. Таким образом, число пострадавших в <span style=\"padding: 2px; border-radius: 4px; border: 1px solid #c8e6c9; background: #e8f5e9\">Магнитогорске<span style=\"vertical-align: middle; margin-left: 2px; font-size: 0.7em; color: #66bb6a;\">LOC</span></span> при взрыве бытового газа в жилой многоэтажке достигло шести. В настоящее время известно о восьми погибших .</div>"
      ],
      "text/plain": [
       "BoxMarkup('Москва. 1 января. INTERFAX.RU - Личность спасенного при разборе завалов жилого дома в Магнитогорске ребенка установила его выжившая мать, сообщает МЧС России. \"Мама мальчика жива. Она приехала в больницу и узнала своего сына\", - сказали в пресс-службе. В настоящее время спасатели МЧС продолжают сложную операцию по демонтажу нависающих конструкций, добавили в ведомстве. Ранее сообщалось, что ребенка нашли спасатели центра операций особого риска \"Лидер\". Спасатели раздвинули плиты и услышали плач ребенка. Ребенка спасло то, что он был в кроватке и тепло укутан. Затем ребенка аккуратно достали и передали медикам. Его направили на реанимобиле в детскую больницу. Пресс-служба Минздрава Челябинской области сообщила, что состояние ребенка оценивается врачами как тяжелое : серьезные обморожения, а также закрытая черепно-мозговая травма. Таким образом, число пострадавших в Магнитогорске при взрыве бытового газа в жилой многоэтажке достигло шести. В настоящее время известно о восьми погибших .',\n",
       "          [Span(0, 6, 'LOC'),\n",
       "           Span(18, 29, 'ORG'),\n",
       "           Span(86, 99, 'LOC'),\n",
       "           Span(147, 150, 'ORG'),\n",
       "           Span(151, 157, 'LOC'),\n",
       "           Span(281, 284, 'ORG'),\n",
       "           Span(449, 454, 'ORG'),\n",
       "           Span(680, 689, 'ORG'),\n",
       "           Span(690, 709, 'LOC'),\n",
       "           Span(877, 890, 'LOC')])"
      ]
     },
     "metadata": {},
     "output_type": "display_data"
    },
    {
     "name": "stdout",
     "output_type": "stream",
     "text": [
      "[(0, 6, 'LOC'), (18, 29, 'ORG'), (42, 45, 'LOC'), (46, 59, 'PER'), (283, 286, 'ORG'), (377, 383, 'PER'), (487, 493, 'PER')]\n"
     ]
    },
    {
     "data": {
      "text/html": [
       "<div class=\"tex2jax_ignore\" style=\"white-space: pre-wrap\"><span style=\"padding: 2px; border-radius: 4px; border: 1px solid #c8e6c9; background: #e8f5e9\">Москва<span style=\"vertical-align: middle; margin-left: 2px; font-size: 0.7em; color: #66bb6a;\">LOC</span></span>. 1 января. <span style=\"padding: 2px; border-radius: 4px; border: 1px solid #ffcdd2; background: #ffebee\">INTERFAX.RU<span style=\"vertical-align: middle; margin-left: 2px; font-size: 0.7em; color: #e57373;\">ORG</span></span> - Президент <span style=\"padding: 2px; border-radius: 4px; border: 1px solid #c8e6c9; background: #e8f5e9\">США<span style=\"vertical-align: middle; margin-left: 2px; font-size: 0.7em; color: #66bb6a;\">LOC</span></span> <span style=\"padding: 2px; border-radius: 4px; border: 1px solid #bbdefb; background: #e3f2fd\">Дональд Трамп<span style=\"vertical-align: middle; margin-left: 2px; font-size: 0.7em; color: #64b5f6;\">PER</span></span> в Новый год решил обратиться, в частности, к своим оппонентам, посоветовав им забыть о ненависти к нему и насладиться позитивными переменами в стране. \"Всех - с Новым годом, в том числе - тех, кто меня ненавидит, а также - <span style=\"padding: 2px; border-radius: 4px; border: 1px solid #ffcdd2; background: #ffebee\">СМИ<span style=\"vertical-align: middle; margin-left: 2px; font-size: 0.7em; color: #e57373;\">ORG</span></span>, распространяющих фейковые новости\", - написал он на своей странице в твиттере. По мнению <span style=\"padding: 2px; border-radius: 4px; border: 1px solid #bbdefb; background: #e3f2fd\">Трампа<span style=\"vertical-align: middle; margin-left: 2px; font-size: 0.7em; color: #64b5f6;\">PER</span></span>, \"2019 будет потрясающим годом для тех, кто не страдает синдромом умопомешательства на почве нелюбви к <span style=\"padding: 2px; border-radius: 4px; border: 1px solid #bbdefb; background: #e3f2fd\">Трампу<span style=\"vertical-align: middle; margin-left: 2px; font-size: 0.7em; color: #64b5f6;\">PER</span></span>. Просто успокойтесь и наслаждайтесь поездкой: нашу страну ожидают великолепные события\".</div>"
      ],
      "text/plain": [
       "BoxMarkup('Москва. 1 января. INTERFAX.RU - Президент США Дональд Трамп в Новый год решил обратиться, в частности, к своим оппонентам, посоветовав им забыть о ненависти к нему и насладиться позитивными переменами в стране. \"Всех - с Новым годом, в том числе - тех, кто меня ненавидит, а также - СМИ, распространяющих фейковые новости\", - написал он на своей странице в твиттере. По мнению Трампа, \"2019 будет потрясающим годом для тех, кто не страдает синдромом умопомешательства на почве нелюбви к Трампу. Просто успокойтесь и наслаждайтесь поездкой: нашу страну ожидают великолепные события\".',\n",
       "          [Span(0, 6, 'LOC'),\n",
       "           Span(18, 29, 'ORG'),\n",
       "           Span(42, 45, 'LOC'),\n",
       "           Span(46, 59, 'PER'),\n",
       "           Span(283, 286, 'ORG'),\n",
       "           Span(377, 383, 'PER'),\n",
       "           Span(487, 493, 'PER')])"
      ]
     },
     "metadata": {},
     "output_type": "display_data"
    },
    {
     "name": "stdout",
     "output_type": "stream",
     "text": [
      "[(19, 22, 'ORG'), (28, 37, 'PER'), (50, 56, 'LOC'), (134, 140, 'LOC'), (152, 163, 'ORG'), (176, 179, 'LOC'), (180, 189, 'PER'), (202, 208, 'LOC'), (302, 308, 'LOC'), (367, 378, 'PER'), (420, 426, 'LOC'), (522, 525, 'ORG'), (591, 602, 'PER'), (987, 990, 'ORG'), (1044, 1047, 'LOC'), (1062, 1065, 'LOC'), (1068, 1070, 'LOC'), (1093, 1098, 'PER'), (1121, 1130, 'PER'), (1140, 1146, 'LOC'), (1168, 1171, 'ORG'), (1231, 1234, 'ORG'), (1249, 1252, 'PER'), (1293, 1303, 'ORG'), (1369, 1375, 'LOC'), (1761, 1764, 'ORG'), (1765, 1771, 'LOC'), (1784, 1790, 'LOC'), (1827, 1830, 'LOC'), (1831, 1842, 'PER'), (1855, 1858, 'LOC'), (1861, 1863, 'LOC'), (1907, 1913, 'LOC'), (1949, 1959, 'ORG'), (1996, 1999, 'ORG'), (2000, 2006, 'LOC')]\n"
     ]
    },
    {
     "data": {
      "text/html": [
       "<div class=\"tex2jax_ignore\" style=\"white-space: pre-wrap\">Его брат рассказал <span style=\"padding: 2px; border-radius: 4px; border: 1px solid #ffcdd2; background: #ffebee\">СМИ<span style=\"vertical-align: middle; margin-left: 2px; font-size: 0.7em; color: #e57373;\">ORG</span></span>, что <span style=\"padding: 2px; border-radius: 4px; border: 1px solid #bbdefb; background: #e3f2fd\">Пол Уилан<span style=\"vertical-align: middle; margin-left: 2px; font-size: 0.7em; color: #64b5f6;\">PER</span></span> находился в <span style=\"padding: 2px; border-radius: 4px; border: 1px solid #c8e6c9; background: #e8f5e9\">Москве<span style=\"vertical-align: middle; margin-left: 2px; font-size: 0.7em; color: #66bb6a;\">LOC</span></span>, так как был приглашен на свадьбу, и высказал уверенность в его невиновности <span style=\"padding: 2px; border-radius: 4px; border: 1px solid #c8e6c9; background: #e8f5e9\">Москва<span style=\"vertical-align: middle; margin-left: 2px; font-size: 0.7em; color: #66bb6a;\">LOC</span></span>. 1 января. <span style=\"padding: 2px; border-radius: 4px; border: 1px solid #ffcdd2; background: #ffebee\">INTERFAX.RU<span style=\"vertical-align: middle; margin-left: 2px; font-size: 0.7em; color: #e57373;\">ORG</span></span> - Гражданин <span style=\"padding: 2px; border-radius: 4px; border: 1px solid #c8e6c9; background: #e8f5e9\">США<span style=\"vertical-align: middle; margin-left: 2px; font-size: 0.7em; color: #66bb6a;\">LOC</span></span> <span style=\"padding: 2px; border-radius: 4px; border: 1px solid #bbdefb; background: #e3f2fd\">Пол Уилан<span style=\"vertical-align: middle; margin-left: 2px; font-size: 0.7em; color: #64b5f6;\">PER</span></span>, которого в <span style=\"padding: 2px; border-radius: 4px; border: 1px solid #c8e6c9; background: #e8f5e9\">России<span style=\"vertical-align: middle; margin-left: 2px; font-size: 0.7em; color: #66bb6a;\">LOC</span></span> задержали по подозрению в шпионаже, является отставным морским пехотинцем, который приехал в <span style=\"padding: 2px; border-radius: 4px; border: 1px solid #c8e6c9; background: #e8f5e9\">Москву<span style=\"vertical-align: middle; margin-left: 2px; font-size: 0.7em; color: #66bb6a;\">LOC</span></span> на свадьбу к знакомым, заявил во вторник его брат-близнец <span style=\"padding: 2px; border-radius: 4px; border: 1px solid #bbdefb; background: #e3f2fd\">Дэвид Уилан<span style=\"vertical-align: middle; margin-left: 2px; font-size: 0.7em; color: #64b5f6;\">PER</span></span>. \"Пол - отставной морпех. Он находился в <span style=\"padding: 2px; border-radius: 4px; border: 1px solid #c8e6c9; background: #e8f5e9\">Москве<span style=\"vertical-align: middle; margin-left: 2px; font-size: 0.7em; color: #66bb6a;\">LOC</span></span>, так как был приглашен на свадьбу\", - говорится в его заявлении, выдержки из которого приводит <span style=\"padding: 2px; border-radius: 4px; border: 1px solid #ffcdd2; background: #ffebee\">CNN<span style=\"vertical-align: middle; margin-left: 2px; font-size: 0.7em; color: #e57373;\">ORG</span></span> . \"Мы опасаемся за его безопасность и самочувствие, - подчеркнул <span style=\"padding: 2px; border-radius: 4px; border: 1px solid #bbdefb; background: #e3f2fd\">Дэвид Уилан<span style=\"vertical-align: middle; margin-left: 2px; font-size: 0.7em; color: #64b5f6;\">PER</span></span>. - Нет сомнений в том, что он невиновен, и мы верим, что его права будут соблюдены\". \"Мы очень волновались, когда потеряли с ним связь. Сейчас мы тоже волнуемся, но хотя бы знаем, что он жив\", - добавил собеседник телеканала. Он рассказал, что с 28 декабря не получал сообщений от брата, а о том, что того задержали, узнал лишь в понедельник - после публикации новостей на эту тему в <span style=\"padding: 2px; border-radius: 4px; border: 1px solid #ffcdd2; background: #ffebee\">СМИ<span style=\"vertical-align: middle; margin-left: 2px; font-size: 0.7em; color: #e57373;\">ORG</span></span>. Семья задержанного обратилась за помощью в конгресс <span style=\"padding: 2px; border-radius: 4px; border: 1px solid #c8e6c9; background: #e8f5e9\">США<span style=\"vertical-align: middle; margin-left: 2px; font-size: 0.7em; color: #66bb6a;\">LOC</span></span>, в посольство <span style=\"padding: 2px; border-radius: 4px; border: 1px solid #c8e6c9; background: #e8f5e9\">США<span style=\"vertical-align: middle; margin-left: 2px; font-size: 0.7em; color: #66bb6a;\">LOC</span></span> в <span style=\"padding: 2px; border-radius: 4px; border: 1px solid #c8e6c9; background: #e8f5e9\">РФ<span style=\"vertical-align: middle; margin-left: 2px; font-size: 0.7em; color: #66bb6a;\">LOC</span></span> и в госдеп, рассказал <span style=\"padding: 2px; border-radius: 4px; border: 1px solid #bbdefb; background: #e3f2fd\">Дэвид<span style=\"vertical-align: middle; margin-left: 2px; font-size: 0.7em; color: #64b5f6;\">PER</span></span>. Изначально 48-летний <span style=\"padding: 2px; border-radius: 4px; border: 1px solid #bbdefb; background: #e3f2fd\">Пол Уилан<span style=\"vertical-align: middle; margin-left: 2px; font-size: 0.7em; color: #64b5f6;\">PER</span></span> прибыл в <span style=\"padding: 2px; border-radius: 4px; border: 1px solid #c8e6c9; background: #e8f5e9\">Россию<span style=\"vertical-align: middle; margin-left: 2px; font-size: 0.7em; color: #66bb6a;\">LOC</span></span> 22 декабря, сообщает <span style=\"padding: 2px; border-radius: 4px; border: 1px solid #ffcdd2; background: #ffebee\">CNN<span style=\"vertical-align: middle; margin-left: 2px; font-size: 0.7em; color: #e57373;\">ORG</span></span>. Свадьба, на которую его пригласили, состоялась в пятницу. <span style=\"padding: 2px; border-radius: 4px; border: 1px solid #ffcdd2; background: #ffebee\">CNN<span style=\"vertical-align: middle; margin-left: 2px; font-size: 0.7em; color: #e57373;\">ORG</span></span> сообщает, что <span style=\"padding: 2px; border-radius: 4px; border: 1px solid #bbdefb; background: #e3f2fd\">Пол<span style=\"vertical-align: middle; margin-left: 2px; font-size: 0.7em; color: #64b5f6;\">PER</span></span> возглавлял службу безопасности компании <span style=\"padding: 2px; border-radius: 4px; border: 1px solid #ffcdd2; background: #ffebee\">BorgWarner<span style=\"vertical-align: middle; margin-left: 2px; font-size: 0.7em; color: #e57373;\">ORG</span></span>, производящей детали для автомобилей. Эта компания не работает в <span style=\"padding: 2px; border-radius: 4px; border: 1px solid #c8e6c9; background: #e8f5e9\">России<span style=\"vertical-align: middle; margin-left: 2px; font-size: 0.7em; color: #66bb6a;\">LOC</span></span>. \"Насколько я понимаю, он отвечал за физическую безопасность объектов своего работодателя. Он должен был гарантировать, что никто ничего не ворует, что нет взломов, - сказал брат задержанного. - Но речь не шла о кибербезопасности. И он не выполнял работу, наподобие той, которую делают телохранители. Он отвечал именно за безопасность помещений\". Как сообщалось, 28 декабря сотрудники <span style=\"padding: 2px; border-radius: 4px; border: 1px solid #ffcdd2; background: #ffebee\">ФСБ<span style=\"vertical-align: middle; margin-left: 2px; font-size: 0.7em; color: #e57373;\">ORG</span></span> <span style=\"padding: 2px; border-radius: 4px; border: 1px solid #c8e6c9; background: #e8f5e9\">России<span style=\"vertical-align: middle; margin-left: 2px; font-size: 0.7em; color: #66bb6a;\">LOC</span></span> задержали в <span style=\"padding: 2px; border-radius: 4px; border: 1px solid #c8e6c9; background: #e8f5e9\">Москве<span style=\"vertical-align: middle; margin-left: 2px; font-size: 0.7em; color: #66bb6a;\">LOC</span></span> по подозрению в шпионаже гражданина <span style=\"padding: 2px; border-radius: 4px; border: 1px solid #c8e6c9; background: #e8f5e9\">США<span style=\"vertical-align: middle; margin-left: 2px; font-size: 0.7em; color: #66bb6a;\">LOC</span></span> <span style=\"padding: 2px; border-radius: 4px; border: 1px solid #bbdefb; background: #e3f2fd\">Пола Уилана<span style=\"vertical-align: middle; margin-left: 2px; font-size: 0.7em; color: #64b5f6;\">PER</span></span>. Посольство <span style=\"padding: 2px; border-radius: 4px; border: 1px solid #c8e6c9; background: #e8f5e9\">США<span style=\"vertical-align: middle; margin-left: 2px; font-size: 0.7em; color: #66bb6a;\">LOC</span></span> в <span style=\"padding: 2px; border-radius: 4px; border: 1px solid #c8e6c9; background: #e8f5e9\">РФ<span style=\"vertical-align: middle; margin-left: 2px; font-size: 0.7em; color: #66bb6a;\">LOC</span></span> уведомили о задержании гражданина страны в <span style=\"padding: 2px; border-radius: 4px; border: 1px solid #c8e6c9; background: #e8f5e9\">Москве<span style=\"vertical-align: middle; margin-left: 2px; font-size: 0.7em; color: #66bb6a;\">LOC</span></span> по подозрению в шпионаже, заявили \"<span style=\"padding: 2px; border-radius: 4px; border: 1px solid #ffcdd2; background: #ffebee\">Интерфаксу<span style=\"vertical-align: middle; margin-left: 2px; font-size: 0.7em; color: #e57373;\">ORG</span></span>\" в департаменте информации и печати <span style=\"padding: 2px; border-radius: 4px; border: 1px solid #ffcdd2; background: #ffebee\">МИД<span style=\"vertical-align: middle; margin-left: 2px; font-size: 0.7em; color: #e57373;\">ORG</span></span> <span style=\"padding: 2px; border-radius: 4px; border: 1px solid #c8e6c9; background: #e8f5e9\">России<span style=\"vertical-align: middle; margin-left: 2px; font-size: 0.7em; color: #66bb6a;\">LOC</span></span>. В свою очередь американское посольство запросило консульский доступ к задержанному.</div>"
      ],
      "text/plain": [
       "BoxMarkup('Его брат рассказал СМИ, что Пол Уилан находился в Москве, так как был приглашен на свадьбу, и высказал уверенность в его невиновности Москва. 1 января. INTERFAX.RU - Гражданин США Пол Уилан, которого в России задержали по подозрению в шпионаже, является отставным морским пехотинцем, который приехал в Москву на свадьбу к знакомым, заявил во вторник его брат-близнец Дэвид Уилан. \"Пол - отставной морпех. Он находился в Москве, так как был приглашен на свадьбу\", - говорится в его заявлении, выдержки из которого приводит CNN . \"Мы опасаемся за его безопасность и самочувствие, - подчеркнул Дэвид Уилан. - Нет сомнений в том, что он невиновен, и мы верим, что его права будут соблюдены\". \"Мы очень волновались, когда потеряли с ним связь. Сейчас мы тоже волнуемся, но хотя бы знаем, что он жив\", - добавил собеседник телеканала. Он рассказал, что с 28 декабря не получал сообщений от брата, а о том, что того задержали, узнал лишь в понедельник - после публикации новостей на эту тему в СМИ. Семья задержанного обратилась за помощью в конгресс США, в посольство США в РФ и в госдеп, рассказал Дэвид. Изначально 48-летний Пол Уилан прибыл в Россию 22 декабря, сообщает CNN. Свадьба, на которую его пригласили, состоялась в пятницу. CNN сообщает, что Пол возглавлял службу безопасности компании BorgWarner, производящей детали для автомобилей. Эта компания не работает в России. \"Насколько я понимаю, он отвечал за физическую безопасность объектов своего работодателя. Он должен был гарантировать, что никто ничего не ворует, что нет взломов, - сказал брат задержанного. - Но речь не шла о кибербезопасности. И он не выполнял работу, наподобие той, которую делают телохранители. Он отвечал именно за безопасность помещений\". Как сообщалось, 28 декабря сотрудники ФСБ России задержали в Москве по подозрению в шпионаже гражданина США Пола Уилана. Посольство США в РФ уведомили о задержании гражданина страны в Москве по подозрению в шпионаже, заявили \"Интерфаксу\" в департаменте информации и печати МИД России. В свою очередь американское посольство запросило консульский доступ к задержанному.',\n",
       "          [Span(19, 22, 'ORG'),\n",
       "           Span(28, 37, 'PER'),\n",
       "           Span(50, 56, 'LOC'),\n",
       "           Span(134, 140, 'LOC'),\n",
       "           Span(152, 163, 'ORG'),\n",
       "           Span(176, 179, 'LOC'),\n",
       "           Span(180, 189, 'PER'),\n",
       "           Span(202, 208, 'LOC'),\n",
       "           Span(302, 308, 'LOC'),\n",
       "           Span(367, 378, 'PER'),\n",
       "           Span(420, 426, 'LOC'),\n",
       "           Span(522, 525, 'ORG'),\n",
       "           Span(591, 602, 'PER'),\n",
       "           Span(987, 990, 'ORG'),\n",
       "           Span(1044, 1047, 'LOC'),\n",
       "           Span(1062, 1065, 'LOC'),\n",
       "           Span(1068, 1070, 'LOC'),\n",
       "           Span(1093, 1098, 'PER'),\n",
       "           Span(1121, 1130, 'PER'),\n",
       "           Span(1140, 1146, 'LOC'),\n",
       "           Span(1168, 1171, 'ORG'),\n",
       "           Span(1231, 1234, 'ORG'),\n",
       "           Span(1249, 1252, 'PER'),\n",
       "           Span(1293, 1303, 'ORG'),\n",
       "           Span(1369, 1375, 'LOC'),\n",
       "           Span(1761, 1764, 'ORG'),\n",
       "           Span(1765, 1771, 'LOC'),\n",
       "           Span(1784, 1790, 'LOC'),\n",
       "           Span(1827, 1830, 'LOC'),\n",
       "           Span(1831, 1842, 'PER'),\n",
       "           Span(1855, 1858, 'LOC'),\n",
       "           Span(1861, 1863, 'LOC'),\n",
       "           Span(1907, 1913, 'LOC'),\n",
       "           Span(1949, 1959, 'ORG'),\n",
       "           Span(1996, 1999, 'ORG'),\n",
       "           Span(2000, 2006, 'LOC')])"
      ]
     },
     "metadata": {},
     "output_type": "display_data"
    },
    {
     "name": "stdout",
     "output_type": "stream",
     "text": [
      "[(0, 6, 'LOC'), (18, 29, 'ORG'), (32, 52, 'ORG'), (70, 84, 'ORG'), (85, 99, 'PER'), (169, 179, 'ORG'), (320, 340, 'ORG'), (428, 438, 'ORG'), (440, 457, 'PER'), (502, 508, 'LOC'), (509, 523, 'PER'), (551, 560, 'ORG'), (740, 747, 'PER'), (890, 900, 'ORG'), (1002, 1016, 'LOC')]\n"
     ]
    },
    {
     "data": {
      "text/html": [
       "<div class=\"tex2jax_ignore\" style=\"white-space: pre-wrap\"><span style=\"padding: 2px; border-radius: 4px; border: 1px solid #c8e6c9; background: #e8f5e9\">Москва<span style=\"vertical-align: middle; margin-left: 2px; font-size: 0.7em; color: #66bb6a;\">LOC</span></span>. 1 января. <span style=\"padding: 2px; border-radius: 4px; border: 1px solid #ffcdd2; background: #ffebee\">INTERFAX.RU<span style=\"vertical-align: middle; margin-left: 2px; font-size: 0.7em; color: #e57373;\">ORG</span></span> - <span style=\"padding: 2px; border-radius: 4px; border: 1px solid #ffcdd2; background: #ffebee\">Департамент культуры<span style=\"vertical-align: middle; margin-left: 2px; font-size: 0.7em; color: #e57373;\">ORG</span></span> уволил директора <span style=\"padding: 2px; border-radius: 4px; border: 1px solid #ffcdd2; background: #ffebee\">Парка Горького<span style=\"vertical-align: middle; margin-left: 2px; font-size: 0.7em; color: #e57373;\">ORG</span></span> <span style=\"padding: 2px; border-radius: 4px; border: 1px solid #bbdefb; background: #e3f2fd\">Марину Люльчук<span style=\"vertical-align: middle; margin-left: 2px; font-size: 0.7em; color: #64b5f6;\">PER</span></span> после обрушения моста на его территории в новогоднюю ночь, сообщили \"<span style=\"padding: 2px; border-radius: 4px; border: 1px solid #ffcdd2; background: #ffebee\">Интерфаксу<span style=\"vertical-align: middle; margin-left: 2px; font-size: 0.7em; color: #e57373;\">ORG</span></span>\" в пресс-службе ведомства во вторник. \"Сегодня прекращены трудовые отношения с директором и заместителем директора по режиму и безопасности <span style=\"padding: 2px; border-radius: 4px; border: 1px solid #ffcdd2; background: #ffebee\">ЦПКиО имени Горького<span style=\"vertical-align: middle; margin-left: 2px; font-size: 0.7em; color: #e57373;\">ORG</span></span>, обязанности директора парка временно возложены на руководителя объединенной дирекции \"<span style=\"padding: 2px; border-radius: 4px; border: 1px solid #ffcdd2; background: #ffebee\">Мосгорпарк<span style=\"vertical-align: middle; margin-left: 2px; font-size: 0.7em; color: #e57373;\">ORG</span></span>\" <span style=\"padding: 2px; border-radius: 4px; border: 1px solid #bbdefb; background: #e3f2fd\">Вячеслава Дунаева<span style=\"vertical-align: middle; margin-left: 2px; font-size: 0.7em; color: #64b5f6;\">PER</span></span>\", - уточнил собеседник агентства. Ранее мэр <span style=\"padding: 2px; border-radius: 4px; border: 1px solid #c8e6c9; background: #e8f5e9\">Москвы<span style=\"vertical-align: middle; margin-left: 2px; font-size: 0.7em; color: #66bb6a;\">LOC</span></span> <span style=\"padding: 2px; border-radius: 4px; border: 1px solid #bbdefb; background: #e3f2fd\">Сергей Собянин<span style=\"vertical-align: middle; margin-left: 2px; font-size: 0.7em; color: #64b5f6;\">PER</span></span> написал на своей странице \"<span style=\"padding: 2px; border-radius: 4px; border: 1px solid #ffcdd2; background: #ffebee\">ВКонтакте<span style=\"vertical-align: middle; margin-left: 2px; font-size: 0.7em; color: #e57373;\">ORG</span></span>\", что виновные в ЧП в парке будут наказаны, \"но уже очевидно, что администрация парка допустила серьезную недоработку\". Он заявил, что дал поручение департаменту культуры уволить <span style=\"padding: 2px; border-radius: 4px; border: 1px solid #bbdefb; background: #e3f2fd\">Люльчук<span style=\"vertical-align: middle; margin-left: 2px; font-size: 0.7em; color: #64b5f6;\">PER</span></span>. По данным мэра, в больницах после инцидента находятся 12 пострадавших, тяжелых травм нет. Ночью 1 января информированные источники сообщали \"<span style=\"padding: 2px; border-radius: 4px; border: 1px solid #ffcdd2; background: #ffebee\">Интерфаксу<span style=\"vertical-align: middle; margin-left: 2px; font-size: 0.7em; color: #e57373;\">ORG</span></span>\", что во время запуска фейерверков и новогодних поздравлений рухнула конструкция деревянного моста в <span style=\"padding: 2px; border-radius: 4px; border: 1px solid #c8e6c9; background: #e8f5e9\">Парке Горького<span style=\"vertical-align: middle; margin-left: 2px; font-size: 0.7em; color: #66bb6a;\">LOC</span></span>, пострадали люди.</div>"
      ],
      "text/plain": [
       "BoxMarkup('Москва. 1 января. INTERFAX.RU - Департамент культуры уволил директора Парка Горького Марину Люльчук после обрушения моста на его территории в новогоднюю ночь, сообщили \"Интерфаксу\" в пресс-службе ведомства во вторник. \"Сегодня прекращены трудовые отношения с директором и заместителем директора по режиму и безопасности ЦПКиО имени Горького, обязанности директора парка временно возложены на руководителя объединенной дирекции \"Мосгорпарк\" Вячеслава Дунаева\", - уточнил собеседник агентства. Ранее мэр Москвы Сергей Собянин написал на своей странице \"ВКонтакте\", что виновные в ЧП в парке будут наказаны, \"но уже очевидно, что администрация парка допустила серьезную недоработку\". Он заявил, что дал поручение департаменту культуры уволить Люльчук. По данным мэра, в больницах после инцидента находятся 12 пострадавших, тяжелых травм нет. Ночью 1 января информированные источники сообщали \"Интерфаксу\", что во время запуска фейерверков и новогодних поздравлений рухнула конструкция деревянного моста в Парке Горького, пострадали люди.',\n",
       "          [Span(0, 6, 'LOC'),\n",
       "           Span(18, 29, 'ORG'),\n",
       "           Span(32, 52, 'ORG'),\n",
       "           Span(70, 84, 'ORG'),\n",
       "           Span(85, 99, 'PER'),\n",
       "           Span(169, 179, 'ORG'),\n",
       "           Span(320, 340, 'ORG'),\n",
       "           Span(428, 438, 'ORG'),\n",
       "           Span(440, 457, 'PER'),\n",
       "           Span(502, 508, 'LOC'),\n",
       "           Span(509, 523, 'PER'),\n",
       "           Span(551, 560, 'ORG'),\n",
       "           Span(740, 747, 'PER'),\n",
       "           Span(890, 900, 'ORG'),\n",
       "           Span(1002, 1016, 'LOC')])"
      ]
     },
     "metadata": {},
     "output_type": "display_data"
    },
    {
     "name": "stdout",
     "output_type": "stream",
     "text": [
      "[(87, 93, 'LOC'), (105, 116, 'ORG'), (131, 144, 'LOC'), (225, 235, 'ORG'), (862, 868, 'LOC'), (956, 969, 'LOC'), (1069, 1082, 'LOC'), (1206, 1218, 'LOC'), (1309, 1322, 'LOC'), (1474, 1492, 'ORG'), (1493, 1496, 'ORG'), (1497, 1503, 'LOC'), (1507, 1526, 'LOC'), (1616, 1635, 'LOC'), (1791, 1793, 'LOC')]\n"
     ]
    },
    {
     "data": {
      "text/html": [
       "<div class=\"tex2jax_ignore\" style=\"white-space: pre-wrap\">В настоящее время продолжается разбор нижних завалов пострадавшего от взрыва газа дома <span style=\"padding: 2px; border-radius: 4px; border: 1px solid #c8e6c9; background: #e8f5e9\">Москва<span style=\"vertical-align: middle; margin-left: 2px; font-size: 0.7em; color: #66bb6a;\">LOC</span></span>. 1 января. <span style=\"padding: 2px; border-radius: 4px; border: 1px solid #ffcdd2; background: #ffebee\">INTERFAX.RU<span style=\"vertical-align: middle; margin-left: 2px; font-size: 0.7em; color: #e57373;\">ORG</span></span> - Спасатели в <span style=\"padding: 2px; border-radius: 4px; border: 1px solid #c8e6c9; background: #e8f5e9\">Магнитогорске<span style=\"vertical-align: middle; margin-left: 2px; font-size: 0.7em; color: #66bb6a;\">LOC</span></span> продолжают разбор нижних завалов, под которыми могут находиться люди, сообщили \"<span style=\"padding: 2px; border-radius: 4px; border: 1px solid #ffcdd2; background: #ffebee\">Интерфаксу<span style=\"vertical-align: middle; margin-left: 2px; font-size: 0.7em; color: #e57373;\">ORG</span></span>\" в пресс-службе губернатора во вторник. \"Сегодня днем сняли нависающие конструкции, которые грозили обрушением и были опасны. Сейчас при участии техники продолжается разбор завалов внизу\", - сказал сотрудник пресс-службы. Работы планируется продолжать круглосуточно. Ранее сообщалось, что спасательная операция из-за угрозы обрушения переведена в формат демонтажа угрожающих обрушением конструкций. Внутрь обрушившихся конструкций дома подают тепло специальными тепловыми пушками. Вечером вторника из-под завалов извлекли живым 10-месячного мальчика . Его состояние оценивается как крайне тяжелое. Ребенок будет эвакуирован в <span style=\"padding: 2px; border-radius: 4px; border: 1px solid #c8e6c9; background: #e8f5e9\">Москву<span style=\"vertical-align: middle; margin-left: 2px; font-size: 0.7em; color: #66bb6a;\">LOC</span></span>, в ведущий центр детской хирургии и травматологии. Таким образом, число пострадавших в <span style=\"padding: 2px; border-radius: 4px; border: 1px solid #c8e6c9; background: #e8f5e9\">Магнитогорске<span style=\"vertical-align: middle; margin-left: 2px; font-size: 0.7em; color: #66bb6a;\">LOC</span></span> достигло шести. Ранее сообщалось, что в больницах находится пять человек, один из них - ребенок. В <span style=\"padding: 2px; border-radius: 4px; border: 1px solid #c8e6c9; background: #e8f5e9\">Магнитогорске<span style=\"vertical-align: middle; margin-left: 2px; font-size: 0.7em; color: #66bb6a;\">LOC</span></span> утром 31 декабря из-за взрыва бытового газа произошло обрушение одного из подъездов десятиэтажного дома по адресу проспект <span style=\"padding: 2px; border-radius: 4px; border: 1px solid #c8e6c9; background: #e8f5e9\">Карла Маркса<span style=\"vertical-align: middle; margin-left: 2px; font-size: 0.7em; color: #66bb6a;\">LOC</span></span>, 164. Здание было построено в 1973 году. По последним данным, количество жертв трагедии в <span style=\"padding: 2px; border-radius: 4px; border: 1px solid #c8e6c9; background: #e8f5e9\">Магнитогорске<span style=\"vertical-align: middle; margin-left: 2px; font-size: 0.7em; color: #66bb6a;\">LOC</span></span> составило восемь человек , детей среди них нет. Спасатели извлекли из-под завалов семь тел. Остается неизвестной судьба более трех десятков человек. В <span style=\"padding: 2px; border-radius: 4px; border: 1px solid #ffcdd2; background: #ffebee\">Главном управлении<span style=\"vertical-align: middle; margin-left: 2px; font-size: 0.7em; color: #e57373;\">ORG</span></span> <span style=\"padding: 2px; border-radius: 4px; border: 1px solid #ffcdd2; background: #ffebee\">МЧС<span style=\"vertical-align: middle; margin-left: 2px; font-size: 0.7em; color: #e57373;\">ORG</span></span> <span style=\"padding: 2px; border-radius: 4px; border: 1px solid #c8e6c9; background: #e8f5e9\">России<span style=\"vertical-align: middle; margin-left: 2px; font-size: 0.7em; color: #66bb6a;\">LOC</span></span> по <span style=\"padding: 2px; border-radius: 4px; border: 1px solid #c8e6c9; background: #e8f5e9\">Челябинской области<span style=\"vertical-align: middle; margin-left: 2px; font-size: 0.7em; color: #66bb6a;\">LOC</span></span> продолжает действовать телефон \"горячей линии\" (8-351-239-99-99) . В связи с трагедией в <span style=\"padding: 2px; border-radius: 4px; border: 1px solid #c8e6c9; background: #e8f5e9\">Челябинской области<span style=\"vertical-align: middle; margin-left: 2px; font-size: 0.7em; color: #66bb6a;\">LOC</span></span> 2 января объявлен траур . По данному факту было возбуждено уголовное дело о причинении смерти по неосторожности двум и более лицам ( часть 3 статьи 109 УК <span style=\"padding: 2px; border-radius: 4px; border: 1px solid #c8e6c9; background: #e8f5e9\">РФ<span style=\"vertical-align: middle; margin-left: 2px; font-size: 0.7em; color: #66bb6a;\">LOC</span></span> ).</div>"
      ],
      "text/plain": [
       "BoxMarkup('В настоящее время продолжается разбор нижних завалов пострадавшего от взрыва газа дома Москва. 1 января. INTERFAX.RU - Спасатели в Магнитогорске продолжают разбор нижних завалов, под которыми могут находиться люди, сообщили \"Интерфаксу\" в пресс-службе губернатора во вторник. \"Сегодня днем сняли нависающие конструкции, которые грозили обрушением и были опасны. Сейчас при участии техники продолжается разбор завалов внизу\", - сказал сотрудник пресс-службы. Работы планируется продолжать круглосуточно. Ранее сообщалось, что спасательная операция из-за угрозы обрушения переведена в формат демонтажа угрожающих обрушением конструкций. Внутрь обрушившихся конструкций дома подают тепло специальными тепловыми пушками. Вечером вторника из-под завалов извлекли живым 10-месячного мальчика . Его состояние оценивается как крайне тяжелое. Ребенок будет эвакуирован в Москву, в ведущий центр детской хирургии и травматологии. Таким образом, число пострадавших в Магнитогорске достигло шести. Ранее сообщалось, что в больницах находится пять человек, один из них - ребенок. В Магнитогорске утром 31 декабря из-за взрыва бытового газа произошло обрушение одного из подъездов десятиэтажного дома по адресу проспект Карла Маркса, 164. Здание было построено в 1973 году. По последним данным, количество жертв трагедии в Магнитогорске составило восемь человек , детей среди них нет. Спасатели извлекли из-под завалов семь тел. Остается неизвестной судьба более трех десятков человек. В Главном управлении МЧС России по Челябинской области продолжает действовать телефон \"горячей линии\" (8-351-239-99-99) . В связи с трагедией в Челябинской области 2 января объявлен траур . По данному факту было возбуждено уголовное дело о причинении смерти по неосторожности двум и более лицам ( часть 3 статьи 109 УК РФ ).',\n",
       "          [Span(87, 93, 'LOC'),\n",
       "           Span(105, 116, 'ORG'),\n",
       "           Span(131, 144, 'LOC'),\n",
       "           Span(225, 235, 'ORG'),\n",
       "           Span(862, 868, 'LOC'),\n",
       "           Span(956, 969, 'LOC'),\n",
       "           Span(1069, 1082, 'LOC'),\n",
       "           Span(1206, 1218, 'LOC'),\n",
       "           Span(1309, 1322, 'LOC'),\n",
       "           Span(1474, 1492, 'ORG'),\n",
       "           Span(1493, 1496, 'ORG'),\n",
       "           Span(1497, 1503, 'LOC'),\n",
       "           Span(1507, 1526, 'LOC'),\n",
       "           Span(1616, 1635, 'LOC'),\n",
       "           Span(1791, 1793, 'LOC')])"
      ]
     },
     "metadata": {},
     "output_type": "display_data"
    },
    {
     "name": "stdout",
     "output_type": "stream",
     "text": [
      "[(34, 40, 'LOC'), (52, 63, 'ORG'), (136, 149, 'LOC'), (161, 171, 'ORG'), (188, 190, 'ORG'), (191, 194, 'ORG'), (198, 217, 'LOC'), (515, 521, 'LOC'), (609, 622, 'LOC'), (750, 763, 'LOC'), (837, 850, 'LOC'), (974, 986, 'LOC'), (1077, 1090, 'LOC'), (1198, 1216, 'ORG'), (1217, 1220, 'ORG'), (1221, 1227, 'LOC'), (1231, 1250, 'LOC'), (1340, 1359, 'LOC')]\n"
     ]
    },
    {
     "data": {
      "text/html": [
       "<div class=\"tex2jax_ignore\" style=\"white-space: pre-wrap\">По данным спасателей, это женщина <span style=\"padding: 2px; border-radius: 4px; border: 1px solid #c8e6c9; background: #e8f5e9\">Москва<span style=\"vertical-align: middle; margin-left: 2px; font-size: 0.7em; color: #66bb6a;\">LOC</span></span>. 1 января. <span style=\"padding: 2px; border-radius: 4px; border: 1px solid #ffcdd2; background: #ffebee\">INTERFAX.RU<span style=\"vertical-align: middle; margin-left: 2px; font-size: 0.7em; color: #e57373;\">ORG</span></span> - Тело восьмого погибшего извлечено из-под завалов обрушившегося дома в <span style=\"padding: 2px; border-radius: 4px; border: 1px solid #c8e6c9; background: #e8f5e9\">Магнитогорске<span style=\"vertical-align: middle; margin-left: 2px; font-size: 0.7em; color: #66bb6a;\">LOC</span></span>, сообщили \"<span style=\"padding: 2px; border-radius: 4px; border: 1px solid #ffcdd2; background: #ffebee\">Интерфаксу<span style=\"vertical-align: middle; margin-left: 2px; font-size: 0.7em; color: #e57373;\">ORG</span></span>\" в пресс-службе <span style=\"padding: 2px; border-radius: 4px; border: 1px solid #ffcdd2; background: #ffebee\">ГУ<span style=\"vertical-align: middle; margin-left: 2px; font-size: 0.7em; color: #e57373;\">ORG</span></span> <span style=\"padding: 2px; border-radius: 4px; border: 1px solid #ffcdd2; background: #ffebee\">МЧС<span style=\"vertical-align: middle; margin-left: 2px; font-size: 0.7em; color: #e57373;\">ORG</span></span> по <span style=\"padding: 2px; border-radius: 4px; border: 1px solid #c8e6c9; background: #e8f5e9\">Челябинской области<span style=\"vertical-align: middle; margin-left: 2px; font-size: 0.7em; color: #66bb6a;\">LOC</span></span> во вторник. \"Восьмой погибший извлечен из-под завалов. Это женщина. Ее нашли вскоре после того, как извлекли живым младенца\", - сказали в пресс-службе. Вечером вторника из-под завалов извлекли живым 10-месячного мальчика . Его состояние оценивается как крайне тяжелое. Ребенок будет эвакуирован в <span style=\"padding: 2px; border-radius: 4px; border: 1px solid #c8e6c9; background: #e8f5e9\">Москву<span style=\"vertical-align: middle; margin-left: 2px; font-size: 0.7em; color: #66bb6a;\">LOC</span></span>, в ведущий центр детской хирургии и травматологии. Таким образом, число пострадавших в <span style=\"padding: 2px; border-radius: 4px; border: 1px solid #c8e6c9; background: #e8f5e9\">Магнитогорске<span style=\"vertical-align: middle; margin-left: 2px; font-size: 0.7em; color: #66bb6a;\">LOC</span></span> достигло шести. Ранее сообщалось, что в больницах находится пять человек, один из них - ребенок. В настоящее время спасатели в <span style=\"padding: 2px; border-radius: 4px; border: 1px solid #c8e6c9; background: #e8f5e9\">Магнитогорске<span style=\"vertical-align: middle; margin-left: 2px; font-size: 0.7em; color: #66bb6a;\">LOC</span></span> продолжают разбор нижних завалов , под которыми могут находиться люди. В <span style=\"padding: 2px; border-radius: 4px; border: 1px solid #c8e6c9; background: #e8f5e9\">Магнитогорске<span style=\"vertical-align: middle; margin-left: 2px; font-size: 0.7em; color: #66bb6a;\">LOC</span></span> утром 31 декабря из-за взрыва бытового газа произошло обрушение одного из подъездов десятиэтажного дома по адресу проспект <span style=\"padding: 2px; border-radius: 4px; border: 1px solid #c8e6c9; background: #e8f5e9\">Карла Маркса<span style=\"vertical-align: middle; margin-left: 2px; font-size: 0.7em; color: #66bb6a;\">LOC</span></span>, 164. Здание было построено в 1973 году. По последним данным, количество жертв трагедии в <span style=\"padding: 2px; border-radius: 4px; border: 1px solid #c8e6c9; background: #e8f5e9\">Магнитогорске<span style=\"vertical-align: middle; margin-left: 2px; font-size: 0.7em; color: #66bb6a;\">LOC</span></span> составило восемь человек , детей среди них нет. Остается неизвестной судьба более трех десятков человек. В <span style=\"padding: 2px; border-radius: 4px; border: 1px solid #ffcdd2; background: #ffebee\">Главном управлении<span style=\"vertical-align: middle; margin-left: 2px; font-size: 0.7em; color: #e57373;\">ORG</span></span> <span style=\"padding: 2px; border-radius: 4px; border: 1px solid #ffcdd2; background: #ffebee\">МЧС<span style=\"vertical-align: middle; margin-left: 2px; font-size: 0.7em; color: #e57373;\">ORG</span></span> <span style=\"padding: 2px; border-radius: 4px; border: 1px solid #c8e6c9; background: #e8f5e9\">России<span style=\"vertical-align: middle; margin-left: 2px; font-size: 0.7em; color: #66bb6a;\">LOC</span></span> по <span style=\"padding: 2px; border-radius: 4px; border: 1px solid #c8e6c9; background: #e8f5e9\">Челябинской области<span style=\"vertical-align: middle; margin-left: 2px; font-size: 0.7em; color: #66bb6a;\">LOC</span></span> продолжает действовать телефон \"горячей линии\" (8-351-239-99-99) . В связи с трагедией в <span style=\"padding: 2px; border-radius: 4px; border: 1px solid #c8e6c9; background: #e8f5e9\">Челябинской области<span style=\"vertical-align: middle; margin-left: 2px; font-size: 0.7em; color: #66bb6a;\">LOC</span></span> 2 января объявлен траур .</div>"
      ],
      "text/plain": [
       "BoxMarkup('По данным спасателей, это женщина Москва. 1 января. INTERFAX.RU - Тело восьмого погибшего извлечено из-под завалов обрушившегося дома в Магнитогорске, сообщили \"Интерфаксу\" в пресс-службе ГУ МЧС по Челябинской области во вторник. \"Восьмой погибший извлечен из-под завалов. Это женщина. Ее нашли вскоре после того, как извлекли живым младенца\", - сказали в пресс-службе. Вечером вторника из-под завалов извлекли живым 10-месячного мальчика . Его состояние оценивается как крайне тяжелое. Ребенок будет эвакуирован в Москву, в ведущий центр детской хирургии и травматологии. Таким образом, число пострадавших в Магнитогорске достигло шести. Ранее сообщалось, что в больницах находится пять человек, один из них - ребенок. В настоящее время спасатели в Магнитогорске продолжают разбор нижних завалов , под которыми могут находиться люди. В Магнитогорске утром 31 декабря из-за взрыва бытового газа произошло обрушение одного из подъездов десятиэтажного дома по адресу проспект Карла Маркса, 164. Здание было построено в 1973 году. По последним данным, количество жертв трагедии в Магнитогорске составило восемь человек , детей среди них нет. Остается неизвестной судьба более трех десятков человек. В Главном управлении МЧС России по Челябинской области продолжает действовать телефон \"горячей линии\" (8-351-239-99-99) . В связи с трагедией в Челябинской области 2 января объявлен траур .',\n",
       "          [Span(34, 40, 'LOC'),\n",
       "           Span(52, 63, 'ORG'),\n",
       "           Span(136, 149, 'LOC'),\n",
       "           Span(161, 171, 'ORG'),\n",
       "           Span(188, 190, 'ORG'),\n",
       "           Span(191, 194, 'ORG'),\n",
       "           Span(198, 217, 'LOC'),\n",
       "           Span(515, 521, 'LOC'),\n",
       "           Span(609, 622, 'LOC'),\n",
       "           Span(750, 763, 'LOC'),\n",
       "           Span(837, 850, 'LOC'),\n",
       "           Span(974, 986, 'LOC'),\n",
       "           Span(1077, 1090, 'LOC'),\n",
       "           Span(1198, 1216, 'ORG'),\n",
       "           Span(1217, 1220, 'ORG'),\n",
       "           Span(1221, 1227, 'LOC'),\n",
       "           Span(1231, 1250, 'LOC'),\n",
       "           Span(1340, 1359, 'LOC')])"
      ]
     },
     "metadata": {},
     "output_type": "display_data"
    },
    {
     "name": "stdout",
     "output_type": "stream",
     "text": [
      "[(44, 58, 'PER'), (68, 78, 'ORG'), (80, 86, 'LOC'), (98, 109, 'ORG'), (137, 150, 'ORG'), (151, 165, 'PER'), (524, 534, 'ORG'), (867, 873, 'PER'), (929, 944, 'PER'), (978, 990, 'ORG'), (1024, 1037, 'ORG')]\n"
     ]
    },
    {
     "data": {
      "text/html": [
       "<div class=\"tex2jax_ignore\" style=\"white-space: pre-wrap\">\"Я давно ищу главного редактора\", - сказала <span style=\"padding: 2px; border-radius: 4px; border: 1px solid #bbdefb; background: #e3f2fd\">Евгения Альбац<span style=\"vertical-align: middle; margin-left: 2px; font-size: 0.7em; color: #64b5f6;\">PER</span></span> в эфире \"<span style=\"padding: 2px; border-radius: 4px; border: 1px solid #ffcdd2; background: #ffebee\">Эха Москвы<span style=\"vertical-align: middle; margin-left: 2px; font-size: 0.7em; color: #e57373;\">ORG</span></span>\" <span style=\"padding: 2px; border-radius: 4px; border: 1px solid #c8e6c9; background: #e8f5e9\">Москва<span style=\"vertical-align: middle; margin-left: 2px; font-size: 0.7em; color: #66bb6a;\">LOC</span></span>. 1 января. <span style=\"padding: 2px; border-radius: 4px; border: 1px solid #ffcdd2; background: #ffebee\">INTERFAX.RU<span style=\"vertical-align: middle; margin-left: 2px; font-size: 0.7em; color: #e57373;\">ORG</span></span> - Главный редактор журнала <span style=\"padding: 2px; border-radius: 4px; border: 1px solid #ffcdd2; background: #ffebee\">The New Times<span style=\"vertical-align: middle; margin-left: 2px; font-size: 0.7em; color: #e57373;\">ORG</span></span> <span style=\"padding: 2px; border-radius: 4px; border: 1px solid #bbdefb; background: #e3f2fd\">Евгения Альбац<span style=\"vertical-align: middle; margin-left: 2px; font-size: 0.7em; color: #64b5f6;\">PER</span></span> заявила, что в ближайшее время собирается покинуть свой пост и в настоящее время ищет человека на замену. \"Здесь где-то был вопрос о том, предполагаю ли я уйти с поста главного редактора. Да, и обязательно это сделаю в этом году, в ближайшее время. И считаю, что это абсолютно необходимо. Я давно ищу главного редактора\", - сказала она в эфире радиостанции \"<span style=\"padding: 2px; border-radius: 4px; border: 1px solid #ffcdd2; background: #ffebee\">Эхо Москвы<span style=\"vertical-align: middle; margin-left: 2px; font-size: 0.7em; color: #e57373;\">ORG</span></span>\". По ее словам, изданию \"нужен человек с менее зашоренными мозгами, человек значительно более молодой\", а у нее самой есть \"разные планы, многое еще хочется сделать\", тогда как работа главного редактора отнимает очень много времени. При этом, отвечая на вопрос слушателя, останется ли она в журнале в случае ухода с поста главреда, <span style=\"padding: 2px; border-radius: 4px; border: 1px solid #bbdefb; background: #e3f2fd\">Альбац<span style=\"vertical-align: middle; margin-left: 2px; font-size: 0.7em; color: #64b5f6;\">PER</span></span> сказала: \"В каком-то виде, наверное, останусь. Видите, <span style=\"padding: 2px; border-radius: 4px; border: 1px solid #bbdefb; background: #e3f2fd\">Дмитрий Муратов<span style=\"vertical-align: middle; margin-left: 2px; font-size: 0.7em; color: #64b5f6;\">PER</span></span> ушел с поста главного редактора \"<span style=\"padding: 2px; border-radius: 4px; border: 1px solid #ffcdd2; background: #ffebee\">Новой газеты<span style=\"vertical-align: middle; margin-left: 2px; font-size: 0.7em; color: #e57373;\">ORG</span></span>\", но остался издателем\". Главред <span style=\"padding: 2px; border-radius: 4px; border: 1px solid #ffcdd2; background: #ffebee\">The New Times<span style=\"vertical-align: middle; margin-left: 2px; font-size: 0.7em; color: #e57373;\">ORG</span></span> добавила, что в последнее время у издания \"было совсем плохо с деньгами\", поэтому она стала фактически \"мастером на все руки\", занимаясь версткой сайта, редактированием материалов, написанием интервью и так далее.</div>"
      ],
      "text/plain": [
       "BoxMarkup('\"Я давно ищу главного редактора\", - сказала Евгения Альбац в эфире \"Эха Москвы\" Москва. 1 января. INTERFAX.RU - Главный редактор журнала The New Times Евгения Альбац заявила, что в ближайшее время собирается покинуть свой пост и в настоящее время ищет человека на замену. \"Здесь где-то был вопрос о том, предполагаю ли я уйти с поста главного редактора. Да, и обязательно это сделаю в этом году, в ближайшее время. И считаю, что это абсолютно необходимо. Я давно ищу главного редактора\", - сказала она в эфире радиостанции \"Эхо Москвы\". По ее словам, изданию \"нужен человек с менее зашоренными мозгами, человек значительно более молодой\", а у нее самой есть \"разные планы, многое еще хочется сделать\", тогда как работа главного редактора отнимает очень много времени. При этом, отвечая на вопрос слушателя, останется ли она в журнале в случае ухода с поста главреда, Альбац сказала: \"В каком-то виде, наверное, останусь. Видите, Дмитрий Муратов ушел с поста главного редактора \"Новой газеты\", но остался издателем\". Главред The New Times добавила, что в последнее время у издания \"было совсем плохо с деньгами\", поэтому она стала фактически \"мастером на все руки\", занимаясь версткой сайта, редактированием материалов, написанием интервью и так далее.',\n",
       "          [Span(44, 58, 'PER'),\n",
       "           Span(68, 78, 'ORG'),\n",
       "           Span(80, 86, 'LOC'),\n",
       "           Span(98, 109, 'ORG'),\n",
       "           Span(137, 150, 'ORG'),\n",
       "           Span(151, 165, 'PER'),\n",
       "           Span(524, 534, 'ORG'),\n",
       "           Span(867, 873, 'PER'),\n",
       "           Span(929, 944, 'PER'),\n",
       "           Span(978, 990, 'ORG'),\n",
       "           Span(1024, 1037, 'ORG')])"
      ]
     },
     "metadata": {},
     "output_type": "display_data"
    },
    {
     "name": "stdout",
     "output_type": "stream",
     "text": [
      "[(0, 6, 'LOC'), (18, 29, 'ORG'), (101, 107, 'LOC'), (183, 206, 'ORG'), (279, 299, 'PER'), (338, 341, 'LOC'), (344, 350, 'LOC'), (608, 619, 'PER'), (628, 631, 'ORG'), (637, 640, 'PER'), (693, 699, 'LOC'), (723, 746, 'ORG'), (791, 802, 'PER'), (839, 844, 'PER'), (907, 909, 'LOC'), (928, 931, 'PER'), (1022, 1031, 'PER'), (1046, 1049, 'ORG'), (1061, 1067, 'LOC'), (1116, 1119, 'LOC'), (1169, 1174, 'LOC'), (1203, 1206, 'ORG'), (1207, 1213, 'LOC'), (1237, 1243, 'LOC'), (1280, 1283, 'LOC'), (1284, 1295, 'PER'), (1308, 1311, 'LOC'), (1314, 1316, 'LOC'), (1360, 1366, 'LOC'), (1402, 1412, 'ORG'), (1449, 1452, 'ORG'), (1453, 1459, 'LOC')]\n"
     ]
    },
    {
     "data": {
      "text/html": [
       "<div class=\"tex2jax_ignore\" style=\"white-space: pre-wrap\"><span style=\"padding: 2px; border-radius: 4px; border: 1px solid #c8e6c9; background: #e8f5e9\">Москва<span style=\"vertical-align: middle; margin-left: 2px; font-size: 0.7em; color: #66bb6a;\">LOC</span></span>. 1 января. <span style=\"padding: 2px; border-radius: 4px; border: 1px solid #ffcdd2; background: #ffebee\">INTERFAX.RU<span style=\"vertical-align: middle; margin-left: 2px; font-size: 0.7em; color: #e57373;\">ORG</span></span> - Американские дипломаты рассчитывают получить доступ к задержанному в <span style=\"padding: 2px; border-radius: 4px; border: 1px solid #c8e6c9; background: #e8f5e9\">России<span style=\"vertical-align: middle; margin-left: 2px; font-size: 0.7em; color: #66bb6a;\">LOC</span></span> по подозрению в шпионаже соотечественнику в течение 72 часов, пишет газета <span style=\"padding: 2px; border-radius: 4px; border: 1px solid #ffcdd2; background: #ffebee\">The Wall Street Journal<span style=\"vertical-align: middle; margin-left: 2px; font-size: 0.7em; color: #e57373;\">ORG</span></span>. Издание отмечает, что эту информацию озвучил брат-близнец задержанного <span style=\"padding: 2px; border-radius: 4px; border: 1px solid #bbdefb; background: #e3f2fd\">Пола Уиллана - Дэвид<span style=\"vertical-align: middle; margin-left: 2px; font-size: 0.7em; color: #64b5f6;\">PER</span></span>. По его словам, сотрудники посольства <span style=\"padding: 2px; border-radius: 4px; border: 1px solid #c8e6c9; background: #e8f5e9\">США<span style=\"vertical-align: middle; margin-left: 2px; font-size: 0.7em; color: #66bb6a;\">LOC</span></span> в <span style=\"padding: 2px; border-radius: 4px; border: 1px solid #c8e6c9; background: #e8f5e9\">Москве<span style=\"vertical-align: middle; margin-left: 2px; font-size: 0.7em; color: #66bb6a;\">LOC</span></span>, как ожидается, увидятся с задержанным \"в течение 72 часов, причем отсчет времени уже идет\". Собеседник газеты заверил, что его брат \"никогда бы сознательно не пошел на то, чтобы нарушить закон, тем более - законы, связанные со шпионажем\". Ранее во вторник <span style=\"padding: 2px; border-radius: 4px; border: 1px solid #bbdefb; background: #e3f2fd\">Дэвид Уилан<span style=\"vertical-align: middle; margin-left: 2px; font-size: 0.7em; color: #64b5f6;\">PER</span></span> сообщил <span style=\"padding: 2px; border-radius: 4px; border: 1px solid #ffcdd2; background: #ffebee\">CNN<span style=\"vertical-align: middle; margin-left: 2px; font-size: 0.7em; color: #e57373;\">ORG</span></span>, что <span style=\"padding: 2px; border-radius: 4px; border: 1px solid #bbdefb; background: #e3f2fd\">Пол<span style=\"vertical-align: middle; margin-left: 2px; font-size: 0.7em; color: #64b5f6;\">PER</span></span> является отставным морским пехотинцем, он приехал в <span style=\"padding: 2px; border-radius: 4px; border: 1px solid #c8e6c9; background: #e8f5e9\">Москву<span style=\"vertical-align: middle; margin-left: 2px; font-size: 0.7em; color: #66bb6a;\">LOC</span></span> на свадьбу к знакомым. <span style=\"padding: 2px; border-radius: 4px; border: 1px solid #ffcdd2; background: #ffebee\">The Wall Street Journal<span style=\"vertical-align: middle; margin-left: 2px; font-size: 0.7em; color: #e57373;\">ORG</span></span> поясняет, что речь идет о свадьбе знакомого <span style=\"padding: 2px; border-radius: 4px; border: 1px solid #bbdefb; background: #e3f2fd\">Пола Уилана<span style=\"vertical-align: middle; margin-left: 2px; font-size: 0.7em; color: #64b5f6;\">PER</span></span> - также бывшего морского пехотинца. <span style=\"padding: 2px; border-radius: 4px; border: 1px solid #bbdefb; background: #e3f2fd\">Уилан<span style=\"vertical-align: middle; margin-left: 2px; font-size: 0.7em; color: #64b5f6;\">PER</span></span>, как пишет газета, много путешествовал и неоднократно посещал <span style=\"padding: 2px; border-radius: 4px; border: 1px solid #c8e6c9; background: #e8f5e9\">РФ<span style=\"vertical-align: middle; margin-left: 2px; font-size: 0.7em; color: #66bb6a;\">LOC</span></span>. По словам брата, <span style=\"padding: 2px; border-radius: 4px; border: 1px solid #bbdefb; background: #e3f2fd\">Пол<span style=\"vertical-align: middle; margin-left: 2px; font-size: 0.7em; color: #64b5f6;\">PER</span></span> \"осознавал, какие риски существуют в этой стране для путешественников из западных стран\". <span style=\"padding: 2px; border-radius: 4px; border: 1px solid #bbdefb; background: #e3f2fd\">Пол Уилан<span style=\"vertical-align: middle; margin-left: 2px; font-size: 0.7em; color: #64b5f6;\">PER</span></span>, как отмечает <span style=\"padding: 2px; border-radius: 4px; border: 1px solid #ffcdd2; background: #ffebee\">CNN<span style=\"vertical-align: middle; margin-left: 2px; font-size: 0.7em; color: #e57373;\">ORG</span></span>, родился в <span style=\"padding: 2px; border-radius: 4px; border: 1px solid #c8e6c9; background: #e8f5e9\">Канаде<span style=\"vertical-align: middle; margin-left: 2px; font-size: 0.7em; color: #66bb6a;\">LOC</span></span>. Его родители - британцы, но сам он - гражданин <span style=\"padding: 2px; border-radius: 4px; border: 1px solid #c8e6c9; background: #e8f5e9\">США<span style=\"vertical-align: middle; margin-left: 2px; font-size: 0.7em; color: #66bb6a;\">LOC</span></span>. Во время службы в армии несколько раз побывал в <span style=\"padding: 2px; border-radius: 4px; border: 1px solid #c8e6c9; background: #e8f5e9\">Ираке<span style=\"vertical-align: middle; margin-left: 2px; font-size: 0.7em; color: #66bb6a;\">LOC</span></span>. Как сообщалось, сотрудники <span style=\"padding: 2px; border-radius: 4px; border: 1px solid #ffcdd2; background: #ffebee\">ФСБ<span style=\"vertical-align: middle; margin-left: 2px; font-size: 0.7em; color: #e57373;\">ORG</span></span> <span style=\"padding: 2px; border-radius: 4px; border: 1px solid #c8e6c9; background: #e8f5e9\">России<span style=\"vertical-align: middle; margin-left: 2px; font-size: 0.7em; color: #66bb6a;\">LOC</span></span> 28 декабря задержали в <span style=\"padding: 2px; border-radius: 4px; border: 1px solid #c8e6c9; background: #e8f5e9\">Москве<span style=\"vertical-align: middle; margin-left: 2px; font-size: 0.7em; color: #66bb6a;\">LOC</span></span> по подозрению в шпионаже гражданина <span style=\"padding: 2px; border-radius: 4px; border: 1px solid #c8e6c9; background: #e8f5e9\">США<span style=\"vertical-align: middle; margin-left: 2px; font-size: 0.7em; color: #66bb6a;\">LOC</span></span> <span style=\"padding: 2px; border-radius: 4px; border: 1px solid #bbdefb; background: #e3f2fd\">Пола Уилана<span style=\"vertical-align: middle; margin-left: 2px; font-size: 0.7em; color: #64b5f6;\">PER</span></span>. Посольство <span style=\"padding: 2px; border-radius: 4px; border: 1px solid #c8e6c9; background: #e8f5e9\">США<span style=\"vertical-align: middle; margin-left: 2px; font-size: 0.7em; color: #66bb6a;\">LOC</span></span> в <span style=\"padding: 2px; border-radius: 4px; border: 1px solid #c8e6c9; background: #e8f5e9\">РФ<span style=\"vertical-align: middle; margin-left: 2px; font-size: 0.7em; color: #66bb6a;\">LOC</span></span> уведомили о задержании гражданина страны в <span style=\"padding: 2px; border-radius: 4px; border: 1px solid #c8e6c9; background: #e8f5e9\">Москве<span style=\"vertical-align: middle; margin-left: 2px; font-size: 0.7em; color: #66bb6a;\">LOC</span></span> по подозрению в шпионаже, заявили \"<span style=\"padding: 2px; border-radius: 4px; border: 1px solid #ffcdd2; background: #ffebee\">Интерфаксу<span style=\"vertical-align: middle; margin-left: 2px; font-size: 0.7em; color: #e57373;\">ORG</span></span>\" в департаменте информации и печати <span style=\"padding: 2px; border-radius: 4px; border: 1px solid #ffcdd2; background: #ffebee\">МИД<span style=\"vertical-align: middle; margin-left: 2px; font-size: 0.7em; color: #e57373;\">ORG</span></span> <span style=\"padding: 2px; border-radius: 4px; border: 1px solid #c8e6c9; background: #e8f5e9\">России<span style=\"vertical-align: middle; margin-left: 2px; font-size: 0.7em; color: #66bb6a;\">LOC</span></span>. В свою очередь американское посольство 31 декабря запросило консульский доступ к задержанному.</div>"
      ],
      "text/plain": [
       "BoxMarkup('Москва. 1 января. INTERFAX.RU - Американские дипломаты рассчитывают получить доступ к задержанному в России по подозрению в шпионаже соотечественнику в течение 72 часов, пишет газета The Wall Street Journal. Издание отмечает, что эту информацию озвучил брат-близнец задержанного Пола Уиллана - Дэвид. По его словам, сотрудники посольства США в Москве, как ожидается, увидятся с задержанным \"в течение 72 часов, причем отсчет времени уже идет\". Собеседник газеты заверил, что его брат \"никогда бы сознательно не пошел на то, чтобы нарушить закон, тем более - законы, связанные со шпионажем\". Ранее во вторник Дэвид Уилан сообщил CNN, что Пол является отставным морским пехотинцем, он приехал в Москву на свадьбу к знакомым. The Wall Street Journal поясняет, что речь идет о свадьбе знакомого Пола Уилана - также бывшего морского пехотинца. Уилан, как пишет газета, много путешествовал и неоднократно посещал РФ. По словам брата, Пол \"осознавал, какие риски существуют в этой стране для путешественников из западных стран\". Пол Уилан, как отмечает CNN, родился в Канаде. Его родители - британцы, но сам он - гражданин США. Во время службы в армии несколько раз побывал в Ираке. Как сообщалось, сотрудники ФСБ России 28 декабря задержали в Москве по подозрению в шпионаже гражданина США Пола Уилана. Посольство США в РФ уведомили о задержании гражданина страны в Москве по подозрению в шпионаже, заявили \"Интерфаксу\" в департаменте информации и печати МИД России. В свою очередь американское посольство 31 декабря запросило консульский доступ к задержанному.',\n",
       "          [Span(0, 6, 'LOC'),\n",
       "           Span(18, 29, 'ORG'),\n",
       "           Span(101, 107, 'LOC'),\n",
       "           Span(183, 206, 'ORG'),\n",
       "           Span(279, 299, 'PER'),\n",
       "           Span(338, 341, 'LOC'),\n",
       "           Span(344, 350, 'LOC'),\n",
       "           Span(608, 619, 'PER'),\n",
       "           Span(628, 631, 'ORG'),\n",
       "           Span(637, 640, 'PER'),\n",
       "           Span(693, 699, 'LOC'),\n",
       "           Span(723, 746, 'ORG'),\n",
       "           Span(791, 802, 'PER'),\n",
       "           Span(839, 844, 'PER'),\n",
       "           Span(907, 909, 'LOC'),\n",
       "           Span(928, 931, 'PER'),\n",
       "           Span(1022, 1031, 'PER'),\n",
       "           Span(1046, 1049, 'ORG'),\n",
       "           Span(1061, 1067, 'LOC'),\n",
       "           Span(1116, 1119, 'LOC'),\n",
       "           Span(1169, 1174, 'LOC'),\n",
       "           Span(1203, 1206, 'ORG'),\n",
       "           Span(1207, 1213, 'LOC'),\n",
       "           Span(1237, 1243, 'LOC'),\n",
       "           Span(1280, 1283, 'LOC'),\n",
       "           Span(1284, 1295, 'PER'),\n",
       "           Span(1308, 1311, 'LOC'),\n",
       "           Span(1314, 1316, 'LOC'),\n",
       "           Span(1360, 1366, 'LOC'),\n",
       "           Span(1402, 1412, 'ORG'),\n",
       "           Span(1449, 1452, 'ORG'),\n",
       "           Span(1453, 1459, 'LOC')])"
      ]
     },
     "metadata": {},
     "output_type": "display_data"
    },
    {
     "name": "stdout",
     "output_type": "stream",
     "text": [
      "[(41, 44, 'ORG'), (58, 64, 'LOC'), (76, 87, 'ORG'), (163, 176, 'LOC'), (318, 336, 'ORG'), (365, 378, 'LOC'), (394, 404, 'ORG'), (421, 423, 'ORG'), (424, 427, 'ORG'), (431, 450, 'LOC'), (824, 837, 'LOC'), (991, 1003, 'LOC'), (1136, 1138, 'LOC'), (1300, 1313, 'LOC')]\n"
     ]
    },
    {
     "data": {
      "text/html": [
       "<div class=\"tex2jax_ignore\" style=\"white-space: pre-wrap\">По предварительной информации, сказали в <span style=\"padding: 2px; border-radius: 4px; border: 1px solid #ffcdd2; background: #ffebee\">МЧС<span style=\"vertical-align: middle; margin-left: 2px; font-size: 0.7em; color: #e57373;\">ORG</span></span>, это женщина <span style=\"padding: 2px; border-radius: 4px; border: 1px solid #c8e6c9; background: #e8f5e9\">Москва<span style=\"vertical-align: middle; margin-left: 2px; font-size: 0.7em; color: #66bb6a;\">LOC</span></span>. 1 января. <span style=\"padding: 2px; border-radius: 4px; border: 1px solid #ffcdd2; background: #ffebee\">INTERFAX.RU<span style=\"vertical-align: middle; margin-left: 2px; font-size: 0.7em; color: #e57373;\">ORG</span></span> - Спасатели извлекают тело девятого погибшего из-под завалов жилого дома в <span style=\"padding: 2px; border-radius: 4px; border: 1px solid #c8e6c9; background: #e8f5e9\">Магнитогорске<span style=\"vertical-align: middle; margin-left: 2px; font-size: 0.7em; color: #66bb6a;\">LOC</span></span>, где накануне обрушился подъезд. \"Найден девятый погибший, его тело сейчас извлекают ( из-под обломков - ИФ )\", - сказал в эфире телеканала \"<span style=\"padding: 2px; border-radius: 4px; border: 1px solid #ffcdd2; background: #ffebee\">Россия-24\" (ВГТРК)<span style=\"vertical-align: middle; margin-left: 2px; font-size: 0.7em; color: #e57373;\">ORG</span></span> корреспондент, работающий в <span style=\"padding: 2px; border-radius: 4px; border: 1px solid #c8e6c9; background: #e8f5e9\">Магнитогорске<span style=\"vertical-align: middle; margin-left: 2px; font-size: 0.7em; color: #66bb6a;\">LOC</span></span>. Как сообщили \"<span style=\"padding: 2px; border-radius: 4px; border: 1px solid #ffcdd2; background: #ffebee\">Интерфаксу<span style=\"vertical-align: middle; margin-left: 2px; font-size: 0.7em; color: #e57373;\">ORG</span></span>\" в пресс-службе <span style=\"padding: 2px; border-radius: 4px; border: 1px solid #ffcdd2; background: #ffebee\">ГУ<span style=\"vertical-align: middle; margin-left: 2px; font-size: 0.7em; color: #e57373;\">ORG</span></span> <span style=\"padding: 2px; border-radius: 4px; border: 1px solid #ffcdd2; background: #ffebee\">МЧС<span style=\"vertical-align: middle; margin-left: 2px; font-size: 0.7em; color: #e57373;\">ORG</span></span> по <span style=\"padding: 2px; border-radius: 4px; border: 1px solid #c8e6c9; background: #e8f5e9\">Челябинской области<span style=\"vertical-align: middle; margin-left: 2px; font-size: 0.7em; color: #66bb6a;\">LOC</span></span>, по предварительной информации, это женщина. Ранее в пресс-службе агентству рассказали , что из-под завалов извлекли тело восьмого погибшего - также женщины. По официальным данным, госпитализированы шесть пострадавших , двое из которых дети. Судьба нескольких десятков человека, которые могли находиться в здании в момент обрушения, остается неизвестна. Утром 31 декабря в <span style=\"padding: 2px; border-radius: 4px; border: 1px solid #c8e6c9; background: #e8f5e9\">Магнитогорске<span style=\"vertical-align: middle; margin-left: 2px; font-size: 0.7em; color: #66bb6a;\">LOC</span></span> произошло обрушение одного из подъездов газифицированного панельного десятиэтажного 12-подъездного жилого дома ( 1973 год постройки ) по адресу проспект <span style=\"padding: 2px; border-radius: 4px; border: 1px solid #c8e6c9; background: #e8f5e9\">Карла Маркса<span style=\"vertical-align: middle; margin-left: 2px; font-size: 0.7em; color: #66bb6a;\">LOC</span></span>, 164. По данному факту возбуждено уголовное дело \"о причинении смерти по неосторожности двум и более лицам\" ( часть 3 статьи 109 УК <span style=\"padding: 2px; border-radius: 4px; border: 1px solid #c8e6c9; background: #e8f5e9\">РФ<span style=\"vertical-align: middle; margin-left: 2px; font-size: 0.7em; color: #66bb6a;\">LOC</span></span> ). Приоритетная версия произошедшего - взрыв бытового газа. Утром во вторник спасателям пришлось приступить к работам по демонтажу стены подъезда в жилом годе в <span style=\"padding: 2px; border-radius: 4px; border: 1px solid #c8e6c9; background: #e8f5e9\">Магнитогорске<span style=\"vertical-align: middle; margin-left: 2px; font-size: 0.7em; color: #66bb6a;\">LOC</span></span>, где взорвался газ, из-за угрозы ее обрушения. Вечером спасатели разобрали нависающие конструкции и продолжили разбор завалов внизу, под которым могут быть люди. Внутрь обрушившихся конструкций дома подают тепло специальными тепловыми пушками.</div>"
      ],
      "text/plain": [
       "BoxMarkup('По предварительной информации, сказали в МЧС, это женщина Москва. 1 января. INTERFAX.RU - Спасатели извлекают тело девятого погибшего из-под завалов жилого дома в Магнитогорске, где накануне обрушился подъезд. \"Найден девятый погибший, его тело сейчас извлекают ( из-под обломков - ИФ )\", - сказал в эфире телеканала \"Россия-24\" (ВГТРК) корреспондент, работающий в Магнитогорске. Как сообщили \"Интерфаксу\" в пресс-службе ГУ МЧС по Челябинской области, по предварительной информации, это женщина. Ранее в пресс-службе агентству рассказали , что из-под завалов извлекли тело восьмого погибшего - также женщины. По официальным данным, госпитализированы шесть пострадавших , двое из которых дети. Судьба нескольких десятков человека, которые могли находиться в здании в момент обрушения, остается неизвестна. Утром 31 декабря в Магнитогорске произошло обрушение одного из подъездов газифицированного панельного десятиэтажного 12-подъездного жилого дома ( 1973 год постройки ) по адресу проспект Карла Маркса, 164. По данному факту возбуждено уголовное дело \"о причинении смерти по неосторожности двум и более лицам\" ( часть 3 статьи 109 УК РФ ). Приоритетная версия произошедшего - взрыв бытового газа. Утром во вторник спасателям пришлось приступить к работам по демонтажу стены подъезда в жилом годе в Магнитогорске, где взорвался газ, из-за угрозы ее обрушения. Вечером спасатели разобрали нависающие конструкции и продолжили разбор завалов внизу, под которым могут быть люди. Внутрь обрушившихся конструкций дома подают тепло специальными тепловыми пушками.',\n",
       "          [Span(41, 44, 'ORG'),\n",
       "           Span(58, 64, 'LOC'),\n",
       "           Span(76, 87, 'ORG'),\n",
       "           Span(163, 176, 'LOC'),\n",
       "           Span(318, 336, 'ORG'),\n",
       "           Span(365, 378, 'LOC'),\n",
       "           Span(394, 404, 'ORG'),\n",
       "           Span(421, 423, 'ORG'),\n",
       "           Span(424, 427, 'ORG'),\n",
       "           Span(431, 450, 'LOC'),\n",
       "           Span(824, 837, 'LOC'),\n",
       "           Span(991, 1003, 'LOC'),\n",
       "           Span(1136, 1138, 'LOC'),\n",
       "           Span(1300, 1313, 'LOC')])"
      ]
     },
     "metadata": {},
     "output_type": "display_data"
    },
    {
     "name": "stdout",
     "output_type": "stream",
     "text": [
      "[(0, 6, 'LOC'), (18, 29, 'ORG'), (45, 72, 'ORG'), (73, 92, 'PER'), (136, 148, 'LOC'), (151, 164, 'LOC'), (194, 204, 'ORG'), (307, 309, 'ORG'), (310, 327, 'PER'), (338, 348, 'ORG'), (355, 364, 'PER'), (668, 681, 'LOC'), (835, 847, 'LOC'), (980, 982, 'LOC')]\n"
     ]
    },
    {
     "data": {
      "text/html": [
       "<div class=\"tex2jax_ignore\" style=\"white-space: pre-wrap\"><span style=\"padding: 2px; border-radius: 4px; border: 1px solid #c8e6c9; background: #e8f5e9\">Москва<span style=\"vertical-align: middle; margin-left: 2px; font-size: 0.7em; color: #66bb6a;\">LOC</span></span>. 1 января. <span style=\"padding: 2px; border-radius: 4px; border: 1px solid #ffcdd2; background: #ffebee\">INTERFAX.RU<span style=\"vertical-align: middle; margin-left: 2px; font-size: 0.7em; color: #e57373;\">ORG</span></span> - Председатель <span style=\"padding: 2px; border-radius: 4px; border: 1px solid #ffcdd2; background: #ffebee\">Следственного комитета (СК)<span style=\"vertical-align: middle; margin-left: 2px; font-size: 0.7em; color: #e57373;\">ORG</span></span> <span style=\"padding: 2px; border-radius: 4px; border: 1px solid #bbdefb; background: #e3f2fd\">Александр Бастрыкин<span style=\"vertical-align: middle; margin-left: 2px; font-size: 0.7em; color: #64b5f6;\">PER</span></span> прибыл к месту обрушения подъезда на улице <span style=\"padding: 2px; border-radius: 4px; border: 1px solid #c8e6c9; background: #e8f5e9\">Карла Маркса<span style=\"vertical-align: middle; margin-left: 2px; font-size: 0.7em; color: #66bb6a;\">LOC</span></span> в <span style=\"padding: 2px; border-radius: 4px; border: 1px solid #c8e6c9; background: #e8f5e9\">Магнитогорске<span style=\"vertical-align: middle; margin-left: 2px; font-size: 0.7em; color: #66bb6a;\">LOC</span></span>. Как передает корреспондент \"<span style=\"padding: 2px; border-radius: 4px; border: 1px solid #ffcdd2; background: #ffebee\">Интерфакса<span style=\"vertical-align: middle; margin-left: 2px; font-size: 0.7em; color: #e57373;\">ORG</span></span>\", он обсуждает ситуацию с представителями других ведомств. Со своей стороны официальный представитель <span style=\"padding: 2px; border-radius: 4px; border: 1px solid #ffcdd2; background: #ffebee\">СК<span style=\"vertical-align: middle; margin-left: 2px; font-size: 0.7em; color: #e57373;\">ORG</span></span> <span style=\"padding: 2px; border-radius: 4px; border: 1px solid #bbdefb; background: #e3f2fd\">Светлана Петренко<span style=\"vertical-align: middle; margin-left: 2px; font-size: 0.7em; color: #64b5f6;\">PER</span></span> сообщила \"<span style=\"padding: 2px; border-radius: 4px; border: 1px solid #ffcdd2; background: #ffebee\">Интерфаксу<span style=\"vertical-align: middle; margin-left: 2px; font-size: 0.7em; color: #e57373;\">ORG</span></span>\", что <span style=\"padding: 2px; border-radius: 4px; border: 1px solid #bbdefb; background: #e3f2fd\">Бастрыкин<span style=\"vertical-align: middle; margin-left: 2px; font-size: 0.7em; color: #64b5f6;\">PER</span></span> проведет оперативное совещание со следственно-оперативной группой, заслушает результаты первоначальных следственных действий. \"Следователи продолжают допросы свидетелей и очевидцев, изъята документация, имеющая значение для следствия, назначен ряд судебных экспертиз\", - сказала она. Утром 31 декабря в <span style=\"padding: 2px; border-radius: 4px; border: 1px solid #c8e6c9; background: #e8f5e9\">Магнитогорске<span style=\"vertical-align: middle; margin-left: 2px; font-size: 0.7em; color: #66bb6a;\">LOC</span></span> произошло обрушение одного из подъездов газифицированного панельного десятиэтажного 12-подъездного жилого дома ( 1973 год постройки ) по адресу проспект <span style=\"padding: 2px; border-radius: 4px; border: 1px solid #c8e6c9; background: #e8f5e9\">Карла Маркса<span style=\"vertical-align: middle; margin-left: 2px; font-size: 0.7em; color: #66bb6a;\">LOC</span></span>, 164. По данному факту возбуждено уголовное дело \"о причинении смерти по неосторожности двум и более лицам\" ( часть 3 статьи 109 УК <span style=\"padding: 2px; border-radius: 4px; border: 1px solid #c8e6c9; background: #e8f5e9\">РФ<span style=\"vertical-align: middle; margin-left: 2px; font-size: 0.7em; color: #66bb6a;\">LOC</span></span> ). Приоритетная версия произошедшего - взрыв бытового газа. По последним данным, в результате ЧП погибли девять человек . Госпитализированы шесть пострадавших , двое из которых дети. Судьба нескольких десятков человека, которые могли находиться в здании в момент обрушения, остается неизвестна. На месте трагедии продолжается поисково-спасательная операция.</div>"
      ],
      "text/plain": [
       "BoxMarkup('Москва. 1 января. INTERFAX.RU - Председатель Следственного комитета (СК) Александр Бастрыкин прибыл к месту обрушения подъезда на улице Карла Маркса в Магнитогорске. Как передает корреспондент \"Интерфакса\", он обсуждает ситуацию с представителями других ведомств. Со своей стороны официальный представитель СК Светлана Петренко сообщила \"Интерфаксу\", что Бастрыкин проведет оперативное совещание со следственно-оперативной группой, заслушает результаты первоначальных следственных действий. \"Следователи продолжают допросы свидетелей и очевидцев, изъята документация, имеющая значение для следствия, назначен ряд судебных экспертиз\", - сказала она. Утром 31 декабря в Магнитогорске произошло обрушение одного из подъездов газифицированного панельного десятиэтажного 12-подъездного жилого дома ( 1973 год постройки ) по адресу проспект Карла Маркса, 164. По данному факту возбуждено уголовное дело \"о причинении смерти по неосторожности двум и более лицам\" ( часть 3 статьи 109 УК РФ ). Приоритетная версия произошедшего - взрыв бытового газа. По последним данным, в результате ЧП погибли девять человек . Госпитализированы шесть пострадавших , двое из которых дети. Судьба нескольких десятков человека, которые могли находиться в здании в момент обрушения, остается неизвестна. На месте трагедии продолжается поисково-спасательная операция.',\n",
       "          [Span(0, 6, 'LOC'),\n",
       "           Span(18, 29, 'ORG'),\n",
       "           Span(45, 72, 'ORG'),\n",
       "           Span(73, 92, 'PER'),\n",
       "           Span(136, 148, 'LOC'),\n",
       "           Span(151, 164, 'LOC'),\n",
       "           Span(194, 204, 'ORG'),\n",
       "           Span(307, 309, 'ORG'),\n",
       "           Span(310, 327, 'PER'),\n",
       "           Span(338, 348, 'ORG'),\n",
       "           Span(355, 364, 'PER'),\n",
       "           Span(668, 681, 'LOC'),\n",
       "           Span(835, 847, 'LOC'),\n",
       "           Span(980, 982, 'LOC')])"
      ]
     },
     "metadata": {},
     "output_type": "display_data"
    },
    {
     "name": "stdout",
     "output_type": "stream",
     "text": [
      "[(0, 6, 'LOC'), (18, 29, 'ORG'), (38, 42, 'ORG'), (43, 60, 'PER'), (184, 201, 'LOC'), (204, 216, 'ORG'), (252, 258, 'LOC'), (495, 512, 'LOC'), (779, 784, 'LOC'), (814, 817, 'LOC'), (919, 936, 'LOC'), (978, 983, 'LOC'), (1030, 1034, 'ORG'), (1100, 1107, 'LOC'), (1137, 1143, 'LOC'), (1165, 1172, 'LOC'), (1221, 1234, 'LOC')]\n"
     ]
    },
    {
     "data": {
      "text/html": [
       "<div class=\"tex2jax_ignore\" style=\"white-space: pre-wrap\"><span style=\"padding: 2px; border-radius: 4px; border: 1px solid #c8e6c9; background: #e8f5e9\">Москва<span style=\"vertical-align: middle; margin-left: 2px; font-size: 0.7em; color: #66bb6a;\">LOC</span></span>. 1 января. <span style=\"padding: 2px; border-radius: 4px; border: 1px solid #ffcdd2; background: #ffebee\">INTERFAX.RU<span style=\"vertical-align: middle; margin-left: 2px; font-size: 0.7em; color: #e57373;\">ORG</span></span> - Глава <span style=\"padding: 2px; border-radius: 4px; border: 1px solid #ffcdd2; background: #ffebee\">НАСА<span style=\"vertical-align: middle; margin-left: 2px; font-size: 0.7em; color: #e57373;\">ORG</span></span> <span style=\"padding: 2px; border-radius: 4px; border: 1px solid #bbdefb; background: #e3f2fd\">Джим Брайденстайн<span style=\"vertical-align: middle; margin-left: 2px; font-size: 0.7em; color: #64b5f6;\">PER</span></span> поздравил ученых с успешным пролетом американской межпланетной станции New Horizons мимо астероида Ultima Thule на окраине <span style=\"padding: 2px; border-radius: 4px; border: 1px solid #c8e6c9; background: #e8f5e9\">Солнечной системы<span style=\"vertical-align: middle; margin-left: 2px; font-size: 0.7em; color: #66bb6a;\">LOC</span></span>. \"<span style=\"padding: 2px; border-radius: 4px; border: 1px solid #ffcdd2; background: #ffebee\">New Horizons<span style=\"vertical-align: middle; margin-left: 2px; font-size: 0.7em; color: #e57373;\">ORG</span></span> не только - первый зонд, изучивший <span style=\"padding: 2px; border-radius: 4px; border: 1px solid #c8e6c9; background: #e8f5e9\">Плутон<span style=\"vertical-align: middle; margin-left: 2px; font-size: 0.7em; color: #66bb6a;\">LOC</span></span>. Сегодня он пролетел мимо самого отдаленного объекта, к которому когда-либо удавалось приблизиться космическим аппаратам. Зонду удалось первым собрать данные об объекте, который содержит элементы, сохранившиеся со времен рождения нашей <span style=\"padding: 2px; border-radius: 4px; border: 1px solid #c8e6c9; background: #e8f5e9\">Солнечной системы<span style=\"vertical-align: middle; margin-left: 2px; font-size: 0.7em; color: #66bb6a;\">LOC</span></span>. Вот что такое лидерство в изучении космоса\", - отмечается в его заявлении. Зонд ранее пролетел мимо астероида в так называемом поясе Койпера, ведя при этом фотосъемку. Ultima Thule считается очень древним астероидом. Он расположен примерно в 6,4 млрд километров от <span style=\"padding: 2px; border-radius: 4px; border: 1px solid #c8e6c9; background: #e8f5e9\">Земли<span style=\"vertical-align: middle; margin-left: 2px; font-size: 0.7em; color: #66bb6a;\">LOC</span></span>. В течение вторника ученые в <span style=\"padding: 2px; border-radius: 4px; border: 1px solid #c8e6c9; background: #e8f5e9\">США<span style=\"vertical-align: middle; margin-left: 2px; font-size: 0.7em; color: #66bb6a;\">LOC</span></span> надеются получить фотоснимки, сделанные New Horizons. Сигналу, посылаемому из столь отдаленной части <span style=\"padding: 2px; border-radius: 4px; border: 1px solid #c8e6c9; background: #e8f5e9\">Солнечной системы<span style=\"vertical-align: middle; margin-left: 2px; font-size: 0.7em; color: #66bb6a;\">LOC</span></span>, требуется шесть часов, чтобы достигнуть <span style=\"padding: 2px; border-radius: 4px; border: 1px solid #c8e6c9; background: #e8f5e9\">Земли<span style=\"vertical-align: middle; margin-left: 2px; font-size: 0.7em; color: #66bb6a;\">LOC</span></span>. Космический аппарат New Horizons был запущен <span style=\"padding: 2px; border-radius: 4px; border: 1px solid #ffcdd2; background: #ffebee\">НАСА<span style=\"vertical-align: middle; margin-left: 2px; font-size: 0.7em; color: #e57373;\">ORG</span></span> в 2006 году и предназначен, в частности, для подробного изучения <span style=\"padding: 2px; border-radius: 4px; border: 1px solid #c8e6c9; background: #e8f5e9\">Плутона<span style=\"vertical-align: middle; margin-left: 2px; font-size: 0.7em; color: #66bb6a;\">LOC</span></span> и его естественного спутника <span style=\"padding: 2px; border-radius: 4px; border: 1px solid #c8e6c9; background: #e8f5e9\">Харона<span style=\"vertical-align: middle; margin-left: 2px; font-size: 0.7em; color: #66bb6a;\">LOC</span></span> . После пролета мимо <span style=\"padding: 2px; border-radius: 4px; border: 1px solid #c8e6c9; background: #e8f5e9\">Плутона<span style=\"vertical-align: middle; margin-left: 2px; font-size: 0.7em; color: #66bb6a;\">LOC</span></span> зонд переключился на изучение других объектов в <span style=\"padding: 2px; border-radius: 4px; border: 1px solid #c8e6c9; background: #e8f5e9\">Поясе Койпера<span style=\"vertical-align: middle; margin-left: 2px; font-size: 0.7em; color: #66bb6a;\">LOC</span></span>.</div>"
      ],
      "text/plain": [
       "BoxMarkup('Москва. 1 января. INTERFAX.RU - Глава НАСА Джим Брайденстайн поздравил ученых с успешным пролетом американской межпланетной станции New Horizons мимо астероида Ultima Thule на окраине Солнечной системы. \"New Horizons не только - первый зонд, изучивший Плутон. Сегодня он пролетел мимо самого отдаленного объекта, к которому когда-либо удавалось приблизиться космическим аппаратам. Зонду удалось первым собрать данные об объекте, который содержит элементы, сохранившиеся со времен рождения нашей Солнечной системы. Вот что такое лидерство в изучении космоса\", - отмечается в его заявлении. Зонд ранее пролетел мимо астероида в так называемом поясе Койпера, ведя при этом фотосъемку. Ultima Thule считается очень древним астероидом. Он расположен примерно в 6,4 млрд километров от Земли. В течение вторника ученые в США надеются получить фотоснимки, сделанные New Horizons. Сигналу, посылаемому из столь отдаленной части Солнечной системы, требуется шесть часов, чтобы достигнуть Земли. Космический аппарат New Horizons был запущен НАСА в 2006 году и предназначен, в частности, для подробного изучения Плутона и его естественного спутника Харона . После пролета мимо Плутона зонд переключился на изучение других объектов в Поясе Койпера.',\n",
       "          [Span(0, 6, 'LOC'),\n",
       "           Span(18, 29, 'ORG'),\n",
       "           Span(38, 42, 'ORG'),\n",
       "           Span(43, 60, 'PER'),\n",
       "           Span(184, 201, 'LOC'),\n",
       "           Span(204, 216, 'ORG'),\n",
       "           Span(252, 258, 'LOC'),\n",
       "           Span(495, 512, 'LOC'),\n",
       "           Span(779, 784, 'LOC'),\n",
       "           Span(814, 817, 'LOC'),\n",
       "           Span(919, 936, 'LOC'),\n",
       "           Span(978, 983, 'LOC'),\n",
       "           Span(1030, 1034, 'ORG'),\n",
       "           Span(1100, 1107, 'LOC'),\n",
       "           Span(1137, 1143, 'LOC'),\n",
       "           Span(1165, 1172, 'LOC'),\n",
       "           Span(1221, 1234, 'LOC')])"
      ]
     },
     "metadata": {},
     "output_type": "display_data"
    },
    {
     "name": "stdout",
     "output_type": "stream",
     "text": [
      "[(0, 6, 'LOC'), (18, 29, 'ORG'), (131, 151, 'LOC'), (175, 210, 'ORG'), (211, 214, 'ORG'), (298, 307, 'LOC'), (308, 336, 'LOC'), (388, 390, 'LOC'), (567, 578, 'LOC'), (581, 590, 'LOC'), (591, 619, 'ORG')]\n"
     ]
    },
    {
     "data": {
      "text/html": [
       "<div class=\"tex2jax_ignore\" style=\"white-space: pre-wrap\"><span style=\"padding: 2px; border-radius: 4px; border: 1px solid #c8e6c9; background: #e8f5e9\">Москва<span style=\"vertical-align: middle; margin-left: 2px; font-size: 0.7em; color: #66bb6a;\">LOC</span></span>. 1 января. <span style=\"padding: 2px; border-radius: 4px; border: 1px solid #ffcdd2; background: #ffebee\">INTERFAX.RU<span style=\"vertical-align: middle; margin-left: 2px; font-size: 0.7em; color: #e57373;\">ORG</span></span> - Уголовное дело возбудили следователи по факту схода грузовых вагонов на железнодорожном перегоне в <span style=\"padding: 2px; border-radius: 4px; border: 1px solid #c8e6c9; background: #e8f5e9\">Свердловской области<span style=\"vertical-align: middle; margin-left: 2px; font-size: 0.7em; color: #66bb6a;\">LOC</span></span>, сообщает пресс-служба <span style=\"padding: 2px; border-radius: 4px; border: 1px solid #ffcdd2; background: #ffebee\">Уральского управления на транспорте<span style=\"vertical-align: middle; margin-left: 2px; font-size: 0.7em; color: #e57373;\">ORG</span></span> <span style=\"padding: 2px; border-radius: 4px; border: 1px solid #ffcdd2; background: #ffebee\">СКР<span style=\"vertical-align: middle; margin-left: 2px; font-size: 0.7em; color: #e57373;\">ORG</span></span> во вторник. \"По факту схода с рельсов 18 вагонов грузового поезда в районе станции <span style=\"padding: 2px; border-radius: 4px; border: 1px solid #c8e6c9; background: #e8f5e9\">Марамзино<span style=\"vertical-align: middle; margin-left: 2px; font-size: 0.7em; color: #66bb6a;\">LOC</span></span> <span style=\"padding: 2px; border-radius: 4px; border: 1px solid #c8e6c9; background: #e8f5e9\">Свердловской железной дороги<span style=\"vertical-align: middle; margin-left: 2px; font-size: 0.7em; color: #66bb6a;\">LOC</span></span> возбуждено уголовное дело по части 1 статьи 263 УК <span style=\"padding: 2px; border-radius: 4px; border: 1px solid #c8e6c9; background: #e8f5e9\">РФ<span style=\"vertical-align: middle; margin-left: 2px; font-size: 0.7em; color: #66bb6a;\">LOC</span></span> ( нарушение правил безопасности движения и эксплуатации железнодорожного транспорта )\", - говорится в сообщении. По версии следствия, утром во вторник на 63 километре перегона <span style=\"padding: 2px; border-radius: 4px; border: 1px solid #c8e6c9; background: #e8f5e9\">Храмцовская<span style=\"vertical-align: middle; margin-left: 2px; font-size: 0.7em; color: #66bb6a;\">LOC</span></span> - <span style=\"padding: 2px; border-radius: 4px; border: 1px solid #c8e6c9; background: #e8f5e9\">Марамзино<span style=\"vertical-align: middle; margin-left: 2px; font-size: 0.7em; color: #66bb6a;\">LOC</span></span> <span style=\"padding: 2px; border-radius: 4px; border: 1px solid #ffcdd2; background: #ffebee\">Свердловской железной дороги<span style=\"vertical-align: middle; margin-left: 2px; font-size: 0.7em; color: #e57373;\">ORG</span></span> с рельсов сошли, по уточненной информации, 18 грузовых вагонов , груженных углем, с опрокидыванием. Жертв и пострадавших в результате происшествия нет. По предварительным данным, повреждено около 150 метров железнодорожного полотна, а также около 300 метров контактной сети. Все сошедшие вагоны получили повреждения. В рамках уголовного дела следователи устанавливают свидетелей произошедшего, собственника груза и перевозчика, а также проводят иные следственные действия.</div>"
      ],
      "text/plain": [
       "BoxMarkup('Москва. 1 января. INTERFAX.RU - Уголовное дело возбудили следователи по факту схода грузовых вагонов на железнодорожном перегоне в Свердловской области, сообщает пресс-служба Уральского управления на транспорте СКР во вторник. \"По факту схода с рельсов 18 вагонов грузового поезда в районе станции Марамзино Свердловской железной дороги возбуждено уголовное дело по части 1 статьи 263 УК РФ ( нарушение правил безопасности движения и эксплуатации железнодорожного транспорта )\", - говорится в сообщении. По версии следствия, утром во вторник на 63 километре перегона Храмцовская - Марамзино Свердловской железной дороги с рельсов сошли, по уточненной информации, 18 грузовых вагонов , груженных углем, с опрокидыванием. Жертв и пострадавших в результате происшествия нет. По предварительным данным, повреждено около 150 метров железнодорожного полотна, а также около 300 метров контактной сети. Все сошедшие вагоны получили повреждения. В рамках уголовного дела следователи устанавливают свидетелей произошедшего, собственника груза и перевозчика, а также проводят иные следственные действия.',\n",
       "          [Span(0, 6, 'LOC'),\n",
       "           Span(18, 29, 'ORG'),\n",
       "           Span(131, 151, 'LOC'),\n",
       "           Span(175, 210, 'ORG'),\n",
       "           Span(211, 214, 'ORG'),\n",
       "           Span(298, 307, 'LOC'),\n",
       "           Span(308, 336, 'LOC'),\n",
       "           Span(388, 390, 'LOC'),\n",
       "           Span(567, 578, 'LOC'),\n",
       "           Span(581, 590, 'LOC'),\n",
       "           Span(591, 619, 'ORG')])"
      ]
     },
     "metadata": {},
     "output_type": "display_data"
    },
    {
     "name": "stdout",
     "output_type": "stream",
     "text": [
      "[(0, 6, 'LOC'), (18, 29, 'ORG'), (98, 136, 'ORG'), (149, 151, 'LOC'), (154, 169, 'PER'), (188, 193, 'LOC'), (242, 260, 'ORG'), (306, 321, 'ORG'), (335, 347, 'LOC'), (350, 362, 'LOC'), (405, 424, 'ORG'), (455, 475, 'ORG'), (798, 818, 'LOC'), (822, 831, 'LOC'), (978, 985, 'PER'), (1002, 1037, 'ORG'), (1225, 1233, 'LOC'), (1239, 1259, 'LOC'), (1273, 1281, 'LOC'), (1387, 1394, 'LOC')]\n"
     ]
    },
    {
     "data": {
      "text/html": [
       "<div class=\"tex2jax_ignore\" style=\"white-space: pre-wrap\"><span style=\"padding: 2px; border-radius: 4px; border: 1px solid #c8e6c9; background: #e8f5e9\">Москва<span style=\"vertical-align: middle; margin-left: 2px; font-size: 0.7em; color: #66bb6a;\">LOC</span></span>. 1 января. <span style=\"padding: 2px; border-radius: 4px; border: 1px solid #ffcdd2; background: #ffebee\">INTERFAX.RU<span style=\"vertical-align: middle; margin-left: 2px; font-size: 0.7em; color: #e57373;\">ORG</span></span> - Два шествия по случаю 110-летия со дня рождения одного из лидеров <span style=\"padding: 2px; border-radius: 4px; border: 1px solid #ffcdd2; background: #ffebee\">Организации украинских националистов (<span style=\"vertical-align: middle; margin-left: 2px; font-size: 0.7em; color: #e57373;\">ORG</span></span> запрещена в <span style=\"padding: 2px; border-radius: 4px; border: 1px solid #c8e6c9; background: #e8f5e9\">РФ<span style=\"vertical-align: middle; margin-left: 2px; font-size: 0.7em; color: #66bb6a;\">LOC</span></span> ) <span style=\"padding: 2px; border-radius: 4px; border: 1px solid #bbdefb; background: #e3f2fd\">Степана Бандеры<span style=\"vertical-align: middle; margin-left: 2px; font-size: 0.7em; color: #64b5f6;\">PER</span></span> проходят в центре <span style=\"padding: 2px; border-radius: 4px; border: 1px solid #c8e6c9; background: #e8f5e9\">Киева<span style=\"vertical-align: middle; margin-left: 2px; font-size: 0.7em; color: #66bb6a;\">LOC</span></span> во вторник вечером. Как передает корреспондент \"<span style=\"padding: 2px; border-radius: 4px; border: 1px solid #ffcdd2; background: #ffebee\">Интерфакса-Украина<span style=\"vertical-align: middle; margin-left: 2px; font-size: 0.7em; color: #e57373;\">ORG</span></span>\", около 17:00 от места сбора возле киевского <span style=\"padding: 2px; border-radius: 4px; border: 1px solid #ffcdd2; background: #ffebee\">Оперного театра<span style=\"vertical-align: middle; margin-left: 2px; font-size: 0.7em; color: #e57373;\">ORG</span></span> на углу улиц <span style=\"padding: 2px; border-radius: 4px; border: 1px solid #c8e6c9; background: #e8f5e9\">Владимирской<span style=\"vertical-align: middle; margin-left: 2px; font-size: 0.7em; color: #66bb6a;\">LOC</span></span> и <span style=\"padding: 2px; border-radius: 4px; border: 1px solid #c8e6c9; background: #e8f5e9\">Хмельницкого<span style=\"vertical-align: middle; margin-left: 2px; font-size: 0.7em; color: #66bb6a;\">LOC</span></span> началось шествие, организованное партией \"<span style=\"padding: 2px; border-radius: 4px; border: 1px solid #ffcdd2; background: #ffebee\">Национальный корпус<span style=\"vertical-align: middle; margin-left: 2px; font-size: 0.7em; color: #e57373;\">ORG</span></span>\" и общественной организацией \"<span style=\"padding: 2px; border-radius: 4px; border: 1px solid #ffcdd2; background: #ffebee\">Национальные дружины<span style=\"vertical-align: middle; margin-left: 2px; font-size: 0.7em; color: #e57373;\">ORG</span></span>\". Они организовали свой марш без традиционных факелов, при этом все участники были одеты в красные новогодние шапки. Впереди колонны шли два человека в костюмах снеговиков. Организаторы заявили, что их марш является праздничным и призвал нести положительное настроение. Более тысячи участников марша проследовали по улице <span style=\"padding: 2px; border-radius: 4px; border: 1px solid #c8e6c9; background: #e8f5e9\">Богдана Хмельницкого<span style=\"vertical-align: middle; margin-left: 2px; font-size: 0.7em; color: #66bb6a;\">LOC</span></span> по <span style=\"padding: 2px; border-radius: 4px; border: 1px solid #c8e6c9; background: #e8f5e9\">Крещатику<span style=\"vertical-align: middle; margin-left: 2px; font-size: 0.7em; color: #66bb6a;\">LOC</span></span> и пошли в сторону майдана Независимости. В 18:00 из парка имени Шевченко стартовало более многочисленное факельное шествие по случаю дня рождения <span style=\"padding: 2px; border-radius: 4px; border: 1px solid #bbdefb; background: #e3f2fd\">Бандеры<span style=\"vertical-align: middle; margin-left: 2px; font-size: 0.7em; color: #64b5f6;\">PER</span></span>, организованное <span style=\"padding: 2px; border-radius: 4px; border: 1px solid #ffcdd2; background: #ffebee\">Всеукраинским объединением \"Свобода<span style=\"vertical-align: middle; margin-left: 2px; font-size: 0.7em; color: #e57373;\">ORG</span></span>\" и рядом других националистических партий и организацией. В марше принимает участие несколько тысяч человек. Они растянулись достаточно длинной колонной, которая проследовала по бульвару <span style=\"padding: 2px; border-radius: 4px; border: 1px solid #c8e6c9; background: #e8f5e9\">Шевченко<span style=\"vertical-align: middle; margin-left: 2px; font-size: 0.7em; color: #66bb6a;\">LOC</span></span> и на <span style=\"padding: 2px; border-radius: 4px; border: 1px solid #c8e6c9; background: #e8f5e9\">Бессарабской площади<span style=\"vertical-align: middle; margin-left: 2px; font-size: 0.7em; color: #66bb6a;\">LOC</span></span> повернула на <span style=\"padding: 2px; border-radius: 4px; border: 1px solid #c8e6c9; background: #e8f5e9\">Крещатик<span style=\"vertical-align: middle; margin-left: 2px; font-size: 0.7em; color: #66bb6a;\">LOC</span></span> в сторону майдана Независимости. Участники акции несут большое количество факелов, государственные флаги <span style=\"padding: 2px; border-radius: 4px; border: 1px solid #c8e6c9; background: #e8f5e9\">Украины<span style=\"vertical-align: middle; margin-left: 2px; font-size: 0.7em; color: #66bb6a;\">LOC</span></span>, красно-черные и партийные флаги. Впереди идут барабанщики и едет несколько автомобилей. Колонну сопровождают сотрудники правоохранительных органов, впереди нее едет несколько полицейских автомобилей. За происходящим наблюдает большое количество киевлян и гостей столицы, которые снимают марш на мобильные телефоны.</div>"
      ],
      "text/plain": [
       "BoxMarkup('Москва. 1 января. INTERFAX.RU - Два шествия по случаю 110-летия со дня рождения одного из лидеров Организации украинских националистов ( запрещена в РФ ) Степана Бандеры проходят в центре Киева во вторник вечером. Как передает корреспондент \"Интерфакса-Украина\", около 17:00 от места сбора возле киевского Оперного театра на углу улиц Владимирской и Хмельницкого началось шествие, организованное партией \"Национальный корпус\" и общественной организацией \"Национальные дружины\". Они организовали свой марш без традиционных факелов, при этом все участники были одеты в красные новогодние шапки. Впереди колонны шли два человека в костюмах снеговиков. Организаторы заявили, что их марш является праздничным и призвал нести положительное настроение. Более тысячи участников марша проследовали по улице Богдана Хмельницкого по Крещатику и пошли в сторону майдана Независимости. В 18:00 из парка имени Шевченко стартовало более многочисленное факельное шествие по случаю дня рождения Бандеры, организованное Всеукраинским объединением \"Свобода\" и рядом других националистических партий и организацией. В марше принимает участие несколько тысяч человек. Они растянулись достаточно длинной колонной, которая проследовала по бульвару Шевченко и на Бессарабской площади повернула на Крещатик в сторону майдана Независимости. Участники акции несут большое количество факелов, государственные флаги Украины, красно-черные и партийные флаги. Впереди идут барабанщики и едет несколько автомобилей. Колонну сопровождают сотрудники правоохранительных органов, впереди нее едет несколько полицейских автомобилей. За происходящим наблюдает большое количество киевлян и гостей столицы, которые снимают марш на мобильные телефоны.',\n",
       "          [Span(0, 6, 'LOC'),\n",
       "           Span(18, 29, 'ORG'),\n",
       "           Span(98, 136, 'ORG'),\n",
       "           Span(149, 151, 'LOC'),\n",
       "           Span(154, 169, 'PER'),\n",
       "           Span(188, 193, 'LOC'),\n",
       "           Span(242, 260, 'ORG'),\n",
       "           Span(306, 321, 'ORG'),\n",
       "           Span(335, 347, 'LOC'),\n",
       "           Span(350, 362, 'LOC'),\n",
       "           Span(405, 424, 'ORG'),\n",
       "           Span(455, 475, 'ORG'),\n",
       "           Span(798, 818, 'LOC'),\n",
       "           Span(822, 831, 'LOC'),\n",
       "           Span(978, 985, 'PER'),\n",
       "           Span(1002, 1037, 'ORG'),\n",
       "           Span(1225, 1233, 'LOC'),\n",
       "           Span(1239, 1259, 'LOC'),\n",
       "           Span(1273, 1281, 'LOC'),\n",
       "           Span(1387, 1394, 'LOC')])"
      ]
     },
     "metadata": {},
     "output_type": "display_data"
    },
    {
     "name": "stdout",
     "output_type": "stream",
     "text": [
      "[(0, 6, 'LOC'), (18, 29, 'ORG'), (140, 153, 'LOC'), (256, 258, 'ORG'), (259, 262, 'ORG'), (266, 285, 'LOC'), (297, 300, 'ORG'), (542, 555, 'LOC'), (709, 721, 'LOC'), (854, 856, 'LOC'), (1016, 1029, 'LOC'), (1276, 1294, 'ORG'), (1295, 1298, 'ORG'), (1299, 1305, 'LOC'), (1309, 1328, 'LOC'), (1418, 1437, 'LOC')]\n"
     ]
    },
    {
     "data": {
      "text/html": [
       "<div class=\"tex2jax_ignore\" style=\"white-space: pre-wrap\"><span style=\"padding: 2px; border-radius: 4px; border: 1px solid #c8e6c9; background: #e8f5e9\">Москва<span style=\"vertical-align: middle; margin-left: 2px; font-size: 0.7em; color: #66bb6a;\">LOC</span></span>. 1 января. <span style=\"padding: 2px; border-radius: 4px; border: 1px solid #ffcdd2; background: #ffebee\">INTERFAX.RU<span style=\"vertical-align: middle; margin-left: 2px; font-size: 0.7em; color: #e57373;\">ORG</span></span> - Устанавливается местонахождение 32 человек, чья судьба остается неизвестной после обрушения подъезда дома в <span style=\"padding: 2px; border-radius: 4px; border: 1px solid #c8e6c9; background: #e8f5e9\">Магнитогорске<span style=\"vertical-align: middle; margin-left: 2px; font-size: 0.7em; color: #66bb6a;\">LOC</span></span>. \"Проводится работа по установлению местонахождения еще 32 человек\", - говорится в сообщении на сайте <span style=\"padding: 2px; border-radius: 4px; border: 1px solid #ffcdd2; background: #ffebee\">ГУ<span style=\"vertical-align: middle; margin-left: 2px; font-size: 0.7em; color: #e57373;\">ORG</span></span> <span style=\"padding: 2px; border-radius: 4px; border: 1px solid #ffcdd2; background: #ffebee\">МЧС<span style=\"vertical-align: middle; margin-left: 2px; font-size: 0.7em; color: #e57373;\">ORG</span></span> по <span style=\"padding: 2px; border-radius: 4px; border: 1px solid #c8e6c9; background: #e8f5e9\">Челябинской области<span style=\"vertical-align: middle; margin-left: 2px; font-size: 0.7em; color: #66bb6a;\">LOC</span></span>. По данным <span style=\"padding: 2px; border-radius: 4px; border: 1px solid #ffcdd2; background: #ffebee\">МЧС<span style=\"vertical-align: middle; margin-left: 2px; font-size: 0.7em; color: #e57373;\">ORG</span></span>, \"с момента начала поисково-спасательной операции из-под завалов извлечено 15 человек, из них 9 человек погибли (детей нет), 6 - спасены (в том числе 2 ребенка)\". Все пострадавшие были доставлены в медицинские учреждения. Утром 31 декабря в <span style=\"padding: 2px; border-radius: 4px; border: 1px solid #c8e6c9; background: #e8f5e9\">Магнитогорске<span style=\"vertical-align: middle; margin-left: 2px; font-size: 0.7em; color: #66bb6a;\">LOC</span></span> произошло обрушение одного из подъездов газифицированного панельного десятиэтажного 12-подъездного жилого дома ( 1973 год постройки ) по адресу проспект <span style=\"padding: 2px; border-radius: 4px; border: 1px solid #c8e6c9; background: #e8f5e9\">Карла Маркса<span style=\"vertical-align: middle; margin-left: 2px; font-size: 0.7em; color: #66bb6a;\">LOC</span></span>, 164. По данному факту возбуждено уголовное дело \"о причинении смерти по неосторожности двум и более лицам\" ( часть 3 статьи 109 УК <span style=\"padding: 2px; border-radius: 4px; border: 1px solid #c8e6c9; background: #e8f5e9\">РФ<span style=\"vertical-align: middle; margin-left: 2px; font-size: 0.7em; color: #66bb6a;\">LOC</span></span> ). Приоритетная версия произошедшего - взрыв бытового газа. Утром 1 января спасателям пришлось приступить к работам по демонтажу стены подъезда в жилом доме в <span style=\"padding: 2px; border-radius: 4px; border: 1px solid #c8e6c9; background: #e8f5e9\">Магнитогорске<span style=\"vertical-align: middle; margin-left: 2px; font-size: 0.7em; color: #66bb6a;\">LOC</span></span>, где взорвался газ, из-за угрозы ее обрушения. Вечером спасатели разобрали нависающие конструкции и продолжили разбор завалов внизу, под которым могут быть люди. Внутрь обрушившихся конструкций дома подают тепло специальными тепловыми пушками. В <span style=\"padding: 2px; border-radius: 4px; border: 1px solid #ffcdd2; background: #ffebee\">Главном управлении<span style=\"vertical-align: middle; margin-left: 2px; font-size: 0.7em; color: #e57373;\">ORG</span></span> <span style=\"padding: 2px; border-radius: 4px; border: 1px solid #ffcdd2; background: #ffebee\">МЧС<span style=\"vertical-align: middle; margin-left: 2px; font-size: 0.7em; color: #e57373;\">ORG</span></span> <span style=\"padding: 2px; border-radius: 4px; border: 1px solid #c8e6c9; background: #e8f5e9\">России<span style=\"vertical-align: middle; margin-left: 2px; font-size: 0.7em; color: #66bb6a;\">LOC</span></span> по <span style=\"padding: 2px; border-radius: 4px; border: 1px solid #c8e6c9; background: #e8f5e9\">Челябинской области<span style=\"vertical-align: middle; margin-left: 2px; font-size: 0.7em; color: #66bb6a;\">LOC</span></span> продолжает действовать телефон \"горячей линии\" (8-351-239-99-99) . В связи с трагедией в <span style=\"padding: 2px; border-radius: 4px; border: 1px solid #c8e6c9; background: #e8f5e9\">Челябинской области<span style=\"vertical-align: middle; margin-left: 2px; font-size: 0.7em; color: #66bb6a;\">LOC</span></span> 2 января объявлен траур .</div>"
      ],
      "text/plain": [
       "BoxMarkup('Москва. 1 января. INTERFAX.RU - Устанавливается местонахождение 32 человек, чья судьба остается неизвестной после обрушения подъезда дома в Магнитогорске. \"Проводится работа по установлению местонахождения еще 32 человек\", - говорится в сообщении на сайте ГУ МЧС по Челябинской области. По данным МЧС, \"с момента начала поисково-спасательной операции из-под завалов извлечено 15 человек, из них 9 человек погибли (детей нет), 6 - спасены (в том числе 2 ребенка)\". Все пострадавшие были доставлены в медицинские учреждения. Утром 31 декабря в Магнитогорске произошло обрушение одного из подъездов газифицированного панельного десятиэтажного 12-подъездного жилого дома ( 1973 год постройки ) по адресу проспект Карла Маркса, 164. По данному факту возбуждено уголовное дело \"о причинении смерти по неосторожности двум и более лицам\" ( часть 3 статьи 109 УК РФ ). Приоритетная версия произошедшего - взрыв бытового газа. Утром 1 января спасателям пришлось приступить к работам по демонтажу стены подъезда в жилом доме в Магнитогорске, где взорвался газ, из-за угрозы ее обрушения. Вечером спасатели разобрали нависающие конструкции и продолжили разбор завалов внизу, под которым могут быть люди. Внутрь обрушившихся конструкций дома подают тепло специальными тепловыми пушками. В Главном управлении МЧС России по Челябинской области продолжает действовать телефон \"горячей линии\" (8-351-239-99-99) . В связи с трагедией в Челябинской области 2 января объявлен траур .',\n",
       "          [Span(0, 6, 'LOC'),\n",
       "           Span(18, 29, 'ORG'),\n",
       "           Span(140, 153, 'LOC'),\n",
       "           Span(256, 258, 'ORG'),\n",
       "           Span(259, 262, 'ORG'),\n",
       "           Span(266, 285, 'LOC'),\n",
       "           Span(297, 300, 'ORG'),\n",
       "           Span(542, 555, 'LOC'),\n",
       "           Span(709, 721, 'LOC'),\n",
       "           Span(854, 856, 'LOC'),\n",
       "           Span(1016, 1029, 'LOC'),\n",
       "           Span(1276, 1294, 'ORG'),\n",
       "           Span(1295, 1298, 'ORG'),\n",
       "           Span(1299, 1305, 'LOC'),\n",
       "           Span(1309, 1328, 'LOC'),\n",
       "           Span(1418, 1437, 'LOC')])"
      ]
     },
     "metadata": {},
     "output_type": "display_data"
    },
    {
     "name": "stdout",
     "output_type": "stream",
     "text": [
      "[(0, 6, 'LOC'), (18, 29, 'ORG'), (83, 96, 'LOC'), (220, 264, 'ORG'), (265, 278, 'PER'), (336, 345, 'ORG'), (348, 353, 'ORG'), (508, 521, 'LOC'), (675, 687, 'LOC'), (882, 901, 'LOC')]\n"
     ]
    },
    {
     "data": {
      "text/html": [
       "<div class=\"tex2jax_ignore\" style=\"white-space: pre-wrap\"><span style=\"padding: 2px; border-radius: 4px; border: 1px solid #c8e6c9; background: #e8f5e9\">Москва<span style=\"vertical-align: middle; margin-left: 2px; font-size: 0.7em; color: #66bb6a;\">LOC</span></span>. 1 января. <span style=\"padding: 2px; border-radius: 4px; border: 1px solid #ffcdd2; background: #ffebee\">INTERFAX.RU<span style=\"vertical-align: middle; margin-left: 2px; font-size: 0.7em; color: #e57373;\">ORG</span></span> - Младенца, обнаруженного под завалами жилого дома в <span style=\"padding: 2px; border-radius: 4px; border: 1px solid #c8e6c9; background: #e8f5e9\">Магнитогорске<span style=\"vertical-align: middle; margin-left: 2px; font-size: 0.7em; color: #66bb6a;\">LOC</span></span>, где взорвался газ, доставили к самолету, который отвезет его в московскую клинику. В самолет ребенка перенес руководитель <span style=\"padding: 2px; border-radius: 4px; border: 1px solid #ffcdd2; background: #ffebee\">Федерального медико-биологического агентства<span style=\"vertical-align: middle; margin-left: 2px; font-size: 0.7em; color: #e57373;\">ORG</span></span> <span style=\"padding: 2px; border-radius: 4px; border: 1px solid #bbdefb; background: #e3f2fd\">Владимир Уйба<span style=\"vertical-align: middle; margin-left: 2px; font-size: 0.7em; color: #64b5f6;\">PER</span></span>. Соответствующие кадры были показаны в эфире телеканала \"<span style=\"padding: 2px; border-radius: 4px; border: 1px solid #ffcdd2; background: #ffebee\">Россия-24<span style=\"vertical-align: middle; margin-left: 2px; font-size: 0.7em; color: #e57373;\">ORG</span></span>\" (<span style=\"padding: 2px; border-radius: 4px; border: 1px solid #ffcdd2; background: #ffebee\">ВГТРК<span style=\"vertical-align: middle; margin-left: 2px; font-size: 0.7em; color: #e57373;\">ORG</span></span>). Как сообщалось, вечером вторника из-под завалов извлекли живым 10-месячного мальчика . Его состояние оценивается как крайне тяжелое. Утром 31 декабря в <span style=\"padding: 2px; border-radius: 4px; border: 1px solid #c8e6c9; background: #e8f5e9\">Магнитогорске<span style=\"vertical-align: middle; margin-left: 2px; font-size: 0.7em; color: #66bb6a;\">LOC</span></span> произошло обрушение одного из подъездов газифицированного панельного десятиэтажного 12-подъездного жилого дома ( 1973 год постройки ) по адресу проспект <span style=\"padding: 2px; border-radius: 4px; border: 1px solid #c8e6c9; background: #e8f5e9\">Карла Маркса<span style=\"vertical-align: middle; margin-left: 2px; font-size: 0.7em; color: #66bb6a;\">LOC</span></span>, 164. По последним данным, погибли девять человек, спасены шесть. Неизвестна судьба 32 жильцов пострадавшего дома. На месте ЧП продолжается поисково-спасательная операция. В связи с трагедией в <span style=\"padding: 2px; border-radius: 4px; border: 1px solid #c8e6c9; background: #e8f5e9\">Челябинской области<span style=\"vertical-align: middle; margin-left: 2px; font-size: 0.7em; color: #66bb6a;\">LOC</span></span> 2 января объявлен траур .</div>"
      ],
      "text/plain": [
       "BoxMarkup('Москва. 1 января. INTERFAX.RU - Младенца, обнаруженного под завалами жилого дома в Магнитогорске, где взорвался газ, доставили к самолету, который отвезет его в московскую клинику. В самолет ребенка перенес руководитель Федерального медико-биологического агентства Владимир Уйба. Соответствующие кадры были показаны в эфире телеканала \"Россия-24\" (ВГТРК). Как сообщалось, вечером вторника из-под завалов извлекли живым 10-месячного мальчика . Его состояние оценивается как крайне тяжелое. Утром 31 декабря в Магнитогорске произошло обрушение одного из подъездов газифицированного панельного десятиэтажного 12-подъездного жилого дома ( 1973 год постройки ) по адресу проспект Карла Маркса, 164. По последним данным, погибли девять человек, спасены шесть. Неизвестна судьба 32 жильцов пострадавшего дома. На месте ЧП продолжается поисково-спасательная операция. В связи с трагедией в Челябинской области 2 января объявлен траур .',\n",
       "          [Span(0, 6, 'LOC'),\n",
       "           Span(18, 29, 'ORG'),\n",
       "           Span(83, 96, 'LOC'),\n",
       "           Span(220, 264, 'ORG'),\n",
       "           Span(265, 278, 'PER'),\n",
       "           Span(336, 345, 'ORG'),\n",
       "           Span(348, 353, 'ORG'),\n",
       "           Span(508, 521, 'LOC'),\n",
       "           Span(675, 687, 'LOC'),\n",
       "           Span(882, 901, 'LOC')])"
      ]
     },
     "metadata": {},
     "output_type": "display_data"
    },
    {
     "name": "stdout",
     "output_type": "stream",
     "text": [
      "[(0, 6, 'LOC'), (18, 29, 'ORG'), (32, 78, 'ORG'), (132, 136, 'ORG'), (267, 310, 'ORG'), (344, 348, 'ORG'), (404, 408, 'ORG'), (444, 450, 'ORG'), (503, 509, 'ORG'), (543, 576, 'ORG'), (603, 607, 'ORG'), (620, 624, 'ORG'), (674, 680, 'LOC'), (868, 872, 'ORG'), (1012, 1016, 'ORG'), (1158, 1160, 'LOC'), (1161, 1175, 'PER'), (1194, 1201, 'LOC'), (1204, 1208, 'ORG'), (1376, 1380, 'ORG'), (1400, 1437, 'ORG')]\n"
     ]
    },
    {
     "data": {
      "text/html": [
       "<div class=\"tex2jax_ignore\" style=\"white-space: pre-wrap\"><span style=\"padding: 2px; border-radius: 4px; border: 1px solid #c8e6c9; background: #e8f5e9\">Москва<span style=\"vertical-align: middle; margin-left: 2px; font-size: 0.7em; color: #66bb6a;\">LOC</span></span>. 1 января. <span style=\"padding: 2px; border-radius: 4px; border: 1px solid #ffcdd2; background: #ffebee\">INTERFAX.RU<span style=\"vertical-align: middle; margin-left: 2px; font-size: 0.7em; color: #e57373;\">ORG</span></span> - <span style=\"padding: 2px; border-radius: 4px; border: 1px solid #ffcdd2; background: #ffebee\">Российское антидопинговое агентство ( РУСАДА )<span style=\"vertical-align: middle; margin-left: 2px; font-size: 0.7em; color: #e57373;\">ORG</span></span> может быть вновь лишено статуса соответствия кодексу <span style=\"padding: 2px; border-radius: 4px; border: 1px solid #ffcdd2; background: #ffebee\">ВАДА<span style=\"vertical-align: middle; margin-left: 2px; font-size: 0.7em; color: #e57373;\">ORG</span></span>, поскольку до конца года не было выполнено требование о предоставлении доступа к допинг-пробам в московской лаборатории, заявляет <span style=\"padding: 2px; border-radius: 4px; border: 1px solid #ffcdd2; background: #ffebee\">Всемирное антидопинговое агентство ( ВАДА )<span style=\"vertical-align: middle; margin-left: 2px; font-size: 0.7em; color: #e57373;\">ORG</span></span>. \"14-15 января соберется комитет <span style=\"padding: 2px; border-radius: 4px; border: 1px solid #ffcdd2; background: #ffebee\">ВАДА<span style=\"vertical-align: middle; margin-left: 2px; font-size: 0.7em; color: #e57373;\">ORG</span></span> по соответствию. Он предоставит рекомендации исполкому <span style=\"padding: 2px; border-radius: 4px; border: 1px solid #ffcdd2; background: #ffebee\">ВАДА<span style=\"vertical-align: middle; margin-left: 2px; font-size: 0.7em; color: #e57373;\">ORG</span></span>... Если комитет рекомендует лишить <span style=\"padding: 2px; border-radius: 4px; border: 1px solid #ffcdd2; background: #ffebee\">РУСАДА<span style=\"vertical-align: middle; margin-left: 2px; font-size: 0.7em; color: #e57373;\">ORG</span></span> статуса соответствия, и исполком согласится с этим, <span style=\"padding: 2px; border-radius: 4px; border: 1px solid #ffcdd2; background: #ffebee\">РУСАДА<span style=\"vertical-align: middle; margin-left: 2px; font-size: 0.7em; color: #e57373;\">ORG</span></span> будет иметь право оспорить это в <span style=\"padding: 2px; border-radius: 4px; border: 1px solid #ffcdd2; background: #ffebee\">Спортивном арбитражном суде (CAS)<span style=\"vertical-align: middle; margin-left: 2px; font-size: 0.7em; color: #e57373;\">ORG</span></span>\", - говорится в заявлении <span style=\"padding: 2px; border-radius: 4px; border: 1px solid #ffcdd2; background: #ffebee\">ВАДА<span style=\"vertical-align: middle; margin-left: 2px; font-size: 0.7em; color: #e57373;\">ORG</span></span> во вторник. <span style=\"padding: 2px; border-radius: 4px; border: 1px solid #ffcdd2; background: #ffebee\">ВАДА<span style=\"vertical-align: middle; margin-left: 2px; font-size: 0.7em; color: #e57373;\">ORG</span></span> заявило, что эксперты агентства могут приехать в <span style=\"padding: 2px; border-radius: 4px; border: 1px solid #c8e6c9; background: #e8f5e9\">Россию<span style=\"vertical-align: middle; margin-left: 2px; font-size: 0.7em; color: #66bb6a;\">LOC</span></span> для получения доступа к базе данных московской лаборатории, несмотря на то, что официальные сроки для этого истекли. \"Учитывая важность доступа к лаборатории для чистого спорта, эксперты <span style=\"padding: 2px; border-radius: 4px; border: 1px solid #ffcdd2; background: #ffebee\">ВАДА<span style=\"vertical-align: middle; margin-left: 2px; font-size: 0.7em; color: #e57373;\">ORG</span></span> по-прежнему готовы приступить к извлечению данных, если этот вопрос будет решен российскими властями, - говорится в заявлении агентства. - <span style=\"padding: 2px; border-radius: 4px; border: 1px solid #ffcdd2; background: #ffebee\">ВАДА<span style=\"vertical-align: middle; margin-left: 2px; font-size: 0.7em; color: #e57373;\">ORG</span></span> сообщит комитету по соответствию о любом прогрессе в этом вопросе на заседании комитета 14-15 января\". 28 декабря пресс-секретарь президента <span style=\"padding: 2px; border-radius: 4px; border: 1px solid #c8e6c9; background: #e8f5e9\">РФ<span style=\"vertical-align: middle; margin-left: 2px; font-size: 0.7em; color: #66bb6a;\">LOC</span></span> <span style=\"padding: 2px; border-radius: 4px; border: 1px solid #bbdefb; background: #e3f2fd\">Дмитрий Песков<span style=\"vertical-align: middle; margin-left: 2px; font-size: 0.7em; color: #64b5f6;\">PER</span></span> заявил, что между <span style=\"padding: 2px; border-radius: 4px; border: 1px solid #c8e6c9; background: #e8f5e9\">Россией<span style=\"vertical-align: middle; margin-left: 2px; font-size: 0.7em; color: #66bb6a;\">LOC</span></span> и <span style=\"padding: 2px; border-radius: 4px; border: 1px solid #ffcdd2; background: #ffebee\">ВАДА<span style=\"vertical-align: middle; margin-left: 2px; font-size: 0.7em; color: #e57373;\">ORG</span></span> есть понимание того, как и в какие сроки агентству будут переданы данные допинг-проб из московской лаборатории, взаимодействие по этому вопросу идет в рабочем режиме. <span style=\"padding: 2px; border-radius: 4px; border: 1px solid #ffcdd2; background: #ffebee\">ВАДА<span style=\"vertical-align: middle; margin-left: 2px; font-size: 0.7em; color: #e57373;\">ORG</span></span> в сентябре вернуло <span style=\"padding: 2px; border-radius: 4px; border: 1px solid #ffcdd2; background: #ffebee\">Российскому антидопинговому агентству<span style=\"vertical-align: middle; margin-left: 2px; font-size: 0.7em; color: #e57373;\">ORG</span></span> статус соответствия антидопинговому кодексу при условии, что до 31 декабря эксперты агентства получат доступ к данным московской лаборатории.</div>"
      ],
      "text/plain": [
       "BoxMarkup('Москва. 1 января. INTERFAX.RU - Российское антидопинговое агентство ( РУСАДА ) может быть вновь лишено статуса соответствия кодексу ВАДА, поскольку до конца года не было выполнено требование о предоставлении доступа к допинг-пробам в московской лаборатории, заявляет Всемирное антидопинговое агентство ( ВАДА ). \"14-15 января соберется комитет ВАДА по соответствию. Он предоставит рекомендации исполкому ВАДА... Если комитет рекомендует лишить РУСАДА статуса соответствия, и исполком согласится с этим, РУСАДА будет иметь право оспорить это в Спортивном арбитражном суде (CAS)\", - говорится в заявлении ВАДА во вторник. ВАДА заявило, что эксперты агентства могут приехать в Россию для получения доступа к базе данных московской лаборатории, несмотря на то, что официальные сроки для этого истекли. \"Учитывая важность доступа к лаборатории для чистого спорта, эксперты ВАДА по-прежнему готовы приступить к извлечению данных, если этот вопрос будет решен российскими властями, - говорится в заявлении агентства. - ВАДА сообщит комитету по соответствию о любом прогрессе в этом вопросе на заседании комитета 14-15 января\". 28 декабря пресс-секретарь президента РФ Дмитрий Песков заявил, что между Россией и ВАДА есть понимание того, как и в какие сроки агентству будут переданы данные допинг-проб из московской лаборатории, взаимодействие по этому вопросу идет в рабочем режиме. ВАДА в сентябре вернуло Российскому антидопинговому агентству статус соответствия антидопинговому кодексу при условии, что до 31 декабря эксперты агентства получат доступ к данным московской лаборатории.',\n",
       "          [Span(0, 6, 'LOC'),\n",
       "           Span(18, 29, 'ORG'),\n",
       "           Span(32, 78, 'ORG'),\n",
       "           Span(132, 136, 'ORG'),\n",
       "           Span(267, 310, 'ORG'),\n",
       "           Span(344, 348, 'ORG'),\n",
       "           Span(404, 408, 'ORG'),\n",
       "           Span(444, 450, 'ORG'),\n",
       "           Span(503, 509, 'ORG'),\n",
       "           Span(543, 576, 'ORG'),\n",
       "           Span(603, 607, 'ORG'),\n",
       "           Span(620, 624, 'ORG'),\n",
       "           Span(674, 680, 'LOC'),\n",
       "           Span(868, 872, 'ORG'),\n",
       "           Span(1012, 1016, 'ORG'),\n",
       "           Span(1158, 1160, 'LOC'),\n",
       "           Span(1161, 1175, 'PER'),\n",
       "           Span(1194, 1201, 'LOC'),\n",
       "           Span(1204, 1208, 'ORG'),\n",
       "           Span(1376, 1380, 'ORG'),\n",
       "           Span(1400, 1437, 'ORG')])"
      ]
     },
     "metadata": {},
     "output_type": "display_data"
    },
    {
     "name": "stdout",
     "output_type": "stream",
     "text": [
      "[(0, 6, 'LOC'), (18, 29, 'ORG'), (32, 46, 'PER'), (70, 78, 'LOC'), (213, 215, 'ORG'), (229, 237, 'ORG'), (305, 314, 'PER'), (342, 350, 'LOC'), (356, 365, 'PER'), (384, 390, 'PER'), (587, 595, 'LOC'), (649, 658, 'PER'), (770, 778, 'LOC'), (803, 812, 'PER'), (986, 1011, 'ORG'), (1012, 1020, 'LOC'), (1022, 1037, 'PER'), (1244, 1256, 'ORG'), (1328, 1336, 'LOC'), (1519, 1527, 'LOC'), (1801, 1810, 'PER'), (1850, 1853, 'LOC'), (1951, 1958, 'LOC'), (1962, 1972, 'LOC'), (1975, 1984, 'LOC')]\n"
     ]
    },
    {
     "data": {
      "text/html": [
       "<div class=\"tex2jax_ignore\" style=\"white-space: pre-wrap\"><span style=\"padding: 2px; border-radius: 4px; border: 1px solid #c8e6c9; background: #e8f5e9\">Москва<span style=\"vertical-align: middle; margin-left: 2px; font-size: 0.7em; color: #66bb6a;\">LOC</span></span>. 1 января. <span style=\"padding: 2px; border-radius: 4px; border: 1px solid #ffcdd2; background: #ffebee\">INTERFAX.RU<span style=\"vertical-align: middle; margin-left: 2px; font-size: 0.7em; color: #e57373;\">ORG</span></span> - <span style=\"padding: 2px; border-radius: 4px; border: 1px solid #bbdefb; background: #e3f2fd\">Жаир Болсонару<span style=\"vertical-align: middle; margin-left: 2px; font-size: 0.7em; color: #64b5f6;\">PER</span></span>, избранный президентом <span style=\"padding: 2px; border-radius: 4px; border: 1px solid #c8e6c9; background: #e8f5e9\">Бразилии<span style=\"vertical-align: middle; margin-left: 2px; font-size: 0.7em; color: #66bb6a;\">LOC</span></span> в октябре 2018 года по итогам второго тура выборов, во вторник официально вступил в должность главы государства, сообщает бразильское <span style=\"padding: 2px; border-radius: 4px; border: 1px solid #ffcdd2; background: #ffebee\">ТВ<span style=\"vertical-align: middle; margin-left: 2px; font-size: 0.7em; color: #e57373;\">ORG</span></span>. Близ дворца <span style=\"padding: 2px; border-radius: 4px; border: 1px solid #ffcdd2; background: #ffebee\">Планалту<span style=\"vertical-align: middle; margin-left: 2px; font-size: 0.7em; color: #e57373;\">ORG</span></span> - официальной резиденции президента - собрались тысячи сторонников <span style=\"padding: 2px; border-radius: 4px; border: 1px solid #bbdefb; background: #e3f2fd\">Болсонару<span style=\"vertical-align: middle; margin-left: 2px; font-size: 0.7em; color: #64b5f6;\">PER</span></span>. Они держали в руках флаги <span style=\"padding: 2px; border-radius: 4px; border: 1px solid #c8e6c9; background: #e8f5e9\">Бразилии<span style=\"vertical-align: middle; margin-left: 2px; font-size: 0.7em; color: #66bb6a;\">LOC</span></span>. Сам <span style=\"padding: 2px; border-radius: 4px; border: 1px solid #bbdefb; background: #e3f2fd\">Болсонару<span style=\"vertical-align: middle; margin-left: 2px; font-size: 0.7em; color: #64b5f6;\">PER</span></span> вместе с супругой <span style=\"padding: 2px; border-radius: 4px; border: 1px solid #bbdefb; background: #e3f2fd\">Мишель<span style=\"vertical-align: middle; margin-left: 2px; font-size: 0.7em; color: #64b5f6;\">PER</span></span> прибыли на церемонию в автомобиле Rolls-Royce в сопровождении автоколонны, полицейских на лошадях и сотрудников службы безопасности, следовавших за автомобилем пешком. Меры безопасности в столице <span style=\"padding: 2px; border-radius: 4px; border: 1px solid #c8e6c9; background: #e8f5e9\">Бразилии<span style=\"vertical-align: middle; margin-left: 2px; font-size: 0.7em; color: #66bb6a;\">LOC</span></span> в день инаугурации были усилены по требованию самого <span style=\"padding: 2px; border-radius: 4px; border: 1px solid #bbdefb; background: #e3f2fd\">Болсонару<span style=\"vertical-align: middle; margin-left: 2px; font-size: 0.7em; color: #64b5f6;\">PER</span></span>, который подвергся нападению во время избирательной кампании в сентябре прошлого года. Срок мандата президента <span style=\"padding: 2px; border-radius: 4px; border: 1px solid #c8e6c9; background: #e8f5e9\">Бразилии<span style=\"vertical-align: middle; margin-left: 2px; font-size: 0.7em; color: #66bb6a;\">LOC</span></span> составляет четыре года. <span style=\"padding: 2px; border-radius: 4px; border: 1px solid #bbdefb; background: #e3f2fd\">Болсонару<span style=\"vertical-align: middle; margin-left: 2px; font-size: 0.7em; color: #64b5f6;\">PER</span></span> стал первым президентом страны, придерживающимся ультраправых взглядов, после падения военной диктатуры в 1985 году. Он победил на выборах, баллотировавшись от ультраправой <span style=\"padding: 2px; border-radius: 4px; border: 1px solid #ffcdd2; background: #ffebee\">Социал-либеральной партии<span style=\"vertical-align: middle; margin-left: 2px; font-size: 0.7em; color: #e57373;\">ORG</span></span> <span style=\"padding: 2px; border-radius: 4px; border: 1px solid #c8e6c9; background: #e8f5e9\">Бразилии<span style=\"vertical-align: middle; margin-left: 2px; font-size: 0.7em; color: #66bb6a;\">LOC</span></span>. <span style=\"padding: 2px; border-radius: 4px; border: 1px solid #bbdefb; background: #e3f2fd\">Жаиру Болсонару<span style=\"vertical-align: middle; margin-left: 2px; font-size: 0.7em; color: #64b5f6;\">PER</span></span> 63 года. В политике он оказался после падения военного режима, во времена которого он был военнослужащим. На протяжении 27 лет политической карьеры он девять раз менял партии и семь раз избирался депутатом <span style=\"padding: 2px; border-radius: 4px; border: 1px solid #ffcdd2; background: #ffebee\">Нацконгресса<span style=\"vertical-align: middle; margin-left: 2px; font-size: 0.7em; color: #e57373;\">ORG</span></span> страны. Его основное послание своим избирателям заключалось в том, что <span style=\"padding: 2px; border-radius: 4px; border: 1px solid #c8e6c9; background: #e8f5e9\">Бразилии<span style=\"vertical-align: middle; margin-left: 2px; font-size: 0.7em; color: #66bb6a;\">LOC</span></span> нужна \"железная рука\", которой он готов стать, чтобы избавить страну от коррупции и бюрократии, насилия, нищеты и прочих проблем, в которых погрязло государство. Он также известен в <span style=\"padding: 2px; border-radius: 4px; border: 1px solid #c8e6c9; background: #e8f5e9\">Бразилии<span style=\"vertical-align: middle; margin-left: 2px; font-size: 0.7em; color: #66bb6a;\">LOC</span></span> бескомпромиссными высказываниями в адрес религиозных и сексуальных меньшинств, сторонников левых партий и женщин. Кроме того, он неоднократно с симпатией высказывался о годах диктатуры. Практически треть его кабинета министров являются бывшими военнослужащими. Кроме того, <span style=\"padding: 2px; border-radius: 4px; border: 1px solid #bbdefb; background: #e3f2fd\">Болсонару<span style=\"vertical-align: middle; margin-left: 2px; font-size: 0.7em; color: #64b5f6;\">PER</span></span> заявил о намерении последовать примеру <span style=\"padding: 2px; border-radius: 4px; border: 1px solid #c8e6c9; background: #e8f5e9\">США<span style=\"vertical-align: middle; margin-left: 2px; font-size: 0.7em; color: #66bb6a;\">LOC</span></span> и выйти из Парижского климатического соглашения 2015 года, а также перенести посольство страны в <span style=\"padding: 2px; border-radius: 4px; border: 1px solid #c8e6c9; background: #e8f5e9\">Израиле<span style=\"vertical-align: middle; margin-left: 2px; font-size: 0.7em; color: #66bb6a;\">LOC</span></span> из <span style=\"padding: 2px; border-radius: 4px; border: 1px solid #c8e6c9; background: #e8f5e9\">Тель-Авива<span style=\"vertical-align: middle; margin-left: 2px; font-size: 0.7em; color: #66bb6a;\">LOC</span></span> в <span style=\"padding: 2px; border-radius: 4px; border: 1px solid #c8e6c9; background: #e8f5e9\">Иерусалим<span style=\"vertical-align: middle; margin-left: 2px; font-size: 0.7em; color: #66bb6a;\">LOC</span></span>.</div>"
      ],
      "text/plain": [
       "BoxMarkup('Москва. 1 января. INTERFAX.RU - Жаир Болсонару, избранный президентом Бразилии в октябре 2018 года по итогам второго тура выборов, во вторник официально вступил в должность главы государства, сообщает бразильское ТВ. Близ дворца Планалту - официальной резиденции президента - собрались тысячи сторонников Болсонару. Они держали в руках флаги Бразилии. Сам Болсонару вместе с супругой Мишель прибыли на церемонию в автомобиле Rolls-Royce в сопровождении автоколонны, полицейских на лошадях и сотрудников службы безопасности, следовавших за автомобилем пешком. Меры безопасности в столице Бразилии в день инаугурации были усилены по требованию самого Болсонару, который подвергся нападению во время избирательной кампании в сентябре прошлого года. Срок мандата президента Бразилии составляет четыре года. Болсонару стал первым президентом страны, придерживающимся ультраправых взглядов, после падения военной диктатуры в 1985 году. Он победил на выборах, баллотировавшись от ультраправой Социал-либеральной партии Бразилии. Жаиру Болсонару 63 года. В политике он оказался после падения военного режима, во времена которого он был военнослужащим. На протяжении 27 лет политической карьеры он девять раз менял партии и семь раз избирался депутатом Нацконгресса страны. Его основное послание своим избирателям заключалось в том, что Бразилии нужна \"железная рука\", которой он готов стать, чтобы избавить страну от коррупции и бюрократии, насилия, нищеты и прочих проблем, в которых погрязло государство. Он также известен в Бразилии бескомпромиссными высказываниями в адрес религиозных и сексуальных меньшинств, сторонников левых партий и женщин. Кроме того, он неоднократно с симпатией высказывался о годах диктатуры. Практически треть его кабинета министров являются бывшими военнослужащими. Кроме того, Болсонару заявил о намерении последовать примеру США и выйти из Парижского климатического соглашения 2015 года, а также перенести посольство страны в Израиле из Тель-Авива в Иерусалим.',\n",
       "          [Span(0, 6, 'LOC'),\n",
       "           Span(18, 29, 'ORG'),\n",
       "           Span(32, 46, 'PER'),\n",
       "           Span(70, 78, 'LOC'),\n",
       "           Span(213, 215, 'ORG'),\n",
       "           Span(229, 237, 'ORG'),\n",
       "           Span(305, 314, 'PER'),\n",
       "           Span(342, 350, 'LOC'),\n",
       "           Span(356, 365, 'PER'),\n",
       "           Span(384, 390, 'PER'),\n",
       "           Span(587, 595, 'LOC'),\n",
       "           Span(649, 658, 'PER'),\n",
       "           Span(770, 778, 'LOC'),\n",
       "           Span(803, 812, 'PER'),\n",
       "           Span(986, 1011, 'ORG'),\n",
       "           Span(1012, 1020, 'LOC'),\n",
       "           Span(1022, 1037, 'PER'),\n",
       "           Span(1244, 1256, 'ORG'),\n",
       "           Span(1328, 1336, 'LOC'),\n",
       "           Span(1519, 1527, 'LOC'),\n",
       "           Span(1801, 1810, 'PER'),\n",
       "           Span(1850, 1853, 'LOC'),\n",
       "           Span(1951, 1958, 'LOC'),\n",
       "           Span(1962, 1972, 'LOC'),\n",
       "           Span(1975, 1984, 'LOC')])"
      ]
     },
     "metadata": {},
     "output_type": "display_data"
    },
    {
     "name": "stdout",
     "output_type": "stream",
     "text": [
      "[(29, 42, 'LOC'), (91, 105, 'LOC'), (106, 112, 'LOC'), (124, 135, 'ORG'), (188, 207, 'LOC'), (283, 296, 'LOC'), (495, 498, 'LOC'), (499, 508, 'PER'), (524, 530, 'LOC'), (607, 610, 'ORG'), (628, 639, 'PER'), (681, 687, 'LOC'), (804, 817, 'ORG'), (818, 832, 'PER'), (934, 938, 'LOC'), (941, 947, 'LOC'), (980, 988, 'LOC'), (1164, 1172, 'LOC'), (1182, 1192, 'ORG'), (1256, 1262, 'LOC'), (1334, 1337, 'LOC'), (1338, 1351, 'PER'), (1396, 1401, 'LOC'), (1470, 1473, 'ORG'), (1479, 1493, 'ORG'), (1496, 1502, 'LOC'), (1559, 1569, 'ORG'), (1662, 1668, 'LOC'), (1669, 1683, 'PER'), (1778, 1790, 'ORG'), (1840, 1857, 'LOC'), (1957, 1963, 'LOC'), (2008, 2014, 'LOC'), (2112, 2121, 'LOC'), (2192, 2199, 'LOC'), (2203, 2211, 'LOC'), (2420, 2425, 'LOC'), (2632, 2638, 'LOC'), (2677, 2683, 'LOC')]\n"
     ]
    },
    {
     "data": {
      "text/html": [
       "<div class=\"tex2jax_ignore\" style=\"white-space: pre-wrap\">Спасенный младенец и траур в <span style=\"padding: 2px; border-radius: 4px; border: 1px solid #c8e6c9; background: #e8f5e9\">Магнитогорске<span style=\"vertical-align: middle; margin-left: 2px; font-size: 0.7em; color: #66bb6a;\">LOC</span></span>, дебош хоккеиста в самолете и обрушение моста в <span style=\"padding: 2px; border-radius: 4px; border: 1px solid #c8e6c9; background: #e8f5e9\">Парке Горького<span style=\"vertical-align: middle; margin-left: 2px; font-size: 0.7em; color: #66bb6a;\">LOC</span></span> <span style=\"padding: 2px; border-radius: 4px; border: 1px solid #c8e6c9; background: #e8f5e9\">Москва<span style=\"vertical-align: middle; margin-left: 2px; font-size: 0.7em; color: #66bb6a;\">LOC</span></span>. 1 января. <span style=\"padding: 2px; border-radius: 4px; border: 1px solid #ffcdd2; background: #ffebee\">INTERFAX.RU<span style=\"vertical-align: middle; margin-left: 2px; font-size: 0.7em; color: #e57373;\">ORG</span></span> - Краткая сводка событий, произошедших за день: - В <span style=\"padding: 2px; border-radius: 4px; border: 1px solid #c8e6c9; background: #e8f5e9\">Челябинской области<span style=\"vertical-align: middle; margin-left: 2px; font-size: 0.7em; color: #66bb6a;\">LOC</span></span> объявили 2 января траур в связи с погибшими из-за взрыва газа в жилом доме <span style=\"padding: 2px; border-radius: 4px; border: 1px solid #c8e6c9; background: #e8f5e9\">Магнитогорска<span style=\"vertical-align: middle; margin-left: 2px; font-size: 0.7em; color: #66bb6a;\">LOC</span></span>. По последним данным, в результате трагедии погибли девять человек . Остается неизвестной судьба более 30 жителей . Однако спасателям при разборе завалов удалось найди живого младенца . - Гражданин <span style=\"padding: 2px; border-radius: 4px; border: 1px solid #c8e6c9; background: #e8f5e9\">США<span style=\"vertical-align: middle; margin-left: 2px; font-size: 0.7em; color: #66bb6a;\">LOC</span></span> <span style=\"padding: 2px; border-radius: 4px; border: 1px solid #bbdefb; background: #e3f2fd\">Пол Уилан<span style=\"vertical-align: middle; margin-left: 2px; font-size: 0.7em; color: #64b5f6;\">PER</span></span>, задержанный в <span style=\"padding: 2px; border-radius: 4px; border: 1px solid #c8e6c9; background: #e8f5e9\">России<span style=\"vertical-align: middle; margin-left: 2px; font-size: 0.7em; color: #66bb6a;\">LOC</span></span> по подозрению в шпионаже, оказался отставным морским пехотинцем , рассказал <span style=\"padding: 2px; border-radius: 4px; border: 1px solid #ffcdd2; background: #ffebee\">СМИ<span style=\"vertical-align: middle; margin-left: 2px; font-size: 0.7em; color: #e57373;\">ORG</span></span> его брат-близнец <span style=\"padding: 2px; border-radius: 4px; border: 1px solid #bbdefb; background: #e3f2fd\">Дэвид Уилан<span style=\"vertical-align: middle; margin-left: 2px; font-size: 0.7em; color: #64b5f6;\">PER</span></span>. По его словам, он приехал и находился в <span style=\"padding: 2px; border-radius: 4px; border: 1px solid #c8e6c9; background: #e8f5e9\">Москве<span style=\"vertical-align: middle; margin-left: 2px; font-size: 0.7em; color: #66bb6a;\">LOC</span></span>, так как был приглашен на свадьбу. Брат задержанного заявил о невиновности родственника. - Главный редактор журнала <span style=\"padding: 2px; border-radius: 4px; border: 1px solid #ffcdd2; background: #ffebee\">The New Times<span style=\"vertical-align: middle; margin-left: 2px; font-size: 0.7em; color: #e57373;\">ORG</span></span> <span style=\"padding: 2px; border-radius: 4px; border: 1px solid #bbdefb; background: #e3f2fd\">Евгения Альбац<span style=\"vertical-align: middle; margin-left: 2px; font-size: 0.7em; color: #64b5f6;\">PER</span></span> заявила о планах покинуть свой пост и о поиске человека себе на замену. - Пассажирский лайнер рейсом <span style=\"padding: 2px; border-radius: 4px; border: 1px solid #c8e6c9; background: #e8f5e9\">Сочи<span style=\"vertical-align: middle; margin-left: 2px; font-size: 0.7em; color: #66bb6a;\">LOC</span></span> - <span style=\"padding: 2px; border-radius: 4px; border: 1px solid #c8e6c9; background: #e8f5e9\">Москва<span style=\"vertical-align: middle; margin-left: 2px; font-size: 0.7em; color: #66bb6a;\">LOC</span></span> прервал полет и экстренно сел в <span style=\"padding: 2px; border-radius: 4px; border: 1px solid #c8e6c9; background: #e8f5e9\">Воронеже<span style=\"vertical-align: middle; margin-left: 2px; font-size: 0.7em; color: #66bb6a;\">LOC</span></span> из-за пьяного дебоша пассажира бизнес-класса. У трапа самолет хулигана встретили полицейские , после чего лайнер продолжил полет в столицу. Позже источник в службах аэропорта <span style=\"padding: 2px; border-radius: 4px; border: 1px solid #c8e6c9; background: #e8f5e9\">Воронежа<span style=\"vertical-align: middle; margin-left: 2px; font-size: 0.7em; color: #66bb6a;\">LOC</span></span> сообщил \"<span style=\"padding: 2px; border-radius: 4px; border: 1px solid #ffcdd2; background: #ffebee\">Интерфаксу<span style=\"vertical-align: middle; margin-left: 2px; font-size: 0.7em; color: #e57373;\">ORG</span></span>\", что дебош устроил известный российский хоккеист , играющий в <span style=\"padding: 2px; border-radius: 4px; border: 1px solid #c8e6c9; background: #e8f5e9\">России<span style=\"vertical-align: middle; margin-left: 2px; font-size: 0.7em; color: #66bb6a;\">LOC</span></span> и за рубежом. Как заявили в полиции, мужчину оштрафовали . - Президент <span style=\"padding: 2px; border-radius: 4px; border: 1px solid #c8e6c9; background: #e8f5e9\">США<span style=\"vertical-align: middle; margin-left: 2px; font-size: 0.7em; color: #66bb6a;\">LOC</span></span> <span style=\"padding: 2px; border-radius: 4px; border: 1px solid #bbdefb; background: #e3f2fd\">Дональд Трамп<span style=\"vertical-align: middle; margin-left: 2px; font-size: 0.7em; color: #64b5f6;\">PER</span></span> согласился продлить процесс вывода войск из <span style=\"padding: 2px; border-radius: 4px; border: 1px solid #c8e6c9; background: #e8f5e9\">Сирии<span style=\"vertical-align: middle; margin-left: 2px; font-size: 0.7em; color: #66bb6a;\">LOC</span></span> и осуществить его в течение четырех месяцев , сообщили американские <span style=\"padding: 2px; border-radius: 4px; border: 1px solid #ffcdd2; background: #ffebee\">СМИ<span style=\"vertical-align: middle; margin-left: 2px; font-size: 0.7em; color: #e57373;\">ORG</span></span>. - В <span style=\"padding: 2px; border-radius: 4px; border: 1px solid #ffcdd2; background: #ffebee\">Парке Горького<span style=\"vertical-align: middle; margin-left: 2px; font-size: 0.7em; color: #e57373;\">ORG</span></span> в <span style=\"padding: 2px; border-radius: 4px; border: 1px solid #c8e6c9; background: #e8f5e9\">Москве<span style=\"vertical-align: middle; margin-left: 2px; font-size: 0.7em; color: #66bb6a;\">LOC</span></span> произошло обрушение деревянного моста . Как рассказали \"<span style=\"padding: 2px; border-radius: 4px; border: 1px solid #ffcdd2; background: #ffebee\">Интерфаксу<span style=\"vertical-align: middle; margin-left: 2px; font-size: 0.7em; color: #e57373;\">ORG</span></span>\" источники, конструкция рухнула во время запуска фейерверков и новогодних поздравлений. Мэр <span style=\"padding: 2px; border-radius: 4px; border: 1px solid #c8e6c9; background: #e8f5e9\">Москвы<span style=\"vertical-align: middle; margin-left: 2px; font-size: 0.7em; color: #66bb6a;\">LOC</span></span> <span style=\"padding: 2px; border-radius: 4px; border: 1px solid #bbdefb; background: #e3f2fd\">Сергей Собянин<span style=\"vertical-align: middle; margin-left: 2px; font-size: 0.7em; color: #64b5f6;\">PER</span></span> сообщил, что директор парка будет уволена после этого ЧП. - Американская межпланетная станция <span style=\"padding: 2px; border-radius: 4px; border: 1px solid #ffcdd2; background: #ffebee\">New Horizons<span style=\"vertical-align: middle; margin-left: 2px; font-size: 0.7em; color: #e57373;\">ORG</span></span> пролетела мимо астероида Ultima Thule на окраине <span style=\"padding: 2px; border-radius: 4px; border: 1px solid #c8e6c9; background: #e8f5e9\">Солнечной системы<span style=\"vertical-align: middle; margin-left: 2px; font-size: 0.7em; color: #66bb6a;\">LOC</span></span>. Ученые надеются в ближайшее время получить со станции фотоснимки . - Хоккеисты молодежной сборной <span style=\"padding: 2px; border-radius: 4px; border: 1px solid #c8e6c9; background: #e8f5e9\">России<span style=\"vertical-align: middle; margin-left: 2px; font-size: 0.7em; color: #66bb6a;\">LOC</span></span> добились победы над сверстниками из команды <span style=\"padding: 2px; border-radius: 4px; border: 1px solid #c8e6c9; background: #e8f5e9\">Канады<span style=\"vertical-align: middle; margin-left: 2px; font-size: 0.7em; color: #66bb6a;\">LOC</span></span> в своем четвертом матче группового этапа ЧМ среди игроков не старше 20 лет. Встреча, прошедшая в <span style=\"padding: 2px; border-radius: 4px; border: 1px solid #c8e6c9; background: #e8f5e9\">Ванкувере<span style=\"vertical-align: middle; margin-left: 2px; font-size: 0.7em; color: #66bb6a;\">LOC</span></span>, завершилась со счетом 2:1 (1:1, 0:0, 1:0) в пользу россиян. - Вулкан <span style=\"padding: 2px; border-radius: 4px; border: 1px solid #c8e6c9; background: #e8f5e9\">Шивелуч<span style=\"vertical-align: middle; margin-left: 2px; font-size: 0.7em; color: #66bb6a;\">LOC</span></span> на <span style=\"padding: 2px; border-radius: 4px; border: 1px solid #c8e6c9; background: #e8f5e9\">Камчатке<span style=\"vertical-align: middle; margin-left: 2px; font-size: 0.7em; color: #66bb6a;\">LOC</span></span> выбросил пепел на высоту до 4,5 км . Как отметили спасатели, пепловый шлейф распространился в юго-западном направлении, на его пути нет населенных пунктов . - Водитель врезался в отмечавшую Новый год толпу в <span style=\"padding: 2px; border-radius: 4px; border: 1px solid #c8e6c9; background: #e8f5e9\">Токио<span style=\"vertical-align: middle; margin-left: 2px; font-size: 0.7em; color: #66bb6a;\">LOC</span></span> . Полиция задержала виновника происшествия - 21-летнего человека. Он пояснил, что преднамеренно направил машину на пешеходов. По его словам, таким образом, он хотел выразить протест против смертной казни в <span style=\"padding: 2px; border-radius: 4px; border: 1px solid #c8e6c9; background: #e8f5e9\">Японии<span style=\"vertical-align: middle; margin-left: 2px; font-size: 0.7em; color: #66bb6a;\">LOC</span></span>. - Новый год в праздничных гуляниях в <span style=\"padding: 2px; border-radius: 4px; border: 1px solid #c8e6c9; background: #e8f5e9\">Москве<span style=\"vertical-align: middle; margin-left: 2px; font-size: 0.7em; color: #66bb6a;\">LOC</span></span> отметили 2,6 млн человек .</div>"
      ],
      "text/plain": [
       "BoxMarkup('Спасенный младенец и траур в Магнитогорске, дебош хоккеиста в самолете и обрушение моста в Парке Горького Москва. 1 января. INTERFAX.RU - Краткая сводка событий, произошедших за день: - В Челябинской области объявили 2 января траур в связи с погибшими из-за взрыва газа в жилом доме Магнитогорска. По последним данным, в результате трагедии погибли девять человек . Остается неизвестной судьба более 30 жителей . Однако спасателям при разборе завалов удалось найди живого младенца . - Гражданин США Пол Уилан, задержанный в России по подозрению в шпионаже, оказался отставным морским пехотинцем , рассказал СМИ его брат-близнец Дэвид Уилан. По его словам, он приехал и находился в Москве, так как был приглашен на свадьбу. Брат задержанного заявил о невиновности родственника. - Главный редактор журнала The New Times Евгения Альбац заявила о планах покинуть свой пост и о поиске человека себе на замену. - Пассажирский лайнер рейсом Сочи - Москва прервал полет и экстренно сел в Воронеже из-за пьяного дебоша пассажира бизнес-класса. У трапа самолет хулигана встретили полицейские , после чего лайнер продолжил полет в столицу. Позже источник в службах аэропорта Воронежа сообщил \"Интерфаксу\", что дебош устроил известный российский хоккеист , играющий в России и за рубежом. Как заявили в полиции, мужчину оштрафовали . - Президент США Дональд Трамп согласился продлить процесс вывода войск из Сирии и осуществить его в течение четырех месяцев , сообщили американские СМИ. - В Парке Горького в Москве произошло обрушение деревянного моста . Как рассказали \"Интерфаксу\" источники, конструкция рухнула во время запуска фейерверков и новогодних поздравлений. Мэр Москвы Сергей Собянин сообщил, что директор парка будет уволена после этого ЧП. - Американская межпланетная станция New Horizons пролетела мимо астероида Ultima Thule на окраине Солнечной системы. Ученые надеются в ближайшее время получить со станции фотоснимки . - Хоккеисты молодежной сборной России добились победы над сверстниками из команды Канады в своем четвертом матче группового этапа ЧМ среди игроков не старше 20 лет. Встреча, прошедшая в Ванкувере, завершилась со счетом 2:1 (1:1, 0:0, 1:0) в пользу россиян. - Вулкан Шивелуч на Камчатке выбросил пепел на высоту до 4,5 км . Как отметили спасатели, пепловый шлейф распространился в юго-западном направлении, на его пути нет населенных пунктов . - Водитель врезался в отмечавшую Новый год толпу в Токио . Полиция задержала виновника происшествия - 21-летнего человека. Он пояснил, что преднамеренно направил машину на пешеходов. По его словам, таким образом, он хотел выразить протест против смертной казни в Японии. - Новый год в праздничных гуляниях в Москве отметили 2,6 млн человек .',\n",
       "          [Span(29, 42, 'LOC'),\n",
       "           Span(91, 105, 'LOC'),\n",
       "           Span(106, 112, 'LOC'),\n",
       "           Span(124, 135, 'ORG'),\n",
       "           Span(188, 207, 'LOC'),\n",
       "           Span(283, 296, 'LOC'),\n",
       "           Span(495, 498, 'LOC'),\n",
       "           Span(499, 508, 'PER'),\n",
       "           Span(524, 530, 'LOC'),\n",
       "           Span(607, 610, 'ORG'),\n",
       "           Span(628, 639, 'PER'),\n",
       "           Span(681, 687, 'LOC'),\n",
       "           Span(804, 817, 'ORG'),\n",
       "           Span(818, 832, 'PER'),\n",
       "           Span(934, 938, 'LOC'),\n",
       "           Span(941, 947, 'LOC'),\n",
       "           Span(980, 988, 'LOC'),\n",
       "           Span(1164, 1172, 'LOC'),\n",
       "           Span(1182, 1192, 'ORG'),\n",
       "           Span(1256, 1262, 'LOC'),\n",
       "           Span(1334, 1337, 'LOC'),\n",
       "           Span(1338, 1351, 'PER'),\n",
       "           Span(1396, 1401, 'LOC'),\n",
       "           Span(1470, 1473, 'ORG'),\n",
       "           Span(1479, 1493, 'ORG'),\n",
       "           Span(1496, 1502, 'LOC'),\n",
       "           Span(1559, 1569, 'ORG'),\n",
       "           Span(1662, 1668, 'LOC'),\n",
       "           Span(1669, 1683, 'PER'),\n",
       "           Span(1778, 1790, 'ORG'),\n",
       "           Span(1840, 1857, 'LOC'),\n",
       "           Span(1957, 1963, 'LOC'),\n",
       "           Span(2008, 2014, 'LOC'),\n",
       "           Span(2112, 2121, 'LOC'),\n",
       "           Span(2192, 2199, 'LOC'),\n",
       "           Span(2203, 2211, 'LOC'),\n",
       "           Span(2420, 2425, 'LOC'),\n",
       "           Span(2632, 2638, 'LOC'),\n",
       "           Span(2677, 2683, 'LOC')])"
      ]
     },
     "metadata": {},
     "output_type": "display_data"
    },
    {
     "name": "stdout",
     "output_type": "stream",
     "text": [
      "[(0, 6, 'LOC'), (18, 29, 'ORG'), (76, 89, 'LOC'), (122, 128, 'LOC'), (180, 193, 'LOC'), (206, 212, 'LOC'), (241, 251, 'ORG'), (315, 364, 'ORG')]\n"
     ]
    },
    {
     "data": {
      "text/html": [
       "<div class=\"tex2jax_ignore\" style=\"white-space: pre-wrap\"><span style=\"padding: 2px; border-radius: 4px; border: 1px solid #c8e6c9; background: #e8f5e9\">Москва<span style=\"vertical-align: middle; margin-left: 2px; font-size: 0.7em; color: #66bb6a;\">LOC</span></span>. 1 января. <span style=\"padding: 2px; border-radius: 4px; border: 1px solid #ffcdd2; background: #ffebee\">INTERFAX.RU<span style=\"vertical-align: middle; margin-left: 2px; font-size: 0.7em; color: #e57373;\">ORG</span></span> - Самолет с пострадавшим при обрушении дома в <span style=\"padding: 2px; border-radius: 4px; border: 1px solid #c8e6c9; background: #e8f5e9\">Магнитогорске<span style=\"vertical-align: middle; margin-left: 2px; font-size: 0.7em; color: #66bb6a;\">LOC</span></span> 11-месячным мальчиком вылетел в <span style=\"padding: 2px; border-radius: 4px; border: 1px solid #c8e6c9; background: #e8f5e9\">Москву<span style=\"vertical-align: middle; margin-left: 2px; font-size: 0.7em; color: #66bb6a;\">LOC</span></span>, сообщили в аэропорту. \"Самолет сейчас взлетает из <span style=\"padding: 2px; border-radius: 4px; border: 1px solid #c8e6c9; background: #e8f5e9\">Магнитогорска<span style=\"vertical-align: middle; margin-left: 2px; font-size: 0.7em; color: #66bb6a;\">LOC</span></span>. Прилетит в <span style=\"padding: 2px; border-radius: 4px; border: 1px solid #c8e6c9; background: #e8f5e9\">Москву<span style=\"vertical-align: middle; margin-left: 2px; font-size: 0.7em; color: #66bb6a;\">LOC</span></span> через два часа\", - сказали \"<span style=\"padding: 2px; border-radius: 4px; border: 1px solid #ffcdd2; background: #ffebee\">Интерфаксу<span style=\"vertical-align: middle; margin-left: 2px; font-size: 0.7em; color: #e57373;\">ORG</span></span>\" в службе аэропорта во вторник. Как сообщалось, его доставят в <span style=\"padding: 2px; border-radius: 4px; border: 1px solid #ffcdd2; background: #ffebee\">Центр неотложной детской хирургии и травматологии<span style=\"vertical-align: middle; margin-left: 2px; font-size: 0.7em; color: #e57373;\">ORG</span></span>. Состояние мальчика оценивается как \"крайне тяжелое\": у него диагностированы \"серьезные обморожения конечностей, закрытая черепно-мозговая травма, множественные переломы голени, общее переохлаждение\".</div>"
      ],
      "text/plain": [
       "BoxMarkup('Москва. 1 января. INTERFAX.RU - Самолет с пострадавшим при обрушении дома в Магнитогорске 11-месячным мальчиком вылетел в Москву, сообщили в аэропорту. \"Самолет сейчас взлетает из Магнитогорска. Прилетит в Москву через два часа\", - сказали \"Интерфаксу\" в службе аэропорта во вторник. Как сообщалось, его доставят в Центр неотложной детской хирургии и травматологии. Состояние мальчика оценивается как \"крайне тяжелое\": у него диагностированы \"серьезные обморожения конечностей, закрытая черепно-мозговая травма, множественные переломы голени, общее переохлаждение\".',\n",
       "          [Span(0, 6, 'LOC'),\n",
       "           Span(18, 29, 'ORG'),\n",
       "           Span(76, 89, 'LOC'),\n",
       "           Span(122, 128, 'LOC'),\n",
       "           Span(180, 193, 'LOC'),\n",
       "           Span(206, 212, 'LOC'),\n",
       "           Span(241, 251, 'ORG'),\n",
       "           Span(315, 364, 'ORG')])"
      ]
     },
     "metadata": {},
     "output_type": "display_data"
    },
    {
     "name": "stdout",
     "output_type": "stream",
     "text": [
      "[(0, 9, 'LOC'), (21, 32, 'ORG'), (45, 48, 'LOC'), (49, 62, 'PER'), (84, 99, 'PER'), (145, 153, 'LOC'), (167, 182, 'PER'), (233, 250, 'LOC'), (270, 275, 'PER'), (312, 320, 'LOC'), (352, 361, 'PER'), (444, 452, 'LOC'), (455, 465, 'LOC'), (498, 501, 'LOC'), (581, 589, 'LOC'), (592, 599, 'LOC'), (603, 613, 'LOC'), (616, 625, 'LOC'), (627, 630, 'ORG'), (686, 693, 'PER'), (748, 751, 'LOC'), (752, 763, 'PER')]\n"
     ]
    },
    {
     "data": {
      "text/html": [
       "<div class=\"tex2jax_ignore\" style=\"white-space: pre-wrap\"><span style=\"padding: 2px; border-radius: 4px; border: 1px solid #c8e6c9; background: #e8f5e9\">Вашингтон<span style=\"vertical-align: middle; margin-left: 2px; font-size: 0.7em; color: #66bb6a;\">LOC</span></span>. 1 января. <span style=\"padding: 2px; border-radius: 4px; border: 1px solid #ffcdd2; background: #ffebee\">INTERFAX.RU<span style=\"vertical-align: middle; margin-left: 2px; font-size: 0.7em; color: #e57373;\">ORG</span></span> - Президент <span style=\"padding: 2px; border-radius: 4px; border: 1px solid #c8e6c9; background: #e8f5e9\">США<span style=\"vertical-align: middle; margin-left: 2px; font-size: 0.7em; color: #66bb6a;\">LOC</span></span> <span style=\"padding: 2px; border-radius: 4px; border: 1px solid #bbdefb; background: #e3f2fd\">Дональд Трамп<span style=\"vertical-align: middle; margin-left: 2px; font-size: 0.7em; color: #64b5f6;\">PER</span></span> во вторник поздравил <span style=\"padding: 2px; border-radius: 4px; border: 1px solid #bbdefb; background: #e3f2fd\">Жаира Болсонару<span style=\"vertical-align: middle; margin-left: 2px; font-size: 0.7em; color: #64b5f6;\">PER</span></span> с официальным вступлением на пост президента <span style=\"padding: 2px; border-radius: 4px; border: 1px solid #c8e6c9; background: #e8f5e9\">Бразилии<span style=\"vertical-align: middle; margin-left: 2px; font-size: 0.7em; color: #66bb6a;\">LOC</span></span>. \"Поздравляю <span style=\"padding: 2px; border-radius: 4px; border: 1px solid #bbdefb; background: #e3f2fd\">Жаира Болсонару<span style=\"vertical-align: middle; margin-left: 2px; font-size: 0.7em; color: #64b5f6;\">PER</span></span>, который произнес прекрасную речь на инаугурации. <span style=\"padding: 2px; border-radius: 4px; border: 1px solid #c8e6c9; background: #e8f5e9\">Соединенные Штаты<span style=\"vertical-align: middle; margin-left: 2px; font-size: 0.7em; color: #66bb6a;\">LOC</span></span> с вами!\" - написал <span style=\"padding: 2px; border-radius: 4px; border: 1px solid #bbdefb; background: #e3f2fd\">Трамп<span style=\"vertical-align: middle; margin-left: 2px; font-size: 0.7em; color: #64b5f6;\">PER</span></span> в твиттере. Ранее сообщалось, что в <span style=\"padding: 2px; border-radius: 4px; border: 1px solid #c8e6c9; background: #e8f5e9\">Бразилии<span style=\"vertical-align: middle; margin-left: 2px; font-size: 0.7em; color: #66bb6a;\">LOC</span></span> проходит церемония инаугурации <span style=\"padding: 2px; border-radius: 4px; border: 1px solid #bbdefb; background: #e3f2fd\">Болсонару<span style=\"vertical-align: middle; margin-left: 2px; font-size: 0.7em; color: #64b5f6;\">PER</span></span>. Этот политик придерживается правых взглядов, он намерен укреплять сотрудничество <span style=\"padding: 2px; border-radius: 4px; border: 1px solid #c8e6c9; background: #e8f5e9\">Бразилии<span style=\"vertical-align: middle; margin-left: 2px; font-size: 0.7em; color: #66bb6a;\">LOC</span></span> и <span style=\"padding: 2px; border-radius: 4px; border: 1px solid #c8e6c9; background: #e8f5e9\">Вашингтона<span style=\"vertical-align: middle; margin-left: 2px; font-size: 0.7em; color: #66bb6a;\">LOC</span></span>. Он заявлял, что готов вслед за <span style=\"padding: 2px; border-radius: 4px; border: 1px solid #c8e6c9; background: #e8f5e9\">США<span style=\"vertical-align: middle; margin-left: 2px; font-size: 0.7em; color: #66bb6a;\">LOC</span></span> выйти из Парижского климатического соглашения и перенести диппредставительство <span style=\"padding: 2px; border-radius: 4px; border: 1px solid #c8e6c9; background: #e8f5e9\">Бразилии<span style=\"vertical-align: middle; margin-left: 2px; font-size: 0.7em; color: #66bb6a;\">LOC</span></span> в <span style=\"padding: 2px; border-radius: 4px; border: 1px solid #c8e6c9; background: #e8f5e9\">Израиле<span style=\"vertical-align: middle; margin-left: 2px; font-size: 0.7em; color: #66bb6a;\">LOC</span></span> из <span style=\"padding: 2px; border-radius: 4px; border: 1px solid #c8e6c9; background: #e8f5e9\">Тель-Авива<span style=\"vertical-align: middle; margin-left: 2px; font-size: 0.7em; color: #66bb6a;\">LOC</span></span> в <span style=\"padding: 2px; border-radius: 4px; border: 1px solid #c8e6c9; background: #e8f5e9\">Иерусалим<span style=\"vertical-align: middle; margin-left: 2px; font-size: 0.7em; color: #66bb6a;\">LOC</span></span>. <span style=\"padding: 2px; border-radius: 4px; border: 1px solid #ffcdd2; background: #ffebee\">СМИ<span style=\"vertical-align: middle; margin-left: 2px; font-size: 0.7em; color: #e57373;\">ORG</span></span> в период предвыборной гонки окрестили его \"бразильским <span style=\"padding: 2px; border-radius: 4px; border: 1px solid #bbdefb; background: #e3f2fd\">Трампом<span style=\"vertical-align: middle; margin-left: 2px; font-size: 0.7em; color: #64b5f6;\">PER</span></span>\". На церемонии инаугурации присутствовал госсекретарь <span style=\"padding: 2px; border-radius: 4px; border: 1px solid #c8e6c9; background: #e8f5e9\">США<span style=\"vertical-align: middle; margin-left: 2px; font-size: 0.7em; color: #66bb6a;\">LOC</span></span> <span style=\"padding: 2px; border-radius: 4px; border: 1px solid #bbdefb; background: #e3f2fd\">Майк Помпео<span style=\"vertical-align: middle; margin-left: 2px; font-size: 0.7em; color: #64b5f6;\">PER</span></span>.</div>"
      ],
      "text/plain": [
       "BoxMarkup('Вашингтон. 1 января. INTERFAX.RU - Президент США Дональд Трамп во вторник поздравил Жаира Болсонару с официальным вступлением на пост президента Бразилии. \"Поздравляю Жаира Болсонару, который произнес прекрасную речь на инаугурации. Соединенные Штаты с вами!\" - написал Трамп в твиттере. Ранее сообщалось, что в Бразилии проходит церемония инаугурации Болсонару. Этот политик придерживается правых взглядов, он намерен укреплять сотрудничество Бразилии и Вашингтона. Он заявлял, что готов вслед за США выйти из Парижского климатического соглашения и перенести диппредставительство Бразилии в Израиле из Тель-Авива в Иерусалим. СМИ в период предвыборной гонки окрестили его \"бразильским Трампом\". На церемонии инаугурации присутствовал госсекретарь США Майк Помпео.',\n",
       "          [Span(0, 9, 'LOC'),\n",
       "           Span(21, 32, 'ORG'),\n",
       "           Span(45, 48, 'LOC'),\n",
       "           Span(49, 62, 'PER'),\n",
       "           Span(84, 99, 'PER'),\n",
       "           Span(145, 153, 'LOC'),\n",
       "           Span(167, 182, 'PER'),\n",
       "           Span(233, 250, 'LOC'),\n",
       "           Span(270, 275, 'PER'),\n",
       "           Span(312, 320, 'LOC'),\n",
       "           Span(352, 361, 'PER'),\n",
       "           Span(444, 452, 'LOC'),\n",
       "           Span(455, 465, 'LOC'),\n",
       "           Span(498, 501, 'LOC'),\n",
       "           Span(581, 589, 'LOC'),\n",
       "           Span(592, 599, 'LOC'),\n",
       "           Span(603, 613, 'LOC'),\n",
       "           Span(616, 625, 'LOC'),\n",
       "           Span(627, 630, 'ORG'),\n",
       "           Span(686, 693, 'PER'),\n",
       "           Span(748, 751, 'LOC'),\n",
       "           Span(752, 763, 'PER')])"
      ]
     },
     "metadata": {},
     "output_type": "display_data"
    },
    {
     "name": "stdout",
     "output_type": "stream",
     "text": [
      "[(0, 6, 'LOC'), (18, 29, 'ORG'), (54, 64, 'ORG'), (107, 113, 'LOC'), (149, 152, 'LOC'), (153, 162, 'PER'), (205, 215, 'ORG'), (244, 247, 'ORG'), (266, 277, 'PER'), (339, 344, 'PER'), (553, 556, 'LOC'), (574, 577, 'LOC'), (592, 598, 'PER'), (609, 619, 'ORG'), (682, 688, 'LOC'), (717, 720, 'ORG'), (721, 727, 'LOC'), (740, 746, 'LOC'), (783, 786, 'LOC'), (787, 798, 'PER'), (801, 825, 'ORG'), (826, 829, 'ORG'), (830, 836, 'LOC'), (860, 863, 'LOC'), (907, 909, 'LOC'), (934, 944, 'ORG'), (962, 994, 'ORG'), (995, 998, 'ORG'), (999, 1005, 'LOC'), (1018, 1021, 'LOC'), (1024, 1026, 'LOC'), (1068, 1074, 'PER'), (1077, 1083, 'LOC'), (1119, 1129, 'ORG'), (1166, 1169, 'ORG'), (1170, 1172, 'LOC'), (1179, 1190, 'PER'), (1191, 1196, 'PER'), (1225, 1231, 'LOC')]\n"
     ]
    },
    {
     "data": {
      "text/html": [
       "<div class=\"tex2jax_ignore\" style=\"white-space: pre-wrap\"><span style=\"padding: 2px; border-radius: 4px; border: 1px solid #c8e6c9; background: #e8f5e9\">Москва<span style=\"vertical-align: middle; margin-left: 2px; font-size: 0.7em; color: #66bb6a;\">LOC</span></span>. 1 января. <span style=\"padding: 2px; border-radius: 4px; border: 1px solid #ffcdd2; background: #ffebee\">INTERFAX.RU<span style=\"vertical-align: middle; margin-left: 2px; font-size: 0.7em; color: #e57373;\">ORG</span></span> - Американская компания <span style=\"padding: 2px; border-radius: 4px; border: 1px solid #ffcdd2; background: #ffebee\">BorgWarner<span style=\"vertical-align: middle; margin-left: 2px; font-size: 0.7em; color: #e57373;\">ORG</span></span> во вторник подтвердила, что задержанный в <span style=\"padding: 2px; border-radius: 4px; border: 1px solid #c8e6c9; background: #e8f5e9\">России<span style=\"vertical-align: middle; margin-left: 2px; font-size: 0.7em; color: #66bb6a;\">LOC</span></span> по подозрению в шпионаже гражданин <span style=\"padding: 2px; border-radius: 4px; border: 1px solid #c8e6c9; background: #e8f5e9\">США<span style=\"vertical-align: middle; margin-left: 2px; font-size: 0.7em; color: #66bb6a;\">LOC</span></span> <span style=\"padding: 2px; border-radius: 4px; border: 1px solid #bbdefb; background: #e3f2fd\">Пол Уилан<span style=\"vertical-align: middle; margin-left: 2px; font-size: 0.7em; color: #64b5f6;\">PER</span></span>, является ее директором по безопасности. \"<span style=\"padding: 2px; border-radius: 4px; border: 1px solid #ffcdd2; background: #ffebee\">BorgWarner<span style=\"vertical-align: middle; margin-left: 2px; font-size: 0.7em; color: #e57373;\">ORG</span></span> узнала об аресте российской <span style=\"padding: 2px; border-radius: 4px; border: 1px solid #ffcdd2; background: #ffebee\">ФСБ<span style=\"vertical-align: middle; margin-left: 2px; font-size: 0.7em; color: #e57373;\">ORG</span></span> нашего сотрудника <span style=\"padding: 2px; border-radius: 4px; border: 1px solid #bbdefb; background: #e3f2fd\">Пола Уилана<span style=\"vertical-align: middle; margin-left: 2px; font-size: 0.7em; color: #64b5f6;\">PER</span></span> из новостных сообщений 31 декабря. Мы можем подтвердить, что <span style=\"padding: 2px; border-radius: 4px; border: 1px solid #bbdefb; background: #e3f2fd\">Уилан<span style=\"vertical-align: middle; margin-left: 2px; font-size: 0.7em; color: #64b5f6;\">PER</span></span> в настоящее время является директором по безопасности компании\", - говорится в заявлении, опубликованном на сайте компании. В нем отмечается, что компания поддерживает контакты с соответствующими госорганами <span style=\"padding: 2px; border-radius: 4px; border: 1px solid #c8e6c9; background: #e8f5e9\">США<span style=\"vertical-align: middle; margin-left: 2px; font-size: 0.7em; color: #66bb6a;\">LOC</span></span> и правительством <span style=\"padding: 2px; border-radius: 4px; border: 1px solid #c8e6c9; background: #e8f5e9\">США<span style=\"vertical-align: middle; margin-left: 2px; font-size: 0.7em; color: #66bb6a;\">LOC</span></span>, чтобы помочь <span style=\"padding: 2px; border-radius: 4px; border: 1px solid #bbdefb; background: #e3f2fd\">Уилану<span style=\"vertical-align: middle; margin-left: 2px; font-size: 0.7em; color: #64b5f6;\">PER</span></span>. Компания <span style=\"padding: 2px; border-radius: 4px; border: 1px solid #ffcdd2; background: #ffebee\">BorgWarner<span style=\"vertical-align: middle; margin-left: 2px; font-size: 0.7em; color: #e57373;\">ORG</span></span> производит детали для автомобилей. Эта компания не работает в <span style=\"padding: 2px; border-radius: 4px; border: 1px solid #c8e6c9; background: #e8f5e9\">России<span style=\"vertical-align: middle; margin-left: 2px; font-size: 0.7em; color: #66bb6a;\">LOC</span></span>. Как сообщалось, сотрудники <span style=\"padding: 2px; border-radius: 4px; border: 1px solid #ffcdd2; background: #ffebee\">ФСБ<span style=\"vertical-align: middle; margin-left: 2px; font-size: 0.7em; color: #e57373;\">ORG</span></span> <span style=\"padding: 2px; border-radius: 4px; border: 1px solid #c8e6c9; background: #e8f5e9\">России<span style=\"vertical-align: middle; margin-left: 2px; font-size: 0.7em; color: #66bb6a;\">LOC</span></span> задержали в <span style=\"padding: 2px; border-radius: 4px; border: 1px solid #c8e6c9; background: #e8f5e9\">Москве<span style=\"vertical-align: middle; margin-left: 2px; font-size: 0.7em; color: #66bb6a;\">LOC</span></span> по подозрению в шпионаже гражданина <span style=\"padding: 2px; border-radius: 4px; border: 1px solid #c8e6c9; background: #e8f5e9\">США<span style=\"vertical-align: middle; margin-left: 2px; font-size: 0.7em; color: #66bb6a;\">LOC</span></span> <span style=\"padding: 2px; border-radius: 4px; border: 1px solid #bbdefb; background: #e3f2fd\">Пола Уилана<span style=\"vertical-align: middle; margin-left: 2px; font-size: 0.7em; color: #64b5f6;\">PER</span></span>. \"<span style=\"padding: 2px; border-radius: 4px; border: 1px solid #ffcdd2; background: #ffebee\">Следственным управлением<span style=\"vertical-align: middle; margin-left: 2px; font-size: 0.7em; color: #e57373;\">ORG</span></span> <span style=\"padding: 2px; border-radius: 4px; border: 1px solid #ffcdd2; background: #ffebee\">ФСБ<span style=\"vertical-align: middle; margin-left: 2px; font-size: 0.7em; color: #e57373;\">ORG</span></span> <span style=\"padding: 2px; border-radius: 4px; border: 1px solid #c8e6c9; background: #e8f5e9\">России<span style=\"vertical-align: middle; margin-left: 2px; font-size: 0.7em; color: #66bb6a;\">LOC</span></span> в отношении гражданина <span style=\"padding: 2px; border-radius: 4px; border: 1px solid #c8e6c9; background: #e8f5e9\">США<span style=\"vertical-align: middle; margin-left: 2px; font-size: 0.7em; color: #66bb6a;\">LOC</span></span> возбуждено уголовное дело по статье 276 УК <span style=\"padding: 2px; border-radius: 4px; border: 1px solid #c8e6c9; background: #e8f5e9\">РФ<span style=\"vertical-align: middle; margin-left: 2px; font-size: 0.7em; color: #66bb6a;\">LOC</span></span> (шпионаж)\", - сообщили \"<span style=\"padding: 2px; border-radius: 4px; border: 1px solid #ffcdd2; background: #ffebee\">Интерфаксу<span style=\"vertical-align: middle; margin-left: 2px; font-size: 0.7em; color: #e57373;\">ORG</span></span>\" в понедельник в <span style=\"padding: 2px; border-radius: 4px; border: 1px solid #ffcdd2; background: #ffebee\">Центре общественных связей (ЦОС)<span style=\"vertical-align: middle; margin-left: 2px; font-size: 0.7em; color: #e57373;\">ORG</span></span> <span style=\"padding: 2px; border-radius: 4px; border: 1px solid #ffcdd2; background: #ffebee\">ФСБ<span style=\"vertical-align: middle; margin-left: 2px; font-size: 0.7em; color: #e57373;\">ORG</span></span> <span style=\"padding: 2px; border-radius: 4px; border: 1px solid #c8e6c9; background: #e8f5e9\">России<span style=\"vertical-align: middle; margin-left: 2px; font-size: 0.7em; color: #66bb6a;\">LOC</span></span>. Посольство <span style=\"padding: 2px; border-radius: 4px; border: 1px solid #c8e6c9; background: #e8f5e9\">США<span style=\"vertical-align: middle; margin-left: 2px; font-size: 0.7em; color: #66bb6a;\">LOC</span></span> в <span style=\"padding: 2px; border-radius: 4px; border: 1px solid #c8e6c9; background: #e8f5e9\">РФ<span style=\"vertical-align: middle; margin-left: 2px; font-size: 0.7em; color: #66bb6a;\">LOC</span></span> уведомили о задержании гражданина страны <span style=\"padding: 2px; border-radius: 4px; border: 1px solid #bbdefb; background: #e3f2fd\">Уилана<span style=\"vertical-align: middle; margin-left: 2px; font-size: 0.7em; color: #64b5f6;\">PER</span></span> в <span style=\"padding: 2px; border-radius: 4px; border: 1px solid #c8e6c9; background: #e8f5e9\">Москве<span style=\"vertical-align: middle; margin-left: 2px; font-size: 0.7em; color: #66bb6a;\">LOC</span></span> по подозрению в шпионаже, заявили \"<span style=\"padding: 2px; border-radius: 4px; border: 1px solid #ffcdd2; background: #ffebee\">Интерфаксу<span style=\"vertical-align: middle; margin-left: 2px; font-size: 0.7em; color: #e57373;\">ORG</span></span>\" в департаменте информации и печати <span style=\"padding: 2px; border-radius: 4px; border: 1px solid #ffcdd2; background: #ffebee\">МИД<span style=\"vertical-align: middle; margin-left: 2px; font-size: 0.7em; color: #e57373;\">ORG</span></span> <span style=\"padding: 2px; border-radius: 4px; border: 1px solid #c8e6c9; background: #e8f5e9\">РФ<span style=\"vertical-align: middle; margin-left: 2px; font-size: 0.7em; color: #66bb6a;\">LOC</span></span>. Брат <span style=\"padding: 2px; border-radius: 4px; border: 1px solid #bbdefb; background: #e3f2fd\">Пола Уилана<span style=\"vertical-align: middle; margin-left: 2px; font-size: 0.7em; color: #64b5f6;\">PER</span></span> <span style=\"padding: 2px; border-radius: 4px; border: 1px solid #bbdefb; background: #e3f2fd\">Дэвид<span style=\"vertical-align: middle; margin-left: 2px; font-size: 0.7em; color: #64b5f6;\">PER</span></span> утверждает, что он прибыл в <span style=\"padding: 2px; border-radius: 4px; border: 1px solid #c8e6c9; background: #e8f5e9\">Москву<span style=\"vertical-align: middle; margin-left: 2px; font-size: 0.7em; color: #66bb6a;\">LOC</span></span> по приглашению на свадьбу.</div>"
      ],
      "text/plain": [
       "BoxMarkup('Москва. 1 января. INTERFAX.RU - Американская компания BorgWarner во вторник подтвердила, что задержанный в России по подозрению в шпионаже гражданин США Пол Уилан, является ее директором по безопасности. \"BorgWarner узнала об аресте российской ФСБ нашего сотрудника Пола Уилана из новостных сообщений 31 декабря. Мы можем подтвердить, что Уилан в настоящее время является директором по безопасности компании\", - говорится в заявлении, опубликованном на сайте компании. В нем отмечается, что компания поддерживает контакты с соответствующими госорганами США и правительством США, чтобы помочь Уилану. Компания BorgWarner производит детали для автомобилей. Эта компания не работает в России. Как сообщалось, сотрудники ФСБ России задержали в Москве по подозрению в шпионаже гражданина США Пола Уилана. \"Следственным управлением ФСБ России в отношении гражданина США возбуждено уголовное дело по статье 276 УК РФ (шпионаж)\", - сообщили \"Интерфаксу\" в понедельник в Центре общественных связей (ЦОС) ФСБ России. Посольство США в РФ уведомили о задержании гражданина страны Уилана в Москве по подозрению в шпионаже, заявили \"Интерфаксу\" в департаменте информации и печати МИД РФ. Брат Пола Уилана Дэвид утверждает, что он прибыл в Москву по приглашению на свадьбу.',\n",
       "          [Span(0, 6, 'LOC'),\n",
       "           Span(18, 29, 'ORG'),\n",
       "           Span(54, 64, 'ORG'),\n",
       "           Span(107, 113, 'LOC'),\n",
       "           Span(149, 152, 'LOC'),\n",
       "           Span(153, 162, 'PER'),\n",
       "           Span(205, 215, 'ORG'),\n",
       "           Span(244, 247, 'ORG'),\n",
       "           Span(266, 277, 'PER'),\n",
       "           Span(339, 344, 'PER'),\n",
       "           Span(553, 556, 'LOC'),\n",
       "           Span(574, 577, 'LOC'),\n",
       "           Span(592, 598, 'PER'),\n",
       "           Span(609, 619, 'ORG'),\n",
       "           Span(682, 688, 'LOC'),\n",
       "           Span(717, 720, 'ORG'),\n",
       "           Span(721, 727, 'LOC'),\n",
       "           Span(740, 746, 'LOC'),\n",
       "           Span(783, 786, 'LOC'),\n",
       "           Span(787, 798, 'PER'),\n",
       "           Span(801, 825, 'ORG'),\n",
       "           Span(826, 829, 'ORG'),\n",
       "           Span(830, 836, 'LOC'),\n",
       "           Span(860, 863, 'LOC'),\n",
       "           Span(907, 909, 'LOC'),\n",
       "           Span(934, 944, 'ORG'),\n",
       "           Span(962, 994, 'ORG'),\n",
       "           Span(995, 998, 'ORG'),\n",
       "           Span(999, 1005, 'LOC'),\n",
       "           Span(1018, 1021, 'LOC'),\n",
       "           Span(1024, 1026, 'LOC'),\n",
       "           Span(1068, 1074, 'PER'),\n",
       "           Span(1077, 1083, 'LOC'),\n",
       "           Span(1119, 1129, 'ORG'),\n",
       "           Span(1166, 1169, 'ORG'),\n",
       "           Span(1170, 1172, 'LOC'),\n",
       "           Span(1179, 1190, 'PER'),\n",
       "           Span(1191, 1196, 'PER'),\n",
       "           Span(1225, 1231, 'LOC')])"
      ]
     },
     "metadata": {},
     "output_type": "display_data"
    },
    {
     "name": "stdout",
     "output_type": "stream",
     "text": [
      "[(0, 6, 'LOC'), (18, 29, 'ORG'), (38, 65, 'ORG'), (66, 85, 'PER'), (99, 111, 'LOC'), (212, 224, 'LOC'), (261, 263, 'ORG'), (264, 281, 'PER'), (311, 313, 'ORG'), (490, 492, 'ORG'), (505, 513, 'PER'), (526, 536, 'ORG'), (553, 562, 'PER'), (620, 633, 'LOC'), (844, 863, 'LOC'), (960, 962, 'ORG'), (1042, 1045, 'ORG'), (1048, 1051, 'ORG'), (1180, 1197, 'PER'), (1234, 1253, 'PER'), (1347, 1356, 'PER'), (1546, 1548, 'ORG')]\n"
     ]
    },
    {
     "data": {
      "text/html": [
       "<div class=\"tex2jax_ignore\" style=\"white-space: pre-wrap\"><span style=\"padding: 2px; border-radius: 4px; border: 1px solid #c8e6c9; background: #e8f5e9\">Москва<span style=\"vertical-align: middle; margin-left: 2px; font-size: 0.7em; color: #66bb6a;\">LOC</span></span>. 1 января. <span style=\"padding: 2px; border-radius: 4px; border: 1px solid #ffcdd2; background: #ffebee\">INTERFAX.RU<span style=\"vertical-align: middle; margin-left: 2px; font-size: 0.7em; color: #e57373;\">ORG</span></span> - Глава <span style=\"padding: 2px; border-radius: 4px; border: 1px solid #ffcdd2; background: #ffebee\">Следственного комитета (СК)<span style=\"vertical-align: middle; margin-left: 2px; font-size: 0.7em; color: #e57373;\">ORG</span></span> <span style=\"padding: 2px; border-radius: 4px; border: 1px solid #bbdefb; background: #e3f2fd\">Александр Бастрыкин<span style=\"vertical-align: middle; margin-left: 2px; font-size: 0.7em; color: #64b5f6;\">PER</span></span>, прибывший в <span style=\"padding: 2px; border-radius: 4px; border: 1px solid #c8e6c9; background: #e8f5e9\">Магнитогорск<span style=\"vertical-align: middle; margin-left: 2px; font-size: 0.7em; color: #66bb6a;\">LOC</span></span>, сформировал группу из 100 следователей для расследования причин обрушения подъезда в доме на улице <span style=\"padding: 2px; border-radius: 4px; border: 1px solid #c8e6c9; background: #e8f5e9\">Карла Маркса<span style=\"vertical-align: middle; margin-left: 2px; font-size: 0.7em; color: #66bb6a;\">LOC</span></span>, сообщила официальный представитель <span style=\"padding: 2px; border-radius: 4px; border: 1px solid #ffcdd2; background: #ffebee\">СК<span style=\"vertical-align: middle; margin-left: 2px; font-size: 0.7em; color: #e57373;\">ORG</span></span> <span style=\"padding: 2px; border-radius: 4px; border: 1px solid #bbdefb; background: #e3f2fd\">Светлана Петренко<span style=\"vertical-align: middle; margin-left: 2px; font-size: 0.7em; color: #64b5f6;\">PER</span></span>. \"Распоряжением председателя <span style=\"padding: 2px; border-radius: 4px; border: 1px solid #ffcdd2; background: #ffebee\">СК<span style=\"vertical-align: middle; margin-left: 2px; font-size: 0.7em; color: #e57373;\">ORG</span></span> сформирована и работает на месте происшествия усиленная следственная группа из числа более 100 следователей и криминалистов центрального аппарата и регионального подразделения <span style=\"padding: 2px; border-radius: 4px; border: 1px solid #ffcdd2; background: #ffebee\">СК<span style=\"vertical-align: middle; margin-left: 2px; font-size: 0.7em; color: #e57373;\">ORG</span></span>\", - сказала <span style=\"padding: 2px; border-radius: 4px; border: 1px solid #bbdefb; background: #e3f2fd\">Петренко<span style=\"vertical-align: middle; margin-left: 2px; font-size: 0.7em; color: #64b5f6;\">PER</span></span> во вторник \"<span style=\"padding: 2px; border-radius: 4px; border: 1px solid #ffcdd2; background: #ffebee\">Интерфаксу<span style=\"vertical-align: middle; margin-left: 2px; font-size: 0.7em; color: #e57373;\">ORG</span></span>\". По ее словам, <span style=\"padding: 2px; border-radius: 4px; border: 1px solid #bbdefb; background: #e3f2fd\">Бастрыкин<span style=\"vertical-align: middle; margin-left: 2px; font-size: 0.7em; color: #64b5f6;\">PER</span></span>, находясь непосредственно на месте происшествия в городе <span style=\"padding: 2px; border-radius: 4px; border: 1px solid #c8e6c9; background: #e8f5e9\">Магнитогорске<span style=\"vertical-align: middle; margin-left: 2px; font-size: 0.7em; color: #66bb6a;\">LOC</span></span>, заслушал доклад следственной группы, а также провел совещание с членами оперативного штаба по ЧС. \"В рамках одного из совещаний глава ведомства совместно с оперативным штабом по ЧС, возглавляемым губернатором <span style=\"padding: 2px; border-radius: 4px; border: 1px solid #c8e6c9; background: #e8f5e9\">Челябинской области<span style=\"vertical-align: middle; margin-left: 2px; font-size: 0.7em; color: #66bb6a;\">LOC</span></span>, выслушал имеющиеся у них данные, связанные с произошедшей трагедией. В дальнейшем председатель <span style=\"padding: 2px; border-radius: 4px; border: 1px solid #ffcdd2; background: #ffebee\">СК<span style=\"vertical-align: middle; margin-left: 2px; font-size: 0.7em; color: #e57373;\">ORG</span></span> провел отдельное совещание со следственной группой и оперативными сотрудниками <span style=\"padding: 2px; border-radius: 4px; border: 1px solid #ffcdd2; background: #ffebee\">МВД<span style=\"vertical-align: middle; margin-left: 2px; font-size: 0.7em; color: #e57373;\">ORG</span></span> и <span style=\"padding: 2px; border-radius: 4px; border: 1px solid #ffcdd2; background: #ffebee\">ФСБ<span style=\"vertical-align: middle; margin-left: 2px; font-size: 0.7em; color: #e57373;\">ORG</span></span>, на котором поручил оказать оперативное сопровождение следователям по отработке всех возможных версий произошедшего\", - сказала <span style=\"padding: 2px; border-radius: 4px; border: 1px solid #bbdefb; background: #e3f2fd\">Светлана Петренко<span style=\"vertical-align: middle; margin-left: 2px; font-size: 0.7em; color: #64b5f6;\">PER</span></span>. Кроме того, отметила она, отдельно <span style=\"padding: 2px; border-radius: 4px; border: 1px solid #bbdefb; background: #e3f2fd\">Александр Бастрыкин<span style=\"vertical-align: middle; margin-left: 2px; font-size: 0.7em; color: #64b5f6;\">PER</span></span> провел совещание со следственной группой, на котором был определен ее окончательный состав. \"<span style=\"padding: 2px; border-radius: 4px; border: 1px solid #bbdefb; background: #e3f2fd\">Бастрыкин<span style=\"vertical-align: middle; margin-left: 2px; font-size: 0.7em; color: #64b5f6;\">PER</span></span> заслушал результаты первоначальных следственных действий и дал ряд конкретных поручений, обсужден и скорректирован план дальнейшего расследования уголовного дела\", - добавила представитель <span style=\"padding: 2px; border-radius: 4px; border: 1px solid #ffcdd2; background: #ffebee\">СК<span style=\"vertical-align: middle; margin-left: 2px; font-size: 0.7em; color: #e57373;\">ORG</span></span>.</div>"
      ],
      "text/plain": [
       "BoxMarkup('Москва. 1 января. INTERFAX.RU - Глава Следственного комитета (СК) Александр Бастрыкин, прибывший в Магнитогорск, сформировал группу из 100 следователей для расследования причин обрушения подъезда в доме на улице Карла Маркса, сообщила официальный представитель СК Светлана Петренко. \"Распоряжением председателя СК сформирована и работает на месте происшествия усиленная следственная группа из числа более 100 следователей и криминалистов центрального аппарата и регионального подразделения СК\", - сказала Петренко во вторник \"Интерфаксу\". По ее словам, Бастрыкин, находясь непосредственно на месте происшествия в городе Магнитогорске, заслушал доклад следственной группы, а также провел совещание с членами оперативного штаба по ЧС. \"В рамках одного из совещаний глава ведомства совместно с оперативным штабом по ЧС, возглавляемым губернатором Челябинской области, выслушал имеющиеся у них данные, связанные с произошедшей трагедией. В дальнейшем председатель СК провел отдельное совещание со следственной группой и оперативными сотрудниками МВД и ФСБ, на котором поручил оказать оперативное сопровождение следователям по отработке всех возможных версий произошедшего\", - сказала Светлана Петренко. Кроме того, отметила она, отдельно Александр Бастрыкин провел совещание со следственной группой, на котором был определен ее окончательный состав. \"Бастрыкин заслушал результаты первоначальных следственных действий и дал ряд конкретных поручений, обсужден и скорректирован план дальнейшего расследования уголовного дела\", - добавила представитель СК.',\n",
       "          [Span(0, 6, 'LOC'),\n",
       "           Span(18, 29, 'ORG'),\n",
       "           Span(38, 65, 'ORG'),\n",
       "           Span(66, 85, 'PER'),\n",
       "           Span(99, 111, 'LOC'),\n",
       "           Span(212, 224, 'LOC'),\n",
       "           Span(261, 263, 'ORG'),\n",
       "           Span(264, 281, 'PER'),\n",
       "           Span(311, 313, 'ORG'),\n",
       "           Span(490, 492, 'ORG'),\n",
       "           Span(505, 513, 'PER'),\n",
       "           Span(526, 536, 'ORG'),\n",
       "           Span(553, 562, 'PER'),\n",
       "           Span(620, 633, 'LOC'),\n",
       "           Span(844, 863, 'LOC'),\n",
       "           Span(960, 962, 'ORG'),\n",
       "           Span(1042, 1045, 'ORG'),\n",
       "           Span(1048, 1051, 'ORG'),\n",
       "           Span(1180, 1197, 'PER'),\n",
       "           Span(1234, 1253, 'PER'),\n",
       "           Span(1347, 1356, 'PER'),\n",
       "           Span(1546, 1548, 'ORG')])"
      ]
     },
     "metadata": {},
     "output_type": "display_data"
    },
    {
     "name": "stdout",
     "output_type": "stream",
     "text": [
      "[(0, 6, 'LOC'), (18, 29, 'ORG'), (32, 39, 'LOC'), (84, 103, 'ORG'), (104, 107, 'ORG'), (172, 189, 'PER'), (252, 259, 'LOC'), (333, 339, 'ORG'), (391, 410, 'ORG'), (411, 414, 'ORG'), (570, 580, 'PER'), (598, 605, 'LOC'), (849, 852, 'ORG'), (884, 913, 'ORG'), (966, 973, 'LOC')]\n"
     ]
    },
    {
     "data": {
      "text/html": [
       "<div class=\"tex2jax_ignore\" style=\"white-space: pre-wrap\"><span style=\"padding: 2px; border-radius: 4px; border: 1px solid #c8e6c9; background: #e8f5e9\">Москва<span style=\"vertical-align: middle; margin-left: 2px; font-size: 0.7em; color: #66bb6a;\">LOC</span></span>. 1 января. <span style=\"padding: 2px; border-radius: 4px; border: 1px solid #ffcdd2; background: #ffebee\">INTERFAX.RU<span style=\"vertical-align: middle; margin-left: 2px; font-size: 0.7em; color: #e57373;\">ORG</span></span> - <span style=\"padding: 2px; border-radius: 4px; border: 1px solid #c8e6c9; background: #e8f5e9\">Армения<span style=\"vertical-align: middle; margin-left: 2px; font-size: 0.7em; color: #66bb6a;\">LOC</span></span> выдвинет свою кандидатуру на роль участника <span style=\"padding: 2px; border-radius: 4px; border: 1px solid #ffcdd2; background: #ffebee\">Совета Безопасности<span style=\"vertical-align: middle; margin-left: 2px; font-size: 0.7em; color: #e57373;\">ORG</span></span> <span style=\"padding: 2px; border-radius: 4px; border: 1px solid #ffcdd2; background: #ffebee\">ООН<span style=\"vertical-align: middle; margin-left: 2px; font-size: 0.7em; color: #e57373;\">ORG</span></span>, заявил исполняющий обязанности министра иностранных дел страны <span style=\"padding: 2px; border-radius: 4px; border: 1px solid #bbdefb; background: #e3f2fd\">Зограб Мнацаканян<span style=\"vertical-align: middle; margin-left: 2px; font-size: 0.7em; color: #64b5f6;\">PER</span></span> в передаче \"В реальности сегодня\" на общественном телевидении <span style=\"padding: 2px; border-radius: 4px; border: 1px solid #c8e6c9; background: #e8f5e9\">Армении<span style=\"vertical-align: middle; margin-left: 2px; font-size: 0.7em; color: #66bb6a;\">LOC</span></span>. \"Наша республика является одной из кандидатов в вопросе членства в этом <span style=\"padding: 2px; border-radius: 4px; border: 1px solid #ffcdd2; background: #ffebee\">Совете<span style=\"vertical-align: middle; margin-left: 2px; font-size: 0.7em; color: #e57373;\">ORG</span></span>. Мы также выдвигаем свою кандидатуру на членство в <span style=\"padding: 2px; border-radius: 4px; border: 1px solid #ffcdd2; background: #ffebee\">Совете Безопасности<span style=\"vertical-align: middle; margin-left: 2px; font-size: 0.7em; color: #e57373;\">ORG</span></span> <span style=\"padding: 2px; border-radius: 4px; border: 1px solid #ffcdd2; background: #ffebee\">ООН<span style=\"vertical-align: middle; margin-left: 2px; font-size: 0.7em; color: #e57373;\">ORG</span></span>, но на более поздний срок. Для нас это сейчас ответственный момент, выборы пройдут в октябре, и мы будем очень активно продвигать нашу кампанию\", - заявил <span style=\"padding: 2px; border-radius: 4px; border: 1px solid #bbdefb; background: #e3f2fd\">Мнацаканян<span style=\"vertical-align: middle; margin-left: 2px; font-size: 0.7em; color: #64b5f6;\">PER</span></span>. Он отметил, что <span style=\"padding: 2px; border-radius: 4px; border: 1px solid #c8e6c9; background: #e8f5e9\">Армения<span style=\"vertical-align: middle; margin-left: 2px; font-size: 0.7em; color: #66bb6a;\">LOC</span></span> находится в восточноевропейской группе, где есть два места и три страны, одной из которых и является эта страна. \"Наша сегодняшняя внутренняя повестка дня только помогает нам быть более конкурентоспособными в этой гонке\", - отметил и.о. главы <span style=\"padding: 2px; border-radius: 4px; border: 1px solid #ffcdd2; background: #ffebee\">МИД<span style=\"vertical-align: middle; margin-left: 2px; font-size: 0.7em; color: #e57373;\">ORG</span></span>. Он подчеркнул, что членство в <span style=\"padding: 2px; border-radius: 4px; border: 1px solid #ffcdd2; background: #ffebee\">Совете ООН по правам человека<span style=\"vertical-align: middle; margin-left: 2px; font-size: 0.7em; color: #e57373;\">ORG</span></span> является одной из постоянных задач внешней политики <span style=\"padding: 2px; border-radius: 4px; border: 1px solid #c8e6c9; background: #e8f5e9\">Армении<span style=\"vertical-align: middle; margin-left: 2px; font-size: 0.7em; color: #66bb6a;\">LOC</span></span>.</div>"
      ],
      "text/plain": [
       "BoxMarkup('Москва. 1 января. INTERFAX.RU - Армения выдвинет свою кандидатуру на роль участника Совета Безопасности ООН, заявил исполняющий обязанности министра иностранных дел страны Зограб Мнацаканян в передаче \"В реальности сегодня\" на общественном телевидении Армении. \"Наша республика является одной из кандидатов в вопросе членства в этом Совете. Мы также выдвигаем свою кандидатуру на членство в Совете Безопасности ООН, но на более поздний срок. Для нас это сейчас ответственный момент, выборы пройдут в октябре, и мы будем очень активно продвигать нашу кампанию\", - заявил Мнацаканян. Он отметил, что Армения находится в восточноевропейской группе, где есть два места и три страны, одной из которых и является эта страна. \"Наша сегодняшняя внутренняя повестка дня только помогает нам быть более конкурентоспособными в этой гонке\", - отметил и.о. главы МИД. Он подчеркнул, что членство в Совете ООН по правам человека является одной из постоянных задач внешней политики Армении.',\n",
       "          [Span(0, 6, 'LOC'),\n",
       "           Span(18, 29, 'ORG'),\n",
       "           Span(32, 39, 'LOC'),\n",
       "           Span(84, 103, 'ORG'),\n",
       "           Span(104, 107, 'ORG'),\n",
       "           Span(172, 189, 'PER'),\n",
       "           Span(252, 259, 'LOC'),\n",
       "           Span(333, 339, 'ORG'),\n",
       "           Span(391, 410, 'ORG'),\n",
       "           Span(411, 414, 'ORG'),\n",
       "           Span(570, 580, 'PER'),\n",
       "           Span(598, 605, 'LOC'),\n",
       "           Span(849, 852, 'ORG'),\n",
       "           Span(884, 913, 'ORG'),\n",
       "           Span(966, 973, 'LOC')])"
      ]
     },
     "metadata": {},
     "output_type": "display_data"
    },
    {
     "name": "stdout",
     "output_type": "stream",
     "text": [
      "[(0, 9, 'LOC'), (21, 32, 'ORG'), (80, 93, 'LOC'), (112, 131, 'LOC'), (179, 188, 'ORG'), (253, 259, 'LOC'), (542, 548, 'LOC'), (585, 604, 'LOC'), (608, 626, 'LOC'), (658, 664, 'LOC'), (764, 773, 'ORG'), (811, 827, 'PER'), (831, 844, 'LOC'), (1013, 1025, 'LOC'), (1042, 1045, 'ORG'), (1364, 1366, 'LOC')]\n"
     ]
    },
    {
     "data": {
      "text/html": [
       "<div class=\"tex2jax_ignore\" style=\"white-space: pre-wrap\"><span style=\"padding: 2px; border-radius: 4px; border: 1px solid #c8e6c9; background: #e8f5e9\">Челябинск<span style=\"vertical-align: middle; margin-left: 2px; font-size: 0.7em; color: #66bb6a;\">LOC</span></span>. 1 января. <span style=\"padding: 2px; border-radius: 4px; border: 1px solid #ffcdd2; background: #ffebee\">INTERFAX.RU<span style=\"vertical-align: middle; margin-left: 2px; font-size: 0.7em; color: #e57373;\">ORG</span></span> - Траур по погибшим при обрушении части дома в <span style=\"padding: 2px; border-radius: 4px; border: 1px solid #c8e6c9; background: #e8f5e9\">Магнитогорске<span style=\"vertical-align: middle; margin-left: 2px; font-size: 0.7em; color: #66bb6a;\">LOC</span></span> начался в среду в <span style=\"padding: 2px; border-radius: 4px; border: 1px solid #c8e6c9; background: #e8f5e9\">Челябинской области<span style=\"vertical-align: middle; margin-left: 2px; font-size: 0.7em; color: #66bb6a;\">LOC</span></span> (22:00 мск), передает корреспондент агентства \"<span style=\"padding: 2px; border-radius: 4px; border: 1px solid #ffcdd2; background: #ffebee\">Интерфакс<span style=\"vertical-align: middle; margin-left: 2px; font-size: 0.7em; color: #e57373;\">ORG</span></span>\". На административных зданиях приспустили государственные флаги <span style=\"padding: 2px; border-radius: 4px; border: 1px solid #c8e6c9; background: #e8f5e9\">России<span style=\"vertical-align: middle; margin-left: 2px; font-size: 0.7em; color: #66bb6a;\">LOC</span></span>, рекомендовано отменить развлекательные программы на местном телевидении, а также развлекательные мероприятия. Рядом с домом, под обломками которого, вероятно, еще остаются люди, горожане создали стихийный мемориал из свечей, цветов и игрушек. Также народный мемориал образовался в <span style=\"padding: 2px; border-radius: 4px; border: 1px solid #c8e6c9; background: #e8f5e9\">Москве<span style=\"vertical-align: middle; margin-left: 2px; font-size: 0.7em; color: #66bb6a;\">LOC</span></span> возле постоянного представительства <span style=\"padding: 2px; border-radius: 4px; border: 1px solid #c8e6c9; background: #e8f5e9\">Челябинской области<span style=\"vertical-align: middle; margin-left: 2px; font-size: 0.7em; color: #66bb6a;\">LOC</span></span> на <span style=\"padding: 2px; border-radius: 4px; border: 1px solid #c8e6c9; background: #e8f5e9\">Славянской площади<span style=\"vertical-align: middle; margin-left: 2px; font-size: 0.7em; color: #66bb6a;\">LOC</span></span>. \"К нашему представительству в <span style=\"padding: 2px; border-radius: 4px; border: 1px solid #c8e6c9; background: #e8f5e9\">Москве<span style=\"vertical-align: middle; margin-left: 2px; font-size: 0.7em; color: #66bb6a;\">LOC</span></span> в память о погибших магнитогорцах люди приносят цветы, их уже довольно много\", - сказал агентству \"<span style=\"padding: 2px; border-radius: 4px; border: 1px solid #ffcdd2; background: #ffebee\">Интерфакс<span style=\"vertical-align: middle; margin-left: 2px; font-size: 0.7em; color: #e57373;\">ORG</span></span>\" пресс-секретарь губернатора области <span style=\"padding: 2px; border-radius: 4px; border: 1px solid #bbdefb; background: #e3f2fd\">Дмитрий Федечкин<span style=\"vertical-align: middle; margin-left: 2px; font-size: 0.7em; color: #64b5f6;\">PER</span></span>. В <span style=\"padding: 2px; border-radius: 4px; border: 1px solid #c8e6c9; background: #e8f5e9\">Магнитогорске<span style=\"vertical-align: middle; margin-left: 2px; font-size: 0.7em; color: #66bb6a;\">LOC</span></span> в понедельник утром произошло обрушение одного из подъездов газифицированного панельного 10-этажного 12-подъездного жилого дома (1973 год постройки) по адресу проспект <span style=\"padding: 2px; border-radius: 4px; border: 1px solid #c8e6c9; background: #e8f5e9\">Карла Маркса<span style=\"vertical-align: middle; margin-left: 2px; font-size: 0.7em; color: #66bb6a;\">LOC</span></span>, 164. По данным <span style=\"padding: 2px; border-radius: 4px; border: 1px solid #ffcdd2; background: #ffebee\">МЧС<span style=\"vertical-align: middle; margin-left: 2px; font-size: 0.7em; color: #e57373;\">ORG</span></span>, с момента начала поисково-спасательной операции из-под завалов извлечено 15 человек, из них 9 человек погибли (детей нет), 6 - спасены (в том числе 2 ребёнка), остается неизвестной судьба 32 человек. По данному факту возбуждено уголовное дело о причинении смерти по неосторожности двум и более лицам (ч. 3 ст. 109 УК <span style=\"padding: 2px; border-radius: 4px; border: 1px solid #c8e6c9; background: #e8f5e9\">РФ<span style=\"vertical-align: middle; margin-left: 2px; font-size: 0.7em; color: #66bb6a;\">LOC</span></span>).</div>"
      ],
      "text/plain": [
       "BoxMarkup('Челябинск. 1 января. INTERFAX.RU - Траур по погибшим при обрушении части дома в Магнитогорске начался в среду в Челябинской области (22:00 мск), передает корреспондент агентства \"Интерфакс\". На административных зданиях приспустили государственные флаги России, рекомендовано отменить развлекательные программы на местном телевидении, а также развлекательные мероприятия. Рядом с домом, под обломками которого, вероятно, еще остаются люди, горожане создали стихийный мемориал из свечей, цветов и игрушек. Также народный мемориал образовался в Москве возле постоянного представительства Челябинской области на Славянской площади. \"К нашему представительству в Москве в память о погибших магнитогорцах люди приносят цветы, их уже довольно много\", - сказал агентству \"Интерфакс\" пресс-секретарь губернатора области Дмитрий Федечкин. В Магнитогорске в понедельник утром произошло обрушение одного из подъездов газифицированного панельного 10-этажного 12-подъездного жилого дома (1973 год постройки) по адресу проспект Карла Маркса, 164. По данным МЧС, с момента начала поисково-спасательной операции из-под завалов извлечено 15 человек, из них 9 человек погибли (детей нет), 6 - спасены (в том числе 2 ребёнка), остается неизвестной судьба 32 человек. По данному факту возбуждено уголовное дело о причинении смерти по неосторожности двум и более лицам (ч. 3 ст. 109 УК РФ).',\n",
       "          [Span(0, 9, 'LOC'),\n",
       "           Span(21, 32, 'ORG'),\n",
       "           Span(80, 93, 'LOC'),\n",
       "           Span(112, 131, 'LOC'),\n",
       "           Span(179, 188, 'ORG'),\n",
       "           Span(253, 259, 'LOC'),\n",
       "           Span(542, 548, 'LOC'),\n",
       "           Span(585, 604, 'LOC'),\n",
       "           Span(608, 626, 'LOC'),\n",
       "           Span(658, 664, 'LOC'),\n",
       "           Span(764, 773, 'ORG'),\n",
       "           Span(811, 827, 'PER'),\n",
       "           Span(831, 844, 'LOC'),\n",
       "           Span(1013, 1025, 'LOC'),\n",
       "           Span(1042, 1045, 'ORG'),\n",
       "           Span(1364, 1366, 'LOC')])"
      ]
     },
     "metadata": {},
     "output_type": "display_data"
    },
    {
     "name": "stdout",
     "output_type": "stream",
     "text": [
      "[(0, 6, 'LOC'), (18, 29, 'ORG'), (86, 99, 'LOC'), (120, 126, 'LOC'), (197, 216, 'PER'), (229, 233, 'ORG'), (346, 359, 'LOC'), (374, 384, 'ORG'), (401, 410, 'ORG'), (411, 413, 'LOC'), (453, 466, 'LOC'), (507, 518, 'ORG'), (576, 623, 'ORG')]\n"
     ]
    },
    {
     "data": {
      "text/html": [
       "<div class=\"tex2jax_ignore\" style=\"white-space: pre-wrap\"><span style=\"padding: 2px; border-radius: 4px; border: 1px solid #c8e6c9; background: #e8f5e9\">Москва<span style=\"vertical-align: middle; margin-left: 2px; font-size: 0.7em; color: #66bb6a;\">LOC</span></span>. 1 января. <span style=\"padding: 2px; border-radius: 4px; border: 1px solid #ffcdd2; background: #ffebee\">INTERFAX.RU<span style=\"vertical-align: middle; margin-left: 2px; font-size: 0.7em; color: #e57373;\">ORG</span></span> - Найденный под завалами пострадавшего от взрыва дома в <span style=\"padding: 2px; border-radius: 4px; border: 1px solid #c8e6c9; background: #e8f5e9\">Магнитогорске<span style=\"vertical-align: middle; margin-left: 2px; font-size: 0.7em; color: #66bb6a;\">LOC</span></span> ребёнок доставлен в <span style=\"padding: 2px; border-radius: 4px; border: 1px solid #c8e6c9; background: #e8f5e9\">Москву<span style=\"vertical-align: middle; margin-left: 2px; font-size: 0.7em; color: #66bb6a;\">LOC</span></span> в стабильно тяжёлом состоянии. \"По поручению Министра здравоохранения <span style=\"padding: 2px; border-radius: 4px; border: 1px solid #bbdefb; background: #e3f2fd\">Вероники Скворцовой<span style=\"vertical-align: middle; margin-left: 2px; font-size: 0.7em; color: #64b5f6;\">PER</span></span> специалисты <span style=\"padding: 2px; border-radius: 4px; border: 1px solid #ffcdd2; background: #ffebee\">ФМБА<span style=\"vertical-align: middle; margin-left: 2px; font-size: 0.7em; color: #e57373;\">ORG</span></span>, ведущие детские реаниматологи, хирурги обеспечивают эвакуацию мальчика, спасенного сегодня под завалами дома в <span style=\"padding: 2px; border-radius: 4px; border: 1px solid #c8e6c9; background: #e8f5e9\">Магнитогорске<span style=\"vertical-align: middle; margin-left: 2px; font-size: 0.7em; color: #66bb6a;\">LOC</span></span>\", - сообщили \"<span style=\"padding: 2px; border-radius: 4px; border: 1px solid #ffcdd2; background: #ffebee\">Интерфаксу<span style=\"vertical-align: middle; margin-left: 2px; font-size: 0.7em; color: #e57373;\">ORG</span></span>\" в пресс-службе <span style=\"padding: 2px; border-radius: 4px; border: 1px solid #ffcdd2; background: #ffebee\">Минздрава<span style=\"vertical-align: middle; margin-left: 2px; font-size: 0.7em; color: #e57373;\">ORG</span></span> <span style=\"padding: 2px; border-radius: 4px; border: 1px solid #c8e6c9; background: #e8f5e9\">РФ<span style=\"vertical-align: middle; margin-left: 2px; font-size: 0.7em; color: #66bb6a;\">LOC</span></span> Специальный борт с раненым ребенком из <span style=\"padding: 2px; border-radius: 4px; border: 1px solid #c8e6c9; background: #e8f5e9\">Магнитогорска<span style=\"vertical-align: middle; margin-left: 2px; font-size: 0.7em; color: #66bb6a;\">LOC</span></span> совершил посадку в московском аэропорту <span style=\"padding: 2px; border-radius: 4px; border: 1px solid #ffcdd2; background: #ffebee\">Шереметьево<span style=\"vertical-align: middle; margin-left: 2px; font-size: 0.7em; color: #e57373;\">ORG</span></span>, добавили там. \"Сразу же по прибытию мальчика доставят в <span style=\"padding: 2px; border-radius: 4px; border: 1px solid #ffcdd2; background: #ffebee\">НИИ неотложной детской хирургии и травматологии<span style=\"vertical-align: middle; margin-left: 2px; font-size: 0.7em; color: #e57373;\">ORG</span></span>. Состояние ребенка стабильно тяжелое\",- заявили в ведомстве.</div>"
      ],
      "text/plain": [
       "BoxMarkup('Москва. 1 января. INTERFAX.RU - Найденный под завалами пострадавшего от взрыва дома в Магнитогорске ребёнок доставлен в Москву в стабильно тяжёлом состоянии. \"По поручению Министра здравоохранения Вероники Скворцовой специалисты ФМБА, ведущие детские реаниматологи, хирурги обеспечивают эвакуацию мальчика, спасенного сегодня под завалами дома в Магнитогорске\", - сообщили \"Интерфаксу\" в пресс-службе Минздрава РФ Специальный борт с раненым ребенком из Магнитогорска совершил посадку в московском аэропорту Шереметьево, добавили там. \"Сразу же по прибытию мальчика доставят в НИИ неотложной детской хирургии и травматологии. Состояние ребенка стабильно тяжелое\",- заявили в ведомстве.',\n",
       "          [Span(0, 6, 'LOC'),\n",
       "           Span(18, 29, 'ORG'),\n",
       "           Span(86, 99, 'LOC'),\n",
       "           Span(120, 126, 'LOC'),\n",
       "           Span(197, 216, 'PER'),\n",
       "           Span(229, 233, 'ORG'),\n",
       "           Span(346, 359, 'LOC'),\n",
       "           Span(374, 384, 'ORG'),\n",
       "           Span(401, 410, 'ORG'),\n",
       "           Span(411, 413, 'LOC'),\n",
       "           Span(453, 466, 'LOC'),\n",
       "           Span(507, 518, 'ORG'),\n",
       "           Span(576, 623, 'ORG')])"
      ]
     },
     "metadata": {},
     "output_type": "display_data"
    },
    {
     "name": "stdout",
     "output_type": "stream",
     "text": [
      "[(0, 6, 'LOC'), (18, 29, 'ORG'), (96, 99, 'ORG'), (100, 151, 'ORG'), (175, 206, 'ORG'), (207, 216, 'ORG'), (482, 492, 'ORG'), (550, 560, 'ORG'), (613, 630, 'LOC'), (631, 672, 'ORG')]\n"
     ]
    },
    {
     "data": {
      "text/html": [
       "<div class=\"tex2jax_ignore\" style=\"white-space: pre-wrap\"><span style=\"padding: 2px; border-radius: 4px; border: 1px solid #c8e6c9; background: #e8f5e9\">Москва<span style=\"vertical-align: middle; margin-left: 2px; font-size: 0.7em; color: #66bb6a;\">LOC</span></span>. 1 января. <span style=\"padding: 2px; border-radius: 4px; border: 1px solid #ffcdd2; background: #ffebee\">INTERFAX.RU<span style=\"vertical-align: middle; margin-left: 2px; font-size: 0.7em; color: #e57373;\">ORG</span></span> - Турбогенератор ТГ-3 мощностью 12 МВт был отключен во вторник на <span style=\"padding: 2px; border-radius: 4px; border: 1px solid #ffcdd2; background: #ffebee\">ТЭЦ<span style=\"vertical-align: middle; margin-left: 2px; font-size: 0.7em; color: #e57373;\">ORG</span></span> <span style=\"padding: 2px; border-radius: 4px; border: 1px solid #ffcdd2; background: #ffebee\">ПАО \"Новолипецкий металлургический комплекс\" (НЛМК)<span style=\"vertical-align: middle; margin-left: 2px; font-size: 0.7em; color: #e57373;\">ORG</span></span> из-за пожара, сообщает <span style=\"padding: 2px; border-radius: 4px; border: 1px solid #ffcdd2; background: #ffebee\">Ситуационно-аналитический центр<span style=\"vertical-align: middle; margin-left: 2px; font-size: 0.7em; color: #e57373;\">ORG</span></span> <span style=\"padding: 2px; border-radius: 4px; border: 1px solid #ffcdd2; background: #ffebee\">Минэнерго<span style=\"vertical-align: middle; margin-left: 2px; font-size: 0.7em; color: #e57373;\">ORG</span></span>. В 20:18 мск произошло возгорание масла на подшипнике из-за попадание масла на паропровод. Персонал после отключения генератора своими силами потушил возгорание к 20:30. Последствий для потребителей не было, никто из людей в результате возгорания не пострадал. ТЭЦ <span style=\"padding: 2px; border-radius: 4px; border: 1px solid #ffcdd2; background: #ffebee\">ПАО \"НЛМК\"<span style=\"vertical-align: middle; margin-left: 2px; font-size: 0.7em; color: #e57373;\">ORG</span></span> (332 МВт, 440 Гкал/час) - производственное подразделение <span style=\"padding: 2px; border-radius: 4px; border: 1px solid #ffcdd2; background: #ffebee\">ПАО \"НЛМК\"<span style=\"vertical-align: middle; margin-left: 2px; font-size: 0.7em; color: #e57373;\">ORG</span></span>. Введена в эксплуатацию в 1934 году. Расположена на <span style=\"padding: 2px; border-radius: 4px; border: 1px solid #c8e6c9; background: #e8f5e9\">Липецкой площадке<span style=\"vertical-align: middle; margin-left: 2px; font-size: 0.7em; color: #66bb6a;\">LOC</span></span> <span style=\"padding: 2px; border-radius: 4px; border: 1px solid #ffcdd2; background: #ffebee\">Новолипецкого металлургического комбината<span style=\"vertical-align: middle; margin-left: 2px; font-size: 0.7em; color: #e57373;\">ORG</span></span></div>"
      ],
      "text/plain": [
       "BoxMarkup('Москва. 1 января. INTERFAX.RU - Турбогенератор ТГ-3 мощностью 12 МВт был отключен во вторник на ТЭЦ ПАО \"Новолипецкий металлургический комплекс\" (НЛМК) из-за пожара, сообщает Ситуационно-аналитический центр Минэнерго. В 20:18 мск произошло возгорание масла на подшипнике из-за попадание масла на паропровод. Персонал после отключения генератора своими силами потушил возгорание к 20:30. Последствий для потребителей не было, никто из людей в результате возгорания не пострадал. ТЭЦ ПАО \"НЛМК\" (332 МВт, 440 Гкал/час) - производственное подразделение ПАО \"НЛМК\". Введена в эксплуатацию в 1934 году. Расположена на Липецкой площадке Новолипецкого металлургического комбината',\n",
       "          [Span(0, 6, 'LOC'),\n",
       "           Span(18, 29, 'ORG'),\n",
       "           Span(96, 99, 'ORG'),\n",
       "           Span(100, 151, 'ORG'),\n",
       "           Span(175, 206, 'ORG'),\n",
       "           Span(207, 216, 'ORG'),\n",
       "           Span(482, 492, 'ORG'),\n",
       "           Span(550, 560, 'ORG'),\n",
       "           Span(613, 630, 'LOC'),\n",
       "           Span(631, 672, 'ORG')])"
      ]
     },
     "metadata": {},
     "output_type": "display_data"
    },
    {
     "name": "stdout",
     "output_type": "stream",
     "text": [
      "[(0, 6, 'LOC'), (18, 29, 'ORG'), (42, 45, 'LOC'), (46, 59, 'PER'), (84, 93, 'ORG'), (94, 97, 'LOC'), (101, 116, 'ORG'), (119, 141, 'ORG'), (144, 153, 'LOC'), (210, 213, 'LOC'), (227, 235, 'LOC'), (257, 276, 'ORG'), (372, 394, 'ORG'), (395, 398, 'LOC'), (421, 442, 'ORG'), (443, 446, 'LOC'), (472, 478, 'ORG'), (483, 504, 'ORG'), (603, 606, 'LOC')]\n"
     ]
    },
    {
     "data": {
      "text/html": [
       "<div class=\"tex2jax_ignore\" style=\"white-space: pre-wrap\"><span style=\"padding: 2px; border-radius: 4px; border: 1px solid #c8e6c9; background: #e8f5e9\">Москва<span style=\"vertical-align: middle; margin-left: 2px; font-size: 0.7em; color: #66bb6a;\">LOC</span></span>. 1 января. <span style=\"padding: 2px; border-radius: 4px; border: 1px solid #ffcdd2; background: #ffebee\">INTERFAX.RU<span style=\"vertical-align: middle; margin-left: 2px; font-size: 0.7em; color: #e57373;\">ORG</span></span> - Президент <span style=\"padding: 2px; border-radius: 4px; border: 1px solid #c8e6c9; background: #e8f5e9\">США<span style=\"vertical-align: middle; margin-left: 2px; font-size: 0.7em; color: #66bb6a;\">LOC</span></span> <span style=\"padding: 2px; border-radius: 4px; border: 1px solid #bbdefb; background: #e3f2fd\">Дональд Трамп<span style=\"vertical-align: middle; margin-left: 2px; font-size: 0.7em; color: #64b5f6;\">PER</span></span> пригласил лидеров палат <span style=\"padding: 2px; border-radius: 4px; border: 1px solid #ffcdd2; background: #ffebee\">Конгресса<span style=\"vertical-align: middle; margin-left: 2px; font-size: 0.7em; color: #e57373;\">ORG</span></span> <span style=\"padding: 2px; border-radius: 4px; border: 1px solid #c8e6c9; background: #e8f5e9\">США<span style=\"vertical-align: middle; margin-left: 2px; font-size: 0.7em; color: #66bb6a;\">LOC</span></span> от <span style=\"padding: 2px; border-radius: 4px; border: 1px solid #ffcdd2; background: #ffebee\">Республиканской<span style=\"vertical-align: middle; margin-left: 2px; font-size: 0.7em; color: #e57373;\">ORG</span></span> и <span style=\"padding: 2px; border-radius: 4px; border: 1px solid #ffcdd2; background: #ffebee\">Демократической партий<span style=\"vertical-align: middle; margin-left: 2px; font-size: 0.7em; color: #e57373;\">ORG</span></span> в <span style=\"padding: 2px; border-radius: 4px; border: 1px solid #c8e6c9; background: #e8f5e9\">Белый дом<span style=\"vertical-align: middle; margin-left: 2px; font-size: 0.7em; color: #66bb6a;\">LOC</span></span> на брифинг, основной темой которого станет безопасность <span style=\"padding: 2px; border-radius: 4px; border: 1px solid #c8e6c9; background: #e8f5e9\">США<span style=\"vertical-align: middle; margin-left: 2px; font-size: 0.7em; color: #66bb6a;\">LOC</span></span> на границе с <span style=\"padding: 2px; border-radius: 4px; border: 1px solid #c8e6c9; background: #e8f5e9\">Мексикой<span style=\"vertical-align: middle; margin-left: 2px; font-size: 0.7em; color: #66bb6a;\">LOC</span></span>, сообщает во вторник <span style=\"padding: 2px; border-radius: 4px; border: 1px solid #ffcdd2; background: #ffebee\">The Washington Post<span style=\"vertical-align: middle; margin-left: 2px; font-size: 0.7em; color: #e57373;\">ORG</span></span> со ссылкой на источники. Встреча запланирована на среду 2 января, то есть за день до того, как <span style=\"padding: 2px; border-radius: 4px; border: 1px solid #ffcdd2; background: #ffebee\">Демократическая партия<span style=\"vertical-align: middle; margin-left: 2px; font-size: 0.7em; color: #e57373;\">ORG</span></span> <span style=\"padding: 2px; border-radius: 4px; border: 1px solid #c8e6c9; background: #e8f5e9\">США<span style=\"vertical-align: middle; margin-left: 2px; font-size: 0.7em; color: #66bb6a;\">LOC</span></span> станет большинством в <span style=\"padding: 2px; border-radius: 4px; border: 1px solid #ffcdd2; background: #ffebee\">Палате представителей<span style=\"vertical-align: middle; margin-left: 2px; font-size: 0.7em; color: #e57373;\">ORG</span></span> <span style=\"padding: 2px; border-radius: 4px; border: 1px solid #c8e6c9; background: #e8f5e9\">США<span style=\"vertical-align: middle; margin-left: 2px; font-size: 0.7em; color: #66bb6a;\">LOC</span></span>. Ожидается, что лидеры в <span style=\"padding: 2px; border-radius: 4px; border: 1px solid #ffcdd2; background: #ffebee\">Сенате<span style=\"vertical-align: middle; margin-left: 2px; font-size: 0.7em; color: #e57373;\">ORG</span></span> и в <span style=\"padding: 2px; border-radius: 4px; border: 1px solid #ffcdd2; background: #ffebee\">Палате представителей<span style=\"vertical-align: middle; margin-left: 2px; font-size: 0.7em; color: #e57373;\">ORG</span></span> от каждой из двух партий встретятся с официальными лицами из министерства внутренней безопасности <span style=\"padding: 2px; border-radius: 4px; border: 1px solid #c8e6c9; background: #e8f5e9\">США<span style=\"vertical-align: middle; margin-left: 2px; font-size: 0.7em; color: #66bb6a;\">LOC</span></span>. Это ведомство курирует безопасность границ.</div>"
      ],
      "text/plain": [
       "BoxMarkup('Москва. 1 января. INTERFAX.RU - Президент США Дональд Трамп пригласил лидеров палат Конгресса США от Республиканской и Демократической партий в Белый дом на брифинг, основной темой которого станет безопасность США на границе с Мексикой, сообщает во вторник The Washington Post со ссылкой на источники. Встреча запланирована на среду 2 января, то есть за день до того, как Демократическая партия США станет большинством в Палате представителей США. Ожидается, что лидеры в Сенате и в Палате представителей от каждой из двух партий встретятся с официальными лицами из министерства внутренней безопасности США. Это ведомство курирует безопасность границ.',\n",
       "          [Span(0, 6, 'LOC'),\n",
       "           Span(18, 29, 'ORG'),\n",
       "           Span(42, 45, 'LOC'),\n",
       "           Span(46, 59, 'PER'),\n",
       "           Span(84, 93, 'ORG'),\n",
       "           Span(94, 97, 'LOC'),\n",
       "           Span(101, 116, 'ORG'),\n",
       "           Span(119, 141, 'ORG'),\n",
       "           Span(144, 153, 'LOC'),\n",
       "           Span(210, 213, 'LOC'),\n",
       "           Span(227, 235, 'LOC'),\n",
       "           Span(257, 276, 'ORG'),\n",
       "           Span(372, 394, 'ORG'),\n",
       "           Span(395, 398, 'LOC'),\n",
       "           Span(421, 442, 'ORG'),\n",
       "           Span(443, 446, 'LOC'),\n",
       "           Span(472, 478, 'ORG'),\n",
       "           Span(483, 504, 'ORG'),\n",
       "           Span(603, 606, 'LOC')])"
      ]
     },
     "metadata": {},
     "output_type": "display_data"
    },
    {
     "name": "stdout",
     "output_type": "stream",
     "text": [
      "[(0, 6, 'LOC'), (18, 29, 'ORG'), (95, 108, 'LOC'), (120, 130, 'ORG'), (158, 161, 'ORG'), (165, 184, 'LOC')]\n"
     ]
    },
    {
     "data": {
      "text/html": [
       "<div class=\"tex2jax_ignore\" style=\"white-space: pre-wrap\"><span style=\"padding: 2px; border-radius: 4px; border: 1px solid #c8e6c9; background: #e8f5e9\">Москва<span style=\"vertical-align: middle; margin-left: 2px; font-size: 0.7em; color: #66bb6a;\">LOC</span></span>. 1 января. <span style=\"padding: 2px; border-radius: 4px; border: 1px solid #ffcdd2; background: #ffebee\">INTERFAX.RU<span style=\"vertical-align: middle; margin-left: 2px; font-size: 0.7em; color: #e57373;\">ORG</span></span> - Полиция выясняет обстоятельства хлопка в автомобили \"Газель\" в <span style=\"padding: 2px; border-radius: 4px; border: 1px solid #c8e6c9; background: #e8f5e9\">Магнитогорске<span style=\"vertical-align: middle; margin-left: 2px; font-size: 0.7em; color: #66bb6a;\">LOC</span></span>, сообщили \"<span style=\"padding: 2px; border-radius: 4px; border: 1px solid #ffcdd2; background: #ffebee\">Интерфаксу<span style=\"vertical-align: middle; margin-left: 2px; font-size: 0.7em; color: #e57373;\">ORG</span></span>\" в пресс-службе управления <span style=\"padding: 2px; border-radius: 4px; border: 1px solid #ffcdd2; background: #ffebee\">МВД<span style=\"vertical-align: middle; margin-left: 2px; font-size: 0.7em; color: #e57373;\">ORG</span></span> по <span style=\"padding: 2px; border-radius: 4px; border: 1px solid #c8e6c9; background: #e8f5e9\">Челябинской области<span style=\"vertical-align: middle; margin-left: 2px; font-size: 0.7em; color: #66bb6a;\">LOC</span></span>. \"На пр. Карла Маркса, 96 произошел хлопок в автомобиле \"Газель\". По предварительным данным, причина хлопка - неисправность газового оборудования\",- сказал сотрудник пресс-службы. На месте происшествия работает следственно-оперативная группа, обстоятельства выясняются, добавил он. Ранее осведомлённый источник сообщал о трёх пострадавших в результате инцидента. \"Около 23:00 загорелось маршрутное такси. По предварительной информации, пострадали три человека. Вероятной причиной возгорания стала детонация газового баллона в автомобиле\", - сказал собеседник агентства.</div>"
      ],
      "text/plain": [
       "BoxMarkup('Москва. 1 января. INTERFAX.RU - Полиция выясняет обстоятельства хлопка в автомобили \"Газель\" в Магнитогорске, сообщили \"Интерфаксу\" в пресс-службе управления МВД по Челябинской области. \"На пр. Карла Маркса, 96 произошел хлопок в автомобиле \"Газель\". По предварительным данным, причина хлопка - неисправность газового оборудования\",- сказал сотрудник пресс-службы. На месте происшествия работает следственно-оперативная группа, обстоятельства выясняются, добавил он. Ранее осведомлённый источник сообщал о трёх пострадавших в результате инцидента. \"Около 23:00 загорелось маршрутное такси. По предварительной информации, пострадали три человека. Вероятной причиной возгорания стала детонация газового баллона в автомобиле\", - сказал собеседник агентства.',\n",
       "          [Span(0, 6, 'LOC'),\n",
       "           Span(18, 29, 'ORG'),\n",
       "           Span(95, 108, 'LOC'),\n",
       "           Span(120, 130, 'ORG'),\n",
       "           Span(158, 161, 'ORG'),\n",
       "           Span(165, 184, 'LOC')])"
      ]
     },
     "metadata": {},
     "output_type": "display_data"
    },
    {
     "name": "stdout",
     "output_type": "stream",
     "text": [
      "[(0, 6, 'LOC'), (18, 29, 'ORG'), (47, 60, 'LOC'), (94, 107, 'LOC'), (110, 157, 'ORG'), (181, 184, 'ORG'), (224, 234, 'ORG'), (251, 254, 'ORG'), (356, 369, 'LOC')]\n"
     ]
    },
    {
     "data": {
      "text/html": [
       "<div class=\"tex2jax_ignore\" style=\"white-space: pre-wrap\"><span style=\"padding: 2px; border-radius: 4px; border: 1px solid #c8e6c9; background: #e8f5e9\">Москва<span style=\"vertical-align: middle; margin-left: 2px; font-size: 0.7em; color: #66bb6a;\">LOC</span></span>. 1 января. <span style=\"padding: 2px; border-radius: 4px; border: 1px solid #ffcdd2; background: #ffebee\">INTERFAX.RU<span style=\"vertical-align: middle; margin-left: 2px; font-size: 0.7em; color: #e57373;\">ORG</span></span> - Пострадавший в <span style=\"padding: 2px; border-radius: 4px; border: 1px solid #c8e6c9; background: #e8f5e9\">Магнитогорске<span style=\"vertical-align: middle; margin-left: 2px; font-size: 0.7em; color: #66bb6a;\">LOC</span></span> 11-месячный мальчик доставлен из <span style=\"padding: 2px; border-radius: 4px; border: 1px solid #c8e6c9; background: #e8f5e9\">Магнитогорска<span style=\"vertical-align: middle; margin-left: 2px; font-size: 0.7em; color: #66bb6a;\">LOC</span></span> в <span style=\"padding: 2px; border-radius: 4px; border: 1px solid #ffcdd2; background: #ffebee\">НИИ неотложной детской хирургии и травматологии<span style=\"vertical-align: middle; margin-left: 2px; font-size: 0.7em; color: #e57373;\">ORG</span></span>, сообщает пресс-служба <span style=\"padding: 2px; border-radius: 4px; border: 1px solid #ffcdd2; background: #ffebee\">НИИ<span style=\"vertical-align: middle; margin-left: 2px; font-size: 0.7em; color: #e57373;\">ORG</span></span>. \"Мальчик доставлен к нам\", - сказали \"<span style=\"padding: 2px; border-radius: 4px; border: 1px solid #ffcdd2; background: #ffebee\">Интерфаксу<span style=\"vertical-align: middle; margin-left: 2px; font-size: 0.7em; color: #e57373;\">ORG</span></span>\" в пресс-службе <span style=\"padding: 2px; border-radius: 4px; border: 1px solid #ffcdd2; background: #ffebee\">НИИ<span style=\"vertical-align: middle; margin-left: 2px; font-size: 0.7em; color: #e57373;\">ORG</span></span> во вторник. Состояние мальчика после того, как его во вторник достали из-под завалов обрушившегося в <span style=\"padding: 2px; border-radius: 4px; border: 1px solid #c8e6c9; background: #e8f5e9\">Магнитогорске<span style=\"vertical-align: middle; margin-left: 2px; font-size: 0.7em; color: #66bb6a;\">LOC</span></span> дома оценивалось как \"крайне тяжелое\": у него были диагностированы \"серьезные обморожения конечностей, закрытая черепно-мозговая травма, множественные переломы голени, общее переохлаждение\". Обрушение дома произошло утром 31 декабря.</div>"
      ],
      "text/plain": [
       "BoxMarkup('Москва. 1 января. INTERFAX.RU - Пострадавший в Магнитогорске 11-месячный мальчик доставлен из Магнитогорска в НИИ неотложной детской хирургии и травматологии, сообщает пресс-служба НИИ. \"Мальчик доставлен к нам\", - сказали \"Интерфаксу\" в пресс-службе НИИ во вторник. Состояние мальчика после того, как его во вторник достали из-под завалов обрушившегося в Магнитогорске дома оценивалось как \"крайне тяжелое\": у него были диагностированы \"серьезные обморожения конечностей, закрытая черепно-мозговая травма, множественные переломы голени, общее переохлаждение\". Обрушение дома произошло утром 31 декабря.',\n",
       "          [Span(0, 6, 'LOC'),\n",
       "           Span(18, 29, 'ORG'),\n",
       "           Span(47, 60, 'LOC'),\n",
       "           Span(94, 107, 'LOC'),\n",
       "           Span(110, 157, 'ORG'),\n",
       "           Span(181, 184, 'ORG'),\n",
       "           Span(224, 234, 'ORG'),\n",
       "           Span(251, 254, 'ORG'),\n",
       "           Span(356, 369, 'LOC')])"
      ]
     },
     "metadata": {},
     "output_type": "display_data"
    },
    {
     "name": "stdout",
     "output_type": "stream",
     "text": [
      "[(0, 6, 'LOC'), (18, 29, 'ORG'), (99, 112, 'LOC'), (148, 167, 'LOC'), (252, 265, 'LOC'), (551, 564, 'LOC'), (725, 735, 'ORG'), (763, 766, 'ORG'), (770, 789, 'LOC')]\n"
     ]
    },
    {
     "data": {
      "text/html": [
       "<div class=\"tex2jax_ignore\" style=\"white-space: pre-wrap\"><span style=\"padding: 2px; border-radius: 4px; border: 1px solid #c8e6c9; background: #e8f5e9\">Москва<span style=\"vertical-align: middle; margin-left: 2px; font-size: 0.7em; color: #66bb6a;\">LOC</span></span>. 1 января. <span style=\"padding: 2px; border-radius: 4px; border: 1px solid #ffcdd2; background: #ffebee\">INTERFAX.RU<span style=\"vertical-align: middle; margin-left: 2px; font-size: 0.7em; color: #e57373;\">ORG</span></span> - Три человека погибли в результате возгорания автомобиля \"Газель\" в <span style=\"padding: 2px; border-radius: 4px; border: 1px solid #c8e6c9; background: #e8f5e9\">Магнитогорске<span style=\"vertical-align: middle; margin-left: 2px; font-size: 0.7em; color: #66bb6a;\">LOC</span></span>, сообщает пресс-служба губернатора <span style=\"padding: 2px; border-radius: 4px; border: 1px solid #c8e6c9; background: #e8f5e9\">Челябинской области<span style=\"vertical-align: middle; margin-left: 2px; font-size: 0.7em; color: #66bb6a;\">LOC</span></span>. \"Поступило сообщение о том, что на перекрестке улицы Карла Маркса и улицы Правды в <span style=\"padding: 2px; border-radius: 4px; border: 1px solid #c8e6c9; background: #e8f5e9\">Магнитогорске<span style=\"vertical-align: middle; margin-left: 2px; font-size: 0.7em; color: #66bb6a;\">LOC</span></span> произошло загорание автомобиля \"Газель\", в котором находилось три человека (все взрослые). Погибло три человека\", - говорится в сообщении. Уточняется, что в автомобиле находилось два газовых баллона. Ранее сообщалось, что полиция выясняет обстоятельства хлопка в автомобили \"Газель\" в <span style=\"padding: 2px; border-radius: 4px; border: 1px solid #c8e6c9; background: #e8f5e9\">Магнитогорске<span style=\"vertical-align: middle; margin-left: 2px; font-size: 0.7em; color: #66bb6a;\">LOC</span></span>. \"На пр. Карла Маркса, 96 произошел хлопок в автомобиле \"Газель\". По предварительным данным, причина хлопка - неисправность газового оборудования\", - сообщили \"<span style=\"padding: 2px; border-radius: 4px; border: 1px solid #ffcdd2; background: #ffebee\">Интерфаксу<span style=\"vertical-align: middle; margin-left: 2px; font-size: 0.7em; color: #e57373;\">ORG</span></span>\" в пресс-службе управления <span style=\"padding: 2px; border-radius: 4px; border: 1px solid #ffcdd2; background: #ffebee\">МВД<span style=\"vertical-align: middle; margin-left: 2px; font-size: 0.7em; color: #e57373;\">ORG</span></span> по <span style=\"padding: 2px; border-radius: 4px; border: 1px solid #c8e6c9; background: #e8f5e9\">Челябинской области<span style=\"vertical-align: middle; margin-left: 2px; font-size: 0.7em; color: #66bb6a;\">LOC</span></span>. На месте происшествия работает следственно-оперативная группа, обстоятельства выясняются, добавил сотрудник пресс-службы.</div>"
      ],
      "text/plain": [
       "BoxMarkup('Москва. 1 января. INTERFAX.RU - Три человека погибли в результате возгорания автомобиля \"Газель\" в Магнитогорске, сообщает пресс-служба губернатора Челябинской области. \"Поступило сообщение о том, что на перекрестке улицы Карла Маркса и улицы Правды в Магнитогорске произошло загорание автомобиля \"Газель\", в котором находилось три человека (все взрослые). Погибло три человека\", - говорится в сообщении. Уточняется, что в автомобиле находилось два газовых баллона. Ранее сообщалось, что полиция выясняет обстоятельства хлопка в автомобили \"Газель\" в Магнитогорске. \"На пр. Карла Маркса, 96 произошел хлопок в автомобиле \"Газель\". По предварительным данным, причина хлопка - неисправность газового оборудования\", - сообщили \"Интерфаксу\" в пресс-службе управления МВД по Челябинской области. На месте происшествия работает следственно-оперативная группа, обстоятельства выясняются, добавил сотрудник пресс-службы.',\n",
       "          [Span(0, 6, 'LOC'),\n",
       "           Span(18, 29, 'ORG'),\n",
       "           Span(99, 112, 'LOC'),\n",
       "           Span(148, 167, 'LOC'),\n",
       "           Span(252, 265, 'LOC'),\n",
       "           Span(551, 564, 'LOC'),\n",
       "           Span(725, 735, 'ORG'),\n",
       "           Span(763, 766, 'ORG'),\n",
       "           Span(770, 789, 'LOC')])"
      ]
     },
     "metadata": {},
     "output_type": "display_data"
    },
    {
     "name": "stdout",
     "output_type": "stream",
     "text": [
      "[(48, 54, 'LOC'), (66, 77, 'ORG'), (139, 152, 'LOC'), (189, 216, 'ORG'), (217, 234, 'PER'), (287, 290, 'ORG'), (467, 475, 'PER'), (485, 495, 'ORG'), (707, 724, 'PER')]\n"
     ]
    },
    {
     "data": {
      "text/html": [
       "<div class=\"tex2jax_ignore\" style=\"white-space: pre-wrap\">Основная версия следствия - взрыв бытового газа <span style=\"padding: 2px; border-radius: 4px; border: 1px solid #c8e6c9; background: #e8f5e9\">Москва<span style=\"vertical-align: middle; margin-left: 2px; font-size: 0.7em; color: #66bb6a;\">LOC</span></span>. 2 января. <span style=\"padding: 2px; border-radius: 4px; border: 1px solid #ffcdd2; background: #ffebee\">INTERFAX.RU<span style=\"vertical-align: middle; margin-left: 2px; font-size: 0.7em; color: #e57373;\">ORG</span></span> - Специалисты не нашли следов взрывчатки в развалинах дома в <span style=\"padding: 2px; border-radius: 4px; border: 1px solid #c8e6c9; background: #e8f5e9\">Магнитогорске<span style=\"vertical-align: middle; margin-left: 2px; font-size: 0.7em; color: #66bb6a;\">LOC</span></span>, сообщила официальный представитель <span style=\"padding: 2px; border-radius: 4px; border: 1px solid #ffcdd2; background: #ffebee\">Следственного комитета (СК)<span style=\"vertical-align: middle; margin-left: 2px; font-size: 0.7em; color: #e57373;\">ORG</span></span> <span style=\"padding: 2px; border-radius: 4px; border: 1px solid #bbdefb; background: #e3f2fd\">Светлана Петренко<span style=\"vertical-align: middle; margin-left: 2px; font-size: 0.7em; color: #64b5f6;\">PER</span></span>. \"В связи с различными сообщениями, появляющимися в <span style=\"padding: 2px; border-radius: 4px; border: 1px solid #ffcdd2; background: #ffebee\">СМИ<span style=\"vertical-align: middle; margin-left: 2px; font-size: 0.7em; color: #e57373;\">ORG</span></span>, необходимо отметить, что на данный момент в исследованных взрывотехниками уже разобранных частях завала следов взрывчатых веществ или их компонентов не обнаружено\", - сказала <span style=\"padding: 2px; border-radius: 4px; border: 1px solid #bbdefb; background: #e3f2fd\">Петренко<span style=\"vertical-align: middle; margin-left: 2px; font-size: 0.7em; color: #64b5f6;\">PER</span></span> в среду \"<span style=\"padding: 2px; border-radius: 4px; border: 1px solid #ffcdd2; background: #ffebee\">Интерфаксу<span style=\"vertical-align: middle; margin-left: 2px; font-size: 0.7em; color: #e57373;\">ORG</span></span>\". Она отметила, что \"следствие отрабатывает все возможные версии произошедшего\". \"Работа по установлению причин произошедшей трагедии ведется следственно-оперативной группой в круглосуточном режиме\", - добавила <span style=\"padding: 2px; border-radius: 4px; border: 1px solid #bbdefb; background: #e3f2fd\">Светлана Петренко<span style=\"vertical-align: middle; margin-left: 2px; font-size: 0.7em; color: #64b5f6;\">PER</span></span>.</div>"
      ],
      "text/plain": [
       "BoxMarkup('Основная версия следствия - взрыв бытового газа Москва. 2 января. INTERFAX.RU - Специалисты не нашли следов взрывчатки в развалинах дома в Магнитогорске, сообщила официальный представитель Следственного комитета (СК) Светлана Петренко. \"В связи с различными сообщениями, появляющимися в СМИ, необходимо отметить, что на данный момент в исследованных взрывотехниками уже разобранных частях завала следов взрывчатых веществ или их компонентов не обнаружено\", - сказала Петренко в среду \"Интерфаксу\". Она отметила, что \"следствие отрабатывает все возможные версии произошедшего\". \"Работа по установлению причин произошедшей трагедии ведется следственно-оперативной группой в круглосуточном режиме\", - добавила Светлана Петренко.',\n",
       "          [Span(48, 54, 'LOC'),\n",
       "           Span(66, 77, 'ORG'),\n",
       "           Span(139, 152, 'LOC'),\n",
       "           Span(189, 216, 'ORG'),\n",
       "           Span(217, 234, 'PER'),\n",
       "           Span(287, 290, 'ORG'),\n",
       "           Span(467, 475, 'PER'),\n",
       "           Span(485, 495, 'ORG'),\n",
       "           Span(707, 724, 'PER')])"
      ]
     },
     "metadata": {},
     "output_type": "display_data"
    },
    {
     "name": "stdout",
     "output_type": "stream",
     "text": [
      "[(0, 6, 'LOC'), (18, 29, 'ORG'), (32, 41, 'LOC'), (61, 66, 'LOC'), (104, 106, 'LOC'), (153, 156, 'LOC'), (160, 167, 'LOC'), (178, 199, 'ORG'), (200, 211, 'PER'), (250, 253, 'LOC'), (273, 278, 'LOC'), (313, 319, 'LOC'), (432, 435, 'LOC'), (478, 485, 'LOC'), (512, 525, 'ORG'), (543, 546, 'LOC'), (563, 570, 'LOC'), (651, 654, 'LOC'), (914, 917, 'LOC'), (919, 927, 'PER'), (1064, 1067, 'LOC'), (1071, 1078, 'LOC'), (1105, 1112, 'LOC'), (1128, 1137, 'ORG'), (1257, 1265, 'PER')]\n"
     ]
    },
    {
     "data": {
      "text/html": [
       "<div class=\"tex2jax_ignore\" style=\"white-space: pre-wrap\"><span style=\"padding: 2px; border-radius: 4px; border: 1px solid #c8e6c9; background: #e8f5e9\">Москва<span style=\"vertical-align: middle; margin-left: 2px; font-size: 0.7em; color: #66bb6a;\">LOC</span></span>. 2 января. <span style=\"padding: 2px; border-radius: 4px; border: 1px solid #ffcdd2; background: #ffebee\">INTERFAX.RU<span style=\"vertical-align: middle; margin-left: 2px; font-size: 0.7em; color: #e57373;\">ORG</span></span> - <span style=\"padding: 2px; border-radius: 4px; border: 1px solid #c8e6c9; background: #e8f5e9\">Вашингтон<span style=\"vertical-align: middle; margin-left: 2px; font-size: 0.7em; color: #66bb6a;\">LOC</span></span> может предоставить <span style=\"padding: 2px; border-radius: 4px; border: 1px solid #c8e6c9; background: #e8f5e9\">Киеву<span style=\"vertical-align: middle; margin-left: 2px; font-size: 0.7em; color: #66bb6a;\">LOC</span></span> оружие и ввести новые санкции против <span style=\"padding: 2px; border-radius: 4px; border: 1px solid #c8e6c9; background: #e8f5e9\">РФ<span style=\"vertical-align: middle; margin-left: 2px; font-size: 0.7em; color: #66bb6a;\">LOC</span></span> в течение двух-трех месяцев, заявил экс-посол <span style=\"padding: 2px; border-radius: 4px; border: 1px solid #c8e6c9; background: #e8f5e9\">США<span style=\"vertical-align: middle; margin-left: 2px; font-size: 0.7em; color: #66bb6a;\">LOC</span></span> на <span style=\"padding: 2px; border-radius: 4px; border: 1px solid #c8e6c9; background: #e8f5e9\">Украине<span style=\"vertical-align: middle; margin-left: 2px; font-size: 0.7em; color: #66bb6a;\">LOC</span></span>, директор <span style=\"padding: 2px; border-radius: 4px; border: 1px solid #ffcdd2; background: #ffebee\">Атлантического совета<span style=\"vertical-align: middle; margin-left: 2px; font-size: 0.7em; color: #e57373;\">ORG</span></span> <span style=\"padding: 2px; border-radius: 4px; border: 1px solid #bbdefb; background: #e3f2fd\">Джон Хербст<span style=\"vertical-align: middle; margin-left: 2px; font-size: 0.7em; color: #64b5f6;\">PER</span></span>. \"Уже через 2-3 месяца мы увидим, что <span style=\"padding: 2px; border-radius: 4px; border: 1px solid #c8e6c9; background: #e8f5e9\">США<span style=\"vertical-align: middle; margin-left: 2px; font-size: 0.7em; color: #66bb6a;\">LOC</span></span> предоставят оружие <span style=\"padding: 2px; border-radius: 4px; border: 1px solid #c8e6c9; background: #e8f5e9\">Киеву<span style=\"vertical-align: middle; margin-left: 2px; font-size: 0.7em; color: #66bb6a;\">LOC</span></span> и объявят о новых санкциях против <span style=\"padding: 2px; border-radius: 4px; border: 1px solid #c8e6c9; background: #e8f5e9\">России<span style=\"vertical-align: middle; margin-left: 2px; font-size: 0.7em; color: #66bb6a;\">LOC</span></span>. (...) Думаю, в течение ближайших восьми-десяти, максимум - двенадцати недель появится этот более сильный ответ <span style=\"padding: 2px; border-radius: 4px; border: 1px solid #c8e6c9; background: #e8f5e9\">США<span style=\"vertical-align: middle; margin-left: 2px; font-size: 0.7em; color: #66bb6a;\">LOC</span></span>. И кроме санкций это будет военная помощь <span style=\"padding: 2px; border-radius: 4px; border: 1px solid #c8e6c9; background: #e8f5e9\">Украине<span style=\"vertical-align: middle; margin-left: 2px; font-size: 0.7em; color: #66bb6a;\">LOC</span></span>\", - заявил он в интервью \"<span style=\"padding: 2px; border-radius: 4px; border: 1px solid #ffcdd2; background: #ffebee\">Радио Свобода<span style=\"vertical-align: middle; margin-left: 2px; font-size: 0.7em; color: #e57373;\">ORG</span></span>\". По его словам, <span style=\"padding: 2px; border-radius: 4px; border: 1px solid #c8e6c9; background: #e8f5e9\">США<span style=\"vertical-align: middle; margin-left: 2px; font-size: 0.7em; color: #66bb6a;\">LOC</span></span> могут поставить <span style=\"padding: 2px; border-radius: 4px; border: 1px solid #c8e6c9; background: #e8f5e9\">Украине<span style=\"vertical-align: middle; margin-left: 2px; font-size: 0.7em; color: #66bb6a;\">LOC</span></span> противокорабельные ракеты, патрульные корабли и прочее военное оборудование. \"В <span style=\"padding: 2px; border-radius: 4px; border: 1px solid #c8e6c9; background: #e8f5e9\">США<span style=\"vertical-align: middle; margin-left: 2px; font-size: 0.7em; color: #66bb6a;\">LOC</span></span> достаточно крылатых ракет \"Гарпун\", в основе действия которых - технологии, разработанные 30 лет назад, - и это то, что мы уже сейчас можем предоставить. А возможно, и гораздо более современные ракеты\", - сказал экс-посол. Среди санкций, которые могут ввести <span style=\"padding: 2px; border-radius: 4px; border: 1px solid #c8e6c9; background: #e8f5e9\">США<span style=\"vertical-align: middle; margin-left: 2px; font-size: 0.7em; color: #66bb6a;\">LOC</span></span>, <span style=\"padding: 2px; border-radius: 4px; border: 1px solid #bbdefb; background: #e3f2fd\">Д.Хербст<span style=\"vertical-align: middle; margin-left: 2px; font-size: 0.7em; color: #64b5f6;\">PER</span></span> назвал ограничение против крупнейшего российского банка или запрет на вход в американские порты российским судам. Кроме того, экс-посол <span style=\"padding: 2px; border-radius: 4px; border: 1px solid #c8e6c9; background: #e8f5e9\">США<span style=\"vertical-align: middle; margin-left: 2px; font-size: 0.7em; color: #66bb6a;\">LOC</span></span> на <span style=\"padding: 2px; border-radius: 4px; border: 1px solid #c8e6c9; background: #e8f5e9\">Украине<span style=\"vertical-align: middle; margin-left: 2px; font-size: 0.7em; color: #66bb6a;\">LOC</span></span> подчеркнул, что поддержка <span style=\"padding: 2px; border-radius: 4px; border: 1px solid #c8e6c9; background: #e8f5e9\">Украины<span style=\"vertical-align: middle; margin-left: 2px; font-size: 0.7em; color: #66bb6a;\">LOC</span></span> в американском <span style=\"padding: 2px; border-radius: 4px; border: 1px solid #ffcdd2; background: #ffebee\">Конгрессе<span style=\"vertical-align: middle; margin-left: 2px; font-size: 0.7em; color: #e57373;\">ORG</span></span> на данный момент очень сильна. \"И она останется как минимум такой же серьезной, а возможно, еще и усилится\", - считает <span style=\"padding: 2px; border-radius: 4px; border: 1px solid #bbdefb; background: #e3f2fd\">Д.Хербст<span style=\"vertical-align: middle; margin-left: 2px; font-size: 0.7em; color: #64b5f6;\">PER</span></span>.</div>"
      ],
      "text/plain": [
       "BoxMarkup('Москва. 2 января. INTERFAX.RU - Вашингтон может предоставить Киеву оружие и ввести новые санкции против РФ в течение двух-трех месяцев, заявил экс-посол США на Украине, директор Атлантического совета Джон Хербст. \"Уже через 2-3 месяца мы увидим, что США предоставят оружие Киеву и объявят о новых санкциях против России. (...) Думаю, в течение ближайших восьми-десяти, максимум - двенадцати недель появится этот более сильный ответ США. И кроме санкций это будет военная помощь Украине\", - заявил он в интервью \"Радио Свобода\". По его словам, США могут поставить Украине противокорабельные ракеты, патрульные корабли и прочее военное оборудование. \"В США достаточно крылатых ракет \"Гарпун\", в основе действия которых - технологии, разработанные 30 лет назад, - и это то, что мы уже сейчас можем предоставить. А возможно, и гораздо более современные ракеты\", - сказал экс-посол. Среди санкций, которые могут ввести США, Д.Хербст назвал ограничение против крупнейшего российского банка или запрет на вход в американские порты российским судам. Кроме того, экс-посол США на Украине подчеркнул, что поддержка Украины в американском Конгрессе на данный момент очень сильна. \"И она останется как минимум такой же серьезной, а возможно, еще и усилится\", - считает Д.Хербст.',\n",
       "          [Span(0, 6, 'LOC'),\n",
       "           Span(18, 29, 'ORG'),\n",
       "           Span(32, 41, 'LOC'),\n",
       "           Span(61, 66, 'LOC'),\n",
       "           Span(104, 106, 'LOC'),\n",
       "           Span(153, 156, 'LOC'),\n",
       "           Span(160, 167, 'LOC'),\n",
       "           Span(178, 199, 'ORG'),\n",
       "           Span(200, 211, 'PER'),\n",
       "           Span(250, 253, 'LOC'),\n",
       "           Span(273, 278, 'LOC'),\n",
       "           Span(313, 319, 'LOC'),\n",
       "           Span(432, 435, 'LOC'),\n",
       "           Span(478, 485, 'LOC'),\n",
       "           Span(512, 525, 'ORG'),\n",
       "           Span(543, 546, 'LOC'),\n",
       "           Span(563, 570, 'LOC'),\n",
       "           Span(651, 654, 'LOC'),\n",
       "           Span(914, 917, 'LOC'),\n",
       "           Span(919, 927, 'PER'),\n",
       "           Span(1064, 1067, 'LOC'),\n",
       "           Span(1071, 1078, 'LOC'),\n",
       "           Span(1105, 1112, 'LOC'),\n",
       "           Span(1128, 1137, 'ORG'),\n",
       "           Span(1257, 1265, 'PER')])"
      ]
     },
     "metadata": {},
     "output_type": "display_data"
    },
    {
     "name": "stdout",
     "output_type": "stream",
     "text": [
      "[(0, 6, 'LOC'), (18, 29, 'ORG'), (47, 54, 'LOC'), (149, 172, 'ORG'), (173, 176, 'ORG'), (180, 209, 'LOC'), (393, 403, 'LOC'), (404, 424, 'LOC'), (689, 692, 'ORG'), (809, 816, 'LOC'), (817, 828, 'PER'), (1239, 1242, 'ORG')]\n"
     ]
    },
    {
     "data": {
      "text/html": [
       "<div class=\"tex2jax_ignore\" style=\"white-space: pre-wrap\"><span style=\"padding: 2px; border-radius: 4px; border: 1px solid #c8e6c9; background: #e8f5e9\">Москва<span style=\"vertical-align: middle; margin-left: 2px; font-size: 0.7em; color: #66bb6a;\">LOC</span></span>. 2 января. <span style=\"padding: 2px; border-radius: 4px; border: 1px solid #ffcdd2; background: #ffebee\">INTERFAX.RU<span style=\"vertical-align: middle; margin-left: 2px; font-size: 0.7em; color: #e57373;\">ORG</span></span> - Следователи на <span style=\"padding: 2px; border-radius: 4px; border: 1px solid #c8e6c9; background: #e8f5e9\">Чукотке<span style=\"vertical-align: middle; margin-left: 2px; font-size: 0.7em; color: #66bb6a;\">LOC</span></span> проводят проверку по факту гибели при пожаре пяти человек, в том числе двоих детей,  сообщает <span style=\"padding: 2px; border-radius: 4px; border: 1px solid #ffcdd2; background: #ffebee\">Следственное управление<span style=\"vertical-align: middle; margin-left: 2px; font-size: 0.7em; color: #e57373;\">ORG</span></span> <span style=\"padding: 2px; border-radius: 4px; border: 1px solid #ffcdd2; background: #ffebee\">СКР<span style=\"vertical-align: middle; margin-left: 2px; font-size: 0.7em; color: #e57373;\">ORG</span></span> по <span style=\"padding: 2px; border-radius: 4px; border: 1px solid #c8e6c9; background: #e8f5e9\">Чукотскому автономному округу<span style=\"vertical-align: middle; margin-left: 2px; font-size: 0.7em; color: #66bb6a;\">LOC</span></span>. Еще один ребенок госпитализирован в тяжелом состоянии. \"По результатам проверки будет принято  процессуальное решение\", - говорится в сообщении. Трагедия случилась 31 декабря в селе <span style=\"padding: 2px; border-radius: 4px; border: 1px solid #c8e6c9; background: #e8f5e9\">Янкакыннот<span style=\"vertical-align: middle; margin-left: 2px; font-size: 0.7em; color: #66bb6a;\">LOC</span></span> <span style=\"padding: 2px; border-radius: 4px; border: 1px solid #c8e6c9; background: #e8f5e9\">Провиденского района<span style=\"vertical-align: middle; margin-left: 2px; font-size: 0.7em; color: #66bb6a;\">LOC</span></span>. Пожар произошел в одноэтажном деревянном двухквартирном доме с печным отоплением. \"В результате пожара  пять человек погибли, в том числе двое детей. Кроме того, еще один ребенок госпитализирован, его состояние медиками оценивается как тяжелое\", - подчеркивают в <span style=\"padding: 2px; border-radius: 4px; border: 1px solid #ffcdd2; background: #ffebee\">СКР<span style=\"vertical-align: middle; margin-left: 2px; font-size: 0.7em; color: #e57373;\">ORG</span></span>. Площадь возгорания составила 168 кв. м. Предварительная причина пожара устанавливается. В свою очередь, губернатор <span style=\"padding: 2px; border-radius: 4px; border: 1px solid #c8e6c9; background: #e8f5e9\">Чукотки<span style=\"vertical-align: middle; margin-left: 2px; font-size: 0.7em; color: #66bb6a;\">LOC</span></span> <span style=\"padding: 2px; border-radius: 4px; border: 1px solid #bbdefb; background: #e3f2fd\">Роман Копин<span style=\"vertical-align: middle; margin-left: 2px; font-size: 0.7em; color: #64b5f6;\">PER</span></span> поручил оказать помощь пострадавшим в трагедии. \"Глава региона распорядился оказать всю необходимую помощь пострадавшим, в том числе материальную, и направить в село рабочую группу во главе с первым заместителем губернатора для выяснения всех обстоятельств гибели людей\", - говорится в сообщении, опубликованном на сайте окружного правительства В составе рабочей группы - представители следственного комитета, <span style=\"padding: 2px; border-radius: 4px; border: 1px solid #ffcdd2; background: #ffebee\">МЧС<span style=\"vertical-align: middle; margin-left: 2px; font-size: 0.7em; color: #e57373;\">ORG</span></span> и полиции. \"Во вторник из-за неблагоприятных погодных условий отправиться на место трагедии не удалось, вылет перенесен на среду\", - говорится в сообщении.</div>"
      ],
      "text/plain": [
       "BoxMarkup('Москва. 2 января. INTERFAX.RU - Следователи на Чукотке проводят проверку по факту гибели при пожаре пяти человек, в том числе двоих детей,  сообщает Следственное управление СКР по Чукотскому автономному округу. Еще один ребенок госпитализирован в тяжелом состоянии. \"По результатам проверки будет принято  процессуальное решение\", - говорится в сообщении. Трагедия случилась 31 декабря в селе Янкакыннот Провиденского района. Пожар произошел в одноэтажном деревянном двухквартирном доме с печным отоплением. \"В результате пожара  пять человек погибли, в том числе двое детей. Кроме того, еще один ребенок госпитализирован, его состояние медиками оценивается как тяжелое\", - подчеркивают в СКР. Площадь возгорания составила 168 кв. м. Предварительная причина пожара устанавливается. В свою очередь, губернатор Чукотки Роман Копин поручил оказать помощь пострадавшим в трагедии. \"Глава региона распорядился оказать всю необходимую помощь пострадавшим, в том числе материальную, и направить в село рабочую группу во главе с первым заместителем губернатора для выяснения всех обстоятельств гибели людей\", - говорится в сообщении, опубликованном на сайте окружного правительства В составе рабочей группы - представители следственного комитета, МЧС и полиции. \"Во вторник из-за неблагоприятных погодных условий отправиться на место трагедии не удалось, вылет перенесен на среду\", - говорится в сообщении.',\n",
       "          [Span(0, 6, 'LOC'),\n",
       "           Span(18, 29, 'ORG'),\n",
       "           Span(47, 54, 'LOC'),\n",
       "           Span(149, 172, 'ORG'),\n",
       "           Span(173, 176, 'ORG'),\n",
       "           Span(180, 209, 'LOC'),\n",
       "           Span(393, 403, 'LOC'),\n",
       "           Span(404, 424, 'LOC'),\n",
       "           Span(689, 692, 'ORG'),\n",
       "           Span(809, 816, 'LOC'),\n",
       "           Span(817, 828, 'PER'),\n",
       "           Span(1239, 1242, 'ORG')])"
      ]
     },
     "metadata": {},
     "output_type": "display_data"
    },
    {
     "name": "stdout",
     "output_type": "stream",
     "text": [
      "[(0, 9, 'LOC'), (21, 32, 'ORG'), (91, 100, 'LOC'), (101, 117, 'LOC'), (118, 135, 'LOC'), (154, 172, 'ORG'), (173, 176, 'ORG'), (177, 183, 'LOC'), (241, 244, 'ORG'), (301, 311, 'LOC'), (319, 329, 'LOC'), (371, 380, 'LOC'), (463, 469, 'LOC'), (477, 485, 'LOC'), (486, 500, 'LOC'), (653, 659, 'LOC')]\n"
     ]
    },
    {
     "data": {
      "text/html": [
       "<div class=\"tex2jax_ignore\" style=\"white-space: pre-wrap\"><span style=\"padding: 2px; border-radius: 4px; border: 1px solid #c8e6c9; background: #e8f5e9\">Хабаровск<span style=\"vertical-align: middle; margin-left: 2px; font-size: 0.7em; color: #66bb6a;\">LOC</span></span>. 2 января. <span style=\"padding: 2px; border-radius: 4px; border: 1px solid #ffcdd2; background: #ffebee\">INTERFAX.RU<span style=\"vertical-align: middle; margin-left: 2px; font-size: 0.7em; color: #e57373;\">ORG</span></span> - Поиски четверых пропавших рыбаков идут в районе поселка <span style=\"padding: 2px; border-radius: 4px; border: 1px solid #c8e6c9; background: #e8f5e9\">Де-Кастри<span style=\"vertical-align: middle; margin-left: 2px; font-size: 0.7em; color: #66bb6a;\">LOC</span></span> <span style=\"padding: 2px; border-radius: 4px; border: 1px solid #c8e6c9; background: #e8f5e9\">Ульчского района<span style=\"vertical-align: middle; margin-left: 2px; font-size: 0.7em; color: #66bb6a;\">LOC</span></span> <span style=\"padding: 2px; border-radius: 4px; border: 1px solid #c8e6c9; background: #e8f5e9\">Хабаровского края<span style=\"vertical-align: middle; margin-left: 2px; font-size: 0.7em; color: #66bb6a;\">LOC</span></span>, сообщает в среду <span style=\"padding: 2px; border-radius: 4px; border: 1px solid #ffcdd2; background: #ffebee\">Главное управление<span style=\"vertical-align: middle; margin-left: 2px; font-size: 0.7em; color: #e57373;\">ORG</span></span> <span style=\"padding: 2px; border-radius: 4px; border: 1px solid #ffcdd2; background: #ffebee\">МЧС<span style=\"vertical-align: middle; margin-left: 2px; font-size: 0.7em; color: #e57373;\">ORG</span></span> <span style=\"padding: 2px; border-radius: 4px; border: 1px solid #c8e6c9; background: #e8f5e9\">России<span style=\"vertical-align: middle; margin-left: 2px; font-size: 0.7em; color: #66bb6a;\">LOC</span></span> по региону. Информация об исчезновении людей поступила в <span style=\"padding: 2px; border-radius: 4px; border: 1px solid #ffcdd2; background: #ffebee\">МЧС<span style=\"vertical-align: middle; margin-left: 2px; font-size: 0.7em; color: #e57373;\">ORG</span></span> во вторник. По данным районного отдела полиции, жители  <span style=\"padding: 2px; border-radius: 4px; border: 1px solid #c8e6c9; background: #e8f5e9\">Хабаровска<span style=\"vertical-align: middle; margin-left: 2px; font-size: 0.7em; color: #66bb6a;\">LOC</span></span> и села <span style=\"padding: 2px; border-radius: 4px; border: 1px solid #c8e6c9; background: #e8f5e9\">Некрасовка<span style=\"vertical-align: middle; margin-left: 2px; font-size: 0.7em; color: #66bb6a;\">LOC</span></span> еще 29 декабря выехали  на автомобиле из <span style=\"padding: 2px; border-radius: 4px; border: 1px solid #c8e6c9; background: #e8f5e9\">Де-Кастри<span style=\"vertical-align: middle; margin-left: 2px; font-size: 0.7em; color: #66bb6a;\">LOC</span></span> на подледную рыбалку, и пропали. \"Предположительно, они направились в район бухты <span style=\"padding: 2px; border-radius: 4px; border: 1px solid #c8e6c9; background: #e8f5e9\">Тигиль<span style=\"vertical-align: middle; margin-left: 2px; font-size: 0.7em; color: #66bb6a;\">LOC</span></span> залива <span style=\"padding: 2px; border-radius: 4px; border: 1px solid #c8e6c9; background: #e8f5e9\">Чихачева<span style=\"vertical-align: middle; margin-left: 2px; font-size: 0.7em; color: #66bb6a;\">LOC</span></span> <span style=\"padding: 2px; border-radius: 4px; border: 1px solid #c8e6c9; background: #e8f5e9\">Японского моря<span style=\"vertical-align: middle; margin-left: 2px; font-size: 0.7em; color: #66bb6a;\">LOC</span></span> и, возможно, провалились под лед\", - говорится в сообщении. Группа спасателей совместно с полицейским обследовала три километра прибрежной полосы бухты <span style=\"padding: 2px; border-radius: 4px; border: 1px solid #c8e6c9; background: #e8f5e9\">Тигиль<span style=\"vertical-align: middle; margin-left: 2px; font-size: 0.7em; color: #66bb6a;\">LOC</span></span>, но поиски результатов не принесли.  Они будут продолжены.</div>"
      ],
      "text/plain": [
       "BoxMarkup('Хабаровск. 2 января. INTERFAX.RU - Поиски четверых пропавших рыбаков идут в районе поселка Де-Кастри Ульчского района Хабаровского края, сообщает в среду Главное управление МЧС России по региону. Информация об исчезновении людей поступила в МЧС во вторник. По данным районного отдела полиции, жители  Хабаровска и села Некрасовка еще 29 декабря выехали  на автомобиле из Де-Кастри на подледную рыбалку, и пропали. \"Предположительно, они направились в район бухты Тигиль залива Чихачева Японского моря и, возможно, провалились под лед\", - говорится в сообщении. Группа спасателей совместно с полицейским обследовала три километра прибрежной полосы бухты Тигиль, но поиски результатов не принесли.  Они будут продолжены.',\n",
       "          [Span(0, 9, 'LOC'),\n",
       "           Span(21, 32, 'ORG'),\n",
       "           Span(91, 100, 'LOC'),\n",
       "           Span(101, 117, 'LOC'),\n",
       "           Span(118, 135, 'LOC'),\n",
       "           Span(154, 172, 'ORG'),\n",
       "           Span(173, 176, 'ORG'),\n",
       "           Span(177, 183, 'LOC'),\n",
       "           Span(241, 244, 'ORG'),\n",
       "           Span(301, 311, 'LOC'),\n",
       "           Span(319, 329, 'LOC'),\n",
       "           Span(371, 380, 'LOC'),\n",
       "           Span(463, 469, 'LOC'),\n",
       "           Span(477, 485, 'LOC'),\n",
       "           Span(486, 500, 'LOC'),\n",
       "           Span(653, 659, 'LOC')])"
      ]
     },
     "metadata": {},
     "output_type": "display_data"
    },
    {
     "name": "stdout",
     "output_type": "stream",
     "text": [
      "[(0, 6, 'LOC'), (18, 29, 'ORG'), (125, 133, 'LOC'), (142, 149, 'LOC'), (170, 236, 'ORG'), (237, 273, 'ORG'), (274, 300, 'ORG'), (301, 331, 'ORG'), (343, 348, 'ORG'), (420, 428, 'PER'), (714, 732, 'ORG'), (733, 736, 'ORG'), (737, 743, 'LOC'), (747, 763, 'LOC'), (765, 775, 'ORG'), (962, 970, 'LOC'), (983, 991, 'LOC'), (1095, 1102, 'LOC'), (1139, 1147, 'LOC'), (1182, 1187, 'LOC'), (1188, 1211, 'LOC'), (1260, 1268, 'PER')]\n"
     ]
    },
    {
     "data": {
      "text/html": [
       "<div class=\"tex2jax_ignore\" style=\"white-space: pre-wrap\"><span style=\"padding: 2px; border-radius: 4px; border: 1px solid #c8e6c9; background: #e8f5e9\">Москва<span style=\"vertical-align: middle; margin-left: 2px; font-size: 0.7em; color: #66bb6a;\">LOC</span></span>. 2 января. <span style=\"padding: 2px; border-radius: 4px; border: 1px solid #ffcdd2; background: #ffebee\">INTERFAX.RU<span style=\"vertical-align: middle; margin-left: 2px; font-size: 0.7em; color: #e57373;\">ORG</span></span> - Шлейф из газа и пара с примесью пепла протянулся на 85 км к юго-востоку от извергающегося на <span style=\"padding: 2px; border-radius: 4px; border: 1px solid #c8e6c9; background: #e8f5e9\">Камчатке<span style=\"vertical-align: middle; margin-left: 2px; font-size: 0.7em; color: #66bb6a;\">LOC</span></span> вулкана <span style=\"padding: 2px; border-radius: 4px; border: 1px solid #c8e6c9; background: #e8f5e9\">Шивелуч<span style=\"vertical-align: middle; margin-left: 2px; font-size: 0.7em; color: #66bb6a;\">LOC</span></span>, сообщает в четверг <span style=\"padding: 2px; border-radius: 4px; border: 1px solid #ffcdd2; background: #ffebee\">Камчатская группа реагирования на вулканические извержения (KVERT)<span style=\"vertical-align: middle; margin-left: 2px; font-size: 0.7em; color: #e57373;\">ORG</span></span> <span style=\"padding: 2px; border-radius: 4px; border: 1px solid #ffcdd2; background: #ffebee\">Института вулканологии и сейсмологии<span style=\"vertical-align: middle; margin-left: 2px; font-size: 0.7em; color: #e57373;\">ORG</span></span> <span style=\"padding: 2px; border-radius: 4px; border: 1px solid #ffcdd2; background: #ffebee\">Дальневосточного отделения<span style=\"vertical-align: middle; margin-left: 2px; font-size: 0.7em; color: #e57373;\">ORG</span></span> <span style=\"padding: 2px; border-radius: 4px; border: 1px solid #ffcdd2; background: #ffebee\">Российской академии наук (РАН)<span style=\"vertical-align: middle; margin-left: 2px; font-size: 0.7em; color: #e57373;\">ORG</span></span>. По данным <span style=\"padding: 2px; border-radius: 4px; border: 1px solid #ffcdd2; background: #ffebee\">KVERT<span style=\"vertical-align: middle; margin-left: 2px; font-size: 0.7em; color: #e57373;\">ORG</span></span>, этот шлейф распространяется на высоте до 4,5 км над уровнем моря. Для <span style=\"padding: 2px; border-radius: 4px; border: 1px solid #bbdefb; background: #e3f2fd\">Шивелуча<span style=\"vertical-align: middle; margin-left: 2px; font-size: 0.7em; color: #64b5f6;\">PER</span></span> установлен один из наиболее угрожающих - оранжевый цветовой код опасности для авиации. Это значит, что пепел вулкана угрожает низколетящим воздушным судам. \"В любой момент вулкан может выбросить столб пепла высотой до 15 км над уровнем моря\", - говорится в сообщении. В свою очередь в <span style=\"padding: 2px; border-radius: 4px; border: 1px solid #ffcdd2; background: #ffebee\">Главном управлении<span style=\"vertical-align: middle; margin-left: 2px; font-size: 0.7em; color: #e57373;\">ORG</span></span> <span style=\"padding: 2px; border-radius: 4px; border: 1px solid #ffcdd2; background: #ffebee\">МЧС<span style=\"vertical-align: middle; margin-left: 2px; font-size: 0.7em; color: #e57373;\">ORG</span></span> <span style=\"padding: 2px; border-radius: 4px; border: 1px solid #c8e6c9; background: #e8f5e9\">России<span style=\"vertical-align: middle; margin-left: 2px; font-size: 0.7em; color: #66bb6a;\">LOC</span></span> по <span style=\"padding: 2px; border-radius: 4px; border: 1px solid #c8e6c9; background: #e8f5e9\">Камчатскому краю<span style=\"vertical-align: middle; margin-left: 2px; font-size: 0.7em; color: #66bb6a;\">LOC</span></span> \"<span style=\"padding: 2px; border-radius: 4px; border: 1px solid #ffcdd2; background: #ffebee\">Интерфаксу<span style=\"vertical-align: middle; margin-left: 2px; font-size: 0.7em; color: #e57373;\">ORG</span></span>\" сообщили, что пеплопадов в населенных пунктах региона не зарегистрировано. Международные трассы движения воздушных судов в районе вулкана не проходят. Зарегистрированных тургрупп возле <span style=\"padding: 2px; border-radius: 4px; border: 1px solid #c8e6c9; background: #e8f5e9\">Шивелуча<span style=\"vertical-align: middle; margin-left: 2px; font-size: 0.7em; color: #66bb6a;\">LOC</span></span> нет. Высота <span style=\"padding: 2px; border-radius: 4px; border: 1px solid #c8e6c9; background: #e8f5e9\">Шивелуча<span style=\"vertical-align: middle; margin-left: 2px; font-size: 0.7em; color: #66bb6a;\">LOC</span></span> - 3 тыс. 283 м, высшая точка активной части - 2 тыс. 800 м над уровнем моря, возраст - 60-70 тыс. лет. <span style=\"padding: 2px; border-radius: 4px; border: 1px solid #c8e6c9; background: #e8f5e9\">Шивелуч<span style=\"vertical-align: middle; margin-left: 2px; font-size: 0.7em; color: #66bb6a;\">LOC</span></span> - самый северный действующий вулкан <span style=\"padding: 2px; border-radius: 4px; border: 1px solid #c8e6c9; background: #e8f5e9\">Камчатки<span style=\"vertical-align: middle; margin-left: 2px; font-size: 0.7em; color: #66bb6a;\">LOC</span></span>, расположенный в 45 км от поселка <span style=\"padding: 2px; border-radius: 4px; border: 1px solid #c8e6c9; background: #e8f5e9\">Ключи<span style=\"vertical-align: middle; margin-left: 2px; font-size: 0.7em; color: #66bb6a;\">LOC</span></span> <span style=\"padding: 2px; border-radius: 4px; border: 1px solid #c8e6c9; background: #e8f5e9\">Усть-Камчатского района<span style=\"vertical-align: middle; margin-left: 2px; font-size: 0.7em; color: #66bb6a;\">LOC</span></span>, где проживает около 5 тыс. человек. Активность <span style=\"padding: 2px; border-radius: 4px; border: 1px solid #bbdefb; background: #e3f2fd\">Шивелуча<span style=\"vertical-align: middle; margin-left: 2px; font-size: 0.7em; color: #64b5f6;\">PER</span></span> усилилась в мае 2009 года. В результате этого купол вулкана прорезала расщелина глубиной около 30 метров.</div>"
      ],
      "text/plain": [
       "BoxMarkup('Москва. 2 января. INTERFAX.RU - Шлейф из газа и пара с примесью пепла протянулся на 85 км к юго-востоку от извергающегося на Камчатке вулкана Шивелуч, сообщает в четверг Камчатская группа реагирования на вулканические извержения (KVERT) Института вулканологии и сейсмологии Дальневосточного отделения Российской академии наук (РАН). По данным KVERT, этот шлейф распространяется на высоте до 4,5 км над уровнем моря. Для Шивелуча установлен один из наиболее угрожающих - оранжевый цветовой код опасности для авиации. Это значит, что пепел вулкана угрожает низколетящим воздушным судам. \"В любой момент вулкан может выбросить столб пепла высотой до 15 км над уровнем моря\", - говорится в сообщении. В свою очередь в Главном управлении МЧС России по Камчатскому краю \"Интерфаксу\" сообщили, что пеплопадов в населенных пунктах региона не зарегистрировано. Международные трассы движения воздушных судов в районе вулкана не проходят. Зарегистрированных тургрупп возле Шивелуча нет. Высота Шивелуча - 3 тыс. 283 м, высшая точка активной части - 2 тыс. 800 м над уровнем моря, возраст - 60-70 тыс. лет. Шивелуч - самый северный действующий вулкан Камчатки, расположенный в 45 км от поселка Ключи Усть-Камчатского района, где проживает около 5 тыс. человек. Активность Шивелуча усилилась в мае 2009 года. В результате этого купол вулкана прорезала расщелина глубиной около 30 метров.',\n",
       "          [Span(0, 6, 'LOC'),\n",
       "           Span(18, 29, 'ORG'),\n",
       "           Span(125, 133, 'LOC'),\n",
       "           Span(142, 149, 'LOC'),\n",
       "           Span(170, 236, 'ORG'),\n",
       "           Span(237, 273, 'ORG'),\n",
       "           Span(274, 300, 'ORG'),\n",
       "           Span(301, 331, 'ORG'),\n",
       "           Span(343, 348, 'ORG'),\n",
       "           Span(420, 428, 'PER'),\n",
       "           Span(714, 732, 'ORG'),\n",
       "           Span(733, 736, 'ORG'),\n",
       "           Span(737, 743, 'LOC'),\n",
       "           Span(747, 763, 'LOC'),\n",
       "           Span(765, 775, 'ORG'),\n",
       "           Span(962, 970, 'LOC'),\n",
       "           Span(983, 991, 'LOC'),\n",
       "           Span(1095, 1102, 'LOC'),\n",
       "           Span(1139, 1147, 'LOC'),\n",
       "           Span(1182, 1187, 'LOC'),\n",
       "           Span(1188, 1211, 'LOC'),\n",
       "           Span(1260, 1268, 'PER')])"
      ]
     },
     "metadata": {},
     "output_type": "display_data"
    },
    {
     "name": "stdout",
     "output_type": "stream",
     "text": [
      "[(0, 6, 'LOC'), (18, 29, 'ORG'), (96, 109, 'LOC'), (131, 145, 'ORG'), (162, 164, 'ORG'), (165, 168, 'ORG'), (169, 175, 'LOC'), (179, 198, 'LOC'), (595, 607, 'LOC')]\n"
     ]
    },
    {
     "data": {
      "text/html": [
       "<div class=\"tex2jax_ignore\" style=\"white-space: pre-wrap\"><span style=\"padding: 2px; border-radius: 4px; border: 1px solid #c8e6c9; background: #e8f5e9\">Москва<span style=\"vertical-align: middle; margin-left: 2px; font-size: 0.7em; color: #66bb6a;\">LOC</span></span>. 2 января. <span style=\"padding: 2px; border-radius: 4px; border: 1px solid #ffcdd2; background: #ffebee\">INTERFAX.RU<span style=\"vertical-align: middle; margin-left: 2px; font-size: 0.7em; color: #e57373;\">ORG</span></span> - Тело 11 погибшего извлечено из-под завалов обрушившегося дома в <span style=\"padding: 2px; border-radius: 4px; border: 1px solid #c8e6c9; background: #e8f5e9\">Магнитогорске<span style=\"vertical-align: middle; margin-left: 2px; font-size: 0.7em; color: #66bb6a;\">LOC</span></span>, сообщили агентству \"<span style=\"padding: 2px; border-radius: 4px; border: 1px solid #ffcdd2; background: #ffebee\">Интерфакс-Урал<span style=\"vertical-align: middle; margin-left: 2px; font-size: 0.7em; color: #e57373;\">ORG</span></span>\" в пресс-службе <span style=\"padding: 2px; border-radius: 4px; border: 1px solid #ffcdd2; background: #ffebee\">ГУ<span style=\"vertical-align: middle; margin-left: 2px; font-size: 0.7em; color: #e57373;\">ORG</span></span> <span style=\"padding: 2px; border-radius: 4px; border: 1px solid #ffcdd2; background: #ffebee\">МЧС<span style=\"vertical-align: middle; margin-left: 2px; font-size: 0.7em; color: #e57373;\">ORG</span></span> <span style=\"padding: 2px; border-radius: 4px; border: 1px solid #c8e6c9; background: #e8f5e9\">России<span style=\"vertical-align: middle; margin-left: 2px; font-size: 0.7em; color: #66bb6a;\">LOC</span></span> по <span style=\"padding: 2px; border-radius: 4px; border: 1px solid #c8e6c9; background: #e8f5e9\">Челябинской области<span style=\"vertical-align: middle; margin-left: 2px; font-size: 0.7em; color: #66bb6a;\">LOC</span></span> в среду. \"Кто именно пока не уточняется\", - сказали в пресс-службе. Неизвестна судьба около трех десятков человек. Шесть человек находится в больницах, в том числе двое детей. ЧП произошло в минувший понедельник утром: в результате взрыва газа произошло обрушение одного из подъездов газифицированного панельного десятиэтажного 12-подъездного жилого дома (1973 год постройки) по адресу: проспект <span style=\"padding: 2px; border-radius: 4px; border: 1px solid #c8e6c9; background: #e8f5e9\">Карла Маркса<span style=\"vertical-align: middle; margin-left: 2px; font-size: 0.7em; color: #66bb6a;\">LOC</span></span>, 164.</div>"
      ],
      "text/plain": [
       "BoxMarkup('Москва. 2 января. INTERFAX.RU - Тело 11 погибшего извлечено из-под завалов обрушившегося дома в Магнитогорске, сообщили агентству \"Интерфакс-Урал\" в пресс-службе ГУ МЧС России по Челябинской области в среду. \"Кто именно пока не уточняется\", - сказали в пресс-службе. Неизвестна судьба около трех десятков человек. Шесть человек находится в больницах, в том числе двое детей. ЧП произошло в минувший понедельник утром: в результате взрыва газа произошло обрушение одного из подъездов газифицированного панельного десятиэтажного 12-подъездного жилого дома (1973 год постройки) по адресу: проспект Карла Маркса, 164.',\n",
       "          [Span(0, 6, 'LOC'),\n",
       "           Span(18, 29, 'ORG'),\n",
       "           Span(96, 109, 'LOC'),\n",
       "           Span(131, 145, 'ORG'),\n",
       "           Span(162, 164, 'ORG'),\n",
       "           Span(165, 168, 'ORG'),\n",
       "           Span(169, 175, 'LOC'),\n",
       "           Span(179, 198, 'LOC'),\n",
       "           Span(595, 607, 'LOC')])"
      ]
     },
     "metadata": {},
     "output_type": "display_data"
    },
    {
     "name": "stdout",
     "output_type": "stream",
     "text": [
      "[(0, 6, 'LOC'), (18, 29, 'ORG'), (43, 62, 'LOC'), (63, 79, 'PER'), (161, 174, 'LOC'), (510, 522, 'LOC')]\n"
     ]
    },
    {
     "data": {
      "text/html": [
       "<div class=\"tex2jax_ignore\" style=\"white-space: pre-wrap\"><span style=\"padding: 2px; border-radius: 4px; border: 1px solid #c8e6c9; background: #e8f5e9\">Москва<span style=\"vertical-align: middle; margin-left: 2px; font-size: 0.7em; color: #66bb6a;\">LOC</span></span>. 2 января. <span style=\"padding: 2px; border-radius: 4px; border: 1px solid #ffcdd2; background: #ffebee\">INTERFAX.RU<span style=\"vertical-align: middle; margin-left: 2px; font-size: 0.7em; color: #e57373;\">ORG</span></span> - Губернатор <span style=\"padding: 2px; border-radius: 4px; border: 1px solid #c8e6c9; background: #e8f5e9\">Челябинской области<span style=\"vertical-align: middle; margin-left: 2px; font-size: 0.7em; color: #66bb6a;\">LOC</span></span> <span style=\"padding: 2px; border-radius: 4px; border: 1px solid #bbdefb; background: #e3f2fd\">Борис Дубровский<span style=\"vertical-align: middle; margin-left: 2px; font-size: 0.7em; color: #64b5f6;\">PER</span></span> будет ежедневно проводить личный прием граждан в связи с обрушением части дома в <span style=\"padding: 2px; border-radius: 4px; border: 1px solid #c8e6c9; background: #e8f5e9\">Магнитогорске<span style=\"vertical-align: middle; margin-left: 2px; font-size: 0.7em; color: #66bb6a;\">LOC</span></span>, сообщает пресс-служба губернатора. \"Прием будет идти с 12 до 16 часов в школе 14\", - говорится в сообщении. ЧП произошло утром в минувший понедельник утром: в результате взрыва газа произошло обрушение одного из подъездов газифицированного панельного десятиэтажного 12-подъездного жилого дома (1973 год постройки) по адресу: проспект <span style=\"padding: 2px; border-radius: 4px; border: 1px solid #c8e6c9; background: #e8f5e9\">Карла Маркса<span style=\"vertical-align: middle; margin-left: 2px; font-size: 0.7em; color: #66bb6a;\">LOC</span></span>, 164.</div>"
      ],
      "text/plain": [
       "BoxMarkup('Москва. 2 января. INTERFAX.RU - Губернатор Челябинской области Борис Дубровский будет ежедневно проводить личный прием граждан в связи с обрушением части дома в Магнитогорске, сообщает пресс-служба губернатора. \"Прием будет идти с 12 до 16 часов в школе 14\", - говорится в сообщении. ЧП произошло утром в минувший понедельник утром: в результате взрыва газа произошло обрушение одного из подъездов газифицированного панельного десятиэтажного 12-подъездного жилого дома (1973 год постройки) по адресу: проспект Карла Маркса, 164.',\n",
       "          [Span(0, 6, 'LOC'),\n",
       "           Span(18, 29, 'ORG'),\n",
       "           Span(43, 62, 'LOC'),\n",
       "           Span(63, 79, 'PER'),\n",
       "           Span(161, 174, 'LOC'),\n",
       "           Span(510, 522, 'LOC')])"
      ]
     },
     "metadata": {},
     "output_type": "display_data"
    },
    {
     "name": "stdout",
     "output_type": "stream",
     "text": [
      "[(0, 6, 'LOC'), (18, 29, 'ORG'), (79, 92, 'LOC'), (126, 128, 'ORG'), (129, 132, 'ORG'), (133, 139, 'LOC'), (143, 162, 'LOC'), (673, 685, 'LOC')]\n"
     ]
    },
    {
     "data": {
      "text/html": [
       "<div class=\"tex2jax_ignore\" style=\"white-space: pre-wrap\"><span style=\"padding: 2px; border-radius: 4px; border: 1px solid #c8e6c9; background: #e8f5e9\">Москва<span style=\"vertical-align: middle; margin-left: 2px; font-size: 0.7em; color: #66bb6a;\">LOC</span></span>. 2 января. <span style=\"padding: 2px; border-radius: 4px; border: 1px solid #ffcdd2; background: #ffebee\">INTERFAX.RU<span style=\"vertical-align: middle; margin-left: 2px; font-size: 0.7em; color: #e57373;\">ORG</span></span> - Один из погибших в результате обрушения дома в <span style=\"padding: 2px; border-radius: 4px; border: 1px solid #c8e6c9; background: #e8f5e9\">Магнитогорске<span style=\"vertical-align: middle; margin-left: 2px; font-size: 0.7em; color: #66bb6a;\">LOC</span></span> - ребенок, сообщает пресс-служба <span style=\"padding: 2px; border-radius: 4px; border: 1px solid #ffcdd2; background: #ffebee\">ГУ<span style=\"vertical-align: middle; margin-left: 2px; font-size: 0.7em; color: #e57373;\">ORG</span></span> <span style=\"padding: 2px; border-radius: 4px; border: 1px solid #ffcdd2; background: #ffebee\">МЧС<span style=\"vertical-align: middle; margin-left: 2px; font-size: 0.7em; color: #e57373;\">ORG</span></span> <span style=\"padding: 2px; border-radius: 4px; border: 1px solid #c8e6c9; background: #e8f5e9\">России<span style=\"vertical-align: middle; margin-left: 2px; font-size: 0.7em; color: #66bb6a;\">LOC</span></span> по <span style=\"padding: 2px; border-radius: 4px; border: 1px solid #c8e6c9; background: #e8f5e9\">Челябинской области<span style=\"vertical-align: middle; margin-left: 2px; font-size: 0.7em; color: #66bb6a;\">LOC</span></span> в среду. \"11 человек погибли (в том числе 1 ребенок)\", - говорится в сообщении. Отмечается, что с момента начала поисково-спасательной операции из-под завалов извлечено 17 человек. Местонахождение еще 30 человек устанавливается. Шесть человек находится в больницах, в том числе двое детей. ЧП произошло в минувший понедельник утром: в результате взрыва газа произошло обрушение одного из подъездов газифицированного панельного десятиэтажного 12-подъездного жилого дома (1973 год постройки) по адресу: проспект <span style=\"padding: 2px; border-radius: 4px; border: 1px solid #c8e6c9; background: #e8f5e9\">Карла Маркса<span style=\"vertical-align: middle; margin-left: 2px; font-size: 0.7em; color: #66bb6a;\">LOC</span></span>, 164.</div>"
      ],
      "text/plain": [
       "BoxMarkup('Москва. 2 января. INTERFAX.RU - Один из погибших в результате обрушения дома в Магнитогорске - ребенок, сообщает пресс-служба ГУ МЧС России по Челябинской области в среду. \"11 человек погибли (в том числе 1 ребенок)\", - говорится в сообщении. Отмечается, что с момента начала поисково-спасательной операции из-под завалов извлечено 17 человек. Местонахождение еще 30 человек устанавливается. Шесть человек находится в больницах, в том числе двое детей. ЧП произошло в минувший понедельник утром: в результате взрыва газа произошло обрушение одного из подъездов газифицированного панельного десятиэтажного 12-подъездного жилого дома (1973 год постройки) по адресу: проспект Карла Маркса, 164.',\n",
       "          [Span(0, 6, 'LOC'),\n",
       "           Span(18, 29, 'ORG'),\n",
       "           Span(79, 92, 'LOC'),\n",
       "           Span(126, 128, 'ORG'),\n",
       "           Span(129, 132, 'ORG'),\n",
       "           Span(133, 139, 'LOC'),\n",
       "           Span(143, 162, 'LOC'),\n",
       "           Span(673, 685, 'LOC')])"
      ]
     },
     "metadata": {},
     "output_type": "display_data"
    },
    {
     "name": "stdout",
     "output_type": "stream",
     "text": [
      "[(0, 6, 'LOC'), (18, 29, 'ORG'), (107, 120, 'LOC'), (144, 146, 'ORG'), (147, 150, 'ORG'), (151, 157, 'LOC'), (161, 180, 'LOC'), (682, 694, 'LOC')]\n"
     ]
    },
    {
     "data": {
      "text/html": [
       "<div class=\"tex2jax_ignore\" style=\"white-space: pre-wrap\"><span style=\"padding: 2px; border-radius: 4px; border: 1px solid #c8e6c9; background: #e8f5e9\">Москва<span style=\"vertical-align: middle; margin-left: 2px; font-size: 0.7em; color: #66bb6a;\">LOC</span></span>. 2 января. <span style=\"padding: 2px; border-radius: 4px; border: 1px solid #ffcdd2; background: #ffebee\">INTERFAX.RU<span style=\"vertical-align: middle; margin-left: 2px; font-size: 0.7em; color: #e57373;\">ORG</span></span> - Спасатели устанавливают нахождение 30 человек после обрушения части дома в <span style=\"padding: 2px; border-radius: 4px; border: 1px solid #c8e6c9; background: #e8f5e9\">Магнитогорске<span style=\"vertical-align: middle; margin-left: 2px; font-size: 0.7em; color: #66bb6a;\">LOC</span></span>, сообщает пресс-служба <span style=\"padding: 2px; border-radius: 4px; border: 1px solid #ffcdd2; background: #ffebee\">ГУ<span style=\"vertical-align: middle; margin-left: 2px; font-size: 0.7em; color: #e57373;\">ORG</span></span> <span style=\"padding: 2px; border-radius: 4px; border: 1px solid #ffcdd2; background: #ffebee\">МЧС<span style=\"vertical-align: middle; margin-left: 2px; font-size: 0.7em; color: #e57373;\">ORG</span></span> <span style=\"padding: 2px; border-radius: 4px; border: 1px solid #c8e6c9; background: #e8f5e9\">России<span style=\"vertical-align: middle; margin-left: 2px; font-size: 0.7em; color: #66bb6a;\">LOC</span></span> по <span style=\"padding: 2px; border-radius: 4px; border: 1px solid #c8e6c9; background: #e8f5e9\">Челябинской области<span style=\"vertical-align: middle; margin-left: 2px; font-size: 0.7em; color: #66bb6a;\">LOC</span></span> в среду. \"Проводится работа по установлению местонахождения еще 30 человек\", - говорится в сообщении. Ранее сообщалось, что из-под завалов с момента начала поисково-спасательной операции извлечено 17 человек 11 человек погибло, шесть находится в больницах, в том числе двое детей. ЧП произошло в минувший понедельник утром: в результате взрыва газа произошло обрушение одного из подъездов газифицированного панельного десятиэтажного 12-подъездного жилого дома (1973 год постройки) по адресу: проспект <span style=\"padding: 2px; border-radius: 4px; border: 1px solid #c8e6c9; background: #e8f5e9\">Карла Маркса<span style=\"vertical-align: middle; margin-left: 2px; font-size: 0.7em; color: #66bb6a;\">LOC</span></span>, 164.</div>"
      ],
      "text/plain": [
       "BoxMarkup('Москва. 2 января. INTERFAX.RU - Спасатели устанавливают нахождение 30 человек после обрушения части дома в Магнитогорске, сообщает пресс-служба ГУ МЧС России по Челябинской области в среду. \"Проводится работа по установлению местонахождения еще 30 человек\", - говорится в сообщении. Ранее сообщалось, что из-под завалов с момента начала поисково-спасательной операции извлечено 17 человек 11 человек погибло, шесть находится в больницах, в том числе двое детей. ЧП произошло в минувший понедельник утром: в результате взрыва газа произошло обрушение одного из подъездов газифицированного панельного десятиэтажного 12-подъездного жилого дома (1973 год постройки) по адресу: проспект Карла Маркса, 164.',\n",
       "          [Span(0, 6, 'LOC'),\n",
       "           Span(18, 29, 'ORG'),\n",
       "           Span(107, 120, 'LOC'),\n",
       "           Span(144, 146, 'ORG'),\n",
       "           Span(147, 150, 'ORG'),\n",
       "           Span(151, 157, 'LOC'),\n",
       "           Span(161, 180, 'LOC'),\n",
       "           Span(682, 694, 'LOC')])"
      ]
     },
     "metadata": {},
     "output_type": "display_data"
    },
    {
     "name": "stdout",
     "output_type": "stream",
     "text": [
      "[(0, 6, 'LOC'), (18, 29, 'ORG'), (70, 73, 'LOC'), (130, 143, 'LOC'), (167, 169, 'ORG'), (170, 173, 'ORG'), (174, 180, 'LOC'), (184, 203, 'LOC'), (333, 336, 'LOC'), (619, 631, 'LOC')]\n"
     ]
    },
    {
     "data": {
      "text/html": [
       "<div class=\"tex2jax_ignore\" style=\"white-space: pre-wrap\"><span style=\"padding: 2px; border-radius: 4px; border: 1px solid #c8e6c9; background: #e8f5e9\">Москва<span style=\"vertical-align: middle; margin-left: 2px; font-size: 0.7em; color: #66bb6a;\">LOC</span></span>. 2 января. <span style=\"padding: 2px; border-radius: 4px; border: 1px solid #ffcdd2; background: #ffebee\">INTERFAX.RU<span style=\"vertical-align: middle; margin-left: 2px; font-size: 0.7em; color: #e57373;\">ORG</span></span> - Экскаватор с гидроножницами прибыл из <span style=\"padding: 2px; border-radius: 4px; border: 1px solid #c8e6c9; background: #e8f5e9\">Уфы<span style=\"vertical-align: middle; margin-left: 2px; font-size: 0.7em; color: #66bb6a;\">LOC</span></span> для разбора завалов в результате обрушения части дома в <span style=\"padding: 2px; border-radius: 4px; border: 1px solid #c8e6c9; background: #e8f5e9\">Магнитогорске<span style=\"vertical-align: middle; margin-left: 2px; font-size: 0.7em; color: #66bb6a;\">LOC</span></span>, сообщает пресс-служба <span style=\"padding: 2px; border-radius: 4px; border: 1px solid #ffcdd2; background: #ffebee\">ГУ<span style=\"vertical-align: middle; margin-left: 2px; font-size: 0.7em; color: #e57373;\">ORG</span></span> <span style=\"padding: 2px; border-radius: 4px; border: 1px solid #ffcdd2; background: #ffebee\">МЧС<span style=\"vertical-align: middle; margin-left: 2px; font-size: 0.7em; color: #e57373;\">ORG</span></span> <span style=\"padding: 2px; border-radius: 4px; border: 1px solid #c8e6c9; background: #e8f5e9\">России<span style=\"vertical-align: middle; margin-left: 2px; font-size: 0.7em; color: #66bb6a;\">LOC</span></span> по <span style=\"padding: 2px; border-radius: 4px; border: 1px solid #c8e6c9; background: #e8f5e9\">Челябинской области<span style=\"vertical-align: middle; margin-left: 2px; font-size: 0.7em; color: #66bb6a;\">LOC</span></span> в среду. \"Работы по разбору завалов и поиску людей выполняются в четыре смены, по два часа. Дополнительно для разбора завалов из <span style=\"padding: 2px; border-radius: 4px; border: 1px solid #c8e6c9; background: #e8f5e9\">Уфы<span style=\"vertical-align: middle; margin-left: 2px; font-size: 0.7em; color: #66bb6a;\">LOC</span></span> прибыл экскаватор с гидроножницами\", - говорится в сообщении. ЧП произошло в минувший понедельник утром: в результате взрыва газа произошло обрушение одного из подъездов газифицированного панельного десятиэтажного 12-подъездного жилого дома (1973 год постройки) по адресу: проспект <span style=\"padding: 2px; border-radius: 4px; border: 1px solid #c8e6c9; background: #e8f5e9\">Карла Маркса<span style=\"vertical-align: middle; margin-left: 2px; font-size: 0.7em; color: #66bb6a;\">LOC</span></span>, 164.</div>"
      ],
      "text/plain": [
       "BoxMarkup('Москва. 2 января. INTERFAX.RU - Экскаватор с гидроножницами прибыл из Уфы для разбора завалов в результате обрушения части дома в Магнитогорске, сообщает пресс-служба ГУ МЧС России по Челябинской области в среду. \"Работы по разбору завалов и поиску людей выполняются в четыре смены, по два часа. Дополнительно для разбора завалов из Уфы прибыл экскаватор с гидроножницами\", - говорится в сообщении. ЧП произошло в минувший понедельник утром: в результате взрыва газа произошло обрушение одного из подъездов газифицированного панельного десятиэтажного 12-подъездного жилого дома (1973 год постройки) по адресу: проспект Карла Маркса, 164.',\n",
       "          [Span(0, 6, 'LOC'),\n",
       "           Span(18, 29, 'ORG'),\n",
       "           Span(70, 73, 'LOC'),\n",
       "           Span(130, 143, 'LOC'),\n",
       "           Span(167, 169, 'ORG'),\n",
       "           Span(170, 173, 'ORG'),\n",
       "           Span(174, 180, 'LOC'),\n",
       "           Span(184, 203, 'LOC'),\n",
       "           Span(333, 336, 'LOC'),\n",
       "           Span(619, 631, 'LOC')])"
      ]
     },
     "metadata": {},
     "output_type": "display_data"
    },
    {
     "name": "stdout",
     "output_type": "stream",
     "text": [
      "[(0, 6, 'LOC'), (18, 29, 'ORG'), (215, 217, 'ORG'), (218, 221, 'ORG'), (222, 228, 'LOC'), (232, 251, 'LOC'), (394, 449, 'ORG'), (721, 733, 'LOC')]\n"
     ]
    },
    {
     "data": {
      "text/html": [
       "<div class=\"tex2jax_ignore\" style=\"white-space: pre-wrap\"><span style=\"padding: 2px; border-radius: 4px; border: 1px solid #c8e6c9; background: #e8f5e9\">Москва<span style=\"vertical-align: middle; margin-left: 2px; font-size: 0.7em; color: #66bb6a;\">LOC</span></span>. 2 января. <span style=\"padding: 2px; border-radius: 4px; border: 1px solid #ffcdd2; background: #ffebee\">INTERFAX.RU<span style=\"vertical-align: middle; margin-left: 2px; font-size: 0.7em; color: #e57373;\">ORG</span></span> - Специалисты обследовали строительные конструкции 11 подъездов дома, где произошло частичное обрушение, с помощью мобильного диагностического комплекса \"Струна\", сообщает пресс-служба <span style=\"padding: 2px; border-radius: 4px; border: 1px solid #ffcdd2; background: #ffebee\">ГУ<span style=\"vertical-align: middle; margin-left: 2px; font-size: 0.7em; color: #e57373;\">ORG</span></span> <span style=\"padding: 2px; border-radius: 4px; border: 1px solid #ffcdd2; background: #ffebee\">МЧС<span style=\"vertical-align: middle; margin-left: 2px; font-size: 0.7em; color: #e57373;\">ORG</span></span> <span style=\"padding: 2px; border-radius: 4px; border: 1px solid #c8e6c9; background: #e8f5e9\">России<span style=\"vertical-align: middle; margin-left: 2px; font-size: 0.7em; color: #66bb6a;\">LOC</span></span> по <span style=\"padding: 2px; border-radius: 4px; border: 1px solid #c8e6c9; background: #e8f5e9\">Челябинской области<span style=\"vertical-align: middle; margin-left: 2px; font-size: 0.7em; color: #66bb6a;\">LOC</span></span> в среду. \"При помощи мобильного диагностического комплекса \"Струна\" проведено обследование строительных конструкций 11 подъездов. Специалисты <span style=\"padding: 2px; border-radius: 4px; border: 1px solid #ffcdd2; background: #ffebee\">Всероссийского научно-исследовательского института ГОЧС<span style=\"vertical-align: middle; margin-left: 2px; font-size: 0.7em; color: #e57373;\">ORG</span></span> обрабатывают результаты\", - говорится в сообщении. ЧП произошло в минувший понедельник утром: в результате взрыва газа произошло обрушение одного из подъездов газифицированного панельного десятиэтажного 12-подъездного жилого дома (1973 год постройки) по адресу: проспект <span style=\"padding: 2px; border-radius: 4px; border: 1px solid #c8e6c9; background: #e8f5e9\">Карла Маркса<span style=\"vertical-align: middle; margin-left: 2px; font-size: 0.7em; color: #66bb6a;\">LOC</span></span>, 164.</div>"
      ],
      "text/plain": [
       "BoxMarkup('Москва. 2 января. INTERFAX.RU - Специалисты обследовали строительные конструкции 11 подъездов дома, где произошло частичное обрушение, с помощью мобильного диагностического комплекса \"Струна\", сообщает пресс-служба ГУ МЧС России по Челябинской области в среду. \"При помощи мобильного диагностического комплекса \"Струна\" проведено обследование строительных конструкций 11 подъездов. Специалисты Всероссийского научно-исследовательского института ГОЧС обрабатывают результаты\", - говорится в сообщении. ЧП произошло в минувший понедельник утром: в результате взрыва газа произошло обрушение одного из подъездов газифицированного панельного десятиэтажного 12-подъездного жилого дома (1973 год постройки) по адресу: проспект Карла Маркса, 164.',\n",
       "          [Span(0, 6, 'LOC'),\n",
       "           Span(18, 29, 'ORG'),\n",
       "           Span(215, 217, 'ORG'),\n",
       "           Span(218, 221, 'ORG'),\n",
       "           Span(222, 228, 'LOC'),\n",
       "           Span(232, 251, 'LOC'),\n",
       "           Span(394, 449, 'ORG'),\n",
       "           Span(721, 733, 'LOC')])"
      ]
     },
     "metadata": {},
     "output_type": "display_data"
    },
    {
     "name": "stdout",
     "output_type": "stream",
     "text": [
      "[(0, 6, 'LOC'), (18, 29, 'ORG'), (113, 126, 'LOC'), (165, 174, 'ORG'), (175, 194, 'LOC'), (265, 278, 'LOC'), (446, 452, 'LOC')]\n"
     ]
    },
    {
     "data": {
      "text/html": [
       "<div class=\"tex2jax_ignore\" style=\"white-space: pre-wrap\"><span style=\"padding: 2px; border-radius: 4px; border: 1px solid #c8e6c9; background: #e8f5e9\">Москва<span style=\"vertical-align: middle; margin-left: 2px; font-size: 0.7em; color: #66bb6a;\">LOC</span></span>. 2 января. <span style=\"padding: 2px; border-radius: 4px; border: 1px solid #ffcdd2; background: #ffebee\">INTERFAX.RU<span style=\"vertical-align: middle; margin-left: 2px; font-size: 0.7em; color: #e57373;\">ORG</span></span> - Медики оценивают состояние пяти пострадавших в результате обрушения части дома в <span style=\"padding: 2px; border-radius: 4px; border: 1px solid #c8e6c9; background: #e8f5e9\">Магнитогорске<span style=\"vertical-align: middle; margin-left: 2px; font-size: 0.7em; color: #66bb6a;\">LOC</span></span> как стабильное, сообщает пресс-служба <span style=\"padding: 2px; border-radius: 4px; border: 1px solid #ffcdd2; background: #ffebee\">Минздрава<span style=\"vertical-align: middle; margin-left: 2px; font-size: 0.7em; color: #e57373;\">ORG</span></span> <span style=\"padding: 2px; border-radius: 4px; border: 1px solid #c8e6c9; background: #e8f5e9\">Челябинской области<span style=\"vertical-align: middle; margin-left: 2px; font-size: 0.7em; color: #66bb6a;\">LOC</span></span>. \"Пять госпитализированных пострадавших, которые остались в больницах <span style=\"padding: 2px; border-radius: 4px; border: 1px solid #c8e6c9; background: #e8f5e9\">Магнитогорска<span style=\"vertical-align: middle; margin-left: 2px; font-size: 0.7em; color: #66bb6a;\">LOC</span></span>, стабильны, без отрицательной динамики\", - говорится в сообщении. Отмечается, что во вторник к медикам поступило 14 обращений. Один из них - ребенок, эвакуированный в <span style=\"padding: 2px; border-radius: 4px; border: 1px solid #c8e6c9; background: #e8f5e9\">Москву<span style=\"vertical-align: middle; margin-left: 2px; font-size: 0.7em; color: #66bb6a;\">LOC</span></span>. \"12 - в штабе школы N14, к бригаде скорой помощи и в медпункт, госпитализация не потребовалась\", - уточняется в сообщении. На месте ЧП круглосуточно дежурят две бригады скорой помощи.</div>"
      ],
      "text/plain": [
       "BoxMarkup('Москва. 2 января. INTERFAX.RU - Медики оценивают состояние пяти пострадавших в результате обрушения части дома в Магнитогорске как стабильное, сообщает пресс-служба Минздрава Челябинской области. \"Пять госпитализированных пострадавших, которые остались в больницах Магнитогорска, стабильны, без отрицательной динамики\", - говорится в сообщении. Отмечается, что во вторник к медикам поступило 14 обращений. Один из них - ребенок, эвакуированный в Москву. \"12 - в штабе школы N14, к бригаде скорой помощи и в медпункт, госпитализация не потребовалась\", - уточняется в сообщении. На месте ЧП круглосуточно дежурят две бригады скорой помощи.',\n",
       "          [Span(0, 6, 'LOC'),\n",
       "           Span(18, 29, 'ORG'),\n",
       "           Span(113, 126, 'LOC'),\n",
       "           Span(165, 174, 'ORG'),\n",
       "           Span(175, 194, 'LOC'),\n",
       "           Span(265, 278, 'LOC'),\n",
       "           Span(446, 452, 'LOC')])"
      ]
     },
     "metadata": {},
     "output_type": "display_data"
    },
    {
     "name": "stdout",
     "output_type": "stream",
     "text": [
      "[(0, 6, 'LOC'), (18, 29, 'ORG'), (42, 55, 'LOC'), (56, 81, 'PER'), (117, 137, 'LOC'), (138, 154, 'PER'), (170, 183, 'ORG'), (184, 186, 'LOC'), (187, 204, 'PER'), (249, 262, 'LOC'), (315, 355, 'ORG'), (364, 380, 'PER'), (413, 426, 'LOC')]\n"
     ]
    },
    {
     "data": {
      "text/html": [
       "<div class=\"tex2jax_ignore\" style=\"white-space: pre-wrap\"><span style=\"padding: 2px; border-radius: 4px; border: 1px solid #c8e6c9; background: #e8f5e9\">Москва<span style=\"vertical-align: middle; margin-left: 2px; font-size: 0.7em; color: #66bb6a;\">LOC</span></span>. 2 января. <span style=\"padding: 2px; border-radius: 4px; border: 1px solid #ffcdd2; background: #ffebee\">INTERFAX.RU<span style=\"vertical-align: middle; margin-left: 2px; font-size: 0.7em; color: #e57373;\">ORG</span></span> - Президент <span style=\"padding: 2px; border-radius: 4px; border: 1px solid #c8e6c9; background: #e8f5e9\">Туркменистана<span style=\"vertical-align: middle; margin-left: 2px; font-size: 0.7em; color: #66bb6a;\">LOC</span></span> <span style=\"padding: 2px; border-radius: 4px; border: 1px solid #bbdefb; background: #e3f2fd\">Гурбангулы Бердымухамедов<span style=\"vertical-align: middle; margin-left: 2px; font-size: 0.7em; color: #64b5f6;\">PER</span></span> направил соболезнования президенту <span style=\"padding: 2px; border-radius: 4px; border: 1px solid #c8e6c9; background: #e8f5e9\">Российской Федерации<span style=\"vertical-align: middle; margin-left: 2px; font-size: 0.7em; color: #66bb6a;\">LOC</span></span> <span style=\"padding: 2px; border-radius: 4px; border: 1px solid #bbdefb; background: #e3f2fd\">Владимиру Путину<span style=\"vertical-align: middle; margin-left: 2px; font-size: 0.7em; color: #64b5f6;\">PER</span></span> и председателю <span style=\"padding: 2px; border-radius: 4px; border: 1px solid #ffcdd2; background: #ffebee\">Правительства<span style=\"vertical-align: middle; margin-left: 2px; font-size: 0.7em; color: #e57373;\">ORG</span></span> <span style=\"padding: 2px; border-radius: 4px; border: 1px solid #c8e6c9; background: #e8f5e9\">РФ<span style=\"vertical-align: middle; margin-left: 2px; font-size: 0.7em; color: #66bb6a;\">LOC</span></span> <span style=\"padding: 2px; border-radius: 4px; border: 1px solid #bbdefb; background: #e3f2fd\">Дмитрию Медведеву<span style=\"vertical-align: middle; margin-left: 2px; font-size: 0.7em; color: #64b5f6;\">PER</span></span> в связи с обрушением подъезда жилого дома в <span style=\"padding: 2px; border-radius: 4px; border: 1px solid #c8e6c9; background: #e8f5e9\">Магнитогорске<span style=\"vertical-align: middle; margin-left: 2px; font-size: 0.7em; color: #66bb6a;\">LOC</span></span>, в результате которого погибли 11 человек, сообщает <span style=\"padding: 2px; border-radius: 4px; border: 1px solid #ffcdd2; background: #ffebee\">Государственное информационное агентство<span style=\"vertical-align: middle; margin-left: 2px; font-size: 0.7em; color: #e57373;\">ORG</span></span> страны. <span style=\"padding: 2px; border-radius: 4px; border: 1px solid #bbdefb; background: #e3f2fd\">Г.Бердымухамедов<span style=\"vertical-align: middle; margin-left: 2px; font-size: 0.7em; color: #64b5f6;\">PER</span></span> от имени народа и правительства <span style=\"padding: 2px; border-radius: 4px; border: 1px solid #c8e6c9; background: #e8f5e9\">Туркменистана<span style=\"vertical-align: middle; margin-left: 2px; font-size: 0.7em; color: #66bb6a;\">LOC</span></span> пожелал скорейшего выздоровления пострадавшим, а также передал слова сопереживания и поддержки родным и близким погибших.</div>"
      ],
      "text/plain": [
       "BoxMarkup('Москва. 2 января. INTERFAX.RU - Президент Туркменистана Гурбангулы Бердымухамедов направил соболезнования президенту Российской Федерации Владимиру Путину и председателю Правительства РФ Дмитрию Медведеву в связи с обрушением подъезда жилого дома в Магнитогорске, в результате которого погибли 11 человек, сообщает Государственное информационное агентство страны. Г.Бердымухамедов от имени народа и правительства Туркменистана пожелал скорейшего выздоровления пострадавшим, а также передал слова сопереживания и поддержки родным и близким погибших.',\n",
       "          [Span(0, 6, 'LOC'),\n",
       "           Span(18, 29, 'ORG'),\n",
       "           Span(42, 55, 'LOC'),\n",
       "           Span(56, 81, 'PER'),\n",
       "           Span(117, 137, 'LOC'),\n",
       "           Span(138, 154, 'PER'),\n",
       "           Span(170, 183, 'ORG'),\n",
       "           Span(184, 186, 'LOC'),\n",
       "           Span(187, 204, 'PER'),\n",
       "           Span(249, 262, 'LOC'),\n",
       "           Span(315, 355, 'ORG'),\n",
       "           Span(364, 380, 'PER'),\n",
       "           Span(413, 426, 'LOC')])"
      ]
     },
     "metadata": {},
     "output_type": "display_data"
    },
    {
     "name": "stdout",
     "output_type": "stream",
     "text": [
      "[(0, 6, 'LOC'), (18, 29, 'ORG'), (122, 138, 'LOC'), (164, 186, 'ORG'), (187, 189, 'LOC'), (232, 239, 'LOC'), (240, 259, 'LOC'), (305, 318, 'LOC'), (568, 584, 'LOC'), (627, 629, 'LOC'), (850, 852, 'ORG')]\n"
     ]
    },
    {
     "data": {
      "text/html": [
       "<div class=\"tex2jax_ignore\" style=\"white-space: pre-wrap\"><span style=\"padding: 2px; border-radius: 4px; border: 1px solid #c8e6c9; background: #e8f5e9\">Москва<span style=\"vertical-align: middle; margin-left: 2px; font-size: 0.7em; color: #66bb6a;\">LOC</span></span>. 2 января. <span style=\"padding: 2px; border-radius: 4px; border: 1px solid #ffcdd2; background: #ffebee\">INTERFAX.RU<span style=\"vertical-align: middle; margin-left: 2px; font-size: 0.7em; color: #e57373;\">ORG</span></span> - Следователи возбудили уголовное дело после гибели троих детей после пожара в жилом доме в <span style=\"padding: 2px; border-radius: 4px; border: 1px solid #c8e6c9; background: #e8f5e9\">Брянской области<span style=\"vertical-align: middle; margin-left: 2px; font-size: 0.7em; color: #66bb6a;\">LOC</span></span>, сообщили в пресс-службе <span style=\"padding: 2px; border-radius: 4px; border: 1px solid #ffcdd2; background: #ffebee\">Следственного комитета<span style=\"vertical-align: middle; margin-left: 2px; font-size: 0.7em; color: #e57373;\">ORG</span></span> <span style=\"padding: 2px; border-radius: 4px; border: 1px solid #c8e6c9; background: #e8f5e9\">РФ<span style=\"vertical-align: middle; margin-left: 2px; font-size: 0.7em; color: #66bb6a;\">LOC</span></span>. \"В ночь с 1 на 2 января 2019 года в селе <span style=\"padding: 2px; border-radius: 4px; border: 1px solid #c8e6c9; background: #e8f5e9\">Бережок<span style=\"vertical-align: middle; margin-left: 2px; font-size: 0.7em; color: #66bb6a;\">LOC</span></span> <span style=\"padding: 2px; border-radius: 4px; border: 1px solid #c8e6c9; background: #e8f5e9\">Карачевского района<span style=\"vertical-align: middle; margin-left: 2px; font-size: 0.7em; color: #66bb6a;\">LOC</span></span> в результате возгорания жилого дома на улице <span style=\"padding: 2px; border-radius: 4px; border: 1px solid #c8e6c9; background: #e8f5e9\">Магистральной<span style=\"vertical-align: middle; margin-left: 2px; font-size: 0.7em; color: #66bb6a;\">LOC</span></span>, в котором проживала многодетная семья, погибло трое детей. Их родители и 2-летняя сестра находятся в больнице\", - говорится в сообщении пресс-службы, опубликованном на сайте ведомства. По факту произошедшего следователи следственного управления по <span style=\"padding: 2px; border-radius: 4px; border: 1px solid #c8e6c9; background: #e8f5e9\">Брянской области<span style=\"vertical-align: middle; margin-left: 2px; font-size: 0.7em; color: #66bb6a;\">LOC</span></span> возбудили уголовное дело по ч.3 ст.109 УК <span style=\"padding: 2px; border-radius: 4px; border: 1px solid #c8e6c9; background: #e8f5e9\">РФ<span style=\"vertical-align: middle; margin-left: 2px; font-size: 0.7em; color: #66bb6a;\">LOC</span></span> (причинение смерти двух и более лиц по неосторожности). Выясняются все обстоятельство происшедшего. В рамках расследования будут проведены необходимые экспертизы для установления причин пожара и гибели детей, добавили в <span style=\"padding: 2px; border-radius: 4px; border: 1px solid #ffcdd2; background: #ffebee\">СК<span style=\"vertical-align: middle; margin-left: 2px; font-size: 0.7em; color: #e57373;\">ORG</span></span>.</div>"
      ],
      "text/plain": [
       "BoxMarkup('Москва. 2 января. INTERFAX.RU - Следователи возбудили уголовное дело после гибели троих детей после пожара в жилом доме в Брянской области, сообщили в пресс-службе Следственного комитета РФ. \"В ночь с 1 на 2 января 2019 года в селе Бережок Карачевского района в результате возгорания жилого дома на улице Магистральной, в котором проживала многодетная семья, погибло трое детей. Их родители и 2-летняя сестра находятся в больнице\", - говорится в сообщении пресс-службы, опубликованном на сайте ведомства. По факту произошедшего следователи следственного управления по Брянской области возбудили уголовное дело по ч.3 ст.109 УК РФ (причинение смерти двух и более лиц по неосторожности). Выясняются все обстоятельство происшедшего. В рамках расследования будут проведены необходимые экспертизы для установления причин пожара и гибели детей, добавили в СК.',\n",
       "          [Span(0, 6, 'LOC'),\n",
       "           Span(18, 29, 'ORG'),\n",
       "           Span(122, 138, 'LOC'),\n",
       "           Span(164, 186, 'ORG'),\n",
       "           Span(187, 189, 'LOC'),\n",
       "           Span(232, 239, 'LOC'),\n",
       "           Span(240, 259, 'LOC'),\n",
       "           Span(305, 318, 'LOC'),\n",
       "           Span(568, 584, 'LOC'),\n",
       "           Span(627, 629, 'LOC'),\n",
       "           Span(850, 852, 'ORG')])"
      ]
     },
     "metadata": {},
     "output_type": "display_data"
    },
    {
     "name": "stdout",
     "output_type": "stream",
     "text": [
      "[(0, 6, 'LOC'), (18, 29, 'ORG'), (69, 75, 'LOC'), (216, 230, 'ORG'), (358, 362, 'ORG'), (377, 383, 'LOC'), (461, 467, 'LOC'), (723, 729, 'LOC')]\n"
     ]
    },
    {
     "data": {
      "text/html": [
       "<div class=\"tex2jax_ignore\" style=\"white-space: pre-wrap\"><span style=\"padding: 2px; border-radius: 4px; border: 1px solid #c8e6c9; background: #e8f5e9\">Москва<span style=\"vertical-align: middle; margin-left: 2px; font-size: 0.7em; color: #66bb6a;\">LOC</span></span>. 2 января. <span style=\"padding: 2px; border-radius: 4px; border: 1px solid #ffcdd2; background: #ffebee\">INTERFAX.RU<span style=\"vertical-align: middle; margin-left: 2px; font-size: 0.7em; color: #e57373;\">ORG</span></span> - Добыча нефти с газовым конденсатом в <span style=\"padding: 2px; border-radius: 4px; border: 1px solid #c8e6c9; background: #e8f5e9\">России<span style=\"vertical-align: middle; margin-left: 2px; font-size: 0.7em; color: #66bb6a;\">LOC</span></span> в декабре 2018 года составила 48,44 млн тонн, что на 4,5% выше уровня аналогичного месяца предыдущего года, сообщается в оперативной сводке <span style=\"padding: 2px; border-radius: 4px; border: 1px solid #ffcdd2; background: #ffebee\">ФГБУ \"ЦДУ ТЭК\"<span style=\"vertical-align: middle; margin-left: 2px; font-size: 0.7em; color: #e57373;\">ORG</span></span>. По сравнению с октябрем 2018 года, который был взят в качестве отправной точки для сокращения нефтедобычи в рамках соглашения <span style=\"padding: 2px; border-radius: 4px; border: 1px solid #ffcdd2; background: #ffebee\">ОПЕК<span style=\"vertical-align: middle; margin-left: 2px; font-size: 0.7em; color: #e57373;\">ORG</span></span>+, ее добыча в <span style=\"padding: 2px; border-radius: 4px; border: 1px solid #c8e6c9; background: #e8f5e9\">России<span style=\"vertical-align: middle; margin-left: 2px; font-size: 0.7em; color: #66bb6a;\">LOC</span></span> повысилась на 0,3%. В целом за 2018 год добыча нефти с газовым конденсатом в <span style=\"padding: 2px; border-radius: 4px; border: 1px solid #c8e6c9; background: #e8f5e9\">России<span style=\"vertical-align: middle; margin-left: 2px; font-size: 0.7em; color: #66bb6a;\">LOC</span></span> составила 555,84 млн тонн, что на 1,6% выше показателя за аналогичный период 2017 года. Экспорт российского нефтяного сырья в страны дальнего зарубежья в 2018 году повысился на 0,3% по сравнению с 2017 годом, составив 239,64 млн тонн. Объем добычи газа в <span style=\"padding: 2px; border-radius: 4px; border: 1px solid #c8e6c9; background: #e8f5e9\">России<span style=\"vertical-align: middle; margin-left: 2px; font-size: 0.7em; color: #66bb6a;\">LOC</span></span> в декабре составил 67,04 млрд куб. м, увеличившись на 4,6% относительно того же месяца прошлого года. В целом за 2018 год по сравнению с аналогичным периодом 2017 года добыча газа выросла на 4,9% и составила 725,17 млрд куб. м.</div>"
      ],
      "text/plain": [
       "BoxMarkup('Москва. 2 января. INTERFAX.RU - Добыча нефти с газовым конденсатом в России в декабре 2018 года составила 48,44 млн тонн, что на 4,5% выше уровня аналогичного месяца предыдущего года, сообщается в оперативной сводке ФГБУ \"ЦДУ ТЭК\". По сравнению с октябрем 2018 года, который был взят в качестве отправной точки для сокращения нефтедобычи в рамках соглашения ОПЕК+, ее добыча в России повысилась на 0,3%. В целом за 2018 год добыча нефти с газовым конденсатом в России составила 555,84 млн тонн, что на 1,6% выше показателя за аналогичный период 2017 года. Экспорт российского нефтяного сырья в страны дальнего зарубежья в 2018 году повысился на 0,3% по сравнению с 2017 годом, составив 239,64 млн тонн. Объем добычи газа в России в декабре составил 67,04 млрд куб. м, увеличившись на 4,6% относительно того же месяца прошлого года. В целом за 2018 год по сравнению с аналогичным периодом 2017 года добыча газа выросла на 4,9% и составила 725,17 млрд куб. м.',\n",
       "          [Span(0, 6, 'LOC'),\n",
       "           Span(18, 29, 'ORG'),\n",
       "           Span(69, 75, 'LOC'),\n",
       "           Span(216, 230, 'ORG'),\n",
       "           Span(358, 362, 'ORG'),\n",
       "           Span(377, 383, 'LOC'),\n",
       "           Span(461, 467, 'LOC'),\n",
       "           Span(723, 729, 'LOC')])"
      ]
     },
     "metadata": {},
     "output_type": "display_data"
    },
    {
     "name": "stdout",
     "output_type": "stream",
     "text": [
      "[(0, 6, 'LOC'), (18, 29, 'ORG'), (75, 81, 'LOC'), (198, 212, 'ORG'), (302, 308, 'LOC'), (534, 538, 'ORG'), (550, 556, 'LOC'), (643, 656, 'ORG'), (726, 732, 'ORG'), (768, 782, 'ORG'), (819, 832, 'ORG'), (869, 877, 'ORG'), (914, 922, 'ORG'), (958, 967, 'ORG'), (1004, 1011, 'ORG'), (1049, 1058, 'ORG'), (1103, 1111, 'ORG'), (1113, 1120, 'ORG'), (1159, 1167, 'ORG'), (1282, 1289, 'ORG'), (1461, 1469, 'ORG'), (1471, 1478, 'ORG'), (1502, 1505, 'ORG')]\n"
     ]
    },
    {
     "data": {
      "text/html": [
       "<div class=\"tex2jax_ignore\" style=\"white-space: pre-wrap\"><span style=\"padding: 2px; border-radius: 4px; border: 1px solid #c8e6c9; background: #e8f5e9\">Москва<span style=\"vertical-align: middle; margin-left: 2px; font-size: 0.7em; color: #66bb6a;\">LOC</span></span>. 2 января. <span style=\"padding: 2px; border-radius: 4px; border: 1px solid #ffcdd2; background: #ffebee\">INTERFAX.RU<span style=\"vertical-align: middle; margin-left: 2px; font-size: 0.7em; color: #e57373;\">ORG</span></span> - Объем добычи нефти и газового конденсата в <span style=\"padding: 2px; border-radius: 4px; border: 1px solid #c8e6c9; background: #e8f5e9\">России<span style=\"vertical-align: middle; margin-left: 2px; font-size: 0.7em; color: #66bb6a;\">LOC</span></span> в 2018 году повысился на 1,6% по сравнению с 2017 годом и составил 555,84 млн тонн, сообщается в оперативной сводке <span style=\"padding: 2px; border-radius: 4px; border: 1px solid #ffcdd2; background: #ffebee\">ФГБУ \"ЦДУ ТЭК\"<span style=\"vertical-align: middle; margin-left: 2px; font-size: 0.7em; color: #e57373;\">ORG</span></span>. Среднесуточная добыча зафиксирована на уровне 11,16 млн баррелей. В декабре 2018 года в <span style=\"padding: 2px; border-radius: 4px; border: 1px solid #c8e6c9; background: #e8f5e9\">России<span style=\"vertical-align: middle; margin-left: 2px; font-size: 0.7em; color: #66bb6a;\">LOC</span></span> добыто 48,44 млн тонн нефти с газовым конденсатом, что на 4,5% выше показателя декабря 2017 года. По сравнению с октябрем 2018 года, который был взят в качестве отправной точки для сокращения добычи нефти в рамках соглашения <span style=\"padding: 2px; border-radius: 4px; border: 1px solid #ffcdd2; background: #ffebee\">ОПЕК<span style=\"vertical-align: middle; margin-left: 2px; font-size: 0.7em; color: #e57373;\">ORG</span></span>+, добыча в <span style=\"padding: 2px; border-radius: 4px; border: 1px solid #c8e6c9; background: #e8f5e9\">России<span style=\"vertical-align: middle; margin-left: 2px; font-size: 0.7em; color: #66bb6a;\">LOC</span></span> повысилась на 0,3%. Среднесуточная добыча зафиксирована на уровне 11,45 млн баррелей. <span style=\"padding: 2px; border-radius: 4px; border: 1px solid #ffcdd2; background: #ffebee\">НК \"Роснефть\"<span style=\"vertical-align: middle; margin-left: 2px; font-size: 0.7em; color: #e57373;\">ORG</span></span> в прошлом году добыла 194,21 млн тонн (в декабре - 16,87 млн тонн), \"<span style=\"padding: 2px; border-radius: 4px; border: 1px solid #ffcdd2; background: #ffebee\">ЛУКОЙЛ<span style=\"vertical-align: middle; margin-left: 2px; font-size: 0.7em; color: #e57373;\">ORG</span></span>\" - 82,1 млн тонн (7,09 млн тонн), \"<span style=\"padding: 2px; border-radius: 4px; border: 1px solid #ffcdd2; background: #ffebee\">Сургутнефтегаз<span style=\"vertical-align: middle; margin-left: 2px; font-size: 0.7em; color: #e57373;\">ORG</span></span>\" - 60,89 млн тонн (5,26 млн тонн), \"<span style=\"padding: 2px; border-radius: 4px; border: 1px solid #ffcdd2; background: #ffebee\">Газпром нефть<span style=\"vertical-align: middle; margin-left: 2px; font-size: 0.7em; color: #e57373;\">ORG</span></span>\" - 39,49 млн тонн (3,28 млн тонн), \"<span style=\"padding: 2px; border-radius: 4px; border: 1px solid #ffcdd2; background: #ffebee\">Татнефть<span style=\"vertical-align: middle; margin-left: 2px; font-size: 0.7em; color: #e57373;\">ORG</span></span>\" - 29,53 млн тонн (2,67 млн тонн), \"<span style=\"padding: 2px; border-radius: 4px; border: 1px solid #ffcdd2; background: #ffebee\">Башнефть<span style=\"vertical-align: middle; margin-left: 2px; font-size: 0.7em; color: #e57373;\">ORG</span></span>\" - 18,95 млн тонн (1,6 млн тонн), \"<span style=\"padding: 2px; border-radius: 4px; border: 1px solid #ffcdd2; background: #ffebee\">Славнефть<span style=\"vertical-align: middle; margin-left: 2px; font-size: 0.7em; color: #e57373;\">ORG</span></span>\" - 13,81 млн тонн (1,21 млн тонн), \"<span style=\"padding: 2px; border-radius: 4px; border: 1px solid #ffcdd2; background: #ffebee\">НОВАТЭК<span style=\"vertical-align: middle; margin-left: 2px; font-size: 0.7em; color: #e57373;\">ORG</span></span>\" - 7,63 млн тонн (705,31 тыс тонн), \"<span style=\"padding: 2px; border-radius: 4px; border: 1px solid #ffcdd2; background: #ffebee\">РуссНефть<span style=\"vertical-align: middle; margin-left: 2px; font-size: 0.7em; color: #e57373;\">ORG</span></span>\" - 7,11 млн тонн (609,75 тыс тонн). Добычу \"<span style=\"padding: 2px; border-radius: 4px; border: 1px solid #ffcdd2; background: #ffebee\">Башнефти<span style=\"vertical-align: middle; margin-left: 2px; font-size: 0.7em; color: #e57373;\">ORG</span></span>\" <span style=\"padding: 2px; border-radius: 4px; border: 1px solid #ffcdd2; background: #ffebee\">ЦДУ ТЭК<span style=\"vertical-align: middle; margin-left: 2px; font-size: 0.7em; color: #e57373;\">ORG</span></span> по-прежнему учитывает отдельно, хотя \"<span style=\"padding: 2px; border-radius: 4px; border: 1px solid #ffcdd2; background: #ffebee\">Роснефть<span style=\"vertical-align: middle; margin-left: 2px; font-size: 0.7em; color: #e57373;\">ORG</span></span>\" приобрела контрольный пакет акций этой компании в середине октября 2016 года. Прочие недропользователи, включая \"<span style=\"padding: 2px; border-radius: 4px; border: 1px solid #ffcdd2; background: #ffebee\">Газпром<span style=\"vertical-align: middle; margin-left: 2px; font-size: 0.7em; color: #e57373;\">ORG</span></span>\" и совместные предприятия с иностранными инвестициями, в истекшем году добыли 81,44 млн тонн нефти и газового конденсата (в декабре - 7,16 млн тонн). Отдельные данные по \"<span style=\"padding: 2px; border-radius: 4px; border: 1px solid #ffcdd2; background: #ffebee\">Газпрому<span style=\"vertical-align: middle; margin-left: 2px; font-size: 0.7em; color: #e57373;\">ORG</span></span>\" <span style=\"padding: 2px; border-radius: 4px; border: 1px solid #ffcdd2; background: #ffebee\">ЦДУ ТЭК<span style=\"vertical-align: middle; margin-left: 2px; font-size: 0.7em; color: #e57373;\">ORG</span></span> не приводит. Операторы <span style=\"padding: 2px; border-radius: 4px; border: 1px solid #ffcdd2; background: #ffebee\">СРП<span style=\"vertical-align: middle; margin-left: 2px; font-size: 0.7em; color: #e57373;\">ORG</span></span> за указанный период добыли 18,71 млн тонн нефтяного сырья (в декабре - 1,8 млн тонн).</div>"
      ],
      "text/plain": [
       "BoxMarkup('Москва. 2 января. INTERFAX.RU - Объем добычи нефти и газового конденсата в России в 2018 году повысился на 1,6% по сравнению с 2017 годом и составил 555,84 млн тонн, сообщается в оперативной сводке ФГБУ \"ЦДУ ТЭК\". Среднесуточная добыча зафиксирована на уровне 11,16 млн баррелей. В декабре 2018 года в России добыто 48,44 млн тонн нефти с газовым конденсатом, что на 4,5% выше показателя декабря 2017 года. По сравнению с октябрем 2018 года, который был взят в качестве отправной точки для сокращения добычи нефти в рамках соглашения ОПЕК+, добыча в России повысилась на 0,3%. Среднесуточная добыча зафиксирована на уровне 11,45 млн баррелей. НК \"Роснефть\" в прошлом году добыла 194,21 млн тонн (в декабре - 16,87 млн тонн), \"ЛУКОЙЛ\" - 82,1 млн тонн (7,09 млн тонн), \"Сургутнефтегаз\" - 60,89 млн тонн (5,26 млн тонн), \"Газпром нефть\" - 39,49 млн тонн (3,28 млн тонн), \"Татнефть\" - 29,53 млн тонн (2,67 млн тонн), \"Башнефть\" - 18,95 млн тонн (1,6 млн тонн), \"Славнефть\" - 13,81 млн тонн (1,21 млн тонн), \"НОВАТЭК\" - 7,63 млн тонн (705,31 тыс тонн), \"РуссНефть\" - 7,11 млн тонн (609,75 тыс тонн). Добычу \"Башнефти\" ЦДУ ТЭК по-прежнему учитывает отдельно, хотя \"Роснефть\" приобрела контрольный пакет акций этой компании в середине октября 2016 года. Прочие недропользователи, включая \"Газпром\" и совместные предприятия с иностранными инвестициями, в истекшем году добыли 81,44 млн тонн нефти и газового конденсата (в декабре - 7,16 млн тонн). Отдельные данные по \"Газпрому\" ЦДУ ТЭК не приводит. Операторы СРП за указанный период добыли 18,71 млн тонн нефтяного сырья (в декабре - 1,8 млн тонн).',\n",
       "          [Span(0, 6, 'LOC'),\n",
       "           Span(18, 29, 'ORG'),\n",
       "           Span(75, 81, 'LOC'),\n",
       "           Span(198, 212, 'ORG'),\n",
       "           Span(302, 308, 'LOC'),\n",
       "           Span(534, 538, 'ORG'),\n",
       "           Span(550, 556, 'LOC'),\n",
       "           Span(643, 656, 'ORG'),\n",
       "           Span(726, 732, 'ORG'),\n",
       "           Span(768, 782, 'ORG'),\n",
       "           Span(819, 832, 'ORG'),\n",
       "           Span(869, 877, 'ORG'),\n",
       "           Span(914, 922, 'ORG'),\n",
       "           Span(958, 967, 'ORG'),\n",
       "           Span(1004, 1011, 'ORG'),\n",
       "           Span(1049, 1058, 'ORG'),\n",
       "           Span(1103, 1111, 'ORG'),\n",
       "           Span(1113, 1120, 'ORG'),\n",
       "           Span(1159, 1167, 'ORG'),\n",
       "           Span(1282, 1289, 'ORG'),\n",
       "           Span(1461, 1469, 'ORG'),\n",
       "           Span(1471, 1478, 'ORG'),\n",
       "           Span(1502, 1505, 'ORG')])"
      ]
     },
     "metadata": {},
     "output_type": "display_data"
    },
    {
     "name": "stdout",
     "output_type": "stream",
     "text": [
      "[(0, 6, 'LOC'), (18, 29, 'ORG'), (52, 58, 'LOC'), (177, 191, 'ORG'), (205, 207, 'LOC'), (317, 325, 'ORG'), (327, 334, 'ORG'), (571, 578, 'ORG'), (668, 671, 'ORG'), (837, 850, 'ORG'), (902, 908, 'ORG'), (951, 964, 'ORG'), (1006, 1020, 'ORG'), (1063, 1072, 'ORG'), (1115, 1123, 'ORG'), (1166, 1175, 'ORG'), (1217, 1225, 'ORG'), (1274, 1282, 'ORG'), (1284, 1291, 'ORG'), (1330, 1338, 'ORG')]\n"
     ]
    },
    {
     "data": {
      "text/html": [
       "<div class=\"tex2jax_ignore\" style=\"white-space: pre-wrap\"><span style=\"padding: 2px; border-radius: 4px; border: 1px solid #c8e6c9; background: #e8f5e9\">Москва<span style=\"vertical-align: middle; margin-left: 2px; font-size: 0.7em; color: #66bb6a;\">LOC</span></span>. 2 января. <span style=\"padding: 2px; border-radius: 4px; border: 1px solid #ffcdd2; background: #ffebee\">INTERFAX.RU<span style=\"vertical-align: middle; margin-left: 2px; font-size: 0.7em; color: #e57373;\">ORG</span></span> - Объем добычи газа в <span style=\"padding: 2px; border-radius: 4px; border: 1px solid #c8e6c9; background: #e8f5e9\">России<span style=\"vertical-align: middle; margin-left: 2px; font-size: 0.7em; color: #66bb6a;\">LOC</span></span> в 2018 году вырос на 4,9% по сравнению с 2017 годом и составил 725,17 млрд куб. м, свидетельствует оперативная сводка <span style=\"padding: 2px; border-radius: 4px; border: 1px solid #ffcdd2; background: #ffebee\">ФГБУ \"ЦДУ ТЭК\"<span style=\"vertical-align: middle; margin-left: 2px; font-size: 0.7em; color: #e57373;\">ORG</span></span>. В декабре в <span style=\"padding: 2px; border-radius: 4px; border: 1px solid #c8e6c9; background: #e8f5e9\">РФ<span style=\"vertical-align: middle; margin-left: 2px; font-size: 0.7em; color: #66bb6a;\">LOC</span></span> было произведено 67,04 млрд куб. м газа (рост на 4,6% относительно того же месяца прошлого года). Данные по \"<span style=\"padding: 2px; border-radius: 4px; border: 1px solid #ffcdd2; background: #ffebee\">Газпрому<span style=\"vertical-align: middle; margin-left: 2px; font-size: 0.7em; color: #e57373;\">ORG</span></span>\" <span style=\"padding: 2px; border-radius: 4px; border: 1px solid #ffcdd2; background: #ffebee\">ЦДУ ТЭК<span style=\"vertical-align: middle; margin-left: 2px; font-size: 0.7em; color: #e57373;\">ORG</span></span> отдельно не публикует. Они включены как \"расчетные\" в объем добычи \"прочих недропользователей\", которые в 2018 году добыли 547,82 млрд куб. м газа (49,89 млрд куб. м газа - в декабре). Одна из крупнейших независимых газовых компаний - \"<span style=\"padding: 2px; border-radius: 4px; border: 1px solid #ffcdd2; background: #ffebee\">НОВАТЭК<span style=\"vertical-align: middle; margin-left: 2px; font-size: 0.7em; color: #e57373;\">ORG</span></span>\" - в истекшем году произвела 49,91 млрд куб. м (в декабре - 5,69 млрд куб. м). Операторы <span style=\"padding: 2px; border-radius: 4px; border: 1px solid #ffcdd2; background: #ffebee\">СРП<span style=\"vertical-align: middle; margin-left: 2px; font-size: 0.7em; color: #e57373;\">ORG</span></span> в прошлом году добыли 27,89 млрд куб. м (2,76 млрд куб. м). Из вертикально интегрированных нефтяных компаний наибольшие объемы \"голубого топлива\" в 2018 году добыли <span style=\"padding: 2px; border-radius: 4px; border: 1px solid #ffcdd2; background: #ffebee\">НК \"Роснефть\"<span style=\"vertical-align: middle; margin-left: 2px; font-size: 0.7em; color: #e57373;\">ORG</span></span> - 45,3 млрд куб. м (в декабре - 3,9 млрд куб. м), \"<span style=\"padding: 2px; border-radius: 4px; border: 1px solid #ffcdd2; background: #ffebee\">ЛУКОЙЛ<span style=\"vertical-align: middle; margin-left: 2px; font-size: 0.7em; color: #e57373;\">ORG</span></span>\" - 21,05 млрд куб. м (1,79 млрд куб. м), \"<span style=\"padding: 2px; border-radius: 4px; border: 1px solid #ffcdd2; background: #ffebee\">Газпром нефть<span style=\"vertical-align: middle; margin-left: 2px; font-size: 0.7em; color: #e57373;\">ORG</span></span>\" - 17,75 млрд куб. м (1,7 млрд куб. м), \"<span style=\"padding: 2px; border-radius: 4px; border: 1px solid #ffcdd2; background: #ffebee\">Сургутнефтегаз<span style=\"vertical-align: middle; margin-left: 2px; font-size: 0.7em; color: #e57373;\">ORG</span></span>\" - 9,67 млрд куб. м (806,87 млн куб. м), \"<span style=\"padding: 2px; border-radius: 4px; border: 1px solid #ffcdd2; background: #ffebee\">РуссНефть<span style=\"vertical-align: middle; margin-left: 2px; font-size: 0.7em; color: #e57373;\">ORG</span></span>\" - 2,51 млрд куб. м (218,05 млн куб. м), \"<span style=\"padding: 2px; border-radius: 4px; border: 1px solid #ffcdd2; background: #ffebee\">Татнефть<span style=\"vertical-align: middle; margin-left: 2px; font-size: 0.7em; color: #e57373;\">ORG</span></span>\" - 963,32 млн куб. м (82,48 млн куб. м), \"<span style=\"padding: 2px; border-radius: 4px; border: 1px solid #ffcdd2; background: #ffebee\">Славнефть<span style=\"vertical-align: middle; margin-left: 2px; font-size: 0.7em; color: #e57373;\">ORG</span></span>\" - 935,92 млн куб. м (82,4 млн куб. м), \"<span style=\"padding: 2px; border-radius: 4px; border: 1px solid #ffcdd2; background: #ffebee\">Башнефть<span style=\"vertical-align: middle; margin-left: 2px; font-size: 0.7em; color: #e57373;\">ORG</span></span>\" - 650,93 млн куб. м (60,3 млн куб. м). Добычу \"<span style=\"padding: 2px; border-radius: 4px; border: 1px solid #ffcdd2; background: #ffebee\">Башнефти<span style=\"vertical-align: middle; margin-left: 2px; font-size: 0.7em; color: #e57373;\">ORG</span></span>\" <span style=\"padding: 2px; border-radius: 4px; border: 1px solid #ffcdd2; background: #ffebee\">ЦДУ ТЭК<span style=\"vertical-align: middle; margin-left: 2px; font-size: 0.7em; color: #e57373;\">ORG</span></span> по-прежнему учитывает отдельно, хотя \"<span style=\"padding: 2px; border-radius: 4px; border: 1px solid #ffcdd2; background: #ffebee\">Роснефть<span style=\"vertical-align: middle; margin-left: 2px; font-size: 0.7em; color: #e57373;\">ORG</span></span>\" приобрела контрольный пакет акций этой компании в середине октября 2016 года.</div>"
      ],
      "text/plain": [
       "BoxMarkup('Москва. 2 января. INTERFAX.RU - Объем добычи газа в России в 2018 году вырос на 4,9% по сравнению с 2017 годом и составил 725,17 млрд куб. м, свидетельствует оперативная сводка ФГБУ \"ЦДУ ТЭК\". В декабре в РФ было произведено 67,04 млрд куб. м газа (рост на 4,6% относительно того же месяца прошлого года). Данные по \"Газпрому\" ЦДУ ТЭК отдельно не публикует. Они включены как \"расчетные\" в объем добычи \"прочих недропользователей\", которые в 2018 году добыли 547,82 млрд куб. м газа (49,89 млрд куб. м газа - в декабре). Одна из крупнейших независимых газовых компаний - \"НОВАТЭК\" - в истекшем году произвела 49,91 млрд куб. м (в декабре - 5,69 млрд куб. м). Операторы СРП в прошлом году добыли 27,89 млрд куб. м (2,76 млрд куб. м). Из вертикально интегрированных нефтяных компаний наибольшие объемы \"голубого топлива\" в 2018 году добыли НК \"Роснефть\" - 45,3 млрд куб. м (в декабре - 3,9 млрд куб. м), \"ЛУКОЙЛ\" - 21,05 млрд куб. м (1,79 млрд куб. м), \"Газпром нефть\" - 17,75 млрд куб. м (1,7 млрд куб. м), \"Сургутнефтегаз\" - 9,67 млрд куб. м (806,87 млн куб. м), \"РуссНефть\" - 2,51 млрд куб. м (218,05 млн куб. м), \"Татнефть\" - 963,32 млн куб. м (82,48 млн куб. м), \"Славнефть\" - 935,92 млн куб. м (82,4 млн куб. м), \"Башнефть\" - 650,93 млн куб. м (60,3 млн куб. м). Добычу \"Башнефти\" ЦДУ ТЭК по-прежнему учитывает отдельно, хотя \"Роснефть\" приобрела контрольный пакет акций этой компании в середине октября 2016 года.',\n",
       "          [Span(0, 6, 'LOC'),\n",
       "           Span(18, 29, 'ORG'),\n",
       "           Span(52, 58, 'LOC'),\n",
       "           Span(177, 191, 'ORG'),\n",
       "           Span(205, 207, 'LOC'),\n",
       "           Span(317, 325, 'ORG'),\n",
       "           Span(327, 334, 'ORG'),\n",
       "           Span(571, 578, 'ORG'),\n",
       "           Span(668, 671, 'ORG'),\n",
       "           Span(837, 850, 'ORG'),\n",
       "           Span(902, 908, 'ORG'),\n",
       "           Span(951, 964, 'ORG'),\n",
       "           Span(1006, 1020, 'ORG'),\n",
       "           Span(1063, 1072, 'ORG'),\n",
       "           Span(1115, 1123, 'ORG'),\n",
       "           Span(1166, 1175, 'ORG'),\n",
       "           Span(1217, 1225, 'ORG'),\n",
       "           Span(1274, 1282, 'ORG'),\n",
       "           Span(1284, 1291, 'ORG'),\n",
       "           Span(1330, 1338, 'ORG')])"
      ]
     },
     "metadata": {},
     "output_type": "display_data"
    },
    {
     "name": "stdout",
     "output_type": "stream",
     "text": [
      "[(30, 36, 'LOC'), (48, 59, 'ORG'), (125, 138, 'LOC'), (160, 169, 'ORG'), (208, 211, 'ORG'), (333, 336, 'ORG'), (494, 507, 'LOC'), (631, 643, 'LOC'), (903, 921, 'ORG'), (922, 925, 'ORG'), (926, 932, 'LOC'), (936, 955, 'LOC'), (1044, 1063, 'LOC')]\n"
     ]
    },
    {
     "data": {
      "text/html": [
       "<div class=\"tex2jax_ignore\" style=\"white-space: pre-wrap\">Среди погибших - один ребенок <span style=\"padding: 2px; border-radius: 4px; border: 1px solid #c8e6c9; background: #e8f5e9\">Москва<span style=\"vertical-align: middle; margin-left: 2px; font-size: 0.7em; color: #66bb6a;\">LOC</span></span>. 2 января. <span style=\"padding: 2px; border-radius: 4px; border: 1px solid #ffcdd2; background: #ffebee\">INTERFAX.RU<span style=\"vertical-align: middle; margin-left: 2px; font-size: 0.7em; color: #e57373;\">ORG</span></span> - Тела 13 погибших извлечены из-под завалов обрушившегося дома в <span style=\"padding: 2px; border-radius: 4px; border: 1px solid #c8e6c9; background: #e8f5e9\">Магнитогорске<span style=\"vertical-align: middle; margin-left: 2px; font-size: 0.7em; color: #66bb6a;\">LOC</span></span>, сообщили агентству \"<span style=\"padding: 2px; border-radius: 4px; border: 1px solid #ffcdd2; background: #ffebee\">Интерфакс<span style=\"vertical-align: middle; margin-left: 2px; font-size: 0.7em; color: #e57373;\">ORG</span></span>\" в пресс-службе областного управления <span style=\"padding: 2px; border-radius: 4px; border: 1px solid #ffcdd2; background: #ffebee\">МЧС<span style=\"vertical-align: middle; margin-left: 2px; font-size: 0.7em; color: #e57373;\">ORG</span></span> в среду. \"Это женщины и мужчины, и один ребенок\", - сказали в пресс-службе. Ранее сообщалось об 11 погибших . Накануне в <span style=\"padding: 2px; border-radius: 4px; border: 1px solid #ffcdd2; background: #ffebee\">МЧС<span style=\"vertical-align: middle; margin-left: 2px; font-size: 0.7em; color: #e57373;\">ORG</span></span> сообщили , что пропавшими без вести числится 30 человек; шесть пострадавших были извлечены из-под завалов живыми и отправлены в больницы. Утром 31 декабря в <span style=\"padding: 2px; border-radius: 4px; border: 1px solid #c8e6c9; background: #e8f5e9\">Магнитогорске<span style=\"vertical-align: middle; margin-left: 2px; font-size: 0.7em; color: #66bb6a;\">LOC</span></span> произошло обрушение одного из подъездов в десятиэтажном 12-подъездном панельном доме 1973 год постройки по адресу проспект <span style=\"padding: 2px; border-radius: 4px; border: 1px solid #c8e6c9; background: #e8f5e9\">Карла Маркса<span style=\"vertical-align: middle; margin-left: 2px; font-size: 0.7em; color: #66bb6a;\">LOC</span></span>, 164. Утром 1 января спасателям пришлось демонтировать стену подъезда, где взорвался газ, из-за угрозы ее обрушения. После этого они продолжили разбор завалов внизу, где все еще могут находиться люди. Под завалы подают тепло специальными тепловыми пушками. В <span style=\"padding: 2px; border-radius: 4px; border: 1px solid #ffcdd2; background: #ffebee\">Главном управлении<span style=\"vertical-align: middle; margin-left: 2px; font-size: 0.7em; color: #e57373;\">ORG</span></span> <span style=\"padding: 2px; border-radius: 4px; border: 1px solid #ffcdd2; background: #ffebee\">МЧС<span style=\"vertical-align: middle; margin-left: 2px; font-size: 0.7em; color: #e57373;\">ORG</span></span> <span style=\"padding: 2px; border-radius: 4px; border: 1px solid #c8e6c9; background: #e8f5e9\">России<span style=\"vertical-align: middle; margin-left: 2px; font-size: 0.7em; color: #66bb6a;\">LOC</span></span> по <span style=\"padding: 2px; border-radius: 4px; border: 1px solid #c8e6c9; background: #e8f5e9\">Челябинской области<span style=\"vertical-align: middle; margin-left: 2px; font-size: 0.7em; color: #66bb6a;\">LOC</span></span> продолжает действовать телефон \"горячей линии\" (8-351-239-99-99). В связи с трагедией в <span style=\"padding: 2px; border-radius: 4px; border: 1px solid #c8e6c9; background: #e8f5e9\">Челябинской области<span style=\"vertical-align: middle; margin-left: 2px; font-size: 0.7em; color: #66bb6a;\">LOC</span></span> 2 января объявлен траур . Возбуждено уголовное дело по статье о причинении смерти по неосторожности. Приоритетная версия следствия - взрыв бытового газа.</div>"
      ],
      "text/plain": [
       "BoxMarkup('Среди погибших - один ребенок Москва. 2 января. INTERFAX.RU - Тела 13 погибших извлечены из-под завалов обрушившегося дома в Магнитогорске, сообщили агентству \"Интерфакс\" в пресс-службе областного управления МЧС в среду. \"Это женщины и мужчины, и один ребенок\", - сказали в пресс-службе. Ранее сообщалось об 11 погибших . Накануне в МЧС сообщили , что пропавшими без вести числится 30 человек; шесть пострадавших были извлечены из-под завалов живыми и отправлены в больницы. Утром 31 декабря в Магнитогорске произошло обрушение одного из подъездов в десятиэтажном 12-подъездном панельном доме 1973 год постройки по адресу проспект Карла Маркса, 164. Утром 1 января спасателям пришлось демонтировать стену подъезда, где взорвался газ, из-за угрозы ее обрушения. После этого они продолжили разбор завалов внизу, где все еще могут находиться люди. Под завалы подают тепло специальными тепловыми пушками. В Главном управлении МЧС России по Челябинской области продолжает действовать телефон \"горячей линии\" (8-351-239-99-99). В связи с трагедией в Челябинской области 2 января объявлен траур . Возбуждено уголовное дело по статье о причинении смерти по неосторожности. Приоритетная версия следствия - взрыв бытового газа.',\n",
       "          [Span(30, 36, 'LOC'),\n",
       "           Span(48, 59, 'ORG'),\n",
       "           Span(125, 138, 'LOC'),\n",
       "           Span(160, 169, 'ORG'),\n",
       "           Span(208, 211, 'ORG'),\n",
       "           Span(333, 336, 'ORG'),\n",
       "           Span(494, 507, 'LOC'),\n",
       "           Span(631, 643, 'LOC'),\n",
       "           Span(903, 921, 'ORG'),\n",
       "           Span(922, 925, 'ORG'),\n",
       "           Span(926, 932, 'LOC'),\n",
       "           Span(936, 955, 'LOC'),\n",
       "           Span(1044, 1063, 'LOC')])"
      ]
     },
     "metadata": {},
     "output_type": "display_data"
    },
    {
     "name": "stdout",
     "output_type": "stream",
     "text": [
      "[(0, 6, 'LOC'), (18, 29, 'ORG'), (122, 141, 'LOC'), (142, 160, 'LOC'), (184, 193, 'ORG'), (194, 196, 'LOC'), (300, 306, 'LOC'), (317, 327, 'LOC'), (421, 436, 'ORG')]\n"
     ]
    },
    {
     "data": {
      "text/html": [
       "<div class=\"tex2jax_ignore\" style=\"white-space: pre-wrap\"><span style=\"padding: 2px; border-radius: 4px; border: 1px solid #c8e6c9; background: #e8f5e9\">Москва<span style=\"vertical-align: middle; margin-left: 2px; font-size: 0.7em; color: #66bb6a;\">LOC</span></span>. 2 января. <span style=\"padding: 2px; border-radius: 4px; border: 1px solid #ffcdd2; background: #ffebee\">INTERFAX.RU<span style=\"vertical-align: middle; margin-left: 2px; font-size: 0.7em; color: #e57373;\">ORG</span></span> - Аварийно-восстановительные работы идут на подземном газопроводе-отводе диаметром 500 мм в <span style=\"padding: 2px; border-radius: 4px; border: 1px solid #c8e6c9; background: #e8f5e9\">Духовщинском районе<span style=\"vertical-align: middle; margin-left: 2px; font-size: 0.7em; color: #66bb6a;\">LOC</span></span> <span style=\"padding: 2px; border-radius: 4px; border: 1px solid #c8e6c9; background: #e8f5e9\">Смоленской области<span style=\"vertical-align: middle; margin-left: 2px; font-size: 0.7em; color: #66bb6a;\">LOC</span></span>, говорится в сообщении <span style=\"padding: 2px; border-radius: 4px; border: 1px solid #ffcdd2; background: #ffebee\">Минэнерго<span style=\"vertical-align: middle; margin-left: 2px; font-size: 0.7em; color: #e57373;\">ORG</span></span> <span style=\"padding: 2px; border-radius: 4px; border: 1px solid #c8e6c9; background: #e8f5e9\">РФ<span style=\"vertical-align: middle; margin-left: 2px; font-size: 0.7em; color: #66bb6a;\">LOC</span></span>. По данным министерства, в 0:48 поврежденный участок газопровода-отвода от магистрального газопровода \"<span style=\"padding: 2px; border-radius: 4px; border: 1px solid #c8e6c9; background: #e8f5e9\">Торжок<span style=\"vertical-align: middle; margin-left: 2px; font-size: 0.7em; color: #66bb6a;\">LOC</span></span> - Минск - <span style=\"padding: 2px; border-radius: 4px; border: 1px solid #c8e6c9; background: #e8f5e9\">Иванцевичи<span style=\"vertical-align: middle; margin-left: 2px; font-size: 0.7em; color: #66bb6a;\">LOC</span></span>\" отключен, начата выработка остаточного объема газа. В связи с этим в 5:25 энергоблок № 2 на <span style=\"padding: 2px; border-radius: 4px; border: 1px solid #ffcdd2; background: #ffebee\">Смоленской ГРЭС<span style=\"vertical-align: middle; margin-left: 2px; font-size: 0.7em; color: #e57373;\">ORG</span></span> переведен на сжигание угля. Отмечается, что газоснабжение 2 тыс. 949 абонентов и трех коммунально-бытовых предприятий (крупными потребителями не являются) осуществляется за счет остаточного давления в сетях газораспределения.</div>"
      ],
      "text/plain": [
       "BoxMarkup('Москва. 2 января. INTERFAX.RU - Аварийно-восстановительные работы идут на подземном газопроводе-отводе диаметром 500 мм в Духовщинском районе Смоленской области, говорится в сообщении Минэнерго РФ. По данным министерства, в 0:48 поврежденный участок газопровода-отвода от магистрального газопровода \"Торжок - Минск - Иванцевичи\" отключен, начата выработка остаточного объема газа. В связи с этим в 5:25 энергоблок № 2 на Смоленской ГРЭС переведен на сжигание угля. Отмечается, что газоснабжение 2 тыс. 949 абонентов и трех коммунально-бытовых предприятий (крупными потребителями не являются) осуществляется за счет остаточного давления в сетях газораспределения.',\n",
       "          [Span(0, 6, 'LOC'),\n",
       "           Span(18, 29, 'ORG'),\n",
       "           Span(122, 141, 'LOC'),\n",
       "           Span(142, 160, 'LOC'),\n",
       "           Span(184, 193, 'ORG'),\n",
       "           Span(194, 196, 'LOC'),\n",
       "           Span(300, 306, 'LOC'),\n",
       "           Span(317, 327, 'LOC'),\n",
       "           Span(421, 436, 'ORG')])"
      ]
     },
     "metadata": {},
     "output_type": "display_data"
    },
    {
     "name": "stdout",
     "output_type": "stream",
     "text": [
      "[(0, 6, 'LOC'), (18, 29, 'ORG'), (55, 68, 'LOC'), (863, 876, 'LOC'), (1000, 1012, 'LOC'), (1272, 1290, 'ORG'), (1291, 1294, 'ORG'), (1295, 1301, 'LOC'), (1305, 1324, 'LOC'), (1413, 1432, 'LOC')]\n"
     ]
    },
    {
     "data": {
      "text/html": [
       "<div class=\"tex2jax_ignore\" style=\"white-space: pre-wrap\"><span style=\"padding: 2px; border-radius: 4px; border: 1px solid #c8e6c9; background: #e8f5e9\">Москва<span style=\"vertical-align: middle; margin-left: 2px; font-size: 0.7em; color: #66bb6a;\">LOC</span></span>. 2 января. <span style=\"padding: 2px; border-radius: 4px; border: 1px solid #ffcdd2; background: #ffebee\">INTERFAX.RU<span style=\"vertical-align: middle; margin-left: 2px; font-size: 0.7em; color: #e57373;\">ORG</span></span> - Часть подъездов дома в <span style=\"padding: 2px; border-radius: 4px; border: 1px solid #c8e6c9; background: #e8f5e9\">Магнитогорске<span style=\"vertical-align: middle; margin-left: 2px; font-size: 0.7em; color: #66bb6a;\">LOC</span></span>, поврежденного в результате взрыва газа, пригодны для проживания, сообщает в среду администрация города. \"На протяжении нескольких дней специалисты проводили визуальный осмотр и техническое обследование здания. Было определено, что подъезды с 1 по 5 и с 9 по 12 безопасны для проживания. Опасности для жизни жильцов нет\", - говорится в сообщении мэрии. Также отмечается, что на данный момент жители пятого подъезда выселены на время проведения работ по разбору завалов. \"В ближайшее время, жители 5, 6 и 8 подъездов в сопровождении соответствующих служб смогут забрать из квартир вещи первой необходимости\", - отмечается в сообщении. Как сообщалось, сразу же после происшествия спасатели эвакуировали из квартир жителей соседних с разрушенным подъездом - шестого и восьмого. Утром 31 декабря в <span style=\"padding: 2px; border-radius: 4px; border: 1px solid #c8e6c9; background: #e8f5e9\">Магнитогорске<span style=\"vertical-align: middle; margin-left: 2px; font-size: 0.7em; color: #66bb6a;\">LOC</span></span> произошло обрушение одного из подъездов в десятиэтажном 12-подъездном панельном доме 1973 год постройки по адресу проспект <span style=\"padding: 2px; border-radius: 4px; border: 1px solid #c8e6c9; background: #e8f5e9\">Карла Маркса<span style=\"vertical-align: middle; margin-left: 2px; font-size: 0.7em; color: #66bb6a;\">LOC</span></span>, 164. Утром 1 января спасателям пришлось демонтировать стену подъезда, где взорвался газ, из-за угрозы ее обрушения. После этого они продолжили разбор завалов внизу, где все еще могут находиться люди. Под завалы подают тепло специальными тепловыми пушками. В <span style=\"padding: 2px; border-radius: 4px; border: 1px solid #ffcdd2; background: #ffebee\">Главном управлении<span style=\"vertical-align: middle; margin-left: 2px; font-size: 0.7em; color: #e57373;\">ORG</span></span> <span style=\"padding: 2px; border-radius: 4px; border: 1px solid #ffcdd2; background: #ffebee\">МЧС<span style=\"vertical-align: middle; margin-left: 2px; font-size: 0.7em; color: #e57373;\">ORG</span></span> <span style=\"padding: 2px; border-radius: 4px; border: 1px solid #c8e6c9; background: #e8f5e9\">России<span style=\"vertical-align: middle; margin-left: 2px; font-size: 0.7em; color: #66bb6a;\">LOC</span></span> по <span style=\"padding: 2px; border-radius: 4px; border: 1px solid #c8e6c9; background: #e8f5e9\">Челябинской области<span style=\"vertical-align: middle; margin-left: 2px; font-size: 0.7em; color: #66bb6a;\">LOC</span></span> продолжает действовать телефон \"горячей линии\" (8-351-239-99-99). В связи с трагедией в <span style=\"padding: 2px; border-radius: 4px; border: 1px solid #c8e6c9; background: #e8f5e9\">Челябинской области<span style=\"vertical-align: middle; margin-left: 2px; font-size: 0.7em; color: #66bb6a;\">LOC</span></span> 2 января объявлен траур . Возбуждено уголовное дело по статье о причинении смерти по неосторожности. Приоритетная версия следствия - взрыв бытового газа.</div>"
      ],
      "text/plain": [
       "BoxMarkup('Москва. 2 января. INTERFAX.RU - Часть подъездов дома в Магнитогорске, поврежденного в результате взрыва газа, пригодны для проживания, сообщает в среду администрация города. \"На протяжении нескольких дней специалисты проводили визуальный осмотр и техническое обследование здания. Было определено, что подъезды с 1 по 5 и с 9 по 12 безопасны для проживания. Опасности для жизни жильцов нет\", - говорится в сообщении мэрии. Также отмечается, что на данный момент жители пятого подъезда выселены на время проведения работ по разбору завалов. \"В ближайшее время, жители 5, 6 и 8 подъездов в сопровождении соответствующих служб смогут забрать из квартир вещи первой необходимости\", - отмечается в сообщении. Как сообщалось, сразу же после происшествия спасатели эвакуировали из квартир жителей соседних с разрушенным подъездом - шестого и восьмого. Утром 31 декабря в Магнитогорске произошло обрушение одного из подъездов в десятиэтажном 12-подъездном панельном доме 1973 год постройки по адресу проспект Карла Маркса, 164. Утром 1 января спасателям пришлось демонтировать стену подъезда, где взорвался газ, из-за угрозы ее обрушения. После этого они продолжили разбор завалов внизу, где все еще могут находиться люди. Под завалы подают тепло специальными тепловыми пушками. В Главном управлении МЧС России по Челябинской области продолжает действовать телефон \"горячей линии\" (8-351-239-99-99). В связи с трагедией в Челябинской области 2 января объявлен траур . Возбуждено уголовное дело по статье о причинении смерти по неосторожности. Приоритетная версия следствия - взрыв бытового газа.',\n",
       "          [Span(0, 6, 'LOC'),\n",
       "           Span(18, 29, 'ORG'),\n",
       "           Span(55, 68, 'LOC'),\n",
       "           Span(863, 876, 'LOC'),\n",
       "           Span(1000, 1012, 'LOC'),\n",
       "           Span(1272, 1290, 'ORG'),\n",
       "           Span(1291, 1294, 'ORG'),\n",
       "           Span(1295, 1301, 'LOC'),\n",
       "           Span(1305, 1324, 'LOC'),\n",
       "           Span(1413, 1432, 'LOC')])"
      ]
     },
     "metadata": {},
     "output_type": "display_data"
    },
    {
     "name": "stdout",
     "output_type": "stream",
     "text": [
      "[(55, 61, 'LOC'), (73, 84, 'ORG'), (113, 119, 'LOC'), (189, 203, 'LOC'), (240, 250, 'ORG'), (522, 536, 'LOC'), (713, 719, 'LOC'), (720, 734, 'PER')]\n"
     ]
    },
    {
     "data": {
      "text/html": [
       "<div class=\"tex2jax_ignore\" style=\"white-space: pre-wrap\">Конструкция не выдержала веса скопившихся на ней людей <span style=\"padding: 2px; border-radius: 4px; border: 1px solid #c8e6c9; background: #e8f5e9\">Москва<span style=\"vertical-align: middle; margin-left: 2px; font-size: 0.7em; color: #66bb6a;\">LOC</span></span>. 2 января. <span style=\"padding: 2px; border-radius: 4px; border: 1px solid #ffcdd2; background: #ffebee\">INTERFAX.RU<span style=\"vertical-align: middle; margin-left: 2px; font-size: 0.7em; color: #e57373;\">ORG</span></span> - Правоохранительные органы <span style=\"padding: 2px; border-radius: 4px; border: 1px solid #c8e6c9; background: #e8f5e9\">Москвы<span style=\"vertical-align: middle; margin-left: 2px; font-size: 0.7em; color: #66bb6a;\">LOC</span></span> проводят проверку по факту обрушения конструкции деревянного моста в <span style=\"padding: 2px; border-radius: 4px; border: 1px solid #c8e6c9; background: #e8f5e9\">Парке Горького<span style=\"vertical-align: middle; margin-left: 2px; font-size: 0.7em; color: #66bb6a;\">LOC</span></span> в новогоднюю ночь, сообщил в среду \"<span style=\"padding: 2px; border-radius: 4px; border: 1px solid #ffcdd2; background: #ffebee\">Интерфаксу<span style=\"vertical-align: middle; margin-left: 2px; font-size: 0.7em; color: #e57373;\">ORG</span></span>\" осведомленный источник. \"По данному факту действительно проводится доследственная проверка. По предварительным данным, причиной инцидента стало слишком большое количество граждан на мосту\", - сказал собеседник агентства. В ночь на 1 января во время новогодних гуляний в <span style=\"padding: 2px; border-radius: 4px; border: 1px solid #c8e6c9; background: #e8f5e9\">Парке Горького<span style=\"vertical-align: middle; margin-left: 2px; font-size: 0.7em; color: #66bb6a;\">LOC</span></span> обрушился деревянный мост; в этот момент на мосту и под ним было много людей. По данным мэрии, за помощью обратилось 13 человек, им оказывается необходимая помощь. Позднее мэр <span style=\"padding: 2px; border-radius: 4px; border: 1px solid #c8e6c9; background: #e8f5e9\">Москвы<span style=\"vertical-align: middle; margin-left: 2px; font-size: 0.7em; color: #66bb6a;\">LOC</span></span> <span style=\"padding: 2px; border-radius: 4px; border: 1px solid #bbdefb; background: #e3f2fd\">Сергей Собянин<span style=\"vertical-align: middle; margin-left: 2px; font-size: 0.7em; color: #64b5f6;\">PER</span></span> объявил, что директор парка будет уволена после инцидента.</div>"
      ],
      "text/plain": [
       "BoxMarkup('Конструкция не выдержала веса скопившихся на ней людей Москва. 2 января. INTERFAX.RU - Правоохранительные органы Москвы проводят проверку по факту обрушения конструкции деревянного моста в Парке Горького в новогоднюю ночь, сообщил в среду \"Интерфаксу\" осведомленный источник. \"По данному факту действительно проводится доследственная проверка. По предварительным данным, причиной инцидента стало слишком большое количество граждан на мосту\", - сказал собеседник агентства. В ночь на 1 января во время новогодних гуляний в Парке Горького обрушился деревянный мост; в этот момент на мосту и под ним было много людей. По данным мэрии, за помощью обратилось 13 человек, им оказывается необходимая помощь. Позднее мэр Москвы Сергей Собянин объявил, что директор парка будет уволена после инцидента.',\n",
       "          [Span(55, 61, 'LOC'),\n",
       "           Span(73, 84, 'ORG'),\n",
       "           Span(113, 119, 'LOC'),\n",
       "           Span(189, 203, 'LOC'),\n",
       "           Span(240, 250, 'ORG'),\n",
       "           Span(522, 536, 'LOC'),\n",
       "           Span(713, 719, 'LOC'),\n",
       "           Span(720, 734, 'PER')])"
      ]
     },
     "metadata": {},
     "output_type": "display_data"
    },
    {
     "name": "stdout",
     "output_type": "stream",
     "text": [
      "[(27, 38, 'ORG'), (122, 128, 'LOC'), (140, 151, 'ORG'), (185, 198, 'PER'), (252, 269, 'PER'), (282, 303, 'ORG'), (307, 320, 'LOC'), (387, 393, 'LOC'), (483, 494, 'ORG'), (498, 505, 'LOC'), (524, 532, 'ORG'), (600, 611, 'ORG'), (636, 645, 'PER'), (728, 749, 'ORG'), (1127, 1134, 'PER'), (1340, 1347, 'PER'), (1981, 1988, 'PER'), (2971, 2976, 'LOC'), (3729, 3737, 'PER'), (4254, 4258, 'PER'), (4601, 4609, 'PER'), (5168, 5176, 'PER'), (5835, 5848, 'PER'), (5849, 5862, 'PER'), (6124, 6137, 'PER'), (6563, 6571, 'PER'), (6848, 6856, 'PER'), (7063, 7072, 'PER'), (7620, 7641, 'ORG'), (7645, 7658, 'LOC')]\n"
     ]
    },
    {
     "data": {
      "text/html": [
       "<div class=\"tex2jax_ignore\" style=\"white-space: pre-wrap\">До \"старого\" Нового года в <span style=\"padding: 2px; border-radius: 4px; border: 1px solid #ffcdd2; background: #ffebee\">Третьяковке<span style=\"vertical-align: middle; margin-left: 2px; font-size: 0.7em; color: #e57373;\">ORG</span></span> работает первая полноценная ретроспектива московского концептуалиста и его супруги <span style=\"padding: 2px; border-radius: 4px; border: 1px solid #c8e6c9; background: #e8f5e9\">Москва<span style=\"vertical-align: middle; margin-left: 2px; font-size: 0.7em; color: #66bb6a;\">LOC</span></span>. 2 января. <span style=\"padding: 2px; border-radius: 4px; border: 1px solid #ffcdd2; background: #ffebee\">INTERFAX.RU<span style=\"vertical-align: middle; margin-left: 2px; font-size: 0.7em; color: #e57373;\">ORG</span></span> - Для московского концептуалиста <span style=\"padding: 2px; border-radius: 4px; border: 1px solid #bbdefb; background: #e3f2fd\">Ильи Кабакова<span style=\"vertical-align: middle; margin-left: 2px; font-size: 0.7em; color: #64b5f6;\">PER</span></span>, с 1990-х годов работающего в соавторстве с супругой <span style=\"padding: 2px; border-radius: 4px; border: 1px solid #bbdefb; background: #e3f2fd\">Эмилией Кабаковой<span style=\"vertical-align: middle; margin-left: 2px; font-size: 0.7em; color: #64b5f6;\">PER</span></span>, выставка в <span style=\"padding: 2px; border-radius: 4px; border: 1px solid #ffcdd2; background: #ffebee\">Третьяковской галерее<span style=\"vertical-align: middle; margin-left: 2px; font-size: 0.7em; color: #e57373;\">ORG</span></span> на <span style=\"padding: 2px; border-radius: 4px; border: 1px solid #c8e6c9; background: #e8f5e9\">Крымском валу<span style=\"vertical-align: middle; margin-left: 2px; font-size: 0.7em; color: #66bb6a;\">LOC</span></span> стала первой полноценной ретроспективой. Перед тем, как прибыть в <span style=\"padding: 2px; border-radius: 4px; border: 1px solid #c8e6c9; background: #e8f5e9\">Москву<span style=\"vertical-align: middle; margin-left: 2px; font-size: 0.7em; color: #66bb6a;\">LOC</span></span>, выставка художников, ставших знаменитостями за рубежом, успела побывать в стенах музея \"<span style=\"padding: 2px; border-radius: 4px; border: 1px solid #ffcdd2; background: #ffebee\">Тейт Модерн<span style=\"vertical-align: middle; margin-left: 2px; font-size: 0.7em; color: #e57373;\">ORG</span></span>\" в <span style=\"padding: 2px; border-radius: 4px; border: 1px solid #c8e6c9; background: #e8f5e9\">Лондоне<span style=\"vertical-align: middle; margin-left: 2px; font-size: 0.7em; color: #66bb6a;\">LOC</span></span> и в петербургском <span style=\"padding: 2px; border-radius: 4px; border: 1px solid #ffcdd2; background: #ffebee\">Эрмитаже<span style=\"vertical-align: middle; margin-left: 2px; font-size: 0.7em; color: #e57373;\">ORG</span></span>. Правда, оформление экспозиции каждый раз варьировалось, поэтому в <span style=\"padding: 2px; border-radius: 4px; border: 1px solid #ffcdd2; background: #ffebee\">Третьяковке<span style=\"vertical-align: middle; margin-left: 2px; font-size: 0.7em; color: #e57373;\">ORG</span></span> новые акценты в работах <span style=\"padding: 2px; border-radius: 4px; border: 1px solid #bbdefb; background: #e3f2fd\">Кабаковых<span style=\"vertical-align: middle; margin-left: 2px; font-size: 0.7em; color: #64b5f6;\">PER</span></span> смогут увидеть даже те, кто успел посмотреть выставку в других городах. Собраны в <span style=\"padding: 2px; border-radius: 4px; border: 1px solid #ffcdd2; background: #ffebee\">Третьяковской галерее<span style=\"vertical-align: middle; margin-left: 2px; font-size: 0.7em; color: #e57373;\">ORG</span></span> и знаковые \"тотальные инсталляции\" художника, и ранние картины на листах оргалита, и живописные полотна, написанные в 2000-х годах. В пространстве музея все объекты формируют цельную историю о стремлении личности к свободе, о внутренних противоречиях советского человека и его жизни в современном мире. Зрителям, с опаской относящимся к современному искусству, бояться нечего: <span style=\"padding: 2px; border-radius: 4px; border: 1px solid #bbdefb; background: #e3f2fd\">Кабаков<span style=\"vertical-align: middle; margin-left: 2px; font-size: 0.7em; color: #64b5f6;\">PER</span></span> вокруг многих своих работ создает полноценную мифологию. По соседствую с инсталляциями можно прочитать рассказы, которые вписывают арт-объекты в тот или иной сюжет. Так, авторство картин во второй комнате <span style=\"padding: 2px; border-radius: 4px; border: 1px solid #bbdefb; background: #e3f2fd\">Кабаков<span style=\"vertical-align: middle; margin-left: 2px; font-size: 0.7em; color: #64b5f6;\">PER</span></span> передает некоему советскому художнику, который честно создает работы в духе жэковских объявлений, но не без странностей. На стенде \"К 25 декабря в нашем районе...\" поверх вида на перекопанный квартал нанесен список тех объектов, что обещают построить в 1979 году, да только создана эта работа уже в 1983, что говорит о невыполненных обещаниях. А серию картин \"Праздники\" с устаревшими сюжетами - уборочной, городским пейзажем, семейным вечером в советской семье - безымянный художник реставрирует цветами из фантиков, только подчеркивая бессмысленность этой работы. В третьей комнате - сразу несколько инсталляций, с помощью которых <span style=\"padding: 2px; border-radius: 4px; border: 1px solid #bbdefb; background: #e3f2fd\">Кабаков<span style=\"vertical-align: middle; margin-left: 2px; font-size: 0.7em; color: #64b5f6;\">PER</span></span> рассуждает о тех одержимостях, которые могут овладеть человеком, живущим в тесноте коммунальной квартиры. Здесь и комната \"Мусорный человек, или человек, который никогда ничего не выбрасывал\", в которой вымышленный жилец рассортировал весь собранный хлам, вплоть до кусков жестяных банок. Композиция \"Случай в коридоре возле кухни\" передает наэлектризованность обстановки на коммунальной кухне и представляет десятки сковородок, кастрюль и дуршлагов, повисших в воздухе. Именно здесь впервые в экспозиции появляются маленькие белые человечки - придуманные художником существа, которые, по его словам, появляются \"на тонущем корабле человечества, которое не так живет и находится на грани гибели\", это \"человеческие души, которые обычно прячутся\". Но ситуация для жильцов коммунальной квартиры оказывается не безвыходной. Инсталляция \"Человек, улетевший в космос из своей квартиры\" - это как раз история побега мечтателя, сумевшего соорудить катапульту и отправиться прочь с планеты <span style=\"padding: 2px; border-radius: 4px; border: 1px solid #c8e6c9; background: #e8f5e9\">Земля<span style=\"vertical-align: middle; margin-left: 2px; font-size: 0.7em; color: #66bb6a;\">LOC</span></span>. Через проем, по сюжету частично заколоченный следователями, зритель может увидеть комнату счастливца, в потолке которой зияет дыра. Впрочем, на этом интерес художника к жильцам коммуналок не исчерпывается, и в десятой комнате они обретут даже большее право голоса: там в альбомах, раскрытых на столах, описываются жизнь и причуды десяти персонажей. Более близкое знакомство с маленькими белыми человечками предстоит в пятом и шестом залах. Инсталляция \"Три ночи\" позволяет рассмотреть едва заметных существ через бинокли, на подсвеченных \"Брюках в углу\" их видно уже невооруженным взглядом. Ключевая инсталляция в экспозиции - \"В будущее возьмут не всех\", по которой выставка и получила название. Через зал проходят рельсы, заваленные работами самого <span style=\"padding: 2px; border-radius: 4px; border: 1px solid #bbdefb; background: #e3f2fd\">Кабакова<span style=\"vertical-align: middle; margin-left: 2px; font-size: 0.7em; color: #64b5f6;\">PER</span></span>, а подальше, в полумраке, виден хвост последнего вагона поезда с бегущей строкой красного цвета. Она и гласит, что в этом поезде далеко не всем найдется место. Тишина здесь кажется напряженной, чувствуется растерянность, да и напрашиваются размышления: \"а попасть ли мне в этот поезд?\", \"он уехал, или его еще можно догнать?\"... К счастью, по ходу выставки зрителю удастся этот поезд несколько опередить. Ведь проход ведет к пустому залу классической картинной галереи с багровыми стенами. В нем звучит \"Пассакалия\" <span style=\"padding: 2px; border-radius: 4px; border: 1px solid #bbdefb; background: #e3f2fd\">Баха<span style=\"vertical-align: middle; margin-left: 2px; font-size: 0.7em; color: #64b5f6;\">PER</span></span>, а по стенам подсвечены те места, на которых должны были бы висеть шедевры. В середине зала - диваны, на которых можно отдохнуть и поразмыслить о том, кто мог бы занять почетные места в музее будущего, которые еще пустуют. И этим отдыхом пренебрегать не стоит, ведь впереди ждет еще длинный путь. Отдельный зал отведен под живописные полотна <span style=\"padding: 2px; border-radius: 4px; border: 1px solid #bbdefb; background: #e3f2fd\">Кабакова<span style=\"vertical-align: middle; margin-left: 2px; font-size: 0.7em; color: #64b5f6;\">PER</span></span>, созданные уже в 2000-х годах. Они образуют несколько серий, объединенных идеей смешения разных эпох в голове человека родом из советских времен. Серии \"Появление коллажа\" и \"Два времени\" сталкивают штампы искусства соцреализма с античными образами и классическим искусством. На полотне из серии \"Под снегом\" воспоминания о советской жизни заметаются пеленой, словно осознанно подавляются, и лишь через проталины можно разглядеть разрозненные сюжеты. Живописные работы становятся не самоценными произведениями искусства, а составляющей художественного языка <span style=\"padding: 2px; border-radius: 4px; border: 1px solid #bbdefb; background: #e3f2fd\">Кабакова<span style=\"vertical-align: middle; margin-left: 2px; font-size: 0.7em; color: #64b5f6;\">PER</span></span>, а их серийность позволяет варьировать сюжеты, чтобы донести те или иные мысли до зрителя. В зале с макетами инсталляций самый откровенный сюжет представлен под названием \"Туалет\". В узнаваемую обстановку общественного туалета здесь вписан обычный домашний быт - человек оказывается в стесненных и негуманных условиях. И фантазия эта, как ни ужасно, имеет под собой почву: мать художника действительно была вынуждена какое-то время жить в закрытой уборной. Из зала с живописными работами через боковую дверь можно попасть к следующему арт-объекту. Инсталляция \"Лабиринт. Альбом моей матери\" (1990 год) - длинное и трудное путешествие по воспоминаниям матери <span style=\"padding: 2px; border-radius: 4px; border: 1px solid #bbdefb; background: #e3f2fd\">Ильи Кабакова<span style=\"vertical-align: middle; margin-left: 2px; font-size: 0.7em; color: #64b5f6;\">PER</span></span> <span style=\"padding: 2px; border-radius: 4px; border: 1px solid #bbdefb; background: #e3f2fd\">Берты Юрьевны<span style=\"vertical-align: middle; margin-left: 2px; font-size: 0.7em; color: #64b5f6;\">PER</span></span>. Она написала рассказ о себе по просьбе сына, когда ей было 83 года. Эта инсталляция - бесконечный коридор коммунальной квартиры с многочисленными поворотами, где за углом ждет не выход, не надежда на светлое будущее, а лишь очередной поворот. Так и в рассказе <span style=\"padding: 2px; border-radius: 4px; border: 1px solid #bbdefb; background: #e3f2fd\">Берты Юрьевны<span style=\"vertical-align: middle; margin-left: 2px; font-size: 0.7em; color: #64b5f6;\">PER</span></span>, разделенном на 76 листов машинописного текста, за каждой новой потерей, каждым выселением и увольнением следуют лишь новые лишения. Да и помочь ей было почти некому, и даже мужу не было дела до ее судьбы. Отрывки истории женщины развешаны на фоне листов советских розовых обоев с орнаментом, отдаленно напоминающим цветочный, по соседству - фотографии, сделанные дядей художника. А над историей мытарств льется голос самого <span style=\"padding: 2px; border-radius: 4px; border: 1px solid #bbdefb; background: #e3f2fd\">Кабакова<span style=\"vertical-align: middle; margin-left: 2px; font-size: 0.7em; color: #64b5f6;\">PER</span></span>, который на записи самозабвенно поет русские романсы. На выходе из коридора - последний зал с недвусмысленным названием \"Как встретить ангела\". Здесь-то белые человечки встают в полный рост, выступают спасителями, которые могут выручить в кризисные моменты жизни. И художники <span style=\"padding: 2px; border-radius: 4px; border: 1px solid #bbdefb; background: #e3f2fd\">Кабаковы<span style=\"vertical-align: middle; margin-left: 2px; font-size: 0.7em; color: #64b5f6;\">PER</span></span> предлагают способ привлечь внимание ангелов - возвести высокую лестницу, на вершине которой, открытый всем ветрам, человек окажется в той ситуации, когда спасители не смогут остаться равнодушными. Выставка <span style=\"padding: 2px; border-radius: 4px; border: 1px solid #bbdefb; background: #e3f2fd\">Кабаковых<span style=\"vertical-align: middle; margin-left: 2px; font-size: 0.7em; color: #64b5f6;\">PER</span></span> повествует о тяжелой жизни мечтающего и думающего человека в условиях \"коммуналки\", тесного общества с четкими, уравнивающими установками, в которые вписываться может быть невыносимо. Повествование это добродушное, зрители приглашаются в своеобразную игру, с которой долгое время не расстаешься, даже выйдя из галереи. Вот, например, рабочие собирают каркас для новогодней елки, а кажется, что это та самая лестница, ведущая к встрече со спасительными белыми человечками. Выставка работает до 13 января. На время праздничных выходных режим работы <span style=\"padding: 2px; border-radius: 4px; border: 1px solid #ffcdd2; background: #ffebee\">Третьяковской галереи<span style=\"vertical-align: middle; margin-left: 2px; font-size: 0.7em; color: #e57373;\">ORG</span></span> на <span style=\"padding: 2px; border-radius: 4px; border: 1px solid #c8e6c9; background: #e8f5e9\">Крымском валу<span style=\"vertical-align: middle; margin-left: 2px; font-size: 0.7em; color: #66bb6a;\">LOC</span></span> изменится, поэтому перед поездкой стоит проверить информацию на сайте музея.</div>"
      ],
      "text/plain": [
       "BoxMarkup('До \"старого\" Нового года в Третьяковке работает первая полноценная ретроспектива московского концептуалиста и его супруги Москва. 2 января. INTERFAX.RU - Для московского концептуалиста Ильи Кабакова, с 1990-х годов работающего в соавторстве с супругой Эмилией Кабаковой, выставка в Третьяковской галерее на Крымском валу стала первой полноценной ретроспективой. Перед тем, как прибыть в Москву, выставка художников, ставших знаменитостями за рубежом, успела побывать в стенах музея \"Тейт Модерн\" в Лондоне и в петербургском Эрмитаже. Правда, оформление экспозиции каждый раз варьировалось, поэтому в Третьяковке новые акценты в работах Кабаковых смогут увидеть даже те, кто успел посмотреть выставку в других городах. Собраны в Третьяковской галерее и знаковые \"тотальные инсталляции\" художника, и ранние картины на листах оргалита, и живописные полотна, написанные в 2000-х годах. В пространстве музея все объекты формируют цельную историю о стремлении личности к свободе, о внутренних противоречиях советского человека и его жизни в современном мире. Зрителям, с опаской относящимся к современному искусству, бояться нечего: Кабаков вокруг многих своих работ создает полноценную мифологию. По соседствую с инсталляциями можно прочитать рассказы, которые вписывают арт-объекты в тот или иной сюжет. Так, авторство картин во второй комнате Кабаков передает некоему советскому художнику, который честно создает работы в духе жэковских объявлений, но не без странностей. На стенде \"К 25 декабря в нашем районе...\" поверх вида на перекопанный квартал нанесен список тех объектов, что обещают построить в 1979 году, да только создана эта работа уже в 1983, что говорит о невыполненных обещаниях. А серию картин \"Праздники\" с устаревшими сюжетами - уборочной, городским пейзажем, семейным вечером в советской семье - безымянный художник реставрирует цветами из фантиков, только подчеркивая бессмысленность этой работы. В третьей комнате - сразу несколько инсталляций, с помощью которых Кабаков рассуждает о тех одержимостях, которые могут овладеть человеком, живущим в тесноте коммунальной квартиры. Здесь и комната \"Мусорный человек, или человек, который никогда ничего не выбрасывал\", в которой вымышленный жилец рассортировал весь собранный хлам, вплоть до кусков жестяных банок. Композиция \"Случай в коридоре возле кухни\" передает наэлектризованность обстановки на коммунальной кухне и представляет десятки сковородок, кастрюль и дуршлагов, повисших в воздухе. Именно здесь впервые в экспозиции появляются маленькие белые человечки - придуманные художником существа, которые, по его словам, появляются \"на тонущем корабле человечества, которое не так живет и находится на грани гибели\", это \"человеческие души, которые обычно прячутся\". Но ситуация для жильцов коммунальной квартиры оказывается не безвыходной. Инсталляция \"Человек, улетевший в космос из своей квартиры\" - это как раз история побега мечтателя, сумевшего соорудить катапульту и отправиться прочь с планеты Земля. Через проем, по сюжету частично заколоченный следователями, зритель может увидеть комнату счастливца, в потолке которой зияет дыра. Впрочем, на этом интерес художника к жильцам коммуналок не исчерпывается, и в десятой комнате они обретут даже большее право голоса: там в альбомах, раскрытых на столах, описываются жизнь и причуды десяти персонажей. Более близкое знакомство с маленькими белыми человечками предстоит в пятом и шестом залах. Инсталляция \"Три ночи\" позволяет рассмотреть едва заметных существ через бинокли, на подсвеченных \"Брюках в углу\" их видно уже невооруженным взглядом. Ключевая инсталляция в экспозиции - \"В будущее возьмут не всех\", по которой выставка и получила название. Через зал проходят рельсы, заваленные работами самого Кабакова, а подальше, в полумраке, виден хвост последнего вагона поезда с бегущей строкой красного цвета. Она и гласит, что в этом поезде далеко не всем найдется место. Тишина здесь кажется напряженной, чувствуется растерянность, да и напрашиваются размышления: \"а попасть ли мне в этот поезд?\", \"он уехал, или его еще можно догнать?\"... К счастью, по ходу выставки зрителю удастся этот поезд несколько опередить. Ведь проход ведет к пустому залу классической картинной галереи с багровыми стенами. В нем звучит \"Пассакалия\" Баха, а по стенам подсвечены те места, на которых должны были бы висеть шедевры. В середине зала - диваны, на которых можно отдохнуть и поразмыслить о том, кто мог бы занять почетные места в музее будущего, которые еще пустуют. И этим отдыхом пренебрегать не стоит, ведь впереди ждет еще длинный путь. Отдельный зал отведен под живописные полотна Кабакова, созданные уже в 2000-х годах. Они образуют несколько серий, объединенных идеей смешения разных эпох в голове человека родом из советских времен. Серии \"Появление коллажа\" и \"Два времени\" сталкивают штампы искусства соцреализма с античными образами и классическим искусством. На полотне из серии \"Под снегом\" воспоминания о советской жизни заметаются пеленой, словно осознанно подавляются, и лишь через проталины можно разглядеть разрозненные сюжеты. Живописные работы становятся не самоценными произведениями искусства, а составляющей художественного языка Кабакова, а их серийность позволяет варьировать сюжеты, чтобы донести те или иные мысли до зрителя. В зале с макетами инсталляций самый откровенный сюжет представлен под названием \"Туалет\". В узнаваемую обстановку общественного туалета здесь вписан обычный домашний быт - человек оказывается в стесненных и негуманных условиях. И фантазия эта, как ни ужасно, имеет под собой почву: мать художника действительно была вынуждена какое-то время жить в закрытой уборной. Из зала с живописными работами через боковую дверь можно попасть к следующему арт-объекту. Инсталляция \"Лабиринт. Альбом моей матери\" (1990 год) - длинное и трудное путешествие по воспоминаниям матери Ильи Кабакова Берты Юрьевны. Она написала рассказ о себе по просьбе сына, когда ей было 83 года. Эта инсталляция - бесконечный коридор коммунальной квартиры с многочисленными поворотами, где за углом ждет не выход, не надежда на светлое будущее, а лишь очередной поворот. Так и в рассказе Берты Юрьевны, разделенном на 76 листов машинописного текста, за каждой новой потерей, каждым выселением и увольнением следуют лишь новые лишения. Да и помочь ей было почти некому, и даже мужу не было дела до ее судьбы. Отрывки истории женщины развешаны на фоне листов советских розовых обоев с орнаментом, отдаленно напоминающим цветочный, по соседству - фотографии, сделанные дядей художника. А над историей мытарств льется голос самого Кабакова, который на записи самозабвенно поет русские романсы. На выходе из коридора - последний зал с недвусмысленным названием \"Как встретить ангела\". Здесь-то белые человечки встают в полный рост, выступают спасителями, которые могут выручить в кризисные моменты жизни. И художники Кабаковы предлагают способ привлечь внимание ангелов - возвести высокую лестницу, на вершине которой, открытый всем ветрам, человек окажется в той ситуации, когда спасители не смогут остаться равнодушными. Выставка Кабаковых повествует о тяжелой жизни мечтающего и думающего человека в условиях \"коммуналки\", тесного общества с четкими, уравнивающими установками, в которые вписываться может быть невыносимо. Повествование это добродушное, зрители приглашаются в своеобразную игру, с которой долгое время не расстаешься, даже выйдя из галереи. Вот, например, рабочие собирают каркас для новогодней елки, а кажется, что это та самая лестница, ведущая к встрече со спасительными белыми человечками. Выставка работает до 13 января. На время праздничных выходных режим работы Третьяковской галереи на Крымском валу изменится, поэтому перед поездкой стоит проверить информацию на сайте музея.',\n",
       "          [Span(27, 38, 'ORG'),\n",
       "           Span(122, 128, 'LOC'),\n",
       "           Span(140, 151, 'ORG'),\n",
       "           Span(185, 198, 'PER'),\n",
       "           Span(252, 269, 'PER'),\n",
       "           Span(282, 303, 'ORG'),\n",
       "           Span(307, 320, 'LOC'),\n",
       "           Span(387, 393, 'LOC'),\n",
       "           Span(483, 494, 'ORG'),\n",
       "           Span(498, 505, 'LOC'),\n",
       "           Span(524, 532, 'ORG'),\n",
       "           Span(600, 611, 'ORG'),\n",
       "           Span(636, 645, 'PER'),\n",
       "           Span(728, 749, 'ORG'),\n",
       "           Span(1127, 1134, 'PER'),\n",
       "           Span(1340, 1347, 'PER'),\n",
       "           Span(1981, 1988, 'PER'),\n",
       "           Span(2971, 2976, 'LOC'),\n",
       "           Span(3729, 3737, 'PER'),\n",
       "           Span(4254, 4258, 'PER'),\n",
       "           Span(4601, 4609, 'PER'),\n",
       "           Span(5168, 5176, 'PER'),\n",
       "           Span(5835, 5848, 'PER'),\n",
       "           Span(5849, 5862, 'PER'),\n",
       "           Span(6124, 6137, 'PER'),\n",
       "           Span(6563, 6571, 'PER'),\n",
       "           Span(6848, 6856, 'PER'),\n",
       "           Span(7063, 7072, 'PER'),\n",
       "           Span(7620, 7641, 'ORG'),\n",
       "           Span(7645, 7658, 'LOC')])"
      ]
     },
     "metadata": {},
     "output_type": "display_data"
    },
    {
     "name": "stdout",
     "output_type": "stream",
     "text": [
      "[(0, 6, 'LOC'), (18, 29, 'ORG'), (114, 127, 'LOC'), (157, 166, 'ORG'), (205, 208, 'ORG'), (261, 274, 'LOC'), (398, 410, 'LOC'), (670, 688, 'ORG'), (689, 692, 'ORG'), (693, 699, 'LOC'), (703, 722, 'LOC'), (811, 830, 'LOC')]\n"
     ]
    },
    {
     "data": {
      "text/html": [
       "<div class=\"tex2jax_ignore\" style=\"white-space: pre-wrap\"><span style=\"padding: 2px; border-radius: 4px; border: 1px solid #c8e6c9; background: #e8f5e9\">Москва<span style=\"vertical-align: middle; margin-left: 2px; font-size: 0.7em; color: #66bb6a;\">LOC</span></span>. 2 января. <span style=\"padding: 2px; border-radius: 4px; border: 1px solid #ffcdd2; background: #ffebee\">INTERFAX.RU<span style=\"vertical-align: middle; margin-left: 2px; font-size: 0.7em; color: #e57373;\">ORG</span></span> - Тело 14 погибшего извлечено из-под завалов обрушившегося после взрыва газа дома в <span style=\"padding: 2px; border-radius: 4px; border: 1px solid #c8e6c9; background: #e8f5e9\">Магнитогорске<span style=\"vertical-align: middle; margin-left: 2px; font-size: 0.7em; color: #66bb6a;\">LOC</span></span>, сообщили в среду агентству \"<span style=\"padding: 2px; border-radius: 4px; border: 1px solid #ffcdd2; background: #ffebee\">Интерфакс<span style=\"vertical-align: middle; margin-left: 2px; font-size: 0.7em; color: #e57373;\">ORG</span></span>\" в пресс-службе областного управления <span style=\"padding: 2px; border-radius: 4px; border: 1px solid #ffcdd2; background: #ffebee\">МЧС<span style=\"vertical-align: middle; margin-left: 2px; font-size: 0.7em; color: #e57373;\">ORG</span></span>. Ранее сообщалось о 13 погибших. Утром 31 декабря в <span style=\"padding: 2px; border-radius: 4px; border: 1px solid #c8e6c9; background: #e8f5e9\">Магнитогорске<span style=\"vertical-align: middle; margin-left: 2px; font-size: 0.7em; color: #66bb6a;\">LOC</span></span> произошло обрушение одного из подъездов в десятиэтажном 12-подъездном панельном доме 1973 год постройки по адресу проспект <span style=\"padding: 2px; border-radius: 4px; border: 1px solid #c8e6c9; background: #e8f5e9\">Карла Маркса<span style=\"vertical-align: middle; margin-left: 2px; font-size: 0.7em; color: #66bb6a;\">LOC</span></span>, 164. Утром 1 января спасателям пришлось демонтировать стену подъезда, где взорвался газ, из-за угрозы ее обрушения. После этого они продолжили разбор завалов внизу, где все еще могут находиться люди. Под завалы подают тепло специальными тепловыми пушками. В <span style=\"padding: 2px; border-radius: 4px; border: 1px solid #ffcdd2; background: #ffebee\">Главном управлении<span style=\"vertical-align: middle; margin-left: 2px; font-size: 0.7em; color: #e57373;\">ORG</span></span> <span style=\"padding: 2px; border-radius: 4px; border: 1px solid #ffcdd2; background: #ffebee\">МЧС<span style=\"vertical-align: middle; margin-left: 2px; font-size: 0.7em; color: #e57373;\">ORG</span></span> <span style=\"padding: 2px; border-radius: 4px; border: 1px solid #c8e6c9; background: #e8f5e9\">России<span style=\"vertical-align: middle; margin-left: 2px; font-size: 0.7em; color: #66bb6a;\">LOC</span></span> по <span style=\"padding: 2px; border-radius: 4px; border: 1px solid #c8e6c9; background: #e8f5e9\">Челябинской области<span style=\"vertical-align: middle; margin-left: 2px; font-size: 0.7em; color: #66bb6a;\">LOC</span></span> продолжает действовать телефон \"горячей линии\" (8-351-239-99-99). В связи с трагедией в <span style=\"padding: 2px; border-radius: 4px; border: 1px solid #c8e6c9; background: #e8f5e9\">Челябинской области<span style=\"vertical-align: middle; margin-left: 2px; font-size: 0.7em; color: #66bb6a;\">LOC</span></span> 2 января объявлен траур . Возбуждено уголовное дело по статье о причинении смерти по неосторожности. Приоритетная версия следствия - взрыв бытового газа.</div>"
      ],
      "text/plain": [
       "BoxMarkup('Москва. 2 января. INTERFAX.RU - Тело 14 погибшего извлечено из-под завалов обрушившегося после взрыва газа дома в Магнитогорске, сообщили в среду агентству \"Интерфакс\" в пресс-службе областного управления МЧС. Ранее сообщалось о 13 погибших. Утром 31 декабря в Магнитогорске произошло обрушение одного из подъездов в десятиэтажном 12-подъездном панельном доме 1973 год постройки по адресу проспект Карла Маркса, 164. Утром 1 января спасателям пришлось демонтировать стену подъезда, где взорвался газ, из-за угрозы ее обрушения. После этого они продолжили разбор завалов внизу, где все еще могут находиться люди. Под завалы подают тепло специальными тепловыми пушками. В Главном управлении МЧС России по Челябинской области продолжает действовать телефон \"горячей линии\" (8-351-239-99-99). В связи с трагедией в Челябинской области 2 января объявлен траур . Возбуждено уголовное дело по статье о причинении смерти по неосторожности. Приоритетная версия следствия - взрыв бытового газа.',\n",
       "          [Span(0, 6, 'LOC'),\n",
       "           Span(18, 29, 'ORG'),\n",
       "           Span(114, 127, 'LOC'),\n",
       "           Span(157, 166, 'ORG'),\n",
       "           Span(205, 208, 'ORG'),\n",
       "           Span(261, 274, 'LOC'),\n",
       "           Span(398, 410, 'LOC'),\n",
       "           Span(670, 688, 'ORG'),\n",
       "           Span(689, 692, 'ORG'),\n",
       "           Span(693, 699, 'LOC'),\n",
       "           Span(703, 722, 'LOC'),\n",
       "           Span(811, 830, 'LOC')])"
      ]
     },
     "metadata": {},
     "output_type": "display_data"
    },
    {
     "name": "stdout",
     "output_type": "stream",
     "text": [
      "[(0, 6, 'LOC'), (18, 29, 'ORG'), (38, 60, 'ORG'), (61, 80, 'PER'), (129, 142, 'LOC'), (519, 528, 'PER'), (563, 577, 'ORG'), (606, 619, 'LOC'), (732, 744, 'LOC'), (795, 798, 'ORG')]\n"
     ]
    },
    {
     "data": {
      "text/html": [
       "<div class=\"tex2jax_ignore\" style=\"white-space: pre-wrap\"><span style=\"padding: 2px; border-radius: 4px; border: 1px solid #c8e6c9; background: #e8f5e9\">Москва<span style=\"vertical-align: middle; margin-left: 2px; font-size: 0.7em; color: #66bb6a;\">LOC</span></span>. 2 января. <span style=\"padding: 2px; border-radius: 4px; border: 1px solid #ffcdd2; background: #ffebee\">INTERFAX.RU<span style=\"vertical-align: middle; margin-left: 2px; font-size: 0.7em; color: #e57373;\">ORG</span></span> - Глава <span style=\"padding: 2px; border-radius: 4px; border: 1px solid #ffcdd2; background: #ffebee\">Следственного комитета<span style=\"vertical-align: middle; margin-left: 2px; font-size: 0.7em; color: #e57373;\">ORG</span></span> <span style=\"padding: 2px; border-radius: 4px; border: 1px solid #bbdefb; background: #e3f2fd\">Александр Бастрыкин<span style=\"vertical-align: middle; margin-left: 2px; font-size: 0.7em; color: #64b5f6;\">PER</span></span> заявил, что газовое оборудование в жилом доме в <span style=\"padding: 2px; border-radius: 4px; border: 1px solid #c8e6c9; background: #e8f5e9\">Магнитогорске<span style=\"vertical-align: middle; margin-left: 2px; font-size: 0.7em; color: #66bb6a;\">LOC</span></span>, в котором произошло обрушение 31 декабря, не проверялось более полугода. \"Вы знаете, как в целом в стране у нас обстоят дела с газовым оборудованием. Оно старое, оно нуждается часто в ремонте. Вот сам факт: с мая месяца никто больше не заходил, и то не все квартиры в этом доме исследовали. Что, и потом нельзя зайти было? Ладно, летом в отпусках люди. А потом-то?\" - заявил <span style=\"padding: 2px; border-radius: 4px; border: 1px solid #bbdefb; background: #e3f2fd\">Бастрыкин<span style=\"vertical-align: middle; margin-left: 2px; font-size: 0.7em; color: #64b5f6;\">PER</span></span> в ходе телесюжета, показанного по <span style=\"padding: 2px; border-radius: 4px; border: 1px solid #ffcdd2; background: #ffebee\">Первому каналу<span style=\"vertical-align: middle; margin-left: 2px; font-size: 0.7em; color: #e57373;\">ORG</span></span> в среду. Утром 31 декабря в <span style=\"padding: 2px; border-radius: 4px; border: 1px solid #c8e6c9; background: #e8f5e9\">Магнитогорске<span style=\"vertical-align: middle; margin-left: 2px; font-size: 0.7em; color: #66bb6a;\">LOC</span></span> в результате взрыва газа произошло обрушение одного из подъездов панельного десятиэтажного жилого дома по улице <span style=\"padding: 2px; border-radius: 4px; border: 1px solid #c8e6c9; background: #e8f5e9\">Карла Маркса<span style=\"vertical-align: middle; margin-left: 2px; font-size: 0.7em; color: #66bb6a;\">LOC</span></span>, 1973 года постройки. На данный момент, по данным <span style=\"padding: 2px; border-radius: 4px; border: 1px solid #ffcdd2; background: #ffebee\">МЧС<span style=\"vertical-align: middle; margin-left: 2px; font-size: 0.7em; color: #e57373;\">ORG</span></span>, из-под завалов извлечены тела 14 погибших . По-прежнему неизвестна судьба 27 человек.</div>"
      ],
      "text/plain": [
       "BoxMarkup('Москва. 2 января. INTERFAX.RU - Глава Следственного комитета Александр Бастрыкин заявил, что газовое оборудование в жилом доме в Магнитогорске, в котором произошло обрушение 31 декабря, не проверялось более полугода. \"Вы знаете, как в целом в стране у нас обстоят дела с газовым оборудованием. Оно старое, оно нуждается часто в ремонте. Вот сам факт: с мая месяца никто больше не заходил, и то не все квартиры в этом доме исследовали. Что, и потом нельзя зайти было? Ладно, летом в отпусках люди. А потом-то?\" - заявил Бастрыкин в ходе телесюжета, показанного по Первому каналу в среду. Утром 31 декабря в Магнитогорске в результате взрыва газа произошло обрушение одного из подъездов панельного десятиэтажного жилого дома по улице Карла Маркса, 1973 года постройки. На данный момент, по данным МЧС, из-под завалов извлечены тела 14 погибших . По-прежнему неизвестна судьба 27 человек.',\n",
       "          [Span(0, 6, 'LOC'),\n",
       "           Span(18, 29, 'ORG'),\n",
       "           Span(38, 60, 'ORG'),\n",
       "           Span(61, 80, 'PER'),\n",
       "           Span(129, 142, 'LOC'),\n",
       "           Span(519, 528, 'PER'),\n",
       "           Span(563, 577, 'ORG'),\n",
       "           Span(606, 619, 'LOC'),\n",
       "           Span(732, 744, 'LOC'),\n",
       "           Span(795, 798, 'ORG')])"
      ]
     },
     "metadata": {},
     "output_type": "display_data"
    }
   ],
   "source": [
    "from purano.proto.info_pb2 import EntitySpan as EntitySpanPb\n",
    "from ipymarkup import show_box_markup\n",
    "from ipymarkup.palette import palette, BLUE, RED, GREEN\n",
    "\n",
    "\n",
    "for doc in query.limit(100):\n",
    "    spans = [(span.begin, span.end, EntitySpanPb.Tag.Name(span.tag)) for span in doc.info.get_info().text_dp_ner]\n",
    "    print(spans)\n",
    "    show_box_markup(doc.text, spans, palette=palette(PER=BLUE, ORG=RED, LOC=GREEN))"
   ]
  },
  {
   "cell_type": "code",
   "execution_count": null,
   "metadata": {},
   "outputs": [],
   "source": []
  }
 ],
 "metadata": {
  "kernelspec": {
   "display_name": "Python 3",
   "language": "python",
   "name": "python3"
  },
  "language_info": {
   "codemirror_mode": {
    "name": "ipython",
    "version": 3
   },
   "file_extension": ".py",
   "mimetype": "text/x-python",
   "name": "python",
   "nbconvert_exporter": "python",
   "pygments_lexer": "ipython3",
   "version": "3.6.9"
  }
 },
 "nbformat": 4,
 "nbformat_minor": 2
}
